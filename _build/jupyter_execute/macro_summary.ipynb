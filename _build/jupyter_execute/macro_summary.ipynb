{
 "cells": [
  {
   "cell_type": "code",
   "execution_count": 1,
   "id": "32bcdb7d-96d5-47f5-a77a-139bafcc6a7d",
   "metadata": {
    "tags": [
     "remove-input"
    ]
   },
   "outputs": [],
   "source": [
    "%load_ext watermark\n",
    "import numpy as np\n",
    "import pandas as pd\n",
    "import datetime as dt\n",
    "import matplotlib.pyplot as plt\n",
    "import seaborn as sns\n",
    "from myst_nb import glue\n",
    "from slugify import slugify\n",
    "\n",
    "from plastockmethods import name_the_zones, name_the_particles, frequentation_name, situation_name\n",
    "from plastockmethods import particle_groups, name_the_substrate, name_the_distance, table_css_styles\n",
    "\n",
    "def translate_describe(x, value_column):\n",
    "    described = x.to_dict()\n",
    "    described.pop(\"count\")\n",
    "    described[\"moyenne\"] = described.pop(\"mean\")\n",
    "    described[\"écart-type\"] = described.pop(\"std\")\n",
    "    df = pd.DataFrame(described.items())\n",
    "    df.set_index(0, inplace=True)\n",
    "    df.rename(columns={1:value_column}, inplace=True)\n",
    "    df.index.name = None\n",
    "    \n",
    "    \n",
    "    return df\n",
    "format_kwargs = dict(precision=2, thousands=\"'\", decimal=\",\")\n",
    "def add_table_to_page(table, table_no, caption, section, page, rule: bool = False):\n",
    "    \n",
    "    rules = 'Les éléments dont la moyenne des résultats est supérieure à la moyenne du projet sont en rouge.'\n",
    "    \n",
    "    if rule:\n",
    "        caption = f'Table {section}{page}-{table_no}: {caption} {rules}'\n",
    "    else:\n",
    "        caption = f'Table {section}{page}-{table_no}: {caption}'\n",
    "    \n",
    "    table = table.format_index(str.title, axis=1).format_index(str.title, axis=0).format(**format_kwargs)\n",
    "    return table.set_caption(caption)\n",
    "glue('blank_caption', \" \", display=False)\n",
    "\n",
    "new_data = pd.read_csv(\"data/macro_current.csv\")\n",
    "beach_data = pd.read_csv(\"data/pstock_beaches_current.csv\")"
   ]
  },
  {
   "cell_type": "code",
   "execution_count": 2,
   "id": "801382a8-e6a0-4011-9334-e1b6ab3492f0",
   "metadata": {
    "tags": [
     "remove-input"
    ]
   },
   "outputs": [],
   "source": [
    "new_data = pd.read_csv(\"data/macro_current.csv\")\n",
    "beach_data = pd.read_csv(\"data/pstock_beaches_current.csv\")\n",
    "\n",
    "new_column_names = {\n",
    "    \"Position\":\"position\",\n",
    "    \"Substrat\":\"substrat\",\n",
    "    \"Date\":\"date\",\n",
    "    \"Code\":\"code\",\n",
    "    \"Quantité\":\"quantite\",\n",
    "    \"Aire\":\"area\"\n",
    "}\n",
    "\n",
    "length_key = beach_data[[\"Plage\",\"length\"]].drop_duplicates(\"Plage\").set_index(\"Plage\")\n",
    "work_data = new_data[[\"Plage\", *new_column_names.keys()]].copy()\n",
    "work_data.rename(columns=new_column_names, inplace=True)\n",
    "work_data[\"length\"] = work_data.Plage.apply(lambda x: length_key.loc[x, \"length\"])\n",
    "work_data[\"slug\"] = work_data.Plage.apply(lambda x: slugify(x))\n",
    "work_data[\"echantillon\"] = list(zip(work_data.slug, work_data['date']))\n",
    "work_data['date'] = pd.to_datetime(work_data[\"date\"], format=\"mixed\", dayfirst=True)\n",
    "work_data.dropna(inplace=True)\n",
    "work_data[[\"position\", \"substrat\"]] = work_data[[\"position\", \"substrat\"]].astype(\"int\")\n",
    "event_total = work_data.groupby([\"echantillon\", \"Plage\", \"date\", \"position\", \"area\"], as_index=False).quantite.sum()\n",
    "event_total[\"pcs/m²\"] = event_total.quantite/event_total.area"
   ]
  },
  {
   "cell_type": "markdown",
   "id": "64f4b56e-a28f-451b-848e-9a16e4646c59",
   "metadata": {},
   "source": [
    "# Macro déchets plage et position\n",
    "\n",
    "__Résultats agrégés par objet, position et échantillon__"
   ]
  },
  {
   "cell_type": "code",
   "execution_count": 3,
   "id": "704ed296-9bb8-4add-afb4-54be2c91dc6f",
   "metadata": {
    "tags": [
     "remove-input"
    ]
   },
   "outputs": [
    {
     "data": {
      "text/html": [
       "<style type=\"text/css\">\n",
       "#T_13bf8 tr:nth-child(even) {\n",
       "  background-color: rgba(139, 69, 19, 0.08);\n",
       "}\n",
       "#T_13bf8 tr:nth-child(odd) {\n",
       "  background: #FFF;\n",
       "}\n",
       "#T_13bf8 tr {\n",
       "  font-size: 14px;\n",
       "  padding: 10px;\n",
       "}\n",
       "#T_13bf8 th:nth-child(1) {\n",
       "  background-color: #FFF;\n",
       "}\n",
       "#T_13bf8 caption {\n",
       "  caption-side: bottom;\n",
       "  font-size: 16px;\n",
       "  text-align: left;\n",
       "  margin-top: 15px;\n",
       "}\n",
       "</style>\n",
       "<table id=\"T_13bf8\">\n",
       "  <caption>Table A3-1: Les données sont regroupées en deux groupes par échantillon: ligne-d'eau, plage-seche, tous objéts compris.</caption>\n",
       "  <thead>\n",
       "    <tr>\n",
       "      <th class=\"blank level0\" >&nbsp;</th>\n",
       "      <th id=\"T_13bf8_level0_col0\" class=\"col_heading level0 col0\" >Plage</th>\n",
       "      <th id=\"T_13bf8_level0_col1\" class=\"col_heading level0 col1\" >Position</th>\n",
       "      <th id=\"T_13bf8_level0_col2\" class=\"col_heading level0 col2\" >Quantite</th>\n",
       "      <th id=\"T_13bf8_level0_col3\" class=\"col_heading level0 col3\" >Echantillon</th>\n",
       "    </tr>\n",
       "  </thead>\n",
       "  <tbody>\n",
       "    <tr>\n",
       "      <th id=\"T_13bf8_level0_row0\" class=\"row_heading level0 row0\" >G24</th>\n",
       "      <td id=\"T_13bf8_row0_col0\" class=\"data row0 col0\" >Amphion</td>\n",
       "      <td id=\"T_13bf8_row0_col1\" class=\"data row0 col1\" >1</td>\n",
       "      <td id=\"T_13bf8_row0_col2\" class=\"data row0 col2\" >2</td>\n",
       "      <td id=\"T_13bf8_row0_col3\" class=\"data row0 col3\" >('amphion', '01.02.2022')</td>\n",
       "    </tr>\n",
       "    <tr>\n",
       "      <th id=\"T_13bf8_level0_row1\" class=\"row_heading level0 row1\" >G24</th>\n",
       "      <td id=\"T_13bf8_row1_col0\" class=\"data row1 col0\" >Amphion</td>\n",
       "      <td id=\"T_13bf8_row1_col1\" class=\"data row1 col1\" >2</td>\n",
       "      <td id=\"T_13bf8_row1_col2\" class=\"data row1 col2\" >42</td>\n",
       "      <td id=\"T_13bf8_row1_col3\" class=\"data row1 col3\" >('amphion', '01.02.2022')</td>\n",
       "    </tr>\n",
       "    <tr>\n",
       "      <th id=\"T_13bf8_level0_row2\" class=\"row_heading level0 row2\" >G66</th>\n",
       "      <td id=\"T_13bf8_row2_col0\" class=\"data row2 col0\" >Amphion</td>\n",
       "      <td id=\"T_13bf8_row2_col1\" class=\"data row2 col1\" >2</td>\n",
       "      <td id=\"T_13bf8_row2_col2\" class=\"data row2 col2\" >7</td>\n",
       "      <td id=\"T_13bf8_row2_col3\" class=\"data row2 col3\" >('amphion', '01.02.2022')</td>\n",
       "    </tr>\n",
       "    <tr>\n",
       "      <th id=\"T_13bf8_level0_row3\" class=\"row_heading level0 row3\" >G131</th>\n",
       "      <td id=\"T_13bf8_row3_col0\" class=\"data row3 col0\" >Amphion</td>\n",
       "      <td id=\"T_13bf8_row3_col1\" class=\"data row3 col1\" >2</td>\n",
       "      <td id=\"T_13bf8_row3_col2\" class=\"data row3 col2\" >1</td>\n",
       "      <td id=\"T_13bf8_row3_col3\" class=\"data row3 col3\" >('amphion', '01.02.2022')</td>\n",
       "    </tr>\n",
       "    <tr>\n",
       "      <th id=\"T_13bf8_level0_row4\" class=\"row_heading level0 row4\" >G31</th>\n",
       "      <td id=\"T_13bf8_row4_col0\" class=\"data row4 col0\" >Amphion</td>\n",
       "      <td id=\"T_13bf8_row4_col1\" class=\"data row4 col1\" >1</td>\n",
       "      <td id=\"T_13bf8_row4_col2\" class=\"data row4 col2\" >2</td>\n",
       "      <td id=\"T_13bf8_row4_col3\" class=\"data row4 col3\" >('amphion', '01.02.2022')</td>\n",
       "    </tr>\n",
       "  </tbody>\n",
       "</table>\n"
      ],
      "text/plain": [
       "<pandas.io.formats.style.Styler at 0x7fdac81ed760>"
      ]
     },
     "metadata": {
      "scrapbook": {
       "mime_prefix": "",
       "name": "a3tablone"
      }
     },
     "output_type": "display_data"
    }
   ],
   "source": [
    "caption = \"Les données sont regroupées en deux groupes par échantillon: ligne-d'eau, plage-seche, tous objéts compris.\"\n",
    "\n",
    "columns=[\"Plage\", \"position\", \"code\", \"quantite\", \"echantillon\"]\n",
    "\n",
    "table_one = work_data[columns][work_data.echantillon == (\"amphion\", \"01.02.2022\")].head()\n",
    "table_one.set_index('code', drop=True, inplace=True)\n",
    "table_one.index.name = None\n",
    "t_one = table_one.style.set_table_styles(table_css_styles)\n",
    "\n",
    "table_no = 1\n",
    "section = 'A'\n",
    "page = 3\n",
    "\n",
    "table_one = add_table_to_page(t_one, table_no, caption, section, page)\n",
    "glue('a3tablone', table_one, display=True)"
   ]
  },
  {
   "cell_type": "markdown",
   "id": "b06bd88f-128a-4756-83c4-f1a445a5ffc1",
   "metadata": {},
   "source": [
    "## Nombre cumulé d'échantillons et particules par plage"
   ]
  },
  {
   "cell_type": "code",
   "execution_count": 4,
   "id": "836bd80d-dff1-4591-9d3f-d6dfdaac6d03",
   "metadata": {
    "tags": [
     "remove-input"
    ]
   },
   "outputs": [],
   "source": [
    "sample_totals = event_total.groupby([\"echantillon\", \"date\", \"Plage\"], as_index=False)[\"pcs/m²\"].sum()\n",
    "df2 = sample_totals.copy()\n",
    "value_column = \"moyenne\"\n",
    "\n",
    "sample_averages = df2.groupby(\"Plage\", as_index=False).agg({\"echantillon\": \"nunique\", \"pcs/m²\":\"mean\"})\n",
    "average_of_sample_totals = df2[\"pcs/m²\"].mean()\n",
    "sample_averages.rename(columns={\"pcs/m²\":value_column}, inplace=True)\n",
    "sample_averages.set_index(\"Plage\", inplace=True, drop=True)\n",
    "sample_averages.index.name = None"
   ]
  },
  {
   "cell_type": "code",
   "execution_count": 5,
   "id": "9a583491-cc06-49f8-9398-9c30bbd67308",
   "metadata": {
    "tags": [
     "remove-input"
    ]
   },
   "outputs": [
    {
     "data": {
      "text/html": [
       "<style type=\"text/css\">\n",
       "#T_7f9d7 tr:nth-child(even) {\n",
       "  background-color: rgba(139, 69, 19, 0.08);\n",
       "}\n",
       "#T_7f9d7 tr:nth-child(odd) {\n",
       "  background: #FFF;\n",
       "}\n",
       "#T_7f9d7 tr {\n",
       "  font-size: 14px;\n",
       "  padding: 10px;\n",
       "}\n",
       "#T_7f9d7 th:nth-child(1) {\n",
       "  background-color: #FFF;\n",
       "}\n",
       "#T_7f9d7 caption {\n",
       "  caption-side: bottom;\n",
       "  font-size: 16px;\n",
       "  text-align: left;\n",
       "  margin-top: 15px;\n",
       "}\n",
       "#T_7f9d7_row0_col2, #T_7f9d7_row0_col3, #T_7f9d7_row3_col2, #T_7f9d7_row3_col3, #T_7f9d7_row4_col2, #T_7f9d7_row4_col3, #T_7f9d7_row8_col2, #T_7f9d7_row8_col3, #T_7f9d7_row10_col2, #T_7f9d7_row10_col3, #T_7f9d7_row16_col2, #T_7f9d7_row16_col3, #T_7f9d7_row17_col2, #T_7f9d7_row17_col3, #T_7f9d7_row18_col2, #T_7f9d7_row18_col3, #T_7f9d7_row19_col2, #T_7f9d7_row19_col3, #T_7f9d7_row24_col2, #T_7f9d7_row24_col3 {\n",
       "  color: red;\n",
       "}\n",
       "#T_7f9d7_row0_col4, #T_7f9d7_row4_col4, #T_7f9d7_row5_col4, #T_7f9d7_row8_col4, #T_7f9d7_row9_col4, #T_7f9d7_row10_col4, #T_7f9d7_row12_col4, #T_7f9d7_row13_col4, #T_7f9d7_row19_col4, #T_7f9d7_row24_col4 {\n",
       "  color: dodgerblue;\n",
       "}\n",
       "</style>\n",
       "<table id=\"T_7f9d7\">\n",
       "  <caption>Table A3-2: Nombre cumulé d'échantillons et le total par plage. Les plages où le proportion du comptage est supérieur au proportion des échantillons sont en rouge. Les plages dont la moyenne des résultats est supérieure à la moyenne du projet sont en BLEU.</caption>\n",
       "  <thead>\n",
       "    <tr>\n",
       "      <th class=\"blank level0\" >&nbsp;</th>\n",
       "      <th id=\"T_7f9d7_level0_col0\" class=\"col_heading level0 col0\" >Echantillon</th>\n",
       "      <th id=\"T_7f9d7_level0_col1\" class=\"col_heading level0 col1\" >Quantite</th>\n",
       "      <th id=\"T_7f9d7_level0_col2\" class=\"col_heading level0 col2\" >% Echantillon</th>\n",
       "      <th id=\"T_7f9d7_level0_col3\" class=\"col_heading level0 col3\" >% Quantité</th>\n",
       "      <th id=\"T_7f9d7_level0_col4\" class=\"col_heading level0 col4\" >Moyenne</th>\n",
       "    </tr>\n",
       "  </thead>\n",
       "  <tbody>\n",
       "    <tr>\n",
       "      <th id=\"T_7f9d7_level0_row0\" class=\"row_heading level0 row0\" >Amphion</th>\n",
       "      <td id=\"T_7f9d7_row0_col0\" class=\"data row0 col0\" >4</td>\n",
       "      <td id=\"T_7f9d7_row0_col1\" class=\"data row0 col1\" >2'459</td>\n",
       "      <td id=\"T_7f9d7_row0_col2\" class=\"data row0 col2\" >0,04</td>\n",
       "      <td id=\"T_7f9d7_row0_col3\" class=\"data row0 col3\" >0,09</td>\n",
       "      <td id=\"T_7f9d7_row0_col4\" class=\"data row0 col4\" >2,56</td>\n",
       "    </tr>\n",
       "    <tr>\n",
       "      <th id=\"T_7f9d7_level0_row1\" class=\"row_heading level0 row1\" >Anthy</th>\n",
       "      <td id=\"T_7f9d7_row1_col0\" class=\"data row1 col0\" >4</td>\n",
       "      <td id=\"T_7f9d7_row1_col1\" class=\"data row1 col1\" >149</td>\n",
       "      <td id=\"T_7f9d7_row1_col2\" class=\"data row1 col2\" >0,04</td>\n",
       "      <td id=\"T_7f9d7_row1_col3\" class=\"data row1 col3\" >0,01</td>\n",
       "      <td id=\"T_7f9d7_row1_col4\" class=\"data row1 col4\" >0,32</td>\n",
       "    </tr>\n",
       "    <tr>\n",
       "      <th id=\"T_7f9d7_level0_row2\" class=\"row_heading level0 row2\" >Aubonne</th>\n",
       "      <td id=\"T_7f9d7_row2_col0\" class=\"data row2 col0\" >4</td>\n",
       "      <td id=\"T_7f9d7_row2_col1\" class=\"data row2 col1\" >193</td>\n",
       "      <td id=\"T_7f9d7_row2_col2\" class=\"data row2 col2\" >0,04</td>\n",
       "      <td id=\"T_7f9d7_row2_col3\" class=\"data row2 col3\" >0,01</td>\n",
       "      <td id=\"T_7f9d7_row2_col4\" class=\"data row2 col4\" >0,34</td>\n",
       "    </tr>\n",
       "    <tr>\n",
       "      <th id=\"T_7f9d7_level0_row3\" class=\"row_heading level0 row3\" >Baby Plage</th>\n",
       "      <td id=\"T_7f9d7_row3_col0\" class=\"data row3 col0\" >4</td>\n",
       "      <td id=\"T_7f9d7_row3_col1\" class=\"data row3 col1\" >1'179</td>\n",
       "      <td id=\"T_7f9d7_row3_col2\" class=\"data row3 col2\" >0,04</td>\n",
       "      <td id=\"T_7f9d7_row3_col3\" class=\"data row3 col3\" >0,04</td>\n",
       "      <td id=\"T_7f9d7_row3_col4\" class=\"data row3 col4\" >1,05</td>\n",
       "    </tr>\n",
       "    <tr>\n",
       "      <th id=\"T_7f9d7_level0_row4\" class=\"row_heading level0 row4\" >Bouveret</th>\n",
       "      <td id=\"T_7f9d7_row4_col0\" class=\"data row4 col0\" >4</td>\n",
       "      <td id=\"T_7f9d7_row4_col1\" class=\"data row4 col1\" >3'286</td>\n",
       "      <td id=\"T_7f9d7_row4_col2\" class=\"data row4 col2\" >0,04</td>\n",
       "      <td id=\"T_7f9d7_row4_col3\" class=\"data row4 col3\" >0,12</td>\n",
       "      <td id=\"T_7f9d7_row4_col4\" class=\"data row4 col4\" >4,77</td>\n",
       "    </tr>\n",
       "    <tr>\n",
       "      <th id=\"T_7f9d7_level0_row5\" class=\"row_heading level0 row5\" >Clarens</th>\n",
       "      <td id=\"T_7f9d7_row5_col0\" class=\"data row5 col0\" >4</td>\n",
       "      <td id=\"T_7f9d7_row5_col1\" class=\"data row5 col1\" >1'128</td>\n",
       "      <td id=\"T_7f9d7_row5_col2\" class=\"data row5 col2\" >0,04</td>\n",
       "      <td id=\"T_7f9d7_row5_col3\" class=\"data row5 col3\" >0,04</td>\n",
       "      <td id=\"T_7f9d7_row5_col4\" class=\"data row5 col4\" >1,85</td>\n",
       "    </tr>\n",
       "    <tr>\n",
       "      <th id=\"T_7f9d7_level0_row6\" class=\"row_heading level0 row6\" >Crans</th>\n",
       "      <td id=\"T_7f9d7_row6_col0\" class=\"data row6 col0\" >3</td>\n",
       "      <td id=\"T_7f9d7_row6_col1\" class=\"data row6 col1\" >21</td>\n",
       "      <td id=\"T_7f9d7_row6_col2\" class=\"data row6 col2\" >0,03</td>\n",
       "      <td id=\"T_7f9d7_row6_col3\" class=\"data row6 col3\" >0,00</td>\n",
       "      <td id=\"T_7f9d7_row6_col4\" class=\"data row6 col4\" >0,44</td>\n",
       "    </tr>\n",
       "    <tr>\n",
       "      <th id=\"T_7f9d7_level0_row7\" class=\"row_heading level0 row7\" >Cully</th>\n",
       "      <td id=\"T_7f9d7_row7_col0\" class=\"data row7 col0\" >4</td>\n",
       "      <td id=\"T_7f9d7_row7_col1\" class=\"data row7 col1\" >48</td>\n",
       "      <td id=\"T_7f9d7_row7_col2\" class=\"data row7 col2\" >0,04</td>\n",
       "      <td id=\"T_7f9d7_row7_col3\" class=\"data row7 col3\" >0,00</td>\n",
       "      <td id=\"T_7f9d7_row7_col4\" class=\"data row7 col4\" >0,34</td>\n",
       "    </tr>\n",
       "    <tr>\n",
       "      <th id=\"T_7f9d7_level0_row8\" class=\"row_heading level0 row8\" >Excenevex</th>\n",
       "      <td id=\"T_7f9d7_row8_col0\" class=\"data row8 col0\" >4</td>\n",
       "      <td id=\"T_7f9d7_row8_col1\" class=\"data row8 col1\" >3'931</td>\n",
       "      <td id=\"T_7f9d7_row8_col2\" class=\"data row8 col2\" >0,04</td>\n",
       "      <td id=\"T_7f9d7_row8_col3\" class=\"data row8 col3\" >0,14</td>\n",
       "      <td id=\"T_7f9d7_row8_col4\" class=\"data row8 col4\" >2,52</td>\n",
       "    </tr>\n",
       "    <tr>\n",
       "      <th id=\"T_7f9d7_level0_row9\" class=\"row_heading level0 row9\" >Gland</th>\n",
       "      <td id=\"T_7f9d7_row9_col0\" class=\"data row9 col0\" >4</td>\n",
       "      <td id=\"T_7f9d7_row9_col1\" class=\"data row9 col1\" >206</td>\n",
       "      <td id=\"T_7f9d7_row9_col2\" class=\"data row9 col2\" >0,04</td>\n",
       "      <td id=\"T_7f9d7_row9_col3\" class=\"data row9 col3\" >0,01</td>\n",
       "      <td id=\"T_7f9d7_row9_col4\" class=\"data row9 col4\" >2,32</td>\n",
       "    </tr>\n",
       "    <tr>\n",
       "      <th id=\"T_7f9d7_level0_row10\" class=\"row_heading level0 row10\" >Grangettes</th>\n",
       "      <td id=\"T_7f9d7_row10_col0\" class=\"data row10 col0\" >4</td>\n",
       "      <td id=\"T_7f9d7_row10_col1\" class=\"data row10 col1\" >3'677</td>\n",
       "      <td id=\"T_7f9d7_row10_col2\" class=\"data row10 col2\" >0,04</td>\n",
       "      <td id=\"T_7f9d7_row10_col3\" class=\"data row10 col3\" >0,13</td>\n",
       "      <td id=\"T_7f9d7_row10_col4\" class=\"data row10 col4\" >5,86</td>\n",
       "    </tr>\n",
       "    <tr>\n",
       "      <th id=\"T_7f9d7_level0_row11\" class=\"row_heading level0 row11\" >Hermance</th>\n",
       "      <td id=\"T_7f9d7_row11_col0\" class=\"data row11 col0\" >4</td>\n",
       "      <td id=\"T_7f9d7_row11_col1\" class=\"data row11 col1\" >201</td>\n",
       "      <td id=\"T_7f9d7_row11_col2\" class=\"data row11 col2\" >0,04</td>\n",
       "      <td id=\"T_7f9d7_row11_col3\" class=\"data row11 col3\" >0,01</td>\n",
       "      <td id=\"T_7f9d7_row11_col4\" class=\"data row11 col4\" >0,26</td>\n",
       "    </tr>\n",
       "    <tr>\n",
       "      <th id=\"T_7f9d7_level0_row12\" class=\"row_heading level0 row12\" >Lugrin</th>\n",
       "      <td id=\"T_7f9d7_row12_col0\" class=\"data row12 col0\" >4</td>\n",
       "      <td id=\"T_7f9d7_row12_col1\" class=\"data row12 col1\" >670</td>\n",
       "      <td id=\"T_7f9d7_row12_col2\" class=\"data row12 col2\" >0,04</td>\n",
       "      <td id=\"T_7f9d7_row12_col3\" class=\"data row12 col3\" >0,02</td>\n",
       "      <td id=\"T_7f9d7_row12_col4\" class=\"data row12 col4\" >1,46</td>\n",
       "    </tr>\n",
       "    <tr>\n",
       "      <th id=\"T_7f9d7_level0_row13\" class=\"row_heading level0 row13\" >Lutry</th>\n",
       "      <td id=\"T_7f9d7_row13_col0\" class=\"data row13 col0\" >4</td>\n",
       "      <td id=\"T_7f9d7_row13_col1\" class=\"data row13 col1\" >686</td>\n",
       "      <td id=\"T_7f9d7_row13_col2\" class=\"data row13 col2\" >0,04</td>\n",
       "      <td id=\"T_7f9d7_row13_col3\" class=\"data row13 col3\" >0,02</td>\n",
       "      <td id=\"T_7f9d7_row13_col4\" class=\"data row13 col4\" >1,57</td>\n",
       "    </tr>\n",
       "    <tr>\n",
       "      <th id=\"T_7f9d7_level0_row14\" class=\"row_heading level0 row14\" >Meillerie</th>\n",
       "      <td id=\"T_7f9d7_row14_col0\" class=\"data row14 col0\" >4</td>\n",
       "      <td id=\"T_7f9d7_row14_col1\" class=\"data row14 col1\" >91</td>\n",
       "      <td id=\"T_7f9d7_row14_col2\" class=\"data row14 col2\" >0,04</td>\n",
       "      <td id=\"T_7f9d7_row14_col3\" class=\"data row14 col3\" >0,00</td>\n",
       "      <td id=\"T_7f9d7_row14_col4\" class=\"data row14 col4\" >0,43</td>\n",
       "    </tr>\n",
       "    <tr>\n",
       "      <th id=\"T_7f9d7_level0_row15\" class=\"row_heading level0 row15\" >Pichette</th>\n",
       "      <td id=\"T_7f9d7_row15_col0\" class=\"data row15 col0\" >4</td>\n",
       "      <td id=\"T_7f9d7_row15_col1\" class=\"data row15 col1\" >49</td>\n",
       "      <td id=\"T_7f9d7_row15_col2\" class=\"data row15 col2\" >0,04</td>\n",
       "      <td id=\"T_7f9d7_row15_col3\" class=\"data row15 col3\" >0,00</td>\n",
       "      <td id=\"T_7f9d7_row15_col4\" class=\"data row15 col4\" >0,20</td>\n",
       "    </tr>\n",
       "    <tr>\n",
       "      <th id=\"T_7f9d7_level0_row16\" class=\"row_heading level0 row16\" >Port Choiseul</th>\n",
       "      <td id=\"T_7f9d7_row16_col0\" class=\"data row16 col0\" >4</td>\n",
       "      <td id=\"T_7f9d7_row16_col1\" class=\"data row16 col1\" >1'372</td>\n",
       "      <td id=\"T_7f9d7_row16_col2\" class=\"data row16 col2\" >0,04</td>\n",
       "      <td id=\"T_7f9d7_row16_col3\" class=\"data row16 col3\" >0,05</td>\n",
       "      <td id=\"T_7f9d7_row16_col4\" class=\"data row16 col4\" >1,36</td>\n",
       "    </tr>\n",
       "    <tr>\n",
       "      <th id=\"T_7f9d7_level0_row17\" class=\"row_heading level0 row17\" >Préverenges</th>\n",
       "      <td id=\"T_7f9d7_row17_col0\" class=\"data row17 col0\" >4</td>\n",
       "      <td id=\"T_7f9d7_row17_col1\" class=\"data row17 col1\" >2'448</td>\n",
       "      <td id=\"T_7f9d7_row17_col2\" class=\"data row17 col2\" >0,04</td>\n",
       "      <td id=\"T_7f9d7_row17_col3\" class=\"data row17 col3\" >0,09</td>\n",
       "      <td id=\"T_7f9d7_row17_col4\" class=\"data row17 col4\" >0,97</td>\n",
       "    </tr>\n",
       "    <tr>\n",
       "      <th id=\"T_7f9d7_level0_row18\" class=\"row_heading level0 row18\" >Rolle</th>\n",
       "      <td id=\"T_7f9d7_row18_col0\" class=\"data row18 col0\" >3</td>\n",
       "      <td id=\"T_7f9d7_row18_col1\" class=\"data row18 col1\" >1'090</td>\n",
       "      <td id=\"T_7f9d7_row18_col2\" class=\"data row18 col2\" >0,03</td>\n",
       "      <td id=\"T_7f9d7_row18_col3\" class=\"data row18 col3\" >0,04</td>\n",
       "      <td id=\"T_7f9d7_row18_col4\" class=\"data row18 col4\" >0,67</td>\n",
       "    </tr>\n",
       "    <tr>\n",
       "      <th id=\"T_7f9d7_level0_row19\" class=\"row_heading level0 row19\" >Saint-Disdille</th>\n",
       "      <td id=\"T_7f9d7_row19_col0\" class=\"data row19 col0\" >4</td>\n",
       "      <td id=\"T_7f9d7_row19_col1\" class=\"data row19 col1\" >1'908</td>\n",
       "      <td id=\"T_7f9d7_row19_col2\" class=\"data row19 col2\" >0,04</td>\n",
       "      <td id=\"T_7f9d7_row19_col3\" class=\"data row19 col3\" >0,07</td>\n",
       "      <td id=\"T_7f9d7_row19_col4\" class=\"data row19 col4\" >2,56</td>\n",
       "    </tr>\n",
       "    <tr>\n",
       "      <th id=\"T_7f9d7_level0_row20\" class=\"row_heading level0 row20\" >Savonnière</th>\n",
       "      <td id=\"T_7f9d7_row20_col0\" class=\"data row20 col0\" >4</td>\n",
       "      <td id=\"T_7f9d7_row20_col1\" class=\"data row20 col1\" >592</td>\n",
       "      <td id=\"T_7f9d7_row20_col2\" class=\"data row20 col2\" >0,04</td>\n",
       "      <td id=\"T_7f9d7_row20_col3\" class=\"data row20 col3\" >0,02</td>\n",
       "      <td id=\"T_7f9d7_row20_col4\" class=\"data row20 col4\" >0,70</td>\n",
       "    </tr>\n",
       "    <tr>\n",
       "      <th id=\"T_7f9d7_level0_row21\" class=\"row_heading level0 row21\" >Tolochenaz</th>\n",
       "      <td id=\"T_7f9d7_row21_col0\" class=\"data row21 col0\" >4</td>\n",
       "      <td id=\"T_7f9d7_row21_col1\" class=\"data row21 col1\" >78</td>\n",
       "      <td id=\"T_7f9d7_row21_col2\" class=\"data row21 col2\" >0,04</td>\n",
       "      <td id=\"T_7f9d7_row21_col3\" class=\"data row21 col3\" >0,00</td>\n",
       "      <td id=\"T_7f9d7_row21_col4\" class=\"data row21 col4\" >0,30</td>\n",
       "    </tr>\n",
       "    <tr>\n",
       "      <th id=\"T_7f9d7_level0_row22\" class=\"row_heading level0 row22\" >Tougues</th>\n",
       "      <td id=\"T_7f9d7_row22_col0\" class=\"data row22 col0\" >4</td>\n",
       "      <td id=\"T_7f9d7_row22_col1\" class=\"data row22 col1\" >660</td>\n",
       "      <td id=\"T_7f9d7_row22_col2\" class=\"data row22 col2\" >0,04</td>\n",
       "      <td id=\"T_7f9d7_row22_col3\" class=\"data row22 col3\" >0,02</td>\n",
       "      <td id=\"T_7f9d7_row22_col4\" class=\"data row22 col4\" >0,47</td>\n",
       "    </tr>\n",
       "    <tr>\n",
       "      <th id=\"T_7f9d7_level0_row23\" class=\"row_heading level0 row23\" >Versoix</th>\n",
       "      <td id=\"T_7f9d7_row23_col0\" class=\"data row23 col0\" >4</td>\n",
       "      <td id=\"T_7f9d7_row23_col1\" class=\"data row23 col1\" >176</td>\n",
       "      <td id=\"T_7f9d7_row23_col2\" class=\"data row23 col2\" >0,04</td>\n",
       "      <td id=\"T_7f9d7_row23_col3\" class=\"data row23 col3\" >0,01</td>\n",
       "      <td id=\"T_7f9d7_row23_col4\" class=\"data row23 col4\" >0,60</td>\n",
       "    </tr>\n",
       "    <tr>\n",
       "      <th id=\"T_7f9d7_level0_row24\" class=\"row_heading level0 row24\" >Vidy</th>\n",
       "      <td id=\"T_7f9d7_row24_col0\" class=\"data row24 col0\" >4</td>\n",
       "      <td id=\"T_7f9d7_row24_col1\" class=\"data row24 col1\" >1'571</td>\n",
       "      <td id=\"T_7f9d7_row24_col2\" class=\"data row24 col2\" >0,04</td>\n",
       "      <td id=\"T_7f9d7_row24_col3\" class=\"data row24 col3\" >0,06</td>\n",
       "      <td id=\"T_7f9d7_row24_col4\" class=\"data row24 col4\" >1,82</td>\n",
       "    </tr>\n",
       "  </tbody>\n",
       "</table>\n"
      ],
      "text/plain": [
       "<pandas.io.formats.style.Styler at 0x7fda3ab07df0>"
      ]
     },
     "metadata": {
      "scrapbook": {
       "mime_prefix": "",
       "name": "a3tabletwo"
      }
     },
     "output_type": "display_data"
    }
   ],
   "source": [
    "# work_data[\"particules\"] = work_data[\"compte\"]\n",
    "location_summary = work_data.groupby(\"Plage\", as_index=False).agg({\"echantillon\": \"nunique\", \"quantite\":\"sum\"})\n",
    "location_summary[\"% echantillon\"] = location_summary.echantillon/location_summary.echantillon.sum()\n",
    "location_summary[\"% quantité\"] = location_summary.quantite/location_summary.quantite.sum()\n",
    "# location_summary.set_index(\"Plage\", inplace=True, drop=True)\n",
    "df1 = location_summary.copy()\n",
    "df1.set_index(\"Plage\", inplace=True, drop=True)\n",
    "df1.index.name = None\n",
    "a_property =  {'color' : 'red'}\n",
    "a_property2 = { 'color': 'dodgerblue'}\n",
    "\n",
    "select_values = df1[\"% echantillon\"] < df1[\"% quantité\"]\n",
    "test_one = df1.loc[select_values].index\n",
    "\n",
    "\n",
    "caption1 = \"Nombre cumulé d'échantillons et le total par plage.\"\n",
    "caption2 = \"Les plages où le proportion du comptage est supérieur au proportion des échantillons sont en rouge. Les plages dont la moyenne des résultats est supérieure à la moyenne du projet sont en BLEU.\"  \n",
    "caption = f'{caption1} {caption2}'\n",
    "\n",
    "df1[\"moyenne\"] = df1.index.map(lambda x: sample_averages['moyenne'].loc[x])\n",
    "select_values2 = df1[\"moyenne\"] > 1.45\n",
    "test_two = df1[select_values2].index\n",
    "\n",
    "ttwo = df1.style.set_table_styles(table_css_styles).set_properties(subset=pd.IndexSlice[test_two, [\"moyenne\"]], **a_property2)\n",
    "ttwo = ttwo.set_properties(subset = pd.IndexSlice[test_one,[\"% echantillon\", \"% quantité\"]], **a_property)\n",
    "\n",
    "table_no += 1\n",
    "\n",
    "table_two = add_table_to_page(ttwo, table_no, caption, section, page)\n",
    "glue('a3tabletwo', table_two, display=True)"
   ]
  },
  {
   "cell_type": "code",
   "execution_count": 6,
   "id": "b0328cce-de4a-4dd5-afd1-25f5f3ba189c",
   "metadata": {
    "tags": [
     "remove-input"
    ]
   },
   "outputs": [],
   "source": [
    "bar_plots = pd.melt(location_summary, id_vars=\"Plage\", value_vars=[\"% echantillon\", \"% quantité\"])\n",
    "fig, ax = plt.subplots()\n",
    "sns.barplot(data=bar_plots, x=\"Plage\", y=\"value\", hue=\"variable\", ax=ax)\n",
    "ax.legend(loc=\"upper left\")\n",
    "ax.tick_params(axis=\"x\", labelrotation=90, labelright=True, labelsize=12 )\n",
    "glue('fig-A31', fig, display=False)\n",
    "plt.close()"
   ]
  },
  {
   "cell_type": "markdown",
   "id": "239caa51-f5ca-4aeb-ad15-ecfb727f1a5c",
   "metadata": {},
   "source": [
    "```{glue:figure} fig-A31\n",
    "---\n",
    "name: fig-A31\n",
    "---\n",
    "{glue:text}`blank_caption` \n",
    "```"
   ]
  },
  {
   "cell_type": "code",
   "execution_count": 7,
   "id": "192f3e40-4fa9-4742-a406-e6795e45173e",
   "metadata": {
    "tags": [
     "remove-input"
    ]
   },
   "outputs": [],
   "source": [
    "attribute_columns = [\"Plage\", \"position\", \"substrat\"]\n",
    "percent_of_samples = df1.loc[select_values].echantillon.sum()/location_summary.echantillon.sum()\n",
    "attributes_of_samples = work_data[work_data.Plage.isin(test_one)].drop_duplicates([\"Plage\"])\n",
    "\n",
    "\n",
    "def translate_columns(data, columns, keys):\n",
    "    \n",
    "    for i, column in enumerate(columns):\n",
    "        \n",
    "        data[column] = data[column].apply(lambda x: keys[i][x])\n",
    "    \n",
    "    return data\n",
    "\n",
    "attribute_keys = [name_the_zones, name_the_substrate, frequentation_name, situation_name, name_the_distance]\n",
    "# caption = \"Les plages et leurs attributs où le proportion du comptage est supérieur au proportion des échantillons.\"    \n",
    "\n",
    "# # display_df = translate_columns(attributes_of_samples, attribute_columns[2:], attribute_keys)\n",
    "# table_three = attributes_of_samples[attribute_columns]\n",
    "# table_three.set_index(\"Plage\", inplace=True, drop=True)\n",
    "# table_three = table_three.style.set_table_styles(table_css_styles)\n",
    "# table_no += 1\n",
    "\n",
    "# add_table_to_page(table_three, table_no, caption, section, page)"
   ]
  },
  {
   "cell_type": "markdown",
   "id": "8280104c-d400-4bbe-af2b-2c962a395872",
   "metadata": {},
   "source": [
    "## Compte moyen par échantillon et plage"
   ]
  },
  {
   "cell_type": "code",
   "execution_count": 8,
   "id": "da50d73e-f37a-4016-b633-91818721c6e4",
   "metadata": {
    "tags": [
     "remove-input"
    ]
   },
   "outputs": [
    {
     "data": {
      "text/html": [
       "<style type=\"text/css\">\n",
       "#T_de4a9 tr:nth-child(even) {\n",
       "  background-color: rgba(139, 69, 19, 0.08);\n",
       "}\n",
       "#T_de4a9 tr:nth-child(odd) {\n",
       "  background: #FFF;\n",
       "}\n",
       "#T_de4a9 tr {\n",
       "  font-size: 14px;\n",
       "  padding: 10px;\n",
       "}\n",
       "#T_de4a9 th:nth-child(1) {\n",
       "  background-color: #FFF;\n",
       "}\n",
       "#T_de4a9 caption {\n",
       "  caption-side: bottom;\n",
       "  font-size: 16px;\n",
       "  text-align: left;\n",
       "  margin-top: 15px;\n",
       "}\n",
       "</style>\n",
       "<table id=\"T_de4a9\">\n",
       "  <caption>Table A3-3: Le résumé des résultats du nombre de déchets trouvées par m².</caption>\n",
       "  <thead>\n",
       "    <tr>\n",
       "      <th class=\"blank level0\" >&nbsp;</th>\n",
       "      <th id=\"T_de4a9_level0_col0\" class=\"col_heading level0 col0\" >Min</th>\n",
       "      <th id=\"T_de4a9_level0_col1\" class=\"col_heading level0 col1\" >25%</th>\n",
       "      <th id=\"T_de4a9_level0_col2\" class=\"col_heading level0 col2\" >50%</th>\n",
       "      <th id=\"T_de4a9_level0_col3\" class=\"col_heading level0 col3\" >75%</th>\n",
       "      <th id=\"T_de4a9_level0_col4\" class=\"col_heading level0 col4\" >Max</th>\n",
       "      <th id=\"T_de4a9_level0_col5\" class=\"col_heading level0 col5\" >Moyenne</th>\n",
       "      <th id=\"T_de4a9_level0_col6\" class=\"col_heading level0 col6\" >Écart-Type</th>\n",
       "    </tr>\n",
       "  </thead>\n",
       "  <tbody>\n",
       "    <tr>\n",
       "      <th id=\"T_de4a9_level0_row0\" class=\"row_heading level0 row0\" >Pcs/M²</th>\n",
       "      <td id=\"T_de4a9_row0_col0\" class=\"data row0 col0\" >0,05</td>\n",
       "      <td id=\"T_de4a9_row0_col1\" class=\"data row0 col1\" >0,38</td>\n",
       "      <td id=\"T_de4a9_row0_col2\" class=\"data row0 col2\" >0,78</td>\n",
       "      <td id=\"T_de4a9_row0_col3\" class=\"data row0 col3\" >1,89</td>\n",
       "      <td id=\"T_de4a9_row0_col4\" class=\"data row0 col4\" >8,68</td>\n",
       "      <td id=\"T_de4a9_row0_col5\" class=\"data row0 col5\" >1,45</td>\n",
       "      <td id=\"T_de4a9_row0_col6\" class=\"data row0 col6\" >1,69</td>\n",
       "    </tr>\n",
       "  </tbody>\n",
       "</table>\n"
      ],
      "text/plain": [
       "<pandas.io.formats.style.Styler at 0x7fda3aa9f100>"
      ]
     },
     "metadata": {
      "scrapbook": {
       "mime_prefix": "",
       "name": "a3table3"
      }
     },
     "output_type": "display_data"
    }
   ],
   "source": [
    "sample_totals = event_total.groupby([\"echantillon\", \"date\", \"Plage\"], as_index=False)[\"pcs/m²\"].sum()\n",
    "df2 = sample_totals.copy()\n",
    "value_column = \"moyenne\"\n",
    "\n",
    "summary_particuless = sample_totals[\"pcs/m²\"].describe()\n",
    "\n",
    "t_three =  translate_describe(summary_particuless, \"pcs/m²\").T.style.set_table_styles(table_css_styles)\n",
    "\n",
    "table_no += 1\n",
    "caption = 'Le résumé des résultats du nombre de déchets trouvées par m².'\n",
    "\n",
    "table_three = add_table_to_page(t_three, table_no, caption, section, page)\n",
    "glue('a3table3', table_three, display=True)"
   ]
  },
  {
   "cell_type": "code",
   "execution_count": 9,
   "id": "e63d3160-225f-4216-9f21-0434a66980a5",
   "metadata": {
    "tags": [
     "remove-input"
    ]
   },
   "outputs": [],
   "source": [
    "\n",
    "\n",
    "# select_values = sample_averages[value_column] > average_of_sample_totals\n",
    "# test_two = sample_averages.loc[select_values].index\n",
    "# caption_one = \"Nombre cumulé d'échantillons et la moyenne de pcs/m² par plage.\"\n",
    "# caption_two = \" Les plages dont la moyenne des résultats est supérieur à la moyenne par échantillon du projet sont en rouge.\"\n",
    "# caption_three = f\"Moyenne du projet: {round(average_of_sample_totals, 2)}\"\n",
    "# caption = f'{caption_one} {caption_two} {caption_three}'\n",
    "\n",
    "# sa = sample_averages.style.set_table_styles(table_css_styles).set_caption(caption).format(precision=2)\n",
    "# sa.set_properties(subset = pd.IndexSlice[test_two,[value_column]], **a_property)"
   ]
  },
  {
   "cell_type": "code",
   "execution_count": 10,
   "id": "60ee9afb-c441-47de-8416-115a80abafa5",
   "metadata": {
    "tags": [
     "remove-input"
    ]
   },
   "outputs": [],
   "source": [
    "fig, ax = plt.subplots(2,2, figsize=(7,7))\n",
    "\n",
    "sns.scatterplot(data=sample_totals, x=\"date\", y=\"pcs/m²\", ax=ax[0,0])\n",
    "ax[0,0].tick_params(labelbottom=False, bottom=False)\n",
    "# ax[0,0].set_ylim(-1, 1500)\n",
    "ax[0,0].set_title(\"Total par échantillon\", loc=\"left\")\n",
    "\n",
    "sns.boxplot(data=sample_totals, y=\"pcs/m²\", dodge=False, width=.9, ax=ax[0,1])\n",
    "# ax[0,1].set_ylim(-1, 1500)\n",
    "ax[0,1].set_title(\"boîte de Tukey\", loc=\"left\")\n",
    "\n",
    "sns.histplot(data=sample_totals, x=\"pcs/m²\", ax=ax[1,0], stat=\"probability\", kde=True)\n",
    "# ax[1,0].set_xlim(-1, 1500)\n",
    "ax[1,0].yaxis.set_major_formatter('{x:.2f}')\n",
    "ax[1,0].set_ylabel(\"probabilité\")\n",
    "ax[1,0].set_title(\"Histogramme\", loc=\"left\")\n",
    "\n",
    "sns.ecdfplot(data=sample_totals, x=\"pcs/m²\", ax=ax[1,1])\n",
    "# ax[1,1].set_xlim(-1, 1500)\n",
    "ax[1,1].set_ylabel(\"probabilité\")\n",
    "ax[1,1].set_title(\"Fonction de répartition\", loc=\"left\")\n",
    "plt.tight_layout()\n",
    "\n",
    "glue('fig-A32', fig, display=False)\n",
    "plt.close()"
   ]
  },
  {
   "cell_type": "markdown",
   "id": "73923767-5956-4ad9-8666-ac2e84d5f50f",
   "metadata": {},
   "source": [
    "```{glue:figure} fig-A32\n",
    "---\n",
    "name: fig-A32\n",
    "---\n",
    "{glue:text}`blank_caption` \n",
    "```"
   ]
  },
  {
   "cell_type": "markdown",
   "id": "0dc239f8-26c7-4746-a88a-a6a11437501f",
   "metadata": {},
   "source": [
    "## Comptes moyenne par position "
   ]
  },
  {
   "cell_type": "code",
   "execution_count": 11,
   "id": "49f7774a-b349-4f3f-a19b-99ab50759320",
   "metadata": {
    "tags": [
     "remove-input"
    ]
   },
   "outputs": [],
   "source": [
    "position_totals = event_total.groupby([\"Plage\",\"echantillon\",\"date\", \"position\"], as_index=False)[\"pcs/m²\"].sum()\n",
    "position_totals[\"position\"] = position_totals.position.apply(lambda x: name_the_zones[x])\n",
    "# position_totals[\"objet\"] = position_totals.objet.apply(lambda x: particle_groups[x])\n",
    "df4 = position_totals.groupby([\"Plage\",\"position\"], as_index=False)[\"pcs/m²\"].mean()\n",
    "\n",
    "df4 = df4.pivot(index=\"Plage\", columns=[\"position\"])\n",
    "df4.index.name = None\n",
    "df4.columns\n",
    "df4.fillna(0, inplace=True)\n",
    "\n",
    "def select_a_set_of_values(data, column_one, threshold_data):\n",
    "    \n",
    "    return data.loc[data[column_one] > threshold_data]\n",
    "\n",
    "position_columns = list(name_the_zones.values())\n",
    "fragment_columns = list(particle_groups.values())\n",
    "\n",
    "args = [(\"pcs/m²\", x) for x in position_columns]\n",
    "\n",
    "water_line = select_a_set_of_values(df4, args[0], average_of_sample_totals).index\n",
    "plage_seche = select_a_set_of_values(df4, args[1], average_of_sample_totals).index\n",
    "\n",
    "summary_ligne_deau = position_totals[position_totals.position == \"ligne-d'eau\"][\"pcs/m²\"].describe()\n",
    "summary_plage_seche = position_totals[position_totals.position == \"plage-seche\"][\"pcs/m²\"].describe()"
   ]
  },
  {
   "cell_type": "code",
   "execution_count": 12,
   "id": "8262a5f7-dc2b-42c6-ac05-80d3ab74e9af",
   "metadata": {
    "tags": [
     "remove-input"
    ]
   },
   "outputs": [
    {
     "data": {
      "text/html": [
       "<style type=\"text/css\">\n",
       "#T_857f4 tr:nth-child(even) {\n",
       "  background-color: rgba(139, 69, 19, 0.08);\n",
       "}\n",
       "#T_857f4 tr:nth-child(odd) {\n",
       "  background: #FFF;\n",
       "}\n",
       "#T_857f4 tr {\n",
       "  font-size: 14px;\n",
       "  padding: 10px;\n",
       "}\n",
       "#T_857f4 th:nth-child(1) {\n",
       "  background-color: #FFF;\n",
       "}\n",
       "#T_857f4 caption {\n",
       "  caption-side: bottom;\n",
       "  font-size: 16px;\n",
       "  text-align: left;\n",
       "  margin-top: 15px;\n",
       "}\n",
       "</style>\n",
       "<table id=\"T_857f4\">\n",
       "  <caption>Table A3-4: Le résumé des totaux d'échantillons par position sur la plage.</caption>\n",
       "  <thead>\n",
       "    <tr>\n",
       "      <th class=\"blank level0\" >&nbsp;</th>\n",
       "      <th id=\"T_857f4_level0_col0\" class=\"col_heading level0 col0\" >Min</th>\n",
       "      <th id=\"T_857f4_level0_col1\" class=\"col_heading level0 col1\" >25%</th>\n",
       "      <th id=\"T_857f4_level0_col2\" class=\"col_heading level0 col2\" >50%</th>\n",
       "      <th id=\"T_857f4_level0_col3\" class=\"col_heading level0 col3\" >75%</th>\n",
       "      <th id=\"T_857f4_level0_col4\" class=\"col_heading level0 col4\" >Max</th>\n",
       "      <th id=\"T_857f4_level0_col5\" class=\"col_heading level0 col5\" >Moyenne</th>\n",
       "      <th id=\"T_857f4_level0_col6\" class=\"col_heading level0 col6\" >Écart-Type</th>\n",
       "    </tr>\n",
       "  </thead>\n",
       "  <tbody>\n",
       "    <tr>\n",
       "      <th id=\"T_857f4_level0_row0\" class=\"row_heading level0 row0\" >Ligne D'Eau</th>\n",
       "      <td id=\"T_857f4_row0_col0\" class=\"data row0 col0\" >0,02</td>\n",
       "      <td id=\"T_857f4_row0_col1\" class=\"data row0 col1\" >0,18</td>\n",
       "      <td id=\"T_857f4_row0_col2\" class=\"data row0 col2\" >0,38</td>\n",
       "      <td id=\"T_857f4_row0_col3\" class=\"data row0 col3\" >0,91</td>\n",
       "      <td id=\"T_857f4_row0_col4\" class=\"data row0 col4\" >7,60</td>\n",
       "      <td id=\"T_857f4_row0_col5\" class=\"data row0 col5\" >0,84</td>\n",
       "      <td id=\"T_857f4_row0_col6\" class=\"data row0 col6\" >1,26</td>\n",
       "    </tr>\n",
       "    <tr>\n",
       "      <th id=\"T_857f4_level0_row1\" class=\"row_heading level0 row1\" >Plage-Seche</th>\n",
       "      <td id=\"T_857f4_row1_col0\" class=\"data row1 col0\" >0,01</td>\n",
       "      <td id=\"T_857f4_row1_col1\" class=\"data row1 col1\" >0,18</td>\n",
       "      <td id=\"T_857f4_row1_col2\" class=\"data row1 col2\" >0,40</td>\n",
       "      <td id=\"T_857f4_row1_col3\" class=\"data row1 col3\" >1,08</td>\n",
       "      <td id=\"T_857f4_row1_col4\" class=\"data row1 col4\" >3,07</td>\n",
       "      <td id=\"T_857f4_row1_col5\" class=\"data row1 col5\" >0,70</td>\n",
       "      <td id=\"T_857f4_row1_col6\" class=\"data row1 col6\" >0,74</td>\n",
       "    </tr>\n",
       "  </tbody>\n",
       "</table>\n"
      ],
      "text/plain": [
       "<pandas.io.formats.style.Styler at 0x7fda32639400>"
      ]
     },
     "metadata": {
      "scrapbook": {
       "mime_prefix": "",
       "name": "table-five"
      }
     },
     "output_type": "display_data"
    }
   ],
   "source": [
    "ligne_deau_display =  translate_describe(summary_ligne_deau, \"ligne d'eau\")\n",
    "plage_seche_display =  translate_describe(summary_plage_seche, \"plage-seche\")\n",
    "\n",
    "position_summary = pd.concat([ligne_deau_display, plage_seche_display], axis=1).T.style.set_table_styles(table_css_styles)\n",
    "\n",
    "table_no += 1\n",
    "caption = \"Le résumé des totaux d'échantillons par position sur la plage.\"\n",
    "\n",
    "table_five = add_table_to_page(position_summary, table_no, caption, section, page)\n",
    "glue('table-five', table_five, display=True)"
   ]
  },
  {
   "cell_type": "code",
   "execution_count": 13,
   "id": "c8a884fd-743f-45a2-bda5-3bb229b43048",
   "metadata": {
    "tags": [
     "remove-input"
    ]
   },
   "outputs": [],
   "source": [
    "fig, ax = plt.subplots(2,2, figsize=(7,7))\n",
    "\n",
    "d_position = position_totals.copy()\n",
    "\n",
    "sns.scatterplot(data=d_position, x=\"date\", y=\"pcs/m²\", hue=\"position\", ax=ax[0,0])\n",
    "ax[0,0].tick_params(labelbottom=False, bottom=False)\n",
    "# ax[0,0].set_ylim(-1, 1000)\n",
    "ax[0,0].set_title(\"Total par échantillon\", loc=\"left\")\n",
    "ax[0,0].legend().remove()\n",
    "\n",
    "sns.boxplot(data=d_position, x=\"position\", y=\"pcs/m²\", hue=\"position\", dodge=False, width=.9, ax=ax[0,1])\n",
    "# ax[0,1].set_ylim(-1, 1000)\n",
    "ax[0,1].set_title(\"Boîte de Tukey\", loc=\"left\")\n",
    "ax[0,1].set_xlabel(\"\")\n",
    "ax[0,1].legend().remove()\n",
    "\n",
    "sns.histplot(data=d_position, x=\"pcs/m²\", hue=\"position\", ax=ax[1,0], multiple=\"stack\", stat=\"probability\", kde=True)\n",
    "# ax[1,0].set_xlim(-10, 1000)\n",
    "ax[1,0].yaxis.set_major_formatter('{x:.2f}')\n",
    "ax[1,0].set_ylabel(\"probabilité\")\n",
    "ax[1,0].set_title(\"Histogramme\", loc=\"left\")\n",
    "\n",
    "\n",
    "\n",
    "sns.ecdfplot(data=d_position, x=\"pcs/m²\", hue=\"position\", ax=ax[1,1])\n",
    "# ax[1,1].set_xlim(-1, 1000)\n",
    "ax[1,1].set_ylabel(\"probabilité\")\n",
    "ax[1,1].set_title(\"Fonction de répartition\", loc=\"left\")\n",
    "\n",
    "plt.tight_layout()\n",
    "\n",
    "glue('fig-A33', fig, display=False)\n",
    "plt.close()"
   ]
  },
  {
   "cell_type": "markdown",
   "id": "e672256d-3366-4c99-92d3-9ca192daeeb3",
   "metadata": {},
   "source": [
    "```{glue:figure} fig-A33\n",
    "---\n",
    "name: fig-A33\n",
    "---\n",
    "{glue:text}`blank_caption` \n",
    "```"
   ]
  },
  {
   "cell_type": "code",
   "execution_count": 14,
   "id": "b854c5ca-0944-44b8-a0fb-5051c2d2f37f",
   "metadata": {
    "tags": [
     "remove-input"
    ]
   },
   "outputs": [
    {
     "data": {
      "text/html": [
       "<style type=\"text/css\">\n",
       "#T_cc640 tr:nth-child(even) {\n",
       "  background-color: rgba(139, 69, 19, 0.08);\n",
       "}\n",
       "#T_cc640 tr:nth-child(odd) {\n",
       "  background: #FFF;\n",
       "}\n",
       "#T_cc640 tr {\n",
       "  font-size: 14px;\n",
       "  padding: 10px;\n",
       "}\n",
       "#T_cc640 th:nth-child(1) {\n",
       "  background-color: #FFF;\n",
       "}\n",
       "#T_cc640 caption {\n",
       "  caption-side: bottom;\n",
       "  font-size: 16px;\n",
       "  text-align: left;\n",
       "  margin-top: 15px;\n",
       "}\n",
       "#T_cc640_row0_col1, #T_cc640_row4_col0, #T_cc640_row8_col0, #T_cc640_row9_col1, #T_cc640_row10_col0, #T_cc640_row10_col1, #T_cc640_row19_col1 {\n",
       "  color: red;\n",
       "}\n",
       "</style>\n",
       "<table id=\"T_cc640\">\n",
       "  <caption>Table A3-5: Le résultat moyen de pcs/m² par position. Les éléments dont la moyenne des résultats est supérieure à la moyenne du projet sont en rouge.</caption>\n",
       "  <thead>\n",
       "    <tr>\n",
       "      <th class=\"blank level0\" >&nbsp;</th>\n",
       "      <th id=\"T_cc640_level0_col0\" class=\"col_heading level0 col0\" colspan=\"2\">Pcs/M²</th>\n",
       "    </tr>\n",
       "    <tr>\n",
       "      <th class=\"index_name level1\" >position</th>\n",
       "      <th id=\"T_cc640_level1_col0\" class=\"col_heading level1 col0\" >Ligne-D'Eau</th>\n",
       "      <th id=\"T_cc640_level1_col1\" class=\"col_heading level1 col1\" >Plage-Seche</th>\n",
       "    </tr>\n",
       "  </thead>\n",
       "  <tbody>\n",
       "    <tr>\n",
       "      <th id=\"T_cc640_level0_row0\" class=\"row_heading level0 row0\" >Amphion</th>\n",
       "      <td id=\"T_cc640_row0_col0\" class=\"data row0 col0\" >1,07</td>\n",
       "      <td id=\"T_cc640_row0_col1\" class=\"data row0 col1\" >1,49</td>\n",
       "    </tr>\n",
       "    <tr>\n",
       "      <th id=\"T_cc640_level0_row1\" class=\"row_heading level0 row1\" >Anthy</th>\n",
       "      <td id=\"T_cc640_row1_col0\" class=\"data row1 col0\" >0,20</td>\n",
       "      <td id=\"T_cc640_row1_col1\" class=\"data row1 col1\" >0,12</td>\n",
       "    </tr>\n",
       "    <tr>\n",
       "      <th id=\"T_cc640_level0_row2\" class=\"row_heading level0 row2\" >Aubonne</th>\n",
       "      <td id=\"T_cc640_row2_col0\" class=\"data row2 col0\" >0,22</td>\n",
       "      <td id=\"T_cc640_row2_col1\" class=\"data row2 col1\" >0,12</td>\n",
       "    </tr>\n",
       "    <tr>\n",
       "      <th id=\"T_cc640_level0_row3\" class=\"row_heading level0 row3\" >Baby Plage</th>\n",
       "      <td id=\"T_cc640_row3_col0\" class=\"data row3 col0\" >0,40</td>\n",
       "      <td id=\"T_cc640_row3_col1\" class=\"data row3 col1\" >0,65</td>\n",
       "    </tr>\n",
       "    <tr>\n",
       "      <th id=\"T_cc640_level0_row4\" class=\"row_heading level0 row4\" >Bouveret</th>\n",
       "      <td id=\"T_cc640_row4_col0\" class=\"data row4 col0\" >3,74</td>\n",
       "      <td id=\"T_cc640_row4_col1\" class=\"data row4 col1\" >1,03</td>\n",
       "    </tr>\n",
       "    <tr>\n",
       "      <th id=\"T_cc640_level0_row5\" class=\"row_heading level0 row5\" >Clarens</th>\n",
       "      <td id=\"T_cc640_row5_col0\" class=\"data row5 col0\" >1,08</td>\n",
       "      <td id=\"T_cc640_row5_col1\" class=\"data row5 col1\" >0,77</td>\n",
       "    </tr>\n",
       "    <tr>\n",
       "      <th id=\"T_cc640_level0_row6\" class=\"row_heading level0 row6\" >Crans</th>\n",
       "      <td id=\"T_cc640_row6_col0\" class=\"data row6 col0\" >0,44</td>\n",
       "      <td id=\"T_cc640_row6_col1\" class=\"data row6 col1\" >0,00</td>\n",
       "    </tr>\n",
       "    <tr>\n",
       "      <th id=\"T_cc640_level0_row7\" class=\"row_heading level0 row7\" >Cully</th>\n",
       "      <td id=\"T_cc640_row7_col0\" class=\"data row7 col0\" >0,15</td>\n",
       "      <td id=\"T_cc640_row7_col1\" class=\"data row7 col1\" >0,19</td>\n",
       "    </tr>\n",
       "    <tr>\n",
       "      <th id=\"T_cc640_level0_row8\" class=\"row_heading level0 row8\" >Excenevex</th>\n",
       "      <td id=\"T_cc640_row8_col0\" class=\"data row8 col0\" >2,19</td>\n",
       "      <td id=\"T_cc640_row8_col1\" class=\"data row8 col1\" >0,33</td>\n",
       "    </tr>\n",
       "    <tr>\n",
       "      <th id=\"T_cc640_level0_row9\" class=\"row_heading level0 row9\" >Gland</th>\n",
       "      <td id=\"T_cc640_row9_col0\" class=\"data row9 col0\" >0,37</td>\n",
       "      <td id=\"T_cc640_row9_col1\" class=\"data row9 col1\" >1,95</td>\n",
       "    </tr>\n",
       "    <tr>\n",
       "      <th id=\"T_cc640_level0_row10\" class=\"row_heading level0 row10\" >Grangettes</th>\n",
       "      <td id=\"T_cc640_row10_col0\" class=\"data row10 col0\" >3,34</td>\n",
       "      <td id=\"T_cc640_row10_col1\" class=\"data row10 col1\" >2,52</td>\n",
       "    </tr>\n",
       "    <tr>\n",
       "      <th id=\"T_cc640_level0_row11\" class=\"row_heading level0 row11\" >Hermance</th>\n",
       "      <td id=\"T_cc640_row11_col0\" class=\"data row11 col0\" >0,16</td>\n",
       "      <td id=\"T_cc640_row11_col1\" class=\"data row11 col1\" >0,14</td>\n",
       "    </tr>\n",
       "    <tr>\n",
       "      <th id=\"T_cc640_level0_row12\" class=\"row_heading level0 row12\" >Lugrin</th>\n",
       "      <td id=\"T_cc640_row12_col0\" class=\"data row12 col0\" >0,74</td>\n",
       "      <td id=\"T_cc640_row12_col1\" class=\"data row12 col1\" >0,72</td>\n",
       "    </tr>\n",
       "    <tr>\n",
       "      <th id=\"T_cc640_level0_row13\" class=\"row_heading level0 row13\" >Lutry</th>\n",
       "      <td id=\"T_cc640_row13_col0\" class=\"data row13 col0\" >1,25</td>\n",
       "      <td id=\"T_cc640_row13_col1\" class=\"data row13 col1\" >0,32</td>\n",
       "    </tr>\n",
       "    <tr>\n",
       "      <th id=\"T_cc640_level0_row14\" class=\"row_heading level0 row14\" >Meillerie</th>\n",
       "      <td id=\"T_cc640_row14_col0\" class=\"data row14 col0\" >0,43</td>\n",
       "      <td id=\"T_cc640_row14_col1\" class=\"data row14 col1\" >0,00</td>\n",
       "    </tr>\n",
       "    <tr>\n",
       "      <th id=\"T_cc640_level0_row15\" class=\"row_heading level0 row15\" >Pichette</th>\n",
       "      <td id=\"T_cc640_row15_col0\" class=\"data row15 col0\" >0,17</td>\n",
       "      <td id=\"T_cc640_row15_col1\" class=\"data row15 col1\" >0,03</td>\n",
       "    </tr>\n",
       "    <tr>\n",
       "      <th id=\"T_cc640_level0_row16\" class=\"row_heading level0 row16\" >Port Choiseul</th>\n",
       "      <td id=\"T_cc640_row16_col0\" class=\"data row16 col0\" >0,60</td>\n",
       "      <td id=\"T_cc640_row16_col1\" class=\"data row16 col1\" >0,91</td>\n",
       "    </tr>\n",
       "    <tr>\n",
       "      <th id=\"T_cc640_level0_row17\" class=\"row_heading level0 row17\" >Préverenges</th>\n",
       "      <td id=\"T_cc640_row17_col0\" class=\"data row17 col0\" >0,40</td>\n",
       "      <td id=\"T_cc640_row17_col1\" class=\"data row17 col1\" >0,77</td>\n",
       "    </tr>\n",
       "    <tr>\n",
       "      <th id=\"T_cc640_level0_row18\" class=\"row_heading level0 row18\" >Rolle</th>\n",
       "      <td id=\"T_cc640_row18_col0\" class=\"data row18 col0\" >0,41</td>\n",
       "      <td id=\"T_cc640_row18_col1\" class=\"data row18 col1\" >0,39</td>\n",
       "    </tr>\n",
       "    <tr>\n",
       "      <th id=\"T_cc640_level0_row19\" class=\"row_heading level0 row19\" >Saint-Disdille</th>\n",
       "      <td id=\"T_cc640_row19_col0\" class=\"data row19 col0\" >1,02</td>\n",
       "      <td id=\"T_cc640_row19_col1\" class=\"data row19 col1\" >1,55</td>\n",
       "    </tr>\n",
       "    <tr>\n",
       "      <th id=\"T_cc640_level0_row20\" class=\"row_heading level0 row20\" >Savonnière</th>\n",
       "      <td id=\"T_cc640_row20_col0\" class=\"data row20 col0\" >0,33</td>\n",
       "      <td id=\"T_cc640_row20_col1\" class=\"data row20 col1\" >0,37</td>\n",
       "    </tr>\n",
       "    <tr>\n",
       "      <th id=\"T_cc640_level0_row21\" class=\"row_heading level0 row21\" >Tolochenaz</th>\n",
       "      <td id=\"T_cc640_row21_col0\" class=\"data row21 col0\" >0,12</td>\n",
       "      <td id=\"T_cc640_row21_col1\" class=\"data row21 col1\" >0,17</td>\n",
       "    </tr>\n",
       "    <tr>\n",
       "      <th id=\"T_cc640_level0_row22\" class=\"row_heading level0 row22\" >Tougues</th>\n",
       "      <td id=\"T_cc640_row22_col0\" class=\"data row22 col0\" >0,14</td>\n",
       "      <td id=\"T_cc640_row22_col1\" class=\"data row22 col1\" >0,34</td>\n",
       "    </tr>\n",
       "    <tr>\n",
       "      <th id=\"T_cc640_level0_row23\" class=\"row_heading level0 row23\" >Versoix</th>\n",
       "      <td id=\"T_cc640_row23_col0\" class=\"data row23 col0\" >0,43</td>\n",
       "      <td id=\"T_cc640_row23_col1\" class=\"data row23 col1\" >0,23</td>\n",
       "    </tr>\n",
       "    <tr>\n",
       "      <th id=\"T_cc640_level0_row24\" class=\"row_heading level0 row24\" >Vidy</th>\n",
       "      <td id=\"T_cc640_row24_col0\" class=\"data row24 col0\" >1,12</td>\n",
       "      <td id=\"T_cc640_row24_col1\" class=\"data row24 col1\" >0,70</td>\n",
       "    </tr>\n",
       "  </tbody>\n",
       "</table>\n"
      ],
      "text/plain": [
       "<pandas.io.formats.style.Styler at 0x7fda322044c0>"
      ]
     },
     "metadata": {
      "scrapbook": {
       "mime_prefix": "",
       "name": "table-six"
      }
     },
     "output_type": "display_data"
    }
   ],
   "source": [
    "sax = df4.style.set_table_styles(table_css_styles)\n",
    "\n",
    "caption = \"Le résultat moyen de pcs/m² par position.\"\n",
    " \n",
    "sax = sax.set_properties(subset = pd.IndexSlice[water_line,args[0]], **a_property)\n",
    "sax = sax.set_properties(subset = pd.IndexSlice[plage_seche,args[1]], **a_property)\n",
    "table_no += 1\n",
    "sax = add_table_to_page(sax,table_no, caption, section, page, rule=True)\n",
    "glue('table-six', sax, display=True)"
   ]
  },
  {
   "cell_type": "markdown",
   "id": "5f3a66e8-95f6-4cdf-8616-458bd5ab1a61",
   "metadata": {},
   "source": [
    "### Distributions\n",
    "\n"
   ]
  },
  {
   "cell_type": "code",
   "execution_count": 15,
   "id": "309b8941-f071-4854-b61c-0fb4f7397f41",
   "metadata": {
    "tags": [
     "remove-input"
    ]
   },
   "outputs": [
    {
     "data": {
      "image/png": "[encoded data removed]",
      "text/plain": [
       "<Figure size 800x500 with 1 Axes>"
      ]
     },
     "metadata": {},
     "output_type": "display_data"
    }
   ],
   "source": [
    "fig, ax = plt.subplots(1, figsize=(8,5))\n",
    "\n",
    "sns.boxplot(data=position_totals, x=\"Plage\", y=\"pcs/m²\", hue=\"position\", ax=ax)\n",
    "\n",
    "ax.tick_params(axis=\"x\", labelrotation=90)\n",
    "ax.set_xlabel(\"\")\n",
    "\n",
    "plt.show()"
   ]
  },
  {
   "cell_type": "code",
   "execution_count": 16,
   "id": "6c6060f9-9319-40b1-842f-1995cf4820bc",
   "metadata": {
    "tags": [
     "remove-input"
    ]
   },
   "outputs": [
    {
     "name": "stdout",
     "output_type": "stream",
     "text": [
      "Git repo: https://github.com/hammerdirt-analyst/plastock.git\n",
      "\n",
      "Git branch: main\n",
      "\n",
      "numpy     : 1.24.2\n",
      "pandas    : 2.0.0\n",
      "seaborn   : 0.12.2\n",
      "matplotlib: 3.7.1\n",
      "\n"
     ]
    }
   ],
   "source": [
    "%watermark --iversions -b -r"
   ]
  },
  {
   "cell_type": "code",
   "execution_count": null,
   "id": "895d3ded-d895-4dc8-b972-9a46e5f64d58",
   "metadata": {},
   "outputs": [],
   "source": []
  }
 ],
 "metadata": {
  "kernelspec": {
   "display_name": "Python 3 (ipykernel)",
   "language": "python",
   "name": "python3"
  },
  "language_info": {
   "codemirror_mode": {
    "name": "ipython",
    "version": 3
   },
   "file_extension": ".py",
   "mimetype": "text/x-python",
   "name": "python",
   "nbconvert_exporter": "python",
   "pygments_lexer": "ipython3",
   "version": "3.9.16"
  }
 },
 "nbformat": 4,
 "nbformat_minor": 5
}