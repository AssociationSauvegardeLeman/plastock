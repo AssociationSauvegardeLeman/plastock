{
 "cells": [
  {
   "cell_type": "code",
   "execution_count": 1,
   "id": "32bcdb7d-96d5-47f5-a77a-139bafcc6a7d",
   "metadata": {
    "editable": true,
    "pycharm": {
     "name": "#%%\n"
    },
    "slideshow": {
     "slide_type": ""
    },
    "tags": [
     "hide-input"
    ]
   },
   "outputs": [],
   "source": [
    "%load_ext watermark\n",
    "import numpy as np\n",
    "import pandas as pd\n",
    "import datetime as dt\n",
    "import matplotlib.pyplot as plt\n",
    "import seaborn as sns\n",
    "from myst_nb import glue\n",
    "from IPython.display import Markdown as md\n",
    "\n",
    "from plastockconf import name_zones, name_particles, name_frequentation, name_situation\n",
    "from plastockconf import particle_groups, name_substrate, name_distance, table_css_styles\n",
    "\n",
    "from plastock import attribute_summary, attribute_summary_test, attribute_summary_grid, add_table_to_page\n",
    "\n",
    "a_property =  {'color' : 'red'}\n",
    "format_kwargs = dict(precision=2, thousands=\"'\", decimal=\",\")\n",
    "glue('blank_caption', \" \", display=False)\n",
    "\n",
    "section = 'A'\n",
    "page = 2\n",
    "\n",
    "work_data = pd.read_csv(\"data/end_pipe/long_form_micro.csv\")\n",
    "beach_data = pd.read_csv(\"data/end_pipe/asl_beaches.csv\")"
   ]
  },
  {
   "cell_type": "markdown",
   "id": "f5c4038a-38ed-411c-a014-cb07f729d140",
   "metadata": {
    "pycharm": {
     "name": "#%% md\n"
    }
   },
   "source": [
    "# Microplastiques plage et attribut\n",
    "\n",
    "Les attributs sont les caractéristiques du lieu d'étude qui changent d'un lieu à l'autre. La manière dont le nombre de microplastiques observés évolue en fonction des attributs est l'une des préoccupations de cette étude."
   ]
  },
  {
   "cell_type": "code",
   "execution_count": 2,
   "id": "beda0b95-bf7b-4173-b9e3-4ae226a3f2b5",
   "metadata": {
    "pycharm": {
     "name": "#%%\n"
    },
    "tags": [
     "remove-input"
    ]
   },
   "outputs": [
    {
     "data": {
      "text/html": [
       "<style type=\"text/css\">\n",
       "#T_952a4 tr:nth-child(even) {\n",
       "  background-color: rgba(139, 69, 19, 0.08);\n",
       "}\n",
       "#T_952a4 tr:nth-child(odd) {\n",
       "  background: #FFF;\n",
       "}\n",
       "#T_952a4 tr {\n",
       "  font-size: 14px;\n",
       "  padding: 6px;\n",
       "}\n",
       "#T_952a4 th:nth-child(1) {\n",
       "  background-color: #FFF;\n",
       "  white-space: nowrap;\n",
       "  word-break: keep-all;\n",
       "}\n",
       "#T_952a4 td {\n",
       "  padding: 4px;\n",
       "  text-align: center;\n",
       "}\n",
       "#T_952a4 caption {\n",
       "  caption-side: bottom;\n",
       "  font-size: 14px;\n",
       "  text-align: left;\n",
       "  margin-top: 14px;\n",
       "}\n",
       "</style>\n",
       "<table id=\"T_952a4\">\n",
       "  <caption><b>Table A2-1 :</b> Les données d'analyse. Tous les tableaux et figures sont construits à partir de cet ensemble de données. Les attributs dont la moyenne des résultats est supérieure à la moyenne du projet sont en rouge.</caption>\n",
       "  <thead>\n",
       "    <tr>\n",
       "      <th class=\"blank level0\" >&nbsp;</th>\n",
       "      <th id=\"T_952a4_level0_col0\" class=\"col_heading level0 col0\" >Plage</th>\n",
       "      <th id=\"T_952a4_level0_col1\" class=\"col_heading level0 col1\" >Échantillon</th>\n",
       "      <th id=\"T_952a4_level0_col2\" class=\"col_heading level0 col2\" >Orientation</th>\n",
       "      <th id=\"T_952a4_level0_col3\" class=\"col_heading level0 col3\" >Position</th>\n",
       "      <th id=\"T_952a4_level0_col4\" class=\"col_heading level0 col4\" >Substrat</th>\n",
       "      <th id=\"T_952a4_level0_col5\" class=\"col_heading level0 col5\" >Fréquentation</th>\n",
       "      <th id=\"T_952a4_level0_col6\" class=\"col_heading level0 col6\" >Situation</th>\n",
       "      <th id=\"T_952a4_level0_col7\" class=\"col_heading level0 col7\" >Distance</th>\n",
       "      <th id=\"T_952a4_level0_col8\" class=\"col_heading level0 col8\" >Objet</th>\n",
       "      <th id=\"T_952a4_level0_col9\" class=\"col_heading level0 col9\" >Compte</th>\n",
       "    </tr>\n",
       "  </thead>\n",
       "  <tbody>\n",
       "    <tr>\n",
       "      <th id=\"T_952a4_level0_row0\" class=\"row_heading level0 row0\" >0</th>\n",
       "      <td id=\"T_952a4_row0_col0\" class=\"data row0 col0\" >Amphion</td>\n",
       "      <td id=\"T_952a4_row0_col1\" class=\"data row0 col1\" >74_Amp_1</td>\n",
       "      <td id=\"T_952a4_row0_col2\" class=\"data row0 col2\" >NE</td>\n",
       "      <td id=\"T_952a4_row0_col3\" class=\"data row0 col3\" >1</td>\n",
       "      <td id=\"T_952a4_row0_col4\" class=\"data row0 col4\" >4</td>\n",
       "      <td id=\"T_952a4_row0_col5\" class=\"data row0 col5\" >3</td>\n",
       "      <td id=\"T_952a4_row0_col6\" class=\"data row0 col6\" >1</td>\n",
       "      <td id=\"T_952a4_row0_col7\" class=\"data row0 col7\" >1</td>\n",
       "      <td id=\"T_952a4_row0_col8\" class=\"data row0 col8\" >fdure</td>\n",
       "      <td id=\"T_952a4_row0_col9\" class=\"data row0 col9\" >0,00</td>\n",
       "    </tr>\n",
       "    <tr>\n",
       "      <th id=\"T_952a4_level0_row1\" class=\"row_heading level0 row1\" >1</th>\n",
       "      <td id=\"T_952a4_row1_col0\" class=\"data row1 col0\" >Amphion</td>\n",
       "      <td id=\"T_952a4_row1_col1\" class=\"data row1 col1\" >74_Amp_1</td>\n",
       "      <td id=\"T_952a4_row1_col2\" class=\"data row1 col2\" >NE</td>\n",
       "      <td id=\"T_952a4_row1_col3\" class=\"data row1 col3\" >1</td>\n",
       "      <td id=\"T_952a4_row1_col4\" class=\"data row1 col4\" >4</td>\n",
       "      <td id=\"T_952a4_row1_col5\" class=\"data row1 col5\" >3</td>\n",
       "      <td id=\"T_952a4_row1_col6\" class=\"data row1 col6\" >1</td>\n",
       "      <td id=\"T_952a4_row1_col7\" class=\"data row1 col7\" >1</td>\n",
       "      <td id=\"T_952a4_row1_col8\" class=\"data row1 col8\" >fibres</td>\n",
       "      <td id=\"T_952a4_row1_col9\" class=\"data row1 col9\" >97,00</td>\n",
       "    </tr>\n",
       "    <tr>\n",
       "      <th id=\"T_952a4_level0_row2\" class=\"row_heading level0 row2\" >2</th>\n",
       "      <td id=\"T_952a4_row2_col0\" class=\"data row2 col0\" >Amphion</td>\n",
       "      <td id=\"T_952a4_row2_col1\" class=\"data row2 col1\" >74_Amp_1</td>\n",
       "      <td id=\"T_952a4_row2_col2\" class=\"data row2 col2\" >NE</td>\n",
       "      <td id=\"T_952a4_row2_col3\" class=\"data row2 col3\" >1</td>\n",
       "      <td id=\"T_952a4_row2_col4\" class=\"data row2 col4\" >4</td>\n",
       "      <td id=\"T_952a4_row2_col5\" class=\"data row2 col5\" >3</td>\n",
       "      <td id=\"T_952a4_row2_col6\" class=\"data row2 col6\" >1</td>\n",
       "      <td id=\"T_952a4_row2_col7\" class=\"data row2 col7\" >1</td>\n",
       "      <td id=\"T_952a4_row2_col8\" class=\"data row2 col8\" >souple</td>\n",
       "      <td id=\"T_952a4_row2_col9\" class=\"data row2 col9\" >0,00</td>\n",
       "    </tr>\n",
       "    <tr>\n",
       "      <th id=\"T_952a4_level0_row3\" class=\"row_heading level0 row3\" >3</th>\n",
       "      <td id=\"T_952a4_row3_col0\" class=\"data row3 col0\" >Amphion</td>\n",
       "      <td id=\"T_952a4_row3_col1\" class=\"data row3 col1\" >74_Amp_10</td>\n",
       "      <td id=\"T_952a4_row3_col2\" class=\"data row3 col2\" >NNE</td>\n",
       "      <td id=\"T_952a4_row3_col3\" class=\"data row3 col3\" >2</td>\n",
       "      <td id=\"T_952a4_row3_col4\" class=\"data row3 col4\" >4</td>\n",
       "      <td id=\"T_952a4_row3_col5\" class=\"data row3 col5\" >3</td>\n",
       "      <td id=\"T_952a4_row3_col6\" class=\"data row3 col6\" >1</td>\n",
       "      <td id=\"T_952a4_row3_col7\" class=\"data row3 col7\" >1</td>\n",
       "      <td id=\"T_952a4_row3_col8\" class=\"data row3 col8\" >fdure</td>\n",
       "      <td id=\"T_952a4_row3_col9\" class=\"data row3 col9\" >38,00</td>\n",
       "    </tr>\n",
       "    <tr>\n",
       "      <th id=\"T_952a4_level0_row4\" class=\"row_heading level0 row4\" >4</th>\n",
       "      <td id=\"T_952a4_row4_col0\" class=\"data row4 col0\" >Amphion</td>\n",
       "      <td id=\"T_952a4_row4_col1\" class=\"data row4 col1\" >74_Amp_10</td>\n",
       "      <td id=\"T_952a4_row4_col2\" class=\"data row4 col2\" >NNE</td>\n",
       "      <td id=\"T_952a4_row4_col3\" class=\"data row4 col3\" >2</td>\n",
       "      <td id=\"T_952a4_row4_col4\" class=\"data row4 col4\" >4</td>\n",
       "      <td id=\"T_952a4_row4_col5\" class=\"data row4 col5\" >3</td>\n",
       "      <td id=\"T_952a4_row4_col6\" class=\"data row4 col6\" >1</td>\n",
       "      <td id=\"T_952a4_row4_col7\" class=\"data row4 col7\" >1</td>\n",
       "      <td id=\"T_952a4_row4_col8\" class=\"data row4 col8\" >fibres</td>\n",
       "      <td id=\"T_952a4_row4_col9\" class=\"data row4 col9\" >140,00</td>\n",
       "    </tr>\n",
       "  </tbody>\n",
       "</table>\n"
      ],
      "text/plain": [
       "<pandas.io.formats.style.Styler at 0x7ba09c74a220>"
      ]
     },
     "metadata": {
      "scrapbook": {
       "mime_prefix": "",
       "name": "tablea21"
      }
     },
     "output_type": "display_data"
    }
   ],
   "source": [
    "table_no = 1\n",
    "figure_no = 1\n",
    "\n",
    "caption = 'Les données d\\'analyse. Tous les tableaux et figures sont construits à partir de cet ensemble de données.'\n",
    "rule = 'Les attributs dont la moyenne des résultats est supérieure à la moyenne du projet sont en rouge.'\n",
    "\n",
    "t_0 = work_data.head().style.set_table_styles(table_css_styles)\n",
    "table_0 = add_table_to_page(t_0, table_no, caption, section, page, rule, format_index='columns')\n",
    "glue('tablea21', table_0, display=True)"
   ]
  },
  {
   "cell_type": "markdown",
   "id": "2fd29516-479d-47ef-b46a-6bcc0d8f1347",
   "metadata": {
    "pycharm": {
     "name": "#%% md\n"
    }
   },
   "source": [
    "\n",
    "## Substrat\n",
    "\n",
    "Le substrat définit la surface de l'emplacement d'échantillonnage."
   ]
  },
  {
   "cell_type": "code",
   "execution_count": 3,
   "id": "91336a58-9c42-4937-8b41-e26687f2baaa",
   "metadata": {
    "editable": true,
    "pycharm": {
     "name": "#%%\n"
    },
    "slideshow": {
     "slide_type": ""
    },
    "tags": [
     "remove-input"
    ]
   },
   "outputs": [
    {
     "data": {
      "text/html": [
       "<style type=\"text/css\">\n",
       "#T_89d89 tr:nth-child(even) {\n",
       "  background-color: rgba(139, 69, 19, 0.08);\n",
       "}\n",
       "#T_89d89 tr:nth-child(odd) {\n",
       "  background: #FFF;\n",
       "}\n",
       "#T_89d89 tr {\n",
       "  font-size: 14px;\n",
       "  padding: 6px;\n",
       "}\n",
       "#T_89d89 th:nth-child(1) {\n",
       "  background-color: #FFF;\n",
       "  white-space: nowrap;\n",
       "  word-break: keep-all;\n",
       "}\n",
       "#T_89d89 td {\n",
       "  padding: 4px;\n",
       "  text-align: center;\n",
       "}\n",
       "#T_89d89 caption {\n",
       "  caption-side: bottom;\n",
       "  font-size: 14px;\n",
       "  text-align: left;\n",
       "  margin-top: 14px;\n",
       "}\n",
       "#T_89d89_row1_col1, #T_89d89_row2_col1, #T_89d89_row2_col5, #T_89d89_row3_col5 {\n",
       "  color: red;\n",
       "}\n",
       "</style>\n",
       "<table id=\"T_89d89\">\n",
       "  <caption><b>Table A2-2 :</b> Le résumé des résultats du nombre de particules trouvées dans chaque échantillon pour chaque substrat. Les attributs dont la moyenne des résultats est supérieure à la moyenne du projet sont en rouge.</caption>\n",
       "  <thead>\n",
       "    <tr>\n",
       "      <th class=\"blank level0\" >&nbsp;</th>\n",
       "      <th id=\"T_89d89_level0_col0\" class=\"col_heading level0 col0\" >Échantillons</th>\n",
       "      <th id=\"T_89d89_level0_col1\" class=\"col_heading level0 col1\" >Moyenne</th>\n",
       "      <th id=\"T_89d89_level0_col2\" class=\"col_heading level0 col2\" >Écart type</th>\n",
       "      <th id=\"T_89d89_level0_col3\" class=\"col_heading level0 col3\" >Min</th>\n",
       "      <th id=\"T_89d89_level0_col4\" class=\"col_heading level0 col4\" >25%</th>\n",
       "      <th id=\"T_89d89_level0_col5\" class=\"col_heading level0 col5\" >50%</th>\n",
       "      <th id=\"T_89d89_level0_col6\" class=\"col_heading level0 col6\" >75%</th>\n",
       "      <th id=\"T_89d89_level0_col7\" class=\"col_heading level0 col7\" >Max</th>\n",
       "    </tr>\n",
       "  </thead>\n",
       "  <tbody>\n",
       "    <tr>\n",
       "      <th id=\"T_89d89_level0_row0\" class=\"row_heading level0 row0\" >Cailloux</th>\n",
       "      <td id=\"T_89d89_row0_col0\" class=\"data row0 col0\" >46</td>\n",
       "      <td id=\"T_89d89_row0_col1\" class=\"data row0 col1\" >127,83</td>\n",
       "      <td id=\"T_89d89_row0_col2\" class=\"data row0 col2\" >112,64</td>\n",
       "      <td id=\"T_89d89_row0_col3\" class=\"data row0 col3\" >26</td>\n",
       "      <td id=\"T_89d89_row0_col4\" class=\"data row0 col4\" >61,00</td>\n",
       "      <td id=\"T_89d89_row0_col5\" class=\"data row0 col5\" >92,50</td>\n",
       "      <td id=\"T_89d89_row0_col6\" class=\"data row0 col6\" >159,50</td>\n",
       "      <td id=\"T_89d89_row0_col7\" class=\"data row0 col7\" >711</td>\n",
       "    </tr>\n",
       "    <tr>\n",
       "      <th id=\"T_89d89_level0_row1\" class=\"row_heading level0 row1\" >Graviers</th>\n",
       "      <td id=\"T_89d89_row1_col0\" class=\"data row1 col0\" >28</td>\n",
       "      <td id=\"T_89d89_row1_col1\" class=\"data row1 col1\" >353,36</td>\n",
       "      <td id=\"T_89d89_row1_col2\" class=\"data row1 col2\" >654,36</td>\n",
       "      <td id=\"T_89d89_row1_col3\" class=\"data row1 col3\" >20</td>\n",
       "      <td id=\"T_89d89_row1_col4\" class=\"data row1 col4\" >68,00</td>\n",
       "      <td id=\"T_89d89_row1_col5\" class=\"data row1 col5\" >90,50</td>\n",
       "      <td id=\"T_89d89_row1_col6\" class=\"data row1 col6\" >247,00</td>\n",
       "      <td id=\"T_89d89_row1_col7\" class=\"data row1 col7\" >3'143</td>\n",
       "    </tr>\n",
       "    <tr>\n",
       "      <th id=\"T_89d89_level0_row2\" class=\"row_heading level0 row2\" >Sables fins</th>\n",
       "      <td id=\"T_89d89_row2_col0\" class=\"data row2 col0\" >111</td>\n",
       "      <td id=\"T_89d89_row2_col1\" class=\"data row2 col1\" >182,15</td>\n",
       "      <td id=\"T_89d89_row2_col2\" class=\"data row2 col2\" >159,98</td>\n",
       "      <td id=\"T_89d89_row2_col3\" class=\"data row2 col3\" >23</td>\n",
       "      <td id=\"T_89d89_row2_col4\" class=\"data row2 col4\" >92,50</td>\n",
       "      <td id=\"T_89d89_row2_col5\" class=\"data row2 col5\" >138,00</td>\n",
       "      <td id=\"T_89d89_row2_col6\" class=\"data row2 col6\" >214,50</td>\n",
       "      <td id=\"T_89d89_row2_col7\" class=\"data row2 col7\" >1'016</td>\n",
       "    </tr>\n",
       "    <tr>\n",
       "      <th id=\"T_89d89_level0_row3\" class=\"row_heading level0 row3\" >Sables grossiers</th>\n",
       "      <td id=\"T_89d89_row3_col0\" class=\"data row3 col0\" >28</td>\n",
       "      <td id=\"T_89d89_row3_col1\" class=\"data row3 col1\" >157,36</td>\n",
       "      <td id=\"T_89d89_row3_col2\" class=\"data row3 col2\" >143,61</td>\n",
       "      <td id=\"T_89d89_row3_col3\" class=\"data row3 col3\" >19</td>\n",
       "      <td id=\"T_89d89_row3_col4\" class=\"data row3 col4\" >56,50</td>\n",
       "      <td id=\"T_89d89_row3_col5\" class=\"data row3 col5\" >123,00</td>\n",
       "      <td id=\"T_89d89_row3_col6\" class=\"data row3 col6\" >182,75</td>\n",
       "      <td id=\"T_89d89_row3_col7\" class=\"data row3 col7\" >562</td>\n",
       "    </tr>\n",
       "  </tbody>\n",
       "</table>\n"
      ],
      "text/plain": [
       "<pandas.io.formats.style.Styler at 0x7ba07411ad30>"
      ]
     },
     "metadata": {
      "scrapbook": {
       "mime_prefix": "",
       "name": "tablea22"
      }
     },
     "output_type": "display_data"
    }
   ],
   "source": [
    "column_display = {\n",
    "    \"count\":\"échantillons\",\n",
    "    \"mean\": \"moyenne\",\n",
    "    \"std\": \"écart type\",\n",
    "    \"échantillon\":\"échantillon\"\n",
    "}\n",
    "\n",
    "# ananlysis of substrat\n",
    "voi = \"substrat\"\n",
    "vals = \"compte\"\n",
    "groupbys = ['échantillon', voi]\n",
    "labels = name_substrate\n",
    "\n",
    "\n",
    "substrat_summary = attribute_summary(work_data, vals, voi, columns=column_display, labels=name_substrate)\n",
    "\n",
    "caption = 'Le résumé des résultats du nombre de particules trouvées dans chaque échantillon pour chaque substrat.'\n",
    "rule = 'Les attributs dont la moyenne des résultats est supérieure à la moyenne du projet sont en rouge.'\n",
    "table_no += 1\n",
    "\n",
    "table_one = add_table_to_page(substrat_summary, table_no, caption, section, page, rule)\n",
    "glue('tablea22', table_one, display=True)"
   ]
  },
  {
   "cell_type": "code",
   "execution_count": 4,
   "id": "06757855-56b9-44d0-a279-767650bf6c6d",
   "metadata": {
    "editable": true,
    "pycharm": {
     "name": "#%%\n"
    },
    "slideshow": {
     "slide_type": ""
    },
    "tags": [
     "remove-input"
    ]
   },
   "outputs": [],
   "source": [
    "hue_order = list(name_substrate.values())\n",
    "attribute_summary_grid(work_data, vals, voi, 'fig-A21', labels=labels, hue_order=hue_order)"
   ]
  },
  {
   "cell_type": "markdown",
   "id": "2d4ffd79-da7b-433f-9c66-39a3424a1af0",
   "metadata": {
    "editable": true,
    "pycharm": {
     "name": "#%% md\n"
    },
    "slideshow": {
     "slide_type": ""
    },
    "tags": []
   },
   "source": [
    "```{glue:figure} fig-A21\n",
    "---\n",
    "name: fig-A21\n",
    "---\n",
    "{glue:text}`blank_caption` \n",
    "```"
   ]
  },
  {
   "cell_type": "markdown",
   "id": "0c591902-1a50-4d97-a194-5fb468481fc6",
   "metadata": {
    "pycharm": {
     "name": "#%% md\n"
    }
   },
   "source": [
    "__Les plages substrat = cailloux:__"
   ]
  },
  {
   "cell_type": "code",
   "execution_count": 5,
   "id": "b6c66901-42c5-4b1b-be79-8a5fb922ace2",
   "metadata": {
    "pycharm": {
     "name": "#%%\n"
    },
    "tags": [
     "remove-input"
    ]
   },
   "outputs": [
    {
     "data": {
      "text/markdown": [
       "Cully, Hermance, Pichette, Port Choiseul, Versoix"
      ],
      "text/plain": [
       "<IPython.core.display.Markdown object>"
      ]
     },
     "execution_count": 5,
     "metadata": {},
     "output_type": "execute_result"
    }
   ],
   "source": [
    "md(', '.join(work_data[work_data.substrat.isin([3])].Plage.unique()))"
   ]
  },
  {
   "cell_type": "markdown",
   "id": "2198abcc-75aa-4417-80eb-db405fd5de01",
   "metadata": {
    "pycharm": {
     "name": "#%% md\n"
    }
   },
   "source": [
    "__Les plages substrat = sables fins:__"
   ]
  },
  {
   "cell_type": "code",
   "execution_count": 6,
   "id": "45825003-edf4-4d6e-a0ff-ef6e213916e9",
   "metadata": {
    "pycharm": {
     "name": "#%%\n"
    },
    "tags": [
     "remove-input"
    ]
   },
   "outputs": [
    {
     "data": {
      "text/markdown": [
       "Baby Plage, Bouveret, Excenevex, Grangettes, Préverenges, Rolle, Vidy"
      ],
      "text/plain": [
       "<IPython.core.display.Markdown object>"
      ]
     },
     "execution_count": 6,
     "metadata": {},
     "output_type": "execute_result"
    }
   ],
   "source": [
    "md(', '.join(work_data[work_data.substrat.isin([1])].Plage.unique()))"
   ]
  },
  {
   "cell_type": "markdown",
   "id": "de58010e-9504-4a79-a1db-3285f038cfc0",
   "metadata": {
    "pycharm": {
     "name": "#%% md\n"
    }
   },
   "source": [
    "__Les plages substrat = sables grossiers:__"
   ]
  },
  {
   "cell_type": "code",
   "execution_count": 7,
   "id": "5163d8cd-cfbe-424e-9964-b6f87c9c74ce",
   "metadata": {
    "pycharm": {
     "name": "#%%\n"
    },
    "tags": [
     "remove-input"
    ]
   },
   "outputs": [
    {
     "data": {
      "text/markdown": [
       "Clarens, Crans, Gland, Lutry, Meillerie, Savonnière, Tolochenaz, Tougues"
      ],
      "text/plain": [
       "<IPython.core.display.Markdown object>"
      ]
     },
     "execution_count": 7,
     "metadata": {},
     "output_type": "execute_result"
    }
   ],
   "source": [
    "md(', '.join(work_data[work_data.substrat.isin([2])].Plage.unique()))"
   ]
  },
  {
   "cell_type": "markdown",
   "id": "ab70b0d4-832c-4a18-a142-efc9eaf2de9a",
   "metadata": {
    "pycharm": {
     "name": "#%% md\n"
    }
   },
   "source": [
    "## Fréquentation"
   ]
  },
  {
   "cell_type": "code",
   "execution_count": 8,
   "id": "8be79f37-8f8e-48ca-b09b-055dc342a074",
   "metadata": {
    "pycharm": {
     "name": "#%%\n"
    },
    "tags": [
     "remove-input"
    ]
   },
   "outputs": [
    {
     "data": {
      "text/html": [
       "<style type=\"text/css\">\n",
       "#T_ad89e tr:nth-child(even) {\n",
       "  background-color: rgba(139, 69, 19, 0.08);\n",
       "}\n",
       "#T_ad89e tr:nth-child(odd) {\n",
       "  background: #FFF;\n",
       "}\n",
       "#T_ad89e tr {\n",
       "  font-size: 14px;\n",
       "  padding: 6px;\n",
       "}\n",
       "#T_ad89e th:nth-child(1) {\n",
       "  background-color: #FFF;\n",
       "  white-space: nowrap;\n",
       "  word-break: keep-all;\n",
       "}\n",
       "#T_ad89e td {\n",
       "  padding: 4px;\n",
       "  text-align: center;\n",
       "}\n",
       "#T_ad89e caption {\n",
       "  caption-side: bottom;\n",
       "  font-size: 14px;\n",
       "  text-align: left;\n",
       "  margin-top: 14px;\n",
       "}\n",
       "#T_ad89e_row0_col5, #T_ad89e_row2_col1, #T_ad89e_row2_col5 {\n",
       "  color: red;\n",
       "}\n",
       "</style>\n",
       "<table id=\"T_ad89e\">\n",
       "  <caption><b>Table A2-3 :</b> Le résumé des résultats du nombre de particules trouvées pour chaque niveau de fréquentation. Les attributs dont la moyenne des résultats est supérieure à la moyenne du projet sont en rouge.</caption>\n",
       "  <thead>\n",
       "    <tr>\n",
       "      <th class=\"blank level0\" >&nbsp;</th>\n",
       "      <th id=\"T_ad89e_level0_col0\" class=\"col_heading level0 col0\" >Échantillons</th>\n",
       "      <th id=\"T_ad89e_level0_col1\" class=\"col_heading level0 col1\" >Moyenne</th>\n",
       "      <th id=\"T_ad89e_level0_col2\" class=\"col_heading level0 col2\" >Écart type</th>\n",
       "      <th id=\"T_ad89e_level0_col3\" class=\"col_heading level0 col3\" >Min</th>\n",
       "      <th id=\"T_ad89e_level0_col4\" class=\"col_heading level0 col4\" >25%</th>\n",
       "      <th id=\"T_ad89e_level0_col5\" class=\"col_heading level0 col5\" >50%</th>\n",
       "      <th id=\"T_ad89e_level0_col6\" class=\"col_heading level0 col6\" >75%</th>\n",
       "      <th id=\"T_ad89e_level0_col7\" class=\"col_heading level0 col7\" >Max</th>\n",
       "    </tr>\n",
       "  </thead>\n",
       "  <tbody>\n",
       "    <tr>\n",
       "      <th id=\"T_ad89e_level0_row0\" class=\"row_heading level0 row0\" >Elevée</th>\n",
       "      <td id=\"T_ad89e_row0_col0\" class=\"data row0 col0\" >169</td>\n",
       "      <td id=\"T_ad89e_row0_col1\" class=\"data row0 col1\" >175,46</td>\n",
       "      <td id=\"T_ad89e_row0_col2\" class=\"data row0 col2\" >193,19</td>\n",
       "      <td id=\"T_ad89e_row0_col3\" class=\"data row0 col3\" >23</td>\n",
       "      <td id=\"T_ad89e_row0_col4\" class=\"data row0 col4\" >74,00</td>\n",
       "      <td id=\"T_ad89e_row0_col5\" class=\"data row0 col5\" >128,00</td>\n",
       "      <td id=\"T_ad89e_row0_col6\" class=\"data row0 col6\" >198,00</td>\n",
       "      <td id=\"T_ad89e_row0_col7\" class=\"data row0 col7\" >1'492</td>\n",
       "    </tr>\n",
       "    <tr>\n",
       "      <th id=\"T_ad89e_level0_row1\" class=\"row_heading level0 row1\" >Faible</th>\n",
       "      <td id=\"T_ad89e_row1_col0\" class=\"data row1 col0\" >7</td>\n",
       "      <td id=\"T_ad89e_row1_col1\" class=\"data row1 col1\" >83,86</td>\n",
       "      <td id=\"T_ad89e_row1_col2\" class=\"data row1 col2\" >54,91</td>\n",
       "      <td id=\"T_ad89e_row1_col3\" class=\"data row1 col3\" >19</td>\n",
       "      <td id=\"T_ad89e_row1_col4\" class=\"data row1 col4\" >56,00</td>\n",
       "      <td id=\"T_ad89e_row1_col5\" class=\"data row1 col5\" >57,00</td>\n",
       "      <td id=\"T_ad89e_row1_col6\" class=\"data row1 col6\" >108,50</td>\n",
       "      <td id=\"T_ad89e_row1_col7\" class=\"data row1 col7\" >182</td>\n",
       "    </tr>\n",
       "    <tr>\n",
       "      <th id=\"T_ad89e_level0_row2\" class=\"row_heading level0 row2\" >Moyenne</th>\n",
       "      <td id=\"T_ad89e_row2_col0\" class=\"data row2 col0\" >37</td>\n",
       "      <td id=\"T_ad89e_row2_col1\" class=\"data row2 col1\" >274,59</td>\n",
       "      <td id=\"T_ad89e_row2_col2\" class=\"data row2 col2\" >521,69</td>\n",
       "      <td id=\"T_ad89e_row2_col3\" class=\"data row2 col3\" >20</td>\n",
       "      <td id=\"T_ad89e_row2_col4\" class=\"data row2 col4\" >72,00</td>\n",
       "      <td id=\"T_ad89e_row2_col5\" class=\"data row2 col5\" >122,00</td>\n",
       "      <td id=\"T_ad89e_row2_col6\" class=\"data row2 col6\" >211,00</td>\n",
       "      <td id=\"T_ad89e_row2_col7\" class=\"data row2 col7\" >3'143</td>\n",
       "    </tr>\n",
       "  </tbody>\n",
       "</table>\n"
      ],
      "text/plain": [
       "<pandas.io.formats.style.Styler at 0x7ba07417c310>"
      ]
     },
     "metadata": {
      "scrapbook": {
       "mime_prefix": "",
       "name": "tablea23"
      }
     },
     "output_type": "display_data"
    }
   ],
   "source": [
    "# ananlysis of frequentation\n",
    "voi = \"fréquentation\"\n",
    "vals = \"compte\"\n",
    "groupbys = ['echantillon', voi]\n",
    "labels = name_frequentation\n",
    "\n",
    "freq = attribute_summary(work_data, vals, voi, columns=column_display, labels=labels)\n",
    "\n",
    "caption = 'Le résumé des résultats du nombre de particules trouvées pour chaque niveau de fréquentation.'\n",
    "table_no += 1\n",
    "\n",
    "table_two = add_table_to_page(freq, table_no, caption, section, page, rule)\n",
    "glue('tablea23', table_two, display=True)"
   ]
  },
  {
   "cell_type": "code",
   "execution_count": 9,
   "id": "5c055bd7-e95e-4446-997c-b9f2ef097558",
   "metadata": {
    "pycharm": {
     "name": "#%%\n"
    },
    "tags": [
     "remove-input"
    ]
   },
   "outputs": [],
   "source": [
    "attribute_summary_grid(work_data, vals, voi, 'fig-A22', labels=labels)"
   ]
  },
  {
   "cell_type": "markdown",
   "id": "a9d0c469-759f-40f6-b717-8602ed28429d",
   "metadata": {
    "pycharm": {
     "name": "#%% md\n"
    }
   },
   "source": [
    "```{glue:figure} fig-A22\n",
    "---\n",
    "name: fig-A22\n",
    "---\n",
    "{glue:text}`blank_caption` \n",
    "```"
   ]
  },
  {
   "cell_type": "markdown",
   "id": "2d91d4f7-3e20-482d-8086-cdabd1e2e5c9",
   "metadata": {
    "pycharm": {
     "name": "#%% md\n"
    },
    "tags": []
   },
   "source": [
    "__Les plages fréquentation = moyenne:__"
   ]
  },
  {
   "cell_type": "code",
   "execution_count": 10,
   "id": "947db345-8bdb-4a1e-84e7-cf6b2fdfd56c",
   "metadata": {
    "pycharm": {
     "name": "#%%\n"
    },
    "tags": [
     "remove-input"
    ]
   },
   "outputs": [
    {
     "data": {
      "text/markdown": [
       "Anthy, Aubonne, Gland, Grangettes, Lugrin, Pichette, Saint-Disdille"
      ],
      "text/plain": [
       "<IPython.core.display.Markdown object>"
      ]
     },
     "execution_count": 10,
     "metadata": {},
     "output_type": "execute_result"
    }
   ],
   "source": [
    "md(', '.join(work_data[work_data['fréquentation'].isin([2])].Plage.unique()))"
   ]
  },
  {
   "cell_type": "markdown",
   "id": "25cfe243-315a-43f8-8e7d-2d4ade298b1f",
   "metadata": {
    "pycharm": {
     "name": "#%% md\n"
    },
    "tags": []
   },
   "source": [
    "__Les plages fréquentation = élevée:__"
   ]
  },
  {
   "cell_type": "code",
   "execution_count": 11,
   "id": "0274da9c-0c70-4dd0-99b5-2d8cd708b8b9",
   "metadata": {
    "pycharm": {
     "name": "#%%\n"
    },
    "tags": [
     "remove-input"
    ]
   },
   "outputs": [
    {
     "data": {
      "text/markdown": [
       "Amphion, Baby Plage, Bouveret, Clarens, Excenevex, Hermance, Lutry, Port Choiseul, Préverenges, Rolle, Savonnière, Tougues, Versoix, Vidy"
      ],
      "text/plain": [
       "<IPython.core.display.Markdown object>"
      ]
     },
     "execution_count": 11,
     "metadata": {},
     "output_type": "execute_result"
    }
   ],
   "source": [
    "md(', '.join(work_data[work_data['fréquentation'].isin([3])].Plage.unique()))"
   ]
  },
  {
   "cell_type": "markdown",
   "id": "87ff7f34-ee8a-4301-81bb-49cfc1b6acc6",
   "metadata": {
    "editable": true,
    "pycharm": {
     "name": "#%% md\n"
    },
    "slideshow": {
     "slide_type": ""
    },
    "tags": []
   },
   "source": [
    "## Situation"
   ]
  },
  {
   "cell_type": "code",
   "execution_count": 12,
   "id": "c3f4e1ff-4b7d-48ee-b01a-23b19b6fac30",
   "metadata": {
    "pycharm": {
     "name": "#%%\n"
    },
    "tags": [
     "remove-input"
    ]
   },
   "outputs": [
    {
     "data": {
      "text/html": [
       "<style type=\"text/css\">\n",
       "#T_f28b9 tr:nth-child(even) {\n",
       "  background-color: rgba(139, 69, 19, 0.08);\n",
       "}\n",
       "#T_f28b9 tr:nth-child(odd) {\n",
       "  background: #FFF;\n",
       "}\n",
       "#T_f28b9 tr {\n",
       "  font-size: 14px;\n",
       "  padding: 6px;\n",
       "}\n",
       "#T_f28b9 th:nth-child(1) {\n",
       "  background-color: #FFF;\n",
       "  white-space: nowrap;\n",
       "  word-break: keep-all;\n",
       "}\n",
       "#T_f28b9 td {\n",
       "  padding: 4px;\n",
       "  text-align: center;\n",
       "}\n",
       "#T_f28b9 caption {\n",
       "  caption-side: bottom;\n",
       "  font-size: 14px;\n",
       "  text-align: left;\n",
       "  margin-top: 14px;\n",
       "}\n",
       "#T_f28b9_row0_col1, #T_f28b9_row0_col5 {\n",
       "  color: red;\n",
       "}\n",
       "</style>\n",
       "<table id=\"T_f28b9\">\n",
       "  <caption><b>Table A2-4 :</b> Le résumé des résultats du nombre de particules trouvées pour chaque situation: urbain, campagne. Les attributs dont la moyenne des résultats est supérieure à la moyenne du projet sont en rouge.</caption>\n",
       "  <thead>\n",
       "    <tr>\n",
       "      <th class=\"blank level0\" >&nbsp;</th>\n",
       "      <th id=\"T_f28b9_level0_col0\" class=\"col_heading level0 col0\" >Échantillons</th>\n",
       "      <th id=\"T_f28b9_level0_col1\" class=\"col_heading level0 col1\" >Moyenne</th>\n",
       "      <th id=\"T_f28b9_level0_col2\" class=\"col_heading level0 col2\" >Écart type</th>\n",
       "      <th id=\"T_f28b9_level0_col3\" class=\"col_heading level0 col3\" >Min</th>\n",
       "      <th id=\"T_f28b9_level0_col4\" class=\"col_heading level0 col4\" >25%</th>\n",
       "      <th id=\"T_f28b9_level0_col5\" class=\"col_heading level0 col5\" >50%</th>\n",
       "      <th id=\"T_f28b9_level0_col6\" class=\"col_heading level0 col6\" >75%</th>\n",
       "      <th id=\"T_f28b9_level0_col7\" class=\"col_heading level0 col7\" >Max</th>\n",
       "    </tr>\n",
       "  </thead>\n",
       "  <tbody>\n",
       "    <tr>\n",
       "      <th id=\"T_f28b9_level0_row0\" class=\"row_heading level0 row0\" >Campagne</th>\n",
       "      <td id=\"T_f28b9_row0_col0\" class=\"data row0 col0\" >138</td>\n",
       "      <td id=\"T_f28b9_row0_col1\" class=\"data row0 col1\" >197,04</td>\n",
       "      <td id=\"T_f28b9_row0_col2\" class=\"data row0 col2\" >301,11</td>\n",
       "      <td id=\"T_f28b9_row0_col3\" class=\"data row0 col3\" >19</td>\n",
       "      <td id=\"T_f28b9_row0_col4\" class=\"data row0 col4\" >82,00</td>\n",
       "      <td id=\"T_f28b9_row0_col5\" class=\"data row0 col5\" >128,50</td>\n",
       "      <td id=\"T_f28b9_row0_col6\" class=\"data row0 col6\" >210,50</td>\n",
       "      <td id=\"T_f28b9_row0_col7\" class=\"data row0 col7\" >3'143</td>\n",
       "    </tr>\n",
       "    <tr>\n",
       "      <th id=\"T_f28b9_level0_row1\" class=\"row_heading level0 row1\" >Urbain</th>\n",
       "      <td id=\"T_f28b9_row1_col0\" class=\"data row1 col0\" >75</td>\n",
       "      <td id=\"T_f28b9_row1_col1\" class=\"data row1 col1\" >176,11</td>\n",
       "      <td id=\"T_f28b9_row1_col2\" class=\"data row1 col2\" >233,17</td>\n",
       "      <td id=\"T_f28b9_row1_col3\" class=\"data row1 col3\" >23</td>\n",
       "      <td id=\"T_f28b9_row1_col4\" class=\"data row1 col4\" >62,50</td>\n",
       "      <td id=\"T_f28b9_row1_col5\" class=\"data row1 col5\" >105,00</td>\n",
       "      <td id=\"T_f28b9_row1_col6\" class=\"data row1 col6\" >194,00</td>\n",
       "      <td id=\"T_f28b9_row1_col7\" class=\"data row1 col7\" >1'492</td>\n",
       "    </tr>\n",
       "  </tbody>\n",
       "</table>\n"
      ],
      "text/plain": [
       "<pandas.io.formats.style.Styler at 0x7ba0046e3370>"
      ]
     },
     "metadata": {
      "scrapbook": {
       "mime_prefix": "",
       "name": "tablea24"
      }
     },
     "output_type": "display_data"
    }
   ],
   "source": [
    "# ananlysis of situation\n",
    "voi = \"situation\"\n",
    "vals = \"compte\"\n",
    "groupby = ['echantillon', voi]\n",
    "labels = name_situation\n",
    "\n",
    "sit = attribute_summary(work_data, vals, voi, columns=column_display, labels=labels)\n",
    "\n",
    "caption = 'Le résumé des résultats du nombre de particules trouvées pour chaque situation: urbain, campagne.'\n",
    "table_no += 1\n",
    "\n",
    "table_three = add_table_to_page(sit, table_no, caption, section, page, rule)\n",
    "glue('tablea24', table_three, display=True)"
   ]
  },
  {
   "cell_type": "code",
   "execution_count": 13,
   "id": "6f0bdf69-e3e9-4148-8d61-a406c49db9ca",
   "metadata": {
    "pycharm": {
     "name": "#%%\n"
    },
    "tags": [
     "remove-input"
    ]
   },
   "outputs": [],
   "source": [
    "attribute_summary_grid(work_data, vals, voi, 'fig-A23', labels=labels)"
   ]
  },
  {
   "cell_type": "markdown",
   "id": "ad546b57-8fe3-4162-8104-b2a20079231b",
   "metadata": {
    "pycharm": {
     "name": "#%% md\n"
    }
   },
   "source": [
    "```{glue:figure} fig-A23\n",
    "---\n",
    "name: fig-A23\n",
    "---\n",
    "{glue:text}`blank_caption` \n",
    "```"
   ]
  },
  {
   "cell_type": "markdown",
   "id": "4838741a-24d3-4a05-acb7-273c16cf6f28",
   "metadata": {
    "pycharm": {
     "name": "#%% md\n"
    },
    "tags": []
   },
   "source": [
    "__Les plages situation = campagne:__"
   ]
  },
  {
   "cell_type": "code",
   "execution_count": 14,
   "id": "37a01f56-9b16-4b98-9b2d-e20c62ff1414",
   "metadata": {
    "pycharm": {
     "name": "#%%\n"
    },
    "tags": [
     "remove-input"
    ]
   },
   "outputs": [
    {
     "data": {
      "text/markdown": [
       "Amphion, Anthy, Aubonne, Bouveret, Crans, Cully, Excenevex, Gland, Grangettes, Lugrin, Pichette, Préverenges, Saint-Disdille, Savonnière, Tolochenaz, Tougues, Versoix"
      ],
      "text/plain": [
       "<IPython.core.display.Markdown object>"
      ]
     },
     "execution_count": 14,
     "metadata": {},
     "output_type": "execute_result"
    }
   ],
   "source": [
    "md(', '.join(work_data[work_data.situation.isin([1])].Plage.unique()))"
   ]
  },
  {
   "cell_type": "markdown",
   "id": "ad34431a-eec1-4bc7-abfd-fbd0586c140e",
   "metadata": {
    "pycharm": {
     "name": "#%% md\n"
    }
   },
   "source": [
    "## Distance"
   ]
  },
  {
   "cell_type": "code",
   "execution_count": 15,
   "id": "3f0d77ea-80a4-4eed-a98e-0fbec78caa69",
   "metadata": {
    "pycharm": {
     "name": "#%%\n"
    },
    "tags": [
     "remove-input"
    ]
   },
   "outputs": [
    {
     "data": {
      "text/html": [
       "<style type=\"text/css\">\n",
       "#T_2c44a tr:nth-child(even) {\n",
       "  background-color: rgba(139, 69, 19, 0.08);\n",
       "}\n",
       "#T_2c44a tr:nth-child(odd) {\n",
       "  background: #FFF;\n",
       "}\n",
       "#T_2c44a tr {\n",
       "  font-size: 14px;\n",
       "  padding: 6px;\n",
       "}\n",
       "#T_2c44a th:nth-child(1) {\n",
       "  background-color: #FFF;\n",
       "  white-space: nowrap;\n",
       "  word-break: keep-all;\n",
       "}\n",
       "#T_2c44a td {\n",
       "  padding: 4px;\n",
       "  text-align: center;\n",
       "}\n",
       "#T_2c44a caption {\n",
       "  caption-side: bottom;\n",
       "  font-size: 14px;\n",
       "  text-align: left;\n",
       "  margin-top: 14px;\n",
       "}\n",
       "#T_2c44a_row0_col1, #T_2c44a_row0_col5, #T_2c44a_row2_col1, #T_2c44a_row2_col5 {\n",
       "  color: red;\n",
       "}\n",
       "</style>\n",
       "<table id=\"T_2c44a\">\n",
       "  <caption><b>Table A2-5 :</b> Le résumé des résultats du nombre de particules trouvées selon le distance du parking. Les attributs dont la moyenne des résultats est supérieure à la moyenne du projet sont en rouge.</caption>\n",
       "  <thead>\n",
       "    <tr>\n",
       "      <th class=\"blank level0\" >&nbsp;</th>\n",
       "      <th id=\"T_2c44a_level0_col0\" class=\"col_heading level0 col0\" >Échantillons</th>\n",
       "      <th id=\"T_2c44a_level0_col1\" class=\"col_heading level0 col1\" >Moyenne</th>\n",
       "      <th id=\"T_2c44a_level0_col2\" class=\"col_heading level0 col2\" >Écart type</th>\n",
       "      <th id=\"T_2c44a_level0_col3\" class=\"col_heading level0 col3\" >Min</th>\n",
       "      <th id=\"T_2c44a_level0_col4\" class=\"col_heading level0 col4\" >25%</th>\n",
       "      <th id=\"T_2c44a_level0_col5\" class=\"col_heading level0 col5\" >50%</th>\n",
       "      <th id=\"T_2c44a_level0_col6\" class=\"col_heading level0 col6\" >75%</th>\n",
       "      <th id=\"T_2c44a_level0_col7\" class=\"col_heading level0 col7\" >Max</th>\n",
       "    </tr>\n",
       "  </thead>\n",
       "  <tbody>\n",
       "    <tr>\n",
       "      <th id=\"T_2c44a_level0_row0\" class=\"row_heading level0 row0\" >100 - 500 m</th>\n",
       "      <td id=\"T_2c44a_row0_col0\" class=\"data row0 col0\" >107</td>\n",
       "      <td id=\"T_2c44a_row0_col1\" class=\"data row0 col1\" >204,59</td>\n",
       "      <td id=\"T_2c44a_row0_col2\" class=\"data row0 col2\" >243,88</td>\n",
       "      <td id=\"T_2c44a_row0_col3\" class=\"data row0 col3\" >23</td>\n",
       "      <td id=\"T_2c44a_row0_col4\" class=\"data row0 col4\" >72,50</td>\n",
       "      <td id=\"T_2c44a_row0_col5\" class=\"data row0 col5\" >130,00</td>\n",
       "      <td id=\"T_2c44a_row0_col6\" class=\"data row0 col6\" >217,50</td>\n",
       "      <td id=\"T_2c44a_row0_col7\" class=\"data row0 col7\" >1'492</td>\n",
       "    </tr>\n",
       "    <tr>\n",
       "      <th id=\"T_2c44a_level0_row1\" class=\"row_heading level0 row1\" >500 - 1000 m</th>\n",
       "      <td id=\"T_2c44a_row1_col0\" class=\"data row1 col0\" >2</td>\n",
       "      <td id=\"T_2c44a_row1_col1\" class=\"data row1 col1\" >38,00</td>\n",
       "      <td id=\"T_2c44a_row1_col2\" class=\"data row1 col2\" >26,87</td>\n",
       "      <td id=\"T_2c44a_row1_col3\" class=\"data row1 col3\" >19</td>\n",
       "      <td id=\"T_2c44a_row1_col4\" class=\"data row1 col4\" >28,50</td>\n",
       "      <td id=\"T_2c44a_row1_col5\" class=\"data row1 col5\" >38,00</td>\n",
       "      <td id=\"T_2c44a_row1_col6\" class=\"data row1 col6\" >47,50</td>\n",
       "      <td id=\"T_2c44a_row1_col7\" class=\"data row1 col7\" >57</td>\n",
       "    </tr>\n",
       "    <tr>\n",
       "      <th id=\"T_2c44a_level0_row2\" class=\"row_heading level0 row2\" >< 100 m</th>\n",
       "      <td id=\"T_2c44a_row2_col0\" class=\"data row2 col0\" >92</td>\n",
       "      <td id=\"T_2c44a_row2_col1\" class=\"data row2 col1\" >187,80</td>\n",
       "      <td id=\"T_2c44a_row2_col2\" class=\"data row2 col2\" >330,68</td>\n",
       "      <td id=\"T_2c44a_row2_col3\" class=\"data row2 col3\" >20</td>\n",
       "      <td id=\"T_2c44a_row2_col4\" class=\"data row2 col4\" >83,75</td>\n",
       "      <td id=\"T_2c44a_row2_col5\" class=\"data row2 col5\" >128,00</td>\n",
       "      <td id=\"T_2c44a_row2_col6\" class=\"data row2 col6\" >195,50</td>\n",
       "      <td id=\"T_2c44a_row2_col7\" class=\"data row2 col7\" >3'143</td>\n",
       "    </tr>\n",
       "    <tr>\n",
       "      <th id=\"T_2c44a_level0_row3\" class=\"row_heading level0 row3\" >> 1000 m</th>\n",
       "      <td id=\"T_2c44a_row3_col0\" class=\"data row3 col0\" >12</td>\n",
       "      <td id=\"T_2c44a_row3_col1\" class=\"data row3 col1\" >96,17</td>\n",
       "      <td id=\"T_2c44a_row3_col2\" class=\"data row3 col2\" >55,89</td>\n",
       "      <td id=\"T_2c44a_row3_col3\" class=\"data row3 col3\" >44</td>\n",
       "      <td id=\"T_2c44a_row3_col4\" class=\"data row3 col4\" >56,50</td>\n",
       "      <td id=\"T_2c44a_row3_col5\" class=\"data row3 col5\" >77,00</td>\n",
       "      <td id=\"T_2c44a_row3_col6\" class=\"data row3 col6\" >107,00</td>\n",
       "      <td id=\"T_2c44a_row3_col7\" class=\"data row3 col7\" >209</td>\n",
       "    </tr>\n",
       "  </tbody>\n",
       "</table>\n"
      ],
      "text/plain": [
       "<pandas.io.formats.style.Styler at 0x7ba0041dbc10>"
      ]
     },
     "metadata": {
      "scrapbook": {
       "mime_prefix": "",
       "name": "tablea25"
      }
     },
     "output_type": "display_data"
    }
   ],
   "source": [
    "# ananlysis of distance\n",
    "voi = \"distance\"\n",
    "vals = \"compte\"\n",
    "groupby = ['echantillon', voi]\n",
    "labels = name_distance\n",
    "\n",
    "dist = attribute_summary(work_data, vals, voi, columns=column_display, labels=labels)\n",
    "\n",
    "caption = 'Le résumé des résultats du nombre de particules trouvées selon le distance du parking.'\n",
    "table_no += 1\n",
    "\n",
    "table_four = add_table_to_page(dist, table_no, caption, section, page, rule)\n",
    "glue('tablea25', table_four, display=True)"
   ]
  },
  {
   "cell_type": "code",
   "execution_count": 16,
   "id": "361a9a83-a280-46f0-8404-c4281c74f6f3",
   "metadata": {
    "pycharm": {
     "name": "#%%\n"
    },
    "tags": [
     "remove-input"
    ]
   },
   "outputs": [],
   "source": [
    "attribute_summary_grid(work_data, vals, voi, 'fig-A24', labels=labels)"
   ]
  },
  {
   "cell_type": "markdown",
   "id": "c1cbe92a-76b1-4bde-96ab-16fc4c4269ff",
   "metadata": {
    "pycharm": {
     "name": "#%% md\n"
    }
   },
   "source": [
    "```{glue:figure} fig-A24\n",
    "---\n",
    "name: fig-A24\n",
    "---\n",
    "{glue:text}`blank_caption` \n",
    "```"
   ]
  },
  {
   "cell_type": "markdown",
   "id": "28330572-b8c2-435b-a60f-7eacf5f9d272",
   "metadata": {
    "pycharm": {
     "name": "#%% md\n"
    },
    "tags": []
   },
   "source": [
    "__Les plages distance = 100 - 500 m:__ "
   ]
  },
  {
   "cell_type": "code",
   "execution_count": 17,
   "id": "1dbd1c84-59b2-46c9-abf8-da0a650e2532",
   "metadata": {
    "pycharm": {
     "name": "#%%\n"
    },
    "tags": [
     "remove-input"
    ]
   },
   "outputs": [
    {
     "data": {
      "text/markdown": [
       "Baby Plage, Bouveret, Grangettes, Hermance, Lugrin, Lutry, Port Choiseul, Préverenges, Tougues, Versoix, Vidy"
      ],
      "text/plain": [
       "<IPython.core.display.Markdown object>"
      ]
     },
     "execution_count": 17,
     "metadata": {},
     "output_type": "execute_result"
    }
   ],
   "source": [
    "md(', '.join(work_data[work_data.distance.isin([2])].Plage.unique()))"
   ]
  },
  {
   "cell_type": "markdown",
   "id": "d06f6349-06a0-48f7-8066-7a58f650d44a",
   "metadata": {
    "pycharm": {
     "name": "#%% md\n"
    },
    "tags": []
   },
   "source": [
    "__Les plages distance = < 100 m:__ "
   ]
  },
  {
   "cell_type": "code",
   "execution_count": 18,
   "id": "27512734-ead7-42ad-9fd6-a38f01cd3538",
   "metadata": {
    "pycharm": {
     "name": "#%%\n"
    },
    "tags": [
     "remove-input"
    ]
   },
   "outputs": [
    {
     "data": {
      "text/markdown": [
       "Amphion, Anthy, Clarens, Cully, Excenevex, Gland, Pichette, Rolle, Saint-Disdille, Savonnière"
      ],
      "text/plain": [
       "<IPython.core.display.Markdown object>"
      ]
     },
     "execution_count": 18,
     "metadata": {},
     "output_type": "execute_result"
    }
   ],
   "source": [
    "md(', '.join(work_data[work_data.distance.isin([1])].Plage.unique()))"
   ]
  },
  {
   "cell_type": "markdown",
   "id": "34476b29-d31e-4010-a2e8-16395e513817",
   "metadata": {
    "pycharm": {
     "name": "#%% md\n"
    }
   },
   "source": [
    "## Orientation"
   ]
  },
  {
   "cell_type": "code",
   "execution_count": 19,
   "id": "8a98785d-d666-4b4b-877d-0e7e1e55a24b",
   "metadata": {
    "editable": true,
    "pycharm": {
     "name": "#%%\n"
    },
    "slideshow": {
     "slide_type": ""
    },
    "tags": [
     "remove-input"
    ]
   },
   "outputs": [
    {
     "data": {
      "text/html": [
       "<style type=\"text/css\">\n",
       "#T_71eec tr:nth-child(even) {\n",
       "  background-color: rgba(139, 69, 19, 0.08);\n",
       "}\n",
       "#T_71eec tr:nth-child(odd) {\n",
       "  background: #FFF;\n",
       "}\n",
       "#T_71eec tr {\n",
       "  font-size: 14px;\n",
       "  padding: 6px;\n",
       "}\n",
       "#T_71eec th:nth-child(1) {\n",
       "  background-color: #FFF;\n",
       "  white-space: nowrap;\n",
       "  word-break: keep-all;\n",
       "}\n",
       "#T_71eec td {\n",
       "  padding: 4px;\n",
       "  text-align: center;\n",
       "}\n",
       "#T_71eec caption {\n",
       "  caption-side: bottom;\n",
       "  font-size: 14px;\n",
       "  text-align: left;\n",
       "  margin-top: 14px;\n",
       "}\n",
       "#T_71eec_row1_col5, #T_71eec_row3_col5, #T_71eec_row4_col1, #T_71eec_row5_col5, #T_71eec_row7_col1, #T_71eec_row7_col5, #T_71eec_row8_col1, #T_71eec_row11_col1, #T_71eec_row11_col5, #T_71eec_row13_col1, #T_71eec_row13_col5 {\n",
       "  color: red;\n",
       "}\n",
       "</style>\n",
       "<table id=\"T_71eec\">\n",
       "  <caption><b>Table A2-6 :</b> Le résumé des résultats du nombre de particules trouvées selon l'orientation de la plage. Les attributs dont la moyenne des résultats est supérieure à la moyenne du projet sont en rouge.</caption>\n",
       "  <thead>\n",
       "    <tr>\n",
       "      <th class=\"blank level0\" >&nbsp;</th>\n",
       "      <th id=\"T_71eec_level0_col0\" class=\"col_heading level0 col0\" >Échantillons</th>\n",
       "      <th id=\"T_71eec_level0_col1\" class=\"col_heading level0 col1\" >Moyenne</th>\n",
       "      <th id=\"T_71eec_level0_col2\" class=\"col_heading level0 col2\" >Écart type</th>\n",
       "      <th id=\"T_71eec_level0_col3\" class=\"col_heading level0 col3\" >Min</th>\n",
       "      <th id=\"T_71eec_level0_col4\" class=\"col_heading level0 col4\" >25%</th>\n",
       "      <th id=\"T_71eec_level0_col5\" class=\"col_heading level0 col5\" >50%</th>\n",
       "      <th id=\"T_71eec_level0_col6\" class=\"col_heading level0 col6\" >75%</th>\n",
       "      <th id=\"T_71eec_level0_col7\" class=\"col_heading level0 col7\" >Max</th>\n",
       "    </tr>\n",
       "  </thead>\n",
       "  <tbody>\n",
       "    <tr>\n",
       "      <th id=\"T_71eec_level0_row0\" class=\"row_heading level0 row0\" >E</th>\n",
       "      <td id=\"T_71eec_row0_col0\" class=\"data row0 col0\" >1</td>\n",
       "      <td id=\"T_71eec_row0_col1\" class=\"data row0 col1\" >40,00</td>\n",
       "      <td id=\"T_71eec_row0_col2\" class=\"data row0 col2\" >nan</td>\n",
       "      <td id=\"T_71eec_row0_col3\" class=\"data row0 col3\" >40</td>\n",
       "      <td id=\"T_71eec_row0_col4\" class=\"data row0 col4\" >40,00</td>\n",
       "      <td id=\"T_71eec_row0_col5\" class=\"data row0 col5\" >40,00</td>\n",
       "      <td id=\"T_71eec_row0_col6\" class=\"data row0 col6\" >40,00</td>\n",
       "      <td id=\"T_71eec_row0_col7\" class=\"data row0 col7\" >40</td>\n",
       "    </tr>\n",
       "    <tr>\n",
       "      <th id=\"T_71eec_level0_row1\" class=\"row_heading level0 row1\" >ENE</th>\n",
       "      <td id=\"T_71eec_row1_col0\" class=\"data row1 col0\" >2</td>\n",
       "      <td id=\"T_71eec_row1_col1\" class=\"data row1 col1\" >135,50</td>\n",
       "      <td id=\"T_71eec_row1_col2\" class=\"data row1 col2\" >65,76</td>\n",
       "      <td id=\"T_71eec_row1_col3\" class=\"data row1 col3\" >89</td>\n",
       "      <td id=\"T_71eec_row1_col4\" class=\"data row1 col4\" >112,25</td>\n",
       "      <td id=\"T_71eec_row1_col5\" class=\"data row1 col5\" >135,50</td>\n",
       "      <td id=\"T_71eec_row1_col6\" class=\"data row1 col6\" >158,75</td>\n",
       "      <td id=\"T_71eec_row1_col7\" class=\"data row1 col7\" >182</td>\n",
       "    </tr>\n",
       "    <tr>\n",
       "      <th id=\"T_71eec_level0_row2\" class=\"row_heading level0 row2\" >ESE</th>\n",
       "      <td id=\"T_71eec_row2_col0\" class=\"data row2 col0\" >4</td>\n",
       "      <td id=\"T_71eec_row2_col1\" class=\"data row2 col1\" >99,75</td>\n",
       "      <td id=\"T_71eec_row2_col2\" class=\"data row2 col2\" >34,93</td>\n",
       "      <td id=\"T_71eec_row2_col3\" class=\"data row2 col3\" >62</td>\n",
       "      <td id=\"T_71eec_row2_col4\" class=\"data row2 col4\" >83,00</td>\n",
       "      <td id=\"T_71eec_row2_col5\" class=\"data row2 col5\" >95,50</td>\n",
       "      <td id=\"T_71eec_row2_col6\" class=\"data row2 col6\" >112,25</td>\n",
       "      <td id=\"T_71eec_row2_col7\" class=\"data row2 col7\" >146</td>\n",
       "    </tr>\n",
       "    <tr>\n",
       "      <th id=\"T_71eec_level0_row3\" class=\"row_heading level0 row3\" >N</th>\n",
       "      <td id=\"T_71eec_row3_col0\" class=\"data row3 col0\" >14</td>\n",
       "      <td id=\"T_71eec_row3_col1\" class=\"data row3 col1\" >175,21</td>\n",
       "      <td id=\"T_71eec_row3_col2\" class=\"data row3 col2\" >169,50</td>\n",
       "      <td id=\"T_71eec_row3_col3\" class=\"data row3 col3\" >27</td>\n",
       "      <td id=\"T_71eec_row3_col4\" class=\"data row3 col4\" >85,50</td>\n",
       "      <td id=\"T_71eec_row3_col5\" class=\"data row3 col5\" >136,50</td>\n",
       "      <td id=\"T_71eec_row3_col6\" class=\"data row3 col6\" >211,25</td>\n",
       "      <td id=\"T_71eec_row3_col7\" class=\"data row3 col7\" >711</td>\n",
       "    </tr>\n",
       "    <tr>\n",
       "      <th id=\"T_71eec_level0_row4\" class=\"row_heading level0 row4\" >NE</th>\n",
       "      <td id=\"T_71eec_row4_col0\" class=\"data row4 col0\" >42</td>\n",
       "      <td id=\"T_71eec_row4_col1\" class=\"data row4 col1\" >207,69</td>\n",
       "      <td id=\"T_71eec_row4_col2\" class=\"data row4 col2\" >293,25</td>\n",
       "      <td id=\"T_71eec_row4_col3\" class=\"data row4 col3\" >31</td>\n",
       "      <td id=\"T_71eec_row4_col4\" class=\"data row4 col4\" >73,75</td>\n",
       "      <td id=\"T_71eec_row4_col5\" class=\"data row4 col5\" >116,50</td>\n",
       "      <td id=\"T_71eec_row4_col6\" class=\"data row4 col6\" >192,50</td>\n",
       "      <td id=\"T_71eec_row4_col7\" class=\"data row4 col7\" >1'492</td>\n",
       "    </tr>\n",
       "    <tr>\n",
       "      <th id=\"T_71eec_level0_row5\" class=\"row_heading level0 row5\" >NNE</th>\n",
       "      <td id=\"T_71eec_row5_col0\" class=\"data row5 col0\" >9</td>\n",
       "      <td id=\"T_71eec_row5_col1\" class=\"data row5 col1\" >124,44</td>\n",
       "      <td id=\"T_71eec_row5_col2\" class=\"data row5 col2\" >73,04</td>\n",
       "      <td id=\"T_71eec_row5_col3\" class=\"data row5 col3\" >23</td>\n",
       "      <td id=\"T_71eec_row5_col4\" class=\"data row5 col4\" >59,00</td>\n",
       "      <td id=\"T_71eec_row5_col5\" class=\"data row5 col5\" >126,00</td>\n",
       "      <td id=\"T_71eec_row5_col6\" class=\"data row5 col6\" >182,00</td>\n",
       "      <td id=\"T_71eec_row5_col7\" class=\"data row5 col7\" >230</td>\n",
       "    </tr>\n",
       "    <tr>\n",
       "      <th id=\"T_71eec_level0_row6\" class=\"row_heading level0 row6\" >NNO</th>\n",
       "      <td id=\"T_71eec_row6_col0\" class=\"data row6 col0\" >10</td>\n",
       "      <td id=\"T_71eec_row6_col1\" class=\"data row6 col1\" >135,60</td>\n",
       "      <td id=\"T_71eec_row6_col2\" class=\"data row6 col2\" >90,70</td>\n",
       "      <td id=\"T_71eec_row6_col3\" class=\"data row6 col3\" >38</td>\n",
       "      <td id=\"T_71eec_row6_col4\" class=\"data row6 col4\" >71,25</td>\n",
       "      <td id=\"T_71eec_row6_col5\" class=\"data row6 col5\" >119,50</td>\n",
       "      <td id=\"T_71eec_row6_col6\" class=\"data row6 col6\" >188,00</td>\n",
       "      <td id=\"T_71eec_row6_col7\" class=\"data row6 col7\" >334</td>\n",
       "    </tr>\n",
       "    <tr>\n",
       "      <th id=\"T_71eec_level0_row7\" class=\"row_heading level0 row7\" >NO</th>\n",
       "      <td id=\"T_71eec_row7_col0\" class=\"data row7 col0\" >25</td>\n",
       "      <td id=\"T_71eec_row7_col1\" class=\"data row7 col1\" >230,76</td>\n",
       "      <td id=\"T_71eec_row7_col2\" class=\"data row7 col2\" >202,88</td>\n",
       "      <td id=\"T_71eec_row7_col3\" class=\"data row7 col3\" >25</td>\n",
       "      <td id=\"T_71eec_row7_col4\" class=\"data row7 col4\" >99,00</td>\n",
       "      <td id=\"T_71eec_row7_col5\" class=\"data row7 col5\" >155,00</td>\n",
       "      <td id=\"T_71eec_row7_col6\" class=\"data row7 col6\" >288,00</td>\n",
       "      <td id=\"T_71eec_row7_col7\" class=\"data row7 col7\" >697</td>\n",
       "    </tr>\n",
       "    <tr>\n",
       "      <th id=\"T_71eec_level0_row8\" class=\"row_heading level0 row8\" >O</th>\n",
       "      <td id=\"T_71eec_row8_col0\" class=\"data row8 col0\" >6</td>\n",
       "      <td id=\"T_71eec_row8_col1\" class=\"data row8 col1\" >261,50</td>\n",
       "      <td id=\"T_71eec_row8_col2\" class=\"data row8 col2\" >378,63</td>\n",
       "      <td id=\"T_71eec_row8_col3\" class=\"data row8 col3\" >37</td>\n",
       "      <td id=\"T_71eec_row8_col4\" class=\"data row8 col4\" >57,50</td>\n",
       "      <td id=\"T_71eec_row8_col5\" class=\"data row8 col5\" >100,50</td>\n",
       "      <td id=\"T_71eec_row8_col6\" class=\"data row8 col6\" >229,00</td>\n",
       "      <td id=\"T_71eec_row8_col7\" class=\"data row8 col7\" >1'016</td>\n",
       "    </tr>\n",
       "    <tr>\n",
       "      <th id=\"T_71eec_level0_row9\" class=\"row_heading level0 row9\" >ONO</th>\n",
       "      <td id=\"T_71eec_row9_col0\" class=\"data row9 col0\" >6</td>\n",
       "      <td id=\"T_71eec_row9_col1\" class=\"data row9 col1\" >130,00</td>\n",
       "      <td id=\"T_71eec_row9_col2\" class=\"data row9 col2\" >84,01</td>\n",
       "      <td id=\"T_71eec_row9_col3\" class=\"data row9 col3\" >44</td>\n",
       "      <td id=\"T_71eec_row9_col4\" class=\"data row9 col4\" >83,25</td>\n",
       "      <td id=\"T_71eec_row9_col5\" class=\"data row9 col5\" >98,00</td>\n",
       "      <td id=\"T_71eec_row9_col6\" class=\"data row9 col6\" >166,75</td>\n",
       "      <td id=\"T_71eec_row9_col7\" class=\"data row9 col7\" >272</td>\n",
       "    </tr>\n",
       "    <tr>\n",
       "      <th id=\"T_71eec_level0_row10\" class=\"row_heading level0 row10\" >OSO</th>\n",
       "      <td id=\"T_71eec_row10_col0\" class=\"data row10 col0\" >16</td>\n",
       "      <td id=\"T_71eec_row10_col1\" class=\"data row10 col1\" >148,94</td>\n",
       "      <td id=\"T_71eec_row10_col2\" class=\"data row10 col2\" >118,88</td>\n",
       "      <td id=\"T_71eec_row10_col3\" class=\"data row10 col3\" >26</td>\n",
       "      <td id=\"T_71eec_row10_col4\" class=\"data row10 col4\" >64,75</td>\n",
       "      <td id=\"T_71eec_row10_col5\" class=\"data row10 col5\" >87,00</td>\n",
       "      <td id=\"T_71eec_row10_col6\" class=\"data row10 col6\" >215,50</td>\n",
       "      <td id=\"T_71eec_row10_col7\" class=\"data row10 col7\" >463</td>\n",
       "    </tr>\n",
       "    <tr>\n",
       "      <th id=\"T_71eec_level0_row11\" class=\"row_heading level0 row11\" >S</th>\n",
       "      <td id=\"T_71eec_row11_col0\" class=\"data row11 col0\" >15</td>\n",
       "      <td id=\"T_71eec_row11_col1\" class=\"data row11 col1\" >333,47</td>\n",
       "      <td id=\"T_71eec_row11_col2\" class=\"data row11 col2\" >779,74</td>\n",
       "      <td id=\"T_71eec_row11_col3\" class=\"data row11 col3\" >26</td>\n",
       "      <td id=\"T_71eec_row11_col4\" class=\"data row11 col4\" >99,00</td>\n",
       "      <td id=\"T_71eec_row11_col5\" class=\"data row11 col5\" >134,00</td>\n",
       "      <td id=\"T_71eec_row11_col6\" class=\"data row11 col6\" >184,50</td>\n",
       "      <td id=\"T_71eec_row11_col7\" class=\"data row11 col7\" >3'143</td>\n",
       "    </tr>\n",
       "    <tr>\n",
       "      <th id=\"T_71eec_level0_row12\" class=\"row_heading level0 row12\" >SE</th>\n",
       "      <td id=\"T_71eec_row12_col0\" class=\"data row12 col0\" >7</td>\n",
       "      <td id=\"T_71eec_row12_col1\" class=\"data row12 col1\" >135,57</td>\n",
       "      <td id=\"T_71eec_row12_col2\" class=\"data row12 col2\" >155,12</td>\n",
       "      <td id=\"T_71eec_row12_col3\" class=\"data row12 col3\" >41</td>\n",
       "      <td id=\"T_71eec_row12_col4\" class=\"data row12 col4\" >56,00</td>\n",
       "      <td id=\"T_71eec_row12_col5\" class=\"data row12 col5\" >69,00</td>\n",
       "      <td id=\"T_71eec_row12_col6\" class=\"data row12 col6\" >128,50</td>\n",
       "      <td id=\"T_71eec_row12_col7\" class=\"data row12 col7\" >470</td>\n",
       "    </tr>\n",
       "    <tr>\n",
       "      <th id=\"T_71eec_level0_row13\" class=\"row_heading level0 row13\" >SO</th>\n",
       "      <td id=\"T_71eec_row13_col0\" class=\"data row13 col0\" >32</td>\n",
       "      <td id=\"T_71eec_row13_col1\" class=\"data row13 col1\" >199,72</td>\n",
       "      <td id=\"T_71eec_row13_col2\" class=\"data row13 col2\" >156,55</td>\n",
       "      <td id=\"T_71eec_row13_col3\" class=\"data row13 col3\" >40</td>\n",
       "      <td id=\"T_71eec_row13_col4\" class=\"data row13 col4\" >112,75</td>\n",
       "      <td id=\"T_71eec_row13_col5\" class=\"data row13 col5\" >154,00</td>\n",
       "      <td id=\"T_71eec_row13_col6\" class=\"data row13 col6\" >244,75</td>\n",
       "      <td id=\"T_71eec_row13_col7\" class=\"data row13 col7\" >884</td>\n",
       "    </tr>\n",
       "    <tr>\n",
       "      <th id=\"T_71eec_level0_row14\" class=\"row_heading level0 row14\" >SSE</th>\n",
       "      <td id=\"T_71eec_row14_col0\" class=\"data row14 col0\" >11</td>\n",
       "      <td id=\"T_71eec_row14_col1\" class=\"data row14 col1\" >151,45</td>\n",
       "      <td id=\"T_71eec_row14_col2\" class=\"data row14 col2\" >170,50</td>\n",
       "      <td id=\"T_71eec_row14_col3\" class=\"data row14 col3\" >19</td>\n",
       "      <td id=\"T_71eec_row14_col4\" class=\"data row14 col4\" >59,00</td>\n",
       "      <td id=\"T_71eec_row14_col5\" class=\"data row14 col5\" >95,00</td>\n",
       "      <td id=\"T_71eec_row14_col6\" class=\"data row14 col6\" >128,00</td>\n",
       "      <td id=\"T_71eec_row14_col7\" class=\"data row14 col7\" >559</td>\n",
       "    </tr>\n",
       "    <tr>\n",
       "      <th id=\"T_71eec_level0_row15\" class=\"row_heading level0 row15\" >SSO</th>\n",
       "      <td id=\"T_71eec_row15_col0\" class=\"data row15 col0\" >13</td>\n",
       "      <td id=\"T_71eec_row15_col1\" class=\"data row15 col1\" >117,54</td>\n",
       "      <td id=\"T_71eec_row15_col2\" class=\"data row15 col2\" >91,09</td>\n",
       "      <td id=\"T_71eec_row15_col3\" class=\"data row15 col3\" >27</td>\n",
       "      <td id=\"T_71eec_row15_col4\" class=\"data row15 col4\" >52,00</td>\n",
       "      <td id=\"T_71eec_row15_col5\" class=\"data row15 col5\" >89,00</td>\n",
       "      <td id=\"T_71eec_row15_col6\" class=\"data row15 col6\" >177,00</td>\n",
       "      <td id=\"T_71eec_row15_col7\" class=\"data row15 col7\" >355</td>\n",
       "    </tr>\n",
       "  </tbody>\n",
       "</table>\n"
      ],
      "text/plain": [
       "<pandas.io.formats.style.Styler at 0x7ba00417a760>"
      ]
     },
     "metadata": {
      "scrapbook": {
       "mime_prefix": "",
       "name": "tablea26"
      }
     },
     "output_type": "display_data"
    }
   ],
   "source": [
    "# ananlysis of orientation\n",
    "voi = \"orientation\"\n",
    "vals = \"compte\"\n",
    "groupby = ['echantillon', voi]\n",
    "\n",
    "voi = \"orientation\"\n",
    "vals = \"compte\"\n",
    "data_summary = attribute_summary_test(work_data, voi=voi, vals=vals)\n",
    "data_summary[['count', 'max', 'min']] = data_summary[['count', 'max', 'min']].astype('int')\n",
    "data_summary.rename(columns=column_display, inplace=True)\n",
    "\n",
    "select_values = data_summary[\"moyenne\"] > 180\n",
    "test_one = data_summary.loc[select_values].index\n",
    "\n",
    "select_values = data_summary[\"50%\"] > 121\n",
    "test_two = data_summary.loc[select_values].index\n",
    "\n",
    "d_sum = data_summary.style.set_table_styles(table_css_styles).format(precision=2)\n",
    "d_sum = d_sum.set_properties(subset = pd.IndexSlice[test_one,[\"moyenne\"]], **a_property)\n",
    "\n",
    "oriented = d_sum.set_properties(subset = pd.IndexSlice[test_two,[\"50%\"]], **a_property)\n",
    "\n",
    "caption = 'Le résumé des résultats du nombre de particules trouvées selon l\\'orientation de la plage.'\n",
    "table_no += 1\n",
    "\n",
    "table_five = add_table_to_page(oriented, table_no, caption, section, page, rule, format_index='columns')\n",
    "glue('tablea26', table_five, display=True)"
   ]
  },
  {
   "cell_type": "code",
   "execution_count": 20,
   "id": "e50a7c8a-1316-4170-88c2-d70d1f64c3ef",
   "metadata": {
    "pycharm": {
     "name": "#%%\n"
    },
    "tags": [
     "remove-input"
    ]
   },
   "outputs": [
    {
     "name": "stdout",
     "output_type": "stream",
     "text": [
      "Git repo: https://github.com/hammerdirt-analyst/plastock.git\n",
      "\n",
      "Git branch: feb22\n",
      "\n",
      "matplotlib: 3.8.2\n",
      "numpy     : 1.26.3\n",
      "seaborn   : 0.13.1\n",
      "pandas    : 2.0.3\n",
      "\n"
     ]
    }
   ],
   "source": [
    "%watermark --iversions -b -r"
   ]
  },
  {
   "cell_type": "code",
   "execution_count": null,
   "id": "fba80e4d-6655-47b7-91fd-6276e80722b3",
   "metadata": {
    "editable": true,
    "pycharm": {
     "name": "#%%\n"
    },
    "slideshow": {
     "slide_type": ""
    },
    "tags": []
   },
   "outputs": [],
   "source": []
  }
 ],
 "metadata": {
  "kernelspec": {
   "display_name": "Python 3 (ipykernel)",
   "language": "python",
   "name": "python3"
  },
  "language_info": {
   "codemirror_mode": {
    "name": "ipython",
    "version": 3
   },
   "file_extension": ".py",
   "mimetype": "text/x-python",
   "name": "python",
   "nbconvert_exporter": "python",
   "pygments_lexer": "ipython3",
   "version": "3.9.18"
  }
 },
 "nbformat": 4,
 "nbformat_minor": 5
}