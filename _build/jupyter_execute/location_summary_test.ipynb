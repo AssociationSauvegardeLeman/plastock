{
 "cells": [
  {
   "cell_type": "code",
   "execution_count": 1,
   "id": "32bcdb7d-96d5-47f5-a77a-139bafcc6a7d",
   "metadata": {
    "tags": [
     "hide-input"
    ]
   },
   "outputs": [],
   "source": [
    "%load_ext watermark\n",
    "import numpy as np\n",
    "import pandas as pd\n",
    "import datetime as dt\n",
    "from slugify import slugify\n",
    "\n",
    "from plastockmethods import name_zones, name_particles, name_frequentation, name_situation\n",
    "from plastockmethods import particle_groups, name_substrate, name_distance, table_css_styles\n",
    "\n",
    "# miro data\n",
    "work_data = pd.read_csv(\"data/end_pipe/long_form_micro.csv\")\n",
    "beach_data = pd.read_csv(\"data/end_pipe/asl_beaches.csv\")\n",
    "\n",
    "# macro data\n",
    "new_data = pd.read_csv(\"data/macro_current.csv\")\n",
    "beach_data = pd.read_csv(\"data/pstock_beaches_current.csv\")\n",
    "\n",
    "new_column_names = {\n",
    "    \"Position\":\"position\",\n",
    "    \"Substrat\":\"substrat\",\n",
    "    \"Date\":\"date\",\n",
    "    \"Code\":\"code\",\n",
    "    \"Quantité\":\"quantite\",\n",
    "    \"Aire\":\"area\"\n",
    "}\n",
    "\n",
    "length_key = beach_data[[\"Plage\",\"length\"]].drop_duplicates(\"Plage\").set_index(\"Plage\")\n",
    "work_datad = new_data[[\"Plage\", *new_column_names.keys()]].copy()\n",
    "work_datad.rename(columns=new_column_names, inplace=True)\n",
    "work_datad[\"length\"] = work_datad.Plage.apply(lambda x: length_key.loc[x, \"length\"])\n",
    "work_datad[\"slug\"] = work_datad.Plage.apply(lambda x: slugify(x))\n",
    "work_datad[\"echantillon\"] = list(zip(work_datad.slug, work_datad['date']))\n",
    "work_datad['date'] = pd.to_datetime(work_datad[\"date\"], format=\"mixed\", dayfirst=True)\n",
    "work_datad.dropna(inplace=True)\n",
    "work_datad[[\"position\", \"substrat\"]] = work_datad[[\"position\", \"substrat\"]].astype(\"int\")\n",
    "event_total = work_datad.groupby([\"echantillon\", \"Plage\", \"date\", \"position\", \"area\"], as_index=False).quantite.sum()\n",
    "event_total[\"pcs/m²\"] = event_total.quantite/event_total.area"
   ]
  },
  {
   "cell_type": "markdown",
   "id": "64f4b56e-a28f-451b-848e-9a16e4646c59",
   "metadata": {},
   "source": [
    "# location summary methods\n",
    "\n",
    "Cela concerne: location_summary.ipynb, macro_summary.ipynb"
   ]
  },
  {
   "cell_type": "markdown",
   "id": "e56540b3-57f0-41b5-9026-55398dab9a6e",
   "metadata": {},
   "source": [
    "## Données\n",
    "\n",
    "### micro"
   ]
  },
  {
   "cell_type": "code",
   "execution_count": 2,
   "id": "8f02cc17-1b66-469a-a39e-c89b35a02dfc",
   "metadata": {},
   "outputs": [
    {
     "data": {
      "text/html": [
       "<div>\n",
       "<style scoped>\n",
       "    .dataframe tbody tr th:only-of-type {\n",
       "        vertical-align: middle;\n",
       "    }\n",
       "\n",
       "    .dataframe tbody tr th {\n",
       "        vertical-align: top;\n",
       "    }\n",
       "\n",
       "    .dataframe thead th {\n",
       "        text-align: right;\n",
       "    }\n",
       "</style>\n",
       "<table border=\"1\" class=\"dataframe\">\n",
       "  <thead>\n",
       "    <tr style=\"text-align: right;\">\n",
       "      <th></th>\n",
       "      <th>Plage</th>\n",
       "      <th>echantillon</th>\n",
       "      <th>orientation</th>\n",
       "      <th>position</th>\n",
       "      <th>substrat</th>\n",
       "      <th>frequentation</th>\n",
       "      <th>situation</th>\n",
       "      <th>distance</th>\n",
       "      <th>objet</th>\n",
       "      <th>compte</th>\n",
       "    </tr>\n",
       "  </thead>\n",
       "  <tbody>\n",
       "    <tr>\n",
       "      <th>0</th>\n",
       "      <td>Amphion</td>\n",
       "      <td>74_Amp_1</td>\n",
       "      <td>NE</td>\n",
       "      <td>1</td>\n",
       "      <td>4</td>\n",
       "      <td>3</td>\n",
       "      <td>1</td>\n",
       "      <td>1</td>\n",
       "      <td>fibres</td>\n",
       "      <td>97</td>\n",
       "    </tr>\n",
       "    <tr>\n",
       "      <th>1</th>\n",
       "      <td>Amphion</td>\n",
       "      <td>74_Amp_10</td>\n",
       "      <td>NNE</td>\n",
       "      <td>2</td>\n",
       "      <td>4</td>\n",
       "      <td>3</td>\n",
       "      <td>1</td>\n",
       "      <td>1</td>\n",
       "      <td>fibres</td>\n",
       "      <td>140</td>\n",
       "    </tr>\n",
       "    <tr>\n",
       "      <th>2</th>\n",
       "      <td>Amphion</td>\n",
       "      <td>74_Amp_2</td>\n",
       "      <td>NNE</td>\n",
       "      <td>1</td>\n",
       "      <td>4</td>\n",
       "      <td>3</td>\n",
       "      <td>1</td>\n",
       "      <td>1</td>\n",
       "      <td>fibres</td>\n",
       "      <td>121</td>\n",
       "    </tr>\n",
       "    <tr>\n",
       "      <th>3</th>\n",
       "      <td>Amphion</td>\n",
       "      <td>74_Amp_3</td>\n",
       "      <td>NE</td>\n",
       "      <td>1</td>\n",
       "      <td>4</td>\n",
       "      <td>3</td>\n",
       "      <td>1</td>\n",
       "      <td>1</td>\n",
       "      <td>fibres</td>\n",
       "      <td>31</td>\n",
       "    </tr>\n",
       "    <tr>\n",
       "      <th>4</th>\n",
       "      <td>Amphion</td>\n",
       "      <td>74_Amp_4</td>\n",
       "      <td>NNE</td>\n",
       "      <td>1</td>\n",
       "      <td>4</td>\n",
       "      <td>3</td>\n",
       "      <td>1</td>\n",
       "      <td>1</td>\n",
       "      <td>fibres</td>\n",
       "      <td>179</td>\n",
       "    </tr>\n",
       "  </tbody>\n",
       "</table>\n",
       "</div>"
      ],
      "text/plain": [
       "     Plage echantillon orientation  position  substrat  frequentation   \n",
       "0  Amphion    74_Amp_1          NE         1         4              3  \\\n",
       "1  Amphion   74_Amp_10         NNE         2         4              3   \n",
       "2  Amphion    74_Amp_2         NNE         1         4              3   \n",
       "3  Amphion    74_Amp_3          NE         1         4              3   \n",
       "4  Amphion    74_Amp_4         NNE         1         4              3   \n",
       "\n",
       "   situation  distance   objet  compte  \n",
       "0          1         1  fibres      97  \n",
       "1          1         1  fibres     140  \n",
       "2          1         1  fibres     121  \n",
       "3          1         1  fibres      31  \n",
       "4          1         1  fibres     179  "
      ]
     },
     "execution_count": 2,
     "metadata": {},
     "output_type": "execute_result"
    }
   ],
   "source": [
    "work_data.head()"
   ]
  },
  {
   "cell_type": "markdown",
   "id": "4de18189-7453-42d0-b0cb-d8831dd3c16a",
   "metadata": {},
   "source": [
    "### macro"
   ]
  },
  {
   "cell_type": "code",
   "execution_count": 3,
   "id": "f21fea49-1808-4a50-b681-cdefa0ea1417",
   "metadata": {},
   "outputs": [
    {
     "data": {
      "text/html": [
       "<div>\n",
       "<style scoped>\n",
       "    .dataframe tbody tr th:only-of-type {\n",
       "        vertical-align: middle;\n",
       "    }\n",
       "\n",
       "    .dataframe tbody tr th {\n",
       "        vertical-align: top;\n",
       "    }\n",
       "\n",
       "    .dataframe thead th {\n",
       "        text-align: right;\n",
       "    }\n",
       "</style>\n",
       "<table border=\"1\" class=\"dataframe\">\n",
       "  <thead>\n",
       "    <tr style=\"text-align: right;\">\n",
       "      <th></th>\n",
       "      <th>echantillon</th>\n",
       "      <th>Plage</th>\n",
       "      <th>date</th>\n",
       "      <th>position</th>\n",
       "      <th>area</th>\n",
       "      <th>quantite</th>\n",
       "      <th>pcs/m²</th>\n",
       "    </tr>\n",
       "  </thead>\n",
       "  <tbody>\n",
       "    <tr>\n",
       "      <th>0</th>\n",
       "      <td>(amphion, 01.02.2022)</td>\n",
       "      <td>Amphion</td>\n",
       "      <td>2022-02-01</td>\n",
       "      <td>1</td>\n",
       "      <td>98</td>\n",
       "      <td>67</td>\n",
       "      <td>0.683673</td>\n",
       "    </tr>\n",
       "    <tr>\n",
       "      <th>1</th>\n",
       "      <td>(amphion, 01.02.2022)</td>\n",
       "      <td>Amphion</td>\n",
       "      <td>2022-02-01</td>\n",
       "      <td>2</td>\n",
       "      <td>342</td>\n",
       "      <td>796</td>\n",
       "      <td>2.327485</td>\n",
       "    </tr>\n",
       "    <tr>\n",
       "      <th>2</th>\n",
       "      <td>(amphion, 03.05.2022)</td>\n",
       "      <td>Amphion</td>\n",
       "      <td>2022-05-03</td>\n",
       "      <td>1</td>\n",
       "      <td>98</td>\n",
       "      <td>19</td>\n",
       "      <td>0.193878</td>\n",
       "    </tr>\n",
       "    <tr>\n",
       "      <th>3</th>\n",
       "      <td>(amphion, 03.05.2022)</td>\n",
       "      <td>Amphion</td>\n",
       "      <td>2022-05-03</td>\n",
       "      <td>2</td>\n",
       "      <td>342</td>\n",
       "      <td>383</td>\n",
       "      <td>1.119883</td>\n",
       "    </tr>\n",
       "    <tr>\n",
       "      <th>4</th>\n",
       "      <td>(amphion, 18.10.2022)</td>\n",
       "      <td>Amphion</td>\n",
       "      <td>2022-10-18</td>\n",
       "      <td>1</td>\n",
       "      <td>98</td>\n",
       "      <td>246</td>\n",
       "      <td>2.510204</td>\n",
       "    </tr>\n",
       "  </tbody>\n",
       "</table>\n",
       "</div>"
      ],
      "text/plain": [
       "             echantillon    Plage       date  position  area  quantite   \n",
       "0  (amphion, 01.02.2022)  Amphion 2022-02-01         1    98        67  \\\n",
       "1  (amphion, 01.02.2022)  Amphion 2022-02-01         2   342       796   \n",
       "2  (amphion, 03.05.2022)  Amphion 2022-05-03         1    98        19   \n",
       "3  (amphion, 03.05.2022)  Amphion 2022-05-03         2   342       383   \n",
       "4  (amphion, 18.10.2022)  Amphion 2022-10-18         1    98       246   \n",
       "\n",
       "     pcs/m²  \n",
       "0  0.683673  \n",
       "1  2.327485  \n",
       "2  0.193878  \n",
       "3  1.119883  \n",
       "4  2.510204  "
      ]
     },
     "execution_count": 3,
     "metadata": {},
     "output_type": "execute_result"
    }
   ],
   "source": [
    "event_total.head()"
   ]
  },
  {
   "cell_type": "markdown",
   "id": "8280104c-d400-4bbe-af2b-2c962a395872",
   "metadata": {},
   "source": [
    "### Compte moyen par échantillon et plage\n",
    "\n",
    "Cela concerne: Table A1-4, A1-5, A3-3, A3-4\n",
    "\n",
    "#### Micro table A1-4"
   ]
  },
  {
   "cell_type": "code",
   "execution_count": 4,
   "id": "ec0b4522-e09a-4ef8-addb-139c54eb4466",
   "metadata": {},
   "outputs": [
    {
     "data": {
      "text/plain": [
       "count     217.000000\n",
       "mean      180.133641\n",
       "std       267.619523\n",
       "min         0.000000\n",
       "25%        70.000000\n",
       "50%       121.000000\n",
       "75%       198.000000\n",
       "max      2991.000000\n",
       "Name: particules, dtype: float64"
      ]
     },
     "execution_count": 4,
     "metadata": {},
     "output_type": "execute_result"
    }
   ],
   "source": [
    "# table A1-4\n",
    "work_data[\"particules\"] = work_data[\"compte\"]\n",
    "sample_totals = work_data.groupby([\"Plage\",\"echantillon\"], as_index=False). particules.sum()\n",
    "df2 = sample_totals.copy()\n",
    "sample_totals.particules.describe()"
   ]
  },
  {
   "cell_type": "markdown",
   "id": "a5fcc0c6-235d-48e7-becc-90b4e3b6cd39",
   "metadata": {},
   "source": [
    "#### Macro table A3-3"
   ]
  },
  {
   "cell_type": "code",
   "execution_count": 5,
   "id": "7a8a4736-d5ce-49a9-9fa7-5805e479b21a",
   "metadata": {},
   "outputs": [
    {
     "data": {
      "text/plain": [
       "count    98.000000\n",
       "mean      1.447740\n",
       "std       1.691432\n",
       "min       0.049057\n",
       "25%       0.380307\n",
       "50%       0.783439\n",
       "75%       1.890987\n",
       "max       8.680434\n",
       "Name: pcs/m², dtype: float64"
      ]
     },
     "execution_count": 5,
     "metadata": {},
     "output_type": "execute_result"
    }
   ],
   "source": [
    "# table A3-3\n",
    "sample_totalsd = event_total.groupby([\"echantillon\", \"date\", \"Plage\"], as_index=False)[\"pcs/m²\"].sum()\n",
    "df2d = sample_totalsd.copy()\n",
    "value_column = \"moyenne\"\n",
    "\n",
    "sample_totalsd[\"pcs/m²\"].describe()"
   ]
  },
  {
   "cell_type": "markdown",
   "id": "b9496236-eaaa-4ec7-a9e7-0c56963cfe89",
   "metadata": {},
   "source": [
    "### Compte moyenne par position"
   ]
  },
  {
   "cell_type": "markdown",
   "id": "cf964eba-6e94-4ca5-b457-df7fb8853760",
   "metadata": {},
   "source": [
    "#### Micro table A1-5"
   ]
  },
  {
   "cell_type": "code",
   "execution_count": 6,
   "id": "6b71c7bb-4078-47dd-9fe5-4274879b0147",
   "metadata": {},
   "outputs": [
    {
     "data": {
      "text/plain": [
       "count    111.000000\n",
       "mean     116.837838\n",
       "std      125.527146\n",
       "min       19.000000\n",
       "25%       53.500000\n",
       "50%       85.000000\n",
       "75%      129.000000\n",
       "max      884.000000\n",
       "Name: particules, dtype: float64"
      ]
     },
     "execution_count": 6,
     "metadata": {},
     "output_type": "execute_result"
    }
   ],
   "source": [
    "# table A1-5\n",
    "position_totals = work_data.groupby([\"Plage\",\"echantillon\", \"position\"], as_index=False).particules.sum()\n",
    "position_sample_totals = position_totals.groupby([\"echantillon\", \"Plage\", \"position\"], as_index=False).particules.sum()\n",
    "\n",
    "summary_ligne_deau = position_sample_totals[position_sample_totals.position == 1].particules.describe()\n",
    "summary_plage_seche = position_sample_totals[position_sample_totals.position == 2].particules.describe()\n",
    "\n",
    "summary_ligne_deau"
   ]
  },
  {
   "cell_type": "code",
   "execution_count": 7,
   "id": "b3b57dca-2941-4950-9540-1a9cdb9d83a3",
   "metadata": {},
   "outputs": [
    {
     "data": {
      "text/plain": [
       "count     106.000000\n",
       "mean      246.415094\n",
       "std       349.507132\n",
       "min         0.000000\n",
       "25%       105.000000\n",
       "50%       170.000000\n",
       "75%       238.250000\n",
       "max      2991.000000\n",
       "Name: particules, dtype: float64"
      ]
     },
     "execution_count": 7,
     "metadata": {},
     "output_type": "execute_result"
    }
   ],
   "source": [
    "summary_plage_seche"
   ]
  },
  {
   "cell_type": "markdown",
   "id": "5c532b58-1b34-46e0-9678-a50410337084",
   "metadata": {},
   "source": [
    "#### Macro table A3-4"
   ]
  },
  {
   "cell_type": "code",
   "execution_count": 8,
   "id": "da50d73e-f37a-4016-b633-91818721c6e4",
   "metadata": {
    "tags": [
     "remove-input"
    ]
   },
   "outputs": [
    {
     "data": {
      "text/plain": [
       "count    95.000000\n",
       "mean      0.842366\n",
       "std       1.261876\n",
       "min       0.019048\n",
       "25%       0.179830\n",
       "50%       0.375000\n",
       "75%       0.914443\n",
       "max       7.595960\n",
       "Name: pcs/m², dtype: float64"
      ]
     },
     "execution_count": 8,
     "metadata": {},
     "output_type": "execute_result"
    }
   ],
   "source": [
    "position_totalsd = event_total.groupby([\"Plage\",\"echantillon\",\"date\", \"position\"], as_index=False)[\"pcs/m²\"].sum()\n",
    "# position_totals[\"position\"] = position_totals.position.apply(lambda x: name_the_zones[x])\n",
    "# position_totals[\"objet\"] = position_totals.objet.apply(lambda x: particle_groups[x])\n",
    "df4d = position_totalsd.groupby([\"Plage\",\"position\"], as_index=False)[\"pcs/m²\"].mean()\n",
    "\n",
    "summary_ligne_deaud = position_totalsd[position_totalsd.position == 1][\"pcs/m²\"].describe()\n",
    "summary_plage_seched = position_totalsd[position_totalsd.position == 2][\"pcs/m²\"].describe()\n",
    "\n",
    "summary_ligne_deaud"
   ]
  },
  {
   "cell_type": "code",
   "execution_count": 9,
   "id": "4baa340c-e090-4178-a347-74aa89942653",
   "metadata": {},
   "outputs": [
    {
     "data": {
      "text/plain": [
       "count    88.000000\n",
       "mean      0.702884\n",
       "std       0.735364\n",
       "min       0.005263\n",
       "25%       0.181847\n",
       "50%       0.404547\n",
       "75%       1.075806\n",
       "max       3.069231\n",
       "Name: pcs/m², dtype: float64"
      ]
     },
     "execution_count": 9,
     "metadata": {},
     "output_type": "execute_result"
    }
   ],
   "source": [
    "summary_plage_seched"
   ]
  },
  {
   "cell_type": "markdown",
   "id": "2e1a9ed9-3970-4ed1-887c-b0a242984dc8",
   "metadata": {},
   "source": [
    "### Nombre moyen par forme et plage\n",
    "\n",
    "Concernant table A1-6"
   ]
  },
  {
   "cell_type": "code",
   "execution_count": 10,
   "id": "1b17d8fe-b0b1-4e78-b3e0-eadde43d430e",
   "metadata": {
    "tags": [
     "remove-input"
    ]
   },
   "outputs": [
    {
     "data": {
      "text/html": [
       "<div>\n",
       "<style scoped>\n",
       "    .dataframe tbody tr th:only-of-type {\n",
       "        vertical-align: middle;\n",
       "    }\n",
       "\n",
       "    .dataframe tbody tr th {\n",
       "        vertical-align: top;\n",
       "    }\n",
       "\n",
       "    .dataframe thead th {\n",
       "        text-align: right;\n",
       "    }\n",
       "</style>\n",
       "<table border=\"1\" class=\"dataframe\">\n",
       "  <thead>\n",
       "    <tr style=\"text-align: right;\">\n",
       "      <th></th>\n",
       "      <th>Plage</th>\n",
       "      <th>echantillon</th>\n",
       "      <th>objet</th>\n",
       "      <th>particules</th>\n",
       "    </tr>\n",
       "  </thead>\n",
       "  <tbody>\n",
       "    <tr>\n",
       "      <th>0</th>\n",
       "      <td>Amphion</td>\n",
       "      <td>74_Amp_1</td>\n",
       "      <td>fdure</td>\n",
       "      <td>0</td>\n",
       "    </tr>\n",
       "    <tr>\n",
       "      <th>1</th>\n",
       "      <td>Amphion</td>\n",
       "      <td>74_Amp_1</td>\n",
       "      <td>fibres</td>\n",
       "      <td>97</td>\n",
       "    </tr>\n",
       "    <tr>\n",
       "      <th>2</th>\n",
       "      <td>Amphion</td>\n",
       "      <td>74_Amp_1</td>\n",
       "      <td>souple</td>\n",
       "      <td>0</td>\n",
       "    </tr>\n",
       "    <tr>\n",
       "      <th>3</th>\n",
       "      <td>Amphion</td>\n",
       "      <td>74_Amp_10</td>\n",
       "      <td>fdure</td>\n",
       "      <td>38</td>\n",
       "    </tr>\n",
       "    <tr>\n",
       "      <th>4</th>\n",
       "      <td>Amphion</td>\n",
       "      <td>74_Amp_10</td>\n",
       "      <td>fibres</td>\n",
       "      <td>140</td>\n",
       "    </tr>\n",
       "  </tbody>\n",
       "</table>\n",
       "</div>"
      ],
      "text/plain": [
       "     Plage echantillon   objet  particules\n",
       "0  Amphion    74_Amp_1   fdure           0\n",
       "1  Amphion    74_Amp_1  fibres          97\n",
       "2  Amphion    74_Amp_1  souple           0\n",
       "3  Amphion   74_Amp_10   fdure          38\n",
       "4  Amphion   74_Amp_10  fibres         140"
      ]
     },
     "execution_count": 10,
     "metadata": {},
     "output_type": "execute_result"
    }
   ],
   "source": [
    "forme_totals = work_data.groupby([\"Plage\",\"echantillon\", \"objet\"], as_index=False).particules.sum()\n",
    "df3 = forme_totals.copy()\n",
    "df3.head()"
   ]
  },
  {
   "cell_type": "markdown",
   "id": "61305051-6619-491d-8796-fe2a78c346dd",
   "metadata": {},
   "source": [
    "__dur__"
   ]
  },
  {
   "cell_type": "code",
   "execution_count": 11,
   "id": "d44dea88-1e42-4a90-8cd5-ede05a4f27e7",
   "metadata": {
    "tags": [
     "remove-input"
    ]
   },
   "outputs": [
    {
     "data": {
      "text/plain": [
       "count    217.000000\n",
       "mean      23.525346\n",
       "std       58.124073\n",
       "min        0.000000\n",
       "25%        3.000000\n",
       "50%       11.000000\n",
       "75%       23.000000\n",
       "max      696.000000\n",
       "Name: particules, dtype: float64"
      ]
     },
     "execution_count": 11,
     "metadata": {},
     "output_type": "execute_result"
    }
   ],
   "source": [
    "tex_dure = forme_totals[forme_totals.objet==\"fdure\"].particules.describe()\n",
    "\n",
    "tex_dure"
   ]
  },
  {
   "cell_type": "markdown",
   "id": "40cc72e5-e354-4541-89e1-6fe8cd822821",
   "metadata": {},
   "source": [
    "#### souple"
   ]
  },
  {
   "cell_type": "code",
   "execution_count": 12,
   "id": "e3a2737c-33c6-4410-833d-9054cb620ef1",
   "metadata": {
    "tags": [
     "remove-input"
    ]
   },
   "outputs": [
    {
     "data": {
      "text/plain": [
       "count    217.000000\n",
       "mean      18.778802\n",
       "std       60.139706\n",
       "min        0.000000\n",
       "25%        0.000000\n",
       "50%        4.000000\n",
       "75%       14.000000\n",
       "max      604.000000\n",
       "Name: particules, dtype: float64"
      ]
     },
     "execution_count": 12,
     "metadata": {},
     "output_type": "execute_result"
    }
   ],
   "source": [
    "tex_souple = forme_totals[forme_totals.objet==\"souple\"].particules.describe()\n",
    "tex_souple"
   ]
  },
  {
   "cell_type": "markdown",
   "id": "34402ab3-6339-45f3-82fe-65cf926cf308",
   "metadata": {},
   "source": [
    "#### fibres"
   ]
  },
  {
   "cell_type": "code",
   "execution_count": 13,
   "id": "e7f8b84e-d07c-4bd3-b371-8361987be771",
   "metadata": {},
   "outputs": [
    {
     "data": {
      "text/plain": [
       "count     217.000000\n",
       "mean      137.829493\n",
       "std       211.692897\n",
       "min         0.000000\n",
       "25%        54.000000\n",
       "50%        98.000000\n",
       "75%       156.000000\n",
       "max      2593.000000\n",
       "Name: particules, dtype: float64"
      ]
     },
     "execution_count": 13,
     "metadata": {},
     "output_type": "execute_result"
    }
   ],
   "source": [
    "tex_fibres = forme_totals[forme_totals.objet==\"fibres\"].particules.describe()\n",
    "tex_fibres"
   ]
  },
  {
   "cell_type": "markdown",
   "id": "85d2caab-5cc1-4b2e-8a49-cb2e4e1b3b88",
   "metadata": {},
   "source": [
    "### Nombre moyen par forme et position\n",
    "\n",
    "Concernant table A1-8 et A1-9\n",
    "\n",
    "#### ligne deau\n",
    "\n",
    "__dur__"
   ]
  },
  {
   "cell_type": "code",
   "execution_count": 14,
   "id": "b83d369e-0f0b-452a-84db-ae50442df860",
   "metadata": {},
   "outputs": [
    {
     "data": {
      "text/html": [
       "<div>\n",
       "<style scoped>\n",
       "    .dataframe tbody tr th:only-of-type {\n",
       "        vertical-align: middle;\n",
       "    }\n",
       "\n",
       "    .dataframe tbody tr th {\n",
       "        vertical-align: top;\n",
       "    }\n",
       "\n",
       "    .dataframe thead th {\n",
       "        text-align: right;\n",
       "    }\n",
       "</style>\n",
       "<table border=\"1\" class=\"dataframe\">\n",
       "  <thead>\n",
       "    <tr style=\"text-align: right;\">\n",
       "      <th></th>\n",
       "      <th>Plage</th>\n",
       "      <th>echantillon</th>\n",
       "      <th>position</th>\n",
       "      <th>objet</th>\n",
       "      <th>particules</th>\n",
       "    </tr>\n",
       "  </thead>\n",
       "  <tbody>\n",
       "    <tr>\n",
       "      <th>0</th>\n",
       "      <td>Amphion</td>\n",
       "      <td>74_Amp_1</td>\n",
       "      <td>1</td>\n",
       "      <td>fdure</td>\n",
       "      <td>0</td>\n",
       "    </tr>\n",
       "    <tr>\n",
       "      <th>1</th>\n",
       "      <td>Amphion</td>\n",
       "      <td>74_Amp_1</td>\n",
       "      <td>1</td>\n",
       "      <td>fibres</td>\n",
       "      <td>97</td>\n",
       "    </tr>\n",
       "    <tr>\n",
       "      <th>2</th>\n",
       "      <td>Amphion</td>\n",
       "      <td>74_Amp_1</td>\n",
       "      <td>1</td>\n",
       "      <td>souple</td>\n",
       "      <td>0</td>\n",
       "    </tr>\n",
       "    <tr>\n",
       "      <th>3</th>\n",
       "      <td>Amphion</td>\n",
       "      <td>74_Amp_10</td>\n",
       "      <td>2</td>\n",
       "      <td>fdure</td>\n",
       "      <td>38</td>\n",
       "    </tr>\n",
       "    <tr>\n",
       "      <th>4</th>\n",
       "      <td>Amphion</td>\n",
       "      <td>74_Amp_10</td>\n",
       "      <td>2</td>\n",
       "      <td>fibres</td>\n",
       "      <td>140</td>\n",
       "    </tr>\n",
       "  </tbody>\n",
       "</table>\n",
       "</div>"
      ],
      "text/plain": [
       "     Plage echantillon  position   objet  particules\n",
       "0  Amphion    74_Amp_1         1   fdure           0\n",
       "1  Amphion    74_Amp_1         1  fibres          97\n",
       "2  Amphion    74_Amp_1         1  souple           0\n",
       "3  Amphion   74_Amp_10         2   fdure          38\n",
       "4  Amphion   74_Amp_10         2  fibres         140"
      ]
     },
     "execution_count": 14,
     "metadata": {},
     "output_type": "execute_result"
    }
   ],
   "source": [
    "position_totals = work_data.groupby([\"Plage\",\"echantillon\", \"position\", \"objet\"], as_index=False).particules.sum()\n",
    "position_totals.head()"
   ]
  },
  {
   "cell_type": "code",
   "execution_count": 15,
   "id": "b0700bf8-5cef-4291-8078-b14b54b7b78c",
   "metadata": {
    "tags": [
     "remove-input"
    ]
   },
   "outputs": [
    {
     "data": {
      "text/plain": [
       "count    111.000000\n",
       "mean      12.243243\n",
       "std       16.400785\n",
       "min        0.000000\n",
       "25%        2.000000\n",
       "50%        7.000000\n",
       "75%       14.000000\n",
       "max      112.000000\n",
       "Name: particules, dtype: float64"
      ]
     },
     "execution_count": 15,
     "metadata": {},
     "output_type": "execute_result"
    }
   ],
   "source": [
    "leau_dure = position_totals[(position_totals.position == 1) & (position_totals.objet == \"fdure\")].particules.describe()\n",
    "leau_souple = position_totals[(position_totals.position == 1) & (position_totals.objet == \"souple\")].particules.describe()\n",
    "leau_fibre = position_totals[(position_totals.position == 1) & (position_totals.objet == \"fibres\")].particules.describe()\n",
    "\n",
    "leau_dure "
   ]
  },
  {
   "cell_type": "markdown",
   "id": "fe4f0461-fe25-4c3c-996c-76e3685e0ac3",
   "metadata": {},
   "source": [
    "__souple__"
   ]
  },
  {
   "cell_type": "code",
   "execution_count": 16,
   "id": "6abdf058-f652-4b75-b16a-03d32a876969",
   "metadata": {},
   "outputs": [
    {
     "data": {
      "text/plain": [
       "count    111.000000\n",
       "mean      17.864865\n",
       "std       81.222868\n",
       "min        0.000000\n",
       "25%        0.000000\n",
       "50%        1.000000\n",
       "75%        3.500000\n",
       "max      604.000000\n",
       "Name: particules, dtype: float64"
      ]
     },
     "execution_count": 16,
     "metadata": {},
     "output_type": "execute_result"
    }
   ],
   "source": [
    "leau_souple"
   ]
  },
  {
   "cell_type": "markdown",
   "id": "650b8335-6414-4c83-bfe4-6751d542ac52",
   "metadata": {},
   "source": [
    "__fibres__"
   ]
  },
  {
   "cell_type": "code",
   "execution_count": 17,
   "id": "bd1caa7a-b94c-4b87-95cf-7a2ad45785fd",
   "metadata": {},
   "outputs": [
    {
     "data": {
      "text/plain": [
       "count    111.000000\n",
       "mean      86.729730\n",
       "std       58.658169\n",
       "min       17.000000\n",
       "25%       39.000000\n",
       "50%       72.000000\n",
       "75%      116.500000\n",
       "max      273.000000\n",
       "Name: particules, dtype: float64"
      ]
     },
     "execution_count": 17,
     "metadata": {},
     "output_type": "execute_result"
    }
   ],
   "source": [
    "leau_fibre"
   ]
  },
  {
   "cell_type": "markdown",
   "id": "1bafa376-7ef1-4cec-b8b8-dad8ff5a888f",
   "metadata": {},
   "source": [
    "#### plage seche\n",
    "\n",
    "__dur__"
   ]
  },
  {
   "cell_type": "code",
   "execution_count": 18,
   "id": "292cf64d-50d3-48de-84ab-8d0df1c5d6da",
   "metadata": {
    "tags": [
     "remove-input"
    ]
   },
   "outputs": [
    {
     "data": {
      "text/plain": [
       "count    106.000000\n",
       "mean      35.339623\n",
       "std       79.953783\n",
       "min        0.000000\n",
       "25%        8.000000\n",
       "50%       15.000000\n",
       "75%       30.750000\n",
       "max      696.000000\n",
       "Name: particules, dtype: float64"
      ]
     },
     "execution_count": 18,
     "metadata": {},
     "output_type": "execute_result"
    }
   ],
   "source": [
    "plage_dure = position_totals[(position_totals.position == 2) & (position_totals.objet == \"fdure\")].particules.describe()\n",
    "plage_souple = position_totals[(position_totals.position == 2) & (position_totals.objet == \"souple\")].particules.describe()\n",
    "plage_fibre = position_totals[(position_totals.position == 2) & (position_totals.objet == \"fibres\")].particules.describe()\n",
    "\n",
    "plage_dure"
   ]
  },
  {
   "cell_type": "markdown",
   "id": "80a8eca0-ddf1-4fcb-9ebd-a0d853306ae3",
   "metadata": {
    "tags": [
     "remove-input"
    ]
   },
   "source": [
    "__souple__"
   ]
  },
  {
   "cell_type": "code",
   "execution_count": 19,
   "id": "67db7bde-a064-41a4-b0a6-cf223d449704",
   "metadata": {},
   "outputs": [
    {
     "data": {
      "text/plain": [
       "count    106.000000\n",
       "mean      19.735849\n",
       "std       22.959302\n",
       "min        0.000000\n",
       "25%        5.000000\n",
       "50%       11.000000\n",
       "75%       26.750000\n",
       "max      153.000000\n",
       "Name: particules, dtype: float64"
      ]
     },
     "execution_count": 19,
     "metadata": {},
     "output_type": "execute_result"
    }
   ],
   "source": [
    "plage_souple"
   ]
  },
  {
   "cell_type": "markdown",
   "id": "f64968d8-93e4-4e46-9843-2dc112f19974",
   "metadata": {},
   "source": [
    "__fibres__"
   ]
  },
  {
   "cell_type": "code",
   "execution_count": 20,
   "id": "c6a6d8c5-ec38-4f53-8060-ecd124bcbd84",
   "metadata": {},
   "outputs": [
    {
     "data": {
      "text/plain": [
       "count     106.000000\n",
       "mean      191.339623\n",
       "std       287.980783\n",
       "min         0.000000\n",
       "25%        78.500000\n",
       "50%       124.000000\n",
       "75%       187.000000\n",
       "max      2593.000000\n",
       "Name: particules, dtype: float64"
      ]
     },
     "execution_count": 20,
     "metadata": {},
     "output_type": "execute_result"
    }
   ],
   "source": [
    "plage_fibre"
   ]
  },
  {
   "cell_type": "code",
   "execution_count": 21,
   "id": "a520c95f-7d13-479d-b6ff-1106a2170cb3",
   "metadata": {
    "tags": [
     "remove-input"
    ]
   },
   "outputs": [
    {
     "name": "stdout",
     "output_type": "stream",
     "text": [
      "Git repo: https://github.com/hammerdirt-analyst/plastock.git\n",
      "\n",
      "Git branch: tests\n",
      "\n",
      "numpy : 1.24.2\n",
      "pandas: 2.0.0\n",
      "\n"
     ]
    }
   ],
   "source": [
    "%watermark --iversions -b -r"
   ]
  }
 ],
 "metadata": {
  "kernelspec": {
   "display_name": "Python 3 (ipykernel)",
   "language": "python",
   "name": "python3"
  },
  "language_info": {
   "codemirror_mode": {
    "name": "ipython",
    "version": 3
   },
   "file_extension": ".py",
   "mimetype": "text/x-python",
   "name": "python",
   "nbconvert_exporter": "python",
   "pygments_lexer": "ipython3",
   "version": "3.9.16"
  }
 },
 "nbformat": 4,
 "nbformat_minor": 5
}