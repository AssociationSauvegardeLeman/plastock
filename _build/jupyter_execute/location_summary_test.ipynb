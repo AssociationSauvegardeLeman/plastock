{
 "cells": [
  {
   "cell_type": "code",
   "execution_count": 1,
   "id": "32bcdb7d-96d5-47f5-a77a-139bafcc6a7d",
   "metadata": {
    "tags": [
     "hide-input"
    ]
   },
   "outputs": [
    {
     "ename": "NameError",
     "evalue": "name 'slugify' is not defined",
     "output_type": "error",
     "traceback": [
      "\u001b[0;31m---------------------------------------------------------------------------\u001b[0m",
      "\u001b[0;31mNameError\u001b[0m                                 Traceback (most recent call last)",
      "Cell \u001b[0;32mIn[1], line 58\u001b[0m\n\u001b[1;32m     56\u001b[0m work_datad\u001b[38;5;241m.\u001b[39mrename(columns\u001b[38;5;241m=\u001b[39mnew_column_names, inplace\u001b[38;5;241m=\u001b[39m\u001b[38;5;28;01mTrue\u001b[39;00m)\n\u001b[1;32m     57\u001b[0m work_datad[\u001b[38;5;124m\"\u001b[39m\u001b[38;5;124mlength\u001b[39m\u001b[38;5;124m\"\u001b[39m] \u001b[38;5;241m=\u001b[39m work_datad\u001b[38;5;241m.\u001b[39mPlage\u001b[38;5;241m.\u001b[39mapply(\u001b[38;5;28;01mlambda\u001b[39;00m x: length_key\u001b[38;5;241m.\u001b[39mloc[x, \u001b[38;5;124m\"\u001b[39m\u001b[38;5;124mlength\u001b[39m\u001b[38;5;124m\"\u001b[39m])\n\u001b[0;32m---> 58\u001b[0m work_datad[\u001b[38;5;124m\"\u001b[39m\u001b[38;5;124mslug\u001b[39m\u001b[38;5;124m\"\u001b[39m] \u001b[38;5;241m=\u001b[39m \u001b[43mwork_datad\u001b[49m\u001b[38;5;241;43m.\u001b[39;49m\u001b[43mPlage\u001b[49m\u001b[38;5;241;43m.\u001b[39;49m\u001b[43mapply\u001b[49m\u001b[43m(\u001b[49m\u001b[38;5;28;43;01mlambda\u001b[39;49;00m\u001b[43m \u001b[49m\u001b[43mx\u001b[49m\u001b[43m:\u001b[49m\u001b[43m \u001b[49m\u001b[43mslugify\u001b[49m\u001b[43m(\u001b[49m\u001b[43mx\u001b[49m\u001b[43m)\u001b[49m\u001b[43m)\u001b[49m\n\u001b[1;32m     59\u001b[0m work_datad[\u001b[38;5;124m\"\u001b[39m\u001b[38;5;124mechantillon\u001b[39m\u001b[38;5;124m\"\u001b[39m] \u001b[38;5;241m=\u001b[39m \u001b[38;5;28mlist\u001b[39m(\u001b[38;5;28mzip\u001b[39m(work_datad\u001b[38;5;241m.\u001b[39mslug, work_datad[\u001b[38;5;124m'\u001b[39m\u001b[38;5;124mdate\u001b[39m\u001b[38;5;124m'\u001b[39m]))\n\u001b[1;32m     60\u001b[0m work_datad[\u001b[38;5;124m'\u001b[39m\u001b[38;5;124mdate\u001b[39m\u001b[38;5;124m'\u001b[39m] \u001b[38;5;241m=\u001b[39m pd\u001b[38;5;241m.\u001b[39mto_datetime(work_datad[\u001b[38;5;124m\"\u001b[39m\u001b[38;5;124mdate\u001b[39m\u001b[38;5;124m\"\u001b[39m], \u001b[38;5;28mformat\u001b[39m\u001b[38;5;241m=\u001b[39m\u001b[38;5;124m\"\u001b[39m\u001b[38;5;124mmixed\u001b[39m\u001b[38;5;124m\"\u001b[39m, dayfirst\u001b[38;5;241m=\u001b[39m\u001b[38;5;28;01mTrue\u001b[39;00m)\n",
      "File \u001b[0;32m~/anaconda3/envs/plastock/lib/python3.9/site-packages/pandas/core/series.py:4631\u001b[0m, in \u001b[0;36mSeries.apply\u001b[0;34m(self, func, convert_dtype, args, **kwargs)\u001b[0m\n\u001b[1;32m   4521\u001b[0m \u001b[38;5;28;01mdef\u001b[39;00m \u001b[38;5;21mapply\u001b[39m(\n\u001b[1;32m   4522\u001b[0m     \u001b[38;5;28mself\u001b[39m,\n\u001b[1;32m   4523\u001b[0m     func: AggFuncType,\n\u001b[0;32m   (...)\u001b[0m\n\u001b[1;32m   4526\u001b[0m     \u001b[38;5;241m*\u001b[39m\u001b[38;5;241m*\u001b[39mkwargs,\n\u001b[1;32m   4527\u001b[0m ) \u001b[38;5;241m-\u001b[39m\u001b[38;5;241m>\u001b[39m DataFrame \u001b[38;5;241m|\u001b[39m Series:\n\u001b[1;32m   4528\u001b[0m \u001b[38;5;250m    \u001b[39m\u001b[38;5;124;03m\"\"\"\u001b[39;00m\n\u001b[1;32m   4529\u001b[0m \u001b[38;5;124;03m    Invoke function on values of Series.\u001b[39;00m\n\u001b[1;32m   4530\u001b[0m \n\u001b[0;32m   (...)\u001b[0m\n\u001b[1;32m   4629\u001b[0m \u001b[38;5;124;03m    dtype: float64\u001b[39;00m\n\u001b[1;32m   4630\u001b[0m \u001b[38;5;124;03m    \"\"\"\u001b[39;00m\n\u001b[0;32m-> 4631\u001b[0m     \u001b[38;5;28;01mreturn\u001b[39;00m \u001b[43mSeriesApply\u001b[49m\u001b[43m(\u001b[49m\u001b[38;5;28;43mself\u001b[39;49m\u001b[43m,\u001b[49m\u001b[43m \u001b[49m\u001b[43mfunc\u001b[49m\u001b[43m,\u001b[49m\u001b[43m \u001b[49m\u001b[43mconvert_dtype\u001b[49m\u001b[43m,\u001b[49m\u001b[43m \u001b[49m\u001b[43margs\u001b[49m\u001b[43m,\u001b[49m\u001b[43m \u001b[49m\u001b[43mkwargs\u001b[49m\u001b[43m)\u001b[49m\u001b[38;5;241;43m.\u001b[39;49m\u001b[43mapply\u001b[49m\u001b[43m(\u001b[49m\u001b[43m)\u001b[49m\n",
      "File \u001b[0;32m~/anaconda3/envs/plastock/lib/python3.9/site-packages/pandas/core/apply.py:1025\u001b[0m, in \u001b[0;36mSeriesApply.apply\u001b[0;34m(self)\u001b[0m\n\u001b[1;32m   1022\u001b[0m     \u001b[38;5;28;01mreturn\u001b[39;00m \u001b[38;5;28mself\u001b[39m\u001b[38;5;241m.\u001b[39mapply_str()\n\u001b[1;32m   1024\u001b[0m \u001b[38;5;66;03m# self.f is Callable\u001b[39;00m\n\u001b[0;32m-> 1025\u001b[0m \u001b[38;5;28;01mreturn\u001b[39;00m \u001b[38;5;28;43mself\u001b[39;49m\u001b[38;5;241;43m.\u001b[39;49m\u001b[43mapply_standard\u001b[49m\u001b[43m(\u001b[49m\u001b[43m)\u001b[49m\n",
      "File \u001b[0;32m~/anaconda3/envs/plastock/lib/python3.9/site-packages/pandas/core/apply.py:1076\u001b[0m, in \u001b[0;36mSeriesApply.apply_standard\u001b[0;34m(self)\u001b[0m\n\u001b[1;32m   1074\u001b[0m     \u001b[38;5;28;01melse\u001b[39;00m:\n\u001b[1;32m   1075\u001b[0m         values \u001b[38;5;241m=\u001b[39m obj\u001b[38;5;241m.\u001b[39mastype(\u001b[38;5;28mobject\u001b[39m)\u001b[38;5;241m.\u001b[39m_values\n\u001b[0;32m-> 1076\u001b[0m         mapped \u001b[38;5;241m=\u001b[39m \u001b[43mlib\u001b[49m\u001b[38;5;241;43m.\u001b[39;49m\u001b[43mmap_infer\u001b[49m\u001b[43m(\u001b[49m\n\u001b[1;32m   1077\u001b[0m \u001b[43m            \u001b[49m\u001b[43mvalues\u001b[49m\u001b[43m,\u001b[49m\n\u001b[1;32m   1078\u001b[0m \u001b[43m            \u001b[49m\u001b[43mf\u001b[49m\u001b[43m,\u001b[49m\n\u001b[1;32m   1079\u001b[0m \u001b[43m            \u001b[49m\u001b[43mconvert\u001b[49m\u001b[38;5;241;43m=\u001b[39;49m\u001b[38;5;28;43mself\u001b[39;49m\u001b[38;5;241;43m.\u001b[39;49m\u001b[43mconvert_dtype\u001b[49m\u001b[43m,\u001b[49m\n\u001b[1;32m   1080\u001b[0m \u001b[43m        \u001b[49m\u001b[43m)\u001b[49m\n\u001b[1;32m   1082\u001b[0m \u001b[38;5;28;01mif\u001b[39;00m \u001b[38;5;28mlen\u001b[39m(mapped) \u001b[38;5;129;01mand\u001b[39;00m \u001b[38;5;28misinstance\u001b[39m(mapped[\u001b[38;5;241m0\u001b[39m], ABCSeries):\n\u001b[1;32m   1083\u001b[0m     \u001b[38;5;66;03m# GH#43986 Need to do list(mapped) in order to get treated as nested\u001b[39;00m\n\u001b[1;32m   1084\u001b[0m     \u001b[38;5;66;03m#  See also GH#25959 regarding EA support\u001b[39;00m\n\u001b[1;32m   1085\u001b[0m     \u001b[38;5;28;01mreturn\u001b[39;00m obj\u001b[38;5;241m.\u001b[39m_constructor_expanddim(\u001b[38;5;28mlist\u001b[39m(mapped), index\u001b[38;5;241m=\u001b[39mobj\u001b[38;5;241m.\u001b[39mindex)\n",
      "File \u001b[0;32m~/anaconda3/envs/plastock/lib/python3.9/site-packages/pandas/_libs/lib.pyx:2834\u001b[0m, in \u001b[0;36mpandas._libs.lib.map_infer\u001b[0;34m()\u001b[0m\n",
      "Cell \u001b[0;32mIn[1], line 58\u001b[0m, in \u001b[0;36m<lambda>\u001b[0;34m(x)\u001b[0m\n\u001b[1;32m     56\u001b[0m work_datad\u001b[38;5;241m.\u001b[39mrename(columns\u001b[38;5;241m=\u001b[39mnew_column_names, inplace\u001b[38;5;241m=\u001b[39m\u001b[38;5;28;01mTrue\u001b[39;00m)\n\u001b[1;32m     57\u001b[0m work_datad[\u001b[38;5;124m\"\u001b[39m\u001b[38;5;124mlength\u001b[39m\u001b[38;5;124m\"\u001b[39m] \u001b[38;5;241m=\u001b[39m work_datad\u001b[38;5;241m.\u001b[39mPlage\u001b[38;5;241m.\u001b[39mapply(\u001b[38;5;28;01mlambda\u001b[39;00m x: length_key\u001b[38;5;241m.\u001b[39mloc[x, \u001b[38;5;124m\"\u001b[39m\u001b[38;5;124mlength\u001b[39m\u001b[38;5;124m\"\u001b[39m])\n\u001b[0;32m---> 58\u001b[0m work_datad[\u001b[38;5;124m\"\u001b[39m\u001b[38;5;124mslug\u001b[39m\u001b[38;5;124m\"\u001b[39m] \u001b[38;5;241m=\u001b[39m work_datad\u001b[38;5;241m.\u001b[39mPlage\u001b[38;5;241m.\u001b[39mapply(\u001b[38;5;28;01mlambda\u001b[39;00m x: \u001b[43mslugify\u001b[49m(x))\n\u001b[1;32m     59\u001b[0m work_datad[\u001b[38;5;124m\"\u001b[39m\u001b[38;5;124mechantillon\u001b[39m\u001b[38;5;124m\"\u001b[39m] \u001b[38;5;241m=\u001b[39m \u001b[38;5;28mlist\u001b[39m(\u001b[38;5;28mzip\u001b[39m(work_datad\u001b[38;5;241m.\u001b[39mslug, work_datad[\u001b[38;5;124m'\u001b[39m\u001b[38;5;124mdate\u001b[39m\u001b[38;5;124m'\u001b[39m]))\n\u001b[1;32m     60\u001b[0m work_datad[\u001b[38;5;124m'\u001b[39m\u001b[38;5;124mdate\u001b[39m\u001b[38;5;124m'\u001b[39m] \u001b[38;5;241m=\u001b[39m pd\u001b[38;5;241m.\u001b[39mto_datetime(work_datad[\u001b[38;5;124m\"\u001b[39m\u001b[38;5;124mdate\u001b[39m\u001b[38;5;124m\"\u001b[39m], \u001b[38;5;28mformat\u001b[39m\u001b[38;5;241m=\u001b[39m\u001b[38;5;124m\"\u001b[39m\u001b[38;5;124mmixed\u001b[39m\u001b[38;5;124m\"\u001b[39m, dayfirst\u001b[38;5;241m=\u001b[39m\u001b[38;5;28;01mTrue\u001b[39;00m)\n",
      "\u001b[0;31mNameError\u001b[0m: name 'slugify' is not defined"
     ]
    }
   ],
   "source": [
    "%load_ext watermark\n",
    "import numpy as np\n",
    "import pandas as pd\n",
    "import matplotlib.pyplot as plt\n",
    "import seaborn as sns\n",
    "from myst_nb import glue\n",
    "from slugify import slugify\n",
    "\n",
    "from plastockconf import name_zones, name_particles, name_frequentation, name_situation\n",
    "from plastockconf import particle_groups, name_substrate, name_distance, table_css_styles\n",
    "\n",
    "from typing import List, Dict, Union, Tuple, Callable\n",
    "\n",
    "def aggregate_dataframe(df: pd.DataFrame,\n",
    "                        groupby_columns: List[str],\n",
    "                        aggregation_functions: Dict[str, Union[str, callable]],\n",
    "                        index: bool = False) -> pd.DataFrame:\n",
    "    \"\"\"\n",
    "    Aggregate specified columns in a Pandas DataFrame using given aggregation functions.\n",
    "\n",
    "    Args:\n",
    "        df (pd.DataFrame): The input DataFrame.\n",
    "        groupby_columns (List[str]): List of column names to group by.\n",
    "        aggregation_functions (Dict[str, Union[str, callable]]):\n",
    "            A dictionary where keys are column names to aggregate,\n",
    "            and values are either aggregation functions (e.g., 'sum', 'mean', 'max', 'min')\n",
    "            or custom aggregation functions (callable functions).\n",
    "        index (bool, optional): Whether to use the groupby columns as an index.\n",
    "            Default is False.\n",
    "\n",
    "    Returns:\n",
    "        pd.DataFrame: A new DataFrame with aggregated values.\n",
    "    \"\"\"\n",
    "    grouped = df.groupby(groupby_columns, as_index=index).agg(aggregation_functions)\n",
    "    \n",
    "    return grouped\n",
    "\n",
    "# miro data\n",
    "work_data = pd.read_csv(\"data/end_pipe/long_form_micro.csv\")\n",
    "beach_data = pd.read_csv(\"data/end_pipe/asl_beaches.csv\")\n",
    "\n",
    "# macro data\n",
    "new_data = pd.read_csv(\"data/macro_current.csv\")\n",
    "beach_data = pd.read_csv(\"data/pstock_beaches_current.csv\")\n",
    "\n",
    "new_column_names = {\n",
    "    \"Position\":\"position\",\n",
    "    \"Substrat\":\"substrat\",\n",
    "    \"Date\":\"date\",\n",
    "    \"Code\":\"code\",\n",
    "    \"Quantité\":\"quantité\",\n",
    "    \"Aire\":\"area\"\n",
    "}\n",
    "\n",
    "length_key = beach_data[[\"Plage\",\"length\"]].drop_duplicates(\"Plage\").set_index(\"Plage\")\n",
    "work_datad = new_data[[\"Plage\", *new_column_names.keys()]].copy()\n",
    "work_datad.rename(columns=new_column_names, inplace=True)\n",
    "work_datad[\"length\"] = work_datad.Plage.apply(lambda x: length_key.loc[x, \"length\"])\n",
    "work_datad[\"slug\"] = work_datad.Plage.apply(lambda x: slugify(x))\n",
    "work_datad[\"echantillon\"] = list(zip(work_datad.slug, work_datad['date']))\n",
    "work_datad['date'] = pd.to_datetime(work_datad[\"date\"], format=\"mixed\", dayfirst=True)\n",
    "work_datad.dropna(inplace=True)\n",
    "work_datad[[\"position\", \"substrat\"]] = work_datad[[\"position\", \"substrat\"]].astype(\"int\")\n",
    "event_total = work_datad.groupby([\"echantillon\", \"Plage\", \"date\", \"position\", \"area\"], as_index=False)['quantité'].sum()\n",
    "event_total[\"pcs/m²\"] = event_total['quantité']/event_total.area"
   ]
  },
  {
   "cell_type": "markdown",
   "id": "64f4b56e-a28f-451b-848e-9a16e4646c59",
   "metadata": {},
   "source": [
    "# location summary methods\n",
    "\n",
    "Cela concerne: location_summary.ipynb, macro_summary.ipynb"
   ]
  },
  {
   "cell_type": "markdown",
   "id": "1bb5ae18-1bf4-484d-ba44-a7d615f569d4",
   "metadata": {},
   "source": [
    "## Tests\n",
    "\n",
    "### Test `aggregate_dataframe`"
   ]
  },
  {
   "cell_type": "code",
   "execution_count": null,
   "id": "6103f976-7e38-4de2-8932-0db5c322e491",
   "metadata": {
    "tags": [
     "hide-input"
    ]
   },
   "outputs": [],
   "source": [
    "class TestAggregateDataFrame(unittest.TestCase):\n",
    "\n",
    "    def test_aggregate_dataframe(self):\n",
    "        # Sample data\n",
    "        data = pd.DataFrame({'code': ['A', 'B', 'C', 'D', 'E', 'F'],\n",
    "                             'sample_id': [1, 2, 1, 2, 1, 1],\n",
    "                             'density': [1.5, 0.5, 1.5, 0.5, 1.5, 1],\n",
    "                             'quantity': [2, 1, 2, 1, 2, 1],\n",
    "                             'prop a': ['s1', 's2','s1','s1','s2', 's3'],\n",
    "                             'prop b': ['x' ,'x', 'z','z','z', 'q']})\n",
    "        group_by_columns = ['sample_id','prop a']\n",
    "        aggregation_functions = {'quantity': 'sum','density': 'median'}\n",
    "\n",
    "        # Expected result\n",
    "        expected_result = pd.DataFrame({\n",
    "            'sample_id': {0: 1, 1: 1, 2: 1, 3: 2, 4: 2},\n",
    "            'prop a': {0: 's1', 1: 's2', 2: 's3', 3: 's1', 4: 's2'},\n",
    "            'quantity': {0: 4, 1: 2, 2: 1, 3: 1, 4: 1},\n",
    "            'density': {0: 1.5, 1: 1.5, 2: 1.0, 3: 0.5, 4: 0.5}})\n",
    "\n",
    "        # Call the function\n",
    "        result = aggregate_dataframe(data, groupby_columns=group_by_columns, aggregation_functions=aggregation_functions)\n",
    "\n",
    "        # Check if the result matches the expected result\n",
    "        pd.testing.assert_frame_equal(result, expected_result)\n",
    "\n",
    "test_suite = unittest.TestLoader().loadTestsFromTestCase(TestAggregateDataFrame)\n",
    "test_runner = unittest.TextTestRunner(verbosity=3)\n",
    "test_result = test_runner.run(test_suite)"
   ]
  },
  {
   "cell_type": "markdown",
   "id": "e56540b3-57f0-41b5-9026-55398dab9a6e",
   "metadata": {},
   "source": [
    "## Données\n",
    "\n",
    "### micro"
   ]
  },
  {
   "cell_type": "code",
   "execution_count": null,
   "id": "8f02cc17-1b66-469a-a39e-c89b35a02dfc",
   "metadata": {},
   "outputs": [],
   "source": [
    "work_data.head()"
   ]
  },
  {
   "cell_type": "markdown",
   "id": "4de18189-7453-42d0-b0cb-d8831dd3c16a",
   "metadata": {},
   "source": [
    "### macro"
   ]
  },
  {
   "cell_type": "code",
   "execution_count": null,
   "id": "f21fea49-1808-4a50-b681-cdefa0ea1417",
   "metadata": {},
   "outputs": [],
   "source": [
    "event_total.head()"
   ]
  },
  {
   "cell_type": "markdown",
   "id": "8280104c-d400-4bbe-af2b-2c962a395872",
   "metadata": {},
   "source": [
    "### Compte moyen par échantillon et plage\n",
    "\n",
    "Cela concerne: Table A1-4, A1-5, A3-3, A3-4\n",
    "\n",
    "#### Micro table A1-4"
   ]
  },
  {
   "cell_type": "code",
   "execution_count": null,
   "id": "ec0b4522-e09a-4ef8-addb-139c54eb4466",
   "metadata": {},
   "outputs": [],
   "source": [
    "# table A1-4\n",
    "work_data[\"particules\"] = work_data[\"compte\"]\n",
    "sample_totals = work_data.groupby([\"Plage\",\"echantillon\"], as_index=False).particules.sum()\n",
    "df2 = sample_totals.copy()\n",
    "sample_totals.particules.describe()"
   ]
  },
  {
   "cell_type": "code",
   "execution_count": null,
   "id": "38743760-c40b-40c5-9a3c-ab07105276c4",
   "metadata": {},
   "outputs": [],
   "source": [
    "groupby_columns = ['Plage', 'echantillon']\n",
    "agg_function = {'particules':'sum'}\n",
    "v_o_i = 'particules'\n",
    "\n",
    "st = aggregate_dataframe(work_data, groupby_columns=groupby_columns, aggregation_functions=agg_function)\n",
    "st[v_o_i].describe()"
   ]
  },
  {
   "cell_type": "markdown",
   "id": "a5fcc0c6-235d-48e7-becc-90b4e3b6cd39",
   "metadata": {},
   "source": [
    "#### Macro table A3-3"
   ]
  },
  {
   "cell_type": "code",
   "execution_count": null,
   "id": "7a8a4736-d5ce-49a9-9fa7-5805e479b21a",
   "metadata": {},
   "outputs": [],
   "source": [
    "# table A3-3\n",
    "sample_totalsd = event_total.groupby([\"echantillon\", \"date\", \"Plage\"], as_index=False)[\"pcs/m²\"].sum()\n",
    "df2d = sample_totalsd.copy()\n",
    "value_column = \"moyenne\"\n",
    "\n",
    "sample_totalsd[\"pcs/m²\"].describe()"
   ]
  },
  {
   "cell_type": "code",
   "execution_count": null,
   "id": "03ba7219-9387-41d1-b61c-06311906995b",
   "metadata": {},
   "outputs": [],
   "source": [
    "groupby_columns = [\"echantillon\", \"date\", \"Plage\"]\n",
    "agg_function = {\"pcs/m²\":'sum'}\n",
    "v_o_i = \"pcs/m²\"\n",
    "\n",
    "std = aggregate_dataframe(event_total, groupby_columns=groupby_columns, aggregation_functions=agg_function)\n",
    "std[v_o_i].describe()"
   ]
  },
  {
   "cell_type": "markdown",
   "id": "b9496236-eaaa-4ec7-a9e7-0c56963cfe89",
   "metadata": {},
   "source": [
    "### Compte moyenne par position"
   ]
  },
  {
   "cell_type": "markdown",
   "id": "cf964eba-6e94-4ca5-b457-df7fb8853760",
   "metadata": {},
   "source": [
    "#### Micro table A1-5"
   ]
  },
  {
   "cell_type": "code",
   "execution_count": null,
   "id": "6b71c7bb-4078-47dd-9fe5-4274879b0147",
   "metadata": {},
   "outputs": [],
   "source": [
    "# table A1-5\n",
    "position_totals = work_data.groupby([\"Plage\",\"echantillon\", \"position\"], as_index=False).particules.sum()\n",
    "position_sample_totals = position_totals.groupby([\"echantillon\", \"Plage\", \"position\"], as_index=False).particules.sum()\n",
    "\n",
    "summary_ligne_deau = position_sample_totals[position_sample_totals.position == 1].particules.describe()\n",
    "summary_plage_seche = position_sample_totals[position_sample_totals.position == 2].particules.describe()\n",
    "\n",
    "summary_ligne_deau"
   ]
  },
  {
   "cell_type": "code",
   "execution_count": null,
   "id": "b3b57dca-2941-4950-9540-1a9cdb9d83a3",
   "metadata": {},
   "outputs": [],
   "source": [
    "summary_plage_seche"
   ]
  },
  {
   "cell_type": "markdown",
   "id": "5c532b58-1b34-46e0-9678-a50410337084",
   "metadata": {},
   "source": [
    "#### Macro table A3-4"
   ]
  },
  {
   "cell_type": "code",
   "execution_count": null,
   "id": "da50d73e-f37a-4016-b633-91818721c6e4",
   "metadata": {
    "tags": []
   },
   "outputs": [],
   "source": [
    "position_totalsd = event_total.groupby([\"Plage\",\"echantillon\",\"date\", \"position\"], as_index=False)[\"pcs/m²\"].sum()\n",
    "df4d = position_totalsd.groupby([\"Plage\",\"position\"], as_index=False)[\"pcs/m²\"].mean()\n",
    "\n",
    "summary_ligne_deaud = position_totalsd[position_totalsd.position == 1][\"pcs/m²\"].describe()\n",
    "summary_plage_seched = position_totalsd[position_totalsd.position == 2][\"pcs/m²\"].describe()\n",
    "\n",
    "summary_ligne_deaud"
   ]
  },
  {
   "cell_type": "code",
   "execution_count": null,
   "id": "4baa340c-e090-4178-a347-74aa89942653",
   "metadata": {},
   "outputs": [],
   "source": [
    "summary_plage_seched"
   ]
  },
  {
   "cell_type": "markdown",
   "id": "2e1a9ed9-3970-4ed1-887c-b0a242984dc8",
   "metadata": {},
   "source": [
    "### Nombre moyen par forme et plage\n",
    "\n",
    "Concernant table A1-6"
   ]
  },
  {
   "cell_type": "code",
   "execution_count": null,
   "id": "1b17d8fe-b0b1-4e78-b3e0-eadde43d430e",
   "metadata": {
    "tags": []
   },
   "outputs": [],
   "source": [
    "forme_totals = work_data.groupby([\"Plage\",\"echantillon\", \"objet\"], as_index=False).particules.sum()\n",
    "df3 = forme_totals.copy()\n",
    "df3.head()"
   ]
  },
  {
   "cell_type": "markdown",
   "id": "61305051-6619-491d-8796-fe2a78c346dd",
   "metadata": {},
   "source": [
    "__dur__"
   ]
  },
  {
   "cell_type": "code",
   "execution_count": null,
   "id": "d44dea88-1e42-4a90-8cd5-ede05a4f27e7",
   "metadata": {
    "tags": []
   },
   "outputs": [],
   "source": [
    "tex_dure = forme_totals[forme_totals.objet==\"fdure\"].particules.describe()\n",
    "\n",
    "tex_dure"
   ]
  },
  {
   "cell_type": "markdown",
   "id": "40cc72e5-e354-4541-89e1-6fe8cd822821",
   "metadata": {},
   "source": [
    "#### souple"
   ]
  },
  {
   "cell_type": "code",
   "execution_count": null,
   "id": "e3a2737c-33c6-4410-833d-9054cb620ef1",
   "metadata": {
    "tags": []
   },
   "outputs": [],
   "source": [
    "tex_souple = forme_totals[forme_totals.objet==\"souple\"].particules.describe()\n",
    "tex_souple"
   ]
  },
  {
   "cell_type": "markdown",
   "id": "34402ab3-6339-45f3-82fe-65cf926cf308",
   "metadata": {},
   "source": [
    "#### fibres"
   ]
  },
  {
   "cell_type": "code",
   "execution_count": null,
   "id": "e7f8b84e-d07c-4bd3-b371-8361987be771",
   "metadata": {},
   "outputs": [],
   "source": [
    "tex_fibres = forme_totals[forme_totals.objet==\"fibres\"].particules.describe()\n",
    "tex_fibres"
   ]
  },
  {
   "cell_type": "markdown",
   "id": "85d2caab-5cc1-4b2e-8a49-cb2e4e1b3b88",
   "metadata": {},
   "source": [
    "### Nombre moyen par forme et position\n",
    "\n",
    "Concernant table A1-8 et A1-9\n",
    "\n",
    "#### ligne deau\n",
    "\n",
    "__dur__"
   ]
  },
  {
   "cell_type": "code",
   "execution_count": null,
   "id": "b83d369e-0f0b-452a-84db-ae50442df860",
   "metadata": {},
   "outputs": [],
   "source": [
    "position_totals = work_data.groupby([\"Plage\",\"echantillon\", \"position\", \"objet\"], as_index=False).particules.sum()\n",
    "position_totals.head()"
   ]
  },
  {
   "cell_type": "code",
   "execution_count": null,
   "id": "b0700bf8-5cef-4291-8078-b14b54b7b78c",
   "metadata": {
    "tags": []
   },
   "outputs": [],
   "source": [
    "leau_dure = position_totals[(position_totals.position == 1) & (position_totals.objet == \"fdure\")].particules.describe()\n",
    "leau_souple = position_totals[(position_totals.position == 1) & (position_totals.objet == \"souple\")].particules.describe()\n",
    "leau_fibre = position_totals[(position_totals.position == 1) & (position_totals.objet == \"fibres\")].particules.describe()\n",
    "\n",
    "leau_dure "
   ]
  },
  {
   "cell_type": "markdown",
   "id": "fe4f0461-fe25-4c3c-996c-76e3685e0ac3",
   "metadata": {},
   "source": [
    "__souple__"
   ]
  },
  {
   "cell_type": "code",
   "execution_count": null,
   "id": "6abdf058-f652-4b75-b16a-03d32a876969",
   "metadata": {},
   "outputs": [],
   "source": [
    "leau_souple"
   ]
  },
  {
   "cell_type": "markdown",
   "id": "650b8335-6414-4c83-bfe4-6751d542ac52",
   "metadata": {},
   "source": [
    "__fibres__"
   ]
  },
  {
   "cell_type": "code",
   "execution_count": null,
   "id": "bd1caa7a-b94c-4b87-95cf-7a2ad45785fd",
   "metadata": {},
   "outputs": [],
   "source": [
    "leau_fibre"
   ]
  },
  {
   "cell_type": "markdown",
   "id": "1bafa376-7ef1-4cec-b8b8-dad8ff5a888f",
   "metadata": {},
   "source": [
    "#### plage seche\n",
    "\n",
    "__dur__"
   ]
  },
  {
   "cell_type": "code",
   "execution_count": null,
   "id": "292cf64d-50d3-48de-84ab-8d0df1c5d6da",
   "metadata": {
    "tags": []
   },
   "outputs": [],
   "source": [
    "plage_dure = position_totals[(position_totals.position == 2) & (position_totals.objet == \"fdure\")].particules.describe()\n",
    "plage_souple = position_totals[(position_totals.position == 2) & (position_totals.objet == \"souple\")].particules.describe()\n",
    "plage_fibre = position_totals[(position_totals.position == 2) & (position_totals.objet == \"fibres\")].particules.describe()\n",
    "\n",
    "plage_dure"
   ]
  },
  {
   "cell_type": "markdown",
   "id": "80a8eca0-ddf1-4fcb-9ebd-a0d853306ae3",
   "metadata": {
    "tags": [
     "remove-input"
    ]
   },
   "source": [
    "__souple__"
   ]
  },
  {
   "cell_type": "code",
   "execution_count": null,
   "id": "67db7bde-a064-41a4-b0a6-cf223d449704",
   "metadata": {},
   "outputs": [],
   "source": [
    "plage_souple"
   ]
  },
  {
   "cell_type": "markdown",
   "id": "f64968d8-93e4-4e46-9843-2dc112f19974",
   "metadata": {},
   "source": [
    "__fibres__"
   ]
  },
  {
   "cell_type": "code",
   "execution_count": null,
   "id": "c6a6d8c5-ec38-4f53-8060-ecd124bcbd84",
   "metadata": {},
   "outputs": [],
   "source": [
    "plage_fibre"
   ]
  },
  {
   "cell_type": "code",
   "execution_count": null,
   "id": "a520c95f-7d13-479d-b6ff-1106a2170cb3",
   "metadata": {
    "tags": [
     "remove-input"
    ]
   },
   "outputs": [],
   "source": [
    "%watermark --iversions -b -r"
   ]
  }
 ],
 "metadata": {
  "kernelspec": {
   "display_name": "Python 3 (ipykernel)",
   "language": "python",
   "name": "python3"
  },
  "language_info": {
   "codemirror_mode": {
    "name": "ipython",
    "version": 3
   },
   "file_extension": ".py",
   "mimetype": "text/x-python",
   "name": "python",
   "nbconvert_exporter": "python",
   "pygments_lexer": "ipython3",
   "version": "3.9.16"
  }
 },
 "nbformat": 4,
 "nbformat_minor": 5
}