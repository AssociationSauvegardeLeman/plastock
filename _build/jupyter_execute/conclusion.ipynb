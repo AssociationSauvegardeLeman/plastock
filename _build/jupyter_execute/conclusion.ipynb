{
 "cells": [
  {
   "cell_type": "code",
   "execution_count": 1,
   "id": "1bcf53db-e1a1-4116-8279-6b69c6c5ea30",
   "metadata": {
    "editable": true,
    "pycharm": {
     "name": "#%%\n"
    },
    "slideshow": {
     "slide_type": ""
    },
    "tags": [
     "remove-input"
    ]
   },
   "outputs": [],
   "source": [
    "import numpy as np\n",
    "import pandas as pd\n",
    "import matplotlib.pyplot as plt\n",
    "import seaborn as sns\n",
    "from myst_nb import glue\n",
    "from IPython.core.display import HTML, Markdown\n",
    "from plastockconf import particle_groups, name_substrate, name_distance, table_css_styles_top\n"
   ]
  },
  {
   "cell_type": "code",
   "execution_count": 2,
   "id": "b0f6d80e-a28f-4960-ac98-a69a5b02d86a",
   "metadata": {
    "editable": true,
    "pycharm": {
     "name": "#%%\n"
    },
    "slideshow": {
     "slide_type": ""
    },
    "tags": [
     "remove-input"
    ]
   },
   "outputs": [],
   "source": [
    "# with open('resources/tables/results_table_one.html', 'r') as file:\n",
    "#     glue(\"table_one\", HTML(file.read()), display=False)\n",
    "\n",
    "# with open('resources/tables/results_table_two.html', 'r') as file:\n",
    "#     glue(\"table_two\", HTML(file.read()), display=False)\n",
    "\n",
    "# with open('resources/tables/results_table_three.html', 'r') as file:\n",
    "#     glue(\"table_three\", HTML(file.read()), display=False)\n",
    "\n",
    "# with open('resources/tables/results_table_eight.html', 'r') as file:\n",
    "#     glue(\"table_eight\", HTML(file.read()), display=False)\n",
    "\n",
    "# with open('resources/tables/results_table_nine.html', 'r') as file:\n",
    "#     glue(\"table_nine\", HTML(file.read()), display=False)\n",
    "\n",
    "# with open('resources/charts/results_figure_eight_a.html', 'r') as file:\n",
    "#     glue(\"figure_eighta\", HTML(file.read()), display=False)\n",
    "\n",
    "with open('resources/tables/conclusion_predictions_table_macro.html', 'r') as file:\n",
    "    glue(\"macro_predictions\", HTML(file.read()), display=False)\n",
    "    \n",
    "with open('resources/tables/results_table_ten.html', 'r') as file:\n",
    "    glue(\"table_ten\", HTML(file.read()), display=False)\n",
    "\n",
    "with open('resources/tables/table_6one.html', 'r') as file:\n",
    "    glue(\"previous_studies\", HTML(file.read()), display=False)\n",
    "\n",
    "# g = pd.read_csv(\"data/inprocess/previous_micor.csv\").fillna('-')\n",
    "# g.set_index([\"Auteurs\", \"Lieu\"], inplace=True)\n",
    "# g.index.name=(None, None)\n",
    "\n",
    "# g = g.style.set_table_styles(table_css_styles_top).format(precision=0)\n",
    "# with open('resources/tables/table_6one.html', 'w') as file:\n",
    "#     file.write(g.to_html())\n"
   ]
  },
  {
   "cell_type": "markdown",
   "id": "1c61dc0f-71f0-4cdc-b70c-94518141120f",
   "metadata": {
    "editable": true,
    "pycharm": {
     "name": "#%% md\n"
    },
    "slideshow": {
     "slide_type": ""
    },
    "tags": []
   },
   "source": [
    "# Conclusion\n",
    "\n",
    "## Microplastiques\n",
    "\n",
    "### Stock de microplastiques sur les plages du Léman\n",
    "\n",
    "Pour extrapoler à l’ensemble des plages du Léman, la superficie a été estimée sur la base d’orthophotos et en se référant à la liste des plages de la CIPEL. Cette liste a été adaptée car certaines plages sont uniquement des espaces de baignade dépourvues de grèves \"naturelles\" (enrochements, dalles en pierres ou en béton, etc.).\n",
    "\n",
    "De plus, trois plages faisant partie de l’étude ont été rajoutées à la liste globale. Il s’agit d’une plage semi-privée à Crans, de la plage de la Pichette sur la commune de Corseaux et de la plage de l’Empereur à Noville (Grangettes). Au total, la superficie des 90 plages retenues correspond à 68’399 m² pour un linéaire de 12'688 m. Selon cette estimation, la contamination plastique s'élève à 524'346'734 particules sur les plages du Léman en se basant sur la moyenne pondérée et 1'232’071'187 sans pondération. La valeur pondérée correspond à une interprétation des résultats sur la base de l’étude de Constant et al. 2019 qui a déterminé des coefficients d’identification pour chaque forme de particule. Ils sont respectivement de 0.37 pour les fibres, de 0.5 pour les particules rigides et de 0.74 pour les particules souples. Ces coefficients ont donc été appliqués aux données du projet pour avoir un aperçu des résultats.\n",
    "\n",
    "### Comparaison avec d'autres études\n",
    "\n",
    "Avec le tableau ci-dessous, il est visible que les abondances mesurées dans le cadre de l’étude Pla’stock (16'500 ± 15'600) sont largement supérieures à la moyenne mesurée en 2014 sur le Léman et les autre lac Suisse. La comparaison avec la Méditerranée est encore plus flagrante.\n",
    "\n",
    "::::{grid} 1\n",
    ":::{grid-item-card} \n",
    ":margin: 0\n",
    "<b>Tableau 6.1 : </b> Etudes précedentes, comparaison avec d’autres études ayant comptabilisé des microplastiques sur les plages.\n",
    "+++\n",
    "\n",
    "{glue}`previous_studies`\n",
    "\n",
    ":::\n",
    "::::\n",
    "\n",
    "\n",
    "\n",
    "### Prédiction des abondances\n",
    "\n",
    "__Distribution des particules attendues par échantillon en fonction du substrat.__\n",
    "\n",
    "#### Sables :\n",
    "\n",
    "- 1% : 0.77\n",
    "- 25% : 44.67\n",
    "- 50% (Median) : 101.28\n",
    "- 75% : 198.83\n",
    "- 99% : 825.88\n",
    "- moyenne: 156\n",
    "\n",
    "#### Graviers :\n",
    "\n",
    "- 1% : 0.42\n",
    "- 25% : 35.15\n",
    "- 50% (Median) : 81.58\n",
    "- 75% : 186.83\n",
    "- 99% : 875.37\n",
    "- moyenne: 154\n",
    "\n",
    "__Distribution des particules attendues par échantillon en fonction du position.__\n",
    "\n",
    "####  Ligne d'eau :\n",
    "- 1% : 0.17\n",
    "- 25% : 28.64\n",
    "- 50% (Median) : 66.51\n",
    "- 75% : 138.99\n",
    "- 99% : 753.31\n",
    "- moyenne : 123\n",
    "\n",
    "#### Plage seche :\n",
    "- 1% : 1.19\n",
    "- 25% :  54.11\n",
    "- 50% (Median) :  117.84\n",
    "- 75% : 220.98\n",
    "- 99% : 886.90\n",
    "- moyenne : 191\n",
    "\n",
    "## Macroplastiques\n",
    "\n",
    "\n",
    "### Estimation du stock sur les plages du Léman\n",
    "\n",
    "Pour extrapoler à l’ensemble des plages du Léman, la longueur a été estimée sur la base d’orthophotos et en se référant à la liste des plages de la CIPEL. Cette liste a dû être adaptée car certaines plages sont uniquement des espaces de baignade dépourvues de grèves sableuses ou avec des galets (enrochements, dalles en pierres ou en béton…). A l’inverse, 3 plages faisant partie de l’étude ont été rajoutées. Il s’agit d’une plage semi-privée à Crans, de la plage de la Pichette sur la commune de Corseaux et de la plage de l’Empereur à Noville (Grangettes). \n",
    "Sur les 12'688 m de plages publiques, en extrapolant la moyenne de 3,42 pièces par mètre recensés dans le cadre du projet Pla’stock, il y aurait 43'392 morceaux de plastiques sur les plages publiques du Léman. \n",
    "\n",
    "\n",
    "\n",
    "### Comparaison avec d’autres études\n",
    "\n",
    "Les résultats de Pla’stock suggèrent que les quantités de certains déchets sauvages sont en baisse. Dans l’ensemble, l’étude fait état d’une valeur médiane de 2 pcs/m contre 3,7 à 4,4 pcs/m dans le passé. Cette réduction est conforme aux conclusions de 2020 - 2021 mais plus importante que prévue (SLR - IQAASL). A noter que l’effort de collecte adopté par les première et troisième études est comparable à celui consenti par Pla’stock.\n",
    "\n",
    "\n",
    "::::{grid} 1\n",
    "\n",
    ":::{grid-item-card} \n",
    ":margin: 0\n",
    "<b>Tableau 6.2 :</b> Résultats précédents, comparaison des résultats des campagnes de collecte de déchets sauvages au bord du Léman entre 2015 et 2022, déchets par mètre de rivage, nombre d’échantillons et nombre total de déchets récoltés.\n",
    "^^^\n",
    "\n",
    "{glue}`table_ten`\n",
    "\n",
    ":::\n",
    "::::\n",
    "\n",
    "Les déchets dont la concentration sur les plages a le plus fortement diminué sont ceux liés à la consommation personnelle (mégots de cigarettes, emballages de snacks et bouchons de bouteilles en plastique). La diminution marquée de la densité de cotons-tiges en plastique (0,03 pcs/m contre 0,13 pcs/m) est inattendue et pourrait être attribuée à l’interdiction de la vente de ces articles en France.\n",
    "\n",
    "Sur la base des différentes sessions d’échantillonnage de ces dernières années, il est possible de prédire les abondances qui seront retrouvées sur les plages du Léman. \n",
    "\n",
    "::::{grid} 1 \n",
    "\n",
    ":::{grid-item-card} Grid approximation\n",
    "<b>Tableau 6.3 :</b>  Prédiction du nombre de pièce par mètre linéaire avec, ref [Analyse et inference](analyse_inference)\n",
    "^^^\n",
    "{glue}`macro_predictions`\n",
    ":::\n",
    "::::\n",
    "\n",
    "\n",
    "## Discussion générale\n",
    "\n",
    "En conclusion à cette étude, une grande disparité d’abondance est observable entre les différentes plages et ce, tant pour les micro que les macroplastiques. Une pareille étude à l’échelle de la plage montrerait certainement une même hétérogénéité au vu de l’importance des zones d’accumulations. Parmi les variables testées, et bien que des variations soient visibles, aucune ne se démarque comme déterminante de la pollution plastique. Pour autant, une plage de sable, à proximité d’un parking et avec une forte fréquentation risque d’être plus fortement impactée qu’une plage de galets isolée. \n",
    "Les comparaisons avec des études antérieures montrent une nette augmentation des concentrations en microplastiques depuis l’étude de De Alencastro et Faure en 2014. A l’inverse, les abondances en macroplastiques tendent à diminuer légèrement. Cette évolution sera intéressante à suivre lors de futures études.\n",
    "Au niveau des microplastiques identifiés, les fibres anthropiques sont largement dominantes. Ceci démontre le rôle important de l’abrasion des textiles comme apport de microplastiques dans l’environnement. \n",
    "Pour les macroplastiques, un point à relever est l’importance fragmentation observée sur les déchets récoltés. En effet, plus de la moitié des objets triés n’étaient plus identifiables. Parmi les éléments les plus fréquemment rencontrés, se retrouvent les mégots, les emballages alimentaires et les pellets industriels.\n",
    "Des tests sont actuellement en cours dans le cadre d’un travail de Master avec l’Université de Genève. \n",
    "Ouverture: Plus ample études à mener sur la courantologie car variables testées influences de manière negligeable. Des tests sur les apports des principaux cours d'eau sont en cours dans le cadre d'un travail de master avec l'UNIGE. Il serait également intéressant de pouvoir tester l’influence des vents et des courants sur la distribution des plastiques autour du lac. L’exemple des Grangettes et du Bouveret, où l’effet combiné de la proximité du Rhône et de contre-courants ramenant les déchets vers les rives montre bien l’influence que peuvent avoir ces variables.\n"
   ]
  },
  {
   "cell_type": "markdown",
   "id": "50225a14-1e3c-491d-ac74-9c1f715b7f08",
   "metadata": {
    "editable": true,
    "pycharm": {
     "name": "#%% md\n"
    },
    "slideshow": {
     "slide_type": ""
    },
    "tags": []
   },
   "source": []
  },
  {
   "cell_type": "code",
   "execution_count": null,
   "id": "77e6ef24-691a-4ff5-81d6-5176536413a8",
   "metadata": {
    "editable": true,
    "slideshow": {
     "slide_type": ""
    },
    "tags": []
   },
   "outputs": [],
   "source": []
  }
 ],
 "metadata": {
  "kernelspec": {
   "display_name": "Python 3 (ipykernel)",
   "language": "python",
   "name": "python3"
  },
  "language_info": {
   "codemirror_mode": {
    "name": "ipython",
    "version": 3
   },
   "file_extension": ".py",
   "mimetype": "text/x-python",
   "name": "python",
   "nbconvert_exporter": "python",
   "pygments_lexer": "ipython3",
   "version": "3.9.18"
  }
 },
 "nbformat": 4,
 "nbformat_minor": 5
}