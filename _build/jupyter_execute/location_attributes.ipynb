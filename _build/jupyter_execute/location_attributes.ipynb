{
 "cells": [
  {
   "cell_type": "code",
   "execution_count": 1,
   "id": "32bcdb7d-96d5-47f5-a77a-139bafcc6a7d",
   "metadata": {
    "tags": [
     "hide-input"
    ]
   },
   "outputs": [],
   "source": [
    "%load_ext watermark\n",
    "import numpy as np\n",
    "import pandas as pd\n",
    "import datetime as dt\n",
    "import matplotlib.pyplot as plt\n",
    "import seaborn as sns\n",
    "from myst_nb import glue\n",
    "from IPython.display import Markdown as md\n",
    "\n",
    "from plastockmethods import name_the_zones, name_the_particles, frequentation_name, situation_name\n",
    "from plastockmethods import particle_groups, name_the_substrate, name_the_distance, table_css_styles\n",
    "\n",
    "a_property =  {'color' : 'red'}\n",
    "\n",
    "def translate_describe(x, value_column):\n",
    "    described = x.to_dict()\n",
    "    described.pop(\"count\")\n",
    "    described[\"moyenne\"] = described.pop(\"mean\")\n",
    "    described[\"écart-type\"] = described.pop(\"std\")\n",
    "    df = pd.DataFrame(described.items())\n",
    "    df.set_index(0, inplace=True)\n",
    "    df.rename(columns={1:value_column}, inplace=True)\n",
    "    df.index.name = None\n",
    "    \n",
    "    \n",
    "    return df\n",
    "def add_labels_display(data, column_name, labels):\n",
    "    # Changes column values from integer to labels and sets df.index to column_name\n",
    "    data[column_name] = data[column_name].apply(lambda x: labels[x])\n",
    "    data.set_index(column_name, drop=True, inplace=True)\n",
    "    data.index.name = None\n",
    "        \n",
    "    return data.style.format(precision=2).set_table_styles(table_css_styles)\n",
    "def normalize_column(x):\n",
    "    return (x - x.min())/(x.max()-x.min())\n",
    "\n",
    "def attribute_summary(some_data, vals, voi, columns: dict = None, labels: dict = None):\n",
    "    \n",
    "    groupby = ['echantillon', voi]\n",
    "    data = some_data.groupby(groupby, as_index=False)[vals].sum()\n",
    "    data[voi] = data[voi].apply(lambda x: labels[x])\n",
    "\n",
    "    data_summary = data.groupby(voi, as_index=False)[vals].describe()\n",
    "    data_summary[['count', 'max', 'min']] = data_summary[['count', 'max', 'min']].astype('int')\n",
    "    data_summary.rename(columns=columns, inplace=True)\n",
    "    data_summary.set_index(voi, inplace=True, drop=True)\n",
    "    data_summary.index.name = None\n",
    "    \n",
    "    select_values = data_summary[\"moyenne\"] > 180\n",
    "    test_one = data_summary.loc[select_values].index\n",
    "    \n",
    "    select_values = data_summary[\"50%\"] > 121\n",
    "    test_two = data_summary.loc[select_values].index\n",
    "        \n",
    "    d_sum = data_summary.style.set_table_styles(table_css_styles).format(precision=2)\n",
    "    d_sum = d_sum.set_properties(subset = pd.IndexSlice[test_one,[\"moyenne\"]], **a_property)\n",
    "    \n",
    "    return d_sum.set_properties(subset = pd.IndexSlice[test_two,[\"50%\"]], **a_property)\n",
    "\n",
    "def attribute_summary_grid(data, vals, voi, figname, labels: dict=None, stat=\"probability\", ):\n",
    "    \n",
    "    groupby = ['echantillon', voi]\n",
    "    some_data = data.groupby(groupby, as_index=False)[vals].sum()\n",
    "    some_data[voi] = some_data[voi].apply(lambda x: labels[x])\n",
    "    \n",
    "    fig, axs = plt.subplots(2,2, figsize=(8,7))\n",
    "\n",
    "    sns.scatterplot(some_data,x=\"echantillon\", y=vals, hue=voi,  ax=axs[0,0])\n",
    "    sns.boxplot(some_data, x=voi, y=vals, hue=voi, showfliers=False, ax=axs[1,0], dodge=False)\n",
    "    sns.histplot(some_data,x=vals, hue=voi, ax=axs[0,1], stat=stat, kde=True)\n",
    "    sns.ecdfplot(some_data, x=vals, hue=voi, ax=axs[1,1])\n",
    "    axs[0,0].set_ylim(-1, 1000)\n",
    "    axs[0,1].set_xlim(-1, 1000)\n",
    "    axs[1,1].set_xlim(-1, 1000)\n",
    "    axs[0,0].tick_params(axis=\"x\", which=\"both\", bottom=False, top=False, labelbottom=False)\n",
    "    axs[0,0].set_xlabel(\"échantillon\")\n",
    "    axs[0,0].set_ylabel(\"particules\")\n",
    "    axs[0,0].get_legend().remove()\n",
    "    axs[1,0].get_legend().remove()\n",
    "    axs[1,0].set_xlabel(\"\")\n",
    "    axs[1,0].set_ylabel(\"particules\")\n",
    "    axs[0,1].set_xlabel(\"\")\n",
    "    axs[0,1].set_ylabel(\"probabilité\")\n",
    "    axs[1,0].tick_params(axis=\"x\", rotation=90, )\n",
    "    axs[1,1].get_legend().remove()\n",
    "    axs[1,1].set_xlabel(\"\")\n",
    "    plt.subplots_adjust(wspace=.3)\n",
    "\n",
    "    plt.tight_layout\n",
    "    \n",
    "    glue(figname, fig, display=False)\n",
    "    plt.close()\n",
    "    \n",
    "\n",
    "format_kwargs = dict(precision=2, thousands=\"'\", decimal=\",\")\n",
    "def add_table_to_page(table, table_no, caption, section, page, rule):\n",
    "    \n",
    "    caption = f'Table {section}{page}-{table_no}: {caption} {rule}'\n",
    "    table = table.format_index(str.title, axis=1).format_index(str.title, axis=0).format(**format_kwargs)\n",
    "    return table.set_caption(caption)\n",
    "glue('blank_caption', \" \", display=False)\n",
    "\n",
    "work_data = pd.read_csv(\"data/end_pipe/long_form_micro.csv\")\n",
    "beach_data = pd.read_csv(\"data/end_pipe/asl_beaches.csv\")"
   ]
  },
  {
   "cell_type": "code",
   "execution_count": 2,
   "id": "349d0459-c19b-48c0-b8ad-82b10667bb54",
   "metadata": {
    "tags": [
     "remove-input"
    ]
   },
   "outputs": [],
   "source": [
    "table_no = 1\n",
    "figure_no = 1\n",
    "caption = 'Les données d\\'analyse. Tous les tableaux et figures sont construits à partir de cet ensemble de données.'\n",
    "section = 'A'\n",
    "rule = 'Les attributs dont la moyenne des résultats est supérieure à la moyenne du projet sont en rouge.'\n",
    "page = 2\n",
    "\n",
    "caption = f'Table {section}{page}-{table_no}: {caption} {rule}'"
   ]
  },
  {
   "cell_type": "markdown",
   "id": "f5c4038a-38ed-411c-a014-cb07f729d140",
   "metadata": {},
   "source": [
    "# Microplastiques plage et attribut\n",
    "\n",
    "Les attributs sont les caractéristiques du lieu d'étude qui changent d'un lieu à l'autre. La manière dont le nombre de microplastiques observés évolue en fonction des attributs est l'une des préoccupations de cette étude."
   ]
  },
  {
   "cell_type": "code",
   "execution_count": 3,
   "id": "beda0b95-bf7b-4173-b9e3-4ae226a3f2b5",
   "metadata": {
    "tags": [
     "remove-input"
    ]
   },
   "outputs": [
    {
     "data": {
      "text/html": [
       "<style type=\"text/css\">\n",
       "#T_b4c49 tr:nth-child(even) {\n",
       "  background-color: rgba(139, 69, 19, 0.08);\n",
       "}\n",
       "#T_b4c49 tr:nth-child(odd) {\n",
       "  background: #FFF;\n",
       "}\n",
       "#T_b4c49 tr {\n",
       "  font-size: 14px;\n",
       "  padding: 10px;\n",
       "}\n",
       "#T_b4c49 th:nth-child(1) {\n",
       "  background-color: #FFF;\n",
       "}\n",
       "#T_b4c49 caption {\n",
       "  caption-side: bottom;\n",
       "  font-size: 16px;\n",
       "  text-align: left;\n",
       "  margin-top: 15px;\n",
       "}\n",
       "</style>\n",
       "<table id=\"T_b4c49\">\n",
       "  <caption>Table A2-1: Les données d'analyse. Tous les tableaux et figures sont construits à partir de cet ensemble de données. Les attributs dont la moyenne des résultats est supérieure à la moyenne du projet sont en rouge.</caption>\n",
       "  <thead>\n",
       "    <tr>\n",
       "      <th class=\"blank level0\" >&nbsp;</th>\n",
       "      <th id=\"T_b4c49_level0_col0\" class=\"col_heading level0 col0\" >Plage</th>\n",
       "      <th id=\"T_b4c49_level0_col1\" class=\"col_heading level0 col1\" >echantillon</th>\n",
       "      <th id=\"T_b4c49_level0_col2\" class=\"col_heading level0 col2\" >orientation</th>\n",
       "      <th id=\"T_b4c49_level0_col3\" class=\"col_heading level0 col3\" >position</th>\n",
       "      <th id=\"T_b4c49_level0_col4\" class=\"col_heading level0 col4\" >substrat</th>\n",
       "      <th id=\"T_b4c49_level0_col5\" class=\"col_heading level0 col5\" >frequentation</th>\n",
       "      <th id=\"T_b4c49_level0_col6\" class=\"col_heading level0 col6\" >situation</th>\n",
       "      <th id=\"T_b4c49_level0_col7\" class=\"col_heading level0 col7\" >distance</th>\n",
       "      <th id=\"T_b4c49_level0_col8\" class=\"col_heading level0 col8\" >objet</th>\n",
       "      <th id=\"T_b4c49_level0_col9\" class=\"col_heading level0 col9\" >compte</th>\n",
       "    </tr>\n",
       "  </thead>\n",
       "  <tbody>\n",
       "    <tr>\n",
       "      <th id=\"T_b4c49_level0_row0\" class=\"row_heading level0 row0\" >0</th>\n",
       "      <td id=\"T_b4c49_row0_col0\" class=\"data row0 col0\" >Amphion</td>\n",
       "      <td id=\"T_b4c49_row0_col1\" class=\"data row0 col1\" >74_Amp_1</td>\n",
       "      <td id=\"T_b4c49_row0_col2\" class=\"data row0 col2\" >NE</td>\n",
       "      <td id=\"T_b4c49_row0_col3\" class=\"data row0 col3\" >1</td>\n",
       "      <td id=\"T_b4c49_row0_col4\" class=\"data row0 col4\" >4</td>\n",
       "      <td id=\"T_b4c49_row0_col5\" class=\"data row0 col5\" >3</td>\n",
       "      <td id=\"T_b4c49_row0_col6\" class=\"data row0 col6\" >1</td>\n",
       "      <td id=\"T_b4c49_row0_col7\" class=\"data row0 col7\" >1</td>\n",
       "      <td id=\"T_b4c49_row0_col8\" class=\"data row0 col8\" >fibres</td>\n",
       "      <td id=\"T_b4c49_row0_col9\" class=\"data row0 col9\" >97</td>\n",
       "    </tr>\n",
       "    <tr>\n",
       "      <th id=\"T_b4c49_level0_row1\" class=\"row_heading level0 row1\" >1</th>\n",
       "      <td id=\"T_b4c49_row1_col0\" class=\"data row1 col0\" >Amphion</td>\n",
       "      <td id=\"T_b4c49_row1_col1\" class=\"data row1 col1\" >74_Amp_10</td>\n",
       "      <td id=\"T_b4c49_row1_col2\" class=\"data row1 col2\" >NNE</td>\n",
       "      <td id=\"T_b4c49_row1_col3\" class=\"data row1 col3\" >2</td>\n",
       "      <td id=\"T_b4c49_row1_col4\" class=\"data row1 col4\" >4</td>\n",
       "      <td id=\"T_b4c49_row1_col5\" class=\"data row1 col5\" >3</td>\n",
       "      <td id=\"T_b4c49_row1_col6\" class=\"data row1 col6\" >1</td>\n",
       "      <td id=\"T_b4c49_row1_col7\" class=\"data row1 col7\" >1</td>\n",
       "      <td id=\"T_b4c49_row1_col8\" class=\"data row1 col8\" >fibres</td>\n",
       "      <td id=\"T_b4c49_row1_col9\" class=\"data row1 col9\" >140</td>\n",
       "    </tr>\n",
       "    <tr>\n",
       "      <th id=\"T_b4c49_level0_row2\" class=\"row_heading level0 row2\" >2</th>\n",
       "      <td id=\"T_b4c49_row2_col0\" class=\"data row2 col0\" >Amphion</td>\n",
       "      <td id=\"T_b4c49_row2_col1\" class=\"data row2 col1\" >74_Amp_2</td>\n",
       "      <td id=\"T_b4c49_row2_col2\" class=\"data row2 col2\" >NNE</td>\n",
       "      <td id=\"T_b4c49_row2_col3\" class=\"data row2 col3\" >1</td>\n",
       "      <td id=\"T_b4c49_row2_col4\" class=\"data row2 col4\" >4</td>\n",
       "      <td id=\"T_b4c49_row2_col5\" class=\"data row2 col5\" >3</td>\n",
       "      <td id=\"T_b4c49_row2_col6\" class=\"data row2 col6\" >1</td>\n",
       "      <td id=\"T_b4c49_row2_col7\" class=\"data row2 col7\" >1</td>\n",
       "      <td id=\"T_b4c49_row2_col8\" class=\"data row2 col8\" >fibres</td>\n",
       "      <td id=\"T_b4c49_row2_col9\" class=\"data row2 col9\" >121</td>\n",
       "    </tr>\n",
       "    <tr>\n",
       "      <th id=\"T_b4c49_level0_row3\" class=\"row_heading level0 row3\" >3</th>\n",
       "      <td id=\"T_b4c49_row3_col0\" class=\"data row3 col0\" >Amphion</td>\n",
       "      <td id=\"T_b4c49_row3_col1\" class=\"data row3 col1\" >74_Amp_3</td>\n",
       "      <td id=\"T_b4c49_row3_col2\" class=\"data row3 col2\" >NE</td>\n",
       "      <td id=\"T_b4c49_row3_col3\" class=\"data row3 col3\" >1</td>\n",
       "      <td id=\"T_b4c49_row3_col4\" class=\"data row3 col4\" >4</td>\n",
       "      <td id=\"T_b4c49_row3_col5\" class=\"data row3 col5\" >3</td>\n",
       "      <td id=\"T_b4c49_row3_col6\" class=\"data row3 col6\" >1</td>\n",
       "      <td id=\"T_b4c49_row3_col7\" class=\"data row3 col7\" >1</td>\n",
       "      <td id=\"T_b4c49_row3_col8\" class=\"data row3 col8\" >fibres</td>\n",
       "      <td id=\"T_b4c49_row3_col9\" class=\"data row3 col9\" >31</td>\n",
       "    </tr>\n",
       "    <tr>\n",
       "      <th id=\"T_b4c49_level0_row4\" class=\"row_heading level0 row4\" >4</th>\n",
       "      <td id=\"T_b4c49_row4_col0\" class=\"data row4 col0\" >Amphion</td>\n",
       "      <td id=\"T_b4c49_row4_col1\" class=\"data row4 col1\" >74_Amp_4</td>\n",
       "      <td id=\"T_b4c49_row4_col2\" class=\"data row4 col2\" >NNE</td>\n",
       "      <td id=\"T_b4c49_row4_col3\" class=\"data row4 col3\" >1</td>\n",
       "      <td id=\"T_b4c49_row4_col4\" class=\"data row4 col4\" >4</td>\n",
       "      <td id=\"T_b4c49_row4_col5\" class=\"data row4 col5\" >3</td>\n",
       "      <td id=\"T_b4c49_row4_col6\" class=\"data row4 col6\" >1</td>\n",
       "      <td id=\"T_b4c49_row4_col7\" class=\"data row4 col7\" >1</td>\n",
       "      <td id=\"T_b4c49_row4_col8\" class=\"data row4 col8\" >fibres</td>\n",
       "      <td id=\"T_b4c49_row4_col9\" class=\"data row4 col9\" >179</td>\n",
       "    </tr>\n",
       "  </tbody>\n",
       "</table>\n"
      ],
      "text/plain": [
       "<pandas.io.formats.style.Styler at 0x7f8be0f8b760>"
      ]
     },
     "execution_count": 3,
     "metadata": {},
     "output_type": "execute_result"
    }
   ],
   "source": [
    "work_data.head().style.set_table_styles(table_css_styles).format(precision=2).set_caption(caption)"
   ]
  },
  {
   "cell_type": "markdown",
   "id": "2fd29516-479d-47ef-b46a-6bcc0d8f1347",
   "metadata": {},
   "source": [
    "\n",
    "## Substrat\n",
    "\n",
    "Le substrat définit la surface de l'emplacement d'échantillonnage."
   ]
  },
  {
   "cell_type": "code",
   "execution_count": 4,
   "id": "91336a58-9c42-4937-8b41-e26687f2baaa",
   "metadata": {
    "tags": [
     "remove-input"
    ]
   },
   "outputs": [
    {
     "data": {
      "text/html": [
       "<style type=\"text/css\">\n",
       "#T_e3f52 tr:nth-child(even) {\n",
       "  background-color: rgba(139, 69, 19, 0.08);\n",
       "}\n",
       "#T_e3f52 tr:nth-child(odd) {\n",
       "  background: #FFF;\n",
       "}\n",
       "#T_e3f52 tr {\n",
       "  font-size: 14px;\n",
       "  padding: 10px;\n",
       "}\n",
       "#T_e3f52 th:nth-child(1) {\n",
       "  background-color: #FFF;\n",
       "}\n",
       "#T_e3f52 caption {\n",
       "  caption-side: bottom;\n",
       "  font-size: 16px;\n",
       "  text-align: left;\n",
       "  margin-top: 15px;\n",
       "}\n",
       "#T_e3f52_row1_col1, #T_e3f52_row2_col5, #T_e3f52_row3_col5 {\n",
       "  color: red;\n",
       "}\n",
       "</style>\n",
       "<table id=\"T_e3f52\">\n",
       "  <caption>Table A2-2: Le résumé des résultats du nombre de particules trouvées dans chaque échantillon pour chaque substrat. Les attributs dont la moyenne des résultats est supérieure à la moyenne du projet sont en rouge.</caption>\n",
       "  <thead>\n",
       "    <tr>\n",
       "      <th class=\"blank level0\" >&nbsp;</th>\n",
       "      <th id=\"T_e3f52_level0_col0\" class=\"col_heading level0 col0\" >N Échantillons</th>\n",
       "      <th id=\"T_e3f52_level0_col1\" class=\"col_heading level0 col1\" >Moyenne</th>\n",
       "      <th id=\"T_e3f52_level0_col2\" class=\"col_heading level0 col2\" >Écart Type</th>\n",
       "      <th id=\"T_e3f52_level0_col3\" class=\"col_heading level0 col3\" >Min</th>\n",
       "      <th id=\"T_e3f52_level0_col4\" class=\"col_heading level0 col4\" >25%</th>\n",
       "      <th id=\"T_e3f52_level0_col5\" class=\"col_heading level0 col5\" >50%</th>\n",
       "      <th id=\"T_e3f52_level0_col6\" class=\"col_heading level0 col6\" >75%</th>\n",
       "      <th id=\"T_e3f52_level0_col7\" class=\"col_heading level0 col7\" >Max</th>\n",
       "    </tr>\n",
       "  </thead>\n",
       "  <tbody>\n",
       "    <tr>\n",
       "      <th id=\"T_e3f52_level0_row0\" class=\"row_heading level0 row0\" >Galet</th>\n",
       "      <td id=\"T_e3f52_row0_col0\" class=\"data row0 col0\" >46</td>\n",
       "      <td id=\"T_e3f52_row0_col1\" class=\"data row0 col1\" >125,20</td>\n",
       "      <td id=\"T_e3f52_row0_col2\" class=\"data row0 col2\" >107,16</td>\n",
       "      <td id=\"T_e3f52_row0_col3\" class=\"data row0 col3\" >26</td>\n",
       "      <td id=\"T_e3f52_row0_col4\" class=\"data row0 col4\" >57,50</td>\n",
       "      <td id=\"T_e3f52_row0_col5\" class=\"data row0 col5\" >92,50</td>\n",
       "      <td id=\"T_e3f52_row0_col6\" class=\"data row0 col6\" >155,75</td>\n",
       "      <td id=\"T_e3f52_row0_col7\" class=\"data row0 col7\" >665</td>\n",
       "    </tr>\n",
       "    <tr>\n",
       "      <th id=\"T_e3f52_level0_row1\" class=\"row_heading level0 row1\" >Gravier</th>\n",
       "      <td id=\"T_e3f52_row1_col0\" class=\"data row1 col0\" >29</td>\n",
       "      <td id=\"T_e3f52_row1_col1\" class=\"data row1 col1\" >335,59</td>\n",
       "      <td id=\"T_e3f52_row1_col2\" class=\"data row1 col2\" >622,59</td>\n",
       "      <td id=\"T_e3f52_row1_col3\" class=\"data row1 col3\" >0</td>\n",
       "      <td id=\"T_e3f52_row1_col4\" class=\"data row1 col4\" >62,00</td>\n",
       "      <td id=\"T_e3f52_row1_col5\" class=\"data row1 col5\" >90,00</td>\n",
       "      <td id=\"T_e3f52_row1_col6\" class=\"data row1 col6\" >230,00</td>\n",
       "      <td id=\"T_e3f52_row1_col7\" class=\"data row1 col7\" >2'991</td>\n",
       "    </tr>\n",
       "    <tr>\n",
       "      <th id=\"T_e3f52_level0_row2\" class=\"row_heading level0 row2\" >Sable Fin</th>\n",
       "      <td id=\"T_e3f52_row2_col0\" class=\"data row2 col0\" >114</td>\n",
       "      <td id=\"T_e3f52_row2_col1\" class=\"data row2 col1\" >169,69</td>\n",
       "      <td id=\"T_e3f52_row2_col2\" class=\"data row2 col2\" >155,16</td>\n",
       "      <td id=\"T_e3f52_row2_col3\" class=\"data row2 col3\" >0</td>\n",
       "      <td id=\"T_e3f52_row2_col4\" class=\"data row2 col4\" >82,75</td>\n",
       "      <td id=\"T_e3f52_row2_col5\" class=\"data row2 col5\" >132,00</td>\n",
       "      <td id=\"T_e3f52_row2_col6\" class=\"data row2 col6\" >200,00</td>\n",
       "      <td id=\"T_e3f52_row2_col7\" class=\"data row2 col7\" >971</td>\n",
       "    </tr>\n",
       "    <tr>\n",
       "      <th id=\"T_e3f52_level0_row3\" class=\"row_heading level0 row3\" >Sable Grosssier</th>\n",
       "      <td id=\"T_e3f52_row3_col0\" class=\"data row3 col0\" >28</td>\n",
       "      <td id=\"T_e3f52_row3_col1\" class=\"data row3 col1\" >151,89</td>\n",
       "      <td id=\"T_e3f52_row3_col2\" class=\"data row3 col2\" >136,76</td>\n",
       "      <td id=\"T_e3f52_row3_col3\" class=\"data row3 col3\" >19</td>\n",
       "      <td id=\"T_e3f52_row3_col4\" class=\"data row3 col4\" >56,50</td>\n",
       "      <td id=\"T_e3f52_row3_col5\" class=\"data row3 col5\" >122,00</td>\n",
       "      <td id=\"T_e3f52_row3_col6\" class=\"data row3 col6\" >174,50</td>\n",
       "      <td id=\"T_e3f52_row3_col7\" class=\"data row3 col7\" >550</td>\n",
       "    </tr>\n",
       "  </tbody>\n",
       "</table>\n"
      ],
      "text/plain": [
       "<pandas.io.formats.style.Styler at 0x7f8b621606a0>"
      ]
     },
     "metadata": {
      "scrapbook": {
       "mime_prefix": "",
       "name": "tablea22"
      }
     },
     "output_type": "display_data"
    }
   ],
   "source": [
    "columns = ['Plage', 'echantillon', 'orientation', 'position', 'substrat','frequentation', 'situation', 'distance', \"fibres\", \"fdure\", \"souple\", \"fragments\", \"added\"]\n",
    "column_display = {\n",
    "    \"count\":\"n échantillons\",\n",
    "    \"mean\": \"moyenne\",\n",
    "    \"std\": \"écart type\",\n",
    "    \"echantillon\":\"échantillon\"\n",
    "}\n",
    "\n",
    "# ananlysis of substrat\n",
    "voi = \"substrat\"\n",
    "vals = \"compte\"\n",
    "groupbys = ['echantillon', voi]\n",
    "labels = name_the_substrate\n",
    "\n",
    "\n",
    "substrat_summary = attribute_summary(work_data, vals, voi, columns=column_display, labels=name_the_substrate)\n",
    "\n",
    "table_no = 1\n",
    "\n",
    "caption = 'Le résumé des résultats du nombre de particules trouvées dans chaque échantillon pour chaque substrat.'\n",
    "section = 'A'\n",
    "rule = 'Les attributs dont la moyenne des résultats est supérieure à la moyenne du projet sont en rouge.'\n",
    "page = 2\n",
    "\n",
    "table_no += 1\n",
    "table_one = add_table_to_page(substrat_summary, table_no, caption, section, page, rule)\n",
    "glue('tablea22', table_one, display=True)"
   ]
  },
  {
   "cell_type": "code",
   "execution_count": 5,
   "id": "06757855-56b9-44d0-a279-767650bf6c6d",
   "metadata": {
    "tags": [
     "remove-input"
    ]
   },
   "outputs": [],
   "source": [
    "attribute_summary_grid(work_data, vals, voi, 'fig-A21', labels=labels)"
   ]
  },
  {
   "cell_type": "markdown",
   "id": "2d4ffd79-da7b-433f-9c66-39a3424a1af0",
   "metadata": {},
   "source": [
    "```{glue:figure} fig-A21\n",
    "---\n",
    "name: fig-A21\n",
    "---\n",
    "{glue:text}`blank_caption` \n",
    "```"
   ]
  },
  {
   "cell_type": "markdown",
   "id": "0c591902-1a50-4d97-a194-5fb468481fc6",
   "metadata": {},
   "source": [
    "__Les plages substrat = gravier:__"
   ]
  },
  {
   "cell_type": "code",
   "execution_count": 6,
   "id": "b6c66901-42c5-4b1b-be79-8a5fb922ace2",
   "metadata": {
    "tags": [
     "remove-input"
    ]
   },
   "outputs": [
    {
     "data": {
      "text/markdown": [
       "Hermance, Port Choiseul, Versoix, Cully, Pichette"
      ],
      "text/plain": [
       "<IPython.core.display.Markdown object>"
      ]
     },
     "execution_count": 6,
     "metadata": {},
     "output_type": "execute_result"
    }
   ],
   "source": [
    "md(', '.join(work_data[work_data.substrat.isin([3])].Plage.unique()))"
   ]
  },
  {
   "cell_type": "markdown",
   "id": "2198abcc-75aa-4417-80eb-db405fd5de01",
   "metadata": {},
   "source": [
    "__Les plages substrat = sable fin:__"
   ]
  },
  {
   "cell_type": "code",
   "execution_count": 7,
   "id": "45825003-edf4-4d6e-a0ff-ef6e213916e9",
   "metadata": {
    "tags": [
     "remove-input"
    ]
   },
   "outputs": [
    {
     "data": {
      "text/markdown": [
       "Excenevex, Baby Plage, Grangettes, Préverenges, Rolle, Vidy, Bouveret"
      ],
      "text/plain": [
       "<IPython.core.display.Markdown object>"
      ]
     },
     "execution_count": 7,
     "metadata": {},
     "output_type": "execute_result"
    }
   ],
   "source": [
    "md(', '.join(work_data[work_data.substrat.isin([1])].Plage.unique()))"
   ]
  },
  {
   "cell_type": "markdown",
   "id": "de58010e-9504-4a79-a1db-3285f038cfc0",
   "metadata": {},
   "source": [
    "__Les plages substrat = sable grossier:__"
   ]
  },
  {
   "cell_type": "code",
   "execution_count": 8,
   "id": "5163d8cd-cfbe-424e-9964-b6f87c9c74ce",
   "metadata": {
    "tags": [
     "remove-input"
    ]
   },
   "outputs": [
    {
     "data": {
      "text/markdown": [
       "Meillerie, Tougues, Savonnière, Clarens, Crans, Gland, Lutry, Tolochenaz"
      ],
      "text/plain": [
       "<IPython.core.display.Markdown object>"
      ]
     },
     "execution_count": 8,
     "metadata": {},
     "output_type": "execute_result"
    }
   ],
   "source": [
    "md(', '.join(work_data[work_data.substrat.isin([2])].Plage.unique()))"
   ]
  },
  {
   "cell_type": "markdown",
   "id": "ab70b0d4-832c-4a18-a142-efc9eaf2de9a",
   "metadata": {},
   "source": [
    "## Frequentation"
   ]
  },
  {
   "cell_type": "code",
   "execution_count": 9,
   "id": "8be79f37-8f8e-48ca-b09b-055dc342a074",
   "metadata": {
    "tags": [
     "remove-input"
    ]
   },
   "outputs": [
    {
     "data": {
      "text/html": [
       "<style type=\"text/css\">\n",
       "#T_bfa77 tr:nth-child(even) {\n",
       "  background-color: rgba(139, 69, 19, 0.08);\n",
       "}\n",
       "#T_bfa77 tr:nth-child(odd) {\n",
       "  background: #FFF;\n",
       "}\n",
       "#T_bfa77 tr {\n",
       "  font-size: 14px;\n",
       "  padding: 10px;\n",
       "}\n",
       "#T_bfa77 th:nth-child(1) {\n",
       "  background-color: #FFF;\n",
       "}\n",
       "#T_bfa77 caption {\n",
       "  caption-side: bottom;\n",
       "  font-size: 16px;\n",
       "  text-align: left;\n",
       "  margin-top: 15px;\n",
       "}\n",
       "#T_bfa77_row1_col1, #T_bfa77_row2_col5 {\n",
       "  color: red;\n",
       "}\n",
       "</style>\n",
       "<table id=\"T_bfa77\">\n",
       "  <caption>Table A2-3: Le résumé des résultats du nombre de particules trouvées pour chaque niveau de fréquentation. Les attributs dont la moyenne des résultats est supérieure à la moyenne du projet sont en rouge.</caption>\n",
       "  <thead>\n",
       "    <tr>\n",
       "      <th class=\"blank level0\" >&nbsp;</th>\n",
       "      <th id=\"T_bfa77_level0_col0\" class=\"col_heading level0 col0\" >N Échantillons</th>\n",
       "      <th id=\"T_bfa77_level0_col1\" class=\"col_heading level0 col1\" >Moyenne</th>\n",
       "      <th id=\"T_bfa77_level0_col2\" class=\"col_heading level0 col2\" >Écart Type</th>\n",
       "      <th id=\"T_bfa77_level0_col3\" class=\"col_heading level0 col3\" >Min</th>\n",
       "      <th id=\"T_bfa77_level0_col4\" class=\"col_heading level0 col4\" >25%</th>\n",
       "      <th id=\"T_bfa77_level0_col5\" class=\"col_heading level0 col5\" >50%</th>\n",
       "      <th id=\"T_bfa77_level0_col6\" class=\"col_heading level0 col6\" >75%</th>\n",
       "      <th id=\"T_bfa77_level0_col7\" class=\"col_heading level0 col7\" >Max</th>\n",
       "    </tr>\n",
       "  </thead>\n",
       "  <tbody>\n",
       "    <tr>\n",
       "      <th id=\"T_bfa77_level0_row0\" class=\"row_heading level0 row0\" >Faible</th>\n",
       "      <td id=\"T_bfa77_row0_col0\" class=\"data row0 col0\" >8</td>\n",
       "      <td id=\"T_bfa77_row0_col1\" class=\"data row0 col1\" >73,38</td>\n",
       "      <td id=\"T_bfa77_row0_col2\" class=\"data row0 col2\" >58,85</td>\n",
       "      <td id=\"T_bfa77_row0_col3\" class=\"data row0 col3\" >0</td>\n",
       "      <td id=\"T_bfa77_row0_col4\" class=\"data row0 col4\" >46,00</td>\n",
       "      <td id=\"T_bfa77_row0_col5\" class=\"data row0 col5\" >57,00</td>\n",
       "      <td id=\"T_bfa77_row0_col6\" class=\"data row0 col6\" >98,75</td>\n",
       "      <td id=\"T_bfa77_row0_col7\" class=\"data row0 col7\" >182</td>\n",
       "    </tr>\n",
       "    <tr>\n",
       "      <th id=\"T_bfa77_level0_row1\" class=\"row_heading level0 row1\" >Moyenne</th>\n",
       "      <td id=\"T_bfa77_row1_col0\" class=\"data row1 col0\" >37</td>\n",
       "      <td id=\"T_bfa77_row1_col1\" class=\"data row1 col1\" >267,84</td>\n",
       "      <td id=\"T_bfa77_row1_col2\" class=\"data row1 col2\" >497,49</td>\n",
       "      <td id=\"T_bfa77_row1_col3\" class=\"data row1 col3\" >20</td>\n",
       "      <td id=\"T_bfa77_row1_col4\" class=\"data row1 col4\" >72,00</td>\n",
       "      <td id=\"T_bfa77_row1_col5\" class=\"data row1 col5\" >117,00</td>\n",
       "      <td id=\"T_bfa77_row1_col6\" class=\"data row1 col6\" >209,00</td>\n",
       "      <td id=\"T_bfa77_row1_col7\" class=\"data row1 col7\" >2'991</td>\n",
       "    </tr>\n",
       "    <tr>\n",
       "      <th id=\"T_bfa77_level0_row2\" class=\"row_heading level0 row2\" >Élévée</th>\n",
       "      <td id=\"T_bfa77_row2_col0\" class=\"data row2 col0\" >172</td>\n",
       "      <td id=\"T_bfa77_row2_col1\" class=\"data row2 col1\" >166,23</td>\n",
       "      <td id=\"T_bfa77_row2_col2\" class=\"data row2 col2\" >189,29</td>\n",
       "      <td id=\"T_bfa77_row2_col3\" class=\"data row2 col3\" >0</td>\n",
       "      <td id=\"T_bfa77_row2_col4\" class=\"data row2 col4\" >71,50</td>\n",
       "      <td id=\"T_bfa77_row2_col5\" class=\"data row2 col5\" >124,50</td>\n",
       "      <td id=\"T_bfa77_row2_col6\" class=\"data row2 col6\" >194,00</td>\n",
       "      <td id=\"T_bfa77_row2_col7\" class=\"data row2 col7\" >1'492</td>\n",
       "    </tr>\n",
       "  </tbody>\n",
       "</table>\n"
      ],
      "text/plain": [
       "<pandas.io.formats.style.Styler at 0x7f8b621bebb0>"
      ]
     },
     "metadata": {
      "scrapbook": {
       "mime_prefix": "",
       "name": "tablea23"
      }
     },
     "output_type": "display_data"
    }
   ],
   "source": [
    "# ananlysis of frequentation\n",
    "voi = \"frequentation\"\n",
    "vals = \"compte\"\n",
    "groupbys = ['echantillon', voi]\n",
    "labels = frequentation_name\n",
    "\n",
    "freq = attribute_summary(work_data, vals, voi, columns=column_display, labels=labels)\n",
    "\n",
    "caption = 'Le résumé des résultats du nombre de particules trouvées pour chaque niveau de fréquentation.'\n",
    "table_no += 1\n",
    "\n",
    "table_two = add_table_to_page(freq, table_no, caption, section, page, rule)\n",
    "glue('tablea23', table_two, display=True)"
   ]
  },
  {
   "cell_type": "code",
   "execution_count": 10,
   "id": "5c055bd7-e95e-4446-997c-b9f2ef097558",
   "metadata": {
    "tags": [
     "remove-input"
    ]
   },
   "outputs": [],
   "source": [
    "attribute_summary_grid(work_data, vals, voi, 'fig-A22', labels=labels)"
   ]
  },
  {
   "cell_type": "markdown",
   "id": "a9d0c469-759f-40f6-b717-8602ed28429d",
   "metadata": {},
   "source": [
    "```{glue:figure} fig-A22\n",
    "---\n",
    "name: fig-A22\n",
    "---\n",
    "{glue:text}`blank_caption` \n",
    "```"
   ]
  },
  {
   "cell_type": "markdown",
   "id": "2d91d4f7-3e20-482d-8086-cdabd1e2e5c9",
   "metadata": {
    "tags": []
   },
   "source": [
    "__Les plages fréquentation = moyenne:__"
   ]
  },
  {
   "cell_type": "code",
   "execution_count": 11,
   "id": "947db345-8bdb-4a1e-84e7-cf6b2fdfd56c",
   "metadata": {
    "tags": [
     "remove-input"
    ]
   },
   "outputs": [
    {
     "data": {
      "text/markdown": [
       "Anthy, Lugrin, Saint-Disdille, Aubonne, Gland, Grangettes, Pichette"
      ],
      "text/plain": [
       "<IPython.core.display.Markdown object>"
      ]
     },
     "execution_count": 11,
     "metadata": {},
     "output_type": "execute_result"
    }
   ],
   "source": [
    "md(', '.join(work_data[work_data.frequentation.isin([2])].Plage.unique()))"
   ]
  },
  {
   "cell_type": "markdown",
   "id": "25cfe243-315a-43f8-8e7d-2d4ade298b1f",
   "metadata": {
    "tags": []
   },
   "source": [
    "__Les plages fréquentation = élevée:__"
   ]
  },
  {
   "cell_type": "code",
   "execution_count": 12,
   "id": "0274da9c-0c70-4dd0-99b5-2d8cd708b8b9",
   "metadata": {
    "tags": [
     "remove-input"
    ]
   },
   "outputs": [
    {
     "data": {
      "text/markdown": [
       "Amphion, Excenevex, Tougues, Baby Plage, Hermance, Port Choiseul, Savonnière, Versoix, Clarens, Lutry, Préverenges, Rolle, Vidy, Bouveret"
      ],
      "text/plain": [
       "<IPython.core.display.Markdown object>"
      ]
     },
     "execution_count": 12,
     "metadata": {},
     "output_type": "execute_result"
    }
   ],
   "source": [
    "md(', '.join(work_data[work_data.frequentation.isin([3])].Plage.unique()))"
   ]
  },
  {
   "cell_type": "markdown",
   "id": "87ff7f34-ee8a-4301-81bb-49cfc1b6acc6",
   "metadata": {},
   "source": [
    "## Situation"
   ]
  },
  {
   "cell_type": "code",
   "execution_count": 13,
   "id": "c3f4e1ff-4b7d-48ee-b01a-23b19b6fac30",
   "metadata": {
    "tags": [
     "remove-input"
    ]
   },
   "outputs": [
    {
     "data": {
      "text/html": [
       "<style type=\"text/css\">\n",
       "#T_231bc tr:nth-child(even) {\n",
       "  background-color: rgba(139, 69, 19, 0.08);\n",
       "}\n",
       "#T_231bc tr:nth-child(odd) {\n",
       "  background: #FFF;\n",
       "}\n",
       "#T_231bc tr {\n",
       "  font-size: 14px;\n",
       "  padding: 10px;\n",
       "}\n",
       "#T_231bc th:nth-child(1) {\n",
       "  background-color: #FFF;\n",
       "}\n",
       "#T_231bc caption {\n",
       "  caption-side: bottom;\n",
       "  font-size: 16px;\n",
       "  text-align: left;\n",
       "  margin-top: 15px;\n",
       "}\n",
       "#T_231bc_row0_col1, #T_231bc_row0_col5 {\n",
       "  color: red;\n",
       "}\n",
       "</style>\n",
       "<table id=\"T_231bc\">\n",
       "  <caption>Table A2-4: Le résumé des résultats du nombre de particules trouvées pour chaque situation: urbain, campagne. Les attributs dont la moyenne des résultats est supérieure à la moyenne du projet sont en rouge.</caption>\n",
       "  <thead>\n",
       "    <tr>\n",
       "      <th class=\"blank level0\" >&nbsp;</th>\n",
       "      <th id=\"T_231bc_level0_col0\" class=\"col_heading level0 col0\" >N Échantillons</th>\n",
       "      <th id=\"T_231bc_level0_col1\" class=\"col_heading level0 col1\" >Moyenne</th>\n",
       "      <th id=\"T_231bc_level0_col2\" class=\"col_heading level0 col2\" >Écart Type</th>\n",
       "      <th id=\"T_231bc_level0_col3\" class=\"col_heading level0 col3\" >Min</th>\n",
       "      <th id=\"T_231bc_level0_col4\" class=\"col_heading level0 col4\" >25%</th>\n",
       "      <th id=\"T_231bc_level0_col5\" class=\"col_heading level0 col5\" >50%</th>\n",
       "      <th id=\"T_231bc_level0_col6\" class=\"col_heading level0 col6\" >75%</th>\n",
       "      <th id=\"T_231bc_level0_col7\" class=\"col_heading level0 col7\" >Max</th>\n",
       "    </tr>\n",
       "  </thead>\n",
       "  <tbody>\n",
       "    <tr>\n",
       "      <th id=\"T_231bc_level0_row0\" class=\"row_heading level0 row0\" >Campagne</th>\n",
       "      <td id=\"T_231bc_row0_col0\" class=\"data row0 col0\" >140</td>\n",
       "      <td id=\"T_231bc_row0_col1\" class=\"data row0 col1\" >186,41</td>\n",
       "      <td id=\"T_231bc_row0_col2\" class=\"data row0 col2\" >286,49</td>\n",
       "      <td id=\"T_231bc_row0_col3\" class=\"data row0 col3\" >0</td>\n",
       "      <td id=\"T_231bc_row0_col4\" class=\"data row0 col4\" >75,75</td>\n",
       "      <td id=\"T_231bc_row0_col5\" class=\"data row0 col5\" >128,00</td>\n",
       "      <td id=\"T_231bc_row0_col6\" class=\"data row0 col6\" >200,00</td>\n",
       "      <td id=\"T_231bc_row0_col7\" class=\"data row0 col7\" >2'991</td>\n",
       "    </tr>\n",
       "    <tr>\n",
       "      <th id=\"T_231bc_level0_row1\" class=\"row_heading level0 row1\" >Urbain</th>\n",
       "      <td id=\"T_231bc_row1_col0\" class=\"data row1 col0\" >77</td>\n",
       "      <td id=\"T_231bc_row1_col1\" class=\"data row1 col1\" >168,71</td>\n",
       "      <td id=\"T_231bc_row1_col2\" class=\"data row1 col2\" >230,73</td>\n",
       "      <td id=\"T_231bc_row1_col3\" class=\"data row1 col3\" >0</td>\n",
       "      <td id=\"T_231bc_row1_col4\" class=\"data row1 col4\" >59,00</td>\n",
       "      <td id=\"T_231bc_row1_col5\" class=\"data row1 col5\" >104,00</td>\n",
       "      <td id=\"T_231bc_row1_col6\" class=\"data row1 col6\" >192,00</td>\n",
       "      <td id=\"T_231bc_row1_col7\" class=\"data row1 col7\" >1'492</td>\n",
       "    </tr>\n",
       "  </tbody>\n",
       "</table>\n"
      ],
      "text/plain": [
       "<pandas.io.formats.style.Styler at 0x7f8b596db1f0>"
      ]
     },
     "metadata": {
      "scrapbook": {
       "mime_prefix": "",
       "name": "tablea24"
      }
     },
     "output_type": "display_data"
    }
   ],
   "source": [
    "# ananlysis of situation\n",
    "voi = \"situation\"\n",
    "vals = \"compte\"\n",
    "groupby = ['echantillon', voi]\n",
    "labels = situation_name\n",
    "\n",
    "sit = attribute_summary(work_data, vals, voi, columns=column_display, labels=labels)\n",
    "\n",
    "caption = 'Le résumé des résultats du nombre de particules trouvées pour chaque situation: urbain, campagne.'\n",
    "table_no += 1\n",
    "\n",
    "table_three = add_table_to_page(sit, table_no, caption, section, page, rule)\n",
    "glue('tablea24', table_three, display=True)"
   ]
  },
  {
   "cell_type": "code",
   "execution_count": 14,
   "id": "6f0bdf69-e3e9-4148-8d61-a406c49db9ca",
   "metadata": {
    "tags": [
     "remove-input"
    ]
   },
   "outputs": [],
   "source": [
    "attribute_summary_grid(work_data, vals, voi, 'fig-A23', labels=labels)"
   ]
  },
  {
   "cell_type": "markdown",
   "id": "ad546b57-8fe3-4162-8104-b2a20079231b",
   "metadata": {},
   "source": [
    "```{glue:figure} fig-A23\n",
    "---\n",
    "name: fig-A23\n",
    "---\n",
    "{glue:text}`blank_caption` \n",
    "```"
   ]
  },
  {
   "cell_type": "markdown",
   "id": "4838741a-24d3-4a05-acb7-273c16cf6f28",
   "metadata": {
    "tags": []
   },
   "source": [
    "__Les plages situation = campagne:__"
   ]
  },
  {
   "cell_type": "code",
   "execution_count": 15,
   "id": "37a01f56-9b16-4b98-9b2d-e20c62ff1414",
   "metadata": {
    "tags": [
     "remove-input"
    ]
   },
   "outputs": [
    {
     "data": {
      "text/markdown": [
       "Amphion, Anthy, Excenevex, Lugrin, Saint-Disdille, Tougues, Savonnière, Versoix, Aubonne, Crans, Cully, Gland, Grangettes, Pichette, Préverenges, Tolochenaz, Bouveret"
      ],
      "text/plain": [
       "<IPython.core.display.Markdown object>"
      ]
     },
     "execution_count": 15,
     "metadata": {},
     "output_type": "execute_result"
    }
   ],
   "source": [
    "md(', '.join(work_data[work_data.situation.isin([1])].Plage.unique()))"
   ]
  },
  {
   "cell_type": "markdown",
   "id": "ad34431a-eec1-4bc7-abfd-fbd0586c140e",
   "metadata": {},
   "source": [
    "## Distance"
   ]
  },
  {
   "cell_type": "code",
   "execution_count": 16,
   "id": "3f0d77ea-80a4-4eed-a98e-0fbec78caa69",
   "metadata": {
    "tags": [
     "remove-input"
    ]
   },
   "outputs": [
    {
     "data": {
      "text/html": [
       "<style type=\"text/css\">\n",
       "#T_4d088 tr:nth-child(even) {\n",
       "  background-color: rgba(139, 69, 19, 0.08);\n",
       "}\n",
       "#T_4d088 tr:nth-child(odd) {\n",
       "  background: #FFF;\n",
       "}\n",
       "#T_4d088 tr {\n",
       "  font-size: 14px;\n",
       "  padding: 10px;\n",
       "}\n",
       "#T_4d088 th:nth-child(1) {\n",
       "  background-color: #FFF;\n",
       "}\n",
       "#T_4d088 caption {\n",
       "  caption-side: bottom;\n",
       "  font-size: 16px;\n",
       "  text-align: left;\n",
       "  margin-top: 15px;\n",
       "}\n",
       "#T_4d088_row0_col1, #T_4d088_row0_col5, #T_4d088_row2_col5 {\n",
       "  color: red;\n",
       "}\n",
       "</style>\n",
       "<table id=\"T_4d088\">\n",
       "  <caption>Table A2-5: Le résumé des résultats du nombre de particules trouvées selon le distance du parking. Les attributs dont la moyenne des résultats est supérieure à la moyenne du projet sont en rouge.</caption>\n",
       "  <thead>\n",
       "    <tr>\n",
       "      <th class=\"blank level0\" >&nbsp;</th>\n",
       "      <th id=\"T_4d088_level0_col0\" class=\"col_heading level0 col0\" >N Échantillons</th>\n",
       "      <th id=\"T_4d088_level0_col1\" class=\"col_heading level0 col1\" >Moyenne</th>\n",
       "      <th id=\"T_4d088_level0_col2\" class=\"col_heading level0 col2\" >Écart Type</th>\n",
       "      <th id=\"T_4d088_level0_col3\" class=\"col_heading level0 col3\" >Min</th>\n",
       "      <th id=\"T_4d088_level0_col4\" class=\"col_heading level0 col4\" >25%</th>\n",
       "      <th id=\"T_4d088_level0_col5\" class=\"col_heading level0 col5\" >50%</th>\n",
       "      <th id=\"T_4d088_level0_col6\" class=\"col_heading level0 col6\" >75%</th>\n",
       "      <th id=\"T_4d088_level0_col7\" class=\"col_heading level0 col7\" >Max</th>\n",
       "    </tr>\n",
       "  </thead>\n",
       "  <tbody>\n",
       "    <tr>\n",
       "      <th id=\"T_4d088_level0_row0\" class=\"row_heading level0 row0\" >100 - 500M</th>\n",
       "      <td id=\"T_4d088_row0_col0\" class=\"data row0 col0\" >110</td>\n",
       "      <td id=\"T_4d088_row0_col1\" class=\"data row0 col1\" >194,82</td>\n",
       "      <td id=\"T_4d088_row0_col2\" class=\"data row0 col2\" >240,05</td>\n",
       "      <td id=\"T_4d088_row0_col3\" class=\"data row0 col3\" >0</td>\n",
       "      <td id=\"T_4d088_row0_col4\" class=\"data row0 col4\" >70,50</td>\n",
       "      <td id=\"T_4d088_row0_col5\" class=\"data row0 col5\" >126,00</td>\n",
       "      <td id=\"T_4d088_row0_col6\" class=\"data row0 col6\" >210,50</td>\n",
       "      <td id=\"T_4d088_row0_col7\" class=\"data row0 col7\" >1'492</td>\n",
       "    </tr>\n",
       "    <tr>\n",
       "      <th id=\"T_4d088_level0_row1\" class=\"row_heading level0 row1\" >500 - 1000M</th>\n",
       "      <td id=\"T_4d088_row1_col0\" class=\"data row1 col0\" >2</td>\n",
       "      <td id=\"T_4d088_row1_col1\" class=\"data row1 col1\" >38,00</td>\n",
       "      <td id=\"T_4d088_row1_col2\" class=\"data row1 col2\" >26,87</td>\n",
       "      <td id=\"T_4d088_row1_col3\" class=\"data row1 col3\" >19</td>\n",
       "      <td id=\"T_4d088_row1_col4\" class=\"data row1 col4\" >28,50</td>\n",
       "      <td id=\"T_4d088_row1_col5\" class=\"data row1 col5\" >38,00</td>\n",
       "      <td id=\"T_4d088_row1_col6\" class=\"data row1 col6\" >47,50</td>\n",
       "      <td id=\"T_4d088_row1_col7\" class=\"data row1 col7\" >57</td>\n",
       "    </tr>\n",
       "    <tr>\n",
       "      <th id=\"T_4d088_level0_row2\" class=\"row_heading level0 row2\" >< 100M</th>\n",
       "      <td id=\"T_4d088_row2_col0\" class=\"data row2 col0\" >93</td>\n",
       "      <td id=\"T_4d088_row2_col1\" class=\"data row2 col1\" >176,81</td>\n",
       "      <td id=\"T_4d088_row2_col2\" class=\"data row2 col2\" >312,85</td>\n",
       "      <td id=\"T_4d088_row2_col3\" class=\"data row2 col3\" >0</td>\n",
       "      <td id=\"T_4d088_row2_col4\" class=\"data row2 col4\" >78,00</td>\n",
       "      <td id=\"T_4d088_row2_col5\" class=\"data row2 col5\" >124,00</td>\n",
       "      <td id=\"T_4d088_row2_col6\" class=\"data row2 col6\" >192,00</td>\n",
       "      <td id=\"T_4d088_row2_col7\" class=\"data row2 col7\" >2'991</td>\n",
       "    </tr>\n",
       "    <tr>\n",
       "      <th id=\"T_4d088_level0_row3\" class=\"row_heading level0 row3\" >> 1000M</th>\n",
       "      <td id=\"T_4d088_row3_col0\" class=\"data row3 col0\" >12</td>\n",
       "      <td id=\"T_4d088_row3_col1\" class=\"data row3 col1\" >95,00</td>\n",
       "      <td id=\"T_4d088_row3_col2\" class=\"data row3 col2\" >53,75</td>\n",
       "      <td id=\"T_4d088_row3_col3\" class=\"data row3 col3\" >44</td>\n",
       "      <td id=\"T_4d088_row3_col4\" class=\"data row3 col4\" >56,50</td>\n",
       "      <td id=\"T_4d088_row3_col5\" class=\"data row3 col5\" >77,00</td>\n",
       "      <td id=\"T_4d088_row3_col6\" class=\"data row3 col6\" >105,75</td>\n",
       "      <td id=\"T_4d088_row3_col7\" class=\"data row3 col7\" >200</td>\n",
       "    </tr>\n",
       "  </tbody>\n",
       "</table>\n"
      ],
      "text/plain": [
       "<pandas.io.formats.style.Styler at 0x7f8b5378c970>"
      ]
     },
     "metadata": {
      "scrapbook": {
       "mime_prefix": "",
       "name": "tablea25"
      }
     },
     "output_type": "display_data"
    }
   ],
   "source": [
    "# ananlysis of distance\n",
    "voi = \"distance\"\n",
    "vals = \"compte\"\n",
    "groupby = ['echantillon', voi]\n",
    "labels = name_the_distance\n",
    "\n",
    "dist = attribute_summary(work_data, vals, voi, columns=column_display, labels=labels)\n",
    "\n",
    "caption = 'Le résumé des résultats du nombre de particules trouvées selon le distance du parking.'\n",
    "table_no += 1\n",
    "\n",
    "table_four = add_table_to_page(dist, table_no, caption, section, page, rule)\n",
    "glue('tablea25', table_four, display=True)"
   ]
  },
  {
   "cell_type": "code",
   "execution_count": 17,
   "id": "361a9a83-a280-46f0-8404-c4281c74f6f3",
   "metadata": {
    "tags": [
     "remove-input"
    ]
   },
   "outputs": [],
   "source": [
    "attribute_summary_grid(work_data, vals, voi, 'fig-A24', labels=labels)"
   ]
  },
  {
   "cell_type": "markdown",
   "id": "c1cbe92a-76b1-4bde-96ab-16fc4c4269ff",
   "metadata": {},
   "source": [
    "```{glue:figure} fig-A24\n",
    "---\n",
    "name: fig-A24\n",
    "---\n",
    "{glue:text}`blank_caption` \n",
    "```"
   ]
  },
  {
   "cell_type": "markdown",
   "id": "28330572-b8c2-435b-a60f-7eacf5f9d272",
   "metadata": {
    "tags": []
   },
   "source": [
    "__Les plages distance = 100 - 500m:__ "
   ]
  },
  {
   "cell_type": "code",
   "execution_count": 18,
   "id": "1dbd1c84-59b2-46c9-abf8-da0a650e2532",
   "metadata": {
    "tags": [
     "remove-input"
    ]
   },
   "outputs": [
    {
     "data": {
      "text/markdown": [
       "Lugrin, Tougues, Baby Plage, Hermance, Port Choiseul, Versoix, Grangettes, Lutry, Préverenges, Vidy, Bouveret"
      ],
      "text/plain": [
       "<IPython.core.display.Markdown object>"
      ]
     },
     "execution_count": 18,
     "metadata": {},
     "output_type": "execute_result"
    }
   ],
   "source": [
    "md(', '.join(work_data[work_data.distance.isin([2])].Plage.unique()))"
   ]
  },
  {
   "cell_type": "markdown",
   "id": "d06f6349-06a0-48f7-8066-7a58f650d44a",
   "metadata": {
    "tags": []
   },
   "source": [
    "__Les plages distance = < 100m:__ "
   ]
  },
  {
   "cell_type": "code",
   "execution_count": 19,
   "id": "27512734-ead7-42ad-9fd6-a38f01cd3538",
   "metadata": {
    "tags": [
     "remove-input"
    ]
   },
   "outputs": [
    {
     "data": {
      "text/markdown": [
       "Amphion, Anthy, Excenevex, Saint-Disdille, Savonnière, Clarens, Cully, Gland, Pichette, Rolle"
      ],
      "text/plain": [
       "<IPython.core.display.Markdown object>"
      ]
     },
     "execution_count": 19,
     "metadata": {},
     "output_type": "execute_result"
    }
   ],
   "source": [
    "md(', '.join(work_data[work_data.distance.isin([1])].Plage.unique()))"
   ]
  },
  {
   "cell_type": "markdown",
   "id": "34476b29-d31e-4010-a2e8-16395e513817",
   "metadata": {},
   "source": [
    "## Orientation"
   ]
  },
  {
   "cell_type": "code",
   "execution_count": 20,
   "id": "8a98785d-d666-4b4b-877d-0e7e1e55a24b",
   "metadata": {
    "tags": [
     "remove-input"
    ]
   },
   "outputs": [
    {
     "data": {
      "text/html": [
       "<style type=\"text/css\">\n",
       "#T_a04d0 tr:nth-child(even) {\n",
       "  background-color: rgba(139, 69, 19, 0.08);\n",
       "}\n",
       "#T_a04d0 tr:nth-child(odd) {\n",
       "  background: #FFF;\n",
       "}\n",
       "#T_a04d0 tr {\n",
       "  font-size: 14px;\n",
       "  padding: 10px;\n",
       "}\n",
       "#T_a04d0 th:nth-child(1) {\n",
       "  background-color: #FFF;\n",
       "}\n",
       "#T_a04d0 caption {\n",
       "  caption-side: bottom;\n",
       "  font-size: 16px;\n",
       "  text-align: left;\n",
       "  margin-top: 15px;\n",
       "}\n",
       "#T_a04d0_row1_col5, #T_a04d0_row3_col5, #T_a04d0_row4_col1, #T_a04d0_row5_col5, #T_a04d0_row7_col1, #T_a04d0_row7_col5, #T_a04d0_row8_col1, #T_a04d0_row11_col1, #T_a04d0_row11_col5, #T_a04d0_row13_col1, #T_a04d0_row13_col5 {\n",
       "  color: red;\n",
       "}\n",
       "</style>\n",
       "<table id=\"T_a04d0\">\n",
       "  <caption>Table A2-6: Le résumé des résultats du nombre de particules trouvées selon l'orientation de la plage. Les attributs dont la moyenne des résultats est supérieure à la moyenne du projet sont en rouge.</caption>\n",
       "  <thead>\n",
       "    <tr>\n",
       "      <th class=\"blank level0\" >&nbsp;</th>\n",
       "      <th id=\"T_a04d0_level0_col0\" class=\"col_heading level0 col0\" >N Échantillons</th>\n",
       "      <th id=\"T_a04d0_level0_col1\" class=\"col_heading level0 col1\" >Moyenne</th>\n",
       "      <th id=\"T_a04d0_level0_col2\" class=\"col_heading level0 col2\" >Écart Type</th>\n",
       "      <th id=\"T_a04d0_level0_col3\" class=\"col_heading level0 col3\" >Min</th>\n",
       "      <th id=\"T_a04d0_level0_col4\" class=\"col_heading level0 col4\" >25%</th>\n",
       "      <th id=\"T_a04d0_level0_col5\" class=\"col_heading level0 col5\" >50%</th>\n",
       "      <th id=\"T_a04d0_level0_col6\" class=\"col_heading level0 col6\" >75%</th>\n",
       "      <th id=\"T_a04d0_level0_col7\" class=\"col_heading level0 col7\" >Max</th>\n",
       "    </tr>\n",
       "  </thead>\n",
       "  <tbody>\n",
       "    <tr>\n",
       "      <th id=\"T_a04d0_level0_row0\" class=\"row_heading level0 row0\" >E</th>\n",
       "      <td id=\"T_a04d0_row0_col0\" class=\"data row0 col0\" >1</td>\n",
       "      <td id=\"T_a04d0_row0_col1\" class=\"data row0 col1\" >40,00</td>\n",
       "      <td id=\"T_a04d0_row0_col2\" class=\"data row0 col2\" >nan</td>\n",
       "      <td id=\"T_a04d0_row0_col3\" class=\"data row0 col3\" >40</td>\n",
       "      <td id=\"T_a04d0_row0_col4\" class=\"data row0 col4\" >40,00</td>\n",
       "      <td id=\"T_a04d0_row0_col5\" class=\"data row0 col5\" >40,00</td>\n",
       "      <td id=\"T_a04d0_row0_col6\" class=\"data row0 col6\" >40,00</td>\n",
       "      <td id=\"T_a04d0_row0_col7\" class=\"data row0 col7\" >40</td>\n",
       "    </tr>\n",
       "    <tr>\n",
       "      <th id=\"T_a04d0_level0_row1\" class=\"row_heading level0 row1\" >Ene</th>\n",
       "      <td id=\"T_a04d0_row1_col0\" class=\"data row1 col0\" >2</td>\n",
       "      <td id=\"T_a04d0_row1_col1\" class=\"data row1 col1\" >135,50</td>\n",
       "      <td id=\"T_a04d0_row1_col2\" class=\"data row1 col2\" >65,76</td>\n",
       "      <td id=\"T_a04d0_row1_col3\" class=\"data row1 col3\" >89</td>\n",
       "      <td id=\"T_a04d0_row1_col4\" class=\"data row1 col4\" >112,25</td>\n",
       "      <td id=\"T_a04d0_row1_col5\" class=\"data row1 col5\" >135,50</td>\n",
       "      <td id=\"T_a04d0_row1_col6\" class=\"data row1 col6\" >158,75</td>\n",
       "      <td id=\"T_a04d0_row1_col7\" class=\"data row1 col7\" >182</td>\n",
       "    </tr>\n",
       "    <tr>\n",
       "      <th id=\"T_a04d0_level0_row2\" class=\"row_heading level0 row2\" >Ese</th>\n",
       "      <td id=\"T_a04d0_row2_col0\" class=\"data row2 col0\" >4</td>\n",
       "      <td id=\"T_a04d0_row2_col1\" class=\"data row2 col1\" >99,75</td>\n",
       "      <td id=\"T_a04d0_row2_col2\" class=\"data row2 col2\" >34,93</td>\n",
       "      <td id=\"T_a04d0_row2_col3\" class=\"data row2 col3\" >62</td>\n",
       "      <td id=\"T_a04d0_row2_col4\" class=\"data row2 col4\" >83,00</td>\n",
       "      <td id=\"T_a04d0_row2_col5\" class=\"data row2 col5\" >95,50</td>\n",
       "      <td id=\"T_a04d0_row2_col6\" class=\"data row2 col6\" >112,25</td>\n",
       "      <td id=\"T_a04d0_row2_col7\" class=\"data row2 col7\" >146</td>\n",
       "    </tr>\n",
       "    <tr>\n",
       "      <th id=\"T_a04d0_level0_row3\" class=\"row_heading level0 row3\" >N</th>\n",
       "      <td id=\"T_a04d0_row3_col0\" class=\"data row3 col0\" >14</td>\n",
       "      <td id=\"T_a04d0_row3_col1\" class=\"data row3 col1\" >170,00</td>\n",
       "      <td id=\"T_a04d0_row3_col2\" class=\"data row3 col2\" >158,50</td>\n",
       "      <td id=\"T_a04d0_row3_col3\" class=\"data row3 col3\" >27</td>\n",
       "      <td id=\"T_a04d0_row3_col4\" class=\"data row3 col4\" >80,25</td>\n",
       "      <td id=\"T_a04d0_row3_col5\" class=\"data row3 col5\" >136,50</td>\n",
       "      <td id=\"T_a04d0_row3_col6\" class=\"data row3 col6\" >203,00</td>\n",
       "      <td id=\"T_a04d0_row3_col7\" class=\"data row3 col7\" >665</td>\n",
       "    </tr>\n",
       "    <tr>\n",
       "      <th id=\"T_a04d0_level0_row4\" class=\"row_heading level0 row4\" >Ne</th>\n",
       "      <td id=\"T_a04d0_row4_col0\" class=\"data row4 col0\" >42</td>\n",
       "      <td id=\"T_a04d0_row4_col1\" class=\"data row4 col1\" >194,24</td>\n",
       "      <td id=\"T_a04d0_row4_col2\" class=\"data row4 col2\" >290,86</td>\n",
       "      <td id=\"T_a04d0_row4_col3\" class=\"data row4 col3\" >31</td>\n",
       "      <td id=\"T_a04d0_row4_col4\" class=\"data row4 col4\" >71,50</td>\n",
       "      <td id=\"T_a04d0_row4_col5\" class=\"data row4 col5\" >115,00</td>\n",
       "      <td id=\"T_a04d0_row4_col6\" class=\"data row4 col6\" >182,00</td>\n",
       "      <td id=\"T_a04d0_row4_col7\" class=\"data row4 col7\" >1'492</td>\n",
       "    </tr>\n",
       "    <tr>\n",
       "      <th id=\"T_a04d0_level0_row5\" class=\"row_heading level0 row5\" >Nne</th>\n",
       "      <td id=\"T_a04d0_row5_col0\" class=\"data row5 col0\" >9</td>\n",
       "      <td id=\"T_a04d0_row5_col1\" class=\"data row5 col1\" >122,67</td>\n",
       "      <td id=\"T_a04d0_row5_col2\" class=\"data row5 col2\" >70,81</td>\n",
       "      <td id=\"T_a04d0_row5_col3\" class=\"data row5 col3\" >23</td>\n",
       "      <td id=\"T_a04d0_row5_col4\" class=\"data row5 col4\" >59,00</td>\n",
       "      <td id=\"T_a04d0_row5_col5\" class=\"data row5 col5\" >126,00</td>\n",
       "      <td id=\"T_a04d0_row5_col6\" class=\"data row5 col6\" >182,00</td>\n",
       "      <td id=\"T_a04d0_row5_col7\" class=\"data row5 col7\" >225</td>\n",
       "    </tr>\n",
       "    <tr>\n",
       "      <th id=\"T_a04d0_level0_row6\" class=\"row_heading level0 row6\" >Nno</th>\n",
       "      <td id=\"T_a04d0_row6_col0\" class=\"data row6 col0\" >10</td>\n",
       "      <td id=\"T_a04d0_row6_col1\" class=\"data row6 col1\" >133,90</td>\n",
       "      <td id=\"T_a04d0_row6_col2\" class=\"data row6 col2\" >89,98</td>\n",
       "      <td id=\"T_a04d0_row6_col3\" class=\"data row6 col3\" >38</td>\n",
       "      <td id=\"T_a04d0_row6_col4\" class=\"data row6 col4\" >71,25</td>\n",
       "      <td id=\"T_a04d0_row6_col5\" class=\"data row6 col5\" >116,00</td>\n",
       "      <td id=\"T_a04d0_row6_col6\" class=\"data row6 col6\" >182,75</td>\n",
       "      <td id=\"T_a04d0_row6_col7\" class=\"data row6 col7\" >334</td>\n",
       "    </tr>\n",
       "    <tr>\n",
       "      <th id=\"T_a04d0_level0_row7\" class=\"row_heading level0 row7\" >No</th>\n",
       "      <td id=\"T_a04d0_row7_col0\" class=\"data row7 col0\" >25</td>\n",
       "      <td id=\"T_a04d0_row7_col1\" class=\"data row7 col1\" >227,00</td>\n",
       "      <td id=\"T_a04d0_row7_col2\" class=\"data row7 col2\" >200,16</td>\n",
       "      <td id=\"T_a04d0_row7_col3\" class=\"data row7 col3\" >25</td>\n",
       "      <td id=\"T_a04d0_row7_col4\" class=\"data row7 col4\" >99,00</td>\n",
       "      <td id=\"T_a04d0_row7_col5\" class=\"data row7 col5\" >155,00</td>\n",
       "      <td id=\"T_a04d0_row7_col6\" class=\"data row7 col6\" >288,00</td>\n",
       "      <td id=\"T_a04d0_row7_col7\" class=\"data row7 col7\" >697</td>\n",
       "    </tr>\n",
       "    <tr>\n",
       "      <th id=\"T_a04d0_level0_row8\" class=\"row_heading level0 row8\" >O</th>\n",
       "      <td id=\"T_a04d0_row8_col0\" class=\"data row8 col0\" >7</td>\n",
       "      <td id=\"T_a04d0_row8_col1\" class=\"data row8 col1\" >212,43</td>\n",
       "      <td id=\"T_a04d0_row8_col2\" class=\"data row8 col2\" >344,64</td>\n",
       "      <td id=\"T_a04d0_row8_col3\" class=\"data row8 col3\" >0</td>\n",
       "      <td id=\"T_a04d0_row8_col4\" class=\"data row8 col4\" >47,00</td>\n",
       "      <td id=\"T_a04d0_row8_col5\" class=\"data row8 col5\" >59,00</td>\n",
       "      <td id=\"T_a04d0_row8_col6\" class=\"data row8 col6\" >181,50</td>\n",
       "      <td id=\"T_a04d0_row8_col7\" class=\"data row8 col7\" >971</td>\n",
       "    </tr>\n",
       "    <tr>\n",
       "      <th id=\"T_a04d0_level0_row9\" class=\"row_heading level0 row9\" >Ono</th>\n",
       "      <td id=\"T_a04d0_row9_col0\" class=\"data row9 col0\" >6</td>\n",
       "      <td id=\"T_a04d0_row9_col1\" class=\"data row9 col1\" >120,67</td>\n",
       "      <td id=\"T_a04d0_row9_col2\" class=\"data row9 col2\" >74,00</td>\n",
       "      <td id=\"T_a04d0_row9_col3\" class=\"data row9 col3\" >44</td>\n",
       "      <td id=\"T_a04d0_row9_col4\" class=\"data row9 col4\" >83,25</td>\n",
       "      <td id=\"T_a04d0_row9_col5\" class=\"data row9 col5\" >98,00</td>\n",
       "      <td id=\"T_a04d0_row9_col6\" class=\"data row9 col6\" >137,50</td>\n",
       "      <td id=\"T_a04d0_row9_col7\" class=\"data row9 col7\" >255</td>\n",
       "    </tr>\n",
       "    <tr>\n",
       "      <th id=\"T_a04d0_level0_row10\" class=\"row_heading level0 row10\" >Oso</th>\n",
       "      <td id=\"T_a04d0_row10_col0\" class=\"data row10 col0\" >16</td>\n",
       "      <td id=\"T_a04d0_row10_col1\" class=\"data row10 col1\" >147,44</td>\n",
       "      <td id=\"T_a04d0_row10_col2\" class=\"data row10 col2\" >117,82</td>\n",
       "      <td id=\"T_a04d0_row10_col3\" class=\"data row10 col3\" >26</td>\n",
       "      <td id=\"T_a04d0_row10_col4\" class=\"data row10 col4\" >64,75</td>\n",
       "      <td id=\"T_a04d0_row10_col5\" class=\"data row10 col5\" >87,00</td>\n",
       "      <td id=\"T_a04d0_row10_col6\" class=\"data row10 col6\" >212,00</td>\n",
       "      <td id=\"T_a04d0_row10_col7\" class=\"data row10 col7\" >461</td>\n",
       "    </tr>\n",
       "    <tr>\n",
       "      <th id=\"T_a04d0_level0_row11\" class=\"row_heading level0 row11\" >S</th>\n",
       "      <td id=\"T_a04d0_row11_col0\" class=\"data row11 col0\" >16</td>\n",
       "      <td id=\"T_a04d0_row11_col1\" class=\"data row11 col1\" >299,62</td>\n",
       "      <td id=\"T_a04d0_row11_col2\" class=\"data row11 col2\" >720,39</td>\n",
       "      <td id=\"T_a04d0_row11_col3\" class=\"data row11 col3\" >0</td>\n",
       "      <td id=\"T_a04d0_row11_col4\" class=\"data row11 col4\" >81,25</td>\n",
       "      <td id=\"T_a04d0_row11_col5\" class=\"data row11 col5\" >127,50</td>\n",
       "      <td id=\"T_a04d0_row11_col6\" class=\"data row11 col6\" >179,75</td>\n",
       "      <td id=\"T_a04d0_row11_col7\" class=\"data row11 col7\" >2'991</td>\n",
       "    </tr>\n",
       "    <tr>\n",
       "      <th id=\"T_a04d0_level0_row12\" class=\"row_heading level0 row12\" >Se</th>\n",
       "      <td id=\"T_a04d0_row12_col0\" class=\"data row12 col0\" >7</td>\n",
       "      <td id=\"T_a04d0_row12_col1\" class=\"data row12 col1\" >127,86</td>\n",
       "      <td id=\"T_a04d0_row12_col2\" class=\"data row12 col2\" >140,63</td>\n",
       "      <td id=\"T_a04d0_row12_col3\" class=\"data row12 col3\" >41</td>\n",
       "      <td id=\"T_a04d0_row12_col4\" class=\"data row12 col4\" >56,00</td>\n",
       "      <td id=\"T_a04d0_row12_col5\" class=\"data row12 col5\" >69,00</td>\n",
       "      <td id=\"T_a04d0_row12_col6\" class=\"data row12 col6\" >120,50</td>\n",
       "      <td id=\"T_a04d0_row12_col7\" class=\"data row12 col7\" >432</td>\n",
       "    </tr>\n",
       "    <tr>\n",
       "      <th id=\"T_a04d0_level0_row13\" class=\"row_heading level0 row13\" >So</th>\n",
       "      <td id=\"T_a04d0_row13_col0\" class=\"data row13 col0\" >34</td>\n",
       "      <td id=\"T_a04d0_row13_col1\" class=\"data row13 col1\" >184,97</td>\n",
       "      <td id=\"T_a04d0_row13_col2\" class=\"data row13 col2\" >158,63</td>\n",
       "      <td id=\"T_a04d0_row13_col3\" class=\"data row13 col3\" >0</td>\n",
       "      <td id=\"T_a04d0_row13_col4\" class=\"data row13 col4\" >101,00</td>\n",
       "      <td id=\"T_a04d0_row13_col5\" class=\"data row13 col5\" >149,50</td>\n",
       "      <td id=\"T_a04d0_row13_col6\" class=\"data row13 col6\" >234,00</td>\n",
       "      <td id=\"T_a04d0_row13_col7\" class=\"data row13 col7\" >884</td>\n",
       "    </tr>\n",
       "    <tr>\n",
       "      <th id=\"T_a04d0_level0_row14\" class=\"row_heading level0 row14\" >Sse</th>\n",
       "      <td id=\"T_a04d0_row14_col0\" class=\"data row14 col0\" >11</td>\n",
       "      <td id=\"T_a04d0_row14_col1\" class=\"data row14 col1\" >151,18</td>\n",
       "      <td id=\"T_a04d0_row14_col2\" class=\"data row14 col2\" >170,60</td>\n",
       "      <td id=\"T_a04d0_row14_col3\" class=\"data row14 col3\" >19</td>\n",
       "      <td id=\"T_a04d0_row14_col4\" class=\"data row14 col4\" >59,00</td>\n",
       "      <td id=\"T_a04d0_row14_col5\" class=\"data row14 col5\" >95,00</td>\n",
       "      <td id=\"T_a04d0_row14_col6\" class=\"data row14 col6\" >128,00</td>\n",
       "      <td id=\"T_a04d0_row14_col7\" class=\"data row14 col7\" >559</td>\n",
       "    </tr>\n",
       "    <tr>\n",
       "      <th id=\"T_a04d0_level0_row15\" class=\"row_heading level0 row15\" >Sso</th>\n",
       "      <td id=\"T_a04d0_row15_col0\" class=\"data row15 col0\" >13</td>\n",
       "      <td id=\"T_a04d0_row15_col1\" class=\"data row15 col1\" >116,31</td>\n",
       "      <td id=\"T_a04d0_row15_col2\" class=\"data row15 col2\" >90,44</td>\n",
       "      <td id=\"T_a04d0_row15_col3\" class=\"data row15 col3\" >27</td>\n",
       "      <td id=\"T_a04d0_row15_col4\" class=\"data row15 col4\" >52,00</td>\n",
       "      <td id=\"T_a04d0_row15_col5\" class=\"data row15 col5\" >89,00</td>\n",
       "      <td id=\"T_a04d0_row15_col6\" class=\"data row15 col6\" >162,00</td>\n",
       "      <td id=\"T_a04d0_row15_col7\" class=\"data row15 col7\" >355</td>\n",
       "    </tr>\n",
       "  </tbody>\n",
       "</table>\n"
      ],
      "text/plain": [
       "<pandas.io.formats.style.Styler at 0x7f8b61ed10a0>"
      ]
     },
     "metadata": {
      "scrapbook": {
       "mime_prefix": "",
       "name": "tablea26"
      }
     },
     "output_type": "display_data"
    }
   ],
   "source": [
    "# ananlysis of substrat\n",
    "voi = \"orientation\"\n",
    "vals = \"compte\"\n",
    "groupby = ['echantillon', voi]\n",
    "\n",
    "data = work_data.groupby(groupby, as_index=False)[vals].sum()\n",
    "# data[voi] = data[voi].apply(lambda x: situation_name[x])\n",
    "\n",
    "data_summary = data.groupby(voi, as_index=False)[vals].describe()\n",
    "data_summary[['count', 'max', 'min']] = data_summary[['count', 'max', 'min']].astype('int')\n",
    "data_summary.rename(columns=column_display, inplace=True)\n",
    "data_summary.set_index(\"orientation\", inplace=True, drop=True)\n",
    "data_summary.index.name = None\n",
    "\n",
    "select_values = data_summary[\"moyenne\"] > 180\n",
    "test_one = data_summary.loc[select_values].index\n",
    "\n",
    "select_values = data_summary[\"50%\"] > 121\n",
    "test_two = data_summary.loc[select_values].index\n",
    "\n",
    "d_sum = data_summary.style.set_table_styles(table_css_styles).format(precision=2)\n",
    "d_sum = d_sum.set_properties(subset = pd.IndexSlice[test_one,[\"moyenne\"]], **a_property)\n",
    "\n",
    "oriented = d_sum.set_properties(subset = pd.IndexSlice[test_two,[\"50%\"]], **a_property)\n",
    "\n",
    "caption = 'Le résumé des résultats du nombre de particules trouvées selon l\\'orientation de la plage.'\n",
    "table_no += 1\n",
    "\n",
    "table_five = add_table_to_page(oriented, table_no, caption, section, page, rule)\n",
    "glue('tablea26', table_five, display=True)"
   ]
  },
  {
   "cell_type": "code",
   "execution_count": 21,
   "id": "e50a7c8a-1316-4170-88c2-d70d1f64c3ef",
   "metadata": {
    "tags": [
     "remove-input"
    ]
   },
   "outputs": [
    {
     "name": "stdout",
     "output_type": "stream",
     "text": [
      "Git repo: https://github.com/hammerdirt-analyst/plastock.git\n",
      "\n",
      "Git branch: main\n",
      "\n",
      "numpy     : 1.24.2\n",
      "matplotlib: 3.7.1\n",
      "seaborn   : 0.12.2\n",
      "pandas    : 2.0.0\n",
      "\n"
     ]
    }
   ],
   "source": [
    "%watermark --iversions -b -r"
   ]
  },
  {
   "cell_type": "code",
   "execution_count": null,
   "id": "fba80e4d-6655-47b7-91fd-6276e80722b3",
   "metadata": {},
   "outputs": [],
   "source": []
  }
 ],
 "metadata": {
  "kernelspec": {
   "display_name": "Python 3 (ipykernel)",
   "language": "python",
   "name": "python3"
  },
  "language_info": {
   "codemirror_mode": {
    "name": "ipython",
    "version": 3
   },
   "file_extension": ".py",
   "mimetype": "text/x-python",
   "name": "python",
   "nbconvert_exporter": "python",
   "pygments_lexer": "ipython3",
   "version": "3.9.16"
  }
 },
 "nbformat": 4,
 "nbformat_minor": 5
}