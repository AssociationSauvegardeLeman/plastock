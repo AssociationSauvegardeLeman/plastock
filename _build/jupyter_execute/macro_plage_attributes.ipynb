{
 "cells": [
  {
   "cell_type": "code",
   "execution_count": 1,
   "id": "32bcdb7d-96d5-47f5-a77a-139bafcc6a7d",
   "metadata": {
    "editable": true,
    "slideshow": {
     "slide_type": ""
    },
    "tags": [
     "hide-input"
    ]
   },
   "outputs": [],
   "source": [
    "%load_ext watermark\n",
    "import pandas as pd\n",
    "from myst_nb import glue\n",
    "from IPython.display import Markdown as md\n",
    "\n",
    "from plastockconf import  name_frequentation, name_situation\n",
    "from plastockconf import  name_substrate, name_distance, table_css_styles_top\n",
    "\n",
    "from plastock import attribute_summary, attribute_summary_test, attribute_summary_grid, add_table_to_page\n",
    "\n",
    "\n",
    "glue('blank_caption', \" \", display=False)\n",
    "a_property =  {'color' : 'red'}\n",
    "page = 8\n",
    "table_no = 1\n",
    "\n",
    "# new_data = pd.read_csv(\"data/end_pipe/macro_current.csv\")\n",
    "beach_data = pd.read_csv(\"data/end_pipe/asl_beaches.csv\").set_index('Plage')\n",
    "work_data = pd.read_csv('data/end_pipe/macro_data_msquared.csv')\n",
    "work_data = work_data[['Plage', 'échantillon', 'area', 'date','code','quantité','substrat', 'pcs/m²', 'region']].merge(beach_data[[\"frequentation\", \"situation\", \"distance\", \"orientation\"]], left_on = \"Plage\", right_index=True)\n",
    "work_data[\"fréquentation\"] = work_data['frequentation']\n",
    "work_data.drop('frequentation', inplace=True, axis=1)# ne"
   ]
  },
  {
   "cell_type": "markdown",
   "id": "f5c4038a-38ed-411c-a014-cb07f729d140",
   "metadata": {},
   "source": [
    "(macro-attributes)=\n",
    "# Annexe VIII: Macroplastiques par variables explicatives\n"
   ]
  },
  {
   "cell_type": "markdown",
   "id": "2fd29516-479d-47ef-b46a-6bcc0d8f1347",
   "metadata": {},
   "source": [
    "## Substrat\n",
    "\n",
    "La moyenne et la médiane sur les plages de sables fins est légèrement supérieure à celles des autres substrats. Pour autant, les fortes variations font que la différence n'est pas significative."
   ]
  },
  {
   "cell_type": "code",
   "execution_count": 2,
   "id": "81a64f60-800d-45a0-bfef-629eb599928a",
   "metadata": {
    "editable": true,
    "slideshow": {
     "slide_type": ""
    },
    "tags": [
     "remove-input"
    ]
   },
   "outputs": [
    {
     "data": {
      "text/html": [
       "<style type=\"text/css\">\n",
       "#T_58edc tr:nth-child(even) {\n",
       "  background-color: rgba(139, 69, 19, 0.08);\n",
       "}\n",
       "#T_58edc tr:nth-child(odd) {\n",
       "  background: #FFF;\n",
       "}\n",
       "#T_58edc tr {\n",
       "  font-size: 14px;\n",
       "  padding: 6px;\n",
       "}\n",
       "#T_58edc td {\n",
       "  padding: 4px;\n",
       "  text-align: center;\n",
       "}\n",
       "#T_58edc th:nth-child(1) {\n",
       "  background-color: #FFF;\n",
       "  white-space: nowrap;\n",
       "  word-break: keep-all;\n",
       "}\n",
       "#T_58edc caption {\n",
       "  caption-side: top;\n",
       "  font-size: 12px;\n",
       "  text-align: left;\n",
       "  margin-top: 12px;\n",
       "}\n",
       "</style>\n",
       "<table id=\"T_58edc\">\n",
       "  <caption><b>Tableau A8-1 :</b> Abondance de macroplastiques trouvés par m² dans chaque échantillon pour chaque substrat. Les attributs dont la moyenne des résultats est supérieure à la moyenne du projet sont en rouge.</caption>\n",
       "  <thead>\n",
       "    <tr>\n",
       "      <th class=\"blank level0\" >&nbsp;</th>\n",
       "      <th id=\"T_58edc_level0_col0\" class=\"col_heading level0 col0\" >Échantillons</th>\n",
       "      <th id=\"T_58edc_level0_col1\" class=\"col_heading level0 col1\" >Moyenne</th>\n",
       "      <th id=\"T_58edc_level0_col2\" class=\"col_heading level0 col2\" >Écart type</th>\n",
       "      <th id=\"T_58edc_level0_col3\" class=\"col_heading level0 col3\" >Min</th>\n",
       "      <th id=\"T_58edc_level0_col4\" class=\"col_heading level0 col4\" >25%</th>\n",
       "      <th id=\"T_58edc_level0_col5\" class=\"col_heading level0 col5\" >50%</th>\n",
       "      <th id=\"T_58edc_level0_col6\" class=\"col_heading level0 col6\" >75%</th>\n",
       "      <th id=\"T_58edc_level0_col7\" class=\"col_heading level0 col7\" >Max</th>\n",
       "    </tr>\n",
       "  </thead>\n",
       "  <tbody>\n",
       "    <tr>\n",
       "      <th id=\"T_58edc_level0_row0\" class=\"row_heading level0 row0\" >Sables fins</th>\n",
       "      <td id=\"T_58edc_row0_col0\" class=\"data row0 col0\" >27</td>\n",
       "      <td id=\"T_58edc_row0_col1\" class=\"data row0 col1\" >1,04</td>\n",
       "      <td id=\"T_58edc_row0_col2\" class=\"data row0 col2\" >0,86</td>\n",
       "      <td id=\"T_58edc_row0_col3\" class=\"data row0 col3\" >0</td>\n",
       "      <td id=\"T_58edc_row0_col4\" class=\"data row0 col4\" >0,51</td>\n",
       "      <td id=\"T_58edc_row0_col5\" class=\"data row0 col5\" >0,70</td>\n",
       "      <td id=\"T_58edc_row0_col6\" class=\"data row0 col6\" >1,32</td>\n",
       "      <td id=\"T_58edc_row0_col7\" class=\"data row0 col7\" >3</td>\n",
       "    </tr>\n",
       "    <tr>\n",
       "      <th id=\"T_58edc_level0_row1\" class=\"row_heading level0 row1\" >Sables grossiers</th>\n",
       "      <td id=\"T_58edc_row1_col0\" class=\"data row1 col0\" >31</td>\n",
       "      <td id=\"T_58edc_row1_col1\" class=\"data row1 col1\" >0,52</td>\n",
       "      <td id=\"T_58edc_row1_col2\" class=\"data row1 col2\" >0,46</td>\n",
       "      <td id=\"T_58edc_row1_col3\" class=\"data row1 col3\" >0</td>\n",
       "      <td id=\"T_58edc_row1_col4\" class=\"data row1 col4\" >0,23</td>\n",
       "      <td id=\"T_58edc_row1_col5\" class=\"data row1 col5\" >0,41</td>\n",
       "      <td id=\"T_58edc_row1_col6\" class=\"data row1 col6\" >0,59</td>\n",
       "      <td id=\"T_58edc_row1_col7\" class=\"data row1 col7\" >1</td>\n",
       "    </tr>\n",
       "    <tr>\n",
       "      <th id=\"T_58edc_level0_row2\" class=\"row_heading level0 row2\" >Graviers</th>\n",
       "      <td id=\"T_58edc_row2_col0\" class=\"data row2 col0\" >16</td>\n",
       "      <td id=\"T_58edc_row2_col1\" class=\"data row2 col1\" >0,31</td>\n",
       "      <td id=\"T_58edc_row2_col2\" class=\"data row2 col2\" >0,36</td>\n",
       "      <td id=\"T_58edc_row2_col3\" class=\"data row2 col3\" >0</td>\n",
       "      <td id=\"T_58edc_row2_col4\" class=\"data row2 col4\" >0,10</td>\n",
       "      <td id=\"T_58edc_row2_col5\" class=\"data row2 col5\" >0,20</td>\n",
       "      <td id=\"T_58edc_row2_col6\" class=\"data row2 col6\" >0,29</td>\n",
       "      <td id=\"T_58edc_row2_col7\" class=\"data row2 col7\" >1</td>\n",
       "    </tr>\n",
       "    <tr>\n",
       "      <th id=\"T_58edc_level0_row3\" class=\"row_heading level0 row3\" >Cailloux</th>\n",
       "      <td id=\"T_58edc_row3_col0\" class=\"data row3 col0\" >24</td>\n",
       "      <td id=\"T_58edc_row3_col1\" class=\"data row3 col1\" >0,65</td>\n",
       "      <td id=\"T_58edc_row3_col2\" class=\"data row3 col2\" >0,62</td>\n",
       "      <td id=\"T_58edc_row3_col3\" class=\"data row3 col3\" >0</td>\n",
       "      <td id=\"T_58edc_row3_col4\" class=\"data row3 col4\" >0,13</td>\n",
       "      <td id=\"T_58edc_row3_col5\" class=\"data row3 col5\" >0,43</td>\n",
       "      <td id=\"T_58edc_row3_col6\" class=\"data row3 col6\" >1,13</td>\n",
       "      <td id=\"T_58edc_row3_col7\" class=\"data row3 col7\" >1</td>\n",
       "    </tr>\n",
       "  </tbody>\n",
       "</table>\n"
      ],
      "text/plain": [
       "<pandas.io.formats.style.Styler at 0x203390abac0>"
      ]
     },
     "metadata": {
      "scrapbook": {
       "mime_prefix": "",
       "name": "tablea41"
      }
     },
     "output_type": "display_data"
    }
   ],
   "source": [
    "column_display = {\n",
    "    \"count\":\"échantillons\",\n",
    "    \"mean\": \"moyenne\",\n",
    "    \"std\": \"écart type\",\n",
    "    \"échantillon\":\"échantillon\"\n",
    "    \n",
    "}\n",
    "\n",
    "# ananlysis of substrat\n",
    "voi = \"substrat\"\n",
    "vals = \"pcs/m²\"\n",
    "groupbys = ['échantillon', voi]\n",
    "labels = name_substrate\n",
    "\n",
    "event_total = work_data.groupby([\"échantillon\", voi], as_index=False)[vals].sum()\n",
    "\n",
    "substrat_summary = attribute_summary(event_total, vals, voi, columns=column_display, labels=name_substrate)\n",
    "substrat_summary.data = substrat_summary.data.reindex([\"Sables fins\", \"Sables grossiers\", \"Graviers\", \"Cailloux\"])\n",
    "\n",
    "# event_total['échantillon'] = event_total[\"échantillon\"].astype(str)\n",
    "\n",
    "caption = 'Abondance de macroplastiques trouvés par m² dans chaque échantillon pour chaque substrat.'\n",
    "section = 'A'\n",
    "rule = 'Les attributs dont la moyenne des résultats est supérieure à la moyenne du projet sont en rouge.'\n",
    "\n",
    "table_one = add_table_to_page(substrat_summary, table_no, caption, section, page, rule)\n",
    "glue('tablea41', table_one, display=True)"
   ]
  },
  {
   "cell_type": "code",
   "execution_count": 3,
   "id": "06757855-56b9-44d0-a279-767650bf6c6d",
   "metadata": {
    "editable": true,
    "slideshow": {
     "slide_type": ""
    },
    "tags": [
     "remove-input"
    ]
   },
   "outputs": [],
   "source": [
    "hue_order = list(name_substrate.values())\n",
    "attribute_summary_grid(event_total, vals, voi, 'fig-a41', labels=labels, xlim=5, ylim=5,object_column='pcs/m²', hue_order=hue_order)"
   ]
  },
  {
   "cell_type": "markdown",
   "id": "b8ce7fa5-b568-4b8a-ba4c-13c021001a44",
   "metadata": {},
   "source": [
    "```{glue:figure} fig-a41\n",
    "---\n",
    "name: fig-a41\n",
    "---\n",
    "{glue:text}`blank_caption` \n",
    "```"
   ]
  },
  {
   "cell_type": "markdown",
   "id": "2198abcc-75aa-4417-80eb-db405fd5de01",
   "metadata": {},
   "source": [
    "__Les plages substrat = sables fins__"
   ]
  },
  {
   "cell_type": "code",
   "execution_count": 4,
   "id": "45825003-edf4-4d6e-a0ff-ef6e213916e9",
   "metadata": {
    "tags": [
     "remove-input"
    ]
   },
   "outputs": [
    {
     "data": {
      "text/markdown": [
       "Baby Plage, Bouveret, Excenevex, Grangettes, Préverenges, Rolle, Vidy"
      ],
      "text/plain": [
       "<IPython.core.display.Markdown object>"
      ]
     },
     "execution_count": 4,
     "metadata": {},
     "output_type": "execute_result"
    }
   ],
   "source": [
    "md(', '.join(work_data[work_data.substrat.isin([1])].Plage.unique()))"
   ]
  },
  {
   "cell_type": "markdown",
   "id": "ab70b0d4-832c-4a18-a142-efc9eaf2de9a",
   "metadata": {},
   "source": [
    "## Fréquentation\n",
    "\n",
    "Une faible fréquentation de la plage semble influencer vers le bas l'abondance de macroplastiques. Ceci tend à montrer que la fréquentation sur site impacte le nombre de plastiques retrouvés."
   ]
  },
  {
   "cell_type": "code",
   "execution_count": 5,
   "id": "8be79f37-8f8e-48ca-b09b-055dc342a074",
   "metadata": {
    "tags": [
     "remove-input"
    ]
   },
   "outputs": [
    {
     "data": {
      "text/html": [
       "<style type=\"text/css\">\n",
       "#T_92d6a tr:nth-child(even) {\n",
       "  background-color: rgba(139, 69, 19, 0.08);\n",
       "}\n",
       "#T_92d6a tr:nth-child(odd) {\n",
       "  background: #FFF;\n",
       "}\n",
       "#T_92d6a tr {\n",
       "  font-size: 14px;\n",
       "  padding: 6px;\n",
       "}\n",
       "#T_92d6a td {\n",
       "  padding: 4px;\n",
       "  text-align: center;\n",
       "}\n",
       "#T_92d6a th:nth-child(1) {\n",
       "  background-color: #FFF;\n",
       "  white-space: nowrap;\n",
       "  word-break: keep-all;\n",
       "}\n",
       "#T_92d6a caption {\n",
       "  caption-side: top;\n",
       "  font-size: 12px;\n",
       "  text-align: left;\n",
       "  margin-top: 12px;\n",
       "}\n",
       "</style>\n",
       "<table id=\"T_92d6a\">\n",
       "  <caption><b>Tableau A8-2 :</b> Abondance des macroplastiques trouvés par m² dans chaque échantillon pour chaque niveau de fréquentation. Les attributs dont la moyenne des résultats est supérieure à la moyenne du projet sont en rouge.</caption>\n",
       "  <thead>\n",
       "    <tr>\n",
       "      <th class=\"blank level0\" >&nbsp;</th>\n",
       "      <th id=\"T_92d6a_level0_col0\" class=\"col_heading level0 col0\" >Échantillons</th>\n",
       "      <th id=\"T_92d6a_level0_col1\" class=\"col_heading level0 col1\" >Moyenne</th>\n",
       "      <th id=\"T_92d6a_level0_col2\" class=\"col_heading level0 col2\" >Écart type</th>\n",
       "      <th id=\"T_92d6a_level0_col3\" class=\"col_heading level0 col3\" >Min</th>\n",
       "      <th id=\"T_92d6a_level0_col4\" class=\"col_heading level0 col4\" >25%</th>\n",
       "      <th id=\"T_92d6a_level0_col5\" class=\"col_heading level0 col5\" >50%</th>\n",
       "      <th id=\"T_92d6a_level0_col6\" class=\"col_heading level0 col6\" >75%</th>\n",
       "      <th id=\"T_92d6a_level0_col7\" class=\"col_heading level0 col7\" >Max</th>\n",
       "    </tr>\n",
       "  </thead>\n",
       "  <tbody>\n",
       "    <tr>\n",
       "      <th id=\"T_92d6a_level0_row0\" class=\"row_heading level0 row0\" >Faible</th>\n",
       "      <td id=\"T_92d6a_row0_col0\" class=\"data row0 col0\" >15</td>\n",
       "      <td id=\"T_92d6a_row0_col1\" class=\"data row0 col1\" >0,27</td>\n",
       "      <td id=\"T_92d6a_row0_col2\" class=\"data row0 col2\" >0,18</td>\n",
       "      <td id=\"T_92d6a_row0_col3\" class=\"data row0 col3\" >0</td>\n",
       "      <td id=\"T_92d6a_row0_col4\" class=\"data row0 col4\" >0,13</td>\n",
       "      <td id=\"T_92d6a_row0_col5\" class=\"data row0 col5\" >0,26</td>\n",
       "      <td id=\"T_92d6a_row0_col6\" class=\"data row0 col6\" >0,34</td>\n",
       "      <td id=\"T_92d6a_row0_col7\" class=\"data row0 col7\" >0</td>\n",
       "    </tr>\n",
       "    <tr>\n",
       "      <th id=\"T_92d6a_level0_row1\" class=\"row_heading level0 row1\" >Moyenne</th>\n",
       "      <td id=\"T_92d6a_row1_col0\" class=\"data row1 col0\" >28</td>\n",
       "      <td id=\"T_92d6a_row1_col1\" class=\"data row1 col1\" >0,89</td>\n",
       "      <td id=\"T_92d6a_row1_col2\" class=\"data row1 col2\" >0,95</td>\n",
       "      <td id=\"T_92d6a_row1_col3\" class=\"data row1 col3\" >0</td>\n",
       "      <td id=\"T_92d6a_row1_col4\" class=\"data row1 col4\" >0,13</td>\n",
       "      <td id=\"T_92d6a_row1_col5\" class=\"data row1 col5\" >0,53</td>\n",
       "      <td id=\"T_92d6a_row1_col6\" class=\"data row1 col6\" >1,39</td>\n",
       "      <td id=\"T_92d6a_row1_col7\" class=\"data row1 col7\" >3</td>\n",
       "    </tr>\n",
       "    <tr>\n",
       "      <th id=\"T_92d6a_level0_row2\" class=\"row_heading level0 row2\" >Elevée</th>\n",
       "      <td id=\"T_92d6a_row2_col0\" class=\"data row2 col0\" >55</td>\n",
       "      <td id=\"T_92d6a_row2_col1\" class=\"data row2 col1\" >0,65</td>\n",
       "      <td id=\"T_92d6a_row2_col2\" class=\"data row2 col2\" >0,51</td>\n",
       "      <td id=\"T_92d6a_row2_col3\" class=\"data row2 col3\" >0</td>\n",
       "      <td id=\"T_92d6a_row2_col4\" class=\"data row2 col4\" >0,28</td>\n",
       "      <td id=\"T_92d6a_row2_col5\" class=\"data row2 col5\" >0,52</td>\n",
       "      <td id=\"T_92d6a_row2_col6\" class=\"data row2 col6\" >0,84</td>\n",
       "      <td id=\"T_92d6a_row2_col7\" class=\"data row2 col7\" >2</td>\n",
       "    </tr>\n",
       "  </tbody>\n",
       "</table>\n"
      ],
      "text/plain": [
       "<pandas.io.formats.style.Styler at 0x2034050a850>"
      ]
     },
     "metadata": {
      "scrapbook": {
       "mime_prefix": "",
       "name": "tablea42"
      }
     },
     "output_type": "display_data"
    }
   ],
   "source": [
    "# ananlysis of fréquentation\n",
    "voi = \"fréquentation\"\n",
    "vals = \"pcs/m²\"\n",
    "groupbys = ['échantillon', voi]\n",
    "labels = name_frequentation\n",
    "\n",
    "event_total = work_data.groupby([\"échantillon\", \"date\", voi], as_index=False)[vals].sum()\n",
    "table_no += 1\n",
    "caption = 'Abondance des macroplastiques trouvés par m² dans chaque échantillon pour chaque niveau de fréquentation.'\n",
    "event_total['échantillon'] = event_total[\"échantillon\"].astype(str)\n",
    "\n",
    "freq = attribute_summary(event_total, vals, voi, columns=column_display, labels=labels)\n",
    "\n",
    "freq.data = freq.data.reindex([\"Faible\", \"Moyenne\", \"Elevée\"])\n",
    "table_two = add_table_to_page(freq, table_no, caption, section, page, rule)\n",
    "glue('tablea42', table_two, display=True)"
   ]
  },
  {
   "cell_type": "code",
   "execution_count": 6,
   "id": "5c055bd7-e95e-4446-997c-b9f2ef097558",
   "metadata": {
    "tags": [
     "remove-input"
    ]
   },
   "outputs": [],
   "source": [
    "attribute_summary_grid(event_total, vals, voi, 'fig-a42', labels=labels, xlim=5, ylim=5, object_column='pcs/m²')"
   ]
  },
  {
   "cell_type": "markdown",
   "id": "f042625b-bafb-42ff-9b0e-e88da12db57c",
   "metadata": {},
   "source": [
    "```{glue:figure} fig-a42\n",
    "---\n",
    "name: fig-a42\n",
    "---\n",
    "{glue:text}`blank_caption` \n",
    "```"
   ]
  },
  {
   "cell_type": "markdown",
   "id": "2d91d4f7-3e20-482d-8086-cdabd1e2e5c9",
   "metadata": {
    "tags": []
   },
   "source": [
    "(freq_plages)=\n",
    "__Les plages fréquentation = moyenne__"
   ]
  },
  {
   "cell_type": "code",
   "execution_count": 7,
   "id": "947db345-8bdb-4a1e-84e7-cf6b2fdfd56c",
   "metadata": {
    "tags": [
     "remove-input"
    ]
   },
   "outputs": [
    {
     "data": {
      "text/markdown": [
       "Anthy, Aubonne, Gland, Grangettes, Lugrin, Pichette, Saint-Disdille"
      ],
      "text/plain": [
       "<IPython.core.display.Markdown object>"
      ]
     },
     "execution_count": 7,
     "metadata": {},
     "output_type": "execute_result"
    }
   ],
   "source": [
    "md(', '.join(work_data[work_data['fréquentation'].isin([2])].Plage.unique()))"
   ]
  },
  {
   "cell_type": "markdown",
   "id": "25cfe243-315a-43f8-8e7d-2d4ade298b1f",
   "metadata": {
    "tags": []
   },
   "source": [
    "__Les plages fréquentation = élevée__"
   ]
  },
  {
   "cell_type": "code",
   "execution_count": 8,
   "id": "0274da9c-0c70-4dd0-99b5-2d8cd708b8b9",
   "metadata": {
    "tags": [
     "remove-input"
    ]
   },
   "outputs": [
    {
     "data": {
      "text/markdown": [
       "Amphion, Baby Plage, Bouveret, Clarens, Excenevex, Hermance, Lutry, Port Choiseul, Préverenges, Rolle, Savonnière, Tougues, Versoix, Vidy"
      ],
      "text/plain": [
       "<IPython.core.display.Markdown object>"
      ]
     },
     "execution_count": 8,
     "metadata": {},
     "output_type": "execute_result"
    }
   ],
   "source": [
    "md(', '.join(work_data[work_data['fréquentation'].isin([3])].Plage.unique()))"
   ]
  },
  {
   "cell_type": "markdown",
   "id": "87ff7f34-ee8a-4301-81bb-49cfc1b6acc6",
   "metadata": {},
   "source": [
    "## Situation\n",
    "\n",
    "Pour l'analyse de l'influence de la situation de la plage, il est intéressant de comparer les moyennes et les médianes. D'un point de vue de la médiane, l'abondance en macroplastique est plus importante dans un contexte urbain. Pour autant, la moyenne plus élevée pour les plages de campagne montre que l'abondance sur certaines peut être très élevée. Dans le cas présent, les plages des Grangettes et du Bouveret représentent les extrèmes supérieurs pour les plages de campagnes."
   ]
  },
  {
   "cell_type": "code",
   "execution_count": 9,
   "id": "c3f4e1ff-4b7d-48ee-b01a-23b19b6fac30",
   "metadata": {
    "tags": [
     "remove-input"
    ]
   },
   "outputs": [
    {
     "data": {
      "text/html": [
       "<style type=\"text/css\">\n",
       "#T_b348a tr:nth-child(even) {\n",
       "  background-color: rgba(139, 69, 19, 0.08);\n",
       "}\n",
       "#T_b348a tr:nth-child(odd) {\n",
       "  background: #FFF;\n",
       "}\n",
       "#T_b348a tr {\n",
       "  font-size: 14px;\n",
       "  padding: 6px;\n",
       "}\n",
       "#T_b348a td {\n",
       "  padding: 4px;\n",
       "  text-align: center;\n",
       "}\n",
       "#T_b348a th:nth-child(1) {\n",
       "  background-color: #FFF;\n",
       "  white-space: nowrap;\n",
       "  word-break: keep-all;\n",
       "}\n",
       "#T_b348a caption {\n",
       "  caption-side: top;\n",
       "  font-size: 12px;\n",
       "  text-align: left;\n",
       "  margin-top: 12px;\n",
       "}\n",
       "</style>\n",
       "<table id=\"T_b348a\">\n",
       "  <caption><b>Tableau A8-3 :</b> Abondance des macroplastiques trouvés par m²dans chaque échantillon pour chaque situation: urbain, campagne. Les attributs dont la moyenne des résultats est supérieure à la moyenne du projet sont en rouge.</caption>\n",
       "  <thead>\n",
       "    <tr>\n",
       "      <th class=\"blank level0\" >&nbsp;</th>\n",
       "      <th id=\"T_b348a_level0_col0\" class=\"col_heading level0 col0\" >Échantillons</th>\n",
       "      <th id=\"T_b348a_level0_col1\" class=\"col_heading level0 col1\" >Moyenne</th>\n",
       "      <th id=\"T_b348a_level0_col2\" class=\"col_heading level0 col2\" >Écart type</th>\n",
       "      <th id=\"T_b348a_level0_col3\" class=\"col_heading level0 col3\" >Min</th>\n",
       "      <th id=\"T_b348a_level0_col4\" class=\"col_heading level0 col4\" >25%</th>\n",
       "      <th id=\"T_b348a_level0_col5\" class=\"col_heading level0 col5\" >50%</th>\n",
       "      <th id=\"T_b348a_level0_col6\" class=\"col_heading level0 col6\" >75%</th>\n",
       "      <th id=\"T_b348a_level0_col7\" class=\"col_heading level0 col7\" >Max</th>\n",
       "    </tr>\n",
       "  </thead>\n",
       "  <tbody>\n",
       "    <tr>\n",
       "      <th id=\"T_b348a_level0_row0\" class=\"row_heading level0 row0\" >Campagne</th>\n",
       "      <td id=\"T_b348a_row0_col0\" class=\"data row0 col0\" >67</td>\n",
       "      <td id=\"T_b348a_row0_col1\" class=\"data row0 col1\" >0,71</td>\n",
       "      <td id=\"T_b348a_row0_col2\" class=\"data row0 col2\" >0,75</td>\n",
       "      <td id=\"T_b348a_row0_col3\" class=\"data row0 col3\" >0</td>\n",
       "      <td id=\"T_b348a_row0_col4\" class=\"data row0 col4\" >0,15</td>\n",
       "      <td id=\"T_b348a_row0_col5\" class=\"data row0 col5\" >0,40</td>\n",
       "      <td id=\"T_b348a_row0_col6\" class=\"data row0 col6\" >1,09</td>\n",
       "      <td id=\"T_b348a_row0_col7\" class=\"data row0 col7\" >3</td>\n",
       "    </tr>\n",
       "    <tr>\n",
       "      <th id=\"T_b348a_level0_row1\" class=\"row_heading level0 row1\" >Urbain</th>\n",
       "      <td id=\"T_b348a_row1_col0\" class=\"data row1 col0\" >31</td>\n",
       "      <td id=\"T_b348a_row1_col1\" class=\"data row1 col1\" >0,56</td>\n",
       "      <td id=\"T_b348a_row1_col2\" class=\"data row1 col2\" >0,39</td>\n",
       "      <td id=\"T_b348a_row1_col3\" class=\"data row1 col3\" >0</td>\n",
       "      <td id=\"T_b348a_row1_col4\" class=\"data row1 col4\" >0,36</td>\n",
       "      <td id=\"T_b348a_row1_col5\" class=\"data row1 col5\" >0,51</td>\n",
       "      <td id=\"T_b348a_row1_col6\" class=\"data row1 col6\" >0,66</td>\n",
       "      <td id=\"T_b348a_row1_col7\" class=\"data row1 col7\" >1</td>\n",
       "    </tr>\n",
       "  </tbody>\n",
       "</table>\n"
      ],
      "text/plain": [
       "<pandas.io.formats.style.Styler at 0x2034032ee20>"
      ]
     },
     "metadata": {
      "scrapbook": {
       "mime_prefix": "",
       "name": "tablea43"
      }
     },
     "output_type": "display_data"
    }
   ],
   "source": [
    "# ananlysis of situation\n",
    "voi = \"situation\"\n",
    "vals = \"pcs/m²\"\n",
    "groupby = ['échantillon', voi]\n",
    "labels = name_situation\n",
    "\n",
    "event_total = work_data.groupby([\"échantillon\", \"Plage\",\"date\", voi], as_index=False)[vals].sum()\n",
    "table_no += 1\n",
    "\n",
    "caption = 'Abondance des macroplastiques trouvés par m²dans chaque échantillon pour chaque situation: urbain, campagne.'\n",
    "event_total['échantillon'] = event_total[\"échantillon\"].astype(str)\n",
    "\n",
    "sit = attribute_summary(event_total, vals, voi, columns=column_display, labels=labels)\n",
    "table_three = add_table_to_page(sit, table_no, caption, section, page, rule)\n",
    "glue('tablea43', table_three, display=True)"
   ]
  },
  {
   "cell_type": "code",
   "execution_count": 10,
   "id": "6f0bdf69-e3e9-4148-8d61-a406c49db9ca",
   "metadata": {
    "tags": [
     "remove-input"
    ]
   },
   "outputs": [],
   "source": [
    "attribute_summary_grid(event_total, vals, voi, 'fig-a43', labels=labels, xlim=5, ylim=5, object_column='pcs/m²')"
   ]
  },
  {
   "cell_type": "markdown",
   "id": "d5c12715-8dba-4106-8764-3cc9c8dd2161",
   "metadata": {},
   "source": [
    "```{glue:figure} fig-a43\n",
    "---\n",
    "name: fig-a43\n",
    "---\n",
    "{glue:text}`blank_caption` \n",
    "```"
   ]
  },
  {
   "cell_type": "markdown",
   "id": "4838741a-24d3-4a05-acb7-273c16cf6f28",
   "metadata": {
    "tags": []
   },
   "source": [
    "(sit_plages)=\n",
    "__Les plages situation = campagne__"
   ]
  },
  {
   "cell_type": "code",
   "execution_count": 11,
   "id": "37a01f56-9b16-4b98-9b2d-e20c62ff1414",
   "metadata": {
    "tags": [
     "remove-input"
    ]
   },
   "outputs": [
    {
     "data": {
      "text/markdown": [
       "Amphion, Anthy, Aubonne, Bouveret, Crans, Cully, Excenevex, Gland, Grangettes, Lugrin, Pichette, Préverenges, Saint-Disdille, Savonnière, Tolochenaz, Tougues, Versoix"
      ],
      "text/plain": [
       "<IPython.core.display.Markdown object>"
      ]
     },
     "execution_count": 11,
     "metadata": {},
     "output_type": "execute_result"
    }
   ],
   "source": [
    "md(', '.join(work_data[work_data.situation.isin([1])].Plage.unique()))"
   ]
  },
  {
   "cell_type": "markdown",
   "id": "b86818df-d96a-42a1-95aa-743c5eb99972",
   "metadata": {
    "tags": []
   },
   "source": [
    "__Les plages situation = urbain__"
   ]
  },
  {
   "cell_type": "code",
   "execution_count": 12,
   "id": "040243ee-ea7b-498d-898d-152b91aaf2b8",
   "metadata": {
    "tags": [
     "remove-input"
    ]
   },
   "outputs": [
    {
     "data": {
      "text/markdown": [
       "Baby Plage, Clarens, Hermance, Lutry, Meillerie, Port Choiseul, Rolle, Vidy"
      ],
      "text/plain": [
       "<IPython.core.display.Markdown object>"
      ]
     },
     "execution_count": 12,
     "metadata": {},
     "output_type": "execute_result"
    }
   ],
   "source": [
    "md(', '.join(work_data[work_data.situation.isin([2])].Plage.unique()))"
   ]
  },
  {
   "cell_type": "markdown",
   "id": "ad34431a-eec1-4bc7-abfd-fbd0586c140e",
   "metadata": {},
   "source": [
    "## Distance\n",
    "\n",
    "La distance à un parking semble influencer les abondances en macroplastiques. En effet, la tendance indique que plus une plage est éloignée d'un parking, moins il y aura de plastique."
   ]
  },
  {
   "cell_type": "code",
   "execution_count": 13,
   "id": "3f0d77ea-80a4-4eed-a98e-0fbec78caa69",
   "metadata": {
    "tags": [
     "remove-input"
    ]
   },
   "outputs": [
    {
     "data": {
      "text/html": [
       "<style type=\"text/css\">\n",
       "#T_b2f99 tr:nth-child(even) {\n",
       "  background-color: rgba(139, 69, 19, 0.08);\n",
       "}\n",
       "#T_b2f99 tr:nth-child(odd) {\n",
       "  background: #FFF;\n",
       "}\n",
       "#T_b2f99 tr {\n",
       "  font-size: 14px;\n",
       "  padding: 6px;\n",
       "}\n",
       "#T_b2f99 td {\n",
       "  padding: 4px;\n",
       "  text-align: center;\n",
       "}\n",
       "#T_b2f99 th:nth-child(1) {\n",
       "  background-color: #FFF;\n",
       "  white-space: nowrap;\n",
       "  word-break: keep-all;\n",
       "}\n",
       "#T_b2f99 caption {\n",
       "  caption-side: top;\n",
       "  font-size: 12px;\n",
       "  text-align: left;\n",
       "  margin-top: 12px;\n",
       "}\n",
       "</style>\n",
       "<table id=\"T_b2f99\">\n",
       "  <caption><b>Tableau A8-4 :</b> Abondance des macroplastiques trouvés par m² dans chaque échantillon selon la distance du parking. Les attributs dont la moyenne des résultats est supérieure à la moyenne du projet sont en rouge.</caption>\n",
       "  <thead>\n",
       "    <tr>\n",
       "      <th class=\"blank level0\" >&nbsp;</th>\n",
       "      <th id=\"T_b2f99_level0_col0\" class=\"col_heading level0 col0\" >Échantillons</th>\n",
       "      <th id=\"T_b2f99_level0_col1\" class=\"col_heading level0 col1\" >Moyenne</th>\n",
       "      <th id=\"T_b2f99_level0_col2\" class=\"col_heading level0 col2\" >Écart type</th>\n",
       "      <th id=\"T_b2f99_level0_col3\" class=\"col_heading level0 col3\" >Min</th>\n",
       "      <th id=\"T_b2f99_level0_col4\" class=\"col_heading level0 col4\" >25%</th>\n",
       "      <th id=\"T_b2f99_level0_col5\" class=\"col_heading level0 col5\" >50%</th>\n",
       "      <th id=\"T_b2f99_level0_col6\" class=\"col_heading level0 col6\" >75%</th>\n",
       "      <th id=\"T_b2f99_level0_col7\" class=\"col_heading level0 col7\" >Max</th>\n",
       "    </tr>\n",
       "  </thead>\n",
       "  <tbody>\n",
       "    <tr>\n",
       "      <th id=\"T_b2f99_level0_row0\" class=\"row_heading level0 row0\" >< 100 m</th>\n",
       "      <td id=\"T_b2f99_row0_col0\" class=\"data row0 col0\" >39</td>\n",
       "      <td id=\"T_b2f99_row0_col1\" class=\"data row0 col1\" >0,64</td>\n",
       "      <td id=\"T_b2f99_row0_col2\" class=\"data row0 col2\" >0,60</td>\n",
       "      <td id=\"T_b2f99_row0_col3\" class=\"data row0 col3\" >0</td>\n",
       "      <td id=\"T_b2f99_row0_col4\" class=\"data row0 col4\" >0,13</td>\n",
       "      <td id=\"T_b2f99_row0_col5\" class=\"data row0 col5\" >0,40</td>\n",
       "      <td id=\"T_b2f99_row0_col6\" class=\"data row0 col6\" >1,02</td>\n",
       "      <td id=\"T_b2f99_row0_col7\" class=\"data row0 col7\" >1</td>\n",
       "    </tr>\n",
       "    <tr>\n",
       "      <th id=\"T_b2f99_level0_row1\" class=\"row_heading level0 row1\" >100 - 500 m</th>\n",
       "      <td id=\"T_b2f99_row1_col0\" class=\"data row1 col0\" >44</td>\n",
       "      <td id=\"T_b2f99_row1_col1\" class=\"data row1 col1\" >0,81</td>\n",
       "      <td id=\"T_b2f99_row1_col2\" class=\"data row1 col2\" >0,76</td>\n",
       "      <td id=\"T_b2f99_row1_col3\" class=\"data row1 col3\" >0</td>\n",
       "      <td id=\"T_b2f99_row1_col4\" class=\"data row1 col4\" >0,33</td>\n",
       "      <td id=\"T_b2f99_row1_col5\" class=\"data row1 col5\" >0,58</td>\n",
       "      <td id=\"T_b2f99_row1_col6\" class=\"data row1 col6\" >0,97</td>\n",
       "      <td id=\"T_b2f99_row1_col7\" class=\"data row1 col7\" >3</td>\n",
       "    </tr>\n",
       "    <tr>\n",
       "      <th id=\"T_b2f99_level0_row2\" class=\"row_heading level0 row2\" >500 - 1000 m</th>\n",
       "      <td id=\"T_b2f99_row2_col0\" class=\"data row2 col0\" >7</td>\n",
       "      <td id=\"T_b2f99_row2_col1\" class=\"data row2 col1\" >0,40</td>\n",
       "      <td id=\"T_b2f99_row2_col2\" class=\"data row2 col2\" >0,16</td>\n",
       "      <td id=\"T_b2f99_row2_col3\" class=\"data row2 col3\" >0</td>\n",
       "      <td id=\"T_b2f99_row2_col4\" class=\"data row2 col4\" >0,31</td>\n",
       "      <td id=\"T_b2f99_row2_col5\" class=\"data row2 col5\" >0,38</td>\n",
       "      <td id=\"T_b2f99_row2_col6\" class=\"data row2 col6\" >0,50</td>\n",
       "      <td id=\"T_b2f99_row2_col7\" class=\"data row2 col7\" >0</td>\n",
       "    </tr>\n",
       "    <tr>\n",
       "      <th id=\"T_b2f99_level0_row3\" class=\"row_heading level0 row3\" >> 1000 m</th>\n",
       "      <td id=\"T_b2f99_row3_col0\" class=\"data row3 col0\" >8</td>\n",
       "      <td id=\"T_b2f99_row3_col1\" class=\"data row3 col1\" >0,14</td>\n",
       "      <td id=\"T_b2f99_row3_col2\" class=\"data row3 col2\" >0,07</td>\n",
       "      <td id=\"T_b2f99_row3_col3\" class=\"data row3 col3\" >0</td>\n",
       "      <td id=\"T_b2f99_row3_col4\" class=\"data row3 col4\" >0,10</td>\n",
       "      <td id=\"T_b2f99_row3_col5\" class=\"data row3 col5\" >0,14</td>\n",
       "      <td id=\"T_b2f99_row3_col6\" class=\"data row3 col6\" >0,16</td>\n",
       "      <td id=\"T_b2f99_row3_col7\" class=\"data row3 col7\" >0</td>\n",
       "    </tr>\n",
       "  </tbody>\n",
       "</table>\n"
      ],
      "text/plain": [
       "<pandas.io.formats.style.Styler at 0x20341dc0fa0>"
      ]
     },
     "metadata": {
      "scrapbook": {
       "mime_prefix": "",
       "name": "tablea44"
      }
     },
     "output_type": "display_data"
    }
   ],
   "source": [
    "# ananlysis of distance\n",
    "voi = \"distance\"\n",
    "vals = \"pcs/m²\"\n",
    "groupby = ['échantillon', voi]\n",
    "labels = name_distance\n",
    "\n",
    "event_total = work_data.groupby([\"échantillon\", \"Plage\",\"date\", voi], as_index=False)[vals].sum()\n",
    "\n",
    "table_no += 1\n",
    "\n",
    "caption = 'Abondance des macroplastiques trouvés par m² dans chaque échantillon selon la distance du parking.'\n",
    "event_total['échantillon'] = event_total[\"échantillon\"].astype(str)\n",
    "dist = attribute_summary(event_total, vals, voi, columns=column_display, labels=labels)\n",
    "dist.data = dist.data.reindex([\"< 100 m\", \"100 - 500 m\", \"500 - 1000 m\", \"> 1000 m\"])\n",
    "table_three = add_table_to_page(dist, table_no, caption, section, page, rule)\n",
    "glue('tablea44', table_three, display=True)"
   ]
  },
  {
   "cell_type": "code",
   "execution_count": 14,
   "id": "361a9a83-a280-46f0-8404-c4281c74f6f3",
   "metadata": {
    "tags": [
     "remove-input"
    ]
   },
   "outputs": [],
   "source": [
    "attribute_summary_grid(event_total, vals, voi, 'fig-a44', labels=labels, xlim=5, ylim=5, object_column='pcs/m²')"
   ]
  },
  {
   "cell_type": "markdown",
   "id": "faf1e06f-f51c-4d08-8bed-8038ba77a908",
   "metadata": {
    "editable": true,
    "slideshow": {
     "slide_type": ""
    },
    "tags": []
   },
   "source": [
    "```{glue:figure} fig-a44\n",
    "---\n",
    "name: fig-a44\n",
    "---\n",
    "{glue:text}`blank_caption` \n",
    "```"
   ]
  },
  {
   "cell_type": "markdown",
   "id": "28330572-b8c2-435b-a60f-7eacf5f9d272",
   "metadata": {
    "tags": []
   },
   "source": [
    "(dist_plage)=\n",
    "__Les plages distance = 100 - 500 m__"
   ]
  },
  {
   "cell_type": "code",
   "execution_count": 15,
   "id": "1dbd1c84-59b2-46c9-abf8-da0a650e2532",
   "metadata": {
    "editable": true,
    "slideshow": {
     "slide_type": ""
    },
    "tags": [
     "remove-input"
    ]
   },
   "outputs": [
    {
     "data": {
      "text/markdown": [
       "Baby Plage, Bouveret, Grangettes, Hermance, Lugrin, Lutry, Port Choiseul, Préverenges, Tougues, Versoix, Vidy"
      ],
      "text/plain": [
       "<IPython.core.display.Markdown object>"
      ]
     },
     "execution_count": 15,
     "metadata": {},
     "output_type": "execute_result"
    }
   ],
   "source": [
    "md(', '.join(work_data[work_data.distance.isin([2])].Plage.unique()))"
   ]
  },
  {
   "cell_type": "markdown",
   "id": "d06f6349-06a0-48f7-8066-7a58f650d44a",
   "metadata": {
    "tags": []
   },
   "source": [
    "__Les plages distance = < 100 m__"
   ]
  },
  {
   "cell_type": "code",
   "execution_count": 16,
   "id": "27512734-ead7-42ad-9fd6-a38f01cd3538",
   "metadata": {
    "tags": [
     "remove-input"
    ]
   },
   "outputs": [
    {
     "data": {
      "text/markdown": [
       "Amphion, Anthy, Clarens, Cully, Excenevex, Gland, Pichette, Rolle, Saint-Disdille, Savonnière"
      ],
      "text/plain": [
       "<IPython.core.display.Markdown object>"
      ]
     },
     "execution_count": 16,
     "metadata": {},
     "output_type": "execute_result"
    }
   ],
   "source": [
    "md(', '.join(work_data[work_data.distance.isin([1])].Plage.unique()))"
   ]
  },
  {
   "cell_type": "markdown",
   "id": "34476b29-d31e-4010-a2e8-16395e513817",
   "metadata": {},
   "source": [
    "## Orientation"
   ]
  },
  {
   "cell_type": "code",
   "execution_count": 17,
   "id": "8a98785d-d666-4b4b-877d-0e7e1e55a24b",
   "metadata": {
    "tags": [
     "remove-input"
    ]
   },
   "outputs": [
    {
     "data": {
      "text/html": [
       "<style type=\"text/css\">\n",
       "#T_60e09 tr:nth-child(even) {\n",
       "  background-color: rgba(139, 69, 19, 0.08);\n",
       "}\n",
       "#T_60e09 tr:nth-child(odd) {\n",
       "  background: #FFF;\n",
       "}\n",
       "#T_60e09 tr {\n",
       "  font-size: 14px;\n",
       "  padding: 6px;\n",
       "}\n",
       "#T_60e09 td {\n",
       "  padding: 4px;\n",
       "  text-align: center;\n",
       "}\n",
       "#T_60e09 th:nth-child(1) {\n",
       "  background-color: #FFF;\n",
       "  white-space: nowrap;\n",
       "  word-break: keep-all;\n",
       "}\n",
       "#T_60e09 caption {\n",
       "  caption-side: top;\n",
       "  font-size: 12px;\n",
       "  text-align: left;\n",
       "  margin-top: 12px;\n",
       "}\n",
       "#T_60e09_row0_col5, #T_60e09_row2_col5, #T_60e09_row3_col5 {\n",
       "  color: red;\n",
       "}\n",
       "</style>\n",
       "<table id=\"T_60e09\">\n",
       "  <caption><b>Tableau A8-5 :</b> Abondance des macroplastiques trouvés par m² dans chaque échantillon selon l'orientation de la plage Les attributs dont la moyenne des résultats est supérieure à la moyenne du projet sont en rouge.</caption>\n",
       "  <thead>\n",
       "    <tr>\n",
       "      <th class=\"blank level0\" >&nbsp;</th>\n",
       "      <th id=\"T_60e09_level0_col0\" class=\"col_heading level0 col0\" >Échantillons</th>\n",
       "      <th id=\"T_60e09_level0_col1\" class=\"col_heading level0 col1\" >Moyenne</th>\n",
       "      <th id=\"T_60e09_level0_col2\" class=\"col_heading level0 col2\" >Écart type</th>\n",
       "      <th id=\"T_60e09_level0_col3\" class=\"col_heading level0 col3\" >Min</th>\n",
       "      <th id=\"T_60e09_level0_col4\" class=\"col_heading level0 col4\" >25%</th>\n",
       "      <th id=\"T_60e09_level0_col5\" class=\"col_heading level0 col5\" >50%</th>\n",
       "      <th id=\"T_60e09_level0_col6\" class=\"col_heading level0 col6\" >75%</th>\n",
       "      <th id=\"T_60e09_level0_col7\" class=\"col_heading level0 col7\" >Max</th>\n",
       "    </tr>\n",
       "  </thead>\n",
       "  <tbody>\n",
       "    <tr>\n",
       "      <th id=\"T_60e09_level0_row0\" class=\"row_heading level0 row0\" >E</th>\n",
       "      <td id=\"T_60e09_row0_col0\" class=\"data row0 col0\" >4</td>\n",
       "      <td id=\"T_60e09_row0_col1\" class=\"data row0 col1\" >1,14</td>\n",
       "      <td id=\"T_60e09_row0_col2\" class=\"data row0 col2\" >0,68</td>\n",
       "      <td id=\"T_60e09_row0_col3\" class=\"data row0 col3\" >0</td>\n",
       "      <td id=\"T_60e09_row0_col4\" class=\"data row0 col4\" >0,70</td>\n",
       "      <td id=\"T_60e09_row0_col5\" class=\"data row0 col5\" >1,12</td>\n",
       "      <td id=\"T_60e09_row0_col6\" class=\"data row0 col6\" >1,57</td>\n",
       "      <td id=\"T_60e09_row0_col7\" class=\"data row0 col7\" >1</td>\n",
       "    </tr>\n",
       "    <tr>\n",
       "      <th id=\"T_60e09_level0_row1\" class=\"row_heading level0 row1\" >ESE</th>\n",
       "      <td id=\"T_60e09_row1_col0\" class=\"data row1 col0\" >4</td>\n",
       "      <td id=\"T_60e09_row1_col1\" class=\"data row1 col1\" >0,26</td>\n",
       "      <td id=\"T_60e09_row1_col2\" class=\"data row1 col2\" >0,03</td>\n",
       "      <td id=\"T_60e09_row1_col3\" class=\"data row1 col3\" >0</td>\n",
       "      <td id=\"T_60e09_row1_col4\" class=\"data row1 col4\" >0,25</td>\n",
       "      <td id=\"T_60e09_row1_col5\" class=\"data row1 col5\" >0,26</td>\n",
       "      <td id=\"T_60e09_row1_col6\" class=\"data row1 col6\" >0,27</td>\n",
       "      <td id=\"T_60e09_row1_col7\" class=\"data row1 col7\" >0</td>\n",
       "    </tr>\n",
       "    <tr>\n",
       "      <th id=\"T_60e09_level0_row2\" class=\"row_heading level0 row2\" >N</th>\n",
       "      <td id=\"T_60e09_row2_col0\" class=\"data row2 col0\" >8</td>\n",
       "      <td id=\"T_60e09_row2_col1\" class=\"data row2 col1\" >0,90</td>\n",
       "      <td id=\"T_60e09_row2_col2\" class=\"data row2 col2\" >0,56</td>\n",
       "      <td id=\"T_60e09_row2_col3\" class=\"data row2 col3\" >0</td>\n",
       "      <td id=\"T_60e09_row2_col4\" class=\"data row2 col4\" >0,42</td>\n",
       "      <td id=\"T_60e09_row2_col5\" class=\"data row2 col5\" >0,89</td>\n",
       "      <td id=\"T_60e09_row2_col6\" class=\"data row2 col6\" >1,31</td>\n",
       "      <td id=\"T_60e09_row2_col7\" class=\"data row2 col7\" >1</td>\n",
       "    </tr>\n",
       "    <tr>\n",
       "      <th id=\"T_60e09_level0_row3\" class=\"row_heading level0 row3\" >NE</th>\n",
       "      <td id=\"T_60e09_row3_col0\" class=\"data row3 col0\" >12</td>\n",
       "      <td id=\"T_60e09_row3_col1\" class=\"data row3 col1\" >0,88</td>\n",
       "      <td id=\"T_60e09_row3_col2\" class=\"data row3 col2\" >0,56</td>\n",
       "      <td id=\"T_60e09_row3_col3\" class=\"data row3 col3\" >0</td>\n",
       "      <td id=\"T_60e09_row3_col4\" class=\"data row3 col4\" >0,54</td>\n",
       "      <td id=\"T_60e09_row3_col5\" class=\"data row3 col5\" >0,87</td>\n",
       "      <td id=\"T_60e09_row3_col6\" class=\"data row3 col6\" >1,19</td>\n",
       "      <td id=\"T_60e09_row3_col7\" class=\"data row3 col7\" >1</td>\n",
       "    </tr>\n",
       "    <tr>\n",
       "      <th id=\"T_60e09_level0_row4\" class=\"row_heading level0 row4\" >NNE</th>\n",
       "      <td id=\"T_60e09_row4_col0\" class=\"data row4 col0\" >8</td>\n",
       "      <td id=\"T_60e09_row4_col1\" class=\"data row4 col1\" >0,64</td>\n",
       "      <td id=\"T_60e09_row4_col2\" class=\"data row4 col2\" >0,25</td>\n",
       "      <td id=\"T_60e09_row4_col3\" class=\"data row4 col3\" >0</td>\n",
       "      <td id=\"T_60e09_row4_col4\" class=\"data row4 col4\" >0,48</td>\n",
       "      <td id=\"T_60e09_row4_col5\" class=\"data row4 col5\" >0,58</td>\n",
       "      <td id=\"T_60e09_row4_col6\" class=\"data row4 col6\" >0,71</td>\n",
       "      <td id=\"T_60e09_row4_col7\" class=\"data row4 col7\" >1</td>\n",
       "    </tr>\n",
       "    <tr>\n",
       "      <th id=\"T_60e09_level0_row5\" class=\"row_heading level0 row5\" >NNO</th>\n",
       "      <td id=\"T_60e09_row5_col0\" class=\"data row5 col0\" >4</td>\n",
       "      <td id=\"T_60e09_row5_col1\" class=\"data row5 col1\" >0,13</td>\n",
       "      <td id=\"T_60e09_row5_col2\" class=\"data row5 col2\" >0,06</td>\n",
       "      <td id=\"T_60e09_row5_col3\" class=\"data row5 col3\" >0</td>\n",
       "      <td id=\"T_60e09_row5_col4\" class=\"data row5 col4\" >0,11</td>\n",
       "      <td id=\"T_60e09_row5_col5\" class=\"data row5 col5\" >0,13</td>\n",
       "      <td id=\"T_60e09_row5_col6\" class=\"data row5 col6\" >0,15</td>\n",
       "      <td id=\"T_60e09_row5_col7\" class=\"data row5 col7\" >0</td>\n",
       "    </tr>\n",
       "    <tr>\n",
       "      <th id=\"T_60e09_level0_row6\" class=\"row_heading level0 row6\" >NO</th>\n",
       "      <td id=\"T_60e09_row6_col0\" class=\"data row6 col0\" >12</td>\n",
       "      <td id=\"T_60e09_row6_col1\" class=\"data row6 col1\" >1,10</td>\n",
       "      <td id=\"T_60e09_row6_col2\" class=\"data row6 col2\" >1,20</td>\n",
       "      <td id=\"T_60e09_row6_col3\" class=\"data row6 col3\" >0</td>\n",
       "      <td id=\"T_60e09_row6_col4\" class=\"data row6 col4\" >0,23</td>\n",
       "      <td id=\"T_60e09_row6_col5\" class=\"data row6 col5\" >0,48</td>\n",
       "      <td id=\"T_60e09_row6_col6\" class=\"data row6 col6\" >2,14</td>\n",
       "      <td id=\"T_60e09_row6_col7\" class=\"data row6 col7\" >3</td>\n",
       "    </tr>\n",
       "    <tr>\n",
       "      <th id=\"T_60e09_level0_row7\" class=\"row_heading level0 row7\" >ONO</th>\n",
       "      <td id=\"T_60e09_row7_col0\" class=\"data row7 col0\" >8</td>\n",
       "      <td id=\"T_60e09_row7_col1\" class=\"data row7 col1\" >0,83</td>\n",
       "      <td id=\"T_60e09_row7_col2\" class=\"data row7 col2\" >0,86</td>\n",
       "      <td id=\"T_60e09_row7_col3\" class=\"data row7 col3\" >0</td>\n",
       "      <td id=\"T_60e09_row7_col4\" class=\"data row7 col4\" >0,14</td>\n",
       "      <td id=\"T_60e09_row7_col5\" class=\"data row7 col5\" >0,45</td>\n",
       "      <td id=\"T_60e09_row7_col6\" class=\"data row7 col6\" >1,57</td>\n",
       "      <td id=\"T_60e09_row7_col7\" class=\"data row7 col7\" >2</td>\n",
       "    </tr>\n",
       "    <tr>\n",
       "      <th id=\"T_60e09_level0_row8\" class=\"row_heading level0 row8\" >OSO</th>\n",
       "      <td id=\"T_60e09_row8_col0\" class=\"data row8 col0\" >4</td>\n",
       "      <td id=\"T_60e09_row8_col1\" class=\"data row8 col1\" >0,14</td>\n",
       "      <td id=\"T_60e09_row8_col2\" class=\"data row8 col2\" >0,13</td>\n",
       "      <td id=\"T_60e09_row8_col3\" class=\"data row8 col3\" >0</td>\n",
       "      <td id=\"T_60e09_row8_col4\" class=\"data row8 col4\" >0,06</td>\n",
       "      <td id=\"T_60e09_row8_col5\" class=\"data row8 col5\" >0,08</td>\n",
       "      <td id=\"T_60e09_row8_col6\" class=\"data row8 col6\" >0,16</td>\n",
       "      <td id=\"T_60e09_row8_col7\" class=\"data row8 col7\" >0</td>\n",
       "    </tr>\n",
       "    <tr>\n",
       "      <th id=\"T_60e09_level0_row9\" class=\"row_heading level0 row9\" >SE</th>\n",
       "      <td id=\"T_60e09_row9_col0\" class=\"data row9 col0\" >4</td>\n",
       "      <td id=\"T_60e09_row9_col1\" class=\"data row9 col1\" >0,15</td>\n",
       "      <td id=\"T_60e09_row9_col2\" class=\"data row9 col2\" >0,08</td>\n",
       "      <td id=\"T_60e09_row9_col3\" class=\"data row9 col3\" >0</td>\n",
       "      <td id=\"T_60e09_row9_col4\" class=\"data row9 col4\" >0,10</td>\n",
       "      <td id=\"T_60e09_row9_col5\" class=\"data row9 col5\" >0,13</td>\n",
       "      <td id=\"T_60e09_row9_col6\" class=\"data row9 col6\" >0,18</td>\n",
       "      <td id=\"T_60e09_row9_col7\" class=\"data row9 col7\" >0</td>\n",
       "    </tr>\n",
       "    <tr>\n",
       "      <th id=\"T_60e09_level0_row10\" class=\"row_heading level0 row10\" >SO</th>\n",
       "      <td id=\"T_60e09_row10_col0\" class=\"data row10 col0\" >12</td>\n",
       "      <td id=\"T_60e09_row10_col1\" class=\"data row10 col1\" >0,54</td>\n",
       "      <td id=\"T_60e09_row10_col2\" class=\"data row10 col2\" >0,34</td>\n",
       "      <td id=\"T_60e09_row10_col3\" class=\"data row10 col3\" >0</td>\n",
       "      <td id=\"T_60e09_row10_col4\" class=\"data row10 col4\" >0,26</td>\n",
       "      <td id=\"T_60e09_row10_col5\" class=\"data row10 col5\" >0,53</td>\n",
       "      <td id=\"T_60e09_row10_col6\" class=\"data row10 col6\" >0,71</td>\n",
       "      <td id=\"T_60e09_row10_col7\" class=\"data row10 col7\" >1</td>\n",
       "    </tr>\n",
       "    <tr>\n",
       "      <th id=\"T_60e09_level0_row11\" class=\"row_heading level0 row11\" >SSE</th>\n",
       "      <td id=\"T_60e09_row11_col0\" class=\"data row11 col0\" >11</td>\n",
       "      <td id=\"T_60e09_row11_col1\" class=\"data row11 col1\" >0,33</td>\n",
       "      <td id=\"T_60e09_row11_col2\" class=\"data row11 col2\" >0,23</td>\n",
       "      <td id=\"T_60e09_row11_col3\" class=\"data row11 col3\" >0</td>\n",
       "      <td id=\"T_60e09_row11_col4\" class=\"data row11 col4\" >0,10</td>\n",
       "      <td id=\"T_60e09_row11_col5\" class=\"data row11 col5\" >0,31</td>\n",
       "      <td id=\"T_60e09_row11_col6\" class=\"data row11 col6\" >0,54</td>\n",
       "      <td id=\"T_60e09_row11_col7\" class=\"data row11 col7\" >0</td>\n",
       "    </tr>\n",
       "    <tr>\n",
       "      <th id=\"T_60e09_level0_row12\" class=\"row_heading level0 row12\" >SSO</th>\n",
       "      <td id=\"T_60e09_row12_col0\" class=\"data row12 col0\" >7</td>\n",
       "      <td id=\"T_60e09_row12_col1\" class=\"data row12 col1\" >0,64</td>\n",
       "      <td id=\"T_60e09_row12_col2\" class=\"data row12 col2\" >0,57</td>\n",
       "      <td id=\"T_60e09_row12_col3\" class=\"data row12 col3\" >0</td>\n",
       "      <td id=\"T_60e09_row12_col4\" class=\"data row12 col4\" >0,32</td>\n",
       "      <td id=\"T_60e09_row12_col5\" class=\"data row12 col5\" >0,50</td>\n",
       "      <td id=\"T_60e09_row12_col6\" class=\"data row12 col6\" >0,61</td>\n",
       "      <td id=\"T_60e09_row12_col7\" class=\"data row12 col7\" >1</td>\n",
       "    </tr>\n",
       "  </tbody>\n",
       "</table>\n"
      ],
      "text/plain": [
       "<pandas.io.formats.style.Styler at 0x203419961f0>"
      ]
     },
     "metadata": {
      "scrapbook": {
       "mime_prefix": "",
       "name": "tablea45"
      }
     },
     "output_type": "display_data"
    }
   ],
   "source": [
    "# ananlysis of substrat\n",
    "voi = \"orientation\"\n",
    "vals = \"pcs/m²\"\n",
    "groupby = ['échantillon', voi]\n",
    "\n",
    "data_summary = attribute_summary_test(work_data, voi=voi, vals=vals)\n",
    "data_summary[['count', 'max', 'min']] = data_summary[['count', 'max', 'min']].astype('int')\n",
    "data_summary.rename(columns=column_display, inplace=True)\n",
    "\n",
    "select_values = data_summary[\"moyenne\"] > 1.45\n",
    "test_one = data_summary.loc[select_values].index\n",
    "\n",
    "select_values = data_summary[\"50%\"] > .78\n",
    "test_two = data_summary.loc[select_values].index\n",
    "\n",
    "d_sum = data_summary.style.set_table_styles(table_css_styles_top)\n",
    "d_sum = d_sum.set_properties(subset = pd.IndexSlice[test_one,[\"moyenne\"]], **a_property)\n",
    "d_sum = d_sum.set_properties(subset = pd.IndexSlice[test_two,[\"50%\"]], **a_property)\n",
    "\n",
    "table_no += 1\n",
    "\n",
    "caption = 'Abondance des macroplastiques trouvés par m² dans chaque échantillon selon l\\'orientation de la plage'\n",
    "\n",
    "table_five = add_table_to_page(d_sum, table_no, caption, section, page, rule, format_index='columns')\n",
    "glue('tablea45', table_five, display=True)"
   ]
  },
  {
   "cell_type": "code",
   "execution_count": 18,
   "id": "09326130-c1ee-4055-a149-35b5347bfb43",
   "metadata": {
    "tags": [
     "remove-input"
    ]
   },
   "outputs": [
    {
     "name": "stdout",
     "output_type": "stream",
     "text": [
      "Git repo: https://github.com/AssociationSauvegardeLeman/plastock.git\n",
      "\n",
      "Git branch: jun14\n",
      "\n",
      "pandas: 2.0.3\n",
      "\n"
     ]
    }
   ],
   "source": [
    "%watermark --iversions -b -r"
   ]
  },
  {
   "cell_type": "code",
   "execution_count": null,
   "id": "fba80e4d-6655-47b7-91fd-6276e80722b3",
   "metadata": {
    "editable": true,
    "slideshow": {
     "slide_type": ""
    },
    "tags": []
   },
   "outputs": [],
   "source": []
  }
 ],
 "metadata": {
  "kernelspec": {
   "display_name": "Python 3 (ipykernel)",
   "language": "python",
   "name": "python3"
  },
  "language_info": {
   "codemirror_mode": {
    "name": "ipython",
    "version": 3
   },
   "file_extension": ".py",
   "mimetype": "text/x-python",
   "name": "python",
   "nbconvert_exporter": "python",
   "pygments_lexer": "ipython3",
   "version": "3.9.18"
  }
 },
 "nbformat": 4,
 "nbformat_minor": 5
}