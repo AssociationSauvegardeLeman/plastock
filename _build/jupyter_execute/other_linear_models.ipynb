{
 "cells": [
  {
   "cell_type": "code",
   "execution_count": 1,
   "id": "32bcdb7d-96d5-47f5-a77a-139bafcc6a7d",
   "metadata": {
    "editable": true,
    "slideshow": {
     "slide_type": ""
    },
    "tags": [
     "hide-input"
    ]
   },
   "outputs": [],
   "source": [
    "%load_ext watermark\n",
    "import numpy as np\n",
    "import pandas as pd\n",
    "import datetime as dt\n",
    "import matplotlib.pyplot as plt\n",
    "import seaborn as sns\n",
    "from myst_nb import glue\n",
    "import statsmodels.api as sm\n",
    "from scipy import stats\n",
    "\n",
    "from plastockmethods import name_zones, name_particles, name_frequentation, name_situation\n",
    "from plastockmethods import particle_groups, name_substrate, name_distance, table_css_styles\n",
    "\n",
    "def translate_describe(x, value_column):\n",
    "    described = x.to_dict()\n",
    "    described.pop(\"count\")\n",
    "    described[\"moyenne\"] = described.pop(\"mean\")\n",
    "    described[\"écart-type\"] = described.pop(\"std\")\n",
    "    df = pd.DataFrame(described.items())\n",
    "    df.set_index(0, inplace=True)\n",
    "    df.rename(columns={1:value_column}, inplace=True)\n",
    "    df.index.name = None\n",
    "    \n",
    "    \n",
    "    return df\n",
    "\n",
    "work_data = pd.read_csv(\"data/end_pipe/long_form_micro.csv\")\n",
    "wide_form = pd.read_csv(\"data/aggregated_micro_results.csv\")\n",
    "beach_data = pd.read_csv(\"data/end_pipe/asl_beaches.csv\")\n",
    "\n",
    "wdx = work_data.copy()\n",
    "wdx[\"position\"] = wdx.position.apply(lambda x: name_zones[x])\n",
    "wdx[\"frequentation\"] = wdx.frequentation.apply(lambda x: name_frequentation[x])\n",
    "wdx[\"situation\"] = wdx.situation.apply(lambda x: name_situation[x])\n",
    "wdx[\"distance\"] = wdx.distance.apply(lambda x: name_distance[x])\n",
    "wdx[\"substrat\"] = wdx.substrat.apply(lambda x: name_substrate[x])"
   ]
  },
  {
   "cell_type": "markdown",
   "id": "64f4b56e-a28f-451b-848e-9a16e4646c59",
   "metadata": {},
   "source": [
    "# Autres modèles linéaires\n",
    "\n",
    "La position des échantillons sur la plage (ligne d'eau, plage-seche) représente différentes conditions d'échantillonnage. C'est pourquoi nous les traiterons séparément.\n",
    "\n",
    "Les fragments durs et souple sont combinés pour chaque échantillon."
   ]
  },
  {
   "cell_type": "markdown",
   "id": "c41ff99a-13c4-4852-894a-b25640622c62",
   "metadata": {},
   "source": [
    "## Ligne d'eau"
   ]
  },
  {
   "cell_type": "code",
   "execution_count": 2,
   "id": "704ed296-9bb8-4add-afb4-54be2c91dc6f",
   "metadata": {
    "editable": true,
    "slideshow": {
     "slide_type": ""
    },
    "tags": [
     "hide-input"
    ]
   },
   "outputs": [
    {
     "data": {
      "text/html": [
       "<style type=\"text/css\">\n",
       "#T_e3cd2 tr:nth-child(even) {\n",
       "  background-color: rgba(139, 69, 19, 0.08);\n",
       "}\n",
       "#T_e3cd2 tr:nth-child(odd) {\n",
       "  background: #FFF;\n",
       "}\n",
       "#T_e3cd2 tr {\n",
       "  font-size: 14px;\n",
       "  padding: 10px;\n",
       "}\n",
       "#T_e3cd2 th:nth-child(1) {\n",
       "  background-color: #FFF;\n",
       "}\n",
       "#T_e3cd2 caption {\n",
       "  caption-side: bottom;\n",
       "  font-size: 16px;\n",
       "  text-align: left;\n",
       "  margin-top: 15px;\n",
       "}\n",
       "</style>\n",
       "<table id=\"T_e3cd2\">\n",
       "  <caption>Les données sont regroupées en deux groupes par échantillon: 1. fibres, 2. fragment.</caption>\n",
       "  <thead>\n",
       "    <tr>\n",
       "      <th class=\"blank level0\" >&nbsp;</th>\n",
       "      <th id=\"T_e3cd2_level0_col0\" class=\"col_heading level0 col0\" >orientation</th>\n",
       "      <th id=\"T_e3cd2_level0_col1\" class=\"col_heading level0 col1\" >substrat</th>\n",
       "      <th id=\"T_e3cd2_level0_col2\" class=\"col_heading level0 col2\" >frequentation</th>\n",
       "      <th id=\"T_e3cd2_level0_col3\" class=\"col_heading level0 col3\" >situation</th>\n",
       "      <th id=\"T_e3cd2_level0_col4\" class=\"col_heading level0 col4\" >distance</th>\n",
       "      <th id=\"T_e3cd2_level0_col5\" class=\"col_heading level0 col5\" >objet</th>\n",
       "      <th id=\"T_e3cd2_level0_col6\" class=\"col_heading level0 col6\" >compte</th>\n",
       "      <th id=\"T_e3cd2_level0_col7\" class=\"col_heading level0 col7\" >scaled</th>\n",
       "    </tr>\n",
       "  </thead>\n",
       "  <tbody>\n",
       "    <tr>\n",
       "      <th id=\"T_e3cd2_level0_row0\" class=\"row_heading level0 row0\" >0</th>\n",
       "      <td id=\"T_e3cd2_row0_col0\" class=\"data row0 col0\" >NE</td>\n",
       "      <td id=\"T_e3cd2_row0_col1\" class=\"data row0 col1\" >galet</td>\n",
       "      <td id=\"T_e3cd2_row0_col2\" class=\"data row0 col2\" >élévée</td>\n",
       "      <td id=\"T_e3cd2_row0_col3\" class=\"data row0 col3\" >campagne</td>\n",
       "      <td id=\"T_e3cd2_row0_col4\" class=\"data row0 col4\" >< 100m</td>\n",
       "      <td id=\"T_e3cd2_row0_col5\" class=\"data row0 col5\" >fragment</td>\n",
       "      <td id=\"T_e3cd2_row0_col6\" class=\"data row0 col6\" >0</td>\n",
       "      <td id=\"T_e3cd2_row0_col7\" class=\"data row0 col7\" >0.000000</td>\n",
       "    </tr>\n",
       "    <tr>\n",
       "      <th id=\"T_e3cd2_level0_row1\" class=\"row_heading level0 row1\" >1</th>\n",
       "      <td id=\"T_e3cd2_row1_col0\" class=\"data row1 col0\" >NNE</td>\n",
       "      <td id=\"T_e3cd2_row1_col1\" class=\"data row1 col1\" >galet</td>\n",
       "      <td id=\"T_e3cd2_row1_col2\" class=\"data row1 col2\" >élévée</td>\n",
       "      <td id=\"T_e3cd2_row1_col3\" class=\"data row1 col3\" >campagne</td>\n",
       "      <td id=\"T_e3cd2_row1_col4\" class=\"data row1 col4\" >< 100m</td>\n",
       "      <td id=\"T_e3cd2_row1_col5\" class=\"data row1 col5\" >fragment</td>\n",
       "      <td id=\"T_e3cd2_row1_col6\" class=\"data row1 col6\" >15</td>\n",
       "      <td id=\"T_e3cd2_row1_col7\" class=\"data row1 col7\" >0.023292</td>\n",
       "    </tr>\n",
       "    <tr>\n",
       "      <th id=\"T_e3cd2_level0_row2\" class=\"row_heading level0 row2\" >2</th>\n",
       "      <td id=\"T_e3cd2_row2_col0\" class=\"data row2 col0\" >NE</td>\n",
       "      <td id=\"T_e3cd2_row2_col1\" class=\"data row2 col1\" >galet</td>\n",
       "      <td id=\"T_e3cd2_row2_col2\" class=\"data row2 col2\" >élévée</td>\n",
       "      <td id=\"T_e3cd2_row2_col3\" class=\"data row2 col3\" >campagne</td>\n",
       "      <td id=\"T_e3cd2_row2_col4\" class=\"data row2 col4\" >< 100m</td>\n",
       "      <td id=\"T_e3cd2_row2_col5\" class=\"data row2 col5\" >fragment</td>\n",
       "      <td id=\"T_e3cd2_row2_col6\" class=\"data row2 col6\" >0</td>\n",
       "      <td id=\"T_e3cd2_row2_col7\" class=\"data row2 col7\" >0.000000</td>\n",
       "    </tr>\n",
       "    <tr>\n",
       "      <th id=\"T_e3cd2_level0_row3\" class=\"row_heading level0 row3\" >3</th>\n",
       "      <td id=\"T_e3cd2_row3_col0\" class=\"data row3 col0\" >NNE</td>\n",
       "      <td id=\"T_e3cd2_row3_col1\" class=\"data row3 col1\" >galet</td>\n",
       "      <td id=\"T_e3cd2_row3_col2\" class=\"data row3 col2\" >élévée</td>\n",
       "      <td id=\"T_e3cd2_row3_col3\" class=\"data row3 col3\" >campagne</td>\n",
       "      <td id=\"T_e3cd2_row3_col4\" class=\"data row3 col4\" >< 100m</td>\n",
       "      <td id=\"T_e3cd2_row3_col5\" class=\"data row3 col5\" >fragment</td>\n",
       "      <td id=\"T_e3cd2_row3_col6\" class=\"data row3 col6\" >3</td>\n",
       "      <td id=\"T_e3cd2_row3_col7\" class=\"data row3 col7\" >0.004658</td>\n",
       "    </tr>\n",
       "    <tr>\n",
       "      <th id=\"T_e3cd2_level0_row4\" class=\"row_heading level0 row4\" >4</th>\n",
       "      <td id=\"T_e3cd2_row4_col0\" class=\"data row4 col0\" >NNO</td>\n",
       "      <td id=\"T_e3cd2_row4_col1\" class=\"data row4 col1\" >galet</td>\n",
       "      <td id=\"T_e3cd2_row4_col2\" class=\"data row4 col2\" >moyenne</td>\n",
       "      <td id=\"T_e3cd2_row4_col3\" class=\"data row4 col3\" >campagne</td>\n",
       "      <td id=\"T_e3cd2_row4_col4\" class=\"data row4 col4\" >< 100m</td>\n",
       "      <td id=\"T_e3cd2_row4_col5\" class=\"data row4 col5\" >fragment</td>\n",
       "      <td id=\"T_e3cd2_row4_col6\" class=\"data row4 col6\" >9</td>\n",
       "      <td id=\"T_e3cd2_row4_col7\" class=\"data row4 col7\" >0.013975</td>\n",
       "    </tr>\n",
       "  </tbody>\n",
       "</table>\n"
      ],
      "text/plain": [
       "<pandas.io.formats.style.Styler at 0x7f52f1c8c4f0>"
      ]
     },
     "execution_count": 2,
     "metadata": {},
     "output_type": "execute_result"
    }
   ],
   "source": [
    "caption = \"Les données sont regroupées en deux groupes par échantillon: 1. fibres, 2. fragment.\"\n",
    "\n",
    "# separate the first zone\n",
    "wdi = wdx[wdx.position == \"ligne-d'eau\"].copy()\n",
    "scaled = (wdi[\"compte\"] - wdi[\"compte\"].min()) / (wdi[\"compte\"].max() - wdi[\"compte\"].min())\n",
    "# wdi[\"scaled\"] = scaled\n",
    "\n",
    "# wdi[\"const\"] = 1.0\n",
    "\n",
    "# columns of interest\n",
    "x_cols = [\"orientation\", \"substrat\", \"frequentation\", \"situation\", \"distance\", \"objet\"]\n",
    "y_col = [\"compte\"]\n",
    "\n",
    "# combine the fragments\n",
    "w_f = wdi[wdi.objet.isin([\"souple\", \"fdure\"])].copy()\n",
    "\n",
    "souple_d = w_f.groupby([\"echantillon\", *x_cols[:-1]], as_index=False).compte.sum()\n",
    "souple_d[\"objet\"] = \"fragment\"\n",
    "\n",
    "# isolate the fibres\n",
    "fibres = wdi[wdi.objet.isin([\"fibres\"])].copy()\n",
    "\n",
    "# combine the aggregate fragments and the fibres\n",
    "w_d = pd.concat([souple_d[[*x_cols, *y_col]], fibres[[*x_cols, *y_col]]])\n",
    "w_d[\"scaled\"] = (w_d.compte - w_d.compte.min())/(w_d.compte.max() - w_d.compte.min())\n",
    "\n",
    "\n",
    "w_d.head().style.set_table_styles(table_css_styles).set_caption(caption)"
   ]
  },
  {
   "cell_type": "code",
   "execution_count": 3,
   "id": "dfdcc1ad-e8f7-4a6a-a97b-8ec8f5dbb46c",
   "metadata": {
    "tags": [
     "hide-input"
    ]
   },
   "outputs": [],
   "source": [
    "from sklearn.preprocessing import OrdinalEncoder\n",
    "\n",
    "freq = list(name_frequentation.values())\n",
    "sub  = list(name_substrate.values())\n",
    "dis = list(name_distance.values())\n",
    "sit = list(name_situation.values())\n",
    "\n",
    "# Now, when you instantiate the encoder, both of these lists go in one big categories list:\n",
    "encoder = OrdinalEncoder(categories=[freq, sub, dis])\n",
    "\n",
    "ordinal_encoded = encoder.fit_transform(w_d[[\"frequentation\", \"substrat\", \"distance\"]])"
   ]
  },
  {
   "cell_type": "markdown",
   "id": "4284f9c7-13eb-486b-b643-46c87a5fc9cd",
   "metadata": {},
   "source": [
    "## Gridsearch with PCA"
   ]
  },
  {
   "cell_type": "code",
   "execution_count": 4,
   "id": "6bb859a7-96bf-4088-bd2d-00a262b8437c",
   "metadata": {
    "editable": true,
    "slideshow": {
     "slide_type": ""
    },
    "tags": [
     "hide-input"
    ]
   },
   "outputs": [],
   "source": [
    "# encode categorical\n",
    "from sklearn.compose import make_column_selector as selector\n",
    "from sklearn.preprocessing import OneHotEncoder\n",
    "from sklearn.pipeline import make_pipeline\n",
    "from sklearn.metrics import mean_squared_error, make_scorer\n",
    "from sklearn.dummy import DummyRegressor\n",
    "\n",
    "categorical_columns_selector = selector(dtype_include=object)\n",
    "categorical_columns = categorical_columns_selector(w_d)\n",
    "\n",
    "w_dc = w_d[categorical_columns].copy()"
   ]
  },
  {
   "cell_type": "code",
   "execution_count": 5,
   "id": "78293464-96a0-4395-9d06-5e549da3f8d6",
   "metadata": {
    "editable": true,
    "slideshow": {
     "slide_type": ""
    },
    "tags": [
     "hide-input"
    ]
   },
   "outputs": [],
   "source": [
    "encoder = OneHotEncoder(sparse_output=False, handle_unknown=\"ignore\").set_output(transform=\"pandas\")\n",
    "w_dencoded = encoder.fit_transform(w_dc)\n",
    "rmse = make_scorer(mean_squared_error, squared=False)\n",
    "X_not_scale = w_dc\n",
    "Y_not_scale = w_d.compte"
   ]
  },
  {
   "cell_type": "markdown",
   "id": "b08c96c4-f201-419b-92e3-1110d3b2b83b",
   "metadata": {},
   "source": [
    "### Cross validated results: mean squared error"
   ]
  },
  {
   "cell_type": "code",
   "execution_count": 6,
   "id": "b088b83f-f135-4ea9-8231-cca413fd7d36",
   "metadata": {
    "editable": true,
    "slideshow": {
     "slide_type": ""
    },
    "tags": [
     "hide-input"
    ]
   },
   "outputs": [
    {
     "name": "stdout",
     "output_type": "stream",
     "text": [
      "[CV] END ......................................, score=99.441 total time=   0.8s\n",
      "[CV] END ......................................, score=81.787 total time=   0.8s\n"
     ]
    },
    {
     "data": {
      "text/html": [
       "<style>#sk-container-id-1 {color: black;}#sk-container-id-1 pre{padding: 0;}#sk-container-id-1 div.sk-toggleable {background-color: white;}#sk-container-id-1 label.sk-toggleable__label {cursor: pointer;display: block;width: 100%;margin-bottom: 0;padding: 0.3em;box-sizing: border-box;text-align: center;}#sk-container-id-1 label.sk-toggleable__label-arrow:before {content: \"▸\";float: left;margin-right: 0.25em;color: #696969;}#sk-container-id-1 label.sk-toggleable__label-arrow:hover:before {color: black;}#sk-container-id-1 div.sk-estimator:hover label.sk-toggleable__label-arrow:before {color: black;}#sk-container-id-1 div.sk-toggleable__content {max-height: 0;max-width: 0;overflow: hidden;text-align: left;background-color: #f0f8ff;}#sk-container-id-1 div.sk-toggleable__content pre {margin: 0.2em;color: black;border-radius: 0.25em;background-color: #f0f8ff;}#sk-container-id-1 input.sk-toggleable__control:checked~div.sk-toggleable__content {max-height: 200px;max-width: 100%;overflow: auto;}#sk-container-id-1 input.sk-toggleable__control:checked~label.sk-toggleable__label-arrow:before {content: \"▾\";}#sk-container-id-1 div.sk-estimator input.sk-toggleable__control:checked~label.sk-toggleable__label {background-color: #d4ebff;}#sk-container-id-1 div.sk-label input.sk-toggleable__control:checked~label.sk-toggleable__label {background-color: #d4ebff;}#sk-container-id-1 input.sk-hidden--visually {border: 0;clip: rect(1px 1px 1px 1px);clip: rect(1px, 1px, 1px, 1px);height: 1px;margin: -1px;overflow: hidden;padding: 0;position: absolute;width: 1px;}#sk-container-id-1 div.sk-estimator {font-family: monospace;background-color: #f0f8ff;border: 1px dotted black;border-radius: 0.25em;box-sizing: border-box;margin-bottom: 0.5em;}#sk-container-id-1 div.sk-estimator:hover {background-color: #d4ebff;}#sk-container-id-1 div.sk-parallel-item::after {content: \"\";width: 100%;border-bottom: 1px solid gray;flex-grow: 1;}#sk-container-id-1 div.sk-label:hover label.sk-toggleable__label {background-color: #d4ebff;}#sk-container-id-1 div.sk-serial::before {content: \"\";position: absolute;border-left: 1px solid gray;box-sizing: border-box;top: 0;bottom: 0;left: 50%;z-index: 0;}#sk-container-id-1 div.sk-serial {display: flex;flex-direction: column;align-items: center;background-color: white;padding-right: 0.2em;padding-left: 0.2em;position: relative;}#sk-container-id-1 div.sk-item {position: relative;z-index: 1;}#sk-container-id-1 div.sk-parallel {display: flex;align-items: stretch;justify-content: center;background-color: white;position: relative;}#sk-container-id-1 div.sk-item::before, #sk-container-id-1 div.sk-parallel-item::before {content: \"\";position: absolute;border-left: 1px solid gray;box-sizing: border-box;top: 0;bottom: 0;left: 50%;z-index: -1;}#sk-container-id-1 div.sk-parallel-item {display: flex;flex-direction: column;z-index: 1;position: relative;background-color: white;}#sk-container-id-1 div.sk-parallel-item:first-child::after {align-self: flex-end;width: 50%;}#sk-container-id-1 div.sk-parallel-item:last-child::after {align-self: flex-start;width: 50%;}#sk-container-id-1 div.sk-parallel-item:only-child::after {width: 0;}#sk-container-id-1 div.sk-dashed-wrapped {border: 1px dashed gray;margin: 0 0.4em 0.5em 0.4em;box-sizing: border-box;padding-bottom: 0.4em;background-color: white;}#sk-container-id-1 div.sk-label label {font-family: monospace;font-weight: bold;display: inline-block;line-height: 1.2em;}#sk-container-id-1 div.sk-label-container {text-align: center;}#sk-container-id-1 div.sk-container {/* jupyter's `normalize.less` sets `[hidden] { display: none; }` but bootstrap.min.css set `[hidden] { display: none !important; }` so we also need the `!important` here to be able to override the default hidden behavior on the sphinx rendered scikit-learn.org. See: https://github.com/scikit-learn/scikit-learn/issues/21755 */display: inline-block !important;position: relative;}#sk-container-id-1 div.sk-text-repr-fallback {display: none;}</style><div id=\"sk-container-id-1\" class=\"sk-top-container\"><div class=\"sk-text-repr-fallback\"><pre>GridSearchCV(cv=10,\n",
       "             estimator=Pipeline(steps=[(&#x27;scale&#x27;, StandardScaler()),\n",
       "                                       (&#x27;pca&#x27;, PCA()), (&#x27;lm&#x27;, Lasso())]),\n",
       "             param_grid={&#x27;lm__alpha&#x27;: array([1.00000000e-03, 3.16227766e-02, 1.00000000e+00, 3.16227766e+01,\n",
       "       1.00000000e+03]),\n",
       "                         &#x27;pca__n_components&#x27;: [2, 5, 10]},\n",
       "             scoring=make_scorer(mean_squared_error, squared=False))</pre><b>In a Jupyter environment, please rerun this cell to show the HTML representation or trust the notebook. <br />On GitHub, the HTML representation is unable to render, please try loading this page with nbviewer.org.</b></div><div class=\"sk-container\" hidden><div class=\"sk-item sk-dashed-wrapped\"><div class=\"sk-label-container\"><div class=\"sk-label sk-toggleable\"><input class=\"sk-toggleable__control sk-hidden--visually\" id=\"sk-estimator-id-1\" type=\"checkbox\" ><label for=\"sk-estimator-id-1\" class=\"sk-toggleable__label sk-toggleable__label-arrow\">GridSearchCV</label><div class=\"sk-toggleable__content\"><pre>GridSearchCV(cv=10,\n",
       "             estimator=Pipeline(steps=[(&#x27;scale&#x27;, StandardScaler()),\n",
       "                                       (&#x27;pca&#x27;, PCA()), (&#x27;lm&#x27;, Lasso())]),\n",
       "             param_grid={&#x27;lm__alpha&#x27;: array([1.00000000e-03, 3.16227766e-02, 1.00000000e+00, 3.16227766e+01,\n",
       "       1.00000000e+03]),\n",
       "                         &#x27;pca__n_components&#x27;: [2, 5, 10]},\n",
       "             scoring=make_scorer(mean_squared_error, squared=False))</pre></div></div></div><div class=\"sk-parallel\"><div class=\"sk-parallel-item\"><div class=\"sk-item\"><div class=\"sk-label-container\"><div class=\"sk-label sk-toggleable\"><input class=\"sk-toggleable__control sk-hidden--visually\" id=\"sk-estimator-id-2\" type=\"checkbox\" ><label for=\"sk-estimator-id-2\" class=\"sk-toggleable__label sk-toggleable__label-arrow\">estimator: Pipeline</label><div class=\"sk-toggleable__content\"><pre>Pipeline(steps=[(&#x27;scale&#x27;, StandardScaler()), (&#x27;pca&#x27;, PCA()), (&#x27;lm&#x27;, Lasso())])</pre></div></div></div><div class=\"sk-serial\"><div class=\"sk-item\"><div class=\"sk-serial\"><div class=\"sk-item\"><div class=\"sk-estimator sk-toggleable\"><input class=\"sk-toggleable__control sk-hidden--visually\" id=\"sk-estimator-id-3\" type=\"checkbox\" ><label for=\"sk-estimator-id-3\" class=\"sk-toggleable__label sk-toggleable__label-arrow\">StandardScaler</label><div class=\"sk-toggleable__content\"><pre>StandardScaler()</pre></div></div></div><div class=\"sk-item\"><div class=\"sk-estimator sk-toggleable\"><input class=\"sk-toggleable__control sk-hidden--visually\" id=\"sk-estimator-id-4\" type=\"checkbox\" ><label for=\"sk-estimator-id-4\" class=\"sk-toggleable__label sk-toggleable__label-arrow\">PCA</label><div class=\"sk-toggleable__content\"><pre>PCA()</pre></div></div></div><div class=\"sk-item\"><div class=\"sk-estimator sk-toggleable\"><input class=\"sk-toggleable__control sk-hidden--visually\" id=\"sk-estimator-id-5\" type=\"checkbox\" ><label for=\"sk-estimator-id-5\" class=\"sk-toggleable__label sk-toggleable__label-arrow\">Lasso</label><div class=\"sk-toggleable__content\"><pre>Lasso()</pre></div></div></div></div></div></div></div></div></div></div></div></div>"
      ],
      "text/plain": [
       "GridSearchCV(cv=10,\n",
       "             estimator=Pipeline(steps=[('scale', StandardScaler()),\n",
       "                                       ('pca', PCA()), ('lm', Lasso())]),\n",
       "             param_grid={'lm__alpha': array([1.00000000e-03, 3.16227766e-02, 1.00000000e+00, 3.16227766e+01,\n",
       "       1.00000000e+03]),\n",
       "                         'pca__n_components': [2, 5, 10]},\n",
       "             scoring=make_scorer(mean_squared_error, squared=False))"
      ]
     },
     "execution_count": 6,
     "metadata": {},
     "output_type": "execute_result"
    }
   ],
   "source": [
    "from sklearn.linear_model import Lasso, Ridge, LinearRegression\n",
    "from sklearn.preprocessing import StandardScaler\n",
    "from sklearn.model_selection import GridSearchCV, cross_validate\n",
    "from sklearn.decomposition import PCA\n",
    "from sklearn.pipeline import Pipeline, make_pipeline\n",
    "from sklearn.compose import TransformedTargetRegressor\n",
    "from sklearn.compose import make_column_transformer\n",
    "model = Pipeline([\n",
    "    ('scale', StandardScaler()),\n",
    "    ('pca',PCA()),\n",
    "    ('lm', Lasso())\n",
    "])\n",
    "\n",
    "param_grid = {\n",
    "    'pca__n_components': [2, 5, 10],\n",
    "    'lm__alpha': np.logspace(-3, 3, 5)\n",
    "}\n",
    "\n",
    "gscv = GridSearchCV(model, param_grid=param_grid, cv=10, scoring = rmse)\n",
    "\n",
    "results = cross_validate(gscv, w_dencoded, Y_not_scale, cv=2, scoring = rmse, verbose=4)\n",
    "\n",
    "gscv"
   ]
  },
  {
   "cell_type": "markdown",
   "id": "87b10b57-8370-4adf-9feb-3f103a456bfd",
   "metadata": {},
   "source": [
    "## Linear regression, sklearn"
   ]
  },
  {
   "cell_type": "code",
   "execution_count": 7,
   "id": "6cdb7e3c-d618-47d9-8b95-0df4e89bf9dc",
   "metadata": {
    "editable": true,
    "slideshow": {
     "slide_type": ""
    },
    "tags": [
     "hide-input"
    ]
   },
   "outputs": [],
   "source": [
    "from scipy.special import exp10\n",
    "from sklearn.linear_model import BayesianRidge\n",
    "\n",
    "\n",
    "def rev_min_max_func(scaled_val, df, column: str = \"compte\"):\n",
    "    max_val = max(df[column])\n",
    "    min_val = min(df[column])\n",
    "    og_val = (scaled_val*(max_val - min_val)) + min_val\n",
    "    return og_val\n",
    "\n",
    "preprocessor = make_column_transformer(\n",
    "    (OneHotEncoder(drop=\"if_binary\"), categorical_columns),\n",
    "    remainder=\"passthrough\",\n",
    "    verbose_feature_names_out=False,  # avoid to prepend the preprocessor names\n",
    ")\n",
    "\n",
    "model = make_pipeline(\n",
    "    TransformedTargetRegressor(\n",
    "        regressor=Ridge(alpha=1e-10), func=np.log10, inverse_func=exp10\n",
    "    ),\n",
    ")\n",
    "\n",
    "from sklearn.model_selection import train_test_split\n",
    "\n",
    "X_train, X_test, y_train, y_test = train_test_split(ordinal_encoded, w_d.scaled, random_state=42)\n",
    "\n",
    "ols = LinearRegression().fit(X_train, y_train)\n",
    "predictions = ols.predict(X_train)\n",
    "\n",
    "p_unscaled = [rev_min_max_func(x, w_d) for x in predictions]"
   ]
  },
  {
   "cell_type": "code",
   "execution_count": 8,
   "id": "4d63d10e-d75c-415e-ba71-e83559736a94",
   "metadata": {
    "editable": true,
    "slideshow": {
     "slide_type": ""
    },
    "tags": [
     "remove-input"
    ]
   },
   "outputs": [
    {
     "data": {
      "text/html": [
       "<style>#sk-container-id-2 {color: black;}#sk-container-id-2 pre{padding: 0;}#sk-container-id-2 div.sk-toggleable {background-color: white;}#sk-container-id-2 label.sk-toggleable__label {cursor: pointer;display: block;width: 100%;margin-bottom: 0;padding: 0.3em;box-sizing: border-box;text-align: center;}#sk-container-id-2 label.sk-toggleable__label-arrow:before {content: \"▸\";float: left;margin-right: 0.25em;color: #696969;}#sk-container-id-2 label.sk-toggleable__label-arrow:hover:before {color: black;}#sk-container-id-2 div.sk-estimator:hover label.sk-toggleable__label-arrow:before {color: black;}#sk-container-id-2 div.sk-toggleable__content {max-height: 0;max-width: 0;overflow: hidden;text-align: left;background-color: #f0f8ff;}#sk-container-id-2 div.sk-toggleable__content pre {margin: 0.2em;color: black;border-radius: 0.25em;background-color: #f0f8ff;}#sk-container-id-2 input.sk-toggleable__control:checked~div.sk-toggleable__content {max-height: 200px;max-width: 100%;overflow: auto;}#sk-container-id-2 input.sk-toggleable__control:checked~label.sk-toggleable__label-arrow:before {content: \"▾\";}#sk-container-id-2 div.sk-estimator input.sk-toggleable__control:checked~label.sk-toggleable__label {background-color: #d4ebff;}#sk-container-id-2 div.sk-label input.sk-toggleable__control:checked~label.sk-toggleable__label {background-color: #d4ebff;}#sk-container-id-2 input.sk-hidden--visually {border: 0;clip: rect(1px 1px 1px 1px);clip: rect(1px, 1px, 1px, 1px);height: 1px;margin: -1px;overflow: hidden;padding: 0;position: absolute;width: 1px;}#sk-container-id-2 div.sk-estimator {font-family: monospace;background-color: #f0f8ff;border: 1px dotted black;border-radius: 0.25em;box-sizing: border-box;margin-bottom: 0.5em;}#sk-container-id-2 div.sk-estimator:hover {background-color: #d4ebff;}#sk-container-id-2 div.sk-parallel-item::after {content: \"\";width: 100%;border-bottom: 1px solid gray;flex-grow: 1;}#sk-container-id-2 div.sk-label:hover label.sk-toggleable__label {background-color: #d4ebff;}#sk-container-id-2 div.sk-serial::before {content: \"\";position: absolute;border-left: 1px solid gray;box-sizing: border-box;top: 0;bottom: 0;left: 50%;z-index: 0;}#sk-container-id-2 div.sk-serial {display: flex;flex-direction: column;align-items: center;background-color: white;padding-right: 0.2em;padding-left: 0.2em;position: relative;}#sk-container-id-2 div.sk-item {position: relative;z-index: 1;}#sk-container-id-2 div.sk-parallel {display: flex;align-items: stretch;justify-content: center;background-color: white;position: relative;}#sk-container-id-2 div.sk-item::before, #sk-container-id-2 div.sk-parallel-item::before {content: \"\";position: absolute;border-left: 1px solid gray;box-sizing: border-box;top: 0;bottom: 0;left: 50%;z-index: -1;}#sk-container-id-2 div.sk-parallel-item {display: flex;flex-direction: column;z-index: 1;position: relative;background-color: white;}#sk-container-id-2 div.sk-parallel-item:first-child::after {align-self: flex-end;width: 50%;}#sk-container-id-2 div.sk-parallel-item:last-child::after {align-self: flex-start;width: 50%;}#sk-container-id-2 div.sk-parallel-item:only-child::after {width: 0;}#sk-container-id-2 div.sk-dashed-wrapped {border: 1px dashed gray;margin: 0 0.4em 0.5em 0.4em;box-sizing: border-box;padding-bottom: 0.4em;background-color: white;}#sk-container-id-2 div.sk-label label {font-family: monospace;font-weight: bold;display: inline-block;line-height: 1.2em;}#sk-container-id-2 div.sk-label-container {text-align: center;}#sk-container-id-2 div.sk-container {/* jupyter's `normalize.less` sets `[hidden] { display: none; }` but bootstrap.min.css set `[hidden] { display: none !important; }` so we also need the `!important` here to be able to override the default hidden behavior on the sphinx rendered scikit-learn.org. See: https://github.com/scikit-learn/scikit-learn/issues/21755 */display: inline-block !important;position: relative;}#sk-container-id-2 div.sk-text-repr-fallback {display: none;}</style><div id=\"sk-container-id-2\" class=\"sk-top-container\"><div class=\"sk-text-repr-fallback\"><pre>LinearRegression()</pre><b>In a Jupyter environment, please rerun this cell to show the HTML representation or trust the notebook. <br />On GitHub, the HTML representation is unable to render, please try loading this page with nbviewer.org.</b></div><div class=\"sk-container\" hidden><div class=\"sk-item\"><div class=\"sk-estimator sk-toggleable\"><input class=\"sk-toggleable__control sk-hidden--visually\" id=\"sk-estimator-id-6\" type=\"checkbox\" checked><label for=\"sk-estimator-id-6\" class=\"sk-toggleable__label sk-toggleable__label-arrow\">LinearRegression</label><div class=\"sk-toggleable__content\"><pre>LinearRegression()</pre></div></div></div></div></div>"
      ],
      "text/plain": [
       "LinearRegression()"
      ]
     },
     "execution_count": 8,
     "metadata": {},
     "output_type": "execute_result"
    }
   ],
   "source": [
    "ols"
   ]
  },
  {
   "cell_type": "markdown",
   "id": "8794dc26-953c-4a4f-94fa-70890431baa9",
   "metadata": {},
   "source": [
    "### Cross validated results: mean squared error"
   ]
  },
  {
   "cell_type": "code",
   "execution_count": 9,
   "id": "e75be31d-346b-4c1f-bdaf-fd6005b070cc",
   "metadata": {},
   "outputs": [
    {
     "name": "stdout",
     "output_type": "stream",
     "text": [
      "[CV] END ......................................., score=0.062 total time=   0.0s\n",
      "[CV] END ......................................., score=0.233 total time=   0.0s\n",
      "[CV] END ......................................., score=0.110 total time=   0.0s\n",
      "[CV] END ......................................., score=0.083 total time=   0.0s\n",
      "[CV] END ......................................., score=0.105 total time=   0.0s\n",
      "[CV] END ......................................., score=0.078 total time=   0.0s\n",
      "[CV] END ......................................., score=0.116 total time=   0.0s\n",
      "[CV] END ......................................., score=0.184 total time=   0.0s\n",
      "[CV] END ......................................., score=0.115 total time=   0.0s\n",
      "[CV] END ......................................., score=0.116 total time=   0.0s\n"
     ]
    }
   ],
   "source": [
    "results_l = cross_validate(ols, X_train, y_train, cv=10, scoring = rmse, verbose=4)"
   ]
  },
  {
   "cell_type": "markdown",
   "id": "31273f6c-af4a-4ad1-81e1-f0672a0f83d6",
   "metadata": {
    "tags": []
   },
   "source": [
    "## Bayesian ridge regression (L2)\n",
    "\n",
    "Bayesian regression techniques can be used to include regularization parameters in the estimation procedure: the regularization parameter is not set in a hard sense but tuned to the data at hand.\n",
    "\n",
    "This can be done by introducing uninformative priors over the hyper parameters of the model. The regularization used in Ridge regression and classification is equivalent to finding a maximum a posteriori estimation under a Gaussian prior over the coefficients with precision . Instead of setting lambda manually, it is possible to treat it as a random variable to be estimated from the data."
   ]
  },
  {
   "cell_type": "code",
   "execution_count": 10,
   "id": "0a92ce5f-3cfa-42a9-b836-eff833c617c1",
   "metadata": {
    "editable": true,
    "slideshow": {
     "slide_type": ""
    },
    "tags": [
     "hide-input"
    ]
   },
   "outputs": [
    {
     "data": {
      "text/html": [
       "<style>#sk-container-id-3 {color: black;}#sk-container-id-3 pre{padding: 0;}#sk-container-id-3 div.sk-toggleable {background-color: white;}#sk-container-id-3 label.sk-toggleable__label {cursor: pointer;display: block;width: 100%;margin-bottom: 0;padding: 0.3em;box-sizing: border-box;text-align: center;}#sk-container-id-3 label.sk-toggleable__label-arrow:before {content: \"▸\";float: left;margin-right: 0.25em;color: #696969;}#sk-container-id-3 label.sk-toggleable__label-arrow:hover:before {color: black;}#sk-container-id-3 div.sk-estimator:hover label.sk-toggleable__label-arrow:before {color: black;}#sk-container-id-3 div.sk-toggleable__content {max-height: 0;max-width: 0;overflow: hidden;text-align: left;background-color: #f0f8ff;}#sk-container-id-3 div.sk-toggleable__content pre {margin: 0.2em;color: black;border-radius: 0.25em;background-color: #f0f8ff;}#sk-container-id-3 input.sk-toggleable__control:checked~div.sk-toggleable__content {max-height: 200px;max-width: 100%;overflow: auto;}#sk-container-id-3 input.sk-toggleable__control:checked~label.sk-toggleable__label-arrow:before {content: \"▾\";}#sk-container-id-3 div.sk-estimator input.sk-toggleable__control:checked~label.sk-toggleable__label {background-color: #d4ebff;}#sk-container-id-3 div.sk-label input.sk-toggleable__control:checked~label.sk-toggleable__label {background-color: #d4ebff;}#sk-container-id-3 input.sk-hidden--visually {border: 0;clip: rect(1px 1px 1px 1px);clip: rect(1px, 1px, 1px, 1px);height: 1px;margin: -1px;overflow: hidden;padding: 0;position: absolute;width: 1px;}#sk-container-id-3 div.sk-estimator {font-family: monospace;background-color: #f0f8ff;border: 1px dotted black;border-radius: 0.25em;box-sizing: border-box;margin-bottom: 0.5em;}#sk-container-id-3 div.sk-estimator:hover {background-color: #d4ebff;}#sk-container-id-3 div.sk-parallel-item::after {content: \"\";width: 100%;border-bottom: 1px solid gray;flex-grow: 1;}#sk-container-id-3 div.sk-label:hover label.sk-toggleable__label {background-color: #d4ebff;}#sk-container-id-3 div.sk-serial::before {content: \"\";position: absolute;border-left: 1px solid gray;box-sizing: border-box;top: 0;bottom: 0;left: 50%;z-index: 0;}#sk-container-id-3 div.sk-serial {display: flex;flex-direction: column;align-items: center;background-color: white;padding-right: 0.2em;padding-left: 0.2em;position: relative;}#sk-container-id-3 div.sk-item {position: relative;z-index: 1;}#sk-container-id-3 div.sk-parallel {display: flex;align-items: stretch;justify-content: center;background-color: white;position: relative;}#sk-container-id-3 div.sk-item::before, #sk-container-id-3 div.sk-parallel-item::before {content: \"\";position: absolute;border-left: 1px solid gray;box-sizing: border-box;top: 0;bottom: 0;left: 50%;z-index: -1;}#sk-container-id-3 div.sk-parallel-item {display: flex;flex-direction: column;z-index: 1;position: relative;background-color: white;}#sk-container-id-3 div.sk-parallel-item:first-child::after {align-self: flex-end;width: 50%;}#sk-container-id-3 div.sk-parallel-item:last-child::after {align-self: flex-start;width: 50%;}#sk-container-id-3 div.sk-parallel-item:only-child::after {width: 0;}#sk-container-id-3 div.sk-dashed-wrapped {border: 1px dashed gray;margin: 0 0.4em 0.5em 0.4em;box-sizing: border-box;padding-bottom: 0.4em;background-color: white;}#sk-container-id-3 div.sk-label label {font-family: monospace;font-weight: bold;display: inline-block;line-height: 1.2em;}#sk-container-id-3 div.sk-label-container {text-align: center;}#sk-container-id-3 div.sk-container {/* jupyter's `normalize.less` sets `[hidden] { display: none; }` but bootstrap.min.css set `[hidden] { display: none !important; }` so we also need the `!important` here to be able to override the default hidden behavior on the sphinx rendered scikit-learn.org. See: https://github.com/scikit-learn/scikit-learn/issues/21755 */display: inline-block !important;position: relative;}#sk-container-id-3 div.sk-text-repr-fallback {display: none;}</style><div id=\"sk-container-id-3\" class=\"sk-top-container\"><div class=\"sk-text-repr-fallback\"><pre>BayesianRidge(compute_score=True, max_iter=30)</pre><b>In a Jupyter environment, please rerun this cell to show the HTML representation or trust the notebook. <br />On GitHub, the HTML representation is unable to render, please try loading this page with nbviewer.org.</b></div><div class=\"sk-container\" hidden><div class=\"sk-item\"><div class=\"sk-estimator sk-toggleable\"><input class=\"sk-toggleable__control sk-hidden--visually\" id=\"sk-estimator-id-7\" type=\"checkbox\" checked><label for=\"sk-estimator-id-7\" class=\"sk-toggleable__label sk-toggleable__label-arrow\">BayesianRidge</label><div class=\"sk-toggleable__content\"><pre>BayesianRidge(compute_score=True, max_iter=30)</pre></div></div></div></div></div>"
      ],
      "text/plain": [
       "BayesianRidge(compute_score=True, max_iter=30)"
      ]
     },
     "execution_count": 10,
     "metadata": {},
     "output_type": "execute_result"
    }
   ],
   "source": [
    "bayes = BayesianRidge(compute_score=True, max_iter=30).fit(X_train, y_train)\n",
    "predictions_b = bayes.predict(X_train)\n",
    "\n",
    "p_unscaled_b = [rev_min_max_func(x, w_d) for x in predictions_b]\n",
    "bayes"
   ]
  },
  {
   "cell_type": "markdown",
   "id": "820bf3de-3bcd-40c4-8616-5ff485f4674f",
   "metadata": {},
   "source": [
    "### Cross validated results: mean squared error"
   ]
  },
  {
   "cell_type": "code",
   "execution_count": 11,
   "id": "27676643-3cbd-480e-abff-11a0e4ca3c31",
   "metadata": {},
   "outputs": [
    {
     "name": "stdout",
     "output_type": "stream",
     "text": [
      "[CV] END ......................................., score=0.053 total time=   0.0s\n",
      "[CV] END ......................................., score=0.233 total time=   0.0s\n",
      "[CV] END ......................................., score=0.117 total time=   0.0s\n",
      "[CV] END ......................................., score=0.076 total time=   0.0s\n",
      "[CV] END ......................................., score=0.098 total time=   0.0s\n",
      "[CV] END ......................................., score=0.078 total time=   0.0s\n",
      "[CV] END ......................................., score=0.114 total time=   0.0s\n",
      "[CV] END ......................................., score=0.191 total time=   0.0s\n",
      "[CV] END ......................................., score=0.118 total time=   0.0s\n",
      "[CV] END ......................................., score=0.114 total time=   0.0s\n"
     ]
    }
   ],
   "source": [
    "results_b = cross_validate(bayes, X_train, y_train, cv=10, scoring = rmse, verbose=4)"
   ]
  },
  {
   "cell_type": "markdown",
   "id": "f2b35556-f77d-4cba-9770-6620de6013a8",
   "metadata": {
    "tags": []
   },
   "source": [
    "## Lasso (L1)\n",
    "\n",
    "The primary goal of LASSO regression is to find a balance between model simplicity and accuracy. It achieves this by adding a penalty term to the traditional linear regression model, which encourages sparse solutions where some coefficients are forced to be exactly zero. This feature makes LASSO particularly useful for feature selection, as it can automatically identify and discard irrelevant or redundant variables."
   ]
  },
  {
   "cell_type": "code",
   "execution_count": 12,
   "id": "2b5b20f4-8045-4ef1-83dc-a4b87b962c6f",
   "metadata": {
    "editable": true,
    "slideshow": {
     "slide_type": ""
    },
    "tags": [
     "hide-input"
    ]
   },
   "outputs": [
    {
     "data": {
      "text/html": [
       "<style>#sk-container-id-4 {color: black;}#sk-container-id-4 pre{padding: 0;}#sk-container-id-4 div.sk-toggleable {background-color: white;}#sk-container-id-4 label.sk-toggleable__label {cursor: pointer;display: block;width: 100%;margin-bottom: 0;padding: 0.3em;box-sizing: border-box;text-align: center;}#sk-container-id-4 label.sk-toggleable__label-arrow:before {content: \"▸\";float: left;margin-right: 0.25em;color: #696969;}#sk-container-id-4 label.sk-toggleable__label-arrow:hover:before {color: black;}#sk-container-id-4 div.sk-estimator:hover label.sk-toggleable__label-arrow:before {color: black;}#sk-container-id-4 div.sk-toggleable__content {max-height: 0;max-width: 0;overflow: hidden;text-align: left;background-color: #f0f8ff;}#sk-container-id-4 div.sk-toggleable__content pre {margin: 0.2em;color: black;border-radius: 0.25em;background-color: #f0f8ff;}#sk-container-id-4 input.sk-toggleable__control:checked~div.sk-toggleable__content {max-height: 200px;max-width: 100%;overflow: auto;}#sk-container-id-4 input.sk-toggleable__control:checked~label.sk-toggleable__label-arrow:before {content: \"▾\";}#sk-container-id-4 div.sk-estimator input.sk-toggleable__control:checked~label.sk-toggleable__label {background-color: #d4ebff;}#sk-container-id-4 div.sk-label input.sk-toggleable__control:checked~label.sk-toggleable__label {background-color: #d4ebff;}#sk-container-id-4 input.sk-hidden--visually {border: 0;clip: rect(1px 1px 1px 1px);clip: rect(1px, 1px, 1px, 1px);height: 1px;margin: -1px;overflow: hidden;padding: 0;position: absolute;width: 1px;}#sk-container-id-4 div.sk-estimator {font-family: monospace;background-color: #f0f8ff;border: 1px dotted black;border-radius: 0.25em;box-sizing: border-box;margin-bottom: 0.5em;}#sk-container-id-4 div.sk-estimator:hover {background-color: #d4ebff;}#sk-container-id-4 div.sk-parallel-item::after {content: \"\";width: 100%;border-bottom: 1px solid gray;flex-grow: 1;}#sk-container-id-4 div.sk-label:hover label.sk-toggleable__label {background-color: #d4ebff;}#sk-container-id-4 div.sk-serial::before {content: \"\";position: absolute;border-left: 1px solid gray;box-sizing: border-box;top: 0;bottom: 0;left: 50%;z-index: 0;}#sk-container-id-4 div.sk-serial {display: flex;flex-direction: column;align-items: center;background-color: white;padding-right: 0.2em;padding-left: 0.2em;position: relative;}#sk-container-id-4 div.sk-item {position: relative;z-index: 1;}#sk-container-id-4 div.sk-parallel {display: flex;align-items: stretch;justify-content: center;background-color: white;position: relative;}#sk-container-id-4 div.sk-item::before, #sk-container-id-4 div.sk-parallel-item::before {content: \"\";position: absolute;border-left: 1px solid gray;box-sizing: border-box;top: 0;bottom: 0;left: 50%;z-index: -1;}#sk-container-id-4 div.sk-parallel-item {display: flex;flex-direction: column;z-index: 1;position: relative;background-color: white;}#sk-container-id-4 div.sk-parallel-item:first-child::after {align-self: flex-end;width: 50%;}#sk-container-id-4 div.sk-parallel-item:last-child::after {align-self: flex-start;width: 50%;}#sk-container-id-4 div.sk-parallel-item:only-child::after {width: 0;}#sk-container-id-4 div.sk-dashed-wrapped {border: 1px dashed gray;margin: 0 0.4em 0.5em 0.4em;box-sizing: border-box;padding-bottom: 0.4em;background-color: white;}#sk-container-id-4 div.sk-label label {font-family: monospace;font-weight: bold;display: inline-block;line-height: 1.2em;}#sk-container-id-4 div.sk-label-container {text-align: center;}#sk-container-id-4 div.sk-container {/* jupyter's `normalize.less` sets `[hidden] { display: none; }` but bootstrap.min.css set `[hidden] { display: none !important; }` so we also need the `!important` here to be able to override the default hidden behavior on the sphinx rendered scikit-learn.org. See: https://github.com/scikit-learn/scikit-learn/issues/21755 */display: inline-block !important;position: relative;}#sk-container-id-4 div.sk-text-repr-fallback {display: none;}</style><div id=\"sk-container-id-4\" class=\"sk-top-container\"><div class=\"sk-text-repr-fallback\"><pre>Pipeline(steps=[(&#x27;standardscaler&#x27;, StandardScaler()),\n",
       "                (&#x27;lassocv&#x27;, LassoCV(cv=20))])</pre><b>In a Jupyter environment, please rerun this cell to show the HTML representation or trust the notebook. <br />On GitHub, the HTML representation is unable to render, please try loading this page with nbviewer.org.</b></div><div class=\"sk-container\" hidden><div class=\"sk-item sk-dashed-wrapped\"><div class=\"sk-label-container\"><div class=\"sk-label sk-toggleable\"><input class=\"sk-toggleable__control sk-hidden--visually\" id=\"sk-estimator-id-8\" type=\"checkbox\" ><label for=\"sk-estimator-id-8\" class=\"sk-toggleable__label sk-toggleable__label-arrow\">Pipeline</label><div class=\"sk-toggleable__content\"><pre>Pipeline(steps=[(&#x27;standardscaler&#x27;, StandardScaler()),\n",
       "                (&#x27;lassocv&#x27;, LassoCV(cv=20))])</pre></div></div></div><div class=\"sk-serial\"><div class=\"sk-item\"><div class=\"sk-estimator sk-toggleable\"><input class=\"sk-toggleable__control sk-hidden--visually\" id=\"sk-estimator-id-9\" type=\"checkbox\" ><label for=\"sk-estimator-id-9\" class=\"sk-toggleable__label sk-toggleable__label-arrow\">StandardScaler</label><div class=\"sk-toggleable__content\"><pre>StandardScaler()</pre></div></div></div><div class=\"sk-item\"><div class=\"sk-estimator sk-toggleable\"><input class=\"sk-toggleable__control sk-hidden--visually\" id=\"sk-estimator-id-10\" type=\"checkbox\" ><label for=\"sk-estimator-id-10\" class=\"sk-toggleable__label sk-toggleable__label-arrow\">LassoCV</label><div class=\"sk-toggleable__content\"><pre>LassoCV(cv=20)</pre></div></div></div></div></div></div></div>"
      ],
      "text/plain": [
       "Pipeline(steps=[('standardscaler', StandardScaler()),\n",
       "                ('lassocv', LassoCV(cv=20))])"
      ]
     },
     "execution_count": 12,
     "metadata": {},
     "output_type": "execute_result"
    }
   ],
   "source": [
    "import time\n",
    "from sklearn.linear_model import LassoLarsIC\n",
    "from sklearn.pipeline import make_pipeline\n",
    "from sklearn.preprocessing import StandardScaler\n",
    "from sklearn.linear_model import LassoCV\n",
    "\n",
    "start_time = time.time()\n",
    "lasso_cv = make_pipeline(StandardScaler(), LassoCV(cv=20)).fit(X_train, y_train)\n",
    "fit_time = time.time() - start_time\n",
    "lasso_cv.fit(X_train, y_train)\n",
    "predictions_lcv = lasso_cv.predict(X_train)\n",
    "\n",
    "lasso_cvp = [rev_min_max_func(x, w_d) for x in predictions_lcv]\n",
    "lasso_cv"
   ]
  },
  {
   "cell_type": "code",
   "execution_count": 13,
   "id": "08b1de16-3cb6-495b-a0c1-03a803444fa9",
   "metadata": {},
   "outputs": [
    {
     "name": "stdout",
     "output_type": "stream",
     "text": [
      "[CV] END ......................................., score=0.062 total time=   0.2s\n",
      "[CV] END ......................................., score=0.233 total time=   0.2s\n",
      "[CV] END ......................................., score=0.116 total time=   0.2s\n",
      "[CV] END ......................................., score=0.083 total time=   0.2s\n",
      "[CV] END ......................................., score=0.101 total time=   0.2s\n",
      "[CV] END ......................................., score=0.079 total time=   0.2s\n",
      "[CV] END ......................................., score=0.116 total time=   0.2s\n",
      "[CV] END ......................................., score=0.191 total time=   0.2s\n",
      "[CV] END ......................................., score=0.115 total time=   0.2s\n",
      "[CV] END ......................................., score=0.116 total time=   0.2s\n"
     ]
    }
   ],
   "source": [
    "results_cv = cross_validate(lasso_cv, X_train, y_train, cv=10, scoring = rmse, verbose=4)"
   ]
  },
  {
   "cell_type": "code",
   "execution_count": 14,
   "id": "4bf7d26a-6615-4e3b-912a-d13ba7973799",
   "metadata": {
    "editable": true,
    "slideshow": {
     "slide_type": ""
    },
    "tags": [
     "hide-input"
    ]
   },
   "outputs": [
    {
     "data": {
      "image/png": "[encoded data removed]",
      "text/plain": [
       "<Figure size 640x480 with 1 Axes>"
      ]
     },
     "metadata": {},
     "output_type": "display_data"
    }
   ],
   "source": [
    "fig, ax = plt.subplots()\n",
    "\n",
    "sns.ecdfplot(p_unscaled, ax=ax, label=\"LinearRegression\", linewidth=4, color=\"dodgerblue\")\n",
    "sns.ecdfplot(w_d[\"compte\"], label=\"observed\", color=\"magenta\", ax=ax)\n",
    "sns.ecdfplot(p_unscaled_b, label=\"BayesianRidge\", ax=ax, color=\"black\")\n",
    "sns.ecdfplot(lasso_cvp, label=\"LassoCV\", ax=ax, color=\"gold\")\n",
    "ax.legend()\n",
    "\n",
    "plt.show()"
   ]
  },
  {
   "cell_type": "code",
   "execution_count": 15,
   "id": "54320820-5212-425b-93b4-aedadf3c77c8",
   "metadata": {
    "editable": true,
    "slideshow": {
     "slide_type": ""
    },
    "tags": [
     "remove-input"
    ]
   },
   "outputs": [
    {
     "name": "stdout",
     "output_type": "stream",
     "text": [
      "Git repo: https://github.com/hammerdirt-analyst/plastock.git\n",
      "\n",
      "Git branch: glm_p\n",
      "\n",
      "scipy      : 1.10.1\n",
      "matplotlib : 3.7.1\n",
      "numpy      : 1.24.2\n",
      "statsmodels: 0.13.5\n",
      "seaborn    : 0.12.2\n",
      "pandas     : 2.0.0\n",
      "\n"
     ]
    }
   ],
   "source": [
    "%watermark --iversions -b -r"
   ]
  }
 ],
 "metadata": {
  "kernelspec": {
   "display_name": "Python 3 (ipykernel)",
   "language": "python",
   "name": "python3"
  },
  "language_info": {
   "codemirror_mode": {
    "name": "ipython",
    "version": 3
   },
   "file_extension": ".py",
   "mimetype": "text/x-python",
   "name": "python",
   "nbconvert_exporter": "python",
   "pygments_lexer": "ipython3",
   "version": "3.9.16"
  }
 },
 "nbformat": 4,
 "nbformat_minor": 5
}