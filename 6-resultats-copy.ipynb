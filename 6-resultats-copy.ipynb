{
 "cells": [
  {
   "cell_type": "code",
   "execution_count": 1,
   "id": "1bcf53db-e1a1-4116-8279-6b69c6c5ea30",
   "metadata": {
    "editable": true,
    "pycharm": {
     "name": "#%%\n"
    },
    "slideshow": {
     "slide_type": ""
    },
    "tags": [
     "remove-input"
    ]
   },
   "outputs": [],
   "source": [
    "import numpy as np\n",
    "import pandas as pd\n",
    "import matplotlib.pyplot as plt\n",
    "import seaborn as sns\n",
    "from myst_nb import glue\n",
    "from IPython.core.display import HTML, Markdown\n",
    "from plastockconf import particle_groups, name_substrate, name_distance, table_css_styles_top, format_kwargs\n",
    "from reportclass import color_gradient\n",
    "from setvariables import newcmp\n"
   ]
  },
  {
   "cell_type": "code",
   "execution_count": 2,
   "id": "b0f6d80e-a28f-4960-ac98-a69a5b02d86a",
   "metadata": {
    "editable": true,
    "pycharm": {
     "name": "#%%\n"
    },
    "slideshow": {
     "slide_type": ""
    },
    "tags": [
     "remove-input"
    ]
   },
   "outputs": [
    {
     "data": {
      "application/papermill.record/text/html": "<style type=\"text/css\">\n#T_af434 tr:nth-child(even) {\n  background-color: rgba(139, 69, 19, 0.08);\n}\n#T_af434 tr:nth-child(odd) {\n  background: #FFF;\n}\n#T_af434 tr {\n  font-size: 14px;\n  padding: 6px;\n}\n#T_af434 th:nth-child(1) {\n  background-color: #FFF;\n  white-space: nowrap;\n  word-break: keep-all;\n}\n#T_af434 caption {\n  caption-side: top;\n  font-size: 12px;\n  text-align: left;\n  margin-top: 12px;\n}\n</style>\n<table id=\"T_af434\">\n  <caption> </caption>\n  <thead>\n    <tr>\n      <th class=\"blank level0\" >&nbsp;</th>\n      <th id=\"T_af434_level0_col0\" class=\"col_heading level0 col0\" >Particules</th>\n    </tr>\n  </thead>\n  <tbody>\n    <tr>\n      <th id=\"T_af434_level0_row0\" class=\"row_heading level0 row0\" >Min</th>\n      <td id=\"T_af434_row0_col0\" class=\"data row0 col0\" >19</td>\n    </tr>\n    <tr>\n      <th id=\"T_af434_level0_row1\" class=\"row_heading level0 row1\" >25%</th>\n      <td id=\"T_af434_row1_col0\" class=\"data row1 col0\" >72</td>\n    </tr>\n    <tr>\n      <th id=\"T_af434_level0_row2\" class=\"row_heading level0 row2\" >50%</th>\n      <td id=\"T_af434_row2_col0\" class=\"data row2 col0\" >126</td>\n    </tr>\n    <tr>\n      <th id=\"T_af434_level0_row3\" class=\"row_heading level0 row3\" >75%</th>\n      <td id=\"T_af434_row3_col0\" class=\"data row3 col0\" >207</td>\n    </tr>\n    <tr>\n      <th id=\"T_af434_level0_row4\" class=\"row_heading level0 row4\" >Max</th>\n      <td id=\"T_af434_row4_col0\" class=\"data row4 col0\" >3'143</td>\n    </tr>\n    <tr>\n      <th id=\"T_af434_level0_row5\" class=\"row_heading level0 row5\" >Moyenne</th>\n      <td id=\"T_af434_row5_col0\" class=\"data row5 col0\" >189</td>\n    </tr>\n    <tr>\n      <th id=\"T_af434_level0_row6\" class=\"row_heading level0 row6\" >Écart-type</th>\n      <td id=\"T_af434_row6_col0\" class=\"data row6 col0\" >278</td>\n    </tr>\n  </tbody>\n</table>\n",
      "application/papermill.record/text/plain": "<IPython.core.display.HTML object>"
     },
     "metadata": {
      "scrapbook": {
       "mime_prefix": "application/papermill.record/",
       "name": "table_one"
      }
     },
     "output_type": "display_data"
    },
    {
     "data": {
      "application/papermill.record/text/html": "<style type=\"text/css\">\n#T_a28ed tr:nth-child(even) {\n  background-color: rgba(139, 69, 19, 0.08);\n}\n#T_a28ed tr:nth-child(odd) {\n  background: #FFF;\n}\n#T_a28ed tr {\n  font-size: 14px;\n  padding: 6px;\n}\n#T_a28ed th:nth-child(1) {\n  background-color: #FFF;\n  white-space: nowrap;\n  word-break: keep-all;\n}\n#T_a28ed caption {\n  caption-side: top;\n  font-size: 12px;\n  text-align: left;\n  margin-top: 12px;\n}\n</style>\n<table id=\"T_a28ed\">\n  <caption> </caption>\n  <thead>\n    <tr>\n      <th class=\"blank level0\" >&nbsp;</th>\n      <th id=\"T_a28ed_level0_col0\" class=\"col_heading level0 col0\" >Résultats</th>\n    </tr>\n  </thead>\n  <tbody>\n    <tr>\n      <th id=\"T_a28ed_level0_row0\" class=\"row_heading level0 row0\" >Min</th>\n      <td id=\"T_a28ed_row0_col0\" class=\"data row0 col0\" >19</td>\n    </tr>\n    <tr>\n      <th id=\"T_a28ed_level0_row1\" class=\"row_heading level0 row1\" >25%</th>\n      <td id=\"T_a28ed_row1_col0\" class=\"data row1 col0\" >71</td>\n    </tr>\n    <tr>\n      <th id=\"T_a28ed_level0_row2\" class=\"row_heading level0 row2\" >50%</th>\n      <td id=\"T_a28ed_row2_col0\" class=\"data row2 col0\" >125</td>\n    </tr>\n    <tr>\n      <th id=\"T_a28ed_level0_row3\" class=\"row_heading level0 row3\" >75%</th>\n      <td id=\"T_a28ed_row3_col0\" class=\"data row3 col0\" >201</td>\n    </tr>\n    <tr>\n      <th id=\"T_a28ed_level0_row4\" class=\"row_heading level0 row4\" >Max</th>\n      <td id=\"T_a28ed_row4_col0\" class=\"data row4 col0\" >1'492</td>\n    </tr>\n    <tr>\n      <th id=\"T_a28ed_level0_row5\" class=\"row_heading level0 row5\" >Moyenne</th>\n      <td id=\"T_a28ed_row5_col0\" class=\"data row5 col0\" >175</td>\n    </tr>\n    <tr>\n      <th id=\"T_a28ed_level0_row6\" class=\"row_heading level0 row6\" >Écart-type</th>\n      <td id=\"T_a28ed_row6_col0\" class=\"data row6 col0\" >191</td>\n    </tr>\n  </tbody>\n</table>\n",
      "application/papermill.record/text/plain": "<IPython.core.display.HTML object>"
     },
     "metadata": {
      "scrapbook": {
       "mime_prefix": "application/papermill.record/",
       "name": "table_two"
      }
     },
     "output_type": "display_data"
    },
    {
     "data": {
      "application/papermill.record/text/html": "<style type=\"text/css\">\n#T_d6ae1 tr:nth-child(even) {\n  background-color: rgba(139, 69, 19, 0.08);\n}\n#T_d6ae1 tr:nth-child(odd) {\n  background: #FFF;\n}\n#T_d6ae1 tr {\n  font-size: 14px;\n  padding: 6px;\n}\n#T_d6ae1 th:nth-child(1) {\n  background-color: #FFF;\n  white-space: nowrap;\n  word-break: keep-all;\n}\n#T_d6ae1 caption {\n  caption-side: top;\n  font-size: 12px;\n  text-align: left;\n  margin-top: 12px;\n}\n</style>\n<table id=\"T_d6ae1\">\n  <thead>\n    <tr>\n      <th class=\"blank level0\" >&nbsp;</th>\n      <th id=\"T_d6ae1_level0_col0\" class=\"col_heading level0 col0\" >Ligne d'eau</th>\n      <th id=\"T_d6ae1_level0_col1\" class=\"col_heading level0 col1\" >Plage seche</th>\n    </tr>\n  </thead>\n  <tbody>\n    <tr>\n      <th id=\"T_d6ae1_level0_row0\" class=\"row_heading level0 row0\" >Échantillons</th>\n      <td id=\"T_d6ae1_row0_col0\" class=\"data row0 col0\" >111</td>\n      <td id=\"T_d6ae1_row0_col1\" class=\"data row0 col1\" >101</td>\n    </tr>\n    <tr>\n      <th id=\"T_d6ae1_level0_row1\" class=\"row_heading level0 row1\" >Moyenne</th>\n      <td id=\"T_d6ae1_row1_col0\" class=\"data row1 col0\" >116</td>\n      <td id=\"T_d6ae1_row1_col1\" class=\"data row1 col1\" >240</td>\n    </tr>\n    <tr>\n      <th id=\"T_d6ae1_level0_row2\" class=\"row_heading level0 row2\" >Écart type</th>\n      <td id=\"T_d6ae1_row2_col0\" class=\"data row2 col0\" >125</td>\n      <td id=\"T_d6ae1_row2_col1\" class=\"data row2 col1\" >227</td>\n    </tr>\n    <tr>\n      <th id=\"T_d6ae1_level0_row3\" class=\"row_heading level0 row3\" >Min</th>\n      <td id=\"T_d6ae1_row3_col0\" class=\"data row3 col0\" >19</td>\n      <td id=\"T_d6ae1_row3_col1\" class=\"data row3 col1\" >37</td>\n    </tr>\n    <tr>\n      <th id=\"T_d6ae1_level0_row4\" class=\"row_heading level0 row4\" >25%</th>\n      <td id=\"T_d6ae1_row4_col0\" class=\"data row4 col0\" >53</td>\n      <td id=\"T_d6ae1_row4_col1\" class=\"data row4 col1\" >116</td>\n    </tr>\n    <tr>\n      <th id=\"T_d6ae1_level0_row5\" class=\"row_heading level0 row5\" >50%</th>\n      <td id=\"T_d6ae1_row5_col0\" class=\"data row5 col0\" >85</td>\n      <td id=\"T_d6ae1_row5_col1\" class=\"data row5 col1\" >185</td>\n    </tr>\n    <tr>\n      <th id=\"T_d6ae1_level0_row6\" class=\"row_heading level0 row6\" >75%</th>\n      <td id=\"T_d6ae1_row6_col0\" class=\"data row6 col0\" >129</td>\n      <td id=\"T_d6ae1_row6_col1\" class=\"data row6 col1\" >262</td>\n    </tr>\n    <tr>\n      <th id=\"T_d6ae1_level0_row7\" class=\"row_heading level0 row7\" >Max</th>\n      <td id=\"T_d6ae1_row7_col0\" class=\"data row7 col0\" >884</td>\n      <td id=\"T_d6ae1_row7_col1\" class=\"data row7 col1\" >1'492</td>\n    </tr>\n  </tbody>\n</table>\n",
      "application/papermill.record/text/plain": "<IPython.core.display.HTML object>"
     },
     "metadata": {
      "scrapbook": {
       "mime_prefix": "application/papermill.record/",
       "name": "table_three"
      }
     },
     "output_type": "display_data"
    },
    {
     "data": {
      "application/papermill.record/text/html": "<style type=\"text/css\">\n#T_d737d tr:nth-child(even) {\n  background-color: rgba(139, 69, 19, 0.08);\n}\n#T_d737d tr:nth-child(odd) {\n  background: #FFF;\n}\n#T_d737d tr {\n  font-size: 14px;\n  padding: 6px;\n}\n#T_d737d th:nth-child(1) {\n  background-color: #FFF;\n  white-space: nowrap;\n  word-break: keep-all;\n}\n#T_d737d caption {\n  caption-side: top;\n  font-size: 12px;\n  text-align: left;\n  margin-top: 12px;\n}\n</style>\n<table id=\"T_d737d\">\n  <thead>\n    <tr>\n      <th class=\"blank level0\" >&nbsp;</th>\n      <th id=\"T_d737d_level0_col0\" class=\"col_heading level0 col0\" >Ligne d'eau</th>\n      <th id=\"T_d737d_level0_col1\" class=\"col_heading level0 col1\" >Plage seche</th>\n    </tr>\n  </thead>\n  <tbody>\n    <tr>\n      <th id=\"T_d737d_level0_row0\" class=\"row_heading level0 row0\" >Moyenne</th>\n      <td id=\"T_d737d_row0_col0\" class=\"data row0 col0\" >0,83</td>\n      <td id=\"T_d737d_row0_col1\" class=\"data row0 col1\" >0,69</td>\n    </tr>\n    <tr>\n      <th id=\"T_d737d_level0_row1\" class=\"row_heading level0 row1\" >Écart type</th>\n      <td id=\"T_d737d_row1_col0\" class=\"data row1 col0\" >1,26</td>\n      <td id=\"T_d737d_row1_col1\" class=\"data row1 col1\" >0,73</td>\n    </tr>\n    <tr>\n      <th id=\"T_d737d_level0_row2\" class=\"row_heading level0 row2\" >Min</th>\n      <td id=\"T_d737d_row2_col0\" class=\"data row2 col0\" >0,02</td>\n      <td id=\"T_d737d_row2_col1\" class=\"data row2 col1\" >0,01</td>\n    </tr>\n    <tr>\n      <th id=\"T_d737d_level0_row3\" class=\"row_heading level0 row3\" >25%</th>\n      <td id=\"T_d737d_row3_col0\" class=\"data row3 col0\" >0,18</td>\n      <td id=\"T_d737d_row3_col1\" class=\"data row3 col1\" >0,17</td>\n    </tr>\n    <tr>\n      <th id=\"T_d737d_level0_row4\" class=\"row_heading level0 row4\" >50%</th>\n      <td id=\"T_d737d_row4_col0\" class=\"data row4 col0\" >0,36</td>\n      <td id=\"T_d737d_row4_col1\" class=\"data row4 col1\" >0,40</td>\n    </tr>\n    <tr>\n      <th id=\"T_d737d_level0_row5\" class=\"row_heading level0 row5\" >75%</th>\n      <td id=\"T_d737d_row5_col0\" class=\"data row5 col0\" >0,91</td>\n      <td id=\"T_d737d_row5_col1\" class=\"data row5 col1\" >1,07</td>\n    </tr>\n    <tr>\n      <th id=\"T_d737d_level0_row6\" class=\"row_heading level0 row6\" >Max</th>\n      <td id=\"T_d737d_row6_col0\" class=\"data row6 col0\" >7,59</td>\n      <td id=\"T_d737d_row6_col1\" class=\"data row6 col1\" >3,05</td>\n    </tr>\n  </tbody>\n</table>\n",
      "application/papermill.record/text/plain": "<IPython.core.display.HTML object>"
     },
     "metadata": {
      "scrapbook": {
       "mime_prefix": "application/papermill.record/",
       "name": "table_eight"
      }
     },
     "output_type": "display_data"
    },
    {
     "data": {
      "application/papermill.record/text/html": "<style type=\"text/css\">\n#T_d4d6b tr:nth-child(even) {\n  background-color: rgba(139, 69, 19, 0.08);\n}\n#T_d4d6b tr:nth-child(odd) {\n  background: #FFF;\n}\n#T_d4d6b tr {\n  font-size: 14px;\n  padding: 6px;\n}\n#T_d4d6b th:nth-child(1) {\n  background-color: #FFF;\n  white-space: nowrap;\n  word-break: keep-all;\n}\n#T_d4d6b caption {\n  caption-side: top;\n  font-size: 12px;\n  text-align: left;\n  margin-top: 12px;\n}\n</style>\n<table id=\"T_d4d6b\">\n  <thead>\n    <tr>\n      <th class=\"blank level0\" >&nbsp;</th>\n      <th id=\"T_d4d6b_level0_col0\" class=\"col_heading level0 col0\" >quantité</th>\n      <th id=\"T_d4d6b_level0_col1\" class=\"col_heading level0 col1\" >% du total</th>\n      <th id=\"T_d4d6b_level0_col2\" class=\"col_heading level0 col2\" >pcs/m</th>\n      <th id=\"T_d4d6b_level0_col3\" class=\"col_heading level0 col3\" >taux d'échec</th>\n    </tr>\n  </thead>\n  <tbody>\n    <tr>\n      <th id=\"T_d4d6b_level0_row0\" class=\"row_heading level0 row0\" >Fragments de plastique > 5 mm </th>\n      <td id=\"T_d4d6b_row0_col0\" class=\"data row0 col0\" >11'221</td>\n      <td id=\"T_d4d6b_row0_col1\" class=\"data row0 col1\" >41%</td>\n      <td id=\"T_d4d6b_row0_col2\" class=\"data row0 col2\" >0,72</td>\n      <td id=\"T_d4d6b_row0_col3\" class=\"data row0 col3\" >0,97</td>\n    </tr>\n    <tr>\n      <th id=\"T_d4d6b_level0_row1\" class=\"row_heading level0 row1\" >Mégots et filtres à cigarettes</th>\n      <td id=\"T_d4d6b_row1_col0\" class=\"data row1 col0\" >3'089</td>\n      <td id=\"T_d4d6b_row1_col1\" class=\"data row1 col1\" >11%</td>\n      <td id=\"T_d4d6b_row1_col2\" class=\"data row1 col2\" >0,15</td>\n      <td id=\"T_d4d6b_row1_col3\" class=\"data row1 col3\" >0,79</td>\n    </tr>\n    <tr>\n      <th id=\"T_d4d6b_level0_row2\" class=\"row_heading level0 row2\" >Emballages de bonbons </th>\n      <td id=\"T_d4d6b_row2_col0\" class=\"data row2 col0\" >2'080</td>\n      <td id=\"T_d4d6b_row2_col1\" class=\"data row2 col1\" >8%</td>\n      <td id=\"T_d4d6b_row2_col2\" class=\"data row2 col2\" >0,15</td>\n      <td id=\"T_d4d6b_row2_col3\" class=\"data row2 col3\" >0,74</td>\n    </tr>\n    <tr>\n      <th id=\"T_d4d6b_level0_row3\" class=\"row_heading level0 row3\" >Fragments de plastique < 5mm</th>\n      <td id=\"T_d4d6b_row3_col0\" class=\"data row3 col0\" >1'926</td>\n      <td id=\"T_d4d6b_row3_col1\" class=\"data row3 col1\" >7%</td>\n      <td id=\"T_d4d6b_row3_col2\" class=\"data row3 col2\" >0,00</td>\n      <td id=\"T_d4d6b_row3_col3\" class=\"data row3 col3\" >0,41</td>\n    </tr>\n    <tr>\n      <th id=\"T_d4d6b_level0_row4\" class=\"row_heading level0 row4\" >Pellets industriels (gpi)</th>\n      <td id=\"T_d4d6b_row4_col0\" class=\"data row4 col0\" >1'526</td>\n      <td id=\"T_d4d6b_row4_col1\" class=\"data row4 col1\" >6%</td>\n      <td id=\"T_d4d6b_row4_col2\" class=\"data row4 col2\" >0,00</td>\n      <td id=\"T_d4d6b_row4_col3\" class=\"data row4 col3\" >0,36</td>\n    </tr>\n    <tr>\n      <th id=\"T_d4d6b_level0_row5\" class=\"row_heading level0 row5\" >Fragments de polystyrène </th>\n      <td id=\"T_d4d6b_row5_col0\" class=\"data row5 col0\" >1'399</td>\n      <td id=\"T_d4d6b_row5_col1\" class=\"data row5 col1\" >5%</td>\n      <td id=\"T_d4d6b_row5_col2\" class=\"data row5 col2\" >0,07</td>\n      <td id=\"T_d4d6b_row5_col3\" class=\"data row5 col3\" >0,72</td>\n    </tr>\n    <tr>\n      <th id=\"T_d4d6b_level0_row6\" class=\"row_heading level0 row6\" >Couvercles en plastique </th>\n      <td id=\"T_d4d6b_row6_col0\" class=\"data row6 col0\" >1'070</td>\n      <td id=\"T_d4d6b_row6_col1\" class=\"data row6 col1\" >4%</td>\n      <td id=\"T_d4d6b_row6_col2\" class=\"data row6 col2\" >0,04</td>\n      <td id=\"T_d4d6b_row6_col3\" class=\"data row6 col3\" >0,65</td>\n    </tr>\n    <tr>\n      <th id=\"T_d4d6b_level0_row7\" class=\"row_heading level0 row7\" >Coton-tige</th>\n      <td id=\"T_d4d6b_row7_col0\" class=\"data row7 col0\" >1'040</td>\n      <td id=\"T_d4d6b_row7_col1\" class=\"data row7 col1\" >4%</td>\n      <td id=\"T_d4d6b_row7_col2\" class=\"data row7 col2\" >0,03</td>\n      <td id=\"T_d4d6b_row7_col3\" class=\"data row7 col3\" >0,54</td>\n    </tr>\n    <tr>\n      <th id=\"T_d4d6b_level0_row8\" class=\"row_heading level0 row8\" >Mousse pour l'isolation </th>\n      <td id=\"T_d4d6b_row8_col0\" class=\"data row8 col0\" >406</td>\n      <td id=\"T_d4d6b_row8_col1\" class=\"data row8 col1\" >1%</td>\n      <td id=\"T_d4d6b_row8_col2\" class=\"data row8 col2\" >0,00</td>\n      <td id=\"T_d4d6b_row8_col3\" class=\"data row8 col3\" >0,38</td>\n    </tr>\n    <tr>\n      <th id=\"T_d4d6b_level0_row9\" class=\"row_heading level0 row9\" >Déchets de construction </th>\n      <td id=\"T_d4d6b_row9_col0\" class=\"data row9 col0\" >380</td>\n      <td id=\"T_d4d6b_row9_col1\" class=\"data row9 col1\" >1%</td>\n      <td id=\"T_d4d6b_row9_col2\" class=\"data row9 col2\" >0,00</td>\n      <td id=\"T_d4d6b_row9_col3\" class=\"data row9 col3\" >0,24</td>\n    </tr>\n    <tr>\n      <th id=\"T_d4d6b_level0_row10\" class=\"row_heading level0 row10\" >Bâtonnets de sucette</th>\n      <td id=\"T_d4d6b_row10_col0\" class=\"data row10 col0\" >379</td>\n      <td id=\"T_d4d6b_row10_col1\" class=\"data row10 col1\" >1%</td>\n      <td id=\"T_d4d6b_row10_col2\" class=\"data row10 col2\" >0,02</td>\n      <td id=\"T_d4d6b_row10_col3\" class=\"data row10 col3\" >0,54</td>\n    </tr>\n  </tbody>\n</table>\n",
      "application/papermill.record/text/plain": "<IPython.core.display.HTML object>"
     },
     "metadata": {
      "scrapbook": {
       "mime_prefix": "application/papermill.record/",
       "name": "table_nine"
      }
     },
     "output_type": "display_data"
    },
    {
     "data": {
      "application/papermill.record/text/html": "<style type=\"text/css\">\n#T_54f0b tr:nth-child(even) {\n  background-color: rgba(139, 69, 19, 0.08);\n}\n#T_54f0b tr:nth-child(odd) {\n  background: #FFF;\n}\n#T_54f0b tr {\n  font-size: 14px;\n  padding: 6px;\n}\n#T_54f0b th:nth-child(1) {\n  background-color: #FFF;\n  white-space: nowrap;\n  word-break: keep-all;\n}\n#T_54f0b caption {\n  caption-side: top;\n  font-size: 12px;\n  text-align: left;\n  margin-top: 12px;\n}\n#T_54f0b_row0_col0, #T_54f0b_row0_col1, #T_54f0b_row0_col4, #T_54f0b_row0_col5, #T_54f0b_row0_col6, #T_54f0b_row0_col9, #T_54f0b_row0_col11, #T_54f0b_row0_col12, #T_54f0b_row1_col0, #T_54f0b_row1_col2, #T_54f0b_row1_col5, #T_54f0b_row1_col6, #T_54f0b_row1_col11, #T_54f0b_row1_col12, #T_54f0b_row2_col5, #T_54f0b_row3_col1, #T_54f0b_row3_col6, #T_54f0b_row3_col9, #T_54f0b_row4_col5, #T_54f0b_row4_col6, #T_54f0b_row4_col8, #T_54f0b_row4_col9, #T_54f0b_row4_col10, #T_54f0b_row4_col11, #T_54f0b_row5_col1, #T_54f0b_row5_col2, #T_54f0b_row5_col5, #T_54f0b_row5_col6, #T_54f0b_row5_col7, #T_54f0b_row5_col9, #T_54f0b_row5_col11, #T_54f0b_row5_col12, #T_54f0b_row6_col0, #T_54f0b_row6_col1, #T_54f0b_row6_col2, #T_54f0b_row6_col5, #T_54f0b_row6_col6, #T_54f0b_row6_col7, #T_54f0b_row6_col9, #T_54f0b_row6_col11, #T_54f0b_row6_col12, #T_54f0b_row7_col2, #T_54f0b_row7_col5, #T_54f0b_row7_col6, #T_54f0b_row7_col7, #T_54f0b_row7_col11, #T_54f0b_row8_col1, #T_54f0b_row8_col5, #T_54f0b_row8_col9, #T_54f0b_row8_col11, #T_54f0b_row9_col5, #T_54f0b_row9_col6, #T_54f0b_row9_col11 {\n  background-color: rgba(255,255,255, .5);\n  color: black;\n}\n#T_54f0b_row0_col2, #T_54f0b_row9_col2 {\n  background-color: rgba(247,247,247, .5);\n  color: black;\n}\n#T_54f0b_row0_col3 {\n  background-color: rgba(251,137,55, .5);\n  color: black;\n}\n#T_54f0b_row0_col7 {\n  background-color: rgba(132,41,3, .5);\n  color: black;\n}\n#T_54f0b_row0_col8 {\n  background-color: rgba(254,243,231, .5);\n  color: black;\n}\n#T_54f0b_row0_col10 {\n  background-color: rgba(97,97,97, .5);\n  color: black;\n}\n#T_54f0b_row1_col1, #T_54f0b_row4_col1, #T_54f0b_row5_col8, #T_54f0b_row9_col1 {\n  background-color: rgba(253,253,253, .5);\n  color: black;\n}\n#T_54f0b_row1_col3 {\n  background-color: rgba(18,18,18, .5);\n  color: black;\n}\n#T_54f0b_row1_col4, #T_54f0b_row6_col4, #T_54f0b_row7_col9 {\n  background-color: rgba(249,249,249, .5);\n  color: black;\n}\n#T_54f0b_row1_col7 {\n  background-color: rgba(241,241,241, .5);\n  color: black;\n}\n#T_54f0b_row1_col8, #T_54f0b_row1_col10 {\n  background-color: rgba(120,120,120, .5);\n  color: black;\n}\n#T_54f0b_row1_col9, #T_54f0b_row9_col7 {\n  background-color: rgba(227,227,227, .5);\n  color: black;\n}\n#T_54f0b_row2_col0, #T_54f0b_row2_col11 {\n  background-color: rgba(210,210,210, .5);\n  color: black;\n}\n#T_54f0b_row2_col1 {\n  background-color: rgba(238,238,238, .5);\n  color: black;\n}\n#T_54f0b_row2_col2 {\n  background-color: rgba(174,174,174, .5);\n  color: black;\n}\n#T_54f0b_row2_col3 {\n  background-color: rgba(15,15,15, .5);\n  color: black;\n}\n#T_54f0b_row2_col4, #T_54f0b_row3_col10, #T_54f0b_row9_col10, #T_54f0b_row10_col0, #T_54f0b_row10_col3, #T_54f0b_row10_col4, #T_54f0b_row10_col7, #T_54f0b_row10_col10 {\n  background-color: rgba(127,39,4, .5);\n  color: black;\n}\n#T_54f0b_row2_col6, #T_54f0b_row8_col6 {\n  background-color: rgba(240,240,240, .5);\n  color: black;\n}\n#T_54f0b_row2_col7 {\n  background-color: rgba(61,61,61, .5);\n  color: black;\n}\n#T_54f0b_row2_col8 {\n  background-color: rgba(65,65,65, .5);\n  color: black;\n}\n#T_54f0b_row2_col9 {\n  background-color: rgba(218,218,218, .5);\n  color: black;\n}\n#T_54f0b_row2_col10 {\n  background-color: rgba(79,79,79, .5);\n  color: black;\n}\n#T_54f0b_row2_col12 {\n  background-color: rgba(198,198,198, .5);\n  color: black;\n}\n#T_54f0b_row3_col0 {\n  background-color: rgba(10,10,10, .5);\n  color: black;\n}\n#T_54f0b_row3_col2 {\n  background-color: rgba(230,230,230, .5);\n  color: black;\n}\n#T_54f0b_row3_col3 {\n  background-color: rgba(12,12,12, .5);\n  color: black;\n}\n#T_54f0b_row3_col4, #T_54f0b_row10_col2 {\n  background-color: rgba(140,140,140, .5);\n  color: black;\n}\n#T_54f0b_row3_col5, #T_54f0b_row4_col4, #T_54f0b_row8_col4 {\n  background-color: rgba(242,242,242, .5);\n  color: black;\n}\n#T_54f0b_row3_col7 {\n  background-color: rgba(206,206,206, .5);\n  color: black;\n}\n#T_54f0b_row3_col8 {\n  background-color: rgba(193,193,193, .5);\n  color: black;\n}\n#T_54f0b_row3_col11 {\n  background-color: rgba(248,248,248, .5);\n  color: black;\n}\n#T_54f0b_row3_col12, #T_54f0b_row4_col3 {\n  background-color: rgba(200,200,200, .5);\n  color: black;\n}\n#T_54f0b_row4_col0 {\n  background-color: rgba(212,212,212, .5);\n  color: black;\n}\n#T_54f0b_row4_col2 {\n  background-color: rgba(252,252,252, .5);\n  color: black;\n}\n#T_54f0b_row4_col7, #T_54f0b_row8_col7, #T_54f0b_row8_col8 {\n  background-color: rgba(237,237,237, .5);\n  color: black;\n}\n#T_54f0b_row4_col12, #T_54f0b_row5_col0, #T_54f0b_row5_col3, #T_54f0b_row7_col1 {\n  background-color: rgba(250,250,250, .5);\n  color: black;\n}\n#T_54f0b_row5_col4 {\n  background-color: rgba(99,99,99, .5);\n  color: black;\n}\n#T_54f0b_row5_col10 {\n  background-color: rgba(251,136,54, .5);\n  color: black;\n}\n#T_54f0b_row6_col3 {\n  background-color: rgba(254,234,213, .5);\n  color: black;\n}\n#T_54f0b_row6_col8, #T_54f0b_row7_col8 {\n  background-color: rgba(251,251,251, .5);\n  color: black;\n}\n#T_54f0b_row6_col10 {\n  background-color: rgba(139,139,139, .5);\n  color: black;\n}\n#T_54f0b_row7_col0 {\n  background-color: rgba(246,122,39, .5);\n  color: black;\n}\n#T_54f0b_row7_col3 {\n  background-color: rgba(177,177,177, .5);\n  color: black;\n}\n#T_54f0b_row7_col4 {\n  background-color: rgba(122,122,122, .5);\n  color: black;\n}\n#T_54f0b_row7_col10 {\n  background-color: rgba(253,214,175, .5);\n  color: black;\n}\n#T_54f0b_row7_col12 {\n  background-color: rgba(246,246,246, .5);\n  color: black;\n}\n#T_54f0b_row8_col0 {\n  background-color: rgba(253,153,77, .5);\n  color: black;\n}\n#T_54f0b_row8_col2 {\n  background-color: rgba(234,234,234, .5);\n  color: black;\n}\n#T_54f0b_row8_col3 {\n  background-color: rgba(29,29,29, .5);\n  color: black;\n}\n#T_54f0b_row8_col10 {\n  background-color: rgba(84,84,84, .5);\n  color: black;\n}\n#T_54f0b_row8_col12, #T_54f0b_row9_col8 {\n  background-color: rgba(245,245,245, .5);\n  color: black;\n}\n#T_54f0b_row9_col0 {\n  background-color: rgba(254,244,234, .5);\n  color: black;\n}\n#T_54f0b_row9_col3 {\n  background-color: rgba(105,105,105, .5);\n  color: black;\n}\n#T_54f0b_row9_col4 {\n  background-color: rgba(159,159,159, .5);\n  color: black;\n}\n#T_54f0b_row9_col9 {\n  background-color: rgba(254,237,220, .5);\n  color: black;\n}\n#T_54f0b_row9_col12 {\n  background-color: rgba(236,236,236, .5);\n  color: black;\n}\n#T_54f0b_row10_col1 {\n  background-color: rgba(103,103,103, .5);\n  color: black;\n}\n#T_54f0b_row10_col5 {\n  background-color: rgba(201,201,201, .5);\n  color: black;\n}\n#T_54f0b_row10_col6 {\n  background-color: rgba(203,203,203, .5);\n  color: black;\n}\n#T_54f0b_row10_col8 {\n  background-color: rgba(169,55,2, .5);\n  color: black;\n}\n#T_54f0b_row10_col9 {\n  background-color: rgba(253,167,97, .5);\n  color: black;\n}\n#T_54f0b_row10_col11 {\n  background-color: rgba(134,134,134, .5);\n  color: black;\n}\n#T_54f0b_row10_col12 {\n  background-color: rgba(244,115,30, .5);\n  color: black;\n}\n</style>\n<div style=\"max-width: 800px; overflow: scroll;\">\n<table id=\"T_54f0b\">\n  <thead>\n    <tr>\n      <th class=\"blank level0\" >&nbsp;</th>\n      <th id=\"T_54f0b_level0_col0\" class=\"col_heading level0 col0\" >Amphion</th>\n      <th id=\"T_54f0b_level0_col1\" class=\"col_heading level0 col1\" >Anthy</th>\n      <th id=\"T_54f0b_level0_col2\" class=\"col_heading level0 col2\" >Aubonne</th>\n      <th id=\"T_54f0b_level0_col3\" class=\"col_heading level0 col3\" >Bouveret</th>\n      <th id=\"T_54f0b_level0_col4\" class=\"col_heading level0 col4\" >Clarens</th>\n      <th id=\"T_54f0b_level0_col5\" class=\"col_heading level0 col5\" >Crans</th>\n      <th id=\"T_54f0b_level0_col6\" class=\"col_heading level0 col6\" >Cully</th>\n      <th id=\"T_54f0b_level0_col7\" class=\"col_heading level0 col7\" >Excenevex</th>\n      <th id=\"T_54f0b_level0_col8\" class=\"col_heading level0 col8\" >Genève</th>\n      <th id=\"T_54f0b_level0_col9\" class=\"col_heading level0 col9\" >Gland</th>\n      <th id=\"T_54f0b_level0_col10\" class=\"col_heading level0 col10\" >Grangettes</th>\n      <th id=\"T_54f0b_level0_col11\" class=\"col_heading level0 col11\" >Hermance</th>\n      <th id=\"T_54f0b_level0_col12\" class=\"col_heading level0 col12\" >Léman</th>\n    </tr>\n  </thead>\n  <tbody>\n    <tr>\n      <th id=\"T_54f0b_level0_row0\" class=\"row_heading level0 row0\" >Fragments plastique < 5mm</th>\n      <td id=\"T_54f0b_row0_col0\" class=\"data row0 col0\" >0,00</td>\n      <td id=\"T_54f0b_row0_col1\" class=\"data row0 col1\" >0,00</td>\n      <td id=\"T_54f0b_row0_col2\" class=\"data row0 col2\" >0,03</td>\n      <td id=\"T_54f0b_row0_col3\" class=\"data row0 col3\" >0,68</td>\n      <td id=\"T_54f0b_row0_col4\" class=\"data row0 col4\" >0,00</td>\n      <td id=\"T_54f0b_row0_col5\" class=\"data row0 col5\" >0,00</td>\n      <td id=\"T_54f0b_row0_col6\" class=\"data row0 col6\" >0,00</td>\n      <td id=\"T_54f0b_row0_col7\" class=\"data row0 col7\" >0,89</td>\n      <td id=\"T_54f0b_row0_col8\" class=\"data row0 col8\" >0,46</td>\n      <td id=\"T_54f0b_row0_col9\" class=\"data row0 col9\" >0,00</td>\n      <td id=\"T_54f0b_row0_col10\" class=\"data row0 col10\" >0,31</td>\n      <td id=\"T_54f0b_row0_col11\" class=\"data row0 col11\" >0,00</td>\n      <td id=\"T_54f0b_row0_col12\" class=\"data row0 col12\" >0,00</td>\n    </tr>\n    <tr>\n      <th id=\"T_54f0b_level0_row1\" class=\"row_heading level0 row1\" >Pellets industriels (gpi)</th>\n      <td id=\"T_54f0b_row1_col0\" class=\"data row1 col0\" >0,00</td>\n      <td id=\"T_54f0b_row1_col1\" class=\"data row1 col1\" >0,01</td>\n      <td id=\"T_54f0b_row1_col2\" class=\"data row1 col2\" >0,00</td>\n      <td id=\"T_54f0b_row1_col3\" class=\"data row1 col3\" >0,42</td>\n      <td id=\"T_54f0b_row1_col4\" class=\"data row1 col4\" >0,02</td>\n      <td id=\"T_54f0b_row1_col5\" class=\"data row1 col5\" >0,00</td>\n      <td id=\"T_54f0b_row1_col6\" class=\"data row1 col6\" >0,00</td>\n      <td id=\"T_54f0b_row1_col7\" class=\"data row1 col7\" >0,05</td>\n      <td id=\"T_54f0b_row1_col8\" class=\"data row1 col8\" >0,27</td>\n      <td id=\"T_54f0b_row1_col9\" class=\"data row1 col9\" >0,09</td>\n      <td id=\"T_54f0b_row1_col10\" class=\"data row1 col10\" >0,27</td>\n      <td id=\"T_54f0b_row1_col11\" class=\"data row1 col11\" >0,00</td>\n      <td id=\"T_54f0b_row1_col12\" class=\"data row1 col12\" >0,00</td>\n    </tr>\n    <tr>\n      <th id=\"T_54f0b_level0_row2\" class=\"row_heading level0 row2\" >Mégots et filtres à cigarettes</th>\n      <td id=\"T_54f0b_row2_col0\" class=\"data row2 col0\" >0,13</td>\n      <td id=\"T_54f0b_row2_col1\" class=\"data row2 col1\" >0,06</td>\n      <td id=\"T_54f0b_row2_col2\" class=\"data row2 col2\" >0,19</td>\n      <td id=\"T_54f0b_row2_col3\" class=\"data row2 col3\" >0,43</td>\n      <td id=\"T_54f0b_row2_col4\" class=\"data row2 col4\" >1,19</td>\n      <td id=\"T_54f0b_row2_col5\" class=\"data row2 col5\" >0,00</td>\n      <td id=\"T_54f0b_row2_col6\" class=\"data row2 col6\" >0,06</td>\n      <td id=\"T_54f0b_row2_col7\" class=\"data row2 col7\" >0,36</td>\n      <td id=\"T_54f0b_row2_col8\" class=\"data row2 col8\" >0,36</td>\n      <td id=\"T_54f0b_row2_col9\" class=\"data row2 col9\" >0,11</td>\n      <td id=\"T_54f0b_row2_col10\" class=\"data row2 col10\" >0,34</td>\n      <td id=\"T_54f0b_row2_col11\" class=\"data row2 col11\" >0,12</td>\n      <td id=\"T_54f0b_row2_col12\" class=\"data row2 col12\" >0,15</td>\n    </tr>\n    <tr>\n      <th id=\"T_54f0b_level0_row3\" class=\"row_heading level0 row3\" >Emballages de bonbons</th>\n      <td id=\"T_54f0b_row3_col0\" class=\"data row3 col0\" >0,43</td>\n      <td id=\"T_54f0b_row3_col1\" class=\"data row3 col1\" >0,00</td>\n      <td id=\"T_54f0b_row3_col2\" class=\"data row3 col2\" >0,08</td>\n      <td id=\"T_54f0b_row3_col3\" class=\"data row3 col3\" >0,43</td>\n      <td id=\"T_54f0b_row3_col4\" class=\"data row3 col4\" >0,24</td>\n      <td id=\"T_54f0b_row3_col5\" class=\"data row3 col5\" >0,05</td>\n      <td id=\"T_54f0b_row3_col6\" class=\"data row3 col6\" >0,00</td>\n      <td id=\"T_54f0b_row3_col7\" class=\"data row3 col7\" >0,13</td>\n      <td id=\"T_54f0b_row3_col8\" class=\"data row3 col8\" >0,16</td>\n      <td id=\"T_54f0b_row3_col9\" class=\"data row3 col9\" >0,00</td>\n      <td id=\"T_54f0b_row3_col10\" class=\"data row3 col10\" >1,67</td>\n      <td id=\"T_54f0b_row3_col11\" class=\"data row3 col11\" >0,02</td>\n      <td id=\"T_54f0b_row3_col12\" class=\"data row3 col12\" >0,15</td>\n    </tr>\n    <tr>\n      <th id=\"T_54f0b_level0_row4\" class=\"row_heading level0 row4\" >Bâtonnets de sucette</th>\n      <td id=\"T_54f0b_row4_col0\" class=\"data row4 col0\" >0,12</td>\n      <td id=\"T_54f0b_row4_col1\" class=\"data row4 col1\" >0,01</td>\n      <td id=\"T_54f0b_row4_col2\" class=\"data row4 col2\" >0,01</td>\n      <td id=\"T_54f0b_row4_col3\" class=\"data row4 col3\" >0,15</td>\n      <td id=\"T_54f0b_row4_col4\" class=\"data row4 col4\" >0,05</td>\n      <td id=\"T_54f0b_row4_col5\" class=\"data row4 col5\" >0,00</td>\n      <td id=\"T_54f0b_row4_col6\" class=\"data row4 col6\" >0,00</td>\n      <td id=\"T_54f0b_row4_col7\" class=\"data row4 col7\" >0,06</td>\n      <td id=\"T_54f0b_row4_col8\" class=\"data row4 col8\" >0,00</td>\n      <td id=\"T_54f0b_row4_col9\" class=\"data row4 col9\" >0,00</td>\n      <td id=\"T_54f0b_row4_col10\" class=\"data row4 col10\" >0,00</td>\n      <td id=\"T_54f0b_row4_col11\" class=\"data row4 col11\" >0,00</td>\n      <td id=\"T_54f0b_row4_col12\" class=\"data row4 col12\" >0,02</td>\n    </tr>\n    <tr>\n      <th id=\"T_54f0b_level0_row5\" class=\"row_heading level0 row5\" >Mousse pour l'isolation</th>\n      <td id=\"T_54f0b_row5_col0\" class=\"data row5 col0\" >0,02</td>\n      <td id=\"T_54f0b_row5_col1\" class=\"data row5 col1\" >0,00</td>\n      <td id=\"T_54f0b_row5_col2\" class=\"data row5 col2\" >0,00</td>\n      <td id=\"T_54f0b_row5_col3\" class=\"data row5 col3\" >0,02</td>\n      <td id=\"T_54f0b_row5_col4\" class=\"data row5 col4\" >0,31</td>\n      <td id=\"T_54f0b_row5_col5\" class=\"data row5 col5\" >0,00</td>\n      <td id=\"T_54f0b_row5_col6\" class=\"data row5 col6\" >0,00</td>\n      <td id=\"T_54f0b_row5_col7\" class=\"data row5 col7\" >0,00</td>\n      <td id=\"T_54f0b_row5_col8\" class=\"data row5 col8\" >0,01</td>\n      <td id=\"T_54f0b_row5_col9\" class=\"data row5 col9\" >0,00</td>\n      <td id=\"T_54f0b_row5_col10\" class=\"data row5 col10\" >0,68</td>\n      <td id=\"T_54f0b_row5_col11\" class=\"data row5 col11\" >0,00</td>\n      <td id=\"T_54f0b_row5_col12\" class=\"data row5 col12\" >0,00</td>\n    </tr>\n    <tr>\n      <th id=\"T_54f0b_level0_row6\" class=\"row_heading level0 row6\" >Déchets de construction</th>\n      <td id=\"T_54f0b_row6_col0\" class=\"data row6 col0\" >0,00</td>\n      <td id=\"T_54f0b_row6_col1\" class=\"data row6 col1\" >0,00</td>\n      <td id=\"T_54f0b_row6_col2\" class=\"data row6 col2\" >0,00</td>\n      <td id=\"T_54f0b_row6_col3\" class=\"data row6 col3\" >0,49</td>\n      <td id=\"T_54f0b_row6_col4\" class=\"data row6 col4\" >0,02</td>\n      <td id=\"T_54f0b_row6_col5\" class=\"data row6 col5\" >0,00</td>\n      <td id=\"T_54f0b_row6_col6\" class=\"data row6 col6\" >0,00</td>\n      <td id=\"T_54f0b_row6_col7\" class=\"data row6 col7\" >0,00</td>\n      <td id=\"T_54f0b_row6_col8\" class=\"data row6 col8\" >0,01</td>\n      <td id=\"T_54f0b_row6_col9\" class=\"data row6 col9\" >0,00</td>\n      <td id=\"T_54f0b_row6_col10\" class=\"data row6 col10\" >0,24</td>\n      <td id=\"T_54f0b_row6_col11\" class=\"data row6 col11\" >0,00</td>\n      <td id=\"T_54f0b_row6_col12\" class=\"data row6 col12\" >0,00</td>\n    </tr>\n    <tr>\n      <th id=\"T_54f0b_level0_row7\" class=\"row_heading level0 row7\" >Coton-tige</th>\n      <td id=\"T_54f0b_row7_col0\" class=\"data row7 col0\" >0,70</td>\n      <td id=\"T_54f0b_row7_col1\" class=\"data row7 col1\" >0,02</td>\n      <td id=\"T_54f0b_row7_col2\" class=\"data row7 col2\" >0,00</td>\n      <td id=\"T_54f0b_row7_col3\" class=\"data row7 col3\" >0,19</td>\n      <td id=\"T_54f0b_row7_col4\" class=\"data row7 col4\" >0,27</td>\n      <td id=\"T_54f0b_row7_col5\" class=\"data row7 col5\" >0,00</td>\n      <td id=\"T_54f0b_row7_col6\" class=\"data row7 col6\" >0,00</td>\n      <td id=\"T_54f0b_row7_col7\" class=\"data row7 col7\" >0,00</td>\n      <td id=\"T_54f0b_row7_col8\" class=\"data row7 col8\" >0,01</td>\n      <td id=\"T_54f0b_row7_col9\" class=\"data row7 col9\" >0,02</td>\n      <td id=\"T_54f0b_row7_col10\" class=\"data row7 col10\" >0,55</td>\n      <td id=\"T_54f0b_row7_col11\" class=\"data row7 col11\" >0,00</td>\n      <td id=\"T_54f0b_row7_col12\" class=\"data row7 col12\" >0,03</td>\n    </tr>\n    <tr>\n      <th id=\"T_54f0b_level0_row8\" class=\"row_heading level0 row8\" >Couvercles en plastique</th>\n      <td id=\"T_54f0b_row8_col0\" class=\"data row8 col0\" >0,65</td>\n      <td id=\"T_54f0b_row8_col1\" class=\"data row8 col1\" >0,00</td>\n      <td id=\"T_54f0b_row8_col2\" class=\"data row8 col2\" >0,07</td>\n      <td id=\"T_54f0b_row8_col3\" class=\"data row8 col3\" >0,41</td>\n      <td id=\"T_54f0b_row8_col4\" class=\"data row8 col4\" >0,05</td>\n      <td id=\"T_54f0b_row8_col5\" class=\"data row8 col5\" >0,00</td>\n      <td id=\"T_54f0b_row8_col6\" class=\"data row8 col6\" >0,06</td>\n      <td id=\"T_54f0b_row8_col7\" class=\"data row8 col7\" >0,06</td>\n      <td id=\"T_54f0b_row8_col8\" class=\"data row8 col8\" >0,06</td>\n      <td id=\"T_54f0b_row8_col9\" class=\"data row8 col9\" >0,00</td>\n      <td id=\"T_54f0b_row8_col10\" class=\"data row8 col10\" >0,33</td>\n      <td id=\"T_54f0b_row8_col11\" class=\"data row8 col11\" >0,00</td>\n      <td id=\"T_54f0b_row8_col12\" class=\"data row8 col12\" >0,04</td>\n    </tr>\n    <tr>\n      <th id=\"T_54f0b_level0_row9\" class=\"row_heading level0 row9\" >Fragments de polystyrène</th>\n      <td id=\"T_54f0b_row9_col0\" class=\"data row9 col0\" >0,45</td>\n      <td id=\"T_54f0b_row9_col1\" class=\"data row9 col1\" >0,01</td>\n      <td id=\"T_54f0b_row9_col2\" class=\"data row9 col2\" >0,03</td>\n      <td id=\"T_54f0b_row9_col3\" class=\"data row9 col3\" >0,30</td>\n      <td id=\"T_54f0b_row9_col4\" class=\"data row9 col4\" >0,21</td>\n      <td id=\"T_54f0b_row9_col5\" class=\"data row9 col5\" >0,00</td>\n      <td id=\"T_54f0b_row9_col6\" class=\"data row9 col6\" >0,00</td>\n      <td id=\"T_54f0b_row9_col7\" class=\"data row9 col7\" >0,09</td>\n      <td id=\"T_54f0b_row9_col8\" class=\"data row9 col8\" >0,04</td>\n      <td id=\"T_54f0b_row9_col9\" class=\"data row9 col9\" >0,48</td>\n      <td id=\"T_54f0b_row9_col10\" class=\"data row9 col10\" >1,31</td>\n      <td id=\"T_54f0b_row9_col11\" class=\"data row9 col11\" >0,00</td>\n      <td id=\"T_54f0b_row9_col12\" class=\"data row9 col12\" >0,07</td>\n    </tr>\n    <tr>\n      <th id=\"T_54f0b_level0_row10\" class=\"row_heading level0 row10\" >Fragments de plastique > 5 mm</th>\n      <td id=\"T_54f0b_row10_col0\" class=\"data row10 col0\" >2,82</td>\n      <td id=\"T_54f0b_row10_col1\" class=\"data row10 col1\" >0,30</td>\n      <td id=\"T_54f0b_row10_col2\" class=\"data row10 col2\" >0,24</td>\n      <td id=\"T_54f0b_row10_col3\" class=\"data row10 col3\" >2,18</td>\n      <td id=\"T_54f0b_row10_col4\" class=\"data row10 col4\" >1,34</td>\n      <td id=\"T_54f0b_row10_col5\" class=\"data row10 col5\" >0,14</td>\n      <td id=\"T_54f0b_row10_col6\" class=\"data row10 col6\" >0,14</td>\n      <td id=\"T_54f0b_row10_col7\" class=\"data row10 col7\" >5,17</td>\n      <td id=\"T_54f0b_row10_col8\" class=\"data row10 col8\" >0,84</td>\n      <td id=\"T_54f0b_row10_col9\" class=\"data row10 col9\" >0,63</td>\n      <td id=\"T_54f0b_row10_col10\" class=\"data row10 col10\" >5,79</td>\n      <td id=\"T_54f0b_row10_col11\" class=\"data row10 col11\" >0,25</td>\n      <td id=\"T_54f0b_row10_col12\" class=\"data row10 col12\" >0,72</td>\n    </tr>\n  </tbody>\n</table>\n</div>",
      "application/papermill.record/text/plain": "<IPython.core.display.HTML object>"
     },
     "metadata": {
      "scrapbook": {
       "mime_prefix": "application/papermill.record/",
       "name": "figure_eighta"
      }
     },
     "output_type": "display_data"
    },
    {
     "data": {
      "application/papermill.record/text/html": "<style type=\"text/css\">\n#T_49d4a tr:nth-child(even) {\n  background-color: rgba(139, 69, 19, 0.08);\n}\n#T_49d4a tr:nth-child(odd) {\n  background: #FFF;\n}\n#T_49d4a tr {\n  font-size: 14px;\n  padding: 6px;\n}\n#T_49d4a th:nth-child(1) {\n  background-color: #FFF;\n  white-space: nowrap;\n  word-break: keep-all;\n}\n#T_49d4a caption {\n  caption-side: top;\n  font-size: 12px;\n  text-align: left;\n  margin-top: 12px;\n}\n#T_49d4a_row0_col0, #T_49d4a_row0_col1, #T_49d4a_row0_col3, #T_49d4a_row0_col6, #T_49d4a_row0_col7, #T_49d4a_row0_col9, #T_49d4a_row0_col10, #T_49d4a_row0_col12, #T_49d4a_row1_col0, #T_49d4a_row1_col1, #T_49d4a_row1_col2, #T_49d4a_row1_col4, #T_49d4a_row1_col5, #T_49d4a_row1_col6, #T_49d4a_row1_col7, #T_49d4a_row1_col8, #T_49d4a_row1_col9, #T_49d4a_row1_col10, #T_49d4a_row1_col12, #T_49d4a_row2_col1, #T_49d4a_row2_col7, #T_49d4a_row2_col9, #T_49d4a_row3_col2, #T_49d4a_row4_col2, #T_49d4a_row4_col9, #T_49d4a_row4_col10, #T_49d4a_row5_col0, #T_49d4a_row5_col1, #T_49d4a_row5_col3, #T_49d4a_row5_col4, #T_49d4a_row5_col6, #T_49d4a_row5_col7, #T_49d4a_row5_col8, #T_49d4a_row5_col10, #T_49d4a_row5_col12, #T_49d4a_row6_col1, #T_49d4a_row6_col2, #T_49d4a_row6_col4, #T_49d4a_row6_col6, #T_49d4a_row6_col7, #T_49d4a_row6_col8, #T_49d4a_row6_col9, #T_49d4a_row6_col10, #T_49d4a_row6_col11, #T_49d4a_row6_col12, #T_49d4a_row7_col1, #T_49d4a_row7_col4, #T_49d4a_row7_col7, #T_49d4a_row7_col10, #T_49d4a_row8_col2, #T_49d4a_row8_col7, #T_49d4a_row8_col8, #T_49d4a_row9_col10 {\n  background-color: rgba(255,255,255, .5);\n  color: black;\n}\n#T_49d4a_row0_col2, #T_49d4a_row8_col1 {\n  background-color: rgba(244,244,244, .5);\n  color: black;\n}\n#T_49d4a_row0_col4 {\n  background-color: rgba(253,177,113, .5);\n  color: black;\n}\n#T_49d4a_row0_col5, #T_49d4a_row0_col8, #T_49d4a_row4_col0, #T_49d4a_row5_col2, #T_49d4a_row7_col2 {\n  background-color: rgba(249,249,249, .5);\n  color: black;\n}\n#T_49d4a_row0_col11 {\n  background-color: rgba(179,179,179, .5);\n  color: black;\n}\n#T_49d4a_row1_col3 {\n  background-color: rgba(191,62,2, .5);\n  color: black;\n}\n#T_49d4a_row1_col11 {\n  background-color: rgba(199,199,199, .5);\n  color: black;\n}\n#T_49d4a_row2_col0, #T_49d4a_row5_col9 {\n  background-color: rgba(228,228,228, .5);\n  color: black;\n}\n#T_49d4a_row2_col2 {\n  background-color: rgba(230,230,230, .5);\n  color: black;\n}\n#T_49d4a_row2_col3 {\n  background-color: rgba(22,22,22, .5);\n  color: black;\n}\n#T_49d4a_row2_col4 {\n  background-color: rgba(253,147,69, .5);\n  color: black;\n}\n#T_49d4a_row2_col5 {\n  background-color: rgba(75,75,75, .5);\n  color: black;\n}\n#T_49d4a_row2_col6 {\n  background-color: rgba(173,173,173, .5);\n  color: black;\n}\n#T_49d4a_row2_col8 {\n  background-color: rgba(253,217,180, .5);\n  color: black;\n}\n#T_49d4a_row2_col10, #T_49d4a_row8_col12 {\n  background-color: rgba(245,245,245, .5);\n  color: black;\n}\n#T_49d4a_row2_col11, #T_49d4a_row10_col1, #T_49d4a_row10_col3, #T_49d4a_row10_col4, #T_49d4a_row10_col5, #T_49d4a_row10_col9, #T_49d4a_row10_col11 {\n  background-color: rgba(127,39,4, .5);\n  color: black;\n}\n#T_49d4a_row2_col12 {\n  background-color: rgba(198,198,198, .5);\n  color: black;\n}\n#T_49d4a_row3_col0 {\n  background-color: rgba(95,95,95, .5);\n  color: black;\n}\n#T_49d4a_row3_col1, #T_49d4a_row9_col8 {\n  background-color: rgba(242,242,242, .5);\n  color: black;\n}\n#T_49d4a_row3_col3 {\n  background-color: rgba(125,125,125, .5);\n  color: black;\n}\n#T_49d4a_row3_col4 {\n  background-color: rgba(157,157,157, .5);\n  color: black;\n}\n#T_49d4a_row3_col5 {\n  background-color: rgba(253,173,105, .5);\n  color: black;\n}\n#T_49d4a_row3_col6 {\n  background-color: rgba(109,109,109, .5);\n  color: black;\n}\n#T_49d4a_row3_col7 {\n  background-color: rgba(223,223,223, .5);\n  color: black;\n}\n#T_49d4a_row3_col8 {\n  background-color: rgba(221,221,221, .5);\n  color: black;\n}\n#T_49d4a_row3_col9, #T_49d4a_row9_col2 {\n  background-color: rgba(167,167,167, .5);\n  color: black;\n}\n#T_49d4a_row3_col10, #T_49d4a_row10_col10 {\n  background-color: rgba(241,241,241, .5);\n  color: black;\n}\n#T_49d4a_row3_col11 {\n  background-color: rgba(253,152,76, .5);\n  color: black;\n}\n#T_49d4a_row3_col12, #T_49d4a_row7_col6, #T_49d4a_row9_col5 {\n  background-color: rgba(200,200,200, .5);\n  color: black;\n}\n#T_49d4a_row4_col1 {\n  background-color: rgba(134,134,134, .5);\n  color: black;\n}\n#T_49d4a_row4_col3, #T_49d4a_row4_col4, #T_49d4a_row8_col4 {\n  background-color: rgba(252,252,252, .5);\n  color: black;\n}\n#T_49d4a_row4_col5, #T_49d4a_row5_col5, #T_49d4a_row8_col9 {\n  background-color: rgba(232,232,232, .5);\n  color: black;\n}\n#T_49d4a_row4_col6, #T_49d4a_row8_col0 {\n  background-color: rgba(233,233,233, .5);\n  color: black;\n}\n#T_49d4a_row4_col7, #T_49d4a_row6_col3, #T_49d4a_row8_col10, #T_49d4a_row9_col7, #T_49d4a_row9_col11 {\n  background-color: rgba(251,251,251, .5);\n  color: black;\n}\n#T_49d4a_row4_col8, #T_49d4a_row4_col12, #T_49d4a_row9_col6 {\n  background-color: rgba(250,250,250, .5);\n  color: black;\n}\n#T_49d4a_row4_col11 {\n  background-color: rgba(237,237,237, .5);\n  color: black;\n}\n#T_49d4a_row5_col11 {\n  background-color: rgba(239,239,239, .5);\n  color: black;\n}\n#T_49d4a_row6_col0, #T_49d4a_row6_col5, #T_49d4a_row7_col8, #T_49d4a_row9_col9 {\n  background-color: rgba(253,253,253, .5);\n  color: black;\n}\n#T_49d4a_row7_col0, #T_49d4a_row8_col6 {\n  background-color: rgba(205,205,205, .5);\n  color: black;\n}\n#T_49d4a_row7_col3 {\n  background-color: rgba(238,238,238, .5);\n  color: black;\n}\n#T_49d4a_row7_col5 {\n  background-color: rgba(146,146,146, .5);\n  color: black;\n}\n#T_49d4a_row7_col9 {\n  background-color: rgba(197,197,197, .5);\n  color: black;\n}\n#T_49d4a_row7_col11 {\n  background-color: rgba(106,106,106, .5);\n  color: black;\n}\n#T_49d4a_row7_col12 {\n  background-color: rgba(246,246,246, .5);\n  color: black;\n}\n#T_49d4a_row8_col3 {\n  background-color: rgba(247,247,247, .5);\n  color: black;\n}\n#T_49d4a_row8_col5 {\n  background-color: rgba(98,98,98, .5);\n  color: black;\n}\n#T_49d4a_row8_col11 {\n  background-color: rgba(192,192,192, .5);\n  color: black;\n}\n#T_49d4a_row9_col0 {\n  background-color: rgba(254,241,227, .5);\n  color: black;\n}\n#T_49d4a_row9_col1 {\n  background-color: rgba(225,225,225, .5);\n  color: black;\n}\n#T_49d4a_row9_col3 {\n  background-color: rgba(178,178,178, .5);\n  color: black;\n}\n#T_49d4a_row9_col4 {\n  background-color: rgba(191,191,191, .5);\n  color: black;\n}\n#T_49d4a_row9_col12 {\n  background-color: rgba(236,236,236, .5);\n  color: black;\n}\n#T_49d4a_row10_col0 {\n  background-color: rgba(254,233,212, .5);\n  color: black;\n}\n#T_49d4a_row10_col2 {\n  background-color: rgba(181,181,181, .5);\n  color: black;\n}\n#T_49d4a_row10_col6 {\n  background-color: rgba(219,75,2, .5);\n  color: black;\n}\n#T_49d4a_row10_col7 {\n  background-color: rgba(161,161,161, .5);\n  color: black;\n}\n#T_49d4a_row10_col8 {\n  background-color: rgba(99,99,99, .5);\n  color: black;\n}\n#T_49d4a_row10_col12 {\n  background-color: rgba(244,115,30, .5);\n  color: black;\n}\n</style>\n<div style=\"max-width: 800px; overflow: scroll;\">\n<table id=\"T_49d4a\">\n  <thead>\n    <tr>\n      <th class=\"blank level0\" >&nbsp;</th>\n      <th id=\"T_49d4a_level0_col0\" class=\"col_heading level0 col0\" >Lugrin</th>\n      <th id=\"T_49d4a_level0_col1\" class=\"col_heading level0 col1\" >Lutry</th>\n      <th id=\"T_49d4a_level0_col2\" class=\"col_heading level0 col2\" >Meillerie</th>\n      <th id=\"T_49d4a_level0_col3\" class=\"col_heading level0 col3\" >Préverenges</th>\n      <th id=\"T_49d4a_level0_col4\" class=\"col_heading level0 col4\" >Rolle</th>\n      <th id=\"T_49d4a_level0_col5\" class=\"col_heading level0 col5\" >Saint-Disdille</th>\n      <th id=\"T_49d4a_level0_col6\" class=\"col_heading level0 col6\" >Savonière</th>\n      <th id=\"T_49d4a_level0_col7\" class=\"col_heading level0 col7\" >Tolochenaz</th>\n      <th id=\"T_49d4a_level0_col8\" class=\"col_heading level0 col8\" >Tougues</th>\n      <th id=\"T_49d4a_level0_col9\" class=\"col_heading level0 col9\" >Versoix</th>\n      <th id=\"T_49d4a_level0_col10\" class=\"col_heading level0 col10\" >Vevey</th>\n      <th id=\"T_49d4a_level0_col11\" class=\"col_heading level0 col11\" >Vidy</th>\n      <th id=\"T_49d4a_level0_col12\" class=\"col_heading level0 col12\" >Léman</th>\n    </tr>\n  </thead>\n  <tbody>\n    <tr>\n      <th id=\"T_49d4a_level0_row0\" class=\"row_heading level0 row0\" >Fragments plastique < 5 mm</th>\n      <td id=\"T_49d4a_row0_col0\" class=\"data row0 col0\" >0,00</td>\n      <td id=\"T_49d4a_row0_col1\" class=\"data row0 col1\" >0,00</td>\n      <td id=\"T_49d4a_row0_col2\" class=\"data row0 col2\" >0,04</td>\n      <td id=\"T_49d4a_row0_col3\" class=\"data row0 col3\" >0,00</td>\n      <td id=\"T_49d4a_row0_col4\" class=\"data row0 col4\" >0,61</td>\n      <td id=\"T_49d4a_row0_col5\" class=\"data row0 col5\" >0,02</td>\n      <td id=\"T_49d4a_row0_col6\" class=\"data row0 col6\" >0,00</td>\n      <td id=\"T_49d4a_row0_col7\" class=\"data row0 col7\" >0,00</td>\n      <td id=\"T_49d4a_row0_col8\" class=\"data row0 col8\" >0,02</td>\n      <td id=\"T_49d4a_row0_col9\" class=\"data row0 col9\" >0,00</td>\n      <td id=\"T_49d4a_row0_col10\" class=\"data row0 col10\" >0,00</td>\n      <td id=\"T_49d4a_row0_col11\" class=\"data row0 col11\" >0,18</td>\n      <td id=\"T_49d4a_row0_col12\" class=\"data row0 col12\" >0,00</td>\n    </tr>\n    <tr>\n      <th id=\"T_49d4a_level0_row1\" class=\"row_heading level0 row1\" >Pellets industriels (gpi)</th>\n      <td id=\"T_49d4a_row1_col0\" class=\"data row1 col0\" >0,00</td>\n      <td id=\"T_49d4a_row1_col1\" class=\"data row1 col1\" >0,00</td>\n      <td id=\"T_49d4a_row1_col2\" class=\"data row1 col2\" >0,00</td>\n      <td id=\"T_49d4a_row1_col3\" class=\"data row1 col3\" >0,82</td>\n      <td id=\"T_49d4a_row1_col4\" class=\"data row1 col4\" >0,00</td>\n      <td id=\"T_49d4a_row1_col5\" class=\"data row1 col5\" >0,00</td>\n      <td id=\"T_49d4a_row1_col6\" class=\"data row1 col6\" >0,00</td>\n      <td id=\"T_49d4a_row1_col7\" class=\"data row1 col7\" >0,00</td>\n      <td id=\"T_49d4a_row1_col8\" class=\"data row1 col8\" >0,00</td>\n      <td id=\"T_49d4a_row1_col9\" class=\"data row1 col9\" >0,00</td>\n      <td id=\"T_49d4a_row1_col10\" class=\"data row1 col10\" >0,00</td>\n      <td id=\"T_49d4a_row1_col11\" class=\"data row1 col11\" >0,15</td>\n      <td id=\"T_49d4a_row1_col12\" class=\"data row1 col12\" >0,00</td>\n    </tr>\n    <tr>\n      <th id=\"T_49d4a_level0_row2\" class=\"row_heading level0 row2\" >Mégots et filtres à cigarettes</th>\n      <td id=\"T_49d4a_row2_col0\" class=\"data row2 col0\" >0,09</td>\n      <td id=\"T_49d4a_row2_col1\" class=\"data row2 col1\" >0,00</td>\n      <td id=\"T_49d4a_row2_col2\" class=\"data row2 col2\" >0,08</td>\n      <td id=\"T_49d4a_row2_col3\" class=\"data row2 col3\" >0,42</td>\n      <td id=\"T_49d4a_row2_col4\" class=\"data row2 col4\" >0,66</td>\n      <td id=\"T_49d4a_row2_col5\" class=\"data row2 col5\" >0,34</td>\n      <td id=\"T_49d4a_row2_col6\" class=\"data row2 col6\" >0,19</td>\n      <td id=\"T_49d4a_row2_col7\" class=\"data row2 col7\" >0,00</td>\n      <td id=\"T_49d4a_row2_col8\" class=\"data row2 col8\" >0,54</td>\n      <td id=\"T_49d4a_row2_col9\" class=\"data row2 col9\" >0,00</td>\n      <td id=\"T_49d4a_row2_col10\" class=\"data row2 col10\" >0,04</td>\n      <td id=\"T_49d4a_row2_col11\" class=\"data row2 col11\" >1,58</td>\n      <td id=\"T_49d4a_row2_col12\" class=\"data row2 col12\" >0,15</td>\n    </tr>\n    <tr>\n      <th id=\"T_49d4a_level0_row3\" class=\"row_heading level0 row3\" >Emballages de bonbons</th>\n      <td id=\"T_49d4a_row3_col0\" class=\"data row3 col0\" >0,31</td>\n      <td id=\"T_49d4a_row3_col1\" class=\"data row3 col1\" >0,05</td>\n      <td id=\"T_49d4a_row3_col2\" class=\"data row3 col2\" >0,00</td>\n      <td id=\"T_49d4a_row3_col3\" class=\"data row3 col3\" >0,26</td>\n      <td id=\"T_49d4a_row3_col4\" class=\"data row3 col4\" >0,21</td>\n      <td id=\"T_49d4a_row3_col5\" class=\"data row3 col5\" >0,62</td>\n      <td id=\"T_49d4a_row3_col6\" class=\"data row3 col6\" >0,29</td>\n      <td id=\"T_49d4a_row3_col7\" class=\"data row3 col7\" >0,10</td>\n      <td id=\"T_49d4a_row3_col8\" class=\"data row3 col8\" >0,10</td>\n      <td id=\"T_49d4a_row3_col9\" class=\"data row3 col9\" >0,20</td>\n      <td id=\"T_49d4a_row3_col10\" class=\"data row3 col10\" >0,05</td>\n      <td id=\"T_49d4a_row3_col11\" class=\"data row3 col11\" >0,65</td>\n      <td id=\"T_49d4a_row3_col12\" class=\"data row3 col12\" >0,15</td>\n    </tr>\n    <tr>\n      <th id=\"T_49d4a_level0_row4\" class=\"row_heading level0 row4\" >Bâtonnets de sucette</th>\n      <td id=\"T_49d4a_row4_col0\" class=\"data row4 col0\" >0,02</td>\n      <td id=\"T_49d4a_row4_col1\" class=\"data row4 col1\" >0,25</td>\n      <td id=\"T_49d4a_row4_col2\" class=\"data row4 col2\" >0,00</td>\n      <td id=\"T_49d4a_row4_col3\" class=\"data row4 col3\" >0,01</td>\n      <td id=\"T_49d4a_row4_col4\" class=\"data row4 col4\" >0,01</td>\n      <td id=\"T_49d4a_row4_col5\" class=\"data row4 col5\" >0,08</td>\n      <td id=\"T_49d4a_row4_col6\" class=\"data row4 col6\" >0,07</td>\n      <td id=\"T_49d4a_row4_col7\" class=\"data row4 col7\" >0,01</td>\n      <td id=\"T_49d4a_row4_col8\" class=\"data row4 col8\" >0,02</td>\n      <td id=\"T_49d4a_row4_col9\" class=\"data row4 col9\" >0,00</td>\n      <td id=\"T_49d4a_row4_col10\" class=\"data row4 col10\" >0,00</td>\n      <td id=\"T_49d4a_row4_col11\" class=\"data row4 col11\" >0,06</td>\n      <td id=\"T_49d4a_row4_col12\" class=\"data row4 col12\" >0,02</td>\n    </tr>\n    <tr>\n      <th id=\"T_49d4a_level0_row5\" class=\"row_heading level0 row5\" >Mousse pour l'isolation</th>\n      <td id=\"T_49d4a_row5_col0\" class=\"data row5 col0\" >0,00</td>\n      <td id=\"T_49d4a_row5_col1\" class=\"data row5 col1\" >0,00</td>\n      <td id=\"T_49d4a_row5_col2\" class=\"data row5 col2\" >0,02</td>\n      <td id=\"T_49d4a_row5_col3\" class=\"data row5 col3\" >0,00</td>\n      <td id=\"T_49d4a_row5_col4\" class=\"data row5 col4\" >0,00</td>\n      <td id=\"T_49d4a_row5_col5\" class=\"data row5 col5\" >0,07</td>\n      <td id=\"T_49d4a_row5_col6\" class=\"data row5 col6\" >0,00</td>\n      <td id=\"T_49d4a_row5_col7\" class=\"data row5 col7\" >0,00</td>\n      <td id=\"T_49d4a_row5_col8\" class=\"data row5 col8\" >0,00</td>\n      <td id=\"T_49d4a_row5_col9\" class=\"data row5 col9\" >0,08</td>\n      <td id=\"T_49d4a_row5_col10\" class=\"data row5 col10\" >0,00</td>\n      <td id=\"T_49d4a_row5_col11\" class=\"data row5 col11\" >0,06</td>\n      <td id=\"T_49d4a_row5_col12\" class=\"data row5 col12\" >0,00</td>\n    </tr>\n    <tr>\n      <th id=\"T_49d4a_level0_row6\" class=\"row_heading level0 row6\" >Déchets de construction</th>\n      <td id=\"T_49d4a_row6_col0\" class=\"data row6 col0\" >0,01</td>\n      <td id=\"T_49d4a_row6_col1\" class=\"data row6 col1\" >0,00</td>\n      <td id=\"T_49d4a_row6_col2\" class=\"data row6 col2\" >0,00</td>\n      <td id=\"T_49d4a_row6_col3\" class=\"data row6 col3\" >0,01</td>\n      <td id=\"T_49d4a_row6_col4\" class=\"data row6 col4\" >0,00</td>\n      <td id=\"T_49d4a_row6_col5\" class=\"data row6 col5\" >0,01</td>\n      <td id=\"T_49d4a_row6_col6\" class=\"data row6 col6\" >0,00</td>\n      <td id=\"T_49d4a_row6_col7\" class=\"data row6 col7\" >0,00</td>\n      <td id=\"T_49d4a_row6_col8\" class=\"data row6 col8\" >0,00</td>\n      <td id=\"T_49d4a_row6_col9\" class=\"data row6 col9\" >0,00</td>\n      <td id=\"T_49d4a_row6_col10\" class=\"data row6 col10\" >0,00</td>\n      <td id=\"T_49d4a_row6_col11\" class=\"data row6 col11\" >0,00</td>\n      <td id=\"T_49d4a_row6_col12\" class=\"data row6 col12\" >0,00</td>\n    </tr>\n    <tr>\n      <th id=\"T_49d4a_level0_row7\" class=\"row_heading level0 row7\" >Coton-tige</th>\n      <td id=\"T_49d4a_row7_col0\" class=\"data row7 col0\" >0,14</td>\n      <td id=\"T_49d4a_row7_col1\" class=\"data row7 col1\" >0,00</td>\n      <td id=\"T_49d4a_row7_col2\" class=\"data row7 col2\" >0,02</td>\n      <td id=\"T_49d4a_row7_col3\" class=\"data row7 col3\" >0,06</td>\n      <td id=\"T_49d4a_row7_col4\" class=\"data row7 col4\" >0,00</td>\n      <td id=\"T_49d4a_row7_col5\" class=\"data row7 col5\" >0,23</td>\n      <td id=\"T_49d4a_row7_col6\" class=\"data row7 col6\" >0,15</td>\n      <td id=\"T_49d4a_row7_col7\" class=\"data row7 col7\" >0,00</td>\n      <td id=\"T_49d4a_row7_col8\" class=\"data row7 col8\" >0,00</td>\n      <td id=\"T_49d4a_row7_col9\" class=\"data row7 col9\" >0,15</td>\n      <td id=\"T_49d4a_row7_col10\" class=\"data row7 col10\" >0,00</td>\n      <td id=\"T_49d4a_row7_col11\" class=\"data row7 col11\" >0,30</td>\n      <td id=\"T_49d4a_row7_col12\" class=\"data row7 col12\" >0,03</td>\n    </tr>\n    <tr>\n      <th id=\"T_49d4a_level0_row8\" class=\"row_heading level0 row8\" >Couvercles en plastique</th>\n      <td id=\"T_49d4a_row8_col0\" class=\"data row8 col0\" >0,07</td>\n      <td id=\"T_49d4a_row8_col1\" class=\"data row8 col1\" >0,04</td>\n      <td id=\"T_49d4a_row8_col2\" class=\"data row8 col2\" >0,00</td>\n      <td id=\"T_49d4a_row8_col3\" class=\"data row8 col3\" >0,03</td>\n      <td id=\"T_49d4a_row8_col4\" class=\"data row8 col4\" >0,01</td>\n      <td id=\"T_49d4a_row8_col5\" class=\"data row8 col5\" >0,31</td>\n      <td id=\"T_49d4a_row8_col6\" class=\"data row8 col6\" >0,14</td>\n      <td id=\"T_49d4a_row8_col7\" class=\"data row8 col7\" >0,00</td>\n      <td id=\"T_49d4a_row8_col8\" class=\"data row8 col8\" >0,00</td>\n      <td id=\"T_49d4a_row8_col9\" class=\"data row8 col9\" >0,07</td>\n      <td id=\"T_49d4a_row8_col10\" class=\"data row8 col10\" >0,01</td>\n      <td id=\"T_49d4a_row8_col11\" class=\"data row8 col11\" >0,16</td>\n      <td id=\"T_49d4a_row8_col12\" class=\"data row8 col12\" >0,04</td>\n    </tr>\n    <tr>\n      <th id=\"T_49d4a_level0_row9\" class=\"row_heading level0 row9\" >Fragments de polystyrène</th>\n      <td id=\"T_49d4a_row9_col0\" class=\"data row9 col0\" >0,46</td>\n      <td id=\"T_49d4a_row9_col1\" class=\"data row9 col1\" >0,09</td>\n      <td id=\"T_49d4a_row9_col2\" class=\"data row9 col2\" >0,20</td>\n      <td id=\"T_49d4a_row9_col3\" class=\"data row9 col3\" >0,18</td>\n      <td id=\"T_49d4a_row9_col4\" class=\"data row9 col4\" >0,16</td>\n      <td id=\"T_49d4a_row9_col5\" class=\"data row9 col5\" >0,15</td>\n      <td id=\"T_49d4a_row9_col6\" class=\"data row9 col6\" >0,02</td>\n      <td id=\"T_49d4a_row9_col7\" class=\"data row9 col7\" >0,01</td>\n      <td id=\"T_49d4a_row9_col8\" class=\"data row9 col8\" >0,05</td>\n      <td id=\"T_49d4a_row9_col9\" class=\"data row9 col9\" >0,01</td>\n      <td id=\"T_49d4a_row9_col10\" class=\"data row9 col10\" >0,00</td>\n      <td id=\"T_49d4a_row9_col11\" class=\"data row9 col11\" >0,01</td>\n      <td id=\"T_49d4a_row9_col12\" class=\"data row9 col12\" >0,07</td>\n    </tr>\n    <tr>\n      <th id=\"T_49d4a_level0_row10\" class=\"row_heading level0 row10\" >Fragments de plastique > 5 mm</th>\n      <td id=\"T_49d4a_row10_col0\" class=\"data row10 col0\" >0,49</td>\n      <td id=\"T_49d4a_row10_col1\" class=\"data row10 col1\" >1,72</td>\n      <td id=\"T_49d4a_row10_col2\" class=\"data row10 col2\" >0,18</td>\n      <td id=\"T_49d4a_row10_col3\" class=\"data row10 col3\" >2,40</td>\n      <td id=\"T_49d4a_row10_col4\" class=\"data row10 col4\" >1,15</td>\n      <td id=\"T_49d4a_row10_col5\" class=\"data row10 col5\" >1,95</td>\n      <td id=\"T_49d4a_row10_col6\" class=\"data row10 col6\" >0,78</td>\n      <td id=\"T_49d4a_row10_col7\" class=\"data row10 col7\" >0,21</td>\n      <td id=\"T_49d4a_row10_col8\" class=\"data row10 col8\" >0,31</td>\n      <td id=\"T_49d4a_row10_col9\" class=\"data row10 col9\" >1,05</td>\n      <td id=\"T_49d4a_row10_col10\" class=\"data row10 col10\" >0,05</td>\n      <td id=\"T_49d4a_row10_col11\" class=\"data row10 col11\" >1,63</td>\n      <td id=\"T_49d4a_row10_col12\" class=\"data row10 col12\" >0,72</td>\n    </tr>\n  </tbody>\n</table>\n</div>",
      "application/papermill.record/text/plain": "<IPython.core.display.HTML object>"
     },
     "metadata": {
      "scrapbook": {
       "mime_prefix": "application/papermill.record/",
       "name": "figure_eightb"
      }
     },
     "output_type": "display_data"
    },
    {
     "data": {
      "application/papermill.record/text/html": "<style type=\"text/css\">\n#T_40f17 tr:nth-child(even) {\n  background-color: rgba(139, 69, 19, 0.08);\n}\n#T_40f17 tr:nth-child(odd) {\n  background: #FFF;\n}\n#T_40f17 tr {\n  font-size: 14px;\n  padding: 6px;\n}\n#T_40f17 th:nth-child(1) {\n  background-color: #FFF;\n  white-space: nowrap;\n  word-break: keep-all;\n}\n#T_40f17 caption {\n  caption-side: top;\n  font-size: 12px;\n  text-align: left;\n  margin-top: 12px;\n}\n#T_40f17_row0_col3, #T_40f17_row1_col3, #T_40f17_row2_col3, #T_40f17_row3_col3, #T_40f17_row4_col3, #T_40f17_row5_col3, #T_40f17_row6_col3, #T_40f17_row7_col4, #T_40f17_row8_col0 {\n  color: rgba(255, 0, 0, 1);\n}\n</style>\n<table id=\"T_40f17\">\n  <thead>\n    <tr>\n      <th class=\"blank level0\" >&nbsp;</th>\n      <th id=\"T_40f17_level0_col0\" class=\"col_heading level0 col0\" >MCBP</th>\n      <th id=\"T_40f17_level0_col1\" class=\"col_heading level0 col1\" >SLR</th>\n      <th id=\"T_40f17_level0_col2\" class=\"col_heading level0 col2\" >IQAASL</th>\n      <th id=\"T_40f17_level0_col3\" class=\"col_heading level0 col3\" >Solid-Waste-Team</th>\n      <th id=\"T_40f17_level0_col4\" class=\"col_heading level0 col4\" >Pla'stock</th>\n    </tr>\n  </thead>\n  <tbody>\n    <tr>\n      <th id=\"T_40f17_level0_row0\" class=\"row_heading level0 row0\" >Min</th>\n      <td id=\"T_40f17_row0_col0\" class=\"data row0 col0\" >0,38</td>\n      <td id=\"T_40f17_row0_col1\" class=\"data row0 col1\" >0,05</td>\n      <td id=\"T_40f17_row0_col2\" class=\"data row0 col2\" >0,16</td>\n      <td id=\"T_40f17_row0_col3\" class=\"data row0 col3\" >1,02</td>\n      <td id=\"T_40f17_row0_col4\" class=\"data row0 col4\" >0,10</td>\n    </tr>\n    <tr>\n      <th id=\"T_40f17_level0_row1\" class=\"row_heading level0 row1\" >25%</th>\n      <td id=\"T_40f17_row1_col0\" class=\"data row1 col0\" >2,50</td>\n      <td id=\"T_40f17_row1_col1\" class=\"data row1 col1\" >1,36</td>\n      <td id=\"T_40f17_row1_col2\" class=\"data row1 col2\" >1,81</td>\n      <td id=\"T_40f17_row1_col3\" class=\"data row1 col3\" >4,76</td>\n      <td id=\"T_40f17_row1_col4\" class=\"data row1 col4\" >0,78</td>\n    </tr>\n    <tr>\n      <th id=\"T_40f17_level0_row2\" class=\"row_heading level0 row2\" >50%</th>\n      <td id=\"T_40f17_row2_col0\" class=\"data row2 col0\" >4,39</td>\n      <td id=\"T_40f17_row2_col1\" class=\"data row2 col1\" >4,40</td>\n      <td id=\"T_40f17_row2_col2\" class=\"data row2 col2\" >3,73</td>\n      <td id=\"T_40f17_row2_col3\" class=\"data row2 col3\" >7,97</td>\n      <td id=\"T_40f17_row2_col4\" class=\"data row2 col4\" >2,00</td>\n    </tr>\n    <tr>\n      <th id=\"T_40f17_level0_row3\" class=\"row_heading level0 row3\" >75%</th>\n      <td id=\"T_40f17_row3_col0\" class=\"data row3 col0\" >8,16</td>\n      <td id=\"T_40f17_row3_col1\" class=\"data row3 col1\" >8,42</td>\n      <td id=\"T_40f17_row3_col2\" class=\"data row3 col2\" >7,29</td>\n      <td id=\"T_40f17_row3_col3\" class=\"data row3 col3\" >13,28</td>\n      <td id=\"T_40f17_row3_col4\" class=\"data row3 col4\" >4,57</td>\n    </tr>\n    <tr>\n      <th id=\"T_40f17_level0_row4\" class=\"row_heading level0 row4\" >Max</th>\n      <td id=\"T_40f17_row4_col0\" class=\"data row4 col0\" >47,37</td>\n      <td id=\"T_40f17_row4_col1\" class=\"data row4 col1\" >37,59</td>\n      <td id=\"T_40f17_row4_col2\" class=\"data row4 col2\" >59,99</td>\n      <td id=\"T_40f17_row4_col3\" class=\"data row4 col3\" >66,03</td>\n      <td id=\"T_40f17_row4_col4\" class=\"data row4 col4\" >18,26</td>\n    </tr>\n    <tr>\n      <th id=\"T_40f17_level0_row5\" class=\"row_heading level0 row5\" >Moyenne</th>\n      <td id=\"T_40f17_row5_col0\" class=\"data row5 col0\" >7,51</td>\n      <td id=\"T_40f17_row5_col1\" class=\"data row5 col1\" >6,56</td>\n      <td id=\"T_40f17_row5_col2\" class=\"data row5 col2\" >7,21</td>\n      <td id=\"T_40f17_row5_col3\" class=\"data row5 col3\" >13,10</td>\n      <td id=\"T_40f17_row5_col4\" class=\"data row5 col4\" >3,42</td>\n    </tr>\n    <tr>\n      <th id=\"T_40f17_level0_row6\" class=\"row_heading level0 row6\" >Écart-type</th>\n      <td id=\"T_40f17_row6_col0\" class=\"data row6 col0\" >8,75</td>\n      <td id=\"T_40f17_row6_col1\" class=\"data row6 col1\" >7,76</td>\n      <td id=\"T_40f17_row6_col2\" class=\"data row6 col2\" >10,47</td>\n      <td id=\"T_40f17_row6_col3\" class=\"data row6 col3\" >16,02</td>\n      <td id=\"T_40f17_row6_col4\" class=\"data row6 col4\" >3,66</td>\n    </tr>\n    <tr>\n      <th id=\"T_40f17_level0_row7\" class=\"row_heading level0 row7\" >Échantillons</th>\n      <td id=\"T_40f17_row7_col0\" class=\"data row7 col0\" >91</td>\n      <td id=\"T_40f17_row7_col1\" class=\"data row7 col1\" >44</td>\n      <td id=\"T_40f17_row7_col2\" class=\"data row7 col2\" >93</td>\n      <td id=\"T_40f17_row7_col3\" class=\"data row7 col3\" >20</td>\n      <td id=\"T_40f17_row7_col4\" class=\"data row7 col4\" >98</td>\n    </tr>\n    <tr>\n      <th id=\"T_40f17_level0_row8\" class=\"row_heading level0 row8\" >Total</th>\n      <td id=\"T_40f17_row8_col0\" class=\"data row8 col0\" >28'645</td>\n      <td id=\"T_40f17_row8_col1\" class=\"data row8 col1\" >8'864</td>\n      <td id=\"T_40f17_row8_col2\" class=\"data row8 col2\" >21'839</td>\n      <td id=\"T_40f17_row8_col3\" class=\"data row8 col3\" >8'173</td>\n      <td id=\"T_40f17_row8_col4\" class=\"data row8 col4\" >27'493</td>\n    </tr>\n  </tbody>\n</table>\n",
      "application/papermill.record/text/plain": "<IPython.core.display.HTML object>"
     },
     "metadata": {
      "scrapbook": {
       "mime_prefix": "application/papermill.record/",
       "name": "table_ten"
      }
     },
     "output_type": "display_data"
    },
    {
     "data": {
      "application/papermill.record/text/html": "<style type=\"text/css\">\n#T_8a6ce tr:nth-child(even) {\n  background-color: rgba(139, 69, 19, 0.08);\n}\n#T_8a6ce tr:nth-child(odd) {\n  background: #FFF;\n}\n#T_8a6ce tr {\n  font-size: 14px;\n  padding: 6px;\n}\n#T_8a6ce th:nth-child(1) {\n  background-color: #FFF;\n  white-space: nowrap;\n  word-break: keep-all;\n}\n#T_8a6ce caption {\n  caption-side: top;\n  font-size: 12px;\n  text-align: left;\n  margin-top: 12px;\n}\n</style>\n<table id=\"T_8a6ce\">\n  <thead>\n    <tr>\n      <th class=\"blank level0\" >&nbsp;</th>\n      <th id=\"T_8a6ce_level0_col0\" class=\"col_heading level0 col0\" >Auteurs</th>\n      <th id=\"T_8a6ce_level0_col1\" class=\"col_heading level0 col1\" >Lieu</th>\n      <th id=\"T_8a6ce_level0_col2\" class=\"col_heading level0 col2\" >Taille échantillonnée en mm</th>\n      <th id=\"T_8a6ce_level0_col3\" class=\"col_heading level0 col3\" >Moyenne particule/m2</th>\n      <th id=\"T_8a6ce_level0_col4\" class=\"col_heading level0 col4\" >Ecart type</th>\n      <th id=\"T_8a6ce_level0_col5\" class=\"col_heading level0 col5\" >Médiane</th>\n      <th id=\"T_8a6ce_level0_col6\" class=\"col_heading level0 col6\" >Min</th>\n      <th id=\"T_8a6ce_level0_col7\" class=\"col_heading level0 col7\" >Max</th>\n    </tr>\n  </thead>\n  <tbody>\n    <tr>\n      <th id=\"T_8a6ce_level0_row0\" class=\"row_heading level0 row0\" >0</th>\n      <td id=\"T_8a6ce_row0_col0\" class=\"data row0 col0\" >De Alencastro et Faure 2014</td>\n      <td id=\"T_8a6ce_row0_col1\" class=\"data row0 col1\" >Léman</td>\n      <td id=\"T_8a6ce_row0_col2\" class=\"data row0 col2\" >0,3-5</td>\n      <td id=\"T_8a6ce_row0_col3\" class=\"data row0 col3\" >2100</td>\n      <td id=\"T_8a6ce_row0_col4\" class=\"data row0 col4\" >2000</td>\n      <td id=\"T_8a6ce_row0_col5\" class=\"data row0 col5\" >1700</td>\n      <td id=\"T_8a6ce_row0_col6\" class=\"data row0 col6\" >78</td>\n      <td id=\"T_8a6ce_row0_col7\" class=\"data row0 col7\" >5000</td>\n    </tr>\n    <tr>\n      <th id=\"T_8a6ce_level0_row1\" class=\"row_heading level0 row1\" >1</th>\n      <td id=\"T_8a6ce_row1_col0\" class=\"data row1 col0\" >De Alencastro et Faure 2014</td>\n      <td id=\"T_8a6ce_row1_col1\" class=\"data row1 col1\" >Lacs suisses</td>\n      <td id=\"T_8a6ce_row1_col2\" class=\"data row1 col2\" >0,3-5</td>\n      <td id=\"T_8a6ce_row1_col3\" class=\"data row1 col3\" >1300</td>\n      <td id=\"T_8a6ce_row1_col4\" class=\"data row1 col4\" >2000</td>\n      <td id=\"T_8a6ce_row1_col5\" class=\"data row1 col5\" >270</td>\n      <td id=\"T_8a6ce_row1_col6\" class=\"data row1 col6\" >20</td>\n      <td id=\"T_8a6ce_row1_col7\" class=\"data row1 col7\" >7200</td>\n    </tr>\n    <tr>\n      <th id=\"T_8a6ce_level0_row2\" class=\"row_heading level0 row2\" >2</th>\n      <td id=\"T_8a6ce_row2_col0\" class=\"data row2 col0\" >De Alencastro et Faure 2014</td>\n      <td id=\"T_8a6ce_row2_col1\" class=\"data row2 col1\" >Constance</td>\n      <td id=\"T_8a6ce_row2_col2\" class=\"data row2 col2\" >0,3-5</td>\n      <td id=\"T_8a6ce_row2_col3\" class=\"data row2 col3\" >320</td>\n      <td id=\"T_8a6ce_row2_col4\" class=\"data row2 col4\" >220</td>\n      <td id=\"T_8a6ce_row2_col5\" class=\"data row2 col5\" >260</td>\n      <td id=\"T_8a6ce_row2_col6\" class=\"data row2 col6\" >140</td>\n      <td id=\"T_8a6ce_row2_col7\" class=\"data row2 col7\" >620</td>\n    </tr>\n    <tr>\n      <th id=\"T_8a6ce_level0_row3\" class=\"row_heading level0 row3\" >3</th>\n      <td id=\"T_8a6ce_row3_col0\" class=\"data row3 col0\" >De Alencastro et Faure 2014</td>\n      <td id=\"T_8a6ce_row3_col1\" class=\"data row3 col1\" >Neuchâtel</td>\n      <td id=\"T_8a6ce_row3_col2\" class=\"data row3 col2\" >0,3-5</td>\n      <td id=\"T_8a6ce_row3_col3\" class=\"data row3 col3\" >700</td>\n      <td id=\"T_8a6ce_row3_col4\" class=\"data row3 col4\" >1100</td>\n      <td id=\"T_8a6ce_row3_col5\" class=\"data row3 col5\" >220</td>\n      <td id=\"T_8a6ce_row3_col6\" class=\"data row3 col6\" >67</td>\n      <td id=\"T_8a6ce_row3_col7\" class=\"data row3 col7\" >2300</td>\n    </tr>\n    <tr>\n      <th id=\"T_8a6ce_level0_row4\" class=\"row_heading level0 row4\" >4</th>\n      <td id=\"T_8a6ce_row4_col0\" class=\"data row4 col0\" >De Alencastro et Faure 2014</td>\n      <td id=\"T_8a6ce_row4_col1\" class=\"data row4 col1\" >Majeur</td>\n      <td id=\"T_8a6ce_row4_col2\" class=\"data row4 col2\" >0,3-5</td>\n      <td id=\"T_8a6ce_row4_col3\" class=\"data row4 col3\" >1100</td>\n      <td id=\"T_8a6ce_row4_col4\" class=\"data row4 col4\" >2300</td>\n      <td id=\"T_8a6ce_row4_col5\" class=\"data row4 col5\" >180</td>\n      <td id=\"T_8a6ce_row4_col6\" class=\"data row4 col6\" >20</td>\n      <td id=\"T_8a6ce_row4_col7\" class=\"data row4 col7\" >6900</td>\n    </tr>\n    <tr>\n      <th id=\"T_8a6ce_level0_row5\" class=\"row_heading level0 row5\" >5</th>\n      <td id=\"T_8a6ce_row5_col0\" class=\"data row5 col0\" >De Alencastro et Faure 2014</td>\n      <td id=\"T_8a6ce_row5_col1\" class=\"data row5 col1\" >Zurich</td>\n      <td id=\"T_8a6ce_row5_col2\" class=\"data row5 col2\" >0,3-5</td>\n      <td id=\"T_8a6ce_row5_col3\" class=\"data row5 col3\" >460</td>\n      <td id=\"T_8a6ce_row5_col4\" class=\"data row5 col4\" >350</td>\n      <td id=\"T_8a6ce_row5_col5\" class=\"data row5 col5\" >480</td>\n      <td id=\"T_8a6ce_row5_col6\" class=\"data row5 col6\" >89</td>\n      <td id=\"T_8a6ce_row5_col7\" class=\"data row5 col7\" >800</td>\n    </tr>\n    <tr>\n      <th id=\"T_8a6ce_level0_row6\" class=\"row_heading level0 row6\" >6</th>\n      <td id=\"T_8a6ce_row6_col0\" class=\"data row6 col0\" >De Alencastro et Faure 2014</td>\n      <td id=\"T_8a6ce_row6_col1\" class=\"data row6 col1\" >Brienz</td>\n      <td id=\"T_8a6ce_row6_col2\" class=\"data row6 col2\" >0,3-5</td>\n      <td id=\"T_8a6ce_row6_col3\" class=\"data row6 col3\" >2500</td>\n      <td id=\"T_8a6ce_row6_col4\" class=\"data row6 col4\" >3000</td>\n      <td id=\"T_8a6ce_row6_col5\" class=\"data row6 col5\" >1200</td>\n      <td id=\"T_8a6ce_row6_col6\" class=\"data row6 col6\" >89</td>\n      <td id=\"T_8a6ce_row6_col7\" class=\"data row6 col7\" >7200</td>\n    </tr>\n    <tr>\n      <th id=\"T_8a6ce_level0_row7\" class=\"row_heading level0 row7\" >7</th>\n      <td id=\"T_8a6ce_row7_col0\" class=\"data row7 col0\" >Frei 2021</td>\n      <td id=\"T_8a6ce_row7_col1\" class=\"data row7 col1\" >Lugano</td>\n      <td id=\"T_8a6ce_row7_col2\" class=\"data row7 col2\" >0,3-5</td>\n      <td id=\"T_8a6ce_row7_col3\" class=\"data row7 col3\" >9044</td>\n      <td id=\"T_8a6ce_row7_col4\" class=\"data row7 col4\" >14494</td>\n      <td id=\"T_8a6ce_row7_col5\" class=\"data row7 col5\" >-</td>\n      <td id=\"T_8a6ce_row7_col6\" class=\"data row7 col6\" >733</td>\n      <td id=\"T_8a6ce_row7_col7\" class=\"data row7 col7\" >45600</td>\n    </tr>\n    <tr>\n      <th id=\"T_8a6ce_level0_row8\" class=\"row_heading level0 row8\" >8</th>\n      <td id=\"T_8a6ce_row8_col0\" class=\"data row8 col0\" >Constant et al. 2019</td>\n      <td id=\"T_8a6ce_row8_col1\" class=\"data row8 col1\" >Golf du Lion 1</td>\n      <td id=\"T_8a6ce_row8_col2\" class=\"data row8 col2\" >0,063-5</td>\n      <td id=\"T_8a6ce_row8_col3\" class=\"data row8 col3\" >1100</td>\n      <td id=\"T_8a6ce_row8_col4\" class=\"data row8 col4\" >1629</td>\n      <td id=\"T_8a6ce_row8_col5\" class=\"data row8 col5\" >-</td>\n      <td id=\"T_8a6ce_row8_col6\" class=\"data row8 col6\" >145</td>\n      <td id=\"T_8a6ce_row8_col7\" class=\"data row8 col7\" >4653</td>\n    </tr>\n    <tr>\n      <th id=\"T_8a6ce_level0_row9\" class=\"row_heading level0 row9\" >9</th>\n      <td id=\"T_8a6ce_row9_col0\" class=\"data row9 col0\" >Constant et al. 2019</td>\n      <td id=\"T_8a6ce_row9_col1\" class=\"data row9 col1\" >Golf du Lion 2</td>\n      <td id=\"T_8a6ce_row9_col2\" class=\"data row9 col2\" >0,063-5</td>\n      <td id=\"T_8a6ce_row9_col3\" class=\"data row9 col3\" >731</td>\n      <td id=\"T_8a6ce_row9_col4\" class=\"data row9 col4\" >528</td>\n      <td id=\"T_8a6ce_row9_col5\" class=\"data row9 col5\" >-</td>\n      <td id=\"T_8a6ce_row9_col6\" class=\"data row9 col6\" >298</td>\n      <td id=\"T_8a6ce_row9_col7\" class=\"data row9 col7\" >2258</td>\n    </tr>\n    <tr>\n      <th id=\"T_8a6ce_level0_row10\" class=\"row_heading level0 row10\" >10</th>\n      <td id=\"T_8a6ce_row10_col0\" class=\"data row10 col0\" >Constant et al. 2019</td>\n      <td id=\"T_8a6ce_row10_col1\" class=\"data row10 col1\" >Golf du Lion 3</td>\n      <td id=\"T_8a6ce_row10_col2\" class=\"data row10 col2\" >0,063-5</td>\n      <td id=\"T_8a6ce_row10_col3\" class=\"data row10 col3\" >254</td>\n      <td id=\"T_8a6ce_row10_col4\" class=\"data row10 col4\" >141</td>\n      <td id=\"T_8a6ce_row10_col5\" class=\"data row10 col5\" >-</td>\n      <td id=\"T_8a6ce_row10_col6\" class=\"data row10 col6\" >92</td>\n      <td id=\"T_8a6ce_row10_col7\" class=\"data row10 col7\" >567</td>\n    </tr>\n    <tr>\n      <th id=\"T_8a6ce_level0_row11\" class=\"row_heading level0 row11\" >11</th>\n      <td id=\"T_8a6ce_row11_col0\" class=\"data row11 col0\" >Constant et al. 2019</td>\n      <td id=\"T_8a6ce_row11_col1\" class=\"data row11 col1\" >Golf du Lion 4</td>\n      <td id=\"T_8a6ce_row11_col2\" class=\"data row11 col2\" >0,063-5</td>\n      <td id=\"T_8a6ce_row11_col3\" class=\"data row11 col3\" >290</td>\n      <td id=\"T_8a6ce_row11_col4\" class=\"data row11 col4\" >292</td>\n      <td id=\"T_8a6ce_row11_col5\" class=\"data row11 col5\" >-</td>\n      <td id=\"T_8a6ce_row11_col6\" class=\"data row11 col6\" >117</td>\n      <td id=\"T_8a6ce_row11_col7\" class=\"data row11 col7\" >1152</td>\n    </tr>\n  </tbody>\n</table>\n",
      "application/papermill.record/text/plain": "<pandas.io.formats.style.Styler at 0x74dbd9d58ac0>"
     },
     "metadata": {
      "scrapbook": {
       "mime_prefix": "application/papermill.record/",
       "name": "previous_studies"
      }
     },
     "output_type": "display_data"
    }
   ],
   "source": [
    "with open('resources/tables/results_table_one.html', 'r') as file:\n",
    "    glue(\"table_one\", HTML(file.read()), display=False)\n",
    "\n",
    "with open('resources/tables/results_table_two.html', 'r') as file:\n",
    "    glue(\"table_two\", HTML(file.read()), display=False)\n",
    "\n",
    "with open('resources/tables/results_table_three.html', 'r') as file:\n",
    "    glue(\"table_three\", HTML(file.read()), display=False)\n",
    "\n",
    "with open('resources/tables/results_table_eight.html', 'r') as file:\n",
    "    glue(\"table_eight\", HTML(file.read()), display=False)\n",
    "\n",
    "with open('resources/tables/results_table_nine.html', 'r') as file:\n",
    "    glue(\"table_nine\", HTML(file.read()), display=False)\n",
    "\n",
    "with open('resources/charts/results_figure_eight_a.html', 'r') as file:\n",
    "    glue(\"figure_eighta\", HTML(file.read()), display=False)\n",
    "\n",
    "with open('resources/charts/results_figure_eight_b.html', 'r') as file:\n",
    "    glue(\"figure_eightb\", HTML(file.read()), display=False)\n",
    "    \n",
    "with open('resources/tables/results_table_ten.html', 'r') as file:\n",
    "    glue(\"table_ten\", HTML(file.read()), display=False)\n",
    "\n",
    "g = pd.read_csv(\"data/inprocess/previous_micor.csv\").fillna('-')\n",
    "\n",
    "g = g.style.set_table_styles(table_css_styles_top).format(precision=0)\n",
    "glue('previous_studies', g, display=False)"
   ]
  },
  {
   "cell_type": "code",
   "execution_count": 3,
   "id": "cad7b2f1-dd6c-4358-8cee-d08953029d64",
   "metadata": {
    "editable": true,
    "slideshow": {
     "slide_type": ""
    },
    "tags": [
     "remove-input"
    ]
   },
   "outputs": [],
   "source": [
    "columns = ['Fibre', 'Fragment souple', 'Fragment dur',  'Mousse',  'Film', 'Bille']\n",
    "counts = [14235, 1826, 1716,  865,  407, 38,]\n",
    "ocounts = [x/sum(counts) for x in counts]\n",
    "\n",
    "fig, ax = plt.subplots(figsize=(6,6))\n",
    "wedges, texts = ax.pie(ocounts, wedgeprops=dict(width=0.5), startangle=180, radius=.8)\n",
    "\n",
    "bbox_props = dict(boxstyle=\"square,pad=0.3\", fc=\"w\", ec=None, lw=0)\n",
    "kw = dict(arrowprops=dict(arrowstyle=\"-\"),\n",
    "          bbox=bbox_props, zorder=0, va=\"center\", size=10)\n",
    "\n",
    "for i, p in enumerate(wedges):\n",
    "    ang = (p.theta2 - p.theta1)/2. + p.theta1\n",
    "    y = np.sin(np.deg2rad(ang))\n",
    "    x = np.cos(np.deg2rad(ang))\n",
    "    horizontalalignment = {-1: \"right\", 1: \"left\"}[int(np.sign(x))]\n",
    "    connectionstyle = f\"angle,angleA=0,angleB={ang}\"\n",
    "    kw[\"arrowprops\"].update({\"connectionstyle\": connectionstyle})\n",
    "    ax.annotate(columns[i], xy=(x, y), xytext=(1.35*np.sign(x), 1.4*y),\n",
    "                horizontalalignment=horizontalalignment, **kw)\n",
    "\n",
    "plt.tight_layout()\n",
    "\n",
    "plt.savefig('resources/images/Microformes.jpg')\n",
    "plt.close()\n",
    "\n",
    "\n"
   ]
  },
  {
   "cell_type": "markdown",
   "id": "1c61dc0f-71f0-4cdc-b70c-94518141120f",
   "metadata": {
    "editable": true,
    "pycharm": {
     "name": "#%% md\n"
    },
    "slideshow": {
     "slide_type": ""
    },
    "tags": []
   },
   "source": [
    "# Résultats\n",
    "\n",
    "## Microplastiques (300 µm à 5 mm)\n",
    "\n",
    "### Répartition des microplastiques sur les plages du Léman\n",
    "\n",
    "Sur la totalité des 217 échantillons analysés, les plages étudiées contiennent en moyenne 189 particules plastiques par 100 cm² avec un écart-type de 278. Parmi ces échantillons, une donnée sort du lot avec 3'143 particules comptabilisées à la plage de la Pichette. Ce n’est pas forcément pour autant une donnée aberrante. Elle signale la possibilité d’événements exceptionnels induits par la fréquentation du site ou par une accumulation par l’influence de facteurs environnementaux (vents, courants...). \n",
    "\n",
    "L’élimination de cette donnée n’a que peu d’impact sur la médiane (passage de 126 à 125 pièces par échantillon). En revanche, la moyenne passe de 189 à 175 et l’écart type de 278 à 191 (Tableau 3). L’élimination de cette donnée permet donc une plus grande robustesse et stabilité des données. Cette donnée étant plus de deux fois supérieure à la deuxième donnée maximale, une contamination ponctuelle n’est pas exclue. Celle-ci ayant potentiellement pu avoir lieu avant le prélèvement.\n",
    "\n",
    "::::{grid} 1 1 2 2\n",
    ":gutter: 0\n",
    "\n",
    ":::{grid-item-card}\n",
    ":columns: 12\n",
    ":shadow: none\n",
    "__Tableau 6.1 :__ Valeurs globales du nombre de pièces identifiées comme étant du plastique par échantillon (particules/100 cm²). La distinction est faite entre la prise en compte de l'ensemble des données (6.1a) et uniquement celles sous le 99.9 ème percentile (6.1b).\n",
    ":::\n",
    "\n",
    ":::{grid-item-card} 6.1a : Particules/100 cm²\n",
    ":shadow: none\n",
    "\n",
    "{glue}`table_one`\n",
    "\n",
    ":::\n",
    "\n",
    ":::{grid-item-card} 6.1b : Particules/100 cm²\n",
    ":shadow: none\n",
    "\n",
    "{glue}`table_two`\n",
    "\n",
    ":::\n",
    "::::\n",
    "\n",
    "\n",
    "\n",
    ":::{card}\n",
    ":margin: 3\n",
    "\n",
    "```{image} resources/maps/carteMicro.png\n",
    ":alt: chapter two map\n",
    ":align: center\n",
    ":name: chapter_two_map\n",
    "```\n",
    "+++\n",
    "<b>Figure 6.1 :</b>  Carte des résultats de l’étude. Densité moyenne de microplastiques par 100 cm2 et par site d’échantillonnage.\n",
    ":::\n",
    "\n",
    "La Figure 6.1 permet de visualiser les plages où les microplastiques sont les plus abondants. Ce sont celles de la Pichette, sur la commune de Corseaux, de Port Choiseul (Versoix) et des Grangettes (Noville).\n",
    "\n",
    "### Différence entre la ligne d’eau et la plage sèche \n",
    "\n",
    "Les médianes et moyennes sont nettement plus élevées sur la plage sèche que sur la ligne d’eau (Tableau 6.2, Figure 6.2). Cette différence peut s’expliquer par une accumulation possible sur la plage sèche, car elle est ponctuellement immergée lors de crues du lac, alors que la ligne d’eau est en permanence soumise aux vagues qui amènent et reprennent les éléments au fil du temps.\n",
    "\n",
    "::::{grid} 1 1 2 2\n",
    ":gutter: 1\n",
    "\n",
    ":::{grid-item-card} Résultats par position\n",
    "\n",
    "```{image} resources/charts/results_figure_three.jpg\n",
    ":alt: summary litter density\n",
    ":align: center\n",
    ":name: results_figure_three\n",
    "```\n",
    "+++\n",
    "<b>Figure 6.2 :</b> Les abondances en nombre de particules par 100 cm² sont généralement plus faibles sur la ligne d’eau que sur la plage sèche. Plusieurs concentrations extrêmes ont été recensées lors de l’étude, aussi bien sur la ligne d’eau que sur la plage sèche. Les trois concentrations les plus élevées observées (99ème percentile) étaient sur la plage sèche.\n",
    ":::\n",
    "\n",
    ":::{grid-item-card}\n",
    "<b>Tableau 6.2 :</b> Récapitulatif des échantillons entre la ligne d'eau et la plage sèche. Résultats exprimés en particules/100 cm2.\n",
    "^^^\n",
    "{glue}`table_three`\n",
    "\n",
    ":::\n",
    "::::\n",
    "\n",
    "Pour la ligne d’eau, les concentrations moyennes fluctuent entre 19 particules par échantillon de 100 cm² à Crans et 884 particules par échantillon à Préverenges. Sur le secteur “plage sèche”, les échantillons contiennent entre 37 particules à Clarens et 1’492 à Port Choiseul. Ce dernier secteur se démarque très nettement des autres avec une médiane supérieure à 1'000 particules par échantillon (Figure 6.3). \n",
    "\n",
    ":::{card} \n",
    ":margin: 3\n",
    "\n",
    "```{image} resources/charts/results_figure_one.jpg\n",
    ":alt:  Abondance en microplastiques sur les 25 plages étudiées et par position sur la plage (particules/100cm²).\n",
    ":align: center\n",
    ":name: figure-six-three\n",
    "```\n",
    "+++\n",
    "<b>Figure 6.3  :</b> Concentration en microplastiques sur les 25 plages étudiées et par position sur la plage (particules/100cm2). Une valeur extrême a été relevée avec 3'143 particules dans un échantillon à la plage de la Pichette. Les détails des moyennes par plage sont présentés à l’annexe 4.\n",
    ":::\n",
    "\n",
    "Sur la ligne d’eau, les concentrations recensées sur la plage de l’Empereur aux Grangettes sortent du lot avec une médiane dépassant les 400 particules par 100 cm², contre 85 particules/100 cm² pour la totalité des sites. La plage des Grangettes est la seule où les particules recensées sont plus nombreuses sur la ligne d’eau que sur la plage sèche. Ceci pourrait s’expliquer par une forte exposition de la plage aux vents et courants. Le substrat de la plage de l’Empereur est également particulièrement fin sur la ligne d’eau, ce qui pourrait également expliquer une plus grande capacité de retenue des petites particules.\n",
    "\n",
    "### Identification des particules comptabilisées\n",
    "\n",
    "Parmi les 39’000 particules comptabilisées, la majorité sont des fibres (75%). Ensuite viennent les fragments souple (10%) et durs (9%) (Figure 6.4). Les mousses représentent 4% des particules et les films 2%. Seules quelques microbilles de plastiques ont été recensées. La prédominance des fibres est significative d’une pollution massive via les textiles. Cette répartition reste globalement stable sur l’ensemble des plages étudiées. La plage des Grangettes fait exception avec une moyenne de 42% de fragments souples (film et mousse) pour 56% de fibres. La grande présence de déchets, notamment de sagex, dans les zones de roselière à proximité de la plage pourrait expliquer cette surabondance d’éléments fragmentés. La répartition globale est proche de celle relevée par Constant et al. ([Constarnt et all., 2019](constant_et_all)) sur la côte du Golfe du Lion en Méditerranée. A l’inverse, l’étude de Faure et al.,([Faure et all., 2018](faure_et_all)), ne recensait que 10% de fibres pour 61% de fragments. Ceci peut s’expliquer en partie par la méthode d’identification : visuelle dans le cadre de Pla’stock et chimique dans le cadre de l’étude de ([Faure et all., 2018](faure_et_all)).\n",
    "\n",
    ":::{card}\n",
    "\n",
    "```{image} resources/images/Microformes.jpg\n",
    ":alt: Pie chart of the composition of microplastics\n",
    ":align: center\n",
    ":name: cammembert\n",
    "```\n",
    "+++\n",
    "<b>Fig 6.4 :</b> Répartition globale des particules comptabilisées par forme. Les fibres dominent largement en terme d’abondance.\n",
    ":::\n",
    "\n",
    "### Résultats en fonction du substrat de la plage\n",
    "\n",
    "Les concentrations médianes de particules de microplastiques des échantillons prélevés sur les plages de sable fin et de sable grossier sont plus élevées que celles qui proviennent de substrats d’une granulométrie plus grossière (gravier et cailloux) (Tableau 6.3). Pour autant, au vu de la distribution des données, la différence n’est pas significative. Cette observation ne confirme donc que partiellement l’hypothèse que les substrats plus fins retiennent plus de particules que les substrats plus grossiers.\n",
    ":::{card}\n",
    "\n",
    "tableau 5 du rapprot\n",
    "\n",
    "+++\n",
    "<b>Tableau 6.3 :</b> Nombre de particules identifiées par type de substrat et par échantillons. \n",
    ":::\n",
    "\n"
   ]
  },
  {
   "cell_type": "markdown",
   "id": "50225a14-1e3c-491d-ac74-9c1f715b7f08",
   "metadata": {
    "editable": true,
    "pycharm": {
     "name": "#%% md\n"
    },
    "slideshow": {
     "slide_type": ""
    },
    "tags": []
   },
   "source": [
    "## Macroplastiques (> 2 mm)\n",
    "\n",
    "### Répartition des macroplastiques sur les plages du Léman\n",
    "\n",
    "Au fil des quatre sessions d’échantillonnage sur les 25 plages sélectionnées, une moyenne de 0,77 pièce de plastique par m² a été retrouvée (Figure 6.5), la médiane est de 0,5 pièce/m2. Une concentration maximale de 7.6 pièces par m² a été inventoriée sur la plage du Bouveret le 30 avril. Lors des 3 autres sessions sur la ligne d’eau, les concentrations étaient de 2,8, 4,5 et 0,03 pièces/m2.    \n",
    "\n",
    ":::{card} \n",
    ":margin: 3\n",
    "\n",
    "```{image} resources/charts/results_figure_five.jpg\n",
    ":alt: summary litter density\n",
    ":align: center\n",
    ":name: results_figure_five\n",
    "```\n",
    "\n",
    "+++\n",
    "<b>Figure 6.5 :</b> Récapitulatif des quatre sessions d’échantillonnage. Les quatre passages se sont répartis sur les quatre saisons. Les passages 3 et 4 ont été perturbés par les conditions météorologiques (pluie et vent) qui ont nécessité de décaler de quelques semaines certaines sessions afin de garantir la qualité des relevés. Boîte de Tukey : zone colorée = 25%-75% ; « moustache » = 1,5 x la distance interquartile.\n",
    ":::\n",
    "\n",
    "La boîte de Tukey (Figure 6.5) permet de constater la forte concentration des mesures entre 0.18 et 0.97 pièces par m² avec ponctuellement des échantillons présentant des concentrations nettement plus élevées pouvant atteindre 7.6 pièces/m² lors d’une session de ramassage au Bouveret. Lors des sessions d’hiver et d’été, respectivement 4,5 et 2,8 pièces/m2 ont été recensées. En s’intéressant également aux résultats des Grangettes avec des concentrations entre 2.25 et 5,6 pièces/m2 sur la ligne d’eau et entre 1,8 et 3 pièces/m2 sur la plage sèche, il est à relever que la majorité des valeurs extrêmes visibles sur la figure 6.8 concernent les plages du Bouveret et des Grangettes.\n",
    "\n",
    ":::{card}\n",
    ":margin: 3\n",
    "\n",
    "```{image} resources/maps/CarteMacro.png\n",
    ":alt: chapter two map\n",
    ":align: center\n",
    ":name: chapter_two_map\n",
    "```\n",
    "+++\n",
    "<b>Figure 6.6 :</b> Répartition des teneurs en macroplastiques autour du Léman. Concentration moyenne par m² et par site d’échantillonnage.\n",
    ":::\n",
    "\n",
    "Globalement, on constate que 12 sites sur les 25 sélectionnés ne contiennent moins de 0,5 pièces/m2, 7 en accumulent entre 0,5 et 1 pièces/m2, 4 entre 1-2 pièces/m2 et 2 entre 2-3 pièces/m2. En résumé, la moitié des sites étudiés sont clairement impactés par des accumulations de macro-déchets plastique et 2 plages sont très fortement impactées (Bouveret et Grangettes).\n",
    "\n",
    "### Différence entre la ligne d’eau et la plage sèche \n",
    "\n",
    "Les résultats de la récolte de déchets sur les plages du Léman en 4 sessions durant l’année 2022 sont exprimés en nombre de pièces par m² prospecté.\n",
    "\n",
    "::::{grid} 1 1 2 2\n",
    ":gutter: 1\n",
    "\n",
    ":::{grid-item-card} \n",
    "\n",
    "```{image} resources/charts/results_figure_seven.jpg\n",
    ":alt: summary litter density\n",
    ":align: center\n",
    ":name: results_figure_seven\n",
    "```\n",
    "+++\n",
    "<b>Figure 6.7 :</b> Teneurs en macroplastiques sur la ligne d’eau et la plage sèche. Les médianes sont comparables avec toutefois une fréquence plus élevée de valeurs extrêmes sur la ligne d’eau. Ceci s’explique par une plus grande dépendance des facteurs externes.\n",
    ":::\n",
    "\n",
    ":::{grid-item-card}\n",
    "<b>Tableau 6.4 :</b> Teneurs en déchets de macroplastiques de l’ensemble des échantillons prélevés sur la ligne d'eau et la plage sèche. Résultats exprimés en pièces/m2\n",
    "^^^\n",
    "\n",
    "{glue}`table_eight`\n",
    "\n",
    ":::\n",
    "::::\n",
    "\n",
    "Les moyennes et médianes des relevés sur la plage sèche et sur la ligne d’eau sont comparables entre les secteurs (Figure 6.7). Pour autant, les moyennes sont près de deux fois plus élevées que les médianes ce qui montre la grande variabilité des échantillonnages avec la présence régulière d’abondance élevée de macrodéchets (Tableau 6.4). Il est toutefois intéressant de constater le nombre de valeurs extrêmes sur la ligne d’eau. La valeur maximale est d’ailleurs plus de deux fois plus élevée sur la ligne d’eau que sur la plage sèche. Ceci pourrait s’expliquer par une plus grande influence des facteurs environnementaux (vagues, courants, vents). De plus, ces résultats contrastent avec ceux trouvés pour les microparticules de plastiques, dont la concentration était plus élevée sur le sous-secteur plage sèche (Figure 6.7). Les rôles joués par les facteurs environnementaux n’ont pas pu être testés dans le cadre de cette étude. En effet, pour les exploiter correctement, il faudrait avoir les données de courantologie locale ainsi que de l’angle et de la hauteur des vagues sur la plage. L’acquisition de ces données pourrait faire l’objet d’une étude spécifique à l’échelle d’un nombre restreint de plages.\n",
    "\n",
    ":::{card} \n",
    ":margin: 3\n",
    "\n",
    "```{image} resources/charts/results_figure_six.jpg\n",
    ":alt: Boxplots of the distribution of the survey results based on the sector of the beach sampled\n",
    ":align: center\n",
    ":name: results_figure_six\n",
    "```\n",
    "\n",
    "+++\n",
    "<b>Figure 6.8 :</b> Concentration moyenne des déchets récoltés sur chacune des 25 plages lémaniques étudiées en 2022. \n",
    ":::\n",
    "\n",
    "Sur la ligne d’eau, la concentration moyenne varie de 0.12 pièce/m² à Tolochenaz à 3.74 pièces/m² au Bouveret et sur la plage sèche, de 0.12 pièces/m² à Anthy-sur-Léman et Aubonne à 2,52 pièces/ m² aux Grangettes (Figure 6.8). Au Bouveret, à Excenevex et à Lutry, une nette différence est visible entre la ligne d’eau et la plage sèche. Cette différence pourrait s’expliquer par des sessions de récoltes effectuées quelques jours après des vents du large ou après le passage des services de voirie.\n",
    "\n",
    "A Excenevex, où la configuration du site (plage très plate) présente une ligne d’eau qui peut fortement varier au fil des conditions de vent, l’abondance des déchets est plus élevée que sur la plage sèche. Dans ce cas notamment, l’intensité de l’entretien par la commune de ce site très fréquenté peut influencer les quantités de plastiques retrouvées. Les résultats font état des plastiques réellement présents sur les plages et non de la totalité s’y déposant. En effet, les services communaux effectuent un ramassage régulier des grands macroplastiques, ce qui explique le très faible nombre de bouteilles en PET (4) retrouvées sur l’ensemble des quatre passages. Il est donc possible que l’étude sous-estime la quantité de déchets arrivant sur les rives depuis le Léman.\n",
    ".\n",
    "\n",
    "## Types de macroplastiques sur les plages du Léman\n",
    "\n",
    "Pour la suite des analyses, les résultats seront exprimés en nombre de pièces par mètre linéaire de plage afin d’avoir des points de comparaison avec d’autres études traitant des macroplastiques.\n",
    "\n",
    "La valeur médiane du nombre de déchets par mètre (pcs/m) pour l’ensemble des 98 échantillons récoltés sur les 25 plages de l’étude à raison de 1 par saison est de 2 pièces/m. Cependant, les taux recensés peuvent varier en fonction de l’urbanisation du site et de son environnement proche, de sa fréquentation et du type de substrat.\n",
    "\n",
    "\n",
    "### Etude des principaux déchets récoltés\n",
    "\n",
    "La nature des objets et des fragments de plastique les plus souvent recensés et en plus grand nombre a été déterminée et conduit à la sélection des 11 premières catégories de déchets les plus abondants. Celles-ci englobent 89% des macro-plastiques récoltés, à savoir 24’156 déchets sur les 27’493 recueillis. Plus précisément, les critères de cette sélection étaient le nombre d’objets énumérés de chaque catégorie et/ou une fréquence minimale de 50% de présence dans les échantillonnages. Le Tableau 6.5 présente les différentes catégories de macro-plastiques retenues dans l’ordre d’abondance avec mention de leur importance relative par rapport au nombre total de déchets (colonne 2) et de leur fréquence d’échantillonnage (colonne 4).\n",
    "\n",
    "\n",
    ":::{card} 11 principales catégories déchets récoltés\n",
    ":margin: 3\n",
    "<b>Tableau : 6.5</b> Taux d’échec des 11 principales catégories déchets récoltés et valeur médiane de leur abondance autour du Léman. En partant du postulat de base qu’il ne devrait pas y avoir de plastiques sur les plages, le taux d’échec correspond au pourcentage d’échantillons dans lequel l’objet a été retrouvé. Codes: G75 à G80: fragments de plastiques non-identifiés, par classe de tailles (ex : G78 = 2,5 à 50 cm); G81 à G83: morceaux de polystyrène par classe de taille; G21 à G24: bouchon de bouteilles en PET, couvercle de pot en plastiques.\n",
    "^^^\n",
    "\n",
    "{glue}`table_nine`\n",
    "\n",
    ":::\n",
    "\n",
    "Les fragments de plastiques de plus de 5 mm dont l’origine en tant qu’objet n’est pas identifiable constituent la large majorité des déchets récoltés (41%) et ils sont retrouvés dans 97% des échantillons. Viennent ensuite divers objets d’usage courant (i.e. mégots, emballages alimentaires, cotons-tiges) et des matériaux plus ou moins fragmentés utilisés dans la construction, l’isolation, la confection, etc.\n",
    "\n",
    "Les fibres plastiques du béton projeté qui sont actuellement regroupées avec les déchets de construction (G89) pourraient à terme être recensées avec leur propre code. Elles représentent 125 des 380 éléments comptabilisés parmi les déchets de construction.\n",
    "\n",
    "En s’intéressant de manière plus précise à la répartition des éléments identifiés sur la ligne d’eau et sur la plage sèche (Figure 6.9), il est intéressant de constater deux choses. Tout d’abord la forte présence des mégots sur la plage sèche et surtout la présence des cotons-tiges, déchets de construction et pellets parmi les déchets les plus retrouvés sur la plage sèche. Ceci montre qu’il y a un cheminement des déchets entre le lac et les rives. En effet, ces déchets arrivent dans le Léman par les eaux de ruissellement (déchets de constructions et pellets) et les eaux usées (cotons-tiges et pellets). Au fil de leur circulation dans le Léman, ils peuvent ensuite s’échouer sur les plages, sortir du Léman par le Rhône ou encore sédimenter. Les grands macroplastiques étant ramassés régulièrement sur les plages, seuls les plus petits déchets restent. La part d’éléments dont la source n’est pas identifiée s’élève à 52% sur la plage sèche et 55% sur la ligne d’eau. Ce pourcentage comprend l’ensemble des fragments plastiques (plastiques « durs » et polystyrène).\n",
    "\n",
    "::::{grid} 1 1 1 1\n",
    ":::{grid-item-card} \n",
    ":margin: 0\n",
    "\n",
    "```{image} resources/images/macroidentifie_LE.png\n",
    ":alt: chapter five\n",
    ":align: center\n",
    ":width: 600 px\n",
    ":name: macroidentifie_LE\n",
    "```\n",
    ":::\n",
    "\n",
    ":::{grid-item-card}\n",
    ":margin: 0\n",
    "\n",
    "```{image} resources/images/macroidentifie_PS.png\n",
    ":alt: chapter five \n",
    ":align: center\n",
    ":width: 600 px\n",
    ":name: macroidentifie_PS\n",
    "```\n",
    "+++\n",
    "\n",
    "<b>Figure 6.9 :</b> Distinction entre les éléments identifiés sur la ligne d’eau (gauche) et sur la plage sèche (droite). Cette figure ne prend pas en compte les fragments plastiques non identifiés visibles à l’œil nu qui représentent 52% des éléments retrouvés sur la plage sèche et 55% sur la ligne d’eau.\n",
    ":::\n",
    "::::\n",
    "\n",
    "De fortes fluctuations sont visibles entre les plages (Tableau 6.6 et Tableau 6.7). Valeurs médianes des concentrations recensées sur les plages du Léman en nombre de pièces par mètre linéaire. Cette figure permet de faire ressortir les cas particuliers tels que les pellets industriels à Préverenges ou les mégots à Vidy. Une médiane de 0). Sans surprise, les fragments de plastiques de plus de 5 mm sont dominants sur la quasi-totalité des plages (code Gfrag). Parmi les éléments identifiables, les emballages de nourriture et les mégots sont très souvent retrouvés. Il est également intéressant de se pencher sur certains déchets particuliers. Par exemple, les cotons-tiges sont présents en grande quantité à Amphion, Clarens, au Bouveret et aux Grangettes, donc plutôt sur le haut et le grand lac. La proximité avec une STEP ne semble toutefois pas être déterminante. En effet, la plage des Grangettes est éloignée d’une STEP (mais proche de l’embouchure du Rhône) et les cotons-tiges en plastique sont interdits en France, ce qui indiquerait que ceux retrouvés à Amphion proviennent de plus loin.\n",
    "\n",
    "En prenant l’exemple des pellets industriels, il est intéressant de noter leur distribution particulière : on ne les retrouve que sur certaines plages. La plage de Préverenges, avec une médiane de 0,82 pellets par mètre de plage fait office d’exception autour du Léman. Les trois autres plages avec le plus de pellets sont le Bouveret (0,42 pièces/m), les Grangettes et Baby plage (chacune 0,27 pièces/m). \n",
    "\n",
    "En s’intéressant aux différents sites, il est visible que les Grangettes et le Bouveret sont les sites où les déchets sont les plus abondants, et ce pour la plupart des objets. A l’inverse, la plage d’Excenevex, qui fait également partie des plages avec les plus grandes concentrations de plastiques, est principalement dominante au niveau des fragments de plastiques, dont l’origine n’est pas identifiable. Cette observation pourrait s’expliquer par la situation géographique d’Excenevex. La plage, située en fond de baie, fait certainement office de « cul de sac » pour les déchets. L’assiduité des services de voirie peut également être une piste. Il est possible que la plupart des déchets plus grands, et donc identifiables, aient été récoltés par la voirie.\n"
   ]
  },
  {
   "cell_type": "markdown",
   "id": "19ae370a-9051-40dd-a28e-d59b940648c9",
   "metadata": {
    "editable": true,
    "slideshow": {
     "slide_type": ""
    },
    "tags": []
   },
   "source": [
    "::::{grid} 1\n",
    ":padding: 0\n",
    "\n",
    ":::{grid-item-card}\n",
    "<b>Tableau 6.6 :</b> Valeurs médianes des concentrations recensées sur les plages du Léman en nombre de pièces par mètre linéaire. Cette figure permet de faire ressortir les cas particuliers tels que les cotons-tiges aux Grangettes ou les déchets de construction au Bouveret. Une médiane de 0 ne signifie pas que l'élément n'a jamais été retrouvé sur la plage.\n",
    "^^^\n",
    "```{glue} figure_eighta\n",
    "```\n",
    "+++\n",
    "\n",
    ":::\n",
    "\n",
    ":::{grid-item-card}\n",
    "<b>Tableau 6.7 :</b> Valeurs médianes des concentrations recensées sur les plages du Léman en nombre de pièces par mètre linéaire. Cette figure permet de faire ressortir les cas particuliers tels que les cotons-tiges aux Grangettes ou les déchets de construction au Bouveret. Une médiane de 0 ne signifie pas que l'élément n'a jamais été retrouvé sur la plage.\n",
    "^^^\n",
    "```{glue} figure_eightb\n",
    "```\n",
    "+++\n",
    "\n",
    ":::\n",
    "::::"
   ]
  }
 ],
 "metadata": {
  "kernelspec": {
   "display_name": "Python 3 (ipykernel)",
   "language": "python",
   "name": "python3"
  },
  "language_info": {
   "codemirror_mode": {
    "name": "ipython",
    "version": 3
   },
   "file_extension": ".py",
   "mimetype": "text/x-python",
   "name": "python",
   "nbconvert_exporter": "python",
   "pygments_lexer": "ipython3",
   "version": "3.9.18"
  }
 },
 "nbformat": 4,
 "nbformat_minor": 5
}
