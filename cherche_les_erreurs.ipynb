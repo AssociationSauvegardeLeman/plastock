{
 "cells": [
  {
   "cell_type": "code",
   "execution_count": 1,
   "id": "13b10653-57a9-448a-a752-6a7229143aae",
   "metadata": {
    "editable": true,
    "slideshow": {
     "slide_type": ""
    },
    "tags": []
   },
   "outputs": [],
   "source": [
    "%load_ext watermark\n",
    "# %load_ext rpy2.ipython\n",
    "import numpy as np\n",
    "import pandas as pd\n",
    "import matplotlib as mpl\n",
    "import seaborn as sns\n",
    "# import rpy2\n",
    "from sklearn.ensemble import RandomForestRegressor\n",
    "from scipy.stats import beta\n",
    "from scipy.stats import multinomial\n",
    "\n",
    "\n",
    "import matplotlib.pyplot as plt\n",
    "import matplotlib.dates as mdates\n",
    "\n",
    "from myst_nb import glue\n",
    "from slugify import slugify\n",
    "\n",
    "from typing import List\n",
    "\n",
    "\n",
    "\n",
    "# from rpy2.robjects.packages import importr\n",
    "\n",
    "import plastockconf as psc\n",
    "import plastock as pstk\n",
    "\n",
    "from plastockconf import name_zones, name_frequentation, name_situation\n",
    "from plastockconf import name_substrate, name_distance, table_css_styles, table_css_styles_top\n",
    "\n",
    "from plastock import add_table_to_page, capitalize_x_tick_labels, capitalize_x_and_y_axis_labels, capitalize_legend_components, attribute_summary\n",
    "\n",
    "import reportclass as rc\n",
    "\n",
    "pd.set_option('display.max_rows', 100)\n"
   ]
  },
  {
   "cell_type": "code",
   "execution_count": 2,
   "id": "d88e4b4e-e0c3-4342-af39-7fcc5846402e",
   "metadata": {},
   "outputs": [],
   "source": [
    "mone = pd.read_csv('data/end_pipe/macro_data_msquared.csv')\n",
    "mone[\"date\"] = pd.to_datetime(mone['date'], format='mixed', dayfirst=True)\n",
    "mone[\"date\"] = mone[\"date\"].dt.strftime('%Y-%m-%d')\n",
    "mone[\"échantillon\"] = list(zip(mone.Plage, mone[\"date\"]))\n",
    "mtwo = pd.read_csv('data/end_pipe/macro_current.csv')\n",
    "\n",
    "# these needed to be removed\n",
    "# not_these = [\n",
    "#     'G9492',\n",
    "#     'G989',\n",
    "#     'G9147',\n",
    "#     'G9135',\n",
    "#     'G9134',\n",
    "#     'G9493',\n",
    "#     'G9145',\n",
    "#     'G9331',\n",
    "#     'G9146',\n",
    "#     'G9491'\n",
    "#     ]\n",
    "\n",
    "# mtwo = mtwo[~mtwo.Code.isin(not_these)]\n",
    "# mtwo.to_csv('data/end_pipe/macro_current.csv', index=False)\n",
    "mtwo[\"Date\"] = pd.to_datetime(mtwo.Date, format='mixed', dayfirst=True)\n",
    "mtwo[\"Date\"] = mtwo[\"Date\"].dt.strftime('%Y-%m-%d')\n",
    "\n",
    "\n",
    "new_names = {'Substrat':'substrat', 'Date':'date', 'Code':'code', 'Aire':'area', 'Quantité':'quantité'}\n",
    "columns = ['échantillon', 'Plage', 'date', 'area', 'quantité', 'code']\n",
    "\n",
    "t1 = mone[~mone.isna()][columns]"
   ]
  },
  {
   "cell_type": "code",
   "execution_count": 3,
   "id": "5e098130-9291-4b78-a204-6f9f74f5e930",
   "metadata": {},
   "outputs": [
    {
     "data": {
      "text/html": [
       "<div>\n",
       "<style scoped>\n",
       "    .dataframe tbody tr th:only-of-type {\n",
       "        vertical-align: middle;\n",
       "    }\n",
       "\n",
       "    .dataframe tbody tr th {\n",
       "        vertical-align: top;\n",
       "    }\n",
       "\n",
       "    .dataframe thead th {\n",
       "        text-align: right;\n",
       "    }\n",
       "</style>\n",
       "<table border=\"1\" class=\"dataframe\">\n",
       "  <thead>\n",
       "    <tr style=\"text-align: right;\">\n",
       "      <th></th>\n",
       "      <th>échantillon</th>\n",
       "      <th>Plage</th>\n",
       "      <th>date</th>\n",
       "      <th>area</th>\n",
       "      <th>quantité</th>\n",
       "      <th>code</th>\n",
       "    </tr>\n",
       "  </thead>\n",
       "  <tbody>\n",
       "    <tr>\n",
       "      <th>0</th>\n",
       "      <td>(Amphion, 2022-02-01)</td>\n",
       "      <td>Amphion</td>\n",
       "      <td>2022-02-01</td>\n",
       "      <td>440</td>\n",
       "      <td>0</td>\n",
       "      <td>G159</td>\n",
       "    </tr>\n",
       "    <tr>\n",
       "      <th>1</th>\n",
       "      <td>(Amphion, 2022-02-01)</td>\n",
       "      <td>Amphion</td>\n",
       "      <td>2022-02-01</td>\n",
       "      <td>440</td>\n",
       "      <td>0</td>\n",
       "      <td>G10</td>\n",
       "    </tr>\n",
       "    <tr>\n",
       "      <th>2</th>\n",
       "      <td>(Amphion, 2022-02-01)</td>\n",
       "      <td>Amphion</td>\n",
       "      <td>2022-02-01</td>\n",
       "      <td>440</td>\n",
       "      <td>0</td>\n",
       "      <td>G103</td>\n",
       "    </tr>\n",
       "    <tr>\n",
       "      <th>3</th>\n",
       "      <td>(Amphion, 2022-02-01)</td>\n",
       "      <td>Amphion</td>\n",
       "      <td>2022-02-01</td>\n",
       "      <td>440</td>\n",
       "      <td>0</td>\n",
       "      <td>G106</td>\n",
       "    </tr>\n",
       "    <tr>\n",
       "      <th>4</th>\n",
       "      <td>(Amphion, 2022-02-01)</td>\n",
       "      <td>Amphion</td>\n",
       "      <td>2022-02-01</td>\n",
       "      <td>440</td>\n",
       "      <td>0</td>\n",
       "      <td>G117</td>\n",
       "    </tr>\n",
       "  </tbody>\n",
       "</table>\n",
       "</div>"
      ],
      "text/plain": [
       "             échantillon    Plage        date  area  quantité  code\n",
       "0  (Amphion, 2022-02-01)  Amphion  2022-02-01   440         0  G159\n",
       "1  (Amphion, 2022-02-01)  Amphion  2022-02-01   440         0   G10\n",
       "2  (Amphion, 2022-02-01)  Amphion  2022-02-01   440         0  G103\n",
       "3  (Amphion, 2022-02-01)  Amphion  2022-02-01   440         0  G106\n",
       "4  (Amphion, 2022-02-01)  Amphion  2022-02-01   440         0  G117"
      ]
     },
     "execution_count": 3,
     "metadata": {},
     "output_type": "execute_result"
    }
   ],
   "source": [
    "t1.head()"
   ]
  },
  {
   "cell_type": "code",
   "execution_count": 4,
   "id": "f1bd5b86-cd99-43df-a5f0-52b87b2deecc",
   "metadata": {},
   "outputs": [],
   "source": [
    "mtwo['échantillon'] = list(zip(mtwo.Plage, mtwo.Date))\n",
    "mtwo.rename(columns=new_names, inplace=True)\n",
    "t2 = mtwo[columns]"
   ]
  },
  {
   "cell_type": "code",
   "execution_count": 5,
   "id": "e5116d78-7330-4e88-852c-eaeebca84dd6",
   "metadata": {},
   "outputs": [
    {
     "data": {
      "text/html": [
       "<div>\n",
       "<style scoped>\n",
       "    .dataframe tbody tr th:only-of-type {\n",
       "        vertical-align: middle;\n",
       "    }\n",
       "\n",
       "    .dataframe tbody tr th {\n",
       "        vertical-align: top;\n",
       "    }\n",
       "\n",
       "    .dataframe thead th {\n",
       "        text-align: right;\n",
       "    }\n",
       "</style>\n",
       "<table border=\"1\" class=\"dataframe\">\n",
       "  <thead>\n",
       "    <tr style=\"text-align: right;\">\n",
       "      <th></th>\n",
       "      <th>échantillon</th>\n",
       "      <th>Plage</th>\n",
       "      <th>date</th>\n",
       "      <th>area</th>\n",
       "      <th>quantité</th>\n",
       "      <th>code</th>\n",
       "    </tr>\n",
       "  </thead>\n",
       "  <tbody>\n",
       "    <tr>\n",
       "      <th>0</th>\n",
       "      <td>(Amphion, 2022-02-01)</td>\n",
       "      <td>Amphion</td>\n",
       "      <td>2022-02-01</td>\n",
       "      <td>98</td>\n",
       "      <td>2</td>\n",
       "      <td>G24</td>\n",
       "    </tr>\n",
       "    <tr>\n",
       "      <th>1</th>\n",
       "      <td>(Amphion, 2022-02-01)</td>\n",
       "      <td>Amphion</td>\n",
       "      <td>2022-02-01</td>\n",
       "      <td>342</td>\n",
       "      <td>42</td>\n",
       "      <td>G24</td>\n",
       "    </tr>\n",
       "    <tr>\n",
       "      <th>2</th>\n",
       "      <td>(Amphion, 2022-05-03)</td>\n",
       "      <td>Amphion</td>\n",
       "      <td>2022-05-03</td>\n",
       "      <td>342</td>\n",
       "      <td>5</td>\n",
       "      <td>G24</td>\n",
       "    </tr>\n",
       "    <tr>\n",
       "      <th>3</th>\n",
       "      <td>(Amphion, 2022-07-19)</td>\n",
       "      <td>Amphion</td>\n",
       "      <td>2022-07-19</td>\n",
       "      <td>98</td>\n",
       "      <td>5</td>\n",
       "      <td>G24</td>\n",
       "    </tr>\n",
       "    <tr>\n",
       "      <th>4</th>\n",
       "      <td>(Amphion, 2022-07-19)</td>\n",
       "      <td>Amphion</td>\n",
       "      <td>2022-07-19</td>\n",
       "      <td>342</td>\n",
       "      <td>11</td>\n",
       "      <td>G24</td>\n",
       "    </tr>\n",
       "  </tbody>\n",
       "</table>\n",
       "</div>"
      ],
      "text/plain": [
       "             échantillon    Plage        date  area  quantité code\n",
       "0  (Amphion, 2022-02-01)  Amphion  2022-02-01    98         2  G24\n",
       "1  (Amphion, 2022-02-01)  Amphion  2022-02-01   342        42  G24\n",
       "2  (Amphion, 2022-05-03)  Amphion  2022-05-03   342         5  G24\n",
       "3  (Amphion, 2022-07-19)  Amphion  2022-07-19    98         5  G24\n",
       "4  (Amphion, 2022-07-19)  Amphion  2022-07-19   342        11  G24"
      ]
     },
     "execution_count": 5,
     "metadata": {},
     "output_type": "execute_result"
    }
   ],
   "source": [
    "t2.head()"
   ]
  },
  {
   "cell_type": "code",
   "execution_count": 6,
   "id": "763e3859-9d0a-44c3-b6e6-f922703cc07c",
   "metadata": {},
   "outputs": [
    {
     "name": "stdout",
     "output_type": "stream",
     "text": [
      "<class 'pandas.core.frame.DataFrame'>\n",
      "RangeIndex: 2147 entries, 0 to 2146\n",
      "Data columns (total 6 columns):\n",
      " #   Column       Non-Null Count  Dtype \n",
      "---  ------       --------------  ----- \n",
      " 0   échantillon  2147 non-null   object\n",
      " 1   Plage        2147 non-null   object\n",
      " 2   date         2147 non-null   object\n",
      " 3   area         2147 non-null   int64 \n",
      " 4   quantité     2147 non-null   int64 \n",
      " 5   code         2147 non-null   object\n",
      "dtypes: int64(2), object(4)\n",
      "memory usage: 100.8+ KB\n"
     ]
    }
   ],
   "source": [
    "t2.info()"
   ]
  },
  {
   "cell_type": "code",
   "execution_count": 7,
   "id": "521191e2-57ad-44a7-a3d9-fc59f6797bc5",
   "metadata": {},
   "outputs": [
    {
     "name": "stdout",
     "output_type": "stream",
     "text": [
      "<class 'pandas.core.frame.DataFrame'>\n",
      "RangeIndex: 7154 entries, 0 to 7153\n",
      "Data columns (total 6 columns):\n",
      " #   Column       Non-Null Count  Dtype \n",
      "---  ------       --------------  ----- \n",
      " 0   échantillon  7154 non-null   object\n",
      " 1   Plage        7154 non-null   object\n",
      " 2   date         7154 non-null   object\n",
      " 3   area         7154 non-null   int64 \n",
      " 4   quantité     7154 non-null   int64 \n",
      " 5   code         7154 non-null   object\n",
      "dtypes: int64(2), object(4)\n",
      "memory usage: 335.5+ KB\n"
     ]
    }
   ],
   "source": [
    "t1.info()"
   ]
  },
  {
   "cell_type": "code",
   "execution_count": 8,
   "id": "a31fc1a9-bfbf-4321-ad58-f8a18927c496",
   "metadata": {},
   "outputs": [
    {
     "data": {
      "text/plain": [
       "28107"
      ]
     },
     "execution_count": 8,
     "metadata": {},
     "output_type": "execute_result"
    }
   ],
   "source": [
    "t1['quantité'].sum()"
   ]
  },
  {
   "cell_type": "code",
   "execution_count": 9,
   "id": "f70652a7-306f-43c9-b841-281038cf4700",
   "metadata": {},
   "outputs": [
    {
     "data": {
      "text/plain": [
       "28107"
      ]
     },
     "execution_count": 9,
     "metadata": {},
     "output_type": "execute_result"
    }
   ],
   "source": [
    "t2['quantité'].sum()"
   ]
  },
  {
   "cell_type": "code",
   "execution_count": 10,
   "id": "16deb5ee-4476-43ff-aad1-69a105b6f828",
   "metadata": {},
   "outputs": [
    {
     "data": {
      "text/plain": [
       "98"
      ]
     },
     "execution_count": 10,
     "metadata": {},
     "output_type": "execute_result"
    }
   ],
   "source": [
    "t2[\"échantillon\"].nunique()"
   ]
  },
  {
   "cell_type": "code",
   "execution_count": 11,
   "id": "32c2cd9e-d1f9-47d3-b4c1-87d3f608aaca",
   "metadata": {},
   "outputs": [
    {
     "data": {
      "text/plain": [
       "98"
      ]
     },
     "execution_count": 11,
     "metadata": {},
     "output_type": "execute_result"
    }
   ],
   "source": [
    "t1[\"échantillon\"].nunique()"
   ]
  },
  {
   "cell_type": "markdown",
   "id": "3e0cf9a1-fffa-418d-8fbf-1fd3b4cb93ef",
   "metadata": {},
   "source": [
    "## Unknown codes"
   ]
  },
  {
   "cell_type": "code",
   "execution_count": 12,
   "id": "1abed28f-840c-418d-a36f-382f0098c8b3",
   "metadata": {},
   "outputs": [
    {
     "data": {
      "text/plain": [
       "[]"
      ]
     },
     "execution_count": 12,
     "metadata": {},
     "output_type": "execute_result"
    }
   ],
   "source": [
    "mone_codes = mone.code.unique()\n",
    "mtwo_codes = mtwo.code.unique()\n",
    "gfrag_gfoam_gcaps = ['G21', 'G23', 'G24', 'G78', 'G79', 'G80', 'G81', 'G82',]\n",
    "diff_mtwo_mone = set(mtwo_codes).difference(set(mone_codes))\n",
    "\n",
    "codes_in_mtwo_not_in_mone = [x for x in diff_mtwo_mone if x not in gfrag_gfoam_gcaps]\n",
    "codes_in_mtwo_not_in_mone"
   ]
  },
  {
   "cell_type": "code",
   "execution_count": 13,
   "id": "e10fd9a7-6702-4ee9-9cd0-81ba6260d10c",
   "metadata": {},
   "outputs": [
    {
     "data": {
      "text/plain": [
       "0"
      ]
     },
     "execution_count": 13,
     "metadata": {},
     "output_type": "execute_result"
    }
   ],
   "source": [
    "# codes in mtwo not in mone:\n",
    "mt_wtf = mtwo[mtwo.code.isin(codes_in_mtwo_not_in_mone)]\n",
    "mt_wtf['quantité'].sum()"
   ]
  },
  {
   "cell_type": "markdown",
   "id": "d2980198-6f46-4213-9191-ec0ca587449e",
   "metadata": {},
   "source": [
    "## Find the errors\n",
    "\n",
    "C'est possible que il'n'y a pas de distinction entre les deux zones pour revernges le 13 août. "
   ]
  },
  {
   "cell_type": "code",
   "execution_count": 14,
   "id": "c188e4e4-e8ac-4742-ae82-8251f7901e80",
   "metadata": {},
   "outputs": [],
   "source": [
    "t2 = t2[~t2.code.isin(codes_in_mtwo_not_in_mone)]\n",
    "\n",
    "t1_dt = t1.groupby(\"échantillon\")[[\"quantité\"]].sum()\n",
    "t2_dt = t2.groupby(\"échantillon\")[[\"quantité\"]].sum()\n",
    "\n",
    "t1_dt['s'] = [str(x) for x in t1_dt.index]\n",
    "t2_dt['s'] = [str(x) for x in t2_dt.index]\n",
    "\n",
    "t1_dt.set_index('s', inplace=True)\n",
    "t2_dt.set_index('s', inplace=True)"
   ]
  },
  {
   "cell_type": "markdown",
   "id": "736326c0-f45a-4ce7-89f9-19962c2c19aa",
   "metadata": {},
   "source": [
    "### difference"
   ]
  },
  {
   "cell_type": "code",
   "execution_count": 15,
   "id": "1284c404-a834-4605-8ffc-ddc40f0e68c3",
   "metadata": {},
   "outputs": [
    {
     "name": "stdout",
     "output_type": "stream",
     "text": [
      "Il y a 0 plus d'objets en t2\n"
     ]
    }
   ],
   "source": [
    "print(f'Il y a {t2_dt[\"quantité\"].sum() - t1_dt[\"quantité\"].sum()} plus d\\'objets en t2')"
   ]
  },
  {
   "cell_type": "code",
   "execution_count": 16,
   "id": "15d9d7ed-2047-47d8-9422-4b18899ff0cc",
   "metadata": {},
   "outputs": [
    {
     "data": {
      "text/plain": [
       "array([0, 0, 0, 0, 0, 0, 0, 0, 0, 0, 0, 0, 0, 0, 0, 0, 0, 0, 0, 0, 0, 0,\n",
       "       0, 0, 0, 0, 0, 0, 0, 0, 0, 0, 0, 0, 0, 0, 0, 0, 0, 0, 0, 0, 0, 0,\n",
       "       0, 0, 0, 0, 0, 0, 0, 0, 0, 0, 0, 0, 0, 0, 0, 0, 0, 0, 0, 0, 0, 0,\n",
       "       0, 0, 0, 0, 0, 0, 0, 0, 0, 0, 0, 0, 0, 0, 0, 0, 0, 0, 0, 0, 0, 0,\n",
       "       0, 0, 0, 0, 0, 0, 0, 0, 0, 0])"
      ]
     },
     "execution_count": 16,
     "metadata": {},
     "output_type": "execute_result"
    }
   ],
   "source": [
    "t1_dt['t2_q'] = t1_dt.index.map(lambda x: t2_dt.loc[x, 'quantité'])\n",
    "t1_dt['diff'] = t1_dt['quantité'] - t1_dt.t2_q\n",
    "\n",
    "t1_dt['diff'].values"
   ]
  },
  {
   "cell_type": "code",
   "execution_count": 17,
   "id": "ec7b4fae-f762-4326-8b13-8b7da7baefb8",
   "metadata": {},
   "outputs": [],
   "source": [
    "event_total = mtwo.groupby([\"échantillon\", \"Plage\", \"date\", \"Position\", \"area\"], as_index=False)[\"quantité\"].sum()\n",
    "event_total['pcs/m²'] = event_total[\"quantité\"]/event_total.area"
   ]
  },
  {
   "cell_type": "markdown",
   "id": "913969ea-975c-4ec0-9daa-41f0c1b21446",
   "metadata": {},
   "source": [
    "### compare surface areas"
   ]
  },
  {
   "cell_type": "code",
   "execution_count": 18,
   "id": "9df90a55-77f4-4f63-adbf-14dcb704e016",
   "metadata": {},
   "outputs": [
    {
     "data": {
      "text/plain": [
       "count    185.000000\n",
       "mean       0.758360\n",
       "std        1.032423\n",
       "min        0.005263\n",
       "25%        0.179104\n",
       "50%        0.377358\n",
       "75%        0.944444\n",
       "max        7.585859\n",
       "Name: pcs/m², dtype: float64"
      ]
     },
     "execution_count": 18,
     "metadata": {},
     "output_type": "execute_result"
    }
   ],
   "source": [
    "event_total['pcs/m²'].describe()"
   ]
  },
  {
   "cell_type": "code",
   "execution_count": 19,
   "id": "31162f77-bdd1-4677-a8fa-ec2816e42dc5",
   "metadata": {},
   "outputs": [
    {
     "data": {
      "text/plain": [
       "count    98.000000\n",
       "mean      0.659221\n",
       "std       0.660652\n",
       "min       0.025974\n",
       "25%       0.204404\n",
       "50%       0.469382\n",
       "75%       0.845195\n",
       "max       3.554572\n",
       "Name: pcs/m², dtype: float64"
      ]
     },
     "execution_count": 19,
     "metadata": {},
     "output_type": "execute_result"
    }
   ],
   "source": [
    "mtest = mone.groupby([\"échantillon\", \"Plage\", \"date\", \"area\"], as_index=False)[\"quantité\"].sum()\n",
    "mtest[\"pcs/m²\"] = mtest[\"quantité\"]/mtest.area\n",
    "mtest[\"pcs/m²\"].describe()"
   ]
  },
  {
   "cell_type": "markdown",
   "id": "d8bf9738-b5bb-4ecd-b8fd-cfc3985f4e56",
   "metadata": {},
   "source": [
    "### Extrapolated values"
   ]
  },
  {
   "cell_type": "code",
   "execution_count": 20,
   "id": "e8291dbe-3558-4b0b-9642-8c58d92daf50",
   "metadata": {},
   "outputs": [],
   "source": [
    "from scipy.stats import multinomial\n",
    "from scipy.stats import norm"
   ]
  },
  {
   "cell_type": "markdown",
   "id": "5c571075-5514-458d-bb47-dd3e19567b4f",
   "metadata": {},
   "source": [
    "### Microplastics 1'266 712 044 - 1'349 710 956"
   ]
  },
  {
   "cell_type": "code",
   "execution_count": 57,
   "id": "3a0eb1de-17d3-456e-8ddf-df31f15ccab5",
   "metadata": {},
   "outputs": [],
   "source": [
    "from scipy.interpolate import interp1d\n",
    "import matplotlib.pyplot as plt\n",
    "\n",
    "# bayes\n",
    "# given quantiles and their corresponding values\n",
    "quantiles = np.array([0.01, 0.25, 0.50, 0.75, 0.99])\n",
    "quantile_values = np.array([1, 4, 46, 110, 248, 460, 3000])\n",
    "\n",
    "# min and max values are the first and last in quantile_values\n",
    "min_value = quantile_values[0]\n",
    "max_value = quantile_values[-1]\n",
    "sampled\n",
    "# linearly interpolate a CDF based on the quantiles\n",
    "cdf = interp1d(quantiles, quantile_values[1:-1], bounds_error=False, fill_value=(min_value, max_value), kind='linear')\n",
    "sampled = []\n",
    "samples = 100*68399\n",
    "# sample rom the CDF's range and invert the CDF to get samples\n",
    "for _ in range(50):\n",
    "    uniform_samples = np.random.uniform(0, 1, size=samples)\n",
    "    samples_c = cdf(uniform_samples)\n",
    "    sampled.append(samples_c.sum())"
   ]
  },
  {
   "cell_type": "code",
   "execution_count": 58,
   "id": "20f34946-661a-4ba4-850a-ae77cb154d19",
   "metadata": {},
   "outputs": [
    {
     "name": "stdout",
     "output_type": "stream",
     "text": [
      "1266712044.614237 1266732029.1250787 [1.26673203e+09 1.26618956e+09 1.26673203e+09 1.26727032e+09\n",
      " 1.26788735e+09]\n"
     ]
    }
   ],
   "source": [
    "print(np.mean(sampled), np.median(sampled), np.quantile(sampled, [.5, .25, .5, .75, .95]))"
   ]
  },
  {
   "cell_type": "code",
   "execution_count": 59,
   "id": "3086ca0b-d066-467f-a187-0f432a9efc36",
   "metadata": {},
   "outputs": [],
   "source": [
    "# random forest\n",
    "quantile_values = np.array([1, 54, 113, 137, 149, 520, 3000])\n",
    "min_value = quantile_values[0]\n",
    "max_value = quantile_values[-1]\n",
    "sampled = []\n",
    "# Linearly interpolate a CDF based on the quantiles\n",
    "cdf = interp1d(quantiles, quantile_values[1:-1], bounds_error=False, fill_value=(min_value, max_value), kind='linear')\n",
    "\n",
    "# Sample uniformly from the CDF's range and invert the CDF to get samples\n",
    "for _ in range(50):\n",
    "    uniform_samples = np.random.uniform(0, 1, size=samples)\n",
    "    samples_c = cdf(uniform_samples)\n",
    "    sampled.append(samples_c.sum())"
   ]
  },
  {
   "cell_type": "code",
   "execution_count": 60,
   "id": "0e4d94ea-c352-41c0-a577-e28958a5d212",
   "metadata": {},
   "outputs": [
    {
     "name": "stdout",
     "output_type": "stream",
     "text": [
      "1349710956.3528557 1349655583.7330441 [1.34965558e+09 1.34927715e+09 1.34965558e+09 1.35013224e+09\n",
      " 1.35091905e+09]\n"
     ]
    }
   ],
   "source": [
    "print(np.mean(sampled), np.median(sampled), np.quantile(sampled, [.5, .25, .5, .75, .95]))"
   ]
  },
  {
   "cell_type": "markdown",
   "id": "a8fc481f-8d2d-435f-ad68-47fbd401588d",
   "metadata": {},
   "source": [
    "### Macroplastics total pieces 47,100 - 70,651"
   ]
  },
  {
   "cell_type": "code",
   "execution_count": 61,
   "id": "fa5a357e-6bbd-4ba6-ad01-e36adf7bf882",
   "metadata": {},
   "outputs": [],
   "source": [
    "# bayes\n",
    "quantile_values = np.array([.01, .03, .14, .34, 1.06, 4.58, 10])\n",
    "min_value = quantile_values[0]\n",
    "max_value = quantile_values[-1]\n",
    "sampled = []\n",
    "# Linearly interpolate a CDF based on the quantiles\n",
    "cdf = interp1d(quantiles, quantile_values[1:-1], bounds_error=False, fill_value=(min_value, max_value), kind='linear')\n",
    "samples = 68399\n",
    "# Sample uniformly from the CDF's range and invert the CDF to get samples\n",
    "for _ in range(50):\n",
    "    uniform_samples = np.random.uniform(0, 1, size=samples)\n",
    "    samples_c = cdf(uniform_samples)\n",
    "    sampled.append(samples_c.sum())"
   ]
  },
  {
   "cell_type": "code",
   "execution_count": 62,
   "id": "6269937a-9f4b-4734-bf16-c66e93f78b28",
   "metadata": {},
   "outputs": [
    {
     "name": "stdout",
     "output_type": "stream",
     "text": [
      "70651.34697759344 70672.78455114464 [70672.78455114 70411.29306953 70672.78455114 70937.4276092\n",
      " 71374.13307123]\n"
     ]
    }
   ],
   "source": [
    "print(np.mean(sampled), np.median(sampled), np.quantile(sampled, [.5, .25, .5, .75, .95]))"
   ]
  },
  {
   "cell_type": "code",
   "execution_count": 63,
   "id": "0bbad888-2c57-4b92-9621-e445d12b2c0f",
   "metadata": {},
   "outputs": [],
   "source": [
    "# random forest\n",
    "quantile_values = np.array([.01, .10, .24, .47, .6, 2.12, 10])\n",
    "min_value = quantile_values[0]\n",
    "max_value = quantile_values[-1]\n",
    "sampled = []\n",
    "# Linearly interpolate a CDF based on the quantiles\n",
    "cdf = interp1d(quantiles, quantile_values[1:-1], bounds_error=False, fill_value=(min_value, max_value), kind='linear')\n",
    "samples = 68399\n",
    "# Sample uniformly from the CDF's range and invert the CDF to get samples\n",
    "for _ in range(50):\n",
    "    uniform_samples = np.random.uniform(0, 1, size=samples)\n",
    "    samples_c = cdf(uniform_samples)\n",
    "    sampled.append(samples_c.sum())"
   ]
  },
  {
   "cell_type": "code",
   "execution_count": 64,
   "id": "47dc7b62-8a53-4141-9e35-aa0fdad82dfa",
   "metadata": {},
   "outputs": [
    {
     "name": "stdout",
     "output_type": "stream",
     "text": [
      "47197.04576489083 47216.12036251611 [47216.12036252 47018.03671376 47216.12036252 47377.82274265\n",
      " 47645.53493148]\n"
     ]
    }
   ],
   "source": [
    "print(np.mean(sampled), np.median(sampled), np.quantile(sampled, [.5, .25, .5, .75, .95]))"
   ]
  },
  {
   "cell_type": "code",
   "execution_count": null,
   "id": "60f17b8c-e046-4065-945d-5d5c4bfbee1e",
   "metadata": {},
   "outputs": [],
   "source": []
  }
 ],
 "metadata": {
  "kernelspec": {
   "display_name": "Python 3 (ipykernel)",
   "language": "python",
   "name": "python3"
  },
  "language_info": {
   "codemirror_mode": {
    "name": "ipython",
    "version": 3
   },
   "file_extension": ".py",
   "mimetype": "text/x-python",
   "name": "python",
   "nbconvert_exporter": "python",
   "pygments_lexer": "ipython3",
   "version": "3.9.18"
  }
 },
 "nbformat": 4,
 "nbformat_minor": 5
}
