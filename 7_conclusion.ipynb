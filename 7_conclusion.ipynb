{
 "cells": [
  {
   "cell_type": "code",
   "execution_count": 1,
   "id": "1bcf53db-e1a1-4116-8279-6b69c6c5ea30",
   "metadata": {
    "editable": true,
    "pycharm": {
     "name": "#%%\n"
    },
    "slideshow": {
     "slide_type": ""
    },
    "tags": [
     "remove-input"
    ]
   },
   "outputs": [],
   "source": [
    "import numpy as np\n",
    "import pandas as pd\n",
    "import matplotlib.pyplot as plt\n",
    "import seaborn as sns\n",
    "from myst_nb import glue\n",
    "from IPython.core.display import HTML, Markdown\n",
    "from plastockconf import particle_groups, name_substrate, name_distance, table_css_styles_top\n"
   ]
  },
  {
   "cell_type": "code",
   "execution_count": 2,
   "id": "b0f6d80e-a28f-4960-ac98-a69a5b02d86a",
   "metadata": {
    "editable": true,
    "pycharm": {
     "name": "#%%\n"
    },
    "slideshow": {
     "slide_type": ""
    },
    "tags": [
     "remove-input"
    ]
   },
   "outputs": [
    {
     "data": {
      "application/papermill.record/text/html": "<style type=\"text/css\">\n#T_a70a0 tr:nth-child(even) {\n  background-color: rgba(139, 69, 19, 0.08);\n}\n#T_a70a0 tr:nth-child(odd) {\n  background: #FFF;\n}\n#T_a70a0 tr {\n  font-size: 14px;\n  padding: 6px;\n}\n#T_a70a0 th:nth-child(1) {\n  background-color: #FFF;\n  white-space: nowrap;\n  word-break: keep-all;\n}\n#T_a70a0 caption {\n  caption-side: top;\n  font-size: 12px;\n  text-align: left;\n  margin-top: 12px;\n}\n</style>\n<table id=\"T_a70a0\">\n  <caption>Graviers</caption>\n  <thead>\n    <tr>\n      <th class=\"blank level0\" >&nbsp;</th>\n      <th id=\"T_a70a0_level0_col0\" class=\"col_heading level0 col0\" >observée</th>\n      <th id=\"T_a70a0_level0_col1\" class=\"col_heading level0 col1\" >prédiction</th>\n    </tr>\n  </thead>\n  <tbody>\n    <tr>\n      <th id=\"T_a70a0_level0_row0\" class=\"row_heading level0 row0\" >1%</th>\n      <td id=\"T_a70a0_row0_col0\" class=\"data row0 col0\" >24.20</td>\n      <td id=\"T_a70a0_row0_col1\" class=\"data row0 col1\" >2.99</td>\n    </tr>\n    <tr>\n      <th id=\"T_a70a0_level0_row1\" class=\"row_heading level0 row1\" >25%</th>\n      <td id=\"T_a70a0_row1_col0\" class=\"data row1 col0\" >62.00</td>\n      <td id=\"T_a70a0_row1_col1\" class=\"data row1 col1\" >49.75</td>\n    </tr>\n    <tr>\n      <th id=\"T_a70a0_level0_row2\" class=\"row_heading level0 row2\" >50%</th>\n      <td id=\"T_a70a0_row2_col0\" class=\"data row2 col0\" >89.00</td>\n      <td id=\"T_a70a0_row2_col1\" class=\"data row2 col1\" >86.00</td>\n    </tr>\n    <tr>\n      <th id=\"T_a70a0_level0_row3\" class=\"row_heading level0 row3\" >75%</th>\n      <td id=\"T_a70a0_row3_col0\" class=\"data row3 col0\" >158.00</td>\n      <td id=\"T_a70a0_row3_col1\" class=\"data row3 col1\" >227.50</td>\n    </tr>\n    <tr>\n      <th id=\"T_a70a0_level0_row4\" class=\"row_heading level0 row4\" >99%</th>\n      <td id=\"T_a70a0_row4_col0\" class=\"data row4 col0\" >790.80</td>\n      <td id=\"T_a70a0_row4_col1\" class=\"data row4 col1\" >940.20</td>\n    </tr>\n    <tr>\n      <th id=\"T_a70a0_level0_row5\" class=\"row_heading level0 row5\" >Moyenne</th>\n      <td id=\"T_a70a0_row5_col0\" class=\"data row5 col0\" >141.73</td>\n      <td id=\"T_a70a0_row5_col1\" class=\"data row5 col1\" >187.69</td>\n    </tr>\n  </tbody>\n</table>\n",
      "application/papermill.record/text/plain": "<IPython.core.display.HTML object>"
     },
     "metadata": {
      "scrapbook": {
       "mime_prefix": "application/papermill.record/",
       "name": "micro_graviers"
      }
     },
     "output_type": "display_data"
    },
    {
     "data": {
      "application/papermill.record/text/html": "<style type=\"text/css\">\n#T_6b991 tr:nth-child(even) {\n  background-color: rgba(139, 69, 19, 0.08);\n}\n#T_6b991 tr:nth-child(odd) {\n  background: #FFF;\n}\n#T_6b991 tr {\n  font-size: 14px;\n  padding: 6px;\n}\n#T_6b991 th:nth-child(1) {\n  background-color: #FFF;\n  white-space: nowrap;\n  word-break: keep-all;\n}\n#T_6b991 caption {\n  caption-side: top;\n  font-size: 12px;\n  text-align: left;\n  margin-top: 12px;\n}\n</style>\n<table id=\"T_6b991\">\n  <caption>Ligne d'eau</caption>\n  <thead>\n    <tr>\n      <th class=\"blank level0\" >&nbsp;</th>\n      <th id=\"T_6b991_level0_col0\" class=\"col_heading level0 col0\" >observée</th>\n      <th id=\"T_6b991_level0_col1\" class=\"col_heading level0 col1\" >prédiction</th>\n    </tr>\n  </thead>\n  <tbody>\n    <tr>\n      <th id=\"T_6b991_level0_row0\" class=\"row_heading level0 row0\" >1%</th>\n      <td id=\"T_6b991_row0_col0\" class=\"data row0 col0\" >20.30</td>\n      <td id=\"T_6b991_row0_col1\" class=\"data row0 col1\" >0.00</td>\n    </tr>\n    <tr>\n      <th id=\"T_6b991_level0_row1\" class=\"row_heading level0 row1\" >25%</th>\n      <td id=\"T_6b991_row1_col0\" class=\"data row1 col0\" >53.50</td>\n      <td id=\"T_6b991_row1_col1\" class=\"data row1 col1\" >22.75</td>\n    </tr>\n    <tr>\n      <th id=\"T_6b991_level0_row2\" class=\"row_heading level0 row2\" >50%</th>\n      <td id=\"T_6b991_row2_col0\" class=\"data row2 col0\" >85.00</td>\n      <td id=\"T_6b991_row2_col1\" class=\"data row2 col1\" >52.00</td>\n    </tr>\n    <tr>\n      <th id=\"T_6b991_level0_row3\" class=\"row_heading level0 row3\" >75%</th>\n      <td id=\"T_6b991_row3_col0\" class=\"data row3 col0\" >129.00</td>\n      <td id=\"T_6b991_row3_col1\" class=\"data row3 col1\" >89.00</td>\n    </tr>\n    <tr>\n      <th id=\"T_6b991_level0_row4\" class=\"row_heading level0 row4\" >99%</th>\n      <td id=\"T_6b991_row4_col0\" class=\"data row4 col0\" >686.80</td>\n      <td id=\"T_6b991_row4_col1\" class=\"data row4 col1\" >910.01</td>\n    </tr>\n    <tr>\n      <th id=\"T_6b991_level0_row5\" class=\"row_heading level0 row5\" >Moyenne</th>\n      <td id=\"T_6b991_row5_col0\" class=\"data row5 col0\" >116.84</td>\n      <td id=\"T_6b991_row5_col1\" class=\"data row5 col1\" >104.30</td>\n    </tr>\n  </tbody>\n</table>\n",
      "application/papermill.record/text/plain": "<IPython.core.display.HTML object>"
     },
     "metadata": {
      "scrapbook": {
       "mime_prefix": "application/papermill.record/",
       "name": "micro_ligne_deau"
      }
     },
     "output_type": "display_data"
    },
    {
     "data": {
      "application/papermill.record/text/html": "<style type=\"text/css\">\n#T_f46b4 tr:nth-child(even) {\n  background-color: rgba(139, 69, 19, 0.08);\n}\n#T_f46b4 tr:nth-child(odd) {\n  background: #FFF;\n}\n#T_f46b4 tr {\n  font-size: 14px;\n  padding: 6px;\n}\n#T_f46b4 th:nth-child(1) {\n  background-color: #FFF;\n  white-space: nowrap;\n  word-break: keep-all;\n}\n#T_f46b4 caption {\n  caption-side: top;\n  font-size: 12px;\n  text-align: left;\n  margin-top: 12px;\n}\n</style>\n<table id=\"T_f46b4\">\n  <caption>Plage seche</caption>\n  <thead>\n    <tr>\n      <th class=\"blank level0\" >&nbsp;</th>\n      <th id=\"T_f46b4_level0_col0\" class=\"col_heading level0 col0\" >observée</th>\n      <th id=\"T_f46b4_level0_col1\" class=\"col_heading level0 col1\" >prédiction</th>\n    </tr>\n  </thead>\n  <tbody>\n    <tr>\n      <th id=\"T_f46b4_level0_row0\" class=\"row_heading level0 row0\" >1%</th>\n      <td id=\"T_f46b4_row0_col0\" class=\"data row0 col0\" >49.74</td>\n      <td id=\"T_f46b4_row0_col1\" class=\"data row0 col1\" >4.98</td>\n    </tr>\n    <tr>\n      <th id=\"T_f46b4_level0_row1\" class=\"row_heading level0 row1\" >25%</th>\n      <td id=\"T_f46b4_row1_col0\" class=\"data row1 col0\" >115.50</td>\n      <td id=\"T_f46b4_row1_col1\" class=\"data row1 col1\" >73.50</td>\n    </tr>\n    <tr>\n      <th id=\"T_f46b4_level0_row2\" class=\"row_heading level0 row2\" >50%</th>\n      <td id=\"T_f46b4_row2_col0\" class=\"data row2 col0\" >179.00</td>\n      <td id=\"T_f46b4_row2_col1\" class=\"data row2 col1\" >158.00</td>\n    </tr>\n    <tr>\n      <th id=\"T_f46b4_level0_row3\" class=\"row_heading level0 row3\" >75%</th>\n      <td id=\"T_f46b4_row3_col0\" class=\"data row3 col0\" >253.00</td>\n      <td id=\"T_f46b4_row3_col1\" class=\"data row3 col1\" >362.00</td>\n    </tr>\n    <tr>\n      <th id=\"T_f46b4_level0_row4\" class=\"row_heading level0 row4\" >99%</th>\n      <td id=\"T_f46b4_row4_col0\" class=\"data row4 col0\" >977.78</td>\n      <td id=\"T_f46b4_row4_col1\" class=\"data row4 col1\" >866.51</td>\n    </tr>\n    <tr>\n      <th id=\"T_f46b4_level0_row5\" class=\"row_heading level0 row5\" >Moyenne</th>\n      <td id=\"T_f46b4_row5_col0\" class=\"data row5 col0\" >219.38</td>\n      <td id=\"T_f46b4_row5_col1\" class=\"data row5 col1\" >241.64</td>\n    </tr>\n  </tbody>\n</table>\n",
      "application/papermill.record/text/plain": "<IPython.core.display.HTML object>"
     },
     "metadata": {
      "scrapbook": {
       "mime_prefix": "application/papermill.record/",
       "name": "micro_plage_seche"
      }
     },
     "output_type": "display_data"
    },
    {
     "data": {
      "application/papermill.record/text/html": "<style type=\"text/css\">\n#T_39c52 tr:nth-child(even) {\n  background-color: rgba(139, 69, 19, 0.08);\n}\n#T_39c52 tr:nth-child(odd) {\n  background: #FFF;\n}\n#T_39c52 tr {\n  font-size: 14px;\n  padding: 6px;\n}\n#T_39c52 th:nth-child(1) {\n  background-color: #FFF;\n  white-space: nowrap;\n  word-break: keep-all;\n}\n#T_39c52 caption {\n  caption-side: top;\n  font-size: 12px;\n  text-align: left;\n  margin-top: 12px;\n}\n</style>\n<table id=\"T_39c52\">\n  <caption>Sable</caption>\n  <thead>\n    <tr>\n      <th class=\"blank level0\" >&nbsp;</th>\n      <th id=\"T_39c52_level0_col0\" class=\"col_heading level0 col0\" >observée</th>\n      <th id=\"T_39c52_level0_col1\" class=\"col_heading level0 col1\" >prédiction</th>\n    </tr>\n  </thead>\n  <tbody>\n    <tr>\n      <th id=\"T_39c52_level0_row0\" class=\"row_heading level0 row0\" >1%</th>\n      <td id=\"T_39c52_row0_col0\" class=\"data row0 col0\" >23.76</td>\n      <td id=\"T_39c52_row0_col1\" class=\"data row0 col1\" >2.99</td>\n    </tr>\n    <tr>\n      <th id=\"T_39c52_level0_row1\" class=\"row_heading level0 row1\" >25%</th>\n      <td id=\"T_39c52_row1_col0\" class=\"data row1 col0\" >84.50</td>\n      <td id=\"T_39c52_row1_col1\" class=\"data row1 col1\" >50.75</td>\n    </tr>\n    <tr>\n      <th id=\"T_39c52_level0_row2\" class=\"row_heading level0 row2\" >50%</th>\n      <td id=\"T_39c52_row2_col0\" class=\"data row2 col0\" >136.00</td>\n      <td id=\"T_39c52_row2_col1\" class=\"data row2 col1\" >91.50</td>\n    </tr>\n    <tr>\n      <th id=\"T_39c52_level0_row3\" class=\"row_heading level0 row3\" >75%</th>\n      <td id=\"T_39c52_row3_col0\" class=\"data row3 col0\" >212.00</td>\n      <td id=\"T_39c52_row3_col1\" class=\"data row3 col1\" >235.75</td>\n    </tr>\n    <tr>\n      <th id=\"T_39c52_level0_row4\" class=\"row_heading level0 row4\" >99%</th>\n      <td id=\"T_39c52_row4_col0\" class=\"data row4 col0\" >812.94</td>\n      <td id=\"T_39c52_row4_col1\" class=\"data row4 col1\" >912.69</td>\n    </tr>\n    <tr>\n      <th id=\"T_39c52_level0_row5\" class=\"row_heading level0 row5\" >Moyenne</th>\n      <td id=\"T_39c52_row5_col0\" class=\"data row5 col0\" >177.16</td>\n      <td id=\"T_39c52_row5_col1\" class=\"data row5 col1\" >173.92</td>\n    </tr>\n  </tbody>\n</table>\n",
      "application/papermill.record/text/plain": "<IPython.core.display.HTML object>"
     },
     "metadata": {
      "scrapbook": {
       "mime_prefix": "application/papermill.record/",
       "name": "micro_sables"
      }
     },
     "output_type": "display_data"
    },
    {
     "data": {
      "application/papermill.record/text/html": "<style type=\"text/css\">\n#T_33c31 tr:nth-child(even) {\n  background-color: rgba(139, 69, 19, 0.08);\n}\n#T_33c31 tr:nth-child(odd) {\n  background: #FFF;\n}\n#T_33c31 tr {\n  font-size: 14px;\n  padding: 6px;\n}\n#T_33c31 th:nth-child(1) {\n  background-color: #FFF;\n  white-space: nowrap;\n  word-break: keep-all;\n}\n#T_33c31 caption {\n  caption-side: top;\n  font-size: 12px;\n  text-align: left;\n  margin-top: 12px;\n}\n</style>\n<table id=\"T_33c31\">\n  <thead>\n    <tr>\n      <th class=\"blank level0\" >&nbsp;</th>\n      <th id=\"T_33c31_level0_col0\" class=\"col_heading level0 col0\" >moyenne</th>\n      <th id=\"T_33c31_level0_col1\" class=\"col_heading level0 col1\" >écart-type</th>\n      <th id=\"T_33c31_level0_col2\" class=\"col_heading level0 col2\" >min</th>\n      <th id=\"T_33c31_level0_col3\" class=\"col_heading level0 col3\" >25%</th>\n      <th id=\"T_33c31_level0_col4\" class=\"col_heading level0 col4\" >50%</th>\n      <th id=\"T_33c31_level0_col5\" class=\"col_heading level0 col5\" >75%</th>\n      <th id=\"T_33c31_level0_col6\" class=\"col_heading level0 col6\" >max</th>\n    </tr>\n  </thead>\n  <tbody>\n    <tr>\n      <th id=\"T_33c31_level0_row0\" class=\"row_heading level0 row0\" >Haut lac</th>\n      <td id=\"T_33c31_row0_col0\" class=\"data row0 col0\" >3.24</td>\n      <td id=\"T_33c31_row0_col1\" class=\"data row0 col1\" >3.20</td>\n      <td id=\"T_33c31_row0_col2\" class=\"data row0 col2\" >0.00</td>\n      <td id=\"T_33c31_row0_col3\" class=\"data row0 col3\" >0.81</td>\n      <td id=\"T_33c31_row0_col4\" class=\"data row0 col4\" >2.24</td>\n      <td id=\"T_33c31_row0_col5\" class=\"data row0 col5\" >4.68</td>\n      <td id=\"T_33c31_row0_col6\" class=\"data row0 col6\" >16.49</td>\n    </tr>\n    <tr>\n      <th id=\"T_33c31_level0_row1\" class=\"row_heading level0 row1\" >Grand lac</th>\n      <td id=\"T_33c31_row1_col0\" class=\"data row1 col0\" >2.10</td>\n      <td id=\"T_33c31_row1_col1\" class=\"data row1 col1\" >2.23</td>\n      <td id=\"T_33c31_row1_col2\" class=\"data row1 col2\" >0.00</td>\n      <td id=\"T_33c31_row1_col3\" class=\"data row1 col3\" >0.64</td>\n      <td id=\"T_33c31_row1_col4\" class=\"data row1 col4\" >1.45</td>\n      <td id=\"T_33c31_row1_col5\" class=\"data row1 col5\" >2.75</td>\n      <td id=\"T_33c31_row1_col6\" class=\"data row1 col6\" >14.71</td>\n    </tr>\n    <tr>\n      <th id=\"T_33c31_level0_row2\" class=\"row_heading level0 row2\" >Petit lac</th>\n      <td id=\"T_33c31_row2_col0\" class=\"data row2 col0\" >1.22</td>\n      <td id=\"T_33c31_row2_col1\" class=\"data row2 col1\" >1.58</td>\n      <td id=\"T_33c31_row2_col2\" class=\"data row2 col2\" >0.00</td>\n      <td id=\"T_33c31_row2_col3\" class=\"data row2 col3\" >0.29</td>\n      <td id=\"T_33c31_row2_col4\" class=\"data row2 col4\" >0.75</td>\n      <td id=\"T_33c31_row2_col5\" class=\"data row2 col5\" >1.44</td>\n      <td id=\"T_33c31_row2_col6\" class=\"data row2 col6\" >13.30</td>\n    </tr>\n  </tbody>\n</table>\n",
      "application/papermill.record/text/plain": "<IPython.core.display.HTML object>"
     },
     "metadata": {
      "scrapbook": {
       "mime_prefix": "application/papermill.record/",
       "name": "macro_predictions"
      }
     },
     "output_type": "display_data"
    },
    {
     "data": {
      "application/papermill.record/text/html": "<style type=\"text/css\">\n#T_40f17 tr:nth-child(even) {\n  background-color: rgba(139, 69, 19, 0.08);\n}\n#T_40f17 tr:nth-child(odd) {\n  background: #FFF;\n}\n#T_40f17 tr {\n  font-size: 14px;\n  padding: 6px;\n}\n#T_40f17 th:nth-child(1) {\n  background-color: #FFF;\n  white-space: nowrap;\n  word-break: keep-all;\n}\n#T_40f17 caption {\n  caption-side: top;\n  font-size: 12px;\n  text-align: left;\n  margin-top: 12px;\n}\n#T_40f17_row0_col3, #T_40f17_row1_col3, #T_40f17_row2_col3, #T_40f17_row3_col3, #T_40f17_row4_col3, #T_40f17_row5_col3, #T_40f17_row6_col3, #T_40f17_row7_col4, #T_40f17_row8_col0 {\n  color: rgba(255, 0, 0, 1);\n}\n</style>\n<table id=\"T_40f17\">\n  <thead>\n    <tr>\n      <th class=\"blank level0\" >&nbsp;</th>\n      <th id=\"T_40f17_level0_col0\" class=\"col_heading level0 col0\" >MCBP</th>\n      <th id=\"T_40f17_level0_col1\" class=\"col_heading level0 col1\" >SLR</th>\n      <th id=\"T_40f17_level0_col2\" class=\"col_heading level0 col2\" >IQAASL</th>\n      <th id=\"T_40f17_level0_col3\" class=\"col_heading level0 col3\" >Solid-Waste-Team</th>\n      <th id=\"T_40f17_level0_col4\" class=\"col_heading level0 col4\" >Pla'stock</th>\n    </tr>\n  </thead>\n  <tbody>\n    <tr>\n      <th id=\"T_40f17_level0_row0\" class=\"row_heading level0 row0\" >Min</th>\n      <td id=\"T_40f17_row0_col0\" class=\"data row0 col0\" >0,38</td>\n      <td id=\"T_40f17_row0_col1\" class=\"data row0 col1\" >0,05</td>\n      <td id=\"T_40f17_row0_col2\" class=\"data row0 col2\" >0,16</td>\n      <td id=\"T_40f17_row0_col3\" class=\"data row0 col3\" >1,02</td>\n      <td id=\"T_40f17_row0_col4\" class=\"data row0 col4\" >0,10</td>\n    </tr>\n    <tr>\n      <th id=\"T_40f17_level0_row1\" class=\"row_heading level0 row1\" >25%</th>\n      <td id=\"T_40f17_row1_col0\" class=\"data row1 col0\" >2,50</td>\n      <td id=\"T_40f17_row1_col1\" class=\"data row1 col1\" >1,36</td>\n      <td id=\"T_40f17_row1_col2\" class=\"data row1 col2\" >1,81</td>\n      <td id=\"T_40f17_row1_col3\" class=\"data row1 col3\" >4,76</td>\n      <td id=\"T_40f17_row1_col4\" class=\"data row1 col4\" >0,78</td>\n    </tr>\n    <tr>\n      <th id=\"T_40f17_level0_row2\" class=\"row_heading level0 row2\" >50%</th>\n      <td id=\"T_40f17_row2_col0\" class=\"data row2 col0\" >4,39</td>\n      <td id=\"T_40f17_row2_col1\" class=\"data row2 col1\" >4,40</td>\n      <td id=\"T_40f17_row2_col2\" class=\"data row2 col2\" >3,73</td>\n      <td id=\"T_40f17_row2_col3\" class=\"data row2 col3\" >7,97</td>\n      <td id=\"T_40f17_row2_col4\" class=\"data row2 col4\" >2,00</td>\n    </tr>\n    <tr>\n      <th id=\"T_40f17_level0_row3\" class=\"row_heading level0 row3\" >75%</th>\n      <td id=\"T_40f17_row3_col0\" class=\"data row3 col0\" >8,16</td>\n      <td id=\"T_40f17_row3_col1\" class=\"data row3 col1\" >8,42</td>\n      <td id=\"T_40f17_row3_col2\" class=\"data row3 col2\" >7,29</td>\n      <td id=\"T_40f17_row3_col3\" class=\"data row3 col3\" >13,28</td>\n      <td id=\"T_40f17_row3_col4\" class=\"data row3 col4\" >4,57</td>\n    </tr>\n    <tr>\n      <th id=\"T_40f17_level0_row4\" class=\"row_heading level0 row4\" >Max</th>\n      <td id=\"T_40f17_row4_col0\" class=\"data row4 col0\" >47,37</td>\n      <td id=\"T_40f17_row4_col1\" class=\"data row4 col1\" >37,59</td>\n      <td id=\"T_40f17_row4_col2\" class=\"data row4 col2\" >59,99</td>\n      <td id=\"T_40f17_row4_col3\" class=\"data row4 col3\" >66,03</td>\n      <td id=\"T_40f17_row4_col4\" class=\"data row4 col4\" >18,26</td>\n    </tr>\n    <tr>\n      <th id=\"T_40f17_level0_row5\" class=\"row_heading level0 row5\" >Moyenne</th>\n      <td id=\"T_40f17_row5_col0\" class=\"data row5 col0\" >7,51</td>\n      <td id=\"T_40f17_row5_col1\" class=\"data row5 col1\" >6,56</td>\n      <td id=\"T_40f17_row5_col2\" class=\"data row5 col2\" >7,21</td>\n      <td id=\"T_40f17_row5_col3\" class=\"data row5 col3\" >13,10</td>\n      <td id=\"T_40f17_row5_col4\" class=\"data row5 col4\" >3,42</td>\n    </tr>\n    <tr>\n      <th id=\"T_40f17_level0_row6\" class=\"row_heading level0 row6\" >Écart-type</th>\n      <td id=\"T_40f17_row6_col0\" class=\"data row6 col0\" >8,75</td>\n      <td id=\"T_40f17_row6_col1\" class=\"data row6 col1\" >7,76</td>\n      <td id=\"T_40f17_row6_col2\" class=\"data row6 col2\" >10,47</td>\n      <td id=\"T_40f17_row6_col3\" class=\"data row6 col3\" >16,02</td>\n      <td id=\"T_40f17_row6_col4\" class=\"data row6 col4\" >3,66</td>\n    </tr>\n    <tr>\n      <th id=\"T_40f17_level0_row7\" class=\"row_heading level0 row7\" >Échantillons</th>\n      <td id=\"T_40f17_row7_col0\" class=\"data row7 col0\" >91</td>\n      <td id=\"T_40f17_row7_col1\" class=\"data row7 col1\" >44</td>\n      <td id=\"T_40f17_row7_col2\" class=\"data row7 col2\" >93</td>\n      <td id=\"T_40f17_row7_col3\" class=\"data row7 col3\" >20</td>\n      <td id=\"T_40f17_row7_col4\" class=\"data row7 col4\" >98</td>\n    </tr>\n    <tr>\n      <th id=\"T_40f17_level0_row8\" class=\"row_heading level0 row8\" >Total</th>\n      <td id=\"T_40f17_row8_col0\" class=\"data row8 col0\" >28'645</td>\n      <td id=\"T_40f17_row8_col1\" class=\"data row8 col1\" >8'864</td>\n      <td id=\"T_40f17_row8_col2\" class=\"data row8 col2\" >21'839</td>\n      <td id=\"T_40f17_row8_col3\" class=\"data row8 col3\" >8'173</td>\n      <td id=\"T_40f17_row8_col4\" class=\"data row8 col4\" >27'493</td>\n    </tr>\n  </tbody>\n</table>\n",
      "application/papermill.record/text/plain": "<IPython.core.display.HTML object>"
     },
     "metadata": {
      "scrapbook": {
       "mime_prefix": "application/papermill.record/",
       "name": "table_ten"
      }
     },
     "output_type": "display_data"
    },
    {
     "data": {
      "application/papermill.record/text/html": "<style type=\"text/css\">\n#T_053df tr:nth-child(even) {\n  background-color: rgba(139, 69, 19, 0.08);\n}\n#T_053df tr:nth-child(odd) {\n  background: #FFF;\n}\n#T_053df tr {\n  font-size: 14px;\n  padding: 6px;\n}\n#T_053df th:nth-child(1) {\n  background-color: #FFF;\n  white-space: nowrap;\n  word-break: keep-all;\n}\n#T_053df caption {\n  caption-side: top;\n  font-size: 12px;\n  text-align: left;\n  margin-top: 12px;\n}\n</style>\n<table id=\"T_053df\">\n  <thead>\n    <tr>\n      <th class=\"blank\" >&nbsp;</th>\n      <th class=\"blank level0\" >&nbsp;</th>\n      <th id=\"T_053df_level0_col0\" class=\"col_heading level0 col0\" >Taille échantillonnée en mm</th>\n      <th id=\"T_053df_level0_col1\" class=\"col_heading level0 col1\" >Moyenne particule/m2</th>\n      <th id=\"T_053df_level0_col2\" class=\"col_heading level0 col2\" >Ecart type</th>\n      <th id=\"T_053df_level0_col3\" class=\"col_heading level0 col3\" >Médiane</th>\n      <th id=\"T_053df_level0_col4\" class=\"col_heading level0 col4\" >Min</th>\n      <th id=\"T_053df_level0_col5\" class=\"col_heading level0 col5\" >Max</th>\n    </tr>\n    <tr>\n      <th class=\"index_name level0\" >Auteurs</th>\n      <th class=\"index_name level1\" >Lieu</th>\n      <th class=\"blank col0\" >&nbsp;</th>\n      <th class=\"blank col1\" >&nbsp;</th>\n      <th class=\"blank col2\" >&nbsp;</th>\n      <th class=\"blank col3\" >&nbsp;</th>\n      <th class=\"blank col4\" >&nbsp;</th>\n      <th class=\"blank col5\" >&nbsp;</th>\n    </tr>\n  </thead>\n  <tbody>\n    <tr>\n      <th id=\"T_053df_level0_row0\" class=\"row_heading level0 row0\" rowspan=\"7\">De Alencastro et Faure 2014</th>\n      <th id=\"T_053df_level1_row0\" class=\"row_heading level1 row0\" >Léman</th>\n      <td id=\"T_053df_row0_col0\" class=\"data row0 col0\" >0,3-5</td>\n      <td id=\"T_053df_row0_col1\" class=\"data row0 col1\" >2100</td>\n      <td id=\"T_053df_row0_col2\" class=\"data row0 col2\" >2000</td>\n      <td id=\"T_053df_row0_col3\" class=\"data row0 col3\" >1700</td>\n      <td id=\"T_053df_row0_col4\" class=\"data row0 col4\" >78</td>\n      <td id=\"T_053df_row0_col5\" class=\"data row0 col5\" >5000</td>\n    </tr>\n    <tr>\n      <th id=\"T_053df_level1_row1\" class=\"row_heading level1 row1\" >Lacs suisses</th>\n      <td id=\"T_053df_row1_col0\" class=\"data row1 col0\" >0,3-5</td>\n      <td id=\"T_053df_row1_col1\" class=\"data row1 col1\" >1300</td>\n      <td id=\"T_053df_row1_col2\" class=\"data row1 col2\" >2000</td>\n      <td id=\"T_053df_row1_col3\" class=\"data row1 col3\" >270</td>\n      <td id=\"T_053df_row1_col4\" class=\"data row1 col4\" >20</td>\n      <td id=\"T_053df_row1_col5\" class=\"data row1 col5\" >7200</td>\n    </tr>\n    <tr>\n      <th id=\"T_053df_level1_row2\" class=\"row_heading level1 row2\" >Constance</th>\n      <td id=\"T_053df_row2_col0\" class=\"data row2 col0\" >0,3-5</td>\n      <td id=\"T_053df_row2_col1\" class=\"data row2 col1\" >320</td>\n      <td id=\"T_053df_row2_col2\" class=\"data row2 col2\" >220</td>\n      <td id=\"T_053df_row2_col3\" class=\"data row2 col3\" >260</td>\n      <td id=\"T_053df_row2_col4\" class=\"data row2 col4\" >140</td>\n      <td id=\"T_053df_row2_col5\" class=\"data row2 col5\" >620</td>\n    </tr>\n    <tr>\n      <th id=\"T_053df_level1_row3\" class=\"row_heading level1 row3\" >Neuchâtel</th>\n      <td id=\"T_053df_row3_col0\" class=\"data row3 col0\" >0,3-5</td>\n      <td id=\"T_053df_row3_col1\" class=\"data row3 col1\" >700</td>\n      <td id=\"T_053df_row3_col2\" class=\"data row3 col2\" >1100</td>\n      <td id=\"T_053df_row3_col3\" class=\"data row3 col3\" >220</td>\n      <td id=\"T_053df_row3_col4\" class=\"data row3 col4\" >67</td>\n      <td id=\"T_053df_row3_col5\" class=\"data row3 col5\" >2300</td>\n    </tr>\n    <tr>\n      <th id=\"T_053df_level1_row4\" class=\"row_heading level1 row4\" >Majeur</th>\n      <td id=\"T_053df_row4_col0\" class=\"data row4 col0\" >0,3-5</td>\n      <td id=\"T_053df_row4_col1\" class=\"data row4 col1\" >1100</td>\n      <td id=\"T_053df_row4_col2\" class=\"data row4 col2\" >2300</td>\n      <td id=\"T_053df_row4_col3\" class=\"data row4 col3\" >180</td>\n      <td id=\"T_053df_row4_col4\" class=\"data row4 col4\" >20</td>\n      <td id=\"T_053df_row4_col5\" class=\"data row4 col5\" >6900</td>\n    </tr>\n    <tr>\n      <th id=\"T_053df_level1_row5\" class=\"row_heading level1 row5\" >Zurich</th>\n      <td id=\"T_053df_row5_col0\" class=\"data row5 col0\" >0,3-5</td>\n      <td id=\"T_053df_row5_col1\" class=\"data row5 col1\" >460</td>\n      <td id=\"T_053df_row5_col2\" class=\"data row5 col2\" >350</td>\n      <td id=\"T_053df_row5_col3\" class=\"data row5 col3\" >480</td>\n      <td id=\"T_053df_row5_col4\" class=\"data row5 col4\" >89</td>\n      <td id=\"T_053df_row5_col5\" class=\"data row5 col5\" >800</td>\n    </tr>\n    <tr>\n      <th id=\"T_053df_level1_row6\" class=\"row_heading level1 row6\" >Brienz</th>\n      <td id=\"T_053df_row6_col0\" class=\"data row6 col0\" >0,3-5</td>\n      <td id=\"T_053df_row6_col1\" class=\"data row6 col1\" >2500</td>\n      <td id=\"T_053df_row6_col2\" class=\"data row6 col2\" >3000</td>\n      <td id=\"T_053df_row6_col3\" class=\"data row6 col3\" >1200</td>\n      <td id=\"T_053df_row6_col4\" class=\"data row6 col4\" >89</td>\n      <td id=\"T_053df_row6_col5\" class=\"data row6 col5\" >7200</td>\n    </tr>\n    <tr>\n      <th id=\"T_053df_level0_row7\" class=\"row_heading level0 row7\" >Frei 2021</th>\n      <th id=\"T_053df_level1_row7\" class=\"row_heading level1 row7\" >Lugano</th>\n      <td id=\"T_053df_row7_col0\" class=\"data row7 col0\" >0,3-5</td>\n      <td id=\"T_053df_row7_col1\" class=\"data row7 col1\" >9044</td>\n      <td id=\"T_053df_row7_col2\" class=\"data row7 col2\" >14494</td>\n      <td id=\"T_053df_row7_col3\" class=\"data row7 col3\" >-</td>\n      <td id=\"T_053df_row7_col4\" class=\"data row7 col4\" >733</td>\n      <td id=\"T_053df_row7_col5\" class=\"data row7 col5\" >45600</td>\n    </tr>\n    <tr>\n      <th id=\"T_053df_level0_row8\" class=\"row_heading level0 row8\" rowspan=\"4\">Constant et al. 2019</th>\n      <th id=\"T_053df_level1_row8\" class=\"row_heading level1 row8\" >Golf du Lion 1</th>\n      <td id=\"T_053df_row8_col0\" class=\"data row8 col0\" >0,063-5</td>\n      <td id=\"T_053df_row8_col1\" class=\"data row8 col1\" >1100</td>\n      <td id=\"T_053df_row8_col2\" class=\"data row8 col2\" >1629</td>\n      <td id=\"T_053df_row8_col3\" class=\"data row8 col3\" >-</td>\n      <td id=\"T_053df_row8_col4\" class=\"data row8 col4\" >145</td>\n      <td id=\"T_053df_row8_col5\" class=\"data row8 col5\" >4653</td>\n    </tr>\n    <tr>\n      <th id=\"T_053df_level1_row9\" class=\"row_heading level1 row9\" >Golf du Lion 2</th>\n      <td id=\"T_053df_row9_col0\" class=\"data row9 col0\" >0,063-5</td>\n      <td id=\"T_053df_row9_col1\" class=\"data row9 col1\" >731</td>\n      <td id=\"T_053df_row9_col2\" class=\"data row9 col2\" >528</td>\n      <td id=\"T_053df_row9_col3\" class=\"data row9 col3\" >-</td>\n      <td id=\"T_053df_row9_col4\" class=\"data row9 col4\" >298</td>\n      <td id=\"T_053df_row9_col5\" class=\"data row9 col5\" >2258</td>\n    </tr>\n    <tr>\n      <th id=\"T_053df_level1_row10\" class=\"row_heading level1 row10\" >Golf du Lion 3</th>\n      <td id=\"T_053df_row10_col0\" class=\"data row10 col0\" >0,063-5</td>\n      <td id=\"T_053df_row10_col1\" class=\"data row10 col1\" >254</td>\n      <td id=\"T_053df_row10_col2\" class=\"data row10 col2\" >141</td>\n      <td id=\"T_053df_row10_col3\" class=\"data row10 col3\" >-</td>\n      <td id=\"T_053df_row10_col4\" class=\"data row10 col4\" >92</td>\n      <td id=\"T_053df_row10_col5\" class=\"data row10 col5\" >567</td>\n    </tr>\n    <tr>\n      <th id=\"T_053df_level1_row11\" class=\"row_heading level1 row11\" >Golf du Lion 4</th>\n      <td id=\"T_053df_row11_col0\" class=\"data row11 col0\" >0,063-5</td>\n      <td id=\"T_053df_row11_col1\" class=\"data row11 col1\" >290</td>\n      <td id=\"T_053df_row11_col2\" class=\"data row11 col2\" >292</td>\n      <td id=\"T_053df_row11_col3\" class=\"data row11 col3\" >-</td>\n      <td id=\"T_053df_row11_col4\" class=\"data row11 col4\" >117</td>\n      <td id=\"T_053df_row11_col5\" class=\"data row11 col5\" >1152</td>\n    </tr>\n  </tbody>\n</table>\n",
      "application/papermill.record/text/plain": "<IPython.core.display.HTML object>"
     },
     "metadata": {
      "scrapbook": {
       "mime_prefix": "application/papermill.record/",
       "name": "previous_studies"
      }
     },
     "output_type": "display_data"
    }
   ],
   "source": [
    "# with open('resources/tables/results_table_one.html', 'r') as file:\n",
    "#     glue(\"table_one\", HTML(file.read()), display=False)\n",
    "\n",
    "# with open('resources/tables/results_table_two.html', 'r') as file:\n",
    "#     glue(\"table_two\", HTML(file.read()), display=False)\n",
    "\n",
    "with open('resources/tables/micro_graviers_prediction.html', 'r') as file:\n",
    "    glue(\"micro_graviers\", HTML(file.read()), display=False)\n",
    "\n",
    "with open('resources/tables/micro_ligne_deau_prediction.html', 'r') as file:\n",
    "    glue(\"micro_ligne_deau\", HTML(file.read()), display=False)\n",
    "\n",
    "with open('resources/tables/micro_plage_seche_prediction.html', 'r') as file:\n",
    "    glue(\"micro_plage_seche\", HTML(file.read()), display=False)\n",
    "\n",
    "with open('resources/tables/micro_sables_prediction.html', 'r') as file:\n",
    "    glue(\"micro_sables\", HTML(file.read()), display=False)\n",
    "\n",
    "with open('resources/tables/conclusion_predictions_table_macro.html', 'r') as file:\n",
    "    glue(\"macro_predictions\", HTML(file.read()), display=False)\n",
    "    \n",
    "with open('resources/tables/results_table_ten.html', 'r') as file:\n",
    "    glue(\"table_ten\", HTML(file.read()), display=False)\n",
    "\n",
    "with open('resources/tables/table_6one.html', 'r') as file:\n",
    "    glue(\"previous_studies\", HTML(file.read()), display=False)\n",
    "\n",
    "# g = pd.read_csv(\"data/inprocess/previous_micor.csv\").fillna('-')\n",
    "# g.set_index([\"Auteurs\", \"Lieu\"], inplace=True)\n",
    "# g.index.name=(None, None)\n",
    "\n",
    "# g = g.style.set_table_styles(table_css_styles_top).format(precision=0)\n",
    "# with open('resources/tables/table_6one.html', 'w') as file:\n",
    "#     file.write(g.to_html())\n"
   ]
  },
  {
   "cell_type": "markdown",
   "id": "1c61dc0f-71f0-4cdc-b70c-94518141120f",
   "metadata": {
    "editable": true,
    "pycharm": {
     "name": "#%% md\n"
    },
    "slideshow": {
     "slide_type": ""
    },
    "tags": []
   },
   "source": [
    "# Conclusion\n",
    "## Microplastiques\n",
    "\n",
    "Sur l'ensemble des 25 plages étudiées, les résultats obtenu montrent une abondance moyenne en microplastiques de 16'500 ± 15'600 par m². Ce chiffre, issu des comptabilisations effectuées à la loupe binoculaire, peut être pondéré en se basant sur une études réalisée en Méditerranée. En effet, Constant et al, ([Constant 2019](constant_et_all)), ont déterminé des pourcentages d'identification des différentes particules. Les fibres y sont identifiées comme étant bien du plastiques dans 37% des cas, les fragment à 50%, les mousses à 81% et les films à 67%. En appliquant cette pondération aux données du projet Pla'stock, la contamination estimée en plastique serait de 7'200 ± 6'800 particules par m².\n",
    "\n",
    "Avec le tableau ci-dessous, il est visible que les abondances mesurées dans le cadre de l’étude Pla’stock (16'500 ± 15'600) sont largement supérieures à la moyenne mesurée en 2014 sur le Léman et les autre lac Suisse. La comparaison avec la Méditerranée est encore plus flagrante.\n",
    "\n",
    "::::{grid} 1\n",
    "\n",
    ":::{grid-item-card} \n",
    ":margin: 0\n",
    "<b>Tableau 6.2 :</b> Comparaison avec d’autres études ayant comptabilisé des microplastiques sur les plages (particules/m²).\n",
    "^^^\n",
    "\n",
    "```{image} resources/images/anterieure.png\n",
    ":alt: summary litter density\n",
    ":align: center\n",
    ":name: carte_secteur\n",
    "```\n",
    "\n",
    ":::\n",
    "::::\n",
    "\n",
    "## Macroplastiques\n",
    "\n",
    "Pour extrapoler à l’ensemble des plages du Léman, la longueur a été estimée sur la base d’orthophotos et en se référant à la liste des plages de la CIPEL. Sur les 12'688 m de plages publiques, en extrapolant la moyenne de 3,42 pièces par mètre recensés dans le cadre du projet Pla’stock, il y aurait 43'392 morceaux de plastiques sur les plages publiques du Léman, ref : [méthode](extrapolated_values). \n",
    "\n",
    "Les résultats de Pla’stock suggèrent que les quantités de certains déchets sauvages sont en baisse. Dans l’ensemble, l’étude fait état d’une valeur médiane de 2 pièces/mètre contre 3,7 à 4,4 pièces/mètre dans le passé. Cette réduction est conforme aux conclusions de 2020 - 2021 mais plus importante que prévue ([SLR-IQAASL](https://hammerdirt-analyst.github.io/IQAASL-End-0f-Sampling-2021/slr-iqaasl.html)). À noter que l’effort de collecte adopté par les première et troisième études est comparable à celui consenti par Pla’stock.\n",
    "\n",
    "::::{grid}\n",
    "\n",
    ":::{grid-item-card}\n",
    ":margin: 0\n",
    " <b>Tableau 6.2 :</b> Résultats précédents, comparaison des résultats des campagnes de collecte de déchets sauvages au bord du Léman entre 2015 et 2022, déchets par mètre de rivage, nombre d’échantillons et nombre total de déchets récoltés.\n",
    "\n",
    "\n",
    "{glue}`table_ten`\n",
    " \n",
    ":::\n",
    "::::\n",
    "\n",
    "\n",
    "Les déchets dont la concentration sur les plages a le plus fortement diminué sont ceux liés à la consommation personnelle (mégots de cigarettes, emballages de snacks et bouchons de bouteilles en plastique). La diminution marquée de la densité de cotons-tiges en plastique (0,03 pièces/mètre contre 0,13 pièces/mètre) pourrait être attribuée à l’interdiction de la vente de ces articles en France. \n",
    "\n",
    "\n",
    "## Stock de plastiques sur les plages du Léman\n",
    "\n",
    "Pour extrapoler à l’ensemble des plages du Léman, la superficie a été estimée sur la base d’orthophotos et en se référant à la liste des plages de la CIPEL. Cette liste a été adaptée car certaines plages sont uniquement des espaces de baignade dépourvues de grèves \"naturelles\" (enrochements, dalles en pierres ou en béton, etc.). De plus, trois plages faisant partie de l’étude ont été rajoutées à la liste globale. Il s’agit d’une plage semi-privée à Crans, de la plage de la Pichette sur la commune de Corseaux et de la plage de l’Empereur à Noville (Grangettes). Au total, la superficie des 90 plages retenues correspond à 68’399 m² pour un linéaire de 12'688 m.\n",
    "\n",
    "Selon cette estimation, la contamination plastique s'élève à 524'346'734 particules sur les plages du Léman en se basant sur la moyenne pondérée et 1'232’071'187 sans pondération, ref : [méthode](extrapolated_values). \n",
    "\n",
    "Pour les macroplastiques, sur les 12’688 m de plages publiques, en extrapolant la moyenne de 3,42 pièces par mètre recensée dans le cadre du projet Pla’stock, il y aurait 43’392 morceaux de plastiques sur les plages publiques du Léman, ref : [méthode](extrapolated_values). \n",
    "\n",
    "## Prédiction des abondances\n",
    "\n",
    "### Microplastiques\n",
    "Les prédictions d'abondances sur les plages du Léman permettent de visualiser ce qu'il est censé y avoir sur les plages en fonction des observations réalisées en 2021.\n",
    "__Méthode :__ [Grid approximation](grid_approx_micro)\n",
    "\n",
    "\n",
    "__Distribution des particules attendues par échantillon en fonction du substrat.__\n",
    "\n",
    "::::{grid} 1 2 2 2\n",
    ":gutter: 1\n",
    "\n",
    ":::{grid-item-card}\n",
    "\n",
    "{glue}`micro_sables`\n",
    ":::\n",
    "\n",
    ":::{grid-item-card}\n",
    "\n",
    "{glue}`micro_graviers`\n",
    "\n",
    ":::\n",
    "::::\n",
    "\n",
    "__Distribution des particules attendues par échantillon en fonction de la position.__\n",
    "\n",
    "Sur la base des différentes sessions d’échantillonnage de ces dernières années, il est possible de prédire les abondances qui seront retrouvées sur les plages du Léman. \n",
    "\n",
    "::::{grid} 1 2 2 2\n",
    ":gutter: 1\n",
    "\n",
    ":::{grid-item-card}\n",
    "\n",
    "{glue}`micro_ligne_deau`\n",
    ":::\n",
    "\n",
    ":::{grid-item-card}\n",
    "\n",
    "{glue}`micro_plage_seche`\n",
    "\n",
    ":::\n",
    "::::\n",
    "\n",
    "### Macroplastiques\n",
    "\n",
    "Sur la base des différentes sessions d’échantillonnage de ces dernières années, il est possible de prédire les abondances qui seront retrouvées sur les plages du Léman, ref: [Analyse et inference](analyse_inference).\n",
    "\n",
    "::::{grid} 1\n",
    "\n",
    ":::{grid-item-card}\n",
    "<b>Tableau 6.3 :</b>  Prédiction du nombre de pièce par mètre linéaire. \n",
    "^^^\n",
    "{glue}`macro_predictions`\n",
    ":::\n",
    "::::"
   ]
  },
  {
   "cell_type": "markdown",
   "id": "8e0703c6-4aea-453d-a3b1-6066c71bfdcb",
   "metadata": {},
   "source": [
    "## Discussion générale\n",
    "\n",
    "En conclusion de cette étude, une grande disparité d’abondance est observable entre les différentes plages, tant pour les micro que pour les macroplastiques. Une étude similaire à l’échelle de chaque plage révélerait probablement une même hétérogénéié, compte tenu de l’importance des zones d’accumulation. Parmi les variables testées, bien que des variations soient observables, aucune ne se démarque comme déterminante de la pollution plastique. Cependant, une plage de sable, à proximité d’un parking et très fréquentée, risque d’être plus fortement impactée qu’une plage isolée avec galets. Entre la ligne d'eau et la plage sèche, il semblerait qu'il y ait une accumulation sur la plage sèche. Ceci pourrait s'expliquer par un dépôt des plastiques lors de forts vents du large et qui sont ensuite stocker dans le substrat. A l'inverse, la ligne d'eau est continuellement exposée à la dynamique lacustre et les abondances peuvent fortement varier en fonction des vents récents. Le fait que pour les macroplastiques il n'y ait pas de variations visibles entre la ligne d'eau et la plage sèche peut s'expliquer par la fréquence des nettoyages effectués par les services communaux. Le mouvement entre le lac et les rives est tout de même visible par les types de déchets retrouvés sur la plage sèche (coton-tiges, pellets, déchets de construction).\n",
    "\n",
    "Les comparaisons avec des études antérieures montrent une nette augmentation des concentrations en microplastiques depuis l’étude de De Alencastro et Faure en 2014, avec une prédominance des fibres. En revanche, les abondances en macroplastiques tendent à diminuer légèrement. Cette évolution sera intéressante à suivre lors de futures études.\n",
    "Concernant les microplastiques identifiés, les fibres anthropiques sont largement dominantes, ce qui démontre le rôle important de l’abrasion des textiles dans l’introduction de microplastiques dans l’environnement.\n",
    "\n",
    "Pour ce qui est des macroplastiques, il convient de noter l’importance de la fragmentation observée sur les déchets récupérés. En effet, plus de la moitié des objets triés n’étaient plus identifiables. Parmi les éléments les plus fréquemment rencontrés, on retrouve les mégots, les emballages alimentaires et les pellets industriels.\n",
    "\n",
    "Des tests sur les apports des principaux cours d'eau sont en cours dans le cadre d'un travail de master avec l'UNIGE. Il serait également intéressant de pouvoir étudier l’influence des vents et des courants sur la distribution des plastiques autour du lac. L’exemple des Grangettes et du Bouveret, où l’effet combiné de la proximité du Rhône et des contre-courants ramenant les déchets vers les rives, illustre bien l’influence que peuvent avoir ces variables. Il serait également intéressant de pouvoir identifier les différents vecteurs et sources de pollutions.\n",
    "\n",
    "Par ailleurs, grâce aux différents déchets identifiés sur les plages du Léman, des mesures politiques pourraient être mises en place pour réduire, voire supprimer, l'arrivée de certains déchets dont le cheminement dans l’environnement est connu.\n"
   ]
  },
  {
   "cell_type": "code",
   "execution_count": null,
   "id": "9d15203e-676f-4667-9388-a8575f1eec00",
   "metadata": {},
   "outputs": [],
   "source": []
  }
 ],
 "metadata": {
  "kernelspec": {
   "display_name": "Python 3 (ipykernel)",
   "language": "python",
   "name": "python3"
  },
  "language_info": {
   "codemirror_mode": {
    "name": "ipython",
    "version": 3
   },
   "file_extension": ".py",
   "mimetype": "text/x-python",
   "name": "python",
   "nbconvert_exporter": "python",
   "pygments_lexer": "ipython3",
   "version": "3.9.18"
  }
 },
 "nbformat": 4,
 "nbformat_minor": 5
}
