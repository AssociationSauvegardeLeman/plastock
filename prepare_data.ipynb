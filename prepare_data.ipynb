{
 "cells": [
  {
   "cell_type": "markdown",
   "id": "6e9f16f9-b832-4b31-aa18-a091ba26e600",
   "metadata": {},
   "source": [
    "# Preparing the data\n",
    "\n",
    "Before using the data it has to be complete and inconsistencies need to be indentified. A good way to approach this initially is to anwer the following questions:\n",
    "\n",
    "1. Are their duplicate records?\n",
    "2. Is their an index for the records? or How do we tell one sample from another?\n",
    "3. Are place names spelled correctly/consistently?\n",
    "4. Are their categories? Is each value assigned a category? Is the spelling consistent for the categories?\n",
    "5. Are the data types appropriate to the data?\n",
    "6. Is their temporal data? Is it formatted correctly?\n",
    "7. Is their GPS data? Is it formatted consistently? Is the resolution specified? Given the data what is the minimum resolution that can be achieved?\n",
    "\n",
    "## Prepare the data for analysis:\n",
    "\n",
    "Once the previous questions are answered you can move on to the analysis:\n",
    "\n",
    "1. What is the research question?\n",
    "2. Does the data need to be aggregated in a specific way?\n",
    "3. Are the units of measure known?\n",
    "4. What are the methods that you will use to describe the sample? Are these consistent with your field?"
   ]
  },
  {
   "cell_type": "code",
   "execution_count": 1,
   "id": "f08e7a05-e42a-460e-a89e-2a2bcc2c8f16",
   "metadata": {
    "tags": []
   },
   "outputs": [],
   "source": [
    "import json\n",
    "import datetime as dt\n",
    "from datetime import date, datetime, time\n",
    "from babel.dates import format_date, format_datetime, format_time, get_month_names\n",
    "import locale\n",
    "# import slugify\n",
    "\n",
    "# math packages:\n",
    "import pandas as pd\n",
    "import numpy as np\n",
    "from math import pi\n",
    "\n",
    "# charting:\n",
    "import matplotlib.pyplot as plt\n",
    "import matplotlib.dates as mdates\n",
    "from matplotlib import ticker\n",
    "from matplotlib.ticker import MultipleLocator\n",
    "import seaborn as sns\n",
    "\n",
    "# images and display\n",
    "from IPython.display import Markdown as md\n",
    "from IPython import display"
   ]
  },
  {
   "cell_type": "code",
   "execution_count": 7,
   "id": "8805220c-2e39-4c4a-9693-5ae55ec40d99",
   "metadata": {
    "tags": []
   },
   "outputs": [],
   "source": [
    "macro_csv = pd.read_csv(\"data/macro_csv.csv\")\n",
    "macro_csv.fillna(0, inplace=True)"
   ]
  },
  {
   "cell_type": "code",
   "execution_count": 8,
   "id": "b49263d7-d4a2-41f3-b1f1-9ac1a5435c21",
   "metadata": {},
   "outputs": [
    {
     "data": {
      "text/html": [
       "<div>\n",
       "<style scoped>\n",
       "    .dataframe tbody tr th:only-of-type {\n",
       "        vertical-align: middle;\n",
       "    }\n",
       "\n",
       "    .dataframe tbody tr th {\n",
       "        vertical-align: top;\n",
       "    }\n",
       "\n",
       "    .dataframe thead th {\n",
       "        text-align: right;\n",
       "    }\n",
       "</style>\n",
       "<table border=\"1\" class=\"dataframe\">\n",
       "  <thead>\n",
       "    <tr style=\"text-align: right;\">\n",
       "      <th></th>\n",
       "      <th>location</th>\n",
       "      <th>area</th>\n",
       "      <th>time</th>\n",
       "      <th>position</th>\n",
       "      <th>substrate</th>\n",
       "      <th>date</th>\n",
       "      <th>season</th>\n",
       "      <th>description</th>\n",
       "      <th>code</th>\n",
       "      <th>quantity</th>\n",
       "      <th>weight</th>\n",
       "      <th>Unnamed: 11</th>\n",
       "    </tr>\n",
       "  </thead>\n",
       "  <tbody>\n",
       "    <tr>\n",
       "      <th>0</th>\n",
       "      <td>Amphion</td>\n",
       "      <td>98</td>\n",
       "      <td>50</td>\n",
       "      <td>1</td>\n",
       "      <td>4.0</td>\n",
       "      <td>01.02.2022</td>\n",
       "      <td>1</td>\n",
       "      <td>Anneau plastique bouteille</td>\n",
       "      <td>G24</td>\n",
       "      <td>2</td>\n",
       "      <td>0.00020</td>\n",
       "      <td>0</td>\n",
       "    </tr>\n",
       "    <tr>\n",
       "      <th>1</th>\n",
       "      <td>Amphion</td>\n",
       "      <td>98</td>\n",
       "      <td>50</td>\n",
       "      <td>1</td>\n",
       "      <td>4.0</td>\n",
       "      <td>01.02.2022</td>\n",
       "      <td>1</td>\n",
       "      <td>Baguette en bois</td>\n",
       "      <td>G165</td>\n",
       "      <td>3</td>\n",
       "      <td>0.00600</td>\n",
       "      <td>0</td>\n",
       "    </tr>\n",
       "    <tr>\n",
       "      <th>2</th>\n",
       "      <td>Amphion</td>\n",
       "      <td>98</td>\n",
       "      <td>50</td>\n",
       "      <td>1</td>\n",
       "      <td>4.0</td>\n",
       "      <td>01.02.2022</td>\n",
       "      <td>1</td>\n",
       "      <td>Bâtonnet de sucette en plastique</td>\n",
       "      <td>G31</td>\n",
       "      <td>2</td>\n",
       "      <td>0.00036</td>\n",
       "      <td>0</td>\n",
       "    </tr>\n",
       "    <tr>\n",
       "      <th>3</th>\n",
       "      <td>Amphion</td>\n",
       "      <td>98</td>\n",
       "      <td>50</td>\n",
       "      <td>1</td>\n",
       "      <td>4.0</td>\n",
       "      <td>01.02.2022</td>\n",
       "      <td>1</td>\n",
       "      <td>Cartouche/munition/balle/douille de chasse en ...</td>\n",
       "      <td>G70</td>\n",
       "      <td>1</td>\n",
       "      <td>0.00310</td>\n",
       "      <td>0</td>\n",
       "    </tr>\n",
       "    <tr>\n",
       "      <th>4</th>\n",
       "      <td>Amphion</td>\n",
       "      <td>98</td>\n",
       "      <td>50</td>\n",
       "      <td>1</td>\n",
       "      <td>4.0</td>\n",
       "      <td>01.02.2022</td>\n",
       "      <td>1</td>\n",
       "      <td>Corde entre 30cm et 1 mètre</td>\n",
       "      <td>G49</td>\n",
       "      <td>1</td>\n",
       "      <td>0.30000</td>\n",
       "      <td>0</td>\n",
       "    </tr>\n",
       "  </tbody>\n",
       "</table>\n",
       "</div>"
      ],
      "text/plain": [
       "  location  area  time  position  substrate        date  season  \\\n",
       "0  Amphion    98    50         1        4.0  01.02.2022       1   \n",
       "1  Amphion    98    50         1        4.0  01.02.2022       1   \n",
       "2  Amphion    98    50         1        4.0  01.02.2022       1   \n",
       "3  Amphion    98    50         1        4.0  01.02.2022       1   \n",
       "4  Amphion    98    50         1        4.0  01.02.2022       1   \n",
       "\n",
       "                                         description  code  quantity   weight  \\\n",
       "0                         Anneau plastique bouteille   G24         2  0.00020   \n",
       "1                                   Baguette en bois  G165         3  0.00600   \n",
       "2                   Bâtonnet de sucette en plastique   G31         2  0.00036   \n",
       "3  Cartouche/munition/balle/douille de chasse en ...   G70         1  0.00310   \n",
       "4                        Corde entre 30cm et 1 mètre   G49         1  0.30000   \n",
       "\n",
       "  Unnamed: 11  \n",
       "0           0  \n",
       "1           0  \n",
       "2           0  \n",
       "3           0  \n",
       "4           0  "
      ]
     },
     "execution_count": 8,
     "metadata": {},
     "output_type": "execute_result"
    }
   ],
   "source": [
    "macro_csv.head()"
   ]
  },
  {
   "cell_type": "code",
   "execution_count": 9,
   "id": "f8f32ee9-2d0a-4c9c-a473-fc1861a80ff6",
   "metadata": {
    "tags": []
   },
   "outputs": [
    {
     "data": {
      "text/html": [
       "<div>\n",
       "<style scoped>\n",
       "    .dataframe tbody tr th:only-of-type {\n",
       "        vertical-align: middle;\n",
       "    }\n",
       "\n",
       "    .dataframe tbody tr th {\n",
       "        vertical-align: top;\n",
       "    }\n",
       "\n",
       "    .dataframe thead th {\n",
       "        text-align: right;\n",
       "    }\n",
       "</style>\n",
       "<table border=\"1\" class=\"dataframe\">\n",
       "  <thead>\n",
       "    <tr style=\"text-align: right;\">\n",
       "      <th></th>\n",
       "      <th>location</th>\n",
       "      <th>area</th>\n",
       "      <th>time</th>\n",
       "      <th>position</th>\n",
       "      <th>substrate</th>\n",
       "      <th>date</th>\n",
       "      <th>season</th>\n",
       "      <th>description</th>\n",
       "      <th>code</th>\n",
       "      <th>quantity</th>\n",
       "      <th>weight</th>\n",
       "    </tr>\n",
       "  </thead>\n",
       "  <tbody>\n",
       "    <tr>\n",
       "      <th>0</th>\n",
       "      <td>Amphion</td>\n",
       "      <td>98</td>\n",
       "      <td>50</td>\n",
       "      <td>1</td>\n",
       "      <td>4.0</td>\n",
       "      <td>01.02.2022</td>\n",
       "      <td>1</td>\n",
       "      <td>Anneau plastique bouteille</td>\n",
       "      <td>G24</td>\n",
       "      <td>2</td>\n",
       "      <td>0.00020</td>\n",
       "    </tr>\n",
       "    <tr>\n",
       "      <th>1</th>\n",
       "      <td>Amphion</td>\n",
       "      <td>98</td>\n",
       "      <td>50</td>\n",
       "      <td>1</td>\n",
       "      <td>4.0</td>\n",
       "      <td>01.02.2022</td>\n",
       "      <td>1</td>\n",
       "      <td>Baguette en bois</td>\n",
       "      <td>G165</td>\n",
       "      <td>3</td>\n",
       "      <td>0.00600</td>\n",
       "    </tr>\n",
       "    <tr>\n",
       "      <th>2</th>\n",
       "      <td>Amphion</td>\n",
       "      <td>98</td>\n",
       "      <td>50</td>\n",
       "      <td>1</td>\n",
       "      <td>4.0</td>\n",
       "      <td>01.02.2022</td>\n",
       "      <td>1</td>\n",
       "      <td>Bâtonnet de sucette en plastique</td>\n",
       "      <td>G31</td>\n",
       "      <td>2</td>\n",
       "      <td>0.00036</td>\n",
       "    </tr>\n",
       "    <tr>\n",
       "      <th>3</th>\n",
       "      <td>Amphion</td>\n",
       "      <td>98</td>\n",
       "      <td>50</td>\n",
       "      <td>1</td>\n",
       "      <td>4.0</td>\n",
       "      <td>01.02.2022</td>\n",
       "      <td>1</td>\n",
       "      <td>Cartouche/munition/balle/douille de chasse en ...</td>\n",
       "      <td>G70</td>\n",
       "      <td>1</td>\n",
       "      <td>0.00310</td>\n",
       "    </tr>\n",
       "    <tr>\n",
       "      <th>4</th>\n",
       "      <td>Amphion</td>\n",
       "      <td>98</td>\n",
       "      <td>50</td>\n",
       "      <td>1</td>\n",
       "      <td>4.0</td>\n",
       "      <td>01.02.2022</td>\n",
       "      <td>1</td>\n",
       "      <td>Corde entre 30cm et 1 mètre</td>\n",
       "      <td>G49</td>\n",
       "      <td>1</td>\n",
       "      <td>0.30000</td>\n",
       "    </tr>\n",
       "  </tbody>\n",
       "</table>\n",
       "</div>"
      ],
      "text/plain": [
       "  location  area  time  position  substrate        date  season  \\\n",
       "0  Amphion    98    50         1        4.0  01.02.2022       1   \n",
       "1  Amphion    98    50         1        4.0  01.02.2022       1   \n",
       "2  Amphion    98    50         1        4.0  01.02.2022       1   \n",
       "3  Amphion    98    50         1        4.0  01.02.2022       1   \n",
       "4  Amphion    98    50         1        4.0  01.02.2022       1   \n",
       "\n",
       "                                         description  code  quantity   weight  \n",
       "0                         Anneau plastique bouteille   G24         2  0.00020  \n",
       "1                                   Baguette en bois  G165         3  0.00600  \n",
       "2                   Bâtonnet de sucette en plastique   G31         2  0.00036  \n",
       "3  Cartouche/munition/balle/douille de chasse en ...   G70         1  0.00310  \n",
       "4                        Corde entre 30cm et 1 mètre   G49         1  0.30000  "
      ]
     },
     "execution_count": 9,
     "metadata": {},
     "output_type": "execute_result"
    }
   ],
   "source": [
    "# this is a remnant from exporting the csv from excel\n",
    "macro_csv.drop(\"Unnamed: 11\", axis=1, inplace=True)\n",
    "macro_csv.head()"
   ]
  },
  {
   "cell_type": "code",
   "execution_count": 10,
   "id": "4724ccc0-8fbc-4d3a-8c88-e4473fec4eea",
   "metadata": {
    "tags": []
   },
   "outputs": [],
   "source": [
    "macro_csv[\"location_date\"] = list(zip(macro_csv.location, macro_csv.date))"
   ]
  },
  {
   "cell_type": "code",
   "execution_count": 13,
   "id": "1ca7cf0b-7b7e-4d0b-b398-67fc6b0a8ecf",
   "metadata": {
    "tags": []
   },
   "outputs": [
    {
     "data": {
      "text/plain": [
       "season\n",
       "1    8963\n",
       "2    7209\n",
       "3    7246\n",
       "4    6186\n",
       "Name: quantity, dtype: int64"
      ]
     },
     "execution_count": 13,
     "metadata": {},
     "output_type": "execute_result"
    }
   ],
   "source": [
    "macro_csv.groupby([\"season\"]).quantity.sum()"
   ]
  },
  {
   "cell_type": "code",
   "execution_count": 16,
   "id": "f10cfd4d-5972-43d1-afc5-e777442ec585",
   "metadata": {
    "tags": []
   },
   "outputs": [
    {
     "data": {
      "text/plain": [
       "array(['01.02.2022', '09.02.2022', '06.02.2022', '22.01.2022',\n",
       "       '16.01.2022', '26.01.2022', '13.02.2022', '29.01.2022',\n",
       "       '24.01.2022', '03.02.2022', '15.01.2022', '12.02.2022',\n",
       "       '07.02.2022', '04.02.2022', '03.05.2022', '04.05.2022',\n",
       "       '14.05.2022', '23.04.2022', '30.04.2022', '29.04.2022',\n",
       "       '18.05.2022', '02.05.2022', '07.05.2022', '11.05.2022',\n",
       "       '16.04.2022', '01.05.2022', '13.05.2022', '19.07.2022',\n",
       "       '20.07.2022', '10.09.2022', '02.09.2022', '30.07.2022',\n",
       "       '06.09.2022', '10.12.2022', '07.08.2022', '18.07.2022',\n",
       "       '02.07.2022', '14.09.2022', '13.08.2022', '06.08.2022',\n",
       "       '21.08.2022', '10.08.2022', '12.07.2022', '18.10.2022',\n",
       "       '23.11.2022', '05.11.2022', '15.10.2022', '17.10.2022',\n",
       "       '08.11.2022', '06.11.2022', '22.10.2022', '12.11.2022',\n",
       "       '03.09.2022', '8/13/2022', '10/15/2022', '11/6/2022'], dtype=object)"
      ]
     },
     "execution_count": 16,
     "metadata": {},
     "output_type": "execute_result"
    }
   ],
   "source": [
    "macro_csv[\"date\"].unique()"
   ]
  },
  {
   "cell_type": "code",
   "execution_count": 22,
   "id": "a527ad22-4ef7-4392-a150-0fa8095f4254",
   "metadata": {
    "tags": []
   },
   "outputs": [
    {
     "data": {
      "text/html": [
       "<div>\n",
       "<style scoped>\n",
       "    .dataframe tbody tr th:only-of-type {\n",
       "        vertical-align: middle;\n",
       "    }\n",
       "\n",
       "    .dataframe tbody tr th {\n",
       "        vertical-align: top;\n",
       "    }\n",
       "\n",
       "    .dataframe thead th {\n",
       "        text-align: right;\n",
       "    }\n",
       "</style>\n",
       "<table border=\"1\" class=\"dataframe\">\n",
       "  <thead>\n",
       "    <tr style=\"text-align: right;\">\n",
       "      <th></th>\n",
       "      <th>location</th>\n",
       "      <th>area</th>\n",
       "      <th>time</th>\n",
       "      <th>position</th>\n",
       "      <th>substrate</th>\n",
       "      <th>date</th>\n",
       "      <th>season</th>\n",
       "      <th>description</th>\n",
       "      <th>code</th>\n",
       "      <th>quantity</th>\n",
       "      <th>weight</th>\n",
       "      <th>location_date</th>\n",
       "    </tr>\n",
       "  </thead>\n",
       "  <tbody>\n",
       "    <tr>\n",
       "      <th>2101</th>\n",
       "      <td>Préverenges</td>\n",
       "      <td>961</td>\n",
       "      <td>490</td>\n",
       "      <td>2</td>\n",
       "      <td>0.0</td>\n",
       "      <td>8/13/2022</td>\n",
       "      <td>3</td>\n",
       "      <td>Aluminium de moins de 50 cm</td>\n",
       "      <td>G177</td>\n",
       "      <td>8</td>\n",
       "      <td>1.08000</td>\n",
       "      <td>(Préverenges, 8/13/2022)</td>\n",
       "    </tr>\n",
       "    <tr>\n",
       "      <th>2102</th>\n",
       "      <td>Préverenges</td>\n",
       "      <td>961</td>\n",
       "      <td>490</td>\n",
       "      <td>2</td>\n",
       "      <td>0.0</td>\n",
       "      <td>8/13/2022</td>\n",
       "      <td>3</td>\n",
       "      <td>Baguette en bois</td>\n",
       "      <td>G165</td>\n",
       "      <td>1</td>\n",
       "      <td>0.00200</td>\n",
       "      <td>(Préverenges, 8/13/2022)</td>\n",
       "    </tr>\n",
       "    <tr>\n",
       "      <th>2103</th>\n",
       "      <td>Préverenges</td>\n",
       "      <td>961</td>\n",
       "      <td>490</td>\n",
       "      <td>2</td>\n",
       "      <td>0.0</td>\n",
       "      <td>8/13/2022</td>\n",
       "      <td>3</td>\n",
       "      <td>Ballon de baudruche</td>\n",
       "      <td>G125</td>\n",
       "      <td>2</td>\n",
       "      <td>0.00160</td>\n",
       "      <td>(Préverenges, 8/13/2022)</td>\n",
       "    </tr>\n",
       "    <tr>\n",
       "      <th>2104</th>\n",
       "      <td>Préverenges</td>\n",
       "      <td>961</td>\n",
       "      <td>490</td>\n",
       "      <td>2</td>\n",
       "      <td>0.0</td>\n",
       "      <td>8/13/2022</td>\n",
       "      <td>3</td>\n",
       "      <td>Bande élastique</td>\n",
       "      <td>G131</td>\n",
       "      <td>1</td>\n",
       "      <td>0.00028</td>\n",
       "      <td>(Préverenges, 8/13/2022)</td>\n",
       "    </tr>\n",
       "    <tr>\n",
       "      <th>2105</th>\n",
       "      <td>Préverenges</td>\n",
       "      <td>961</td>\n",
       "      <td>490</td>\n",
       "      <td>2</td>\n",
       "      <td>0.0</td>\n",
       "      <td>8/13/2022</td>\n",
       "      <td>3</td>\n",
       "      <td>Bâtonnet de glace en bois</td>\n",
       "      <td>G165</td>\n",
       "      <td>7</td>\n",
       "      <td>0.01400</td>\n",
       "      <td>(Préverenges, 8/13/2022)</td>\n",
       "    </tr>\n",
       "    <tr>\n",
       "      <th>...</th>\n",
       "      <td>...</td>\n",
       "      <td>...</td>\n",
       "      <td>...</td>\n",
       "      <td>...</td>\n",
       "      <td>...</td>\n",
       "      <td>...</td>\n",
       "      <td>...</td>\n",
       "      <td>...</td>\n",
       "      <td>...</td>\n",
       "      <td>...</td>\n",
       "      <td>...</td>\n",
       "      <td>...</td>\n",
       "    </tr>\n",
       "    <tr>\n",
       "      <th>2558</th>\n",
       "      <td>Savonnière</td>\n",
       "      <td>325</td>\n",
       "      <td>160</td>\n",
       "      <td>2</td>\n",
       "      <td>2.0</td>\n",
       "      <td>11/6/2022</td>\n",
       "      <td>4</td>\n",
       "      <td>Morceau de plastique de moins de 2,5cm</td>\n",
       "      <td>G78, G79</td>\n",
       "      <td>23</td>\n",
       "      <td>0.00690</td>\n",
       "      <td>(Savonnière, 11/6/2022)</td>\n",
       "    </tr>\n",
       "    <tr>\n",
       "      <th>2559</th>\n",
       "      <td>Savonnière</td>\n",
       "      <td>325</td>\n",
       "      <td>160</td>\n",
       "      <td>2</td>\n",
       "      <td>2.0</td>\n",
       "      <td>11/6/2022</td>\n",
       "      <td>4</td>\n",
       "      <td>Morceau de plastique entre 2,5 et 50cm</td>\n",
       "      <td>G79</td>\n",
       "      <td>6</td>\n",
       "      <td>0.01800</td>\n",
       "      <td>(Savonnière, 11/6/2022)</td>\n",
       "    </tr>\n",
       "    <tr>\n",
       "      <th>2560</th>\n",
       "      <td>Savonnière</td>\n",
       "      <td>325</td>\n",
       "      <td>160</td>\n",
       "      <td>2</td>\n",
       "      <td>2.0</td>\n",
       "      <td>11/6/2022</td>\n",
       "      <td>4</td>\n",
       "      <td>Morceau de textile entre 5 et 30cm</td>\n",
       "      <td>G145</td>\n",
       "      <td>1</td>\n",
       "      <td>0.10800</td>\n",
       "      <td>(Savonnière, 11/6/2022)</td>\n",
       "    </tr>\n",
       "    <tr>\n",
       "      <th>2561</th>\n",
       "      <td>Savonnière</td>\n",
       "      <td>325</td>\n",
       "      <td>160</td>\n",
       "      <td>2</td>\n",
       "      <td>2.0</td>\n",
       "      <td>11/6/2022</td>\n",
       "      <td>4</td>\n",
       "      <td>Morceau de verre/bouteille de moins de 5cm</td>\n",
       "      <td>G200</td>\n",
       "      <td>101</td>\n",
       "      <td>0.40400</td>\n",
       "      <td>(Savonnière, 11/6/2022)</td>\n",
       "    </tr>\n",
       "    <tr>\n",
       "      <th>2562</th>\n",
       "      <td>Savonnière</td>\n",
       "      <td>325</td>\n",
       "      <td>160</td>\n",
       "      <td>2</td>\n",
       "      <td>2.0</td>\n",
       "      <td>11/6/2022</td>\n",
       "      <td>4</td>\n",
       "      <td>Paille pour boisson</td>\n",
       "      <td>G35</td>\n",
       "      <td>1</td>\n",
       "      <td>0.00100</td>\n",
       "      <td>(Savonnière, 11/6/2022)</td>\n",
       "    </tr>\n",
       "  </tbody>\n",
       "</table>\n",
       "<p>70 rows × 12 columns</p>\n",
       "</div>"
      ],
      "text/plain": [
       "         location  area  time  position  substrate       date  season  \\\n",
       "2101  Préverenges   961   490         2        0.0  8/13/2022       3   \n",
       "2102  Préverenges   961   490         2        0.0  8/13/2022       3   \n",
       "2103  Préverenges   961   490         2        0.0  8/13/2022       3   \n",
       "2104  Préverenges   961   490         2        0.0  8/13/2022       3   \n",
       "2105  Préverenges   961   490         2        0.0  8/13/2022       3   \n",
       "...           ...   ...   ...       ...        ...        ...     ...   \n",
       "2558   Savonnière   325   160         2        2.0  11/6/2022       4   \n",
       "2559   Savonnière   325   160         2        2.0  11/6/2022       4   \n",
       "2560   Savonnière   325   160         2        2.0  11/6/2022       4   \n",
       "2561   Savonnière   325   160         2        2.0  11/6/2022       4   \n",
       "2562   Savonnière   325   160         2        2.0  11/6/2022       4   \n",
       "\n",
       "                                     description      code  quantity   weight  \\\n",
       "2101                 Aluminium de moins de 50 cm      G177         8  1.08000   \n",
       "2102                            Baguette en bois      G165         1  0.00200   \n",
       "2103                         Ballon de baudruche      G125         2  0.00160   \n",
       "2104                             Bande élastique      G131         1  0.00028   \n",
       "2105                   Bâtonnet de glace en bois      G165         7  0.01400   \n",
       "...                                          ...       ...       ...      ...   \n",
       "2558      Morceau de plastique de moins de 2,5cm  G78, G79        23  0.00690   \n",
       "2559      Morceau de plastique entre 2,5 et 50cm       G79         6  0.01800   \n",
       "2560          Morceau de textile entre 5 et 30cm      G145         1  0.10800   \n",
       "2561  Morceau de verre/bouteille de moins de 5cm      G200       101  0.40400   \n",
       "2562                         Paille pour boisson       G35         1  0.00100   \n",
       "\n",
       "                 location_date  \n",
       "2101  (Préverenges, 8/13/2022)  \n",
       "2102  (Préverenges, 8/13/2022)  \n",
       "2103  (Préverenges, 8/13/2022)  \n",
       "2104  (Préverenges, 8/13/2022)  \n",
       "2105  (Préverenges, 8/13/2022)  \n",
       "...                        ...  \n",
       "2558   (Savonnière, 11/6/2022)  \n",
       "2559   (Savonnière, 11/6/2022)  \n",
       "2560   (Savonnière, 11/6/2022)  \n",
       "2561   (Savonnière, 11/6/2022)  \n",
       "2562   (Savonnière, 11/6/2022)  \n",
       "\n",
       "[70 rows x 12 columns]"
      ]
     },
     "execution_count": 22,
     "metadata": {},
     "output_type": "execute_result"
    }
   ],
   "source": [
    "# these dates were stored in a different format than all the others\n",
    "bad_dates = ['8/13/2022', '10/15/2022', '11/6/2022']\n",
    "macro_csv_bad_date = macro_csv[macro_csv[\"date\"].isin(bad_dates)].copy()\n",
    "macro_csv_bad_date"
   ]
  },
  {
   "cell_type": "code",
   "execution_count": 23,
   "id": "543c1308-66a8-42e3-9863-e5ae4e34cac7",
   "metadata": {
    "tags": []
   },
   "outputs": [],
   "source": [
    "macro_csv = macro_csv[~ macro_csv[\"date\"].isin(bad_dates)].copy()"
   ]
  },
  {
   "cell_type": "code",
   "execution_count": 24,
   "id": "c0d13d0e-8296-4a2f-8585-f61d1d219516",
   "metadata": {
    "tags": []
   },
   "outputs": [],
   "source": [
    "\n",
    "replace_with_key = {\n",
    "    '8/13/2022': '08.13.2022',\n",
    "    '10/15/2022': '10.15.2022',\n",
    "    '11/6/2022': '11.06.2022'\n",
    "}\n",
    "# replace with a key\n",
    "macro_csv_bad_date[\"date\"] = macro_csv_bad_date[\"date\"].apply(lambda x: replace_with_key[x])\n",
    "\n",
    "# put that back together\n",
    "plastock_data = pd.concat([macro_csv, macro_csv_bad_date])"
   ]
  },
  {
   "cell_type": "code",
   "execution_count": 25,
   "id": "30e14b6c-4053-4811-aef2-3060af50c029",
   "metadata": {
    "tags": []
   },
   "outputs": [
    {
     "data": {
      "text/plain": [
       "'08.13.2022'"
      ]
     },
     "execution_count": 25,
     "metadata": {},
     "output_type": "execute_result"
    }
   ],
   "source": [
    "replace_with_key['8/13/2022']"
   ]
  },
  {
   "cell_type": "code",
   "execution_count": 27,
   "id": "ffea9552-c342-48cc-a7a1-f7597160374a",
   "metadata": {
    "tags": []
   },
   "outputs": [
    {
     "data": {
      "text/plain": [
       "array(['G24', 'G165', 'G31', 'G70', 'G49', 'G95', 'G23', 'G30', 'G922',\n",
       "       'G113', 'G114', 'G932', 'G156', 'G78, G79', 'G79', 'G35', 'G124',\n",
       "       'G82', 'G53', 'G112', 'G177', 'G27', 'G198', 'G200', 'G117',\n",
       "       'G126', 'G125', 'G26', 'G175', 'G178', 'G131', 'G32', 'G158',\n",
       "       'G901', 'G134', 'G106', 'G211', 'G128', 'G89', 'G210', 'G81',\n",
       "       'G50', 'G21', 'G183', 'G54', 'G145', 'G74', 'G182', 'G216', 'G28',\n",
       "       'G191', 'G103', 'G99', 'G66', 'G12', 'G67', 'G167', 'G79, G78',\n",
       "       'G170', 'G132', 'G7', 'G33', 'G97', 'G159', 'G135', 'G2', 'G34',\n",
       "       'G10', 'G197', 'G100', 'G138', 'G25', 'G61', 'G202', 'G157', 'G90',\n",
       "       'G148', 'G101', 'G29', 'G137', 'G73', 'G4', 'G937', 'G144', 'G194',\n",
       "       'G171', 'G51', 'G199', 'G174', 'G136', 'G41', 'G139', 'G155',\n",
       "       'G129', 'G181', 'G39'], dtype=object)"
      ]
     },
     "execution_count": 27,
     "metadata": {},
     "output_type": "execute_result"
    }
   ],
   "source": [
    "plastock_data[\"code\"].unique()"
   ]
  },
  {
   "cell_type": "code",
   "execution_count": 29,
   "id": "3524b122-5998-4075-ad44-abbb3966c925",
   "metadata": {
    "tags": []
   },
   "outputs": [],
   "source": [
    "# these codes are stored as string tupled with no other correspondance.\n",
    "# if taken by definition it is an aggregation of 78 and 79 which corresponds\n",
    "# to Gfrags in IQAASL\n",
    "macro_csv_bad_code = macro_csv[macro_csv.code.isin(['G78, G79', 'G79, G78'])].copy()\n",
    "macro_csv = macro_csv[~ macro_csv.code.isin(['G78, G79', 'G79, G78'])].copy()\n",
    "macro_csv_bad_code[\"code\"] = \"G79\""
   ]
  },
  {
   "cell_type": "code",
   "execution_count": 30,
   "id": "96a766ae-ff92-4c54-bd5d-9abaf38e534a",
   "metadata": {
    "tags": []
   },
   "outputs": [],
   "source": [
    "# put that back together\n",
    "plastock_data = pd.concat([macro_csv, macro_csv_bad_code])"
   ]
  },
  {
   "cell_type": "code",
   "execution_count": 31,
   "id": "0208f2cd-d0a3-4c9a-b41e-490c34a8a9a1",
   "metadata": {
    "tags": []
   },
   "outputs": [
    {
     "data": {
      "text/plain": [
       "0       01.02.2022\n",
       "1       01.02.2022\n",
       "2       01.02.2022\n",
       "3       01.02.2022\n",
       "4       01.02.2022\n",
       "           ...    \n",
       "2610    18.10.2022\n",
       "2611    18.10.2022\n",
       "2612    18.10.2022\n",
       "2613    18.10.2022\n",
       "2614    18.10.2022\n",
       "Name: date, Length: 2409, dtype: object"
      ]
     },
     "execution_count": 31,
     "metadata": {},
     "output_type": "execute_result"
    }
   ],
   "source": [
    "plastock_data[\"date\"]"
   ]
  },
  {
   "cell_type": "code",
   "execution_count": 32,
   "id": "ea7c123b-2c9b-455d-8860-599a5534bede",
   "metadata": {
    "tags": []
   },
   "outputs": [
    {
     "data": {
      "text/plain": [
       "0      2022-02-01\n",
       "1      2022-02-01\n",
       "2      2022-02-01\n",
       "3      2022-02-01\n",
       "4      2022-02-01\n",
       "          ...    \n",
       "2610   2022-10-18\n",
       "2611   2022-10-18\n",
       "2612   2022-10-18\n",
       "2613   2022-10-18\n",
       "2614   2022-10-18\n",
       "Name: date, Length: 2409, dtype: datetime64[ns]"
      ]
     },
     "execution_count": 32,
     "metadata": {},
     "output_type": "execute_result"
    }
   ],
   "source": [
    "# convert to datetime\n",
    "plastock_data[\"date\"] = pd.to_datetime(plastock_data[\"date\"], format=\"%d.%m.%Y\")\n",
    "plastock_data[\"date\"]\n"
   ]
  },
  {
   "cell_type": "code",
   "execution_count": 33,
   "id": "74e8e1dc-3adf-436f-9e43-d3b4daed5d80",
   "metadata": {
    "tags": []
   },
   "outputs": [],
   "source": [
    "plastock_data[\"month\"] = plastock_data[\"date\"].dt.month"
   ]
  },
  {
   "cell_type": "code",
   "execution_count": 35,
   "id": "16ffa5e6-b3c5-4879-aeda-14c2803b363c",
   "metadata": {
    "tags": []
   },
   "outputs": [],
   "source": [
    "replace_season = {\n",
    "    1: \"hiver\",\n",
    "    2: \"printemps\",\n",
    "    3: \"été\",\n",
    "    4: \"automne\"\n",
    "}\n",
    "\n",
    "plastock_data[\"season_spelled\"] = plastock_data[\"season\"].apply(lambda x: replace_season[x]) "
   ]
  },
  {
   "cell_type": "code",
   "execution_count": 37,
   "id": "b4d8767e-13e6-4a8b-ac8c-b70ab678bf78",
   "metadata": {
    "tags": []
   },
   "outputs": [
    {
     "data": {
      "text/plain": [
       "season_spelled\n",
       "automne      4549\n",
       "hiver        6942\n",
       "printemps    5996\n",
       "été          5353\n",
       "Name: quantity, dtype: int64"
      ]
     },
     "execution_count": 37,
     "metadata": {},
     "output_type": "execute_result"
    }
   ],
   "source": [
    "plastock_data.groupby(\"season_spelled\").quantity.sum()"
   ]
  },
  {
   "cell_type": "code",
   "execution_count": 38,
   "id": "6da1f529-f285-4879-8e4b-c362128b5c7a",
   "metadata": {
    "tags": []
   },
   "outputs": [
    {
     "data": {
      "text/html": [
       "<div>\n",
       "<style scoped>\n",
       "    .dataframe tbody tr th:only-of-type {\n",
       "        vertical-align: middle;\n",
       "    }\n",
       "\n",
       "    .dataframe tbody tr th {\n",
       "        vertical-align: top;\n",
       "    }\n",
       "\n",
       "    .dataframe thead th {\n",
       "        text-align: right;\n",
       "    }\n",
       "</style>\n",
       "<table border=\"1\" class=\"dataframe\">\n",
       "  <thead>\n",
       "    <tr style=\"text-align: right;\">\n",
       "      <th></th>\n",
       "      <th>location</th>\n",
       "      <th>area</th>\n",
       "      <th>time</th>\n",
       "      <th>position</th>\n",
       "      <th>substrate</th>\n",
       "      <th>date</th>\n",
       "      <th>season</th>\n",
       "      <th>description</th>\n",
       "      <th>code</th>\n",
       "      <th>quantity</th>\n",
       "      <th>weight</th>\n",
       "      <th>location_date</th>\n",
       "      <th>month</th>\n",
       "      <th>season_spelled</th>\n",
       "    </tr>\n",
       "  </thead>\n",
       "  <tbody>\n",
       "  </tbody>\n",
       "</table>\n",
       "</div>"
      ],
      "text/plain": [
       "Empty DataFrame\n",
       "Columns: [location, area, time, position, substrate, date, season, description, code, quantity, weight, location_date, month, season_spelled]\n",
       "Index: []"
      ]
     },
     "execution_count": 38,
     "metadata": {},
     "output_type": "execute_result"
    }
   ],
   "source": [
    "plastock_data[plastock_data.duplicated()]"
   ]
  },
  {
   "cell_type": "code",
   "execution_count": null,
   "id": "d4d36f48-25a3-4b4f-9d86-9066d059ebfd",
   "metadata": {},
   "outputs": [],
   "source": []
  }
 ],
 "metadata": {
  "kernelspec": {
   "display_name": "Python 3 (ipykernel)",
   "language": "python",
   "name": "python3"
  },
  "language_info": {
   "codemirror_mode": {
    "name": "ipython",
    "version": 3
   },
   "file_extension": ".py",
   "mimetype": "text/x-python",
   "name": "python",
   "nbconvert_exporter": "python",
   "pygments_lexer": "ipython3",
   "version": "3.10.0"
  }
 },
 "nbformat": 4,
 "nbformat_minor": 5
}
