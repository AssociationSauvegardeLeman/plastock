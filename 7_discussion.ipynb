{
 "cells": [
  {
   "cell_type": "code",
   "execution_count": 1,
   "id": "1bcf53db-e1a1-4116-8279-6b69c6c5ea30",
   "metadata": {
    "editable": true,
    "pycharm": {
     "name": "#%%\n"
    },
    "slideshow": {
     "slide_type": ""
    },
    "tags": [
     "remove-input"
    ]
   },
   "outputs": [],
   "source": [
    "from myst_nb import glue\n",
    "from IPython.core.display import HTML\n",
    "from plastockconf import particle_groups, name_substrate, name_distance, table_css_styles_top"
   ]
  },
  {
   "cell_type": "code",
   "execution_count": 2,
   "id": "b0f6d80e-a28f-4960-ac98-a69a5b02d86a",
   "metadata": {
    "editable": true,
    "pycharm": {
     "name": "#%%\n"
    },
    "slideshow": {
     "slide_type": ""
    },
    "tags": [
     "remove-input"
    ]
   },
   "outputs": [
    {
     "data": {
      "application/papermill.record/text/html": "<style type=\"text/css\">\n#T_fdb5a tr:nth-child(even) {\n  background-color: rgba(139, 69, 19, 0.08);\n}\n#T_fdb5a tr:nth-child(odd) {\n  background: #FFF;\n}\n#T_fdb5a tr {\n  font-size: 14px;\n  padding: 6px;\n}\n#T_fdb5a td {\n  padding: 4px;\n  text-align: center;\n}\n#T_fdb5a th:nth-child(1) {\n  background-color: #FFF;\n  white-space: nowrap;\n  word-break: keep-all;\n}\n#T_fdb5a caption {\n  caption-side: top;\n  font-size: 12px;\n  text-align: left;\n  margin-top: 12px;\n}\n</style>\n<table id=\"T_fdb5a\">\n  <caption>Graviers</caption>\n  <thead>\n    <tr>\n      <th class=\"blank level0\" >&nbsp;</th>\n      <th id=\"T_fdb5a_level0_col0\" class=\"col_heading level0 col0\" >observée</th>\n      <th id=\"T_fdb5a_level0_col1\" class=\"col_heading level0 col1\" >prédiction</th>\n    </tr>\n  </thead>\n  <tbody>\n    <tr>\n      <th id=\"T_fdb5a_level0_row0\" class=\"row_heading level0 row0\" >1%</th>\n      <td id=\"T_fdb5a_row0_col0\" class=\"data row0 col0\" >24.32</td>\n      <td id=\"T_fdb5a_row0_col1\" class=\"data row0 col1\" >0.00</td>\n    </tr>\n    <tr>\n      <th id=\"T_fdb5a_level0_row1\" class=\"row_heading level0 row1\" >25%</th>\n      <td id=\"T_fdb5a_row1_col0\" class=\"data row1 col0\" >62.00</td>\n      <td id=\"T_fdb5a_row1_col1\" class=\"data row1 col1\" >69.25</td>\n    </tr>\n    <tr>\n      <th id=\"T_fdb5a_level0_row2\" class=\"row_heading level0 row2\" >50%</th>\n      <td id=\"T_fdb5a_row2_col0\" class=\"data row2 col0\" >90.00</td>\n      <td id=\"T_fdb5a_row2_col1\" class=\"data row2 col1\" >155.50</td>\n    </tr>\n    <tr>\n      <th id=\"T_fdb5a_level0_row3\" class=\"row_heading level0 row3\" >75%</th>\n      <td id=\"T_fdb5a_row3_col0\" class=\"data row3 col0\" >182.00</td>\n      <td id=\"T_fdb5a_row3_col1\" class=\"data row3 col1\" >396.00</td>\n    </tr>\n    <tr>\n      <th id=\"T_fdb5a_level0_row4\" class=\"row_heading level0 row4\" >99%</th>\n      <td id=\"T_fdb5a_row4_col0\" class=\"data row4 col0\" >1192.48</td>\n      <td id=\"T_fdb5a_row4_col1\" class=\"data row4 col1\" >887.96</td>\n    </tr>\n    <tr>\n      <th id=\"T_fdb5a_level0_row5\" class=\"row_heading level0 row5\" >Moyenne</th>\n      <td id=\"T_fdb5a_row5_col0\" class=\"data row5 col0\" >173.03</td>\n      <td id=\"T_fdb5a_row5_col1\" class=\"data row5 col1\" >250.01</td>\n    </tr>\n  </tbody>\n</table>\n",
      "application/papermill.record/text/plain": "<IPython.core.display.HTML object>"
     },
     "metadata": {
      "scrapbook": {
       "mime_prefix": "application/papermill.record/",
       "name": "micro_graviers"
      }
     },
     "output_type": "display_data"
    },
    {
     "data": {
      "application/papermill.record/text/html": "<style type=\"text/css\">\n#T_f1a46 tr:nth-child(even) {\n  background-color: rgba(139, 69, 19, 0.08);\n}\n#T_f1a46 tr:nth-child(odd) {\n  background: #FFF;\n}\n#T_f1a46 tr {\n  font-size: 14px;\n  padding: 6px;\n}\n#T_f1a46 td {\n  padding: 4px;\n  text-align: center;\n}\n#T_f1a46 th:nth-child(1) {\n  background-color: #FFF;\n  white-space: nowrap;\n  word-break: keep-all;\n}\n#T_f1a46 caption {\n  caption-side: top;\n  font-size: 12px;\n  text-align: left;\n  margin-top: 12px;\n}\n</style>\n<table id=\"T_f1a46\">\n  <caption>Ligne d'eau</caption>\n  <thead>\n    <tr>\n      <th class=\"blank level0\" >&nbsp;</th>\n      <th id=\"T_f1a46_level0_col0\" class=\"col_heading level0 col0\" >observée</th>\n      <th id=\"T_f1a46_level0_col1\" class=\"col_heading level0 col1\" >prédiction</th>\n    </tr>\n  </thead>\n  <tbody>\n    <tr>\n      <th id=\"T_f1a46_level0_row0\" class=\"row_heading level0 row0\" >1%</th>\n      <td id=\"T_f1a46_row0_col0\" class=\"data row0 col0\" >20.30</td>\n      <td id=\"T_f1a46_row0_col1\" class=\"data row0 col1\" >2.00</td>\n    </tr>\n    <tr>\n      <th id=\"T_f1a46_level0_row1\" class=\"row_heading level0 row1\" >25%</th>\n      <td id=\"T_f1a46_row1_col0\" class=\"data row1 col0\" >53.50</td>\n      <td id=\"T_f1a46_row1_col1\" class=\"data row1 col1\" >33.75</td>\n    </tr>\n    <tr>\n      <th id=\"T_f1a46_level0_row2\" class=\"row_heading level0 row2\" >50%</th>\n      <td id=\"T_f1a46_row2_col0\" class=\"data row2 col0\" >85.00</td>\n      <td id=\"T_f1a46_row2_col1\" class=\"data row2 col1\" >69.00</td>\n    </tr>\n    <tr>\n      <th id=\"T_f1a46_level0_row3\" class=\"row_heading level0 row3\" >75%</th>\n      <td id=\"T_f1a46_row3_col0\" class=\"data row3 col0\" >129.00</td>\n      <td id=\"T_f1a46_row3_col1\" class=\"data row3 col1\" >181.50</td>\n    </tr>\n    <tr>\n      <th id=\"T_f1a46_level0_row4\" class=\"row_heading level0 row4\" >99%</th>\n      <td id=\"T_f1a46_row4_col0\" class=\"data row4 col0\" >686.80</td>\n      <td id=\"T_f1a46_row4_col1\" class=\"data row4 col1\" >989.09</td>\n    </tr>\n    <tr>\n      <th id=\"T_f1a46_level0_row5\" class=\"row_heading level0 row5\" >Moyenne</th>\n      <td id=\"T_f1a46_row5_col0\" class=\"data row5 col0\" >116.84</td>\n      <td id=\"T_f1a46_row5_col1\" class=\"data row5 col1\" >175.91</td>\n    </tr>\n  </tbody>\n</table>\n",
      "application/papermill.record/text/plain": "<IPython.core.display.HTML object>"
     },
     "metadata": {
      "scrapbook": {
       "mime_prefix": "application/papermill.record/",
       "name": "micro_ligne_deau"
      }
     },
     "output_type": "display_data"
    },
    {
     "data": {
      "application/papermill.record/text/html": "<style type=\"text/css\">\n#T_bc2d8 tr:nth-child(even) {\n  background-color: rgba(139, 69, 19, 0.08);\n}\n#T_bc2d8 tr:nth-child(odd) {\n  background: #FFF;\n}\n#T_bc2d8 tr {\n  font-size: 14px;\n  padding: 6px;\n}\n#T_bc2d8 td {\n  padding: 4px;\n  text-align: center;\n}\n#T_bc2d8 th:nth-child(1) {\n  background-color: #FFF;\n  white-space: nowrap;\n  word-break: keep-all;\n}\n#T_bc2d8 caption {\n  caption-side: top;\n  font-size: 12px;\n  text-align: left;\n  margin-top: 12px;\n}\n</style>\n<table id=\"T_bc2d8\">\n  <caption>Plage seche</caption>\n  <thead>\n    <tr>\n      <th class=\"blank level0\" >&nbsp;</th>\n      <th id=\"T_bc2d8_level0_col0\" class=\"col_heading level0 col0\" >observée</th>\n      <th id=\"T_bc2d8_level0_col1\" class=\"col_heading level0 col1\" >prédiction</th>\n    </tr>\n  </thead>\n  <tbody>\n    <tr>\n      <th id=\"T_bc2d8_level0_row0\" class=\"row_heading level0 row0\" >1%</th>\n      <td id=\"T_bc2d8_row0_col0\" class=\"data row0 col0\" >50.00</td>\n      <td id=\"T_bc2d8_row0_col1\" class=\"data row0 col1\" >4.00</td>\n    </tr>\n    <tr>\n      <th id=\"T_bc2d8_level0_row1\" class=\"row_heading level0 row1\" >25%</th>\n      <td id=\"T_bc2d8_row1_col0\" class=\"data row1 col0\" >116.00</td>\n      <td id=\"T_bc2d8_row1_col1\" class=\"data row1 col1\" >96.25</td>\n    </tr>\n    <tr>\n      <th id=\"T_bc2d8_level0_row2\" class=\"row_heading level0 row2\" >50%</th>\n      <td id=\"T_bc2d8_row2_col0\" class=\"data row2 col0\" >185.00</td>\n      <td id=\"T_bc2d8_row2_col1\" class=\"data row2 col1\" >289.50</td>\n    </tr>\n    <tr>\n      <th id=\"T_bc2d8_level0_row3\" class=\"row_heading level0 row3\" >75%</th>\n      <td id=\"T_bc2d8_row3_col0\" class=\"data row3 col0\" >262.00</td>\n      <td id=\"T_bc2d8_row3_col1\" class=\"data row3 col1\" >520.25</td>\n    </tr>\n    <tr>\n      <th id=\"T_bc2d8_level0_row4\" class=\"row_heading level0 row4\" >99%</th>\n      <td id=\"T_bc2d8_row4_col0\" class=\"data row4 col0\" >1076.00</td>\n      <td id=\"T_bc2d8_row4_col1\" class=\"data row4 col1\" >975.16</td>\n    </tr>\n    <tr>\n      <th id=\"T_bc2d8_level0_row5\" class=\"row_heading level0 row5\" >Moyenne</th>\n      <td id=\"T_bc2d8_row5_col0\" class=\"data row5 col0\" >240.47</td>\n      <td id=\"T_bc2d8_row5_col1\" class=\"data row5 col1\" >350.93</td>\n    </tr>\n  </tbody>\n</table>\n",
      "application/papermill.record/text/plain": "<IPython.core.display.HTML object>"
     },
     "metadata": {
      "scrapbook": {
       "mime_prefix": "application/papermill.record/",
       "name": "micro_plage_seche"
      }
     },
     "output_type": "display_data"
    },
    {
     "data": {
      "application/papermill.record/text/html": "<style type=\"text/css\">\n#T_30252 tr:nth-child(even) {\n  background-color: rgba(139, 69, 19, 0.08);\n}\n#T_30252 tr:nth-child(odd) {\n  background: #FFF;\n}\n#T_30252 tr {\n  font-size: 14px;\n  padding: 6px;\n}\n#T_30252 td {\n  padding: 4px;\n  text-align: center;\n}\n#T_30252 th:nth-child(1) {\n  background-color: #FFF;\n  white-space: nowrap;\n  word-break: keep-all;\n}\n#T_30252 caption {\n  caption-side: top;\n  font-size: 12px;\n  text-align: left;\n  margin-top: 12px;\n}\n</style>\n<table id=\"T_30252\">\n  <caption>Sable</caption>\n  <thead>\n    <tr>\n      <th class=\"blank level0\" >&nbsp;</th>\n      <th id=\"T_30252_level0_col0\" class=\"col_heading level0 col0\" >observée</th>\n      <th id=\"T_30252_level0_col1\" class=\"col_heading level0 col1\" >prédiction</th>\n    </tr>\n  </thead>\n  <tbody>\n    <tr>\n      <th id=\"T_30252_level0_row0\" class=\"row_heading level0 row0\" >1%</th>\n      <td id=\"T_30252_row0_col0\" class=\"data row0 col0\" >23.76</td>\n      <td id=\"T_30252_row0_col1\" class=\"data row0 col1\" >2.99</td>\n    </tr>\n    <tr>\n      <th id=\"T_30252_level0_row1\" class=\"row_heading level0 row1\" >25%</th>\n      <td id=\"T_30252_row1_col0\" class=\"data row1 col0\" >84.50</td>\n      <td id=\"T_30252_row1_col1\" class=\"data row1 col1\" >38.00</td>\n    </tr>\n    <tr>\n      <th id=\"T_30252_level0_row2\" class=\"row_heading level0 row2\" >50%</th>\n      <td id=\"T_30252_row2_col0\" class=\"data row2 col0\" >136.00</td>\n      <td id=\"T_30252_row2_col1\" class=\"data row2 col1\" >80.00</td>\n    </tr>\n    <tr>\n      <th id=\"T_30252_level0_row3\" class=\"row_heading level0 row3\" >75%</th>\n      <td id=\"T_30252_row3_col0\" class=\"data row3 col0\" >212.00</td>\n      <td id=\"T_30252_row3_col1\" class=\"data row3 col1\" >210.75</td>\n    </tr>\n    <tr>\n      <th id=\"T_30252_level0_row4\" class=\"row_heading level0 row4\" >99%</th>\n      <td id=\"T_30252_row4_col0\" class=\"data row4 col0\" >812.94</td>\n      <td id=\"T_30252_row4_col1\" class=\"data row4 col1\" >663.40</td>\n    </tr>\n    <tr>\n      <th id=\"T_30252_level0_row5\" class=\"row_heading level0 row5\" >Moyenne</th>\n      <td id=\"T_30252_row5_col0\" class=\"data row5 col0\" >177.16</td>\n      <td id=\"T_30252_row5_col1\" class=\"data row5 col1\" >162.64</td>\n    </tr>\n  </tbody>\n</table>\n",
      "application/papermill.record/text/plain": "<IPython.core.display.HTML object>"
     },
     "metadata": {
      "scrapbook": {
       "mime_prefix": "application/papermill.record/",
       "name": "micro_sables"
      }
     },
     "output_type": "display_data"
    },
    {
     "data": {
      "application/papermill.record/text/html": "<style type=\"text/css\">\n#T_56169 tr:nth-child(even) {\n  background-color: rgba(139, 69, 19, 0.08);\n}\n#T_56169 tr:nth-child(odd) {\n  background: #FFF;\n}\n#T_56169 tr {\n  font-size: 14px;\n  padding: 6px;\n}\n#T_56169 td {\n  padding: 4px;\n  text-align: center;\n}\n#T_56169 th:nth-child(1) {\n  background-color: #FFF;\n  white-space: nowrap;\n  word-break: keep-all;\n}\n#T_56169 caption {\n  caption-side: top;\n  font-size: 12px;\n  text-align: left;\n  margin-top: 12px;\n}\n</style>\n<table id=\"T_56169\">\n  <caption>Toutes les conditions</caption>\n  <thead>\n    <tr>\n      <th class=\"blank level0\" >&nbsp;</th>\n      <th id=\"T_56169_level0_col0\" class=\"col_heading level0 col0\" >observée</th>\n      <th id=\"T_56169_level0_col1\" class=\"col_heading level0 col1\" >prédiction</th>\n    </tr>\n  </thead>\n  <tbody>\n    <tr>\n      <th id=\"T_56169_level0_row0\" class=\"row_heading level0 row0\" >1%</th>\n      <td id=\"T_56169_row0_col0\" class=\"data row0 col0\" >23.22</td>\n      <td id=\"T_56169_row0_col1\" class=\"data row0 col1\" >3.00</td>\n    </tr>\n    <tr>\n      <th id=\"T_56169_level0_row1\" class=\"row_heading level0 row1\" >25%</th>\n      <td id=\"T_56169_row1_col0\" class=\"data row1 col0\" >71.75</td>\n      <td id=\"T_56169_row1_col1\" class=\"data row1 col1\" >38.75</td>\n    </tr>\n    <tr>\n      <th id=\"T_56169_level0_row2\" class=\"row_heading level0 row2\" >50%</th>\n      <td id=\"T_56169_row2_col0\" class=\"data row2 col0\" >125.50</td>\n      <td id=\"T_56169_row2_col1\" class=\"data row2 col1\" >113.50</td>\n    </tr>\n    <tr>\n      <th id=\"T_56169_level0_row3\" class=\"row_heading level0 row3\" >75%</th>\n      <td id=\"T_56169_row3_col0\" class=\"data row3 col0\" >201.75</td>\n      <td id=\"T_56169_row3_col1\" class=\"data row3 col1\" >259.75</td>\n    </tr>\n    <tr>\n      <th id=\"T_56169_level0_row4\" class=\"row_heading level0 row4\" >99%</th>\n      <td id=\"T_56169_row4_col0\" class=\"data row4 col0\" >1011.71</td>\n      <td id=\"T_56169_row4_col1\" class=\"data row4 col1\" >1031.66</td>\n    </tr>\n    <tr>\n      <th id=\"T_56169_level0_row5\" class=\"row_heading level0 row5\" >Moyenne</th>\n      <td id=\"T_56169_row5_col0\" class=\"data row5 col0\" >175.74</td>\n      <td id=\"T_56169_row5_col1\" class=\"data row5 col1\" >200.57</td>\n    </tr>\n  </tbody>\n</table>\n",
      "application/papermill.record/text/plain": "<IPython.core.display.HTML object>"
     },
     "metadata": {
      "scrapbook": {
       "mime_prefix": "application/papermill.record/",
       "name": "micro_all"
      }
     },
     "output_type": "display_data"
    },
    {
     "data": {
      "application/papermill.record/text/html": "<style type=\"text/css\">\n#T_91c20 tr:nth-child(even) {\n  background-color: rgba(139, 69, 19, 0.08);\n}\n#T_91c20 tr:nth-child(odd) {\n  background: #FFF;\n}\n#T_91c20 tr {\n  font-size: 10px;\n}\n#T_91c20 th {\n  background-color: #FFF;\n  font-size: 12px;\n  text-align: left;\n  width: auto;\n  word-break: keep-all;\n}\n#T_91c20 td {\n  padding: 4px;\n  font-size: 12px;\n  text-align: center;\n}\n#T_91c20 caption {\n  caption-side: bottom;\n  font-size: 1em;\n  text-align: left;\n}\n#T_91c20_row0_col0, #T_91c20_row1_col0, #T_91c20_row2_col1, #T_91c20_row3_col0, #T_91c20_row4_col2, #T_91c20_row5_col0, #T_91c20_row6_col2, #T_91c20_row7_col2, #T_91c20_row7_col3, #T_91c20_row8_col0 {\n  color: rgba(255, 0, 0, 1);\n}\n</style>\n<table id=\"T_91c20\">\n  <thead>\n    <tr>\n      <th class=\"blank level0\" >&nbsp;</th>\n      <th id=\"T_91c20_level0_col0\" class=\"col_heading level0 col0\" >2016</th>\n      <th id=\"T_91c20_level0_col1\" class=\"col_heading level0 col1\" >2018</th>\n      <th id=\"T_91c20_level0_col2\" class=\"col_heading level0 col2\" >2021</th>\n      <th id=\"T_91c20_level0_col3\" class=\"col_heading level0 col3\" >Pla'stock</th>\n    </tr>\n  </thead>\n  <tbody>\n    <tr>\n      <th id=\"T_91c20_level0_row0\" class=\"row_heading level0 row0\" >Min</th>\n      <td id=\"T_91c20_row0_col0\" class=\"data row0 col0\" >0,38</td>\n      <td id=\"T_91c20_row0_col1\" class=\"data row0 col1\" >0,05</td>\n      <td id=\"T_91c20_row0_col2\" class=\"data row0 col2\" >0,16</td>\n      <td id=\"T_91c20_row0_col3\" class=\"data row0 col3\" >0,10</td>\n    </tr>\n    <tr>\n      <th id=\"T_91c20_level0_row1\" class=\"row_heading level0 row1\" >25%</th>\n      <td id=\"T_91c20_row1_col0\" class=\"data row1 col0\" >2,51</td>\n      <td id=\"T_91c20_row1_col1\" class=\"data row1 col1\" >1,62</td>\n      <td id=\"T_91c20_row1_col2\" class=\"data row1 col2\" >1,87</td>\n      <td id=\"T_91c20_row1_col3\" class=\"data row1 col3\" >0,78</td>\n    </tr>\n    <tr>\n      <th id=\"T_91c20_level0_row2\" class=\"row_heading level0 row2\" >50%</th>\n      <td id=\"T_91c20_row2_col0\" class=\"data row2 col0\" >4,39</td>\n      <td id=\"T_91c20_row2_col1\" class=\"data row2 col1\" >4,63</td>\n      <td id=\"T_91c20_row2_col2\" class=\"data row2 col2\" >4,04</td>\n      <td id=\"T_91c20_row2_col3\" class=\"data row2 col3\" >2,00</td>\n    </tr>\n    <tr>\n      <th id=\"T_91c20_level0_row3\" class=\"row_heading level0 row3\" >75%</th>\n      <td id=\"T_91c20_row3_col0\" class=\"data row3 col0\" >10,27</td>\n      <td id=\"T_91c20_row3_col1\" class=\"data row3 col1\" >7,80</td>\n      <td id=\"T_91c20_row3_col2\" class=\"data row3 col2\" >8,07</td>\n      <td id=\"T_91c20_row3_col3\" class=\"data row3 col3\" >4,57</td>\n    </tr>\n    <tr>\n      <th id=\"T_91c20_level0_row4\" class=\"row_heading level0 row4\" >Max</th>\n      <td id=\"T_91c20_row4_col0\" class=\"data row4 col0\" >47,37</td>\n      <td id=\"T_91c20_row4_col1\" class=\"data row4 col1\" >37,59</td>\n      <td id=\"T_91c20_row4_col2\" class=\"data row4 col2\" >59,99</td>\n      <td id=\"T_91c20_row4_col3\" class=\"data row4 col3\" >18,26</td>\n    </tr>\n    <tr>\n      <th id=\"T_91c20_level0_row5\" class=\"row_heading level0 row5\" >Moyenne</th>\n      <td id=\"T_91c20_row5_col0\" class=\"data row5 col0\" >7,82</td>\n      <td id=\"T_91c20_row5_col1\" class=\"data row5 col1\" >6,48</td>\n      <td id=\"T_91c20_row5_col2\" class=\"data row5 col2\" >7,69</td>\n      <td id=\"T_91c20_row5_col3\" class=\"data row5 col3\" >3,42</td>\n    </tr>\n    <tr>\n      <th id=\"T_91c20_level0_row6\" class=\"row_heading level0 row6\" >Écart-type</th>\n      <td id=\"T_91c20_row6_col0\" class=\"data row6 col0\" >9,04</td>\n      <td id=\"T_91c20_row6_col1\" class=\"data row6 col1\" >7,60</td>\n      <td id=\"T_91c20_row6_col2\" class=\"data row6 col2\" >10,99</td>\n      <td id=\"T_91c20_row6_col3\" class=\"data row6 col3\" >3,66</td>\n    </tr>\n    <tr>\n      <th id=\"T_91c20_level0_row7\" class=\"row_heading level0 row7\" >Échantillons</th>\n      <td id=\"T_91c20_row7_col0\" class=\"data row7 col0\" >85</td>\n      <td id=\"T_91c20_row7_col1\" class=\"data row7 col1\" >46</td>\n      <td id=\"T_91c20_row7_col2\" class=\"data row7 col2\" >98</td>\n      <td id=\"T_91c20_row7_col3\" class=\"data row7 col3\" >98</td>\n    </tr>\n    <tr>\n      <th id=\"T_91c20_level0_row8\" class=\"row_heading level0 row8\" >Total</th>\n      <td id=\"T_91c20_row8_col0\" class=\"data row8 col0\" >29'055</td>\n      <td id=\"T_91c20_row8_col1\" class=\"data row8 col1\" >9'460</td>\n      <td id=\"T_91c20_row8_col2\" class=\"data row8 col2\" >24'028</td>\n      <td id=\"T_91c20_row8_col3\" class=\"data row8 col3\" >27'493</td>\n    </tr>\n  </tbody>\n</table>\n",
      "application/papermill.record/text/plain": "<IPython.core.display.HTML object>"
     },
     "metadata": {
      "scrapbook": {
       "mime_prefix": "application/papermill.record/",
       "name": "table_ten"
      }
     },
     "output_type": "display_data"
    },
    {
     "data": {
      "application/papermill.record/text/html": "<style type=\"text/css\">\n#T_053df tr:nth-child(even) {\n  background-color: rgba(139, 69, 19, 0.08);\n}\n#T_053df tr:nth-child(odd) {\n  background: #FFF;\n}\n#T_053df tr {\n  font-size: 14px;\n  padding: 6px;\n}\n#T_053df th:nth-child(1) {\n  background-color: #FFF;\n  white-space: nowrap;\n  word-break: keep-all;\n}\n#T_053df caption {\n  caption-side: top;\n  font-size: 12px;\n  text-align: left;\n  margin-top: 12px;\n}\n</style>\n<table id=\"T_053df\">\n  <thead>\n    <tr>\n      <th class=\"blank\" >&nbsp;</th>\n      <th class=\"blank level0\" >&nbsp;</th>\n      <th id=\"T_053df_level0_col0\" class=\"col_heading level0 col0\" >Taille échantillonnée en mm</th>\n      <th id=\"T_053df_level0_col1\" class=\"col_heading level0 col1\" >Moyenne particule/m2</th>\n      <th id=\"T_053df_level0_col2\" class=\"col_heading level0 col2\" >Ecart type</th>\n      <th id=\"T_053df_level0_col3\" class=\"col_heading level0 col3\" >Médiane</th>\n      <th id=\"T_053df_level0_col4\" class=\"col_heading level0 col4\" >Min</th>\n      <th id=\"T_053df_level0_col5\" class=\"col_heading level0 col5\" >Max</th>\n    </tr>\n    <tr>\n      <th class=\"index_name level0\" >Auteurs</th>\n      <th class=\"index_name level1\" >Lieu</th>\n      <th class=\"blank col0\" >&nbsp;</th>\n      <th class=\"blank col1\" >&nbsp;</th>\n      <th class=\"blank col2\" >&nbsp;</th>\n      <th class=\"blank col3\" >&nbsp;</th>\n      <th class=\"blank col4\" >&nbsp;</th>\n      <th class=\"blank col5\" >&nbsp;</th>\n    </tr>\n  </thead>\n  <tbody>\n    <tr>\n      <th id=\"T_053df_level0_row0\" class=\"row_heading level0 row0\" rowspan=\"7\">De Alencastro et Faure 2014</th>\n      <th id=\"T_053df_level1_row0\" class=\"row_heading level1 row0\" >Léman</th>\n      <td id=\"T_053df_row0_col0\" class=\"data row0 col0\" >0,3-5</td>\n      <td id=\"T_053df_row0_col1\" class=\"data row0 col1\" >2100</td>\n      <td id=\"T_053df_row0_col2\" class=\"data row0 col2\" >2000</td>\n      <td id=\"T_053df_row0_col3\" class=\"data row0 col3\" >1700</td>\n      <td id=\"T_053df_row0_col4\" class=\"data row0 col4\" >78</td>\n      <td id=\"T_053df_row0_col5\" class=\"data row0 col5\" >5000</td>\n    </tr>\n    <tr>\n      <th id=\"T_053df_level1_row1\" class=\"row_heading level1 row1\" >Lacs suisses</th>\n      <td id=\"T_053df_row1_col0\" class=\"data row1 col0\" >0,3-5</td>\n      <td id=\"T_053df_row1_col1\" class=\"data row1 col1\" >1300</td>\n      <td id=\"T_053df_row1_col2\" class=\"data row1 col2\" >2000</td>\n      <td id=\"T_053df_row1_col3\" class=\"data row1 col3\" >270</td>\n      <td id=\"T_053df_row1_col4\" class=\"data row1 col4\" >20</td>\n      <td id=\"T_053df_row1_col5\" class=\"data row1 col5\" >7200</td>\n    </tr>\n    <tr>\n      <th id=\"T_053df_level1_row2\" class=\"row_heading level1 row2\" >Constance</th>\n      <td id=\"T_053df_row2_col0\" class=\"data row2 col0\" >0,3-5</td>\n      <td id=\"T_053df_row2_col1\" class=\"data row2 col1\" >320</td>\n      <td id=\"T_053df_row2_col2\" class=\"data row2 col2\" >220</td>\n      <td id=\"T_053df_row2_col3\" class=\"data row2 col3\" >260</td>\n      <td id=\"T_053df_row2_col4\" class=\"data row2 col4\" >140</td>\n      <td id=\"T_053df_row2_col5\" class=\"data row2 col5\" >620</td>\n    </tr>\n    <tr>\n      <th id=\"T_053df_level1_row3\" class=\"row_heading level1 row3\" >Neuchâtel</th>\n      <td id=\"T_053df_row3_col0\" class=\"data row3 col0\" >0,3-5</td>\n      <td id=\"T_053df_row3_col1\" class=\"data row3 col1\" >700</td>\n      <td id=\"T_053df_row3_col2\" class=\"data row3 col2\" >1100</td>\n      <td id=\"T_053df_row3_col3\" class=\"data row3 col3\" >220</td>\n      <td id=\"T_053df_row3_col4\" class=\"data row3 col4\" >67</td>\n      <td id=\"T_053df_row3_col5\" class=\"data row3 col5\" >2300</td>\n    </tr>\n    <tr>\n      <th id=\"T_053df_level1_row4\" class=\"row_heading level1 row4\" >Majeur</th>\n      <td id=\"T_053df_row4_col0\" class=\"data row4 col0\" >0,3-5</td>\n      <td id=\"T_053df_row4_col1\" class=\"data row4 col1\" >1100</td>\n      <td id=\"T_053df_row4_col2\" class=\"data row4 col2\" >2300</td>\n      <td id=\"T_053df_row4_col3\" class=\"data row4 col3\" >180</td>\n      <td id=\"T_053df_row4_col4\" class=\"data row4 col4\" >20</td>\n      <td id=\"T_053df_row4_col5\" class=\"data row4 col5\" >6900</td>\n    </tr>\n    <tr>\n      <th id=\"T_053df_level1_row5\" class=\"row_heading level1 row5\" >Zurich</th>\n      <td id=\"T_053df_row5_col0\" class=\"data row5 col0\" >0,3-5</td>\n      <td id=\"T_053df_row5_col1\" class=\"data row5 col1\" >460</td>\n      <td id=\"T_053df_row5_col2\" class=\"data row5 col2\" >350</td>\n      <td id=\"T_053df_row5_col3\" class=\"data row5 col3\" >480</td>\n      <td id=\"T_053df_row5_col4\" class=\"data row5 col4\" >89</td>\n      <td id=\"T_053df_row5_col5\" class=\"data row5 col5\" >800</td>\n    </tr>\n    <tr>\n      <th id=\"T_053df_level1_row6\" class=\"row_heading level1 row6\" >Brienz</th>\n      <td id=\"T_053df_row6_col0\" class=\"data row6 col0\" >0,3-5</td>\n      <td id=\"T_053df_row6_col1\" class=\"data row6 col1\" >2500</td>\n      <td id=\"T_053df_row6_col2\" class=\"data row6 col2\" >3000</td>\n      <td id=\"T_053df_row6_col3\" class=\"data row6 col3\" >1200</td>\n      <td id=\"T_053df_row6_col4\" class=\"data row6 col4\" >89</td>\n      <td id=\"T_053df_row6_col5\" class=\"data row6 col5\" >7200</td>\n    </tr>\n    <tr>\n      <th id=\"T_053df_level0_row7\" class=\"row_heading level0 row7\" >Frei 2021</th>\n      <th id=\"T_053df_level1_row7\" class=\"row_heading level1 row7\" >Lugano</th>\n      <td id=\"T_053df_row7_col0\" class=\"data row7 col0\" >0,3-5</td>\n      <td id=\"T_053df_row7_col1\" class=\"data row7 col1\" >9044</td>\n      <td id=\"T_053df_row7_col2\" class=\"data row7 col2\" >14494</td>\n      <td id=\"T_053df_row7_col3\" class=\"data row7 col3\" >-</td>\n      <td id=\"T_053df_row7_col4\" class=\"data row7 col4\" >733</td>\n      <td id=\"T_053df_row7_col5\" class=\"data row7 col5\" >45600</td>\n    </tr>\n    <tr>\n      <th id=\"T_053df_level0_row8\" class=\"row_heading level0 row8\" rowspan=\"4\">Constant et al. 2019</th>\n      <th id=\"T_053df_level1_row8\" class=\"row_heading level1 row8\" >Golf du Lion 1</th>\n      <td id=\"T_053df_row8_col0\" class=\"data row8 col0\" >0,063-5</td>\n      <td id=\"T_053df_row8_col1\" class=\"data row8 col1\" >1100</td>\n      <td id=\"T_053df_row8_col2\" class=\"data row8 col2\" >1629</td>\n      <td id=\"T_053df_row8_col3\" class=\"data row8 col3\" >-</td>\n      <td id=\"T_053df_row8_col4\" class=\"data row8 col4\" >145</td>\n      <td id=\"T_053df_row8_col5\" class=\"data row8 col5\" >4653</td>\n    </tr>\n    <tr>\n      <th id=\"T_053df_level1_row9\" class=\"row_heading level1 row9\" >Golf du Lion 2</th>\n      <td id=\"T_053df_row9_col0\" class=\"data row9 col0\" >0,063-5</td>\n      <td id=\"T_053df_row9_col1\" class=\"data row9 col1\" >731</td>\n      <td id=\"T_053df_row9_col2\" class=\"data row9 col2\" >528</td>\n      <td id=\"T_053df_row9_col3\" class=\"data row9 col3\" >-</td>\n      <td id=\"T_053df_row9_col4\" class=\"data row9 col4\" >298</td>\n      <td id=\"T_053df_row9_col5\" class=\"data row9 col5\" >2258</td>\n    </tr>\n    <tr>\n      <th id=\"T_053df_level1_row10\" class=\"row_heading level1 row10\" >Golf du Lion 3</th>\n      <td id=\"T_053df_row10_col0\" class=\"data row10 col0\" >0,063-5</td>\n      <td id=\"T_053df_row10_col1\" class=\"data row10 col1\" >254</td>\n      <td id=\"T_053df_row10_col2\" class=\"data row10 col2\" >141</td>\n      <td id=\"T_053df_row10_col3\" class=\"data row10 col3\" >-</td>\n      <td id=\"T_053df_row10_col4\" class=\"data row10 col4\" >92</td>\n      <td id=\"T_053df_row10_col5\" class=\"data row10 col5\" >567</td>\n    </tr>\n    <tr>\n      <th id=\"T_053df_level1_row11\" class=\"row_heading level1 row11\" >Golf du Lion 4</th>\n      <td id=\"T_053df_row11_col0\" class=\"data row11 col0\" >0,063-5</td>\n      <td id=\"T_053df_row11_col1\" class=\"data row11 col1\" >290</td>\n      <td id=\"T_053df_row11_col2\" class=\"data row11 col2\" >292</td>\n      <td id=\"T_053df_row11_col3\" class=\"data row11 col3\" >-</td>\n      <td id=\"T_053df_row11_col4\" class=\"data row11 col4\" >117</td>\n      <td id=\"T_053df_row11_col5\" class=\"data row11 col5\" >1152</td>\n    </tr>\n  </tbody>\n</table>\n",
      "application/papermill.record/text/plain": "<IPython.core.display.HTML object>"
     },
     "metadata": {
      "scrapbook": {
       "mime_prefix": "application/papermill.record/",
       "name": "previous_studies"
      }
     },
     "output_type": "display_data"
    },
    {
     "data": {
      "application/papermill.record/text/html": "<style type=\"text/css\">\n#T_1305d tr:nth-child(even) {\n  background-color: rgba(139, 69, 19, 0.08);\n}\n#T_1305d tr:nth-child(odd) {\n  background: #FFF;\n}\n#T_1305d tr {\n  font-size: 14px;\n  padding: 6px;\n}\n#T_1305d td {\n  padding: 4px;\n  text-align: center;\n}\n#T_1305d th:nth-child(1) {\n  background-color: #FFF;\n  white-space: nowrap;\n  word-break: keep-all;\n}\n#T_1305d caption {\n  caption-side: top;\n  font-size: 12px;\n  text-align: left;\n  margin-top: 12px;\n}\n</style>\n<table id=\"T_1305d\">\n  <thead>\n    <tr>\n      <th class=\"blank level0\" >&nbsp;</th>\n      <th id=\"T_1305d_level0_col0\" class=\"col_heading level0 col0\" >moyenne</th>\n      <th id=\"T_1305d_level0_col1\" class=\"col_heading level0 col1\" >écart-type</th>\n      <th id=\"T_1305d_level0_col2\" class=\"col_heading level0 col2\" >min</th>\n      <th id=\"T_1305d_level0_col3\" class=\"col_heading level0 col3\" >25%</th>\n      <th id=\"T_1305d_level0_col4\" class=\"col_heading level0 col4\" >50%</th>\n      <th id=\"T_1305d_level0_col5\" class=\"col_heading level0 col5\" >75%</th>\n      <th id=\"T_1305d_level0_col6\" class=\"col_heading level0 col6\" >max</th>\n    </tr>\n  </thead>\n  <tbody>\n    <tr>\n      <th id=\"T_1305d_level0_row0\" class=\"row_heading level0 row0\" >Prévisions</th>\n      <td id=\"T_1305d_row0_col0\" class=\"data row0 col0\" >2,23</td>\n      <td id=\"T_1305d_row0_col1\" class=\"data row0 col1\" >2,41</td>\n      <td id=\"T_1305d_row0_col2\" class=\"data row0 col2\" >0,00</td>\n      <td id=\"T_1305d_row0_col3\" class=\"data row0 col3\" >0,60</td>\n      <td id=\"T_1305d_row0_col4\" class=\"data row0 col4\" >1,40</td>\n      <td id=\"T_1305d_row0_col5\" class=\"data row0 col5\" >3,05</td>\n      <td id=\"T_1305d_row0_col6\" class=\"data row0 col6\" >18,20</td>\n    </tr>\n  </tbody>\n</table>\n",
      "application/papermill.record/text/plain": "<IPython.core.display.HTML object>"
     },
     "metadata": {
      "scrapbook": {
       "mime_prefix": "application/papermill.record/",
       "name": "macro_all"
      }
     },
     "output_type": "display_data"
    },
    {
     "data": {
      "application/papermill.record/text/html": "<style type=\"text/css\">\n#T_40f17 tr:nth-child(even) {\n  background-color: rgba(139, 69, 19, 0.08);\n}\n#T_40f17 tr:nth-child(odd) {\n  background: #FFF;\n}\n#T_40f17 tr {\n  font-size: 14px;\n  padding: 6px;\n}\n#T_40f17 th:nth-child(1) {\n  background-color: #FFF;\n  white-space: nowrap;\n  word-break: keep-all;\n}\n#T_40f17 caption {\n  caption-side: top;\n  font-size: 12px;\n  text-align: left;\n  margin-top: 12px;\n}\n#T_40f17_row0_col3, #T_40f17_row1_col3, #T_40f17_row2_col3, #T_40f17_row3_col3, #T_40f17_row4_col3, #T_40f17_row5_col3, #T_40f17_row6_col3, #T_40f17_row7_col4, #T_40f17_row8_col0 {\n  color: rgba(255, 0, 0, 1);\n}\n</style>\n<table id=\"T_40f17\">\n  <thead>\n    <tr>\n      <th class=\"blank level0\" >&nbsp;</th>\n      <th id=\"T_40f17_level0_col0\" class=\"col_heading level0 col0\" >2015 - 2016</th>\n      <th id=\"T_40f17_level0_col1\" class=\"col_heading level0 col1\" >2017 - 2018</th>\n      <th id=\"T_40f17_level0_col2\" class=\"col_heading level0 col2\" >2020 - 2021</th>\n<!--      <th id=\"T_40f17_level0_col3\" class=\"col_heading level0 col3\" >Solid-Waste-Team</th>-->\n      <th id=\"T_40f17_level0_col4\" class=\"col_heading level0 col4\" >Pla'stock</th>\n    </tr>\n  </thead>\n  <tbody>\n    <tr>\n      <th id=\"T_40f17_level0_row0\" class=\"row_heading level0 row0\" >Min</th>\n      <td id=\"T_40f17_row0_col0\" class=\"data row0 col0\" >0,38</td>\n      <td id=\"T_40f17_row0_col1\" class=\"data row0 col1\" >0,05</td>\n      <td id=\"T_40f17_row0_col2\" class=\"data row0 col2\" >0,16</td>\n<!--      <td id=\"T_40f17_row0_col3\" class=\"data row0 col3\" >1,02</td>-->\n      <td id=\"T_40f17_row0_col4\" class=\"data row0 col4\" >0,10</td>\n    </tr>\n    <tr>\n      <th id=\"T_40f17_level0_row1\" class=\"row_heading level0 row1\" >25%</th>\n      <td id=\"T_40f17_row1_col0\" class=\"data row1 col0\" >2,50</td>\n      <td id=\"T_40f17_row1_col1\" class=\"data row1 col1\" >1,36</td>\n      <td id=\"T_40f17_row1_col2\" class=\"data row1 col2\" >1,81</td>\n<!--      <td id=\"T_40f17_row1_col3\" class=\"data row1 col3\" >4,76</td>-->\n      <td id=\"T_40f17_row1_col4\" class=\"data row1 col4\" >0,78</td>\n    </tr>\n    <tr>\n      <th id=\"T_40f17_level0_row2\" class=\"row_heading level0 row2\" >50%</th>\n      <td id=\"T_40f17_row2_col0\" class=\"data row2 col0\" >4,39</td>\n      <td id=\"T_40f17_row2_col1\" class=\"data row2 col1\" >4,40</td>\n      <td id=\"T_40f17_row2_col2\" class=\"data row2 col2\" >3,73</td>\n<!--      <td id=\"T_40f17_row2_col3\" class=\"data row2 col3\" >7,97</td>-->\n      <td id=\"T_40f17_row2_col4\" class=\"data row2 col4\" >2,00</td>\n    </tr>\n    <tr>\n      <th id=\"T_40f17_level0_row3\" class=\"row_heading level0 row3\" >75%</th>\n      <td id=\"T_40f17_row3_col0\" class=\"data row3 col0\" >8,16</td>\n      <td id=\"T_40f17_row3_col1\" class=\"data row3 col1\" >8,42</td>\n      <td id=\"T_40f17_row3_col2\" class=\"data row3 col2\" >7,29</td>\n<!--      <td id=\"T_40f17_row3_col3\" class=\"data row3 col3\" >13,28</td>-->\n      <td id=\"T_40f17_row3_col4\" class=\"data row3 col4\" >4,57</td>\n    </tr>\n    <tr>\n      <th id=\"T_40f17_level0_row4\" class=\"row_heading level0 row4\" >Max</th>\n      <td id=\"T_40f17_row4_col0\" class=\"data row4 col0\" >47,37</td>\n      <td id=\"T_40f17_row4_col1\" class=\"data row4 col1\" >37,59</td>\n      <td id=\"T_40f17_row4_col2\" class=\"data row4 col2\" >59,99</td>\n<!--      <td id=\"T_40f17_row4_col3\" class=\"data row4 col3\" >66,03</td>-->\n      <td id=\"T_40f17_row4_col4\" class=\"data row4 col4\" >18,26</td>\n    </tr>\n    <tr>\n      <th id=\"T_40f17_level0_row5\" class=\"row_heading level0 row5\" >Moyenne</th>\n      <td id=\"T_40f17_row5_col0\" class=\"data row5 col0\" >7,51</td>\n      <td id=\"T_40f17_row5_col1\" class=\"data row5 col1\" >6,56</td>\n      <td id=\"T_40f17_row5_col2\" class=\"data row5 col2\" >7,21</td>\n<!--      <td id=\"T_40f17_row5_col3\" class=\"data row5 col3\" >13,10</td>-->\n      <td id=\"T_40f17_row5_col4\" class=\"data row5 col4\" >3,42</td>\n    </tr>\n    <tr>\n      <th id=\"T_40f17_level0_row6\" class=\"row_heading level0 row6\" >Écart-type</th>\n      <td id=\"T_40f17_row6_col0\" class=\"data row6 col0\" >8,75</td>\n      <td id=\"T_40f17_row6_col1\" class=\"data row6 col1\" >7,76</td>\n      <td id=\"T_40f17_row6_col2\" class=\"data row6 col2\" >10,47</td>\n<!--      <td id=\"T_40f17_row6_col3\" class=\"data row6 col3\" >16,02</td>-->\n      <td id=\"T_40f17_row6_col4\" class=\"data row6 col4\" >3,66</td>\n    </tr>\n    <tr>\n      <th id=\"T_40f17_level0_row7\" class=\"row_heading level0 row7\" >Échantillons</th>\n      <td id=\"T_40f17_row7_col0\" class=\"data row7 col0\" >91</td>\n      <td id=\"T_40f17_row7_col1\" class=\"data row7 col1\" >44</td>\n      <td id=\"T_40f17_row7_col2\" class=\"data row7 col2\" >93</td>\n<!--      <td id=\"T_40f17_row7_col3\" class=\"data row7 col3\" >20</td>-->\n      <td id=\"T_40f17_row7_col4\" class=\"data row7 col4\" >98</td>\n    </tr>\n    <tr>\n      <th id=\"T_40f17_level0_row8\" class=\"row_heading level0 row8\" >Total</th>\n      <td id=\"T_40f17_row8_col0\" class=\"data row8 col0\" >28'645</td>\n      <td id=\"T_40f17_row8_col1\" class=\"data row8 col1\" >8'864</td>\n      <td id=\"T_40f17_row8_col2\" class=\"data row8 col2\" >21'839</td>\n<!--      <td id=\"T_40f17_row8_col3\" class=\"data row8 col3\" >8'173</td>-->\n      <td id=\"T_40f17_row8_col4\" class=\"data row8 col4\" >27'493</td>\n    </tr>\n  </tbody>\n</table>",
      "application/papermill.record/text/plain": "<IPython.core.display.HTML object>"
     },
     "metadata": {
      "scrapbook": {
       "mime_prefix": "application/papermill.record/",
       "name": "macro_previous"
      }
     },
     "output_type": "display_data"
    }
   ],
   "source": [
    "with open('resources/tables/micro_graviers_prediction.html', 'r') as file:\n",
    "    d = HTML(file.read())\n",
    "    glue(\"micro_graviers\", d, display=False)\n",
    "\n",
    "with open('resources/tables/micro_ligne_deau_prediction.html', 'r') as file:\n",
    "    d = HTML(file.read())\n",
    "    glue(\"micro_ligne_deau\", d, display=False)\n",
    "\n",
    "with open('resources/tables/micro_plage_seche_prediction.html', 'r') as file:\n",
    "    d = HTML(file.read())\n",
    "    glue(\"micro_plage_seche\", d, display=False)\n",
    "\n",
    "with open('resources/tables/micro_sables_prediction.html', 'r') as file:\n",
    "    d = HTML(file.read())\n",
    "    glue(\"micro_sables\", d, display=False)\n",
    "\n",
    "with open('resources/tables/micro_prediction_tous_conditions.html', 'r') as file:\n",
    "    d = HTML(file.read())\n",
    "    glue(\"micro_all\", d, display=False)\n",
    "    \n",
    "with open('resources/tables/j_m_c.html', 'r') as file:\n",
    "    d = HTML(file.read())\n",
    "    glue(\"table_ten\", d, display=False)\n",
    "\n",
    "with open('resources/tables/table_6one.html', 'r') as file:\n",
    "    d = HTML(file.read())\n",
    "    glue(\"previous_studies\", d, display=False)\n",
    "\n",
    "with open('resources/tables/conclusion_predictions_table_macro_all.html', 'r') as file:\n",
    "    d = HTML(file.read())\n",
    "    glue(\"macro_all\", d, display=False)\n",
    "\n",
    "\n",
    "with open('resources/tables/results_table_ten.html', 'r') as file:\n",
    "    d = HTML(file.read())\n",
    "    glue(\"macro_previous\", d, display=False)"
   ]
  },
  {
   "cell_type": "markdown",
   "id": "1c61dc0f-71f0-4cdc-b70c-94518141120f",
   "metadata": {
    "editable": true,
    "pycharm": {
     "name": "#%% md\n"
    },
    "slideshow": {
     "slide_type": ""
    },
    "tags": []
   },
   "source": [
    "# Discussion\n",
    "\n",
    "## Microplastiques\n",
    "\n",
    "Sur l’ensemble des 25 plages étudiées, les résultats obtenus montrent une conentration moyenne en microplastiques de 17’500 ± 19’100 par m². Ce chiffre, issu des comptabilisations effectuées à la loupe binoculaire, peut être pondéré en se basant sur une étude réalisée en Méditerranée. En effet ([Constant et al., 2019](constant_et_all)), ont déterminé des pourcentages d’identification des différentes particules. Les fibres y sont identifiées comme étant bien du plastique dans 37% des cas, les fragments 50%, les mousses 81% et les films 67%. En appliquant cette pondération aux données du projet Pla’stock, la contamination estimée en plastique serait de 7’600 ± 8’300 particules par m².\n",
    "\n",
    "Le Tableau 10 ci-dessous, montre que les concentrations pondérées dans le cadre de l’étude Pla’stock (7’600 ± 8’300 particules/m²) sont plus de trois fois supérieures à la moyenne mesurée en 2014 sur le Léman et les autres lacs suisses. Ceci confirme les observations faites par Frei et al., ([Frei et al., 2021](frei_et_all)), sur le lac de Lugano. Il aurait été intéressant d’avoir un état des lieux en 2014 de la pollution plastique sur les plages du lac de Lugano afin de comparer l’évolution entre les deux lacs. \n",
    "\n",
    "La comparaison avec une étude réalisée en 2019 en Méditerranée, sur quatre plages du Golfe du Lion, est encore plus flagrante ([Constant et al., 2019](constant_et_all)). Contrairement aux autres résultats des autres études ([Frei et al., 2021](frei_et_all)), ([Faure et al., 2018](faure_et_all)), ([Constant et al., 2019](constant_et_all)), les particules comptabilisées dans le cadre de la présente étude n’ont pas été caractérisées mais la valeur pondérée permet d’obtenir une concentration probable de particules de plastique et une meilleure comparaison avec d’autres études. La valeur non pondérée constitue la valeur maximale de particules de plastique dans les échantillons. \n",
    "\n",
    "Les méthodes de prélèvements sont similaires dans les différentes études. En revanche la taille des échantillons varie. Constant et al. et Faure et al. ont effectué des carottages de 0,5 x 0,5 m contre 0,1 x 0,1 m pour l’étude de Frei et al. et l’étude Pla’stock. Cette nouvelle taille semble devenir la norme pour les échantillonnages de microplastiques sur les plages.\n",
    "\n",
    "::::{grid}\n",
    "\n",
    ":::{grid-item-card} \n",
    "\n",
    "<b>Tableau 7.1 :</b> Comparaison avec d’autres études ayant comptabilisé des microplastiques sur les plages (particules/m²).\n",
    "\n",
    "<b>Tableau 7.1 :</b> Comparison with other studies that have counted microplastics on beaches (particles/m²).\n",
    "^^^\n",
    "\n",
    "```{image} resources/images/anterieure.png\n",
    ":alt: summary litter density\n",
    ":align: center\n",
    ":name: carte_secteur\n",
    "```\n",
    ":::\n",
    "::::\n",
    "\n",
    "Ce n’est pas une surprise de constater une augmentation des concentrations en microplastiques depuis 2014. Cette évolution peut s’expliquer par l’augmentation de la production mondiale de plastique, la fragmentation des déchets déjà présents dans le Léman ou encore par la consommation textile. \n",
    "\n",
    "## Macroplastiques\n",
    "\n",
    "Sur les 25 plages étudiées par l’étude Pla’stock, la moyenne est de 3,42 ± 3,66 pièces par mètre linéaire. Ce résultat suggère que les quantités de certains déchets sauvages sont en baisse par rapport aux sessions d’échantillonnage précédentes sur les plages du Léman (Tableau 7.2). Le projet IQAASL ([OFEV](OFEV)) est le plus similaire à l’étude Pla’stock. Les différences sont la supervision des bénévoles, le nombre de passages et le nombre de plages suivies. Dans le cadre de l’étude Pla’stock, les responsables de secteur ont reçu une formation théorique pour réaliser les inventaires alors que dans celui d’IQAASL, les bénévoles étaient accompagnés sur les plages. Les autres projets mentionnés ne sont pas des études à large échelle. Il s’agit plutôt de collectes spontanées par des groupes sur un nombre restreint de secteur. Pla’stock est la première étude à avoir analysé tant des plages suisses que françaises.\n",
    "\n",
    "Dans l’ensemble, cette étude fait état d’une valeur médiane de 2 pièces/mètre linéaire contre 3,7 à 4,4 dans le passé. Cette réduction est conforme aux conclusions de 2020 – 2021 combinant les résultats du suivi par SLR et de l’étude IQAASL.\n",
    "\n",
    "::::{grid} 1 1 1 1\n",
    ":gutter: 0\n",
    "\n",
    ":::{grid-item-card}\n",
    ":shadow: none\n",
    "\n",
    "<b>Tableau 7.2 :</b> Comparaison des résultats des campagnes de collecte de déchets sauvages au bord du Léman entre 2016 et 2022 (nombre de déchets par mètre de rivage, nombre d’échantillons et nombre total de déchets récoltés). La récolte de 2021 correspond à l’étude IQAASL (OFEV, 2021). Les campagnes de 2016 et de 2018 ont été menées respectivement par hammerdirt ([hammerdirt](https://www.hammerdirt.ch/)) et par STOPPP le ([Swiss Litter Report](http://stoppp.org/)).\n",
    "\n",
    "<b>Tableau 7.2 :</b> Comparison of the results of litter collection campaigns on the shores of Lake Geneva between 2016 and 2022 (number of items of litter per metre of shoreline, number of samples and total number of items of litter collected). The 2021 collection corresponds to the IQAASL study (OFEV, 2021). The 2016 and 2018 campaigns were conducted respectively by hammerdirt ([hammerdirt](https://www.hammerdirt.ch/)) and by STOPPP ([Swiss Litter Report](http://stoppp.org/)).\n",
    "^^^\n",
    "\n",
    "{glue}`macro_previous`\n",
    "\n",
    ":::\n",
    "::::\n",
    "Les déchets dont la concentration sur les plages a le plus fortement diminué sont ceux liés à la consommation personnelle (mégots de cigarettes, emballages de snacks et bouchons de bouteilles en plastique). La diminution marquée de la densité des cotons-tiges en plastique (0,03 pièce/mètre dans le cadre de l’étude Pla’stock contre 0,13 pièce/mètre lors de l’étude IQAASL pourrait être attribuée à l’interdiction de la vente de ces articles en France. \n",
    "\n",
    "## Stock de plastiques sur les plages du Léman\n",
    "\n",
    "En vue de l’extrapolation des résultats de notre étude à l’ensemble des plages du Léman, la superficie des plages publiques a été estimée sur la base d’orthophotos et en se référant à la liste des plages de la CIPEL. Cette liste a été adaptée, certaines plages ayant été éliminées car ce sont uniquement des espaces de baignade dépourvus de grèves “naturelles” (enrochements, dalles en pierres ou en béton, etc.). Trois autres plages ont en revanche été incluses dans l’étude. Il s’agit d’une plage semi-privée à Crans (VD), de la plage de la Pichette sur la commune de Corseaux et de la plage de l’Empereur à Noville (Grangettes). Au total, la superficie des 90 plages retenues correspond à 68’400 m² pour un linéaire de 12’700 m. Selon cette estimation, la contamination plastique s’élève à 519'840’000 ± 567'720'000 particules sur les plages du Léman, basée sur la moyenne pondérée et 1’197'000'000 ± 1'306'400’000 sans pondération. \n",
    " \n",
    "Pour les macroplastiques, sur les 12’700 m de plages publiques, en transposant la moyenne de 3,42 ± 3,66 pièces par mètre recensées dans le cadre du projet Pla’stock, il y aurait 43’400 ± 46'500 morceaux de plastiques sur les plages publiques du Léman.\n",
    "\n",
    "## Prédictions des abondances\n",
    "\n",
    "### Prédiction avec modèle de la grille Bayésienne\n",
    "\n",
    "La méthode de la grille Bayésienne estime les paramètres en divisant l'espace des paramètres en points, calculant les chances de chaque point sur une grille, et les combinant avec des estimations antérieures pour obtenir des estimations finales. Elle aide à estimer les paramètres et leur incertitude, mais peut être complexe à calculer.\n",
    "\n",
    "### Microplastiques\n",
    "\n",
    "Les prédictions des abondances de microplastiques sur les plages du Léman permettent de visualiser ce qui est censé être réellement présent sur les plages en fonction des échantillonnages réalisés en 2021 dans le cadre de cette étude. Dans un premier temps, la prédiction d’abondance a été effectuée pour l’ensemble des plages, toutes conditions confondues (Figure 18).\n",
    "\n",
    "::::{grid} 1 1 2 2\n",
    ":gutter: 0\n",
    "\n",
    ":::{grid-item-card}\n",
    ":shadow: none\n",
    "\n",
    "<b>Tableau 7.3 :</b> Prédiction d'abondance par approximation Bayésienne\n",
    "\n",
    "<b>Tableau 7.3 :</b> Abundance prediction using Bayesian approximation.\n",
    "^^^\n",
    "\n",
    "{glue}`micro_all`\n",
    "\n",
    ":::\n",
    "\n",
    ":::{grid-item-card}\n",
    ":shadow: none\n",
    "\n",
    "```{image} resources/charts/micro_predictions_tous_histo.jpeg\n",
    ":alt: Distribution of predicted versus observed, all data\n",
    ":align: center\n",
    ":name: observed-predicted-all\n",
    "```\n",
    "+++\n",
    "<b>Figure 7.1 :</b> Prédiction d'abondance par approximation Bayésienne\n",
    "\n",
    "<b>Figure 7.1 :</b> Abundance prediction using Bayesian approximation.ne\n",
    ":::\n",
    "\n",
    "\n",
    "::::\n",
    "\n",
    "Les substrats ont été regroupés en deux catégories. Les sables comprennent les sables fins et grossiers. Les graviers comprennent les graviers et les cailloux. Les futurs relevés permettront d’alimenter le modèle de prédiction et d’en augmenter la robustesse. A ce stade, la prédiction indique qu’en allant se promener sur une plage de sable, nous trouverons en moyenne 200 particules de plastiques (valeur non pondérée), avec 99% des échantillons contenant moins de 1031 particules par échantillons de 100 cm². En s’intéressant à la distinction entre les types de substrats, il est prévisible de trouver en moyenne plus de particules sur les plages dont le substrat est grossier (graviers et cailloux) que sur celles qui sont de sable. La dispersion des mesures est très grande sur les plages de graviers/galets avec des abondances pouvant varier de 1 à 1446 particules/100 cm² dans 99% des cas. A noter que les prédictions prévoient une différence entre les substrats sableux et les substrats grossiers moindre que celle mesurée in situ (Tableau 7.3).\n",
    "\n",
    "\n",
    "\n",
    "\n",
    "::::{grid} 1 2 2 2\n",
    ":gutter: 0\n",
    "\n",
    ":::{grid-item-card}\n",
    ":columns: 12\n",
    ":shadow: none\n",
    "\n",
    "<b>Tableau 7.3 et figure 7.2 :</b> Prédiction d'abondance en nombre de particules/100 cm² sur les substrats sableux.\n",
    "\n",
    "<b>Tableau 7.3 et figure 7.2 :</b> Prediction of abundance in number of particles/100 cm² on sandy substrates.\n",
    ":::\n",
    "\n",
    ":::{grid-item-card}\n",
    ":shadow: none\n",
    "\n",
    "{glue}`micro_sables`\n",
    "\n",
    ":::\n",
    "\n",
    ":::{grid-item-card}\n",
    ":shadow: none\n",
    "\n",
    "```{image} resources/charts/micro_predictions_sable_histo.jpeg\n",
    ":alt: Distribution of predicted versus observed, sandy beaches\n",
    ":align: center\n",
    ":name: observed-predicted-sables\n",
    "```\n",
    ":::\n",
    "::::\n",
    "\n",
    "::::{grid} 1 2 2 2 \n",
    ":gutter: 0\n",
    "\n",
    ":::{grid-item-card}\n",
    ":columns: 12\n",
    ":shadow: none\n",
    "\n",
    "<b>Tableau 7.4 et figure 7.3 :</b> Prédiction d'abondance en nombre de particules/100 cm² sur les plages de graviers.\n",
    "\n",
    "<b>Tableau 7.4 et figure 7.3 :</b> Prediction of abundance in number of particles/100 cm² on gravel beaches.\n",
    "\n",
    ":::\n",
    "\n",
    ":::{grid-item-card}\n",
    ":shadow: none\n",
    "\n",
    "{glue}`micro_graviers`\n",
    "\n",
    ":::\n",
    "\n",
    ":::{grid-item-card}\n",
    ":shadow: none\n",
    "\n",
    "```{image} resources/charts/micro_predictions_gravier_histo.jpeg\n",
    ":alt: Distribution of predicted versus observed, sandy beaches\n",
    ":align: center\n",
    ":name: observed-predicted-graviers\n",
    "```\n",
    ":::\n",
    "::::\n",
    "\n",
    "Sur la base des différentes sessions d’échantillonnage de ces dernières années, il est possible de prédire les abondances de microplastiques qui seront retrouvées sur les plages du Léman en 2024. Les substrats ont été regroupés en deux catégories. Les sables comprennent les sables fins et grossiers et les graviers comprennent les graviers et les cailloux. Les futurs relevés permettront d’alimenter le modèle de prédiction. A ce stade, la prédiction indique qu’en allant se promener sur une plage de sable, nous trouverons en moyenne 188 particules de plastiques, avec la possibilité d’avoir des contaminations extrêmes jusqu’à 879 particules par échantillons de 100 cm².\n",
    "\n",
    "### Macroplastiques\n",
    "\n",
    "Sur la base des différentes sessions d’échantillonnage de ces dernières années, il est possible de prédire les abondances de macroplastiques qui seront retrouvées sur les plages du Léman en 2024. Le but est de pouvoir combiner, au sein de ce modèle, les données récoltées dans le cadre de Pla’stock et celles issues d’études plus anciennes. De cette manière, il sera possible de connaître la quantité et le type de plastiques qui seront trouvés en allant se promener sur une plage donnée. La prédiction se base uniquement sur les collectes effectuées et ne prend pas en compte les ramassages effectués par les voiries. ([Analyse et inference](analyse_inference))\n",
    "\n",
    "::::{grid}\n",
    "\n",
    ":::{grid-item-card}\n",
    "\n",
    "<b>Tableau 7.5 :</b>  Prédiction d'abondance en nombre de pièces de macroplastiques par mètre linéaire.\n",
    "\n",
    "<b>Tableau 7.5 :</b>  Prediction of abundance in number of pieces of macroplastic per linear metre.\n",
    "^^^\n",
    "{glue}`macro_all`\n",
    ":::\n",
    "::::"
   ]
  },
  {
   "cell_type": "markdown",
   "id": "8e0703c6-4aea-453d-a3b1-6066c71bfdcb",
   "metadata": {},
   "source": [
    "\n"
   ]
  },
  {
   "cell_type": "code",
   "execution_count": null,
   "id": "9d15203e-676f-4667-9388-a8575f1eec00",
   "metadata": {
    "editable": true,
    "slideshow": {
     "slide_type": ""
    },
    "tags": []
   },
   "outputs": [],
   "source": []
  }
 ],
 "metadata": {
  "kernelspec": {
   "display_name": "Python 3 (ipykernel)",
   "language": "python",
   "name": "python3"
  },
  "language_info": {
   "codemirror_mode": {
    "name": "ipython",
    "version": 3
   },
   "file_extension": ".py",
   "mimetype": "text/x-python",
   "name": "python",
   "nbconvert_exporter": "python",
   "pygments_lexer": "ipython3",
   "version": "3.9.18"
  }
 },
 "nbformat": 4,
 "nbformat_minor": 5
}
