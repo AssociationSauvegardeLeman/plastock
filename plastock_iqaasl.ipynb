{
 "cells": [
  {
   "cell_type": "code",
   "execution_count": 1,
   "id": "117b743e-ebf6-411b-a322-bdb052247f93",
   "metadata": {
    "jupyter": {
     "source_hidden": true
    },
    "tags": [
     "hide-input"
    ]
   },
   "outputs": [],
   "source": [
    "import json\n",
    "import datetime as dt\n",
    "from datetime import date, datetime, time\n",
    "from babel.dates import format_date, format_datetime, format_time, get_month_names\n",
    "import locale\n",
    "import slugify\n",
    "\n",
    "# math packages:\n",
    "import pandas as pd\n",
    "import numpy as np\n",
    "from math import pi\n",
    "\n",
    "# charting:\n",
    "import matplotlib.pyplot as plt\n",
    "import matplotlib.dates as mdates\n",
    "from matplotlib import ticker\n",
    "from matplotlib.ticker import MultipleLocator\n",
    "import seaborn as sns\n",
    "\n",
    "# images and display\n",
    "from IPython.display import Markdown as md\n",
    "from IPython import display\n",
    "\n",
    "\n",
    "header_row = {'selector': 'th:nth-child(1)', 'props': f'background-color: #FFF;'}\n",
    "even_rows = {\"selector\": 'tr:nth-child(even)', 'props': f'background-color: rgba(139, 69, 19, 0.08);'}\n",
    "odd_rows = {'selector': 'tr:nth-child(odd)', 'props': 'background: #FFF;'}\n",
    "table_font = {'selector': 'tr', 'props': 'font-size: 12px;'}\n",
    "table_css_styles = [even_rows, odd_rows, table_font, header_row]"
   ]
  },
  {
   "cell_type": "markdown",
   "id": "80e62e42-fd31-42c6-8a1d-97ef1ad4adde",
   "metadata": {},
   "source": [
    "## Plastock - Iqaasl"
   ]
  },
  {
   "cell_type": "markdown",
   "id": "58e7f497-9eee-4ba0-b006-fd6119704b1b",
   "metadata": {},
   "source": [
    "### Comparaison de la taille des lieux d'échantillonnage"
   ]
  },
  {
   "cell_type": "markdown",
   "id": "47889a93-19f6-45fd-bf9f-7de954e82224",
   "metadata": {},
   "source": [
    "### Mètres carrés"
   ]
  },
  {
   "cell_type": "code",
   "execution_count": 2,
   "id": "762c8c1b-2129-4579-98f6-49713c56ec1d",
   "metadata": {
    "jupyter": {
     "source_hidden": true
    },
    "tags": [
     "hide-input"
    ]
   },
   "outputs": [],
   "source": [
    "# plastock data\n",
    "plastock = pd.read_csv(\"data/20230314macro.csv\", sep=\";\", encoding=\"ISO-8859-3\")\n",
    "p_beaches = pd.read_csv(\"data/asl_beaches2.csv\")\n",
    "# iqaasl data\n",
    "iq_dims = pd.read_csv(\"data/corrected_dims.csv\")\n",
    "iqaasl = pd.read_csv(\"data/lac_leman_iqaasl.csv\")\n",
    "\n",
    "# plastock survey data of interest\n",
    "pstck_cols = ['Lieu', 'Aire','Position', 'Date', 'Code', 'Quantité']\n",
    "pstck_rename = {\"Lieu\":\"location\", \"Aire\":\"area\", \"Date\":\"date\", \"Code\":\"code\", \"Quantité\":\"quantity\", \"Position\":\"position\"}\n",
    "pstck =  plastock[pstck_cols]\n",
    "pstck = pstck.rename(columns=pstck_rename)\n",
    "\n",
    "# the surveys were separated into two zones for plastock\n",
    "# we want to compare the total of the surveys, so the zones at each\n",
    "# location and survey need to be combined\n",
    "pstck_q = pstck.groupby([\"location\", \"date\", \"code\"], as_index=False).quantity.sum()\n",
    "\n",
    "# the length of the survey is not included in the plastock survey data\n",
    "# it needs to be attached to the survey reults, this information is available\n",
    "# in the beaches file\n",
    "pbl = p_beaches[[\"location\", \"length\"]].drop_duplicates([\"location\", \"length\"]).set_index(\"location\")\n",
    "\n",
    "# the dimensional data was taken once per survey\n",
    "# remove the duplicate values by date and location\n",
    "pstck_ndup = pstck.drop_duplicates([\"location\", \"date\",\"area\"])\n",
    "# combine the areas by date and location\n",
    "pstck_ta = pstck_ndup.groupby([\"location\", \"date\"]).area.sum()\n",
    "pstck = pstck_q.merge(pstck_ta, on=[\"location\", \"date\"])\n",
    "\n",
    "# the location names in asl_beaches does not match the names in 20230314macro.csv\n",
    "# the names in the asl_beaches file were changed previously\n",
    "# they need to be changed back to match the new survey data\n",
    "p_names = sorted(p_beaches.location.unique())\n",
    "pstock_names = sorted(plastock.Lieu.unique())\n",
    "\n",
    "# the differences are capitalizations and hyphenations\n",
    "renames = {x: p_names[i] for i, x in enumerate(pstock_names)}\n",
    "pstck[\"location\"] = pstck.location.apply(lambda x: renames[x])\n",
    "\n",
    "# add the length\n",
    "pstck[\"length\"] = pstck.location.apply(lambda x: pbl.loc[x].length)\n",
    "pstck[\"project\"] = \"plastock\"\n",
    "pstck[\"date\"] = pd.to_datetime(pstck[\"date\"], format=\"%d.%m.%Y\")\n",
    "\n",
    "pstck[\"doy\"] = pstck[\"date\"].dt.dayofyear\n",
    "pstck[\"date\"] = pstck[\"date\"].dt.date\n",
    "\n",
    "# the columns of interest\n",
    "survey_columns = [\n",
    "    \"location\",\n",
    "    \"date\",\n",
    "    \"code\",\n",
    "    \"length\",\n",
    "    \"area\",\n",
    "    \"quantity\",\n",
    "    \"project\",\n",
    "    \"doy\"\n",
    "]\n",
    "\n",
    "pstck = pstck[survey_columns]\n",
    "# there are aggregations that need to be made to the plastock data. The fragemented foams\n",
    "# and fragmented plastics are consolidated into one group of codes. The plastic caps are consolidated\n",
    "# as per the intend of the ASL and the recomendation from the IQAASL report.    \n",
    "gfoam = [\"G81\", \"G82\", \"G83\"]\n",
    "plasticpcs = [ \"G78\", \"G79\", \"G80\", \"G75\", \"G76\", \"G77\"]\n",
    "Gcaps = [ \"G21\", \"G23\", \"G24\" ]\n",
    "\n",
    "# the columns that are being kept and the operations per column          \n",
    "columns = ['location', 'date',  'area', 'length','project', \"doy\"]\n",
    "operations = {\"quantity\":\"sum\"}\n",
    "\n",
    "# separate the codes of interest by group from the data frame and add the replacement value\n",
    "pstck_gfrags = pstck[pstck.code.isin(plasticpcs)].groupby(columns, as_index=False).agg(operations)\n",
    "pstck_gfoam = pstck[pstck.code.isin(gfoam)].groupby(columns, as_index=False).agg(operations)\n",
    "pstck_gcaps = pstck[pstck.code.isin(Gcaps)].groupby(columns, as_index=False).agg(operations)\n",
    "\n",
    "pstck_gcaps[\"code\"] = \"Gcaps\"\n",
    "pstck_gfoam[\"code\"] = \"Gfoam\"\n",
    "pstck_gfrags[\"code\"] = \"Gfrags\"\n",
    "\n",
    "# remove the same instances from the work data                                                               \n",
    "pstck_no_frags = pstck[~pstck.code.isin([*plasticpcs, *gfoam, *Gcaps])].copy()\n",
    "\n",
    "# formatted plastock data\n",
    "pstck = pd.concat([pstck_no_frags, pstck_gfrags, pstck_gfoam, pstck_gcaps])\n",
    "\n",
    "# zero is not accounted for in the plastock data\n",
    "# this is essential for computing the median and average\n",
    "# values. The fail rate can not be calculated with out it\n",
    "# 1. collect all the codes that were identified in plastock\n",
    "codes = pstck.code.unique()\n",
    "\n",
    "# 2 make a dataframe of all possible codes and give them a\n",
    "# quantity of zero\n",
    "code_zero = pd.DataFrame({\"code\":codes})\n",
    "code_zero[\"quantity\"] = 0\n",
    "\n",
    "# 3. collect all the unique date and location pairs\n",
    "dates = pstck[['date', 'location']].drop_duplicates()\n",
    "\n",
    "def add_zeroes(data, dates, code_zero):\n",
    "    \n",
    "    some_zeroes = []\n",
    "    for apair in dates.values:\n",
    "        # collect the results from one survey\n",
    "        d = data[(data.location == apair[1])&(data[\"date\"] == apair[0])]\n",
    "        # collect the codes that were identified in the current survey\n",
    "        codes_with_vals = d.code.unique()\n",
    "        # identify the codes that were not identified\n",
    "        codes_with_no_vals = [x for x in code_zero.code.unique() if x not in codes_with_vals]\n",
    "        # collect the area and length for the current survey\n",
    "        area_length = d[[\"area\", \"length\"]].drop_duplicates([\"area\", \"length\"]).reset_index()\n",
    "        # add the area, length, location, date and project to\n",
    "        # to the dataframe of codes and zeroes\n",
    "        code_zero[\"area\"] = area_length.loc[0, \"area\"]\n",
    "        code_zero[\"length\"] = area_length.loc[0, \"length\"]\n",
    "        code_zero[\"date\"] = apair[0]\n",
    "        code_zero[\"location\"] = apair[1]\n",
    "        code_zero[\"project\"] = \"plastock\"\n",
    "        # keep only the codes that were not indentified in the survey\n",
    "        test_no_vals = code_zero[code_zero.code.isin(codes_with_no_vals)]\n",
    "        # add the resulting df to the list\n",
    "        some_zeroes.append(test_no_vals)\n",
    "    return some_zeroes\n",
    "\n",
    "# collect the zero values\n",
    "zeroes =  add_zeroes(pstck, dates, code_zero)\n",
    "# add them to the existing survey results\n",
    "pstk = pd.concat([pstck, *zeroes], axis=0)\n",
    "\n",
    "# IQAASL data\n",
    "# only locations on lac leman\n",
    "iq_locations = iqaasl.location.unique()\n",
    "iq_d = iq_dims[iq_dims.location.isin(iq_locations)]\n",
    "\n",
    "# there are three surveys that do not have length or area data:\n",
    "# two at quai-maria-belgia and one at baby-plage-geneva\n",
    "# the average value of the preceeding surveys will be used\n",
    "qmb = iq_d[(iq_d.location == \"quai-maria-belgia\") & (iq_d.area > 0)].agg({\"length\":\"mean\", \"area\":\"mean\"})\n",
    "bp = iq_d[(iq_d.location == \"baby-plage-geneva\") & (iq_d.area > 0)].agg({\"length\":\"mean\", \"area\":\"mean\"})\n",
    "\n",
    "# separate the surveys with no dimensional data\n",
    "qmb_0 = iq_d[(iq_d.location == \"quai-maria-belgia\") & (iq_d.area == 0)]\n",
    "bp_0 = iq_d[(iq_d.location == \"baby-plage-geneva\") & (iq_d.area == 0)]\n",
    "\n",
    "# add the derived values\n",
    "qmb_0.loc[:, \"area\"] = qmb.area\n",
    "qmb_0.loc[:, \"length\"] = qmb.length\n",
    "bp_0.loc[:, \"area\"] = bp.area\n",
    "bp_0.loc[:, \"length\"] = bp.length\n",
    "\n",
    "# merge the corrections with the original data\n",
    "# minus the records with no diemensional data\n",
    "iqd = iq_d[(iq_d.area > 0)]\n",
    "iqd = pd.concat([iqd, qmb_0, bp_0], axis=0)\n",
    "iqd_la = iqd[[\"loc_date\", \"area\"]].set_index(\"loc_date\")\n",
    "\n",
    "iqaasl[\"project\"] = \"iqaasl\"\n",
    "iqaasl[\"area\"] = iqaasl.loc_date.apply(lambda x: iqd_la.loc[x].area)\n",
    "iqa = iqaasl.copy()\n",
    "iqa[\"date\"] = pd.to_datetime(iqa[\"date\"])\n",
    "iqa[\"doy\"] = iqa[\"date\"].dt.dayofyear\n",
    "iqa[\"date\"] = iqa[\"date\"].dt.date\n",
    "iqa = iqa[survey_columns].copy()\n",
    "iqa = iqa[iqa.code.isin(codes)]\n",
    "\n",
    "# make gcaps, gfrags and foams are ready made\n",
    "iqaasl_not_caps = iqa[~iqa.code.isin(Gcaps)].copy()\n",
    "iqaasl_caps = iqa[iqa.code.isin(Gcaps)].groupby(columns, as_index=False).quantity.sum()\n",
    "iqaasl_caps[\"code\"] = \"Gcaps\"\n",
    "\n",
    "# formatted iqaasl data\n",
    "iqa = pd.concat([iqaasl_caps, iqaasl_not_caps])\n",
    "combined = pd.concat([iqa,pstk], axis=0).reset_index(drop=True)\n",
    "combined[\"loc_date\"] = list(zip(combined.location, combined[\"date\"]))\n",
    "combined[\"pcs/m\"] = combined[\"quantity\"]/combined[\"length\"]\n",
    "combined[\"pcs/m²\"] = combined[\"quantity\"]/combined[\"area\"]\n",
    "\n",
    "combined_dt = combined.groupby([\"loc_date\", \"location\", \"date\", \"doy\", \"project\", \"area\", \"length\"], as_index=False).agg({\"pcs/m\":\"sum\", \"pcs/m²\":\"sum\"})\n"
   ]
  },
  {
   "cell_type": "code",
   "execution_count": 4,
   "id": "234071fd-3f0a-4886-b974-e8b9a38431a8",
   "metadata": {
    "jupyter": {
     "source_hidden": true
    },
    "tags": [
     "hide-input"
    ]
   },
   "outputs": [
    {
     "data": {
      "text/html": [
       "<style type=\"text/css\">\n",
       "#T_08f9d tr:nth-child(even) {\n",
       "  background-color: rgba(139, 69, 19, 0.08);\n",
       "}\n",
       "#T_08f9d tr:nth-child(odd) {\n",
       "  background: #FFF;\n",
       "}\n",
       "#T_08f9d tr {\n",
       "  font-size: 12px;\n",
       "}\n",
       "#T_08f9d th:nth-child(1) {\n",
       "  background-color: #FFF;\n",
       "}\n",
       "</style>\n",
       "<table id=\"T_08f9d\">\n",
       "  <thead>\n",
       "    <tr>\n",
       "      <th class=\"blank level0\" >&nbsp;</th>\n",
       "      <th id=\"T_08f9d_level0_col0\" class=\"col_heading level0 col0\" >count</th>\n",
       "      <th id=\"T_08f9d_level0_col1\" class=\"col_heading level0 col1\" >mean</th>\n",
       "      <th id=\"T_08f9d_level0_col2\" class=\"col_heading level0 col2\" >std</th>\n",
       "      <th id=\"T_08f9d_level0_col3\" class=\"col_heading level0 col3\" >min</th>\n",
       "      <th id=\"T_08f9d_level0_col4\" class=\"col_heading level0 col4\" >25%</th>\n",
       "      <th id=\"T_08f9d_level0_col5\" class=\"col_heading level0 col5\" >50%</th>\n",
       "      <th id=\"T_08f9d_level0_col6\" class=\"col_heading level0 col6\" >75%</th>\n",
       "      <th id=\"T_08f9d_level0_col7\" class=\"col_heading level0 col7\" >max</th>\n",
       "    </tr>\n",
       "  </thead>\n",
       "  <tbody>\n",
       "    <tr>\n",
       "      <th id=\"T_08f9d_level0_row0\" class=\"row_heading level0 row0\" >iqaasl</th>\n",
       "      <td id=\"T_08f9d_row0_col0\" class=\"data row0 col0\" >98.00</td>\n",
       "      <td id=\"T_08f9d_row0_col1\" class=\"data row0 col1\" >209.44</td>\n",
       "      <td id=\"T_08f9d_row0_col2\" class=\"data row0 col2\" >166.09</td>\n",
       "      <td id=\"T_08f9d_row0_col3\" class=\"data row0 col3\" >3.00</td>\n",
       "      <td id=\"T_08f9d_row0_col4\" class=\"data row0 col4\" >117.75</td>\n",
       "      <td id=\"T_08f9d_row0_col5\" class=\"data row0 col5\" >159.00</td>\n",
       "      <td id=\"T_08f9d_row0_col6\" class=\"data row0 col6\" >260.25</td>\n",
       "      <td id=\"T_08f9d_row0_col7\" class=\"data row0 col7\" >942.00</td>\n",
       "    </tr>\n",
       "    <tr>\n",
       "      <th id=\"T_08f9d_level0_row1\" class=\"row_heading level0 row1\" >plastock</th>\n",
       "      <td id=\"T_08f9d_row1_col0\" class=\"data row1 col0\" >95.00</td>\n",
       "      <td id=\"T_08f9d_row1_col1\" class=\"data row1 col1\" >430.13</td>\n",
       "      <td id=\"T_08f9d_row1_col2\" class=\"data row1 col2\" >409.10</td>\n",
       "      <td id=\"T_08f9d_row1_col3\" class=\"data row1 col3\" >16.00</td>\n",
       "      <td id=\"T_08f9d_row1_col4\" class=\"data row1 col4\" >231.00</td>\n",
       "      <td id=\"T_08f9d_row1_col5\" class=\"data row1 col5\" >340.00</td>\n",
       "      <td id=\"T_08f9d_row1_col6\" class=\"data row1 col6\" >496.00</td>\n",
       "      <td id=\"T_08f9d_row1_col7\" class=\"data row1 col7\" >1978.00</td>\n",
       "    </tr>\n",
       "  </tbody>\n",
       "</table>\n"
      ],
      "text/plain": [
       "<pandas.io.formats.style.Styler at 0x7fc89914ab80>"
      ]
     },
     "execution_count": 4,
     "metadata": {},
     "output_type": "execute_result"
    }
   ],
   "source": [
    "table_one = combined_dt.groupby(\"project\")[\"area\"].describe()\n",
    "table_one.index.name = None\n",
    "table_one.style.format(precision=2).set_table_styles(table_css_styles)"
   ]
  },
  {
   "cell_type": "markdown",
   "id": "755aac40-4b8b-43a3-9a5c-d19c9fac1f92",
   "metadata": {},
   "source": [
    "### Mètres linéaires"
   ]
  },
  {
   "cell_type": "code",
   "execution_count": 5,
   "id": "eb162701-f198-443f-8c3c-50e14e5a50e5",
   "metadata": {
    "jupyter": {
     "source_hidden": true
    },
    "tags": [
     "hide-input"
    ]
   },
   "outputs": [
    {
     "data": {
      "text/html": [
       "<style type=\"text/css\">\n",
       "#T_5788f tr:nth-child(even) {\n",
       "  background-color: rgba(139, 69, 19, 0.08);\n",
       "}\n",
       "#T_5788f tr:nth-child(odd) {\n",
       "  background: #FFF;\n",
       "}\n",
       "#T_5788f tr {\n",
       "  font-size: 12px;\n",
       "}\n",
       "#T_5788f th:nth-child(1) {\n",
       "  background-color: #FFF;\n",
       "}\n",
       "</style>\n",
       "<table id=\"T_5788f\">\n",
       "  <thead>\n",
       "    <tr>\n",
       "      <th class=\"blank level0\" >&nbsp;</th>\n",
       "      <th id=\"T_5788f_level0_col0\" class=\"col_heading level0 col0\" >count</th>\n",
       "      <th id=\"T_5788f_level0_col1\" class=\"col_heading level0 col1\" >mean</th>\n",
       "      <th id=\"T_5788f_level0_col2\" class=\"col_heading level0 col2\" >std</th>\n",
       "      <th id=\"T_5788f_level0_col3\" class=\"col_heading level0 col3\" >min</th>\n",
       "      <th id=\"T_5788f_level0_col4\" class=\"col_heading level0 col4\" >25%</th>\n",
       "      <th id=\"T_5788f_level0_col5\" class=\"col_heading level0 col5\" >50%</th>\n",
       "      <th id=\"T_5788f_level0_col6\" class=\"col_heading level0 col6\" >75%</th>\n",
       "      <th id=\"T_5788f_level0_col7\" class=\"col_heading level0 col7\" >max</th>\n",
       "    </tr>\n",
       "  </thead>\n",
       "  <tbody>\n",
       "    <tr>\n",
       "      <th id=\"T_5788f_level0_row0\" class=\"row_heading level0 row0\" >iqaasl</th>\n",
       "      <td id=\"T_5788f_row0_col0\" class=\"data row0 col0\" >98.00</td>\n",
       "      <td id=\"T_5788f_row0_col1\" class=\"data row0 col1\" >48.05</td>\n",
       "      <td id=\"T_5788f_row0_col2\" class=\"data row0 col2\" >27.86</td>\n",
       "      <td id=\"T_5788f_row0_col3\" class=\"data row0 col3\" >5.00</td>\n",
       "      <td id=\"T_5788f_row0_col4\" class=\"data row0 col4\" >29.25</td>\n",
       "      <td id=\"T_5788f_row0_col5\" class=\"data row0 col5\" >43.63</td>\n",
       "      <td id=\"T_5788f_row0_col6\" class=\"data row0 col6\" >56.00</td>\n",
       "      <td id=\"T_5788f_row0_col7\" class=\"data row0 col7\" >157.00</td>\n",
       "    </tr>\n",
       "    <tr>\n",
       "      <th id=\"T_5788f_level0_row1\" class=\"row_heading level0 row1\" >plastock</th>\n",
       "      <td id=\"T_5788f_row1_col0\" class=\"data row1 col0\" >95.00</td>\n",
       "      <td id=\"T_5788f_row1_col1\" class=\"data row1 col1\" >69.17</td>\n",
       "      <td id=\"T_5788f_row1_col2\" class=\"data row1 col2\" >32.03</td>\n",
       "      <td id=\"T_5788f_row1_col3\" class=\"data row1 col3\" >18.00</td>\n",
       "      <td id=\"T_5788f_row1_col4\" class=\"data row1 col4\" >45.00</td>\n",
       "      <td id=\"T_5788f_row1_col5\" class=\"data row1 col5\" >66.00</td>\n",
       "      <td id=\"T_5788f_row1_col6\" class=\"data row1 col6\" >91.00</td>\n",
       "      <td id=\"T_5788f_row1_col7\" class=\"data row1 col7\" >125.00</td>\n",
       "    </tr>\n",
       "  </tbody>\n",
       "</table>\n"
      ],
      "text/plain": [
       "<pandas.io.formats.style.Styler at 0x7fc89915eb50>"
      ]
     },
     "execution_count": 5,
     "metadata": {},
     "output_type": "execute_result"
    }
   ],
   "source": [
    "table_two = combined_dt.groupby(\"project\")[\"length\"].describe()\n",
    "table_two.index.name = None\n",
    "table_two.style.format(precision=2).set_table_styles(table_css_styles)"
   ]
  },
  {
   "cell_type": "markdown",
   "id": "58a49256-0775-4d34-8605-be15ed1e90d2",
   "metadata": {},
   "source": [
    "## Comparaison des résultats:\n",
    "\n",
    "Comparaison des résultats des deux projets : distribution des résultats de l'échantillon en pièces par mètre et en pièces par mètre au carré.\n",
    "\n",
    "Seuls les objets identifiés dans PLASTOCK ont été pris en compte\n",
    "\n",
    "\n",
    "### Pièces par mètre carré"
   ]
  },
  {
   "cell_type": "code",
   "execution_count": 6,
   "id": "0e76b0bb-e193-462d-a89b-29768f90565f",
   "metadata": {
    "jupyter": {
     "source_hidden": true
    },
    "tags": [
     "hide-input"
    ]
   },
   "outputs": [
    {
     "data": {
      "text/html": [
       "<style type=\"text/css\">\n",
       "#T_8b301 tr:nth-child(even) {\n",
       "  background-color: rgba(139, 69, 19, 0.08);\n",
       "}\n",
       "#T_8b301 tr:nth-child(odd) {\n",
       "  background: #FFF;\n",
       "}\n",
       "#T_8b301 tr {\n",
       "  font-size: 12px;\n",
       "}\n",
       "#T_8b301 th:nth-child(1) {\n",
       "  background-color: #FFF;\n",
       "}\n",
       "</style>\n",
       "<table id=\"T_8b301\">\n",
       "  <thead>\n",
       "    <tr>\n",
       "      <th class=\"blank level0\" >&nbsp;</th>\n",
       "      <th id=\"T_8b301_level0_col0\" class=\"col_heading level0 col0\" >count</th>\n",
       "      <th id=\"T_8b301_level0_col1\" class=\"col_heading level0 col1\" >mean</th>\n",
       "      <th id=\"T_8b301_level0_col2\" class=\"col_heading level0 col2\" >std</th>\n",
       "      <th id=\"T_8b301_level0_col3\" class=\"col_heading level0 col3\" >min</th>\n",
       "      <th id=\"T_8b301_level0_col4\" class=\"col_heading level0 col4\" >25%</th>\n",
       "      <th id=\"T_8b301_level0_col5\" class=\"col_heading level0 col5\" >50%</th>\n",
       "      <th id=\"T_8b301_level0_col6\" class=\"col_heading level0 col6\" >75%</th>\n",
       "      <th id=\"T_8b301_level0_col7\" class=\"col_heading level0 col7\" >max</th>\n",
       "    </tr>\n",
       "  </thead>\n",
       "  <tbody>\n",
       "    <tr>\n",
       "      <th id=\"T_8b301_level0_row0\" class=\"row_heading level0 row0\" >iqaasl</th>\n",
       "      <td id=\"T_8b301_row0_col0\" class=\"data row0 col0\" >98.00</td>\n",
       "      <td id=\"T_8b301_row0_col1\" class=\"data row0 col1\" >2.27</td>\n",
       "      <td id=\"T_8b301_row0_col2\" class=\"data row0 col2\" >4.25</td>\n",
       "      <td id=\"T_8b301_row0_col3\" class=\"data row0 col3\" >0.03</td>\n",
       "      <td id=\"T_8b301_row0_col4\" class=\"data row0 col4\" >0.43</td>\n",
       "      <td id=\"T_8b301_row0_col5\" class=\"data row0 col5\" >0.98</td>\n",
       "      <td id=\"T_8b301_row0_col6\" class=\"data row0 col6\" >2.16</td>\n",
       "      <td id=\"T_8b301_row0_col7\" class=\"data row0 col7\" >32.33</td>\n",
       "    </tr>\n",
       "    <tr>\n",
       "      <th id=\"T_8b301_level0_row1\" class=\"row_heading level0 row1\" >plastock</th>\n",
       "      <td id=\"T_8b301_row1_col0\" class=\"data row1 col0\" >95.00</td>\n",
       "      <td id=\"T_8b301_row1_col1\" class=\"data row1 col1\" >0.69</td>\n",
       "      <td id=\"T_8b301_row1_col2\" class=\"data row1 col2\" >0.67</td>\n",
       "      <td id=\"T_8b301_row1_col3\" class=\"data row1 col3\" >0.03</td>\n",
       "      <td id=\"T_8b301_row1_col4\" class=\"data row1 col4\" >0.20</td>\n",
       "      <td id=\"T_8b301_row1_col5\" class=\"data row1 col5\" >0.52</td>\n",
       "      <td id=\"T_8b301_row1_col6\" class=\"data row1 col6\" >0.88</td>\n",
       "      <td id=\"T_8b301_row1_col7\" class=\"data row1 col7\" >3.64</td>\n",
       "    </tr>\n",
       "  </tbody>\n",
       "</table>\n"
      ],
      "text/plain": [
       "<pandas.io.formats.style.Styler at 0x7fc89914a5e0>"
      ]
     },
     "execution_count": 6,
     "metadata": {},
     "output_type": "execute_result"
    }
   ],
   "source": [
    "table_three = combined_dt.groupby(\"project\")[\"pcs/m²\"].describe()\n",
    "table_three.index.name = None\n",
    "table_three.style.format(precision=2).set_table_styles(table_css_styles)"
   ]
  },
  {
   "cell_type": "markdown",
   "id": "5aa86b76-fe7d-453d-911c-5c7203ccfd02",
   "metadata": {},
   "source": [
    "### Pièces par mètre linéaire"
   ]
  },
  {
   "cell_type": "code",
   "execution_count": 7,
   "id": "1b6ba983-b6ad-4fc0-ba5a-7eea424e96f8",
   "metadata": {
    "jupyter": {
     "source_hidden": true
    },
    "tags": [
     "hide-input"
    ]
   },
   "outputs": [
    {
     "data": {
      "text/html": [
       "<style type=\"text/css\">\n",
       "#T_617fa tr:nth-child(even) {\n",
       "  background-color: rgba(139, 69, 19, 0.08);\n",
       "}\n",
       "#T_617fa tr:nth-child(odd) {\n",
       "  background: #FFF;\n",
       "}\n",
       "#T_617fa tr {\n",
       "  font-size: 12px;\n",
       "}\n",
       "#T_617fa th:nth-child(1) {\n",
       "  background-color: #FFF;\n",
       "}\n",
       "</style>\n",
       "<table id=\"T_617fa\">\n",
       "  <thead>\n",
       "    <tr>\n",
       "      <th class=\"blank level0\" >&nbsp;</th>\n",
       "      <th id=\"T_617fa_level0_col0\" class=\"col_heading level0 col0\" >count</th>\n",
       "      <th id=\"T_617fa_level0_col1\" class=\"col_heading level0 col1\" >mean</th>\n",
       "      <th id=\"T_617fa_level0_col2\" class=\"col_heading level0 col2\" >std</th>\n",
       "      <th id=\"T_617fa_level0_col3\" class=\"col_heading level0 col3\" >min</th>\n",
       "      <th id=\"T_617fa_level0_col4\" class=\"col_heading level0 col4\" >25%</th>\n",
       "      <th id=\"T_617fa_level0_col5\" class=\"col_heading level0 col5\" >50%</th>\n",
       "      <th id=\"T_617fa_level0_col6\" class=\"col_heading level0 col6\" >75%</th>\n",
       "      <th id=\"T_617fa_level0_col7\" class=\"col_heading level0 col7\" >max</th>\n",
       "    </tr>\n",
       "  </thead>\n",
       "  <tbody>\n",
       "    <tr>\n",
       "      <th id=\"T_617fa_level0_row0\" class=\"row_heading level0 row0\" >iqaasl</th>\n",
       "      <td id=\"T_617fa_row0_col0\" class=\"data row0 col0\" >98.00</td>\n",
       "      <td id=\"T_617fa_row0_col1\" class=\"data row0 col1\" >7.29</td>\n",
       "      <td id=\"T_617fa_row0_col2\" class=\"data row0 col2\" >10.45</td>\n",
       "      <td id=\"T_617fa_row0_col3\" class=\"data row0 col3\" >0.16</td>\n",
       "      <td id=\"T_617fa_row0_col4\" class=\"data row0 col4\" >1.76</td>\n",
       "      <td id=\"T_617fa_row0_col5\" class=\"data row0 col5\" >3.73</td>\n",
       "      <td id=\"T_617fa_row0_col6\" class=\"data row0 col6\" >7.79</td>\n",
       "      <td id=\"T_617fa_row0_col7\" class=\"data row0 col7\" >58.50</td>\n",
       "    </tr>\n",
       "    <tr>\n",
       "      <th id=\"T_617fa_level0_row1\" class=\"row_heading level0 row1\" >plastock</th>\n",
       "      <td id=\"T_617fa_row1_col0\" class=\"data row1 col0\" >95.00</td>\n",
       "      <td id=\"T_617fa_row1_col1\" class=\"data row1 col1\" >3.61</td>\n",
       "      <td id=\"T_617fa_row1_col2\" class=\"data row1 col2\" >3.73</td>\n",
       "      <td id=\"T_617fa_row1_col3\" class=\"data row1 col3\" >0.10</td>\n",
       "      <td id=\"T_617fa_row1_col4\" class=\"data row1 col4\" >0.79</td>\n",
       "      <td id=\"T_617fa_row1_col5\" class=\"data row1 col5\" >2.48</td>\n",
       "      <td id=\"T_617fa_row1_col6\" class=\"data row1 col6\" >4.83</td>\n",
       "      <td id=\"T_617fa_row1_col7\" class=\"data row1 col7\" >18.68</td>\n",
       "    </tr>\n",
       "  </tbody>\n",
       "</table>\n"
      ],
      "text/plain": [
       "<pandas.io.formats.style.Styler at 0x7fc89914a640>"
      ]
     },
     "execution_count": 7,
     "metadata": {},
     "output_type": "execute_result"
    }
   ],
   "source": [
    "table_four = combined_dt.groupby(\"project\")[\"pcs/m\"].describe()\n",
    "table_four.index.name = None\n",
    "table_four.style.format(precision=2).set_table_styles(table_css_styles)"
   ]
  },
  {
   "cell_type": "code",
   "execution_count": 8,
   "id": "b4a3fddb-afc7-46a2-8aad-52844fcceb0b",
   "metadata": {
    "jupyter": {
     "source_hidden": true
    },
    "tags": [
     "remove-input"
    ]
   },
   "outputs": [
    {
     "data": {
      "image/png": "[encoded data removed]",
      "text/plain": [
       "<Figure size 800x700 with 4 Axes>"
      ]
     },
     "metadata": {},
     "output_type": "display_data"
    }
   ],
   "source": [
    "fig, ax = plt.subplots(2,2, figsize=(8, 7))\n",
    "palette= {\"iqaasl\":\"dodgerblue\", \"plastock\":\"magenta\"}\n",
    "\n",
    "sns.scatterplot(data=combined_dt, x=\"doy\", y=\"pcs/m\", ax=ax[0,0], hue=\"project\", palette=palette)\n",
    "sns.scatterplot(data=combined_dt, x=\"doy\", y=\"pcs/m²\", ax=ax[0,1], hue=\"project\", palette=palette)\n",
    "sns.boxplot(data=combined_dt, x='project', y=\"pcs/m\", ax=ax[1,0], hue=\"project\", palette=palette, showfliers=False, dodge=False)\n",
    "sns.boxplot(data=combined_dt, x='project', y=\"pcs/m²\", ax=ax[1,1], hue=\"project\", palette=palette, showfliers=False, dodge=False)\n",
    "\n",
    "ax[0,0].set_title(\"Mètre linéaire\", fontsize=12, loc=\"left\")\n",
    "ax[0,1].set_title(\"Mètre carré\", fontsize=12, loc=\"left\")\n",
    "ax[0,0].set_xlabel(\"Jour de l'année\", fontsize=12)\n",
    "ax[0,1].set_xlabel(\"Jour de l'année\", fontsize=12)\n",
    "ax[1,0].set_xlabel(\"\")\n",
    "ax[1,1].set_xlabel(\"\")\n",
    "for anax in [ax[0,0], ax[1,0], ax[1,1]]:\n",
    "    anax.get_legend().remove()\n",
    "\n",
    "plt.tight_layout()\n",
    "plt.show()"
   ]
  },
  {
   "cell_type": "code",
   "execution_count": 9,
   "id": "6dcd251c-baa1-4667-a102-58c87aa17478",
   "metadata": {
    "jupyter": {
     "source_hidden": true
    },
    "tags": [
     "remove-input"
    ]
   },
   "outputs": [
    {
     "data": {
      "image/png": "[encoded data removed]",
      "text/plain": [
       "<Figure size 800x700 with 4 Axes>"
      ]
     },
     "metadata": {},
     "output_type": "display_data"
    }
   ],
   "source": [
    "fig, ax = plt.subplots(2, 2, figsize=(8, 7), sharex=False, sharey=False)\n",
    "\n",
    "ax[0,0] = sns.ecdfplot(data=combined_dt, x=\"pcs/m\", hue=\"project\", palette=palette, ax=ax[0,0])\n",
    "ax[1,0] = sns.histplot(data=combined_dt, x=\"pcs/m\", hue=\"project\", palette=palette, stat=\"probability\", multiple=\"stack\", ax=ax[1,0])\n",
    "ax[0,1] = sns.ecdfplot(data=combined_dt, x=\"pcs/m²\", hue=\"project\", palette=palette, ax=ax[0,1])\n",
    "ax[1,1] = sns.histplot(data=combined_dt, x=\"pcs/m²\", hue=\"project\", palette=palette, stat=\"probability\", multiple=\"stack\", ax=ax[1,1])\n",
    "\n",
    "ax[0,0].set_title(\"fonction de répartition, pcs/m\", loc=\"left\")\n",
    "ax[1,0].set_title(\"histogramme, pcs/m\", loc=\"left\")\n",
    "\n",
    "ax[0,1].set_title(\"fonction de répartition, pcs/m²\", loc=\"left\")\n",
    "ax[1,1].set_title(\"histogramme, pcs/m²\", loc=\"left\")\n",
    "\n",
    "ax[1,0].get_legend().remove()\n",
    "plt.tight_layout()\n",
    "\n",
    "plt.show()"
   ]
  },
  {
   "cell_type": "code",
   "execution_count": 10,
   "id": "293f0e7b-aa33-4e65-8f9a-ef37f26bc1b6",
   "metadata": {
    "jupyter": {
     "source_hidden": true
    },
    "tags": [
     "remove-input"
    ]
   },
   "outputs": [
    {
     "data": {
      "image/png": "[encoded data removed]",
      "text/plain": [
       "<Figure size 800x700 with 4 Axes>"
      ]
     },
     "metadata": {},
     "output_type": "display_data"
    }
   ],
   "source": [
    "\n",
    "mask = (combined_dt.doy >=  0) & (combined_dt.doy <= 50)\n",
    "q1 = combined_dt[mask]\n",
    "\n",
    "mask_notin_pstock = (combined_dt.doy >50) & (combined_dt.doy < 100)\n",
    "not_inpstck = combined_dt[mask_notin_pstock]\n",
    "\n",
    "mask2 = (combined_dt.doy >= 100) & (combined_dt.doy <= 150)\n",
    "q2 = combined_dt[mask2]\n",
    "\n",
    "mask3 = (combined_dt.doy >= 183) & (combined_dt.doy <= 257)\n",
    "q3 = combined_dt[mask3]\n",
    "\n",
    "mask4 = (combined_dt.doy > 257) & (combined_dt.doy <= 351)\n",
    "q4 = combined_dt[mask3]\n",
    "\n",
    "merged_qs = pd.concat([q1, q2, q3, q4, not_inpstck], axis=0)\n",
    "\n",
    "fig, ax = plt.subplots(2,2, figsize=(8, 7), sharex=True)\n",
    "palette= {\"iqaasl\":\"dodgerblue\", \"plastock\":\"magenta\"}\n",
    "\n",
    "sns.boxplot(data=q1, x=\"project\", y=\"pcs/m\", ax=ax[0,0], hue=\"project\", palette=palette, showfliers=False, dodge=False)\n",
    "sns.boxplot(data=q2, x=\"project\", y=\"pcs/m²\", ax=ax[0,1], hue=\"project\", palette=palette, showfliers=False, dodge=False)\n",
    "sns.boxplot(data=q3, x='project', y=\"pcs/m\", ax=ax[1,0], hue=\"project\", palette=palette, showfliers=False, dodge=False)\n",
    "sns.boxplot(data=q4, x='project', y=\"pcs/m²\", ax=ax[1,1], hue=\"project\", palette=palette, showfliers=False, dodge=False)\n",
    "\n",
    "ax[0,0].set_title(\"Jours 0 - 50\", fontsize=12, loc=\"left\")\n",
    "ax[0,1].set_title(\"Jours 100 - 150\", fontsize=12, loc=\"left\")\n",
    "ax[1,0].set_title(\"Jours 183 - 257\", fontsize=12, loc=\"left\")\n",
    "ax[1,1].set_title(\"Jours 258 - 351\", fontsize=12, loc=\"left\")\n",
    "for anax in [ax[0,1], ax[1,0], ax[1,1], ax[0,0]]:\n",
    "    anax.get_legend().remove()\n",
    "    anax.set_xlabel(\"\")\n",
    "    \n",
    "plt.tight_layout()\n",
    "plt.show()"
   ]
  },
  {
   "cell_type": "markdown",
   "id": "c0dd4bdd-c12b-4f36-b979-b8b2647f2e9e",
   "metadata": {},
   "source": [
    "### Jours d'échantillonnage par période de 12 mois"
   ]
  },
  {
   "cell_type": "code",
   "execution_count": 11,
   "id": "55e0a105-bf29-4ab5-b8bc-a6d99ad3cef5",
   "metadata": {
    "jupyter": {
     "source_hidden": true
    },
    "tags": [
     "remove-input"
    ]
   },
   "outputs": [
    {
     "name": "stdout",
     "output_type": "stream",
     "text": [
      "Plastock = 0.17, iqaasl =  0.22\n"
     ]
    }
   ],
   "source": [
    "cov_pstock = combined_dt[combined_dt.project == \"plastock\"].date.nunique()\n",
    "cov_iqaasl = combined_dt[combined_dt.project == \"iqaasl\"].date.nunique()\n",
    "\n",
    "print(f'Plastock = {round(cov_pstock/365, 2)}, iqaasl =  {round(cov_iqaasl/365, 2)}')"
   ]
  },
  {
   "cell_type": "code",
   "execution_count": 12,
   "id": "e10e3399-4e25-4bd4-a432-60691cdab5cc",
   "metadata": {},
   "outputs": [
    {
     "data": {
      "text/html": [
       "<div>\n",
       "<style scoped>\n",
       "    .dataframe tbody tr th:only-of-type {\n",
       "        vertical-align: middle;\n",
       "    }\n",
       "\n",
       "    .dataframe tbody tr th {\n",
       "        vertical-align: top;\n",
       "    }\n",
       "\n",
       "    .dataframe thead th {\n",
       "        text-align: right;\n",
       "    }\n",
       "</style>\n",
       "<table border=\"1\" class=\"dataframe\">\n",
       "  <thead>\n",
       "    <tr style=\"text-align: right;\">\n",
       "      <th></th>\n",
       "      <th>location</th>\n",
       "      <th>date</th>\n",
       "      <th>area</th>\n",
       "      <th>length</th>\n",
       "      <th>project</th>\n",
       "      <th>doy</th>\n",
       "      <th>quantity</th>\n",
       "      <th>code</th>\n",
       "      <th>loc_date</th>\n",
       "      <th>pcs/m</th>\n",
       "      <th>pcs/m²</th>\n",
       "    </tr>\n",
       "  </thead>\n",
       "  <tbody>\n",
       "    <tr>\n",
       "      <th>0</th>\n",
       "      <td>maladaire</td>\n",
       "      <td>2021-05-01</td>\n",
       "      <td>231.0</td>\n",
       "      <td>77.0</td>\n",
       "      <td>iqaasl</td>\n",
       "      <td>121.0</td>\n",
       "      <td>1</td>\n",
       "      <td>G35</td>\n",
       "      <td>(maladaire, 2021-05-01)</td>\n",
       "      <td>0.012987</td>\n",
       "      <td>0.004329</td>\n",
       "    </tr>\n",
       "    <tr>\n",
       "      <th>1</th>\n",
       "      <td>maladaire</td>\n",
       "      <td>2021-05-01</td>\n",
       "      <td>231.0</td>\n",
       "      <td>77.0</td>\n",
       "      <td>iqaasl</td>\n",
       "      <td>121.0</td>\n",
       "      <td>2</td>\n",
       "      <td>G67</td>\n",
       "      <td>(maladaire, 2021-05-01)</td>\n",
       "      <td>0.025974</td>\n",
       "      <td>0.008658</td>\n",
       "    </tr>\n",
       "    <tr>\n",
       "      <th>2</th>\n",
       "      <td>maladaire</td>\n",
       "      <td>2021-05-01</td>\n",
       "      <td>231.0</td>\n",
       "      <td>77.0</td>\n",
       "      <td>iqaasl</td>\n",
       "      <td>121.0</td>\n",
       "      <td>1</td>\n",
       "      <td>G26</td>\n",
       "      <td>(maladaire, 2021-05-01)</td>\n",
       "      <td>0.012987</td>\n",
       "      <td>0.004329</td>\n",
       "    </tr>\n",
       "    <tr>\n",
       "      <th>3</th>\n",
       "      <td>maladaire</td>\n",
       "      <td>2021-05-01</td>\n",
       "      <td>231.0</td>\n",
       "      <td>77.0</td>\n",
       "      <td>iqaasl</td>\n",
       "      <td>121.0</td>\n",
       "      <td>9</td>\n",
       "      <td>G30</td>\n",
       "      <td>(maladaire, 2021-05-01)</td>\n",
       "      <td>0.116883</td>\n",
       "      <td>0.038961</td>\n",
       "    </tr>\n",
       "    <tr>\n",
       "      <th>4</th>\n",
       "      <td>maladaire</td>\n",
       "      <td>2021-05-01</td>\n",
       "      <td>231.0</td>\n",
       "      <td>77.0</td>\n",
       "      <td>iqaasl</td>\n",
       "      <td>121.0</td>\n",
       "      <td>1</td>\n",
       "      <td>G33</td>\n",
       "      <td>(maladaire, 2021-05-01)</td>\n",
       "      <td>0.012987</td>\n",
       "      <td>0.004329</td>\n",
       "    </tr>\n",
       "  </tbody>\n",
       "</table>\n",
       "</div>"
      ],
      "text/plain": [
       "    location        date   area  length project    doy  quantity code   \n",
       "0  maladaire  2021-05-01  231.0    77.0  iqaasl  121.0         1  G35  \\\n",
       "1  maladaire  2021-05-01  231.0    77.0  iqaasl  121.0         2  G67   \n",
       "2  maladaire  2021-05-01  231.0    77.0  iqaasl  121.0         1  G26   \n",
       "3  maladaire  2021-05-01  231.0    77.0  iqaasl  121.0         9  G30   \n",
       "4  maladaire  2021-05-01  231.0    77.0  iqaasl  121.0         1  G33   \n",
       "\n",
       "                  loc_date     pcs/m    pcs/m²  \n",
       "0  (maladaire, 2021-05-01)  0.012987  0.004329  \n",
       "1  (maladaire, 2021-05-01)  0.025974  0.008658  \n",
       "2  (maladaire, 2021-05-01)  0.012987  0.004329  \n",
       "3  (maladaire, 2021-05-01)  0.116883  0.038961  \n",
       "4  (maladaire, 2021-05-01)  0.012987  0.004329  "
      ]
     },
     "execution_count": 12,
     "metadata": {},
     "output_type": "execute_result"
    }
   ],
   "source": [
    "combined.head()"
   ]
  },
  {
   "cell_type": "code",
   "execution_count": 14,
   "id": "34dd5eb8-841d-485f-9f71-c0f99f2c0fbf",
   "metadata": {
    "tags": []
   },
   "outputs": [
    {
     "data": {
      "text/html": [
       "<div>\n",
       "<style scoped>\n",
       "    .dataframe tbody tr th:only-of-type {\n",
       "        vertical-align: middle;\n",
       "    }\n",
       "\n",
       "    .dataframe tbody tr th {\n",
       "        vertical-align: top;\n",
       "    }\n",
       "\n",
       "    .dataframe thead tr th {\n",
       "        text-align: left;\n",
       "    }\n",
       "\n",
       "    .dataframe thead tr:last-of-type th {\n",
       "        text-align: right;\n",
       "    }\n",
       "</style>\n",
       "<table border=\"1\" class=\"dataframe\">\n",
       "  <thead>\n",
       "    <tr>\n",
       "      <th></th>\n",
       "      <th colspan=\"2\" halign=\"left\">fail rate</th>\n",
       "    </tr>\n",
       "    <tr>\n",
       "      <th>project</th>\n",
       "      <th>iqaasl</th>\n",
       "      <th>plastock</th>\n",
       "    </tr>\n",
       "    <tr>\n",
       "      <th>code</th>\n",
       "      <th></th>\n",
       "      <th></th>\n",
       "    </tr>\n",
       "  </thead>\n",
       "  <tbody>\n",
       "    <tr>\n",
       "      <th>Gfrags</th>\n",
       "      <td>0.969388</td>\n",
       "      <td>0.968421</td>\n",
       "    </tr>\n",
       "    <tr>\n",
       "      <th>G30</th>\n",
       "      <td>0.959184</td>\n",
       "      <td>0.736842</td>\n",
       "    </tr>\n",
       "    <tr>\n",
       "      <th>G27</th>\n",
       "      <td>0.948980</td>\n",
       "      <td>0.800000</td>\n",
       "    </tr>\n",
       "    <tr>\n",
       "      <th>Gfoam</th>\n",
       "      <td>0.836735</td>\n",
       "      <td>0.736842</td>\n",
       "    </tr>\n",
       "    <tr>\n",
       "      <th>G95</th>\n",
       "      <td>0.816327</td>\n",
       "      <td>0.547368</td>\n",
       "    </tr>\n",
       "    <tr>\n",
       "      <th>G74</th>\n",
       "      <td>0.775510</td>\n",
       "      <td>0.378947</td>\n",
       "    </tr>\n",
       "    <tr>\n",
       "      <th>G67</th>\n",
       "      <td>0.775510</td>\n",
       "      <td>0.084211</td>\n",
       "    </tr>\n",
       "    <tr>\n",
       "      <th>G35</th>\n",
       "      <td>0.734694</td>\n",
       "      <td>0.410526</td>\n",
       "    </tr>\n",
       "    <tr>\n",
       "      <th>G89</th>\n",
       "      <td>0.663265</td>\n",
       "      <td>0.315789</td>\n",
       "    </tr>\n",
       "    <tr>\n",
       "      <th>G31</th>\n",
       "      <td>0.663265</td>\n",
       "      <td>0.557895</td>\n",
       "    </tr>\n",
       "    <tr>\n",
       "      <th>G32</th>\n",
       "      <td>0.632653</td>\n",
       "      <td>0.242105</td>\n",
       "    </tr>\n",
       "    <tr>\n",
       "      <th>G100</th>\n",
       "      <td>0.612245</td>\n",
       "      <td>0.094737</td>\n",
       "    </tr>\n",
       "    <tr>\n",
       "      <th>G33</th>\n",
       "      <td>0.571429</td>\n",
       "      <td>0.178947</td>\n",
       "    </tr>\n",
       "    <tr>\n",
       "      <th>G25</th>\n",
       "      <td>0.551020</td>\n",
       "      <td>0.042105</td>\n",
       "    </tr>\n",
       "    <tr>\n",
       "      <th>G70</th>\n",
       "      <td>0.520408</td>\n",
       "      <td>0.400000</td>\n",
       "    </tr>\n",
       "    <tr>\n",
       "      <th>G10</th>\n",
       "      <td>0.510204</td>\n",
       "      <td>0.094737</td>\n",
       "    </tr>\n",
       "    <tr>\n",
       "      <th>G112</th>\n",
       "      <td>0.469388</td>\n",
       "      <td>0.368421</td>\n",
       "    </tr>\n",
       "    <tr>\n",
       "      <th>G211</th>\n",
       "      <td>0.438776</td>\n",
       "      <td>0.410526</td>\n",
       "    </tr>\n",
       "    <tr>\n",
       "      <th>G66</th>\n",
       "      <td>0.418367</td>\n",
       "      <td>0.305263</td>\n",
       "    </tr>\n",
       "    <tr>\n",
       "      <th>G73</th>\n",
       "      <td>0.397959</td>\n",
       "      <td>0.063158</td>\n",
       "    </tr>\n",
       "  </tbody>\n",
       "</table>\n",
       "</div>"
      ],
      "text/plain": [
       "        fail rate          \n",
       "project    iqaasl  plastock\n",
       "code                       \n",
       "Gfrags   0.969388  0.968421\n",
       "G30      0.959184  0.736842\n",
       "G27      0.948980  0.800000\n",
       "Gfoam    0.836735  0.736842\n",
       "G95      0.816327  0.547368\n",
       "G74      0.775510  0.378947\n",
       "G67      0.775510  0.084211\n",
       "G35      0.734694  0.410526\n",
       "G89      0.663265  0.315789\n",
       "G31      0.663265  0.557895\n",
       "G32      0.632653  0.242105\n",
       "G100     0.612245  0.094737\n",
       "G33      0.571429  0.178947\n",
       "G25      0.551020  0.042105\n",
       "G70      0.520408  0.400000\n",
       "G10      0.510204  0.094737\n",
       "G112     0.469388  0.368421\n",
       "G211     0.438776  0.410526\n",
       "G66      0.418367  0.305263\n",
       "G73      0.397959  0.063158"
      ]
     },
     "execution_count": 14,
     "metadata": {},
     "output_type": "execute_result"
    }
   ],
   "source": [
    "# fail rate\n",
    "def n_fails(data, code, threshhold=0):\n",
    "    \n",
    "    return ((data.code == code) & (data.quantity > threshhold)).sum()    \n",
    "\n",
    "def fail_rate(data, code, threshhold=0, project=\"iqaasl\"):\n",
    "    d = data[data.project == project]\n",
    "    fails = n_fails(d, code, threshhold=threshhold)\n",
    "    tries = d.loc_date.nunique()\n",
    "    \n",
    "    return fails/tries\n",
    "\n",
    "def make_fail_rate_df(data, codes, project=\"iqaasl\", threshold=0):\n",
    "    \n",
    "    results = []\n",
    "    \n",
    "    for code in codes:\n",
    "        results.append({\"code\":code, \"project\":project, \"fail rate\":fail_rate(data, code, project=project)})\n",
    "    \n",
    "    return pd.DataFrame(results)\n",
    "\n",
    "iqa_fail_rate = make_fail_rate_df(combined, codes)\n",
    "pstk_fail_rate = make_fail_rate_df(combined, codes, project='plastock')\n",
    "\n",
    "fail_rates = pd.concat([iqa_fail_rate, pstk_fail_rate], axis=0)\n",
    "\n",
    "fail_rates = fail_rates.pivot(index=\"code\", columns=\"project\")\n",
    "fail_rates.sort_values(by=(\"fail rate\",\"iqaasl\"), ascending=False)[:20]"
   ]
  },
  {
   "cell_type": "code",
   "execution_count": null,
   "id": "e4566d7a-be31-48e5-bb09-2c85529b511b",
   "metadata": {
    "tags": []
   },
   "outputs": [],
   "source": []
  }
 ],
 "metadata": {
  "kernelspec": {
   "display_name": "Python 3 (ipykernel)",
   "language": "python",
   "name": "python3"
  },
  "language_info": {
   "codemirror_mode": {
    "name": "ipython",
    "version": 3
   },
   "file_extension": ".py",
   "mimetype": "text/x-python",
   "name": "python",
   "nbconvert_exporter": "python",
   "pygments_lexer": "ipython3",
   "version": "3.9.16"
  }
 },
 "nbformat": 4,
 "nbformat_minor": 5
}
