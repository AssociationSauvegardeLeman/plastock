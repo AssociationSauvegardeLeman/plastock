{
 "cells": [
  {
   "cell_type": "code",
   "execution_count": 1,
   "id": "1bcf53db-e1a1-4116-8279-6b69c6c5ea30",
   "metadata": {
    "editable": true,
    "pycharm": {
     "name": "#%%\n"
    },
    "slideshow": {
     "slide_type": ""
    },
    "tags": [
     "remove-input"
    ]
   },
   "outputs": [],
   "source": [
    "import numpy as np\n",
    "import pandas as pd\n",
    "import matplotlib.pyplot as plt\n",
    "import seaborn as sns\n",
    "from myst_nb import glue\n",
    "from IPython.core.display import HTML, Markdown\n",
    "from plastockconf import particle_groups, name_substrate, name_distance, table_css_styles_top, format_kwargs\n",
    "from reportclass import color_gradient\n",
    "from setvariables import newcmp\n"
   ]
  },
  {
   "cell_type": "code",
   "execution_count": 2,
   "id": "b0f6d80e-a28f-4960-ac98-a69a5b02d86a",
   "metadata": {
    "editable": true,
    "pycharm": {
     "name": "#%%\n"
    },
    "slideshow": {
     "slide_type": ""
    },
    "tags": [
     "remove-input"
    ]
   },
   "outputs": [
    {
     "data": {
      "application/papermill.record/text/html": "<style type=\"text/css\">\n#T_e96e6 tr:nth-child(even) {\n  background-color: rgba(139, 69, 19, 0.08);\n}\n#T_e96e6 tr:nth-child(odd) {\n  background: #FFF;\n}\n#T_e96e6 tr {\n  font-size: 14px;\n  padding: 6px;\n}\n#T_e96e6 th:nth-child(1) {\n  background-color: #FFF;\n  white-space: nowrap;\n  word-break: keep-all;\n}\n#T_e96e6 caption {\n  caption-side: top;\n  font-size: 12px;\n  text-align: left;\n  margin-top: 12px;\n}\n</style>\n<table id=\"T_e96e6\">\n  <caption> </caption>\n  <thead>\n    <tr>\n      <th class=\"blank level0\" >&nbsp;</th>\n      <th id=\"T_e96e6_level0_col0\" class=\"col_heading level0 col0\" >Particules</th>\n    </tr>\n  </thead>\n  <tbody>\n    <tr>\n      <th id=\"T_e96e6_level0_row0\" class=\"row_heading level0 row0\" >Min</th>\n      <td id=\"T_e96e6_row0_col0\" class=\"data row0 col0\" >19,00</td>\n    </tr>\n    <tr>\n      <th id=\"T_e96e6_level0_row1\" class=\"row_heading level0 row1\" >25%</th>\n      <td id=\"T_e96e6_row1_col0\" class=\"data row1 col0\" >72,00</td>\n    </tr>\n    <tr>\n      <th id=\"T_e96e6_level0_row2\" class=\"row_heading level0 row2\" >50%</th>\n      <td id=\"T_e96e6_row2_col0\" class=\"data row2 col0\" >126,00</td>\n    </tr>\n    <tr>\n      <th id=\"T_e96e6_level0_row3\" class=\"row_heading level0 row3\" >75%</th>\n      <td id=\"T_e96e6_row3_col0\" class=\"data row3 col0\" >207,00</td>\n    </tr>\n    <tr>\n      <th id=\"T_e96e6_level0_row4\" class=\"row_heading level0 row4\" >Max</th>\n      <td id=\"T_e96e6_row4_col0\" class=\"data row4 col0\" >3'143,00</td>\n    </tr>\n    <tr>\n      <th id=\"T_e96e6_level0_row5\" class=\"row_heading level0 row5\" >Moyenne</th>\n      <td id=\"T_e96e6_row5_col0\" class=\"data row5 col0\" >189,67</td>\n    </tr>\n    <tr>\n      <th id=\"T_e96e6_level0_row6\" class=\"row_heading level0 row6\" >Écart-type</th>\n      <td id=\"T_e96e6_row6_col0\" class=\"data row6 col0\" >278,69</td>\n    </tr>\n  </tbody>\n</table>\n",
      "application/papermill.record/text/plain": "<IPython.core.display.HTML object>"
     },
     "metadata": {
      "scrapbook": {
       "mime_prefix": "application/papermill.record/",
       "name": "table_one"
      }
     },
     "output_type": "display_data"
    },
    {
     "data": {
      "application/papermill.record/text/html": "<style type=\"text/css\">\n#T_bf31c tr:nth-child(even) {\n  background-color: rgba(139, 69, 19, 0.08);\n}\n#T_bf31c tr:nth-child(odd) {\n  background: #FFF;\n}\n#T_bf31c tr {\n  font-size: 14px;\n  padding: 6px;\n}\n#T_bf31c th:nth-child(1) {\n  background-color: #FFF;\n  white-space: nowrap;\n  word-break: keep-all;\n}\n#T_bf31c caption {\n  caption-side: top;\n  font-size: 12px;\n  text-align: left;\n  margin-top: 12px;\n}\n</style>\n<table id=\"T_bf31c\">\n  <caption> </caption>\n  <thead>\n    <tr>\n      <th class=\"blank level0\" >&nbsp;</th>\n      <th id=\"T_bf31c_level0_col0\" class=\"col_heading level0 col0\" >Résultats</th>\n    </tr>\n  </thead>\n  <tbody>\n    <tr>\n      <th id=\"T_bf31c_level0_row0\" class=\"row_heading level0 row0\" >Min</th>\n      <td id=\"T_bf31c_row0_col0\" class=\"data row0 col0\" >19</td>\n    </tr>\n    <tr>\n      <th id=\"T_bf31c_level0_row1\" class=\"row_heading level0 row1\" >25%</th>\n      <td id=\"T_bf31c_row1_col0\" class=\"data row1 col0\" >71</td>\n    </tr>\n    <tr>\n      <th id=\"T_bf31c_level0_row2\" class=\"row_heading level0 row2\" >50%</th>\n      <td id=\"T_bf31c_row2_col0\" class=\"data row2 col0\" >124</td>\n    </tr>\n    <tr>\n      <th id=\"T_bf31c_level0_row3\" class=\"row_heading level0 row3\" >75%</th>\n      <td id=\"T_bf31c_row3_col0\" class=\"data row3 col0\" >197</td>\n    </tr>\n    <tr>\n      <th id=\"T_bf31c_level0_row4\" class=\"row_heading level0 row4\" >Max</th>\n      <td id=\"T_bf31c_row4_col0\" class=\"data row4 col0\" >1'016</td>\n    </tr>\n    <tr>\n      <th id=\"T_bf31c_level0_row5\" class=\"row_heading level0 row5\" >Moyenne</th>\n      <td id=\"T_bf31c_row5_col0\" class=\"data row5 col0\" >165</td>\n    </tr>\n    <tr>\n      <th id=\"T_bf31c_level0_row6\" class=\"row_heading level0 row6\" >Écart-type</th>\n      <td id=\"T_bf31c_row6_col0\" class=\"data row6 col0\" >156</td>\n    </tr>\n  </tbody>\n</table>\n",
      "application/papermill.record/text/plain": "<IPython.core.display.HTML object>"
     },
     "metadata": {
      "scrapbook": {
       "mime_prefix": "application/papermill.record/",
       "name": "table_two"
      }
     },
     "output_type": "display_data"
    },
    {
     "data": {
      "application/papermill.record/text/html": "<style type=\"text/css\">\n#T_4b0be tr:nth-child(even) {\n  background-color: rgba(139, 69, 19, 0.08);\n}\n#T_4b0be tr:nth-child(odd) {\n  background: #FFF;\n}\n#T_4b0be tr {\n  font-size: 14px;\n  padding: 6px;\n}\n#T_4b0be th:nth-child(1) {\n  background-color: #FFF;\n  white-space: nowrap;\n  word-break: keep-all;\n}\n#T_4b0be caption {\n  caption-side: top;\n  font-size: 12px;\n  text-align: left;\n  margin-top: 12px;\n}\n</style>\n<table id=\"T_4b0be\">\n  <thead>\n    <tr>\n      <th class=\"blank level0\" >&nbsp;</th>\n      <th id=\"T_4b0be_level0_col0\" class=\"col_heading level0 col0\" >Ligne d'eau</th>\n      <th id=\"T_4b0be_level0_col1\" class=\"col_heading level0 col1\" >Plage seche</th>\n    </tr>\n  </thead>\n  <tbody>\n    <tr>\n      <th id=\"T_4b0be_level0_row0\" class=\"row_heading level0 row0\" >Échantillons</th>\n      <td id=\"T_4b0be_row0_col0\" class=\"data row0 col0\" >111</td>\n      <td id=\"T_4b0be_row0_col1\" class=\"data row0 col1\" >99</td>\n    </tr>\n    <tr>\n      <th id=\"T_4b0be_level0_row1\" class=\"row_heading level0 row1\" >Moyenne</th>\n      <td id=\"T_4b0be_row1_col0\" class=\"data row1 col0\" >116</td>\n      <td id=\"T_4b0be_row1_col1\" class=\"data row1 col1\" >219</td>\n    </tr>\n    <tr>\n      <th id=\"T_4b0be_level0_row2\" class=\"row_heading level0 row2\" >Écart type</th>\n      <td id=\"T_4b0be_row2_col0\" class=\"data row2 col0\" >125</td>\n      <td id=\"T_4b0be_row2_col1\" class=\"data row2 col1\" >170</td>\n    </tr>\n    <tr>\n      <th id=\"T_4b0be_level0_row3\" class=\"row_heading level0 row3\" >Min</th>\n      <td id=\"T_4b0be_row3_col0\" class=\"data row3 col0\" >19</td>\n      <td id=\"T_4b0be_row3_col1\" class=\"data row3 col1\" >37</td>\n    </tr>\n    <tr>\n      <th id=\"T_4b0be_level0_row4\" class=\"row_heading level0 row4\" >25%</th>\n      <td id=\"T_4b0be_row4_col0\" class=\"data row4 col0\" >53</td>\n      <td id=\"T_4b0be_row4_col1\" class=\"data row4 col1\" >115</td>\n    </tr>\n    <tr>\n      <th id=\"T_4b0be_level0_row5\" class=\"row_heading level0 row5\" >50%</th>\n      <td id=\"T_4b0be_row5_col0\" class=\"data row5 col0\" >85</td>\n      <td id=\"T_4b0be_row5_col1\" class=\"data row5 col1\" >179</td>\n    </tr>\n    <tr>\n      <th id=\"T_4b0be_level0_row6\" class=\"row_heading level0 row6\" >75%</th>\n      <td id=\"T_4b0be_row6_col0\" class=\"data row6 col0\" >129</td>\n      <td id=\"T_4b0be_row6_col1\" class=\"data row6 col1\" >253</td>\n    </tr>\n    <tr>\n      <th id=\"T_4b0be_level0_row7\" class=\"row_heading level0 row7\" >Max</th>\n      <td id=\"T_4b0be_row7_col0\" class=\"data row7 col0\" >884</td>\n      <td id=\"T_4b0be_row7_col1\" class=\"data row7 col1\" >1'016</td>\n    </tr>\n  </tbody>\n</table>\n",
      "application/papermill.record/text/plain": "<IPython.core.display.HTML object>"
     },
     "metadata": {
      "scrapbook": {
       "mime_prefix": "application/papermill.record/",
       "name": "table_three"
      }
     },
     "output_type": "display_data"
    },
    {
     "data": {
      "application/papermill.record/text/html": "<style type=\"text/css\">\n#T_3f4e7 tr:nth-child(even) {\n  background-color: rgba(139, 69, 19, 0.08);\n}\n#T_3f4e7 tr:nth-child(odd) {\n  background: #FFF;\n}\n#T_3f4e7 tr {\n  font-size: 14px;\n  padding: 6px;\n}\n#T_3f4e7 th:nth-child(1) {\n  background-color: #FFF;\n  white-space: nowrap;\n  word-break: keep-all;\n}\n#T_3f4e7 caption {\n  caption-side: top;\n  font-size: 12px;\n  text-align: left;\n  margin-top: 12px;\n}\n</style>\n<table id=\"T_3f4e7\">\n  <thead>\n    <tr>\n      <th class=\"blank level0\" >&nbsp;</th>\n      <th id=\"T_3f4e7_level0_col0\" class=\"col_heading level0 col0\" >Ligne d'eau</th>\n      <th id=\"T_3f4e7_level0_col1\" class=\"col_heading level0 col1\" >Plage seche</th>\n    </tr>\n  </thead>\n  <tbody>\n    <tr>\n      <th id=\"T_3f4e7_level0_row0\" class=\"row_heading level0 row0\" >Moyenne</th>\n      <td id=\"T_3f4e7_row0_col0\" class=\"data row0 col0\" >0,83</td>\n      <td id=\"T_3f4e7_row0_col1\" class=\"data row0 col1\" >0,69</td>\n    </tr>\n    <tr>\n      <th id=\"T_3f4e7_level0_row1\" class=\"row_heading level0 row1\" >Écart type</th>\n      <td id=\"T_3f4e7_row1_col0\" class=\"data row1 col0\" >1,26</td>\n      <td id=\"T_3f4e7_row1_col1\" class=\"data row1 col1\" >0,73</td>\n    </tr>\n    <tr>\n      <th id=\"T_3f4e7_level0_row2\" class=\"row_heading level0 row2\" >Min</th>\n      <td id=\"T_3f4e7_row2_col0\" class=\"data row2 col0\" >0,02</td>\n      <td id=\"T_3f4e7_row2_col1\" class=\"data row2 col1\" >0,01</td>\n    </tr>\n    <tr>\n      <th id=\"T_3f4e7_level0_row3\" class=\"row_heading level0 row3\" >25%</th>\n      <td id=\"T_3f4e7_row3_col0\" class=\"data row3 col0\" >0,18</td>\n      <td id=\"T_3f4e7_row3_col1\" class=\"data row3 col1\" >0,17</td>\n    </tr>\n    <tr>\n      <th id=\"T_3f4e7_level0_row4\" class=\"row_heading level0 row4\" >50%</th>\n      <td id=\"T_3f4e7_row4_col0\" class=\"data row4 col0\" >0,36</td>\n      <td id=\"T_3f4e7_row4_col1\" class=\"data row4 col1\" >0,40</td>\n    </tr>\n    <tr>\n      <th id=\"T_3f4e7_level0_row5\" class=\"row_heading level0 row5\" >75%</th>\n      <td id=\"T_3f4e7_row5_col0\" class=\"data row5 col0\" >0,91</td>\n      <td id=\"T_3f4e7_row5_col1\" class=\"data row5 col1\" >1,07</td>\n    </tr>\n    <tr>\n      <th id=\"T_3f4e7_level0_row6\" class=\"row_heading level0 row6\" >Max</th>\n      <td id=\"T_3f4e7_row6_col0\" class=\"data row6 col0\" >7,59</td>\n      <td id=\"T_3f4e7_row6_col1\" class=\"data row6 col1\" >3,05</td>\n    </tr>\n  </tbody>\n</table>\n",
      "application/papermill.record/text/plain": "<IPython.core.display.HTML object>"
     },
     "metadata": {
      "scrapbook": {
       "mime_prefix": "application/papermill.record/",
       "name": "table_eight"
      }
     },
     "output_type": "display_data"
    },
    {
     "data": {
      "application/papermill.record/text/html": "<style type=\"text/css\">\n#T_d4d6b tr:nth-child(even) {\n  background-color: rgba(139, 69, 19, 0.08);\n}\n#T_d4d6b tr:nth-child(odd) {\n  background: #FFF;\n}\n#T_d4d6b tr {\n  font-size: 14px;\n  padding: 6px;\n}\n#T_d4d6b th:nth-child(1) {\n  background-color: #FFF;\n  white-space: nowrap;\n  word-break: keep-all;\n}\n#T_d4d6b caption {\n  caption-side: top;\n  font-size: 12px;\n  text-align: left;\n  margin-top: 12px;\n}\n</style>\n<table id=\"T_d4d6b\">\n  <thead>\n    <tr>\n      <th class=\"blank level0\" >&nbsp;</th>\n      <th id=\"T_d4d6b_level0_col0\" class=\"col_heading level0 col0\" >quantité</th>\n      <th id=\"T_d4d6b_level0_col1\" class=\"col_heading level0 col1\" >% du total</th>\n      <th id=\"T_d4d6b_level0_col2\" class=\"col_heading level0 col2\" >pcs/m</th>\n      <th id=\"T_d4d6b_level0_col3\" class=\"col_heading level0 col3\" >taux d'échec</th>\n    </tr>\n  </thead>\n  <tbody>\n    <tr>\n      <th id=\"T_d4d6b_level0_row0\" class=\"row_heading level0 row0\" >Fragments de plastique: g80, g79, g78, g77, g76, g75</th>\n      <td id=\"T_d4d6b_row0_col0\" class=\"data row0 col0\" >11'221</td>\n      <td id=\"T_d4d6b_row0_col1\" class=\"data row0 col1\" >0,41</td>\n      <td id=\"T_d4d6b_row0_col2\" class=\"data row0 col2\" >0,72</td>\n      <td id=\"T_d4d6b_row0_col3\" class=\"data row0 col3\" >0,97</td>\n    </tr>\n    <tr>\n      <th id=\"T_d4d6b_level0_row1\" class=\"row_heading level0 row1\" >Mégots et filtres à cigarettes</th>\n      <td id=\"T_d4d6b_row1_col0\" class=\"data row1 col0\" >3'089</td>\n      <td id=\"T_d4d6b_row1_col1\" class=\"data row1 col1\" >0,11</td>\n      <td id=\"T_d4d6b_row1_col2\" class=\"data row1 col2\" >0,15</td>\n      <td id=\"T_d4d6b_row1_col3\" class=\"data row1 col3\" >0,79</td>\n    </tr>\n    <tr>\n      <th id=\"T_d4d6b_level0_row2\" class=\"row_heading level0 row2\" >Emballages de bonbons, de snacks</th>\n      <td id=\"T_d4d6b_row2_col0\" class=\"data row2 col0\" >2'080</td>\n      <td id=\"T_d4d6b_row2_col1\" class=\"data row2 col1\" >0,08</td>\n      <td id=\"T_d4d6b_row2_col2\" class=\"data row2 col2\" >0,15</td>\n      <td id=\"T_d4d6b_row2_col3\" class=\"data row2 col3\" >0,74</td>\n    </tr>\n    <tr>\n      <th id=\"T_d4d6b_level0_row3\" class=\"row_heading level0 row3\" >Fragments de plastique angulaires <5mm</th>\n      <td id=\"T_d4d6b_row3_col0\" class=\"data row3 col0\" >1'926</td>\n      <td id=\"T_d4d6b_row3_col1\" class=\"data row3 col1\" >0,07</td>\n      <td id=\"T_d4d6b_row3_col2\" class=\"data row3 col2\" >0,00</td>\n      <td id=\"T_d4d6b_row3_col3\" class=\"data row3 col3\" >0,41</td>\n    </tr>\n    <tr>\n      <th id=\"T_d4d6b_level0_row4\" class=\"row_heading level0 row4\" >Pellets industriels (gpi)</th>\n      <td id=\"T_d4d6b_row4_col0\" class=\"data row4 col0\" >1'526</td>\n      <td id=\"T_d4d6b_row4_col1\" class=\"data row4 col1\" >0,06</td>\n      <td id=\"T_d4d6b_row4_col2\" class=\"data row4 col2\" >0,00</td>\n      <td id=\"T_d4d6b_row4_col3\" class=\"data row4 col3\" >0,36</td>\n    </tr>\n    <tr>\n      <th id=\"T_d4d6b_level0_row5\" class=\"row_heading level0 row5\" >Fragments de polystyrène expansé: g81, g82, g83</th>\n      <td id=\"T_d4d6b_row5_col0\" class=\"data row5 col0\" >1'399</td>\n      <td id=\"T_d4d6b_row5_col1\" class=\"data row5 col1\" >0,05</td>\n      <td id=\"T_d4d6b_row5_col2\" class=\"data row5 col2\" >0,07</td>\n      <td id=\"T_d4d6b_row5_col3\" class=\"data row5 col3\" >0,72</td>\n    </tr>\n    <tr>\n      <th id=\"T_d4d6b_level0_row6\" class=\"row_heading level0 row6\" >Couvercles en plastique bouteille:  g21, g22, g23, g24</th>\n      <td id=\"T_d4d6b_row6_col0\" class=\"data row6 col0\" >1'070</td>\n      <td id=\"T_d4d6b_row6_col1\" class=\"data row6 col1\" >0,04</td>\n      <td id=\"T_d4d6b_row6_col2\" class=\"data row6 col2\" >0,04</td>\n      <td id=\"T_d4d6b_row6_col3\" class=\"data row6 col3\" >0,65</td>\n    </tr>\n    <tr>\n      <th id=\"T_d4d6b_level0_row7\" class=\"row_heading level0 row7\" >Coton-tige</th>\n      <td id=\"T_d4d6b_row7_col0\" class=\"data row7 col0\" >1'040</td>\n      <td id=\"T_d4d6b_row7_col1\" class=\"data row7 col1\" >0,04</td>\n      <td id=\"T_d4d6b_row7_col2\" class=\"data row7 col2\" >0,03</td>\n      <td id=\"T_d4d6b_row7_col3\" class=\"data row7 col3\" >0,54</td>\n    </tr>\n    <tr>\n      <th id=\"T_d4d6b_level0_row8\" class=\"row_heading level0 row8\" >Mousse de plastique pour l'isolation thermique</th>\n      <td id=\"T_d4d6b_row8_col0\" class=\"data row8 col0\" >406</td>\n      <td id=\"T_d4d6b_row8_col1\" class=\"data row8 col1\" >0,01</td>\n      <td id=\"T_d4d6b_row8_col2\" class=\"data row8 col2\" >0,00</td>\n      <td id=\"T_d4d6b_row8_col3\" class=\"data row8 col3\" >0,38</td>\n    </tr>\n    <tr>\n      <th id=\"T_d4d6b_level0_row9\" class=\"row_heading level0 row9\" >Déchets de construction en plastique</th>\n      <td id=\"T_d4d6b_row9_col0\" class=\"data row9 col0\" >380</td>\n      <td id=\"T_d4d6b_row9_col1\" class=\"data row9 col1\" >0,01</td>\n      <td id=\"T_d4d6b_row9_col2\" class=\"data row9 col2\" >0,00</td>\n      <td id=\"T_d4d6b_row9_col3\" class=\"data row9 col3\" >0,24</td>\n    </tr>\n    <tr>\n      <th id=\"T_d4d6b_level0_row10\" class=\"row_heading level0 row10\" >Bâtonnets de sucette</th>\n      <td id=\"T_d4d6b_row10_col0\" class=\"data row10 col0\" >379</td>\n      <td id=\"T_d4d6b_row10_col1\" class=\"data row10 col1\" >0,01</td>\n      <td id=\"T_d4d6b_row10_col2\" class=\"data row10 col2\" >0,02</td>\n      <td id=\"T_d4d6b_row10_col3\" class=\"data row10 col3\" >0,54</td>\n    </tr>\n  </tbody>\n</table>\n",
      "application/papermill.record/text/plain": "<IPython.core.display.HTML object>"
     },
     "metadata": {
      "scrapbook": {
       "mime_prefix": "application/papermill.record/",
       "name": "table_nine"
      }
     },
     "output_type": "display_data"
    },
    {
     "data": {
      "application/papermill.record/text/html": "<style type=\"text/css\">\n#T_54f0b tr:nth-child(even) {\n  background-color: rgba(139, 69, 19, 0.08);\n}\n#T_54f0b tr:nth-child(odd) {\n  background: #FFF;\n}\n#T_54f0b tr {\n  font-size: 14px;\n  padding: 6px;\n}\n#T_54f0b th:nth-child(1) {\n  background-color: #FFF;\n  white-space: nowrap;\n  word-break: keep-all;\n}\n#T_54f0b caption {\n  caption-side: top;\n  font-size: 12px;\n  text-align: left;\n  margin-top: 12px;\n}\n#T_54f0b_row0_col0, #T_54f0b_row0_col1, #T_54f0b_row0_col4, #T_54f0b_row0_col5, #T_54f0b_row0_col6, #T_54f0b_row0_col9, #T_54f0b_row0_col11, #T_54f0b_row0_col12, #T_54f0b_row1_col0, #T_54f0b_row1_col2, #T_54f0b_row1_col5, #T_54f0b_row1_col6, #T_54f0b_row1_col11, #T_54f0b_row1_col12, #T_54f0b_row2_col5, #T_54f0b_row3_col1, #T_54f0b_row3_col6, #T_54f0b_row3_col9, #T_54f0b_row4_col5, #T_54f0b_row4_col6, #T_54f0b_row4_col8, #T_54f0b_row4_col9, #T_54f0b_row4_col10, #T_54f0b_row4_col11, #T_54f0b_row5_col1, #T_54f0b_row5_col2, #T_54f0b_row5_col5, #T_54f0b_row5_col6, #T_54f0b_row5_col7, #T_54f0b_row5_col9, #T_54f0b_row5_col11, #T_54f0b_row5_col12, #T_54f0b_row6_col0, #T_54f0b_row6_col1, #T_54f0b_row6_col2, #T_54f0b_row6_col5, #T_54f0b_row6_col6, #T_54f0b_row6_col7, #T_54f0b_row6_col9, #T_54f0b_row6_col11, #T_54f0b_row6_col12, #T_54f0b_row7_col2, #T_54f0b_row7_col5, #T_54f0b_row7_col6, #T_54f0b_row7_col7, #T_54f0b_row7_col11, #T_54f0b_row8_col1, #T_54f0b_row8_col5, #T_54f0b_row8_col9, #T_54f0b_row8_col11, #T_54f0b_row9_col5, #T_54f0b_row9_col6, #T_54f0b_row9_col11 {\n  background-color: rgba(255,255,255, .5);\n  color: black;\n}\n#T_54f0b_row0_col2, #T_54f0b_row9_col2 {\n  background-color: rgba(247,247,247, .5);\n  color: black;\n}\n#T_54f0b_row0_col3 {\n  background-color: rgba(251,137,55, .5);\n  color: black;\n}\n#T_54f0b_row0_col7 {\n  background-color: rgba(132,41,3, .5);\n  color: black;\n}\n#T_54f0b_row0_col8 {\n  background-color: rgba(254,243,231, .5);\n  color: black;\n}\n#T_54f0b_row0_col10 {\n  background-color: rgba(97,97,97, .5);\n  color: black;\n}\n#T_54f0b_row1_col1, #T_54f0b_row4_col1, #T_54f0b_row5_col8, #T_54f0b_row9_col1 {\n  background-color: rgba(253,253,253, .5);\n  color: black;\n}\n#T_54f0b_row1_col3 {\n  background-color: rgba(18,18,18, .5);\n  color: black;\n}\n#T_54f0b_row1_col4, #T_54f0b_row6_col4, #T_54f0b_row7_col9 {\n  background-color: rgba(249,249,249, .5);\n  color: black;\n}\n#T_54f0b_row1_col7 {\n  background-color: rgba(241,241,241, .5);\n  color: black;\n}\n#T_54f0b_row1_col8, #T_54f0b_row1_col10 {\n  background-color: rgba(120,120,120, .5);\n  color: black;\n}\n#T_54f0b_row1_col9, #T_54f0b_row9_col7 {\n  background-color: rgba(227,227,227, .5);\n  color: black;\n}\n#T_54f0b_row2_col0, #T_54f0b_row2_col11 {\n  background-color: rgba(210,210,210, .5);\n  color: black;\n}\n#T_54f0b_row2_col1 {\n  background-color: rgba(238,238,238, .5);\n  color: black;\n}\n#T_54f0b_row2_col2 {\n  background-color: rgba(174,174,174, .5);\n  color: black;\n}\n#T_54f0b_row2_col3 {\n  background-color: rgba(15,15,15, .5);\n  color: black;\n}\n#T_54f0b_row2_col4, #T_54f0b_row3_col10, #T_54f0b_row9_col10, #T_54f0b_row10_col0, #T_54f0b_row10_col3, #T_54f0b_row10_col4, #T_54f0b_row10_col7, #T_54f0b_row10_col10 {\n  background-color: rgba(127,39,4, .5);\n  color: black;\n}\n#T_54f0b_row2_col6, #T_54f0b_row8_col6 {\n  background-color: rgba(240,240,240, .5);\n  color: black;\n}\n#T_54f0b_row2_col7 {\n  background-color: rgba(61,61,61, .5);\n  color: black;\n}\n#T_54f0b_row2_col8 {\n  background-color: rgba(65,65,65, .5);\n  color: black;\n}\n#T_54f0b_row2_col9 {\n  background-color: rgba(218,218,218, .5);\n  color: black;\n}\n#T_54f0b_row2_col10 {\n  background-color: rgba(79,79,79, .5);\n  color: black;\n}\n#T_54f0b_row2_col12 {\n  background-color: rgba(198,198,198, .5);\n  color: black;\n}\n#T_54f0b_row3_col0 {\n  background-color: rgba(10,10,10, .5);\n  color: black;\n}\n#T_54f0b_row3_col2 {\n  background-color: rgba(230,230,230, .5);\n  color: black;\n}\n#T_54f0b_row3_col3 {\n  background-color: rgba(12,12,12, .5);\n  color: black;\n}\n#T_54f0b_row3_col4, #T_54f0b_row10_col2 {\n  background-color: rgba(140,140,140, .5);\n  color: black;\n}\n#T_54f0b_row3_col5, #T_54f0b_row4_col4, #T_54f0b_row8_col4 {\n  background-color: rgba(242,242,242, .5);\n  color: black;\n}\n#T_54f0b_row3_col7 {\n  background-color: rgba(206,206,206, .5);\n  color: black;\n}\n#T_54f0b_row3_col8 {\n  background-color: rgba(193,193,193, .5);\n  color: black;\n}\n#T_54f0b_row3_col11 {\n  background-color: rgba(248,248,248, .5);\n  color: black;\n}\n#T_54f0b_row3_col12, #T_54f0b_row4_col3 {\n  background-color: rgba(200,200,200, .5);\n  color: black;\n}\n#T_54f0b_row4_col0 {\n  background-color: rgba(212,212,212, .5);\n  color: black;\n}\n#T_54f0b_row4_col2 {\n  background-color: rgba(252,252,252, .5);\n  color: black;\n}\n#T_54f0b_row4_col7, #T_54f0b_row8_col7, #T_54f0b_row8_col8 {\n  background-color: rgba(237,237,237, .5);\n  color: black;\n}\n#T_54f0b_row4_col12, #T_54f0b_row5_col0, #T_54f0b_row5_col3, #T_54f0b_row7_col1 {\n  background-color: rgba(250,250,250, .5);\n  color: black;\n}\n#T_54f0b_row5_col4 {\n  background-color: rgba(99,99,99, .5);\n  color: black;\n}\n#T_54f0b_row5_col10 {\n  background-color: rgba(251,136,54, .5);\n  color: black;\n}\n#T_54f0b_row6_col3 {\n  background-color: rgba(254,234,213, .5);\n  color: black;\n}\n#T_54f0b_row6_col8, #T_54f0b_row7_col8 {\n  background-color: rgba(251,251,251, .5);\n  color: black;\n}\n#T_54f0b_row6_col10 {\n  background-color: rgba(139,139,139, .5);\n  color: black;\n}\n#T_54f0b_row7_col0 {\n  background-color: rgba(246,122,39, .5);\n  color: black;\n}\n#T_54f0b_row7_col3 {\n  background-color: rgba(177,177,177, .5);\n  color: black;\n}\n#T_54f0b_row7_col4 {\n  background-color: rgba(122,122,122, .5);\n  color: black;\n}\n#T_54f0b_row7_col10 {\n  background-color: rgba(253,214,175, .5);\n  color: black;\n}\n#T_54f0b_row7_col12 {\n  background-color: rgba(246,246,246, .5);\n  color: black;\n}\n#T_54f0b_row8_col0 {\n  background-color: rgba(253,153,77, .5);\n  color: black;\n}\n#T_54f0b_row8_col2 {\n  background-color: rgba(234,234,234, .5);\n  color: black;\n}\n#T_54f0b_row8_col3 {\n  background-color: rgba(29,29,29, .5);\n  color: black;\n}\n#T_54f0b_row8_col10 {\n  background-color: rgba(84,84,84, .5);\n  color: black;\n}\n#T_54f0b_row8_col12, #T_54f0b_row9_col8 {\n  background-color: rgba(245,245,245, .5);\n  color: black;\n}\n#T_54f0b_row9_col0 {\n  background-color: rgba(254,244,234, .5);\n  color: black;\n}\n#T_54f0b_row9_col3 {\n  background-color: rgba(105,105,105, .5);\n  color: black;\n}\n#T_54f0b_row9_col4 {\n  background-color: rgba(159,159,159, .5);\n  color: black;\n}\n#T_54f0b_row9_col9 {\n  background-color: rgba(254,237,220, .5);\n  color: black;\n}\n#T_54f0b_row9_col12 {\n  background-color: rgba(236,236,236, .5);\n  color: black;\n}\n#T_54f0b_row10_col1 {\n  background-color: rgba(103,103,103, .5);\n  color: black;\n}\n#T_54f0b_row10_col5 {\n  background-color: rgba(201,201,201, .5);\n  color: black;\n}\n#T_54f0b_row10_col6 {\n  background-color: rgba(203,203,203, .5);\n  color: black;\n}\n#T_54f0b_row10_col8 {\n  background-color: rgba(169,55,2, .5);\n  color: black;\n}\n#T_54f0b_row10_col9 {\n  background-color: rgba(253,167,97, .5);\n  color: black;\n}\n#T_54f0b_row10_col11 {\n  background-color: rgba(134,134,134, .5);\n  color: black;\n}\n#T_54f0b_row10_col12 {\n  background-color: rgba(244,115,30, .5);\n  color: black;\n}\n</style>\n<div style=\"max-width: 800px; overflow: scroll;\">\n<table id=\"T_54f0b\">\n  <thead>\n    <tr>\n      <th class=\"blank level0\" >&nbsp;</th>\n      <th id=\"T_54f0b_level0_col0\" class=\"col_heading level0 col0\" >Amphion</th>\n      <th id=\"T_54f0b_level0_col1\" class=\"col_heading level0 col1\" >Anthy</th>\n      <th id=\"T_54f0b_level0_col2\" class=\"col_heading level0 col2\" >Aubonne</th>\n      <th id=\"T_54f0b_level0_col3\" class=\"col_heading level0 col3\" >Bouveret</th>\n      <th id=\"T_54f0b_level0_col4\" class=\"col_heading level0 col4\" >Clarens</th>\n      <th id=\"T_54f0b_level0_col5\" class=\"col_heading level0 col5\" >Crans</th>\n      <th id=\"T_54f0b_level0_col6\" class=\"col_heading level0 col6\" >Cully</th>\n      <th id=\"T_54f0b_level0_col7\" class=\"col_heading level0 col7\" >Excenevex</th>\n      <th id=\"T_54f0b_level0_col8\" class=\"col_heading level0 col8\" >Genève</th>\n      <th id=\"T_54f0b_level0_col9\" class=\"col_heading level0 col9\" >Gland</th>\n      <th id=\"T_54f0b_level0_col10\" class=\"col_heading level0 col10\" >Grangettes</th>\n      <th id=\"T_54f0b_level0_col11\" class=\"col_heading level0 col11\" >Hermance</th>\n      <th id=\"T_54f0b_level0_col12\" class=\"col_heading level0 col12\" >Léman</th>\n    </tr>\n  </thead>\n  <tbody>\n    <tr>\n      <th id=\"T_54f0b_level0_row0\" class=\"row_heading level0 row0\" >Fragments plastique < 5mm</th>\n      <td id=\"T_54f0b_row0_col0\" class=\"data row0 col0\" >0,00</td>\n      <td id=\"T_54f0b_row0_col1\" class=\"data row0 col1\" >0,00</td>\n      <td id=\"T_54f0b_row0_col2\" class=\"data row0 col2\" >0,03</td>\n      <td id=\"T_54f0b_row0_col3\" class=\"data row0 col3\" >0,68</td>\n      <td id=\"T_54f0b_row0_col4\" class=\"data row0 col4\" >0,00</td>\n      <td id=\"T_54f0b_row0_col5\" class=\"data row0 col5\" >0,00</td>\n      <td id=\"T_54f0b_row0_col6\" class=\"data row0 col6\" >0,00</td>\n      <td id=\"T_54f0b_row0_col7\" class=\"data row0 col7\" >0,89</td>\n      <td id=\"T_54f0b_row0_col8\" class=\"data row0 col8\" >0,46</td>\n      <td id=\"T_54f0b_row0_col9\" class=\"data row0 col9\" >0,00</td>\n      <td id=\"T_54f0b_row0_col10\" class=\"data row0 col10\" >0,31</td>\n      <td id=\"T_54f0b_row0_col11\" class=\"data row0 col11\" >0,00</td>\n      <td id=\"T_54f0b_row0_col12\" class=\"data row0 col12\" >0,00</td>\n    </tr>\n    <tr>\n      <th id=\"T_54f0b_level0_row1\" class=\"row_heading level0 row1\" >Pellets industriels (gpi)</th>\n      <td id=\"T_54f0b_row1_col0\" class=\"data row1 col0\" >0,00</td>\n      <td id=\"T_54f0b_row1_col1\" class=\"data row1 col1\" >0,01</td>\n      <td id=\"T_54f0b_row1_col2\" class=\"data row1 col2\" >0,00</td>\n      <td id=\"T_54f0b_row1_col3\" class=\"data row1 col3\" >0,42</td>\n      <td id=\"T_54f0b_row1_col4\" class=\"data row1 col4\" >0,02</td>\n      <td id=\"T_54f0b_row1_col5\" class=\"data row1 col5\" >0,00</td>\n      <td id=\"T_54f0b_row1_col6\" class=\"data row1 col6\" >0,00</td>\n      <td id=\"T_54f0b_row1_col7\" class=\"data row1 col7\" >0,05</td>\n      <td id=\"T_54f0b_row1_col8\" class=\"data row1 col8\" >0,27</td>\n      <td id=\"T_54f0b_row1_col9\" class=\"data row1 col9\" >0,09</td>\n      <td id=\"T_54f0b_row1_col10\" class=\"data row1 col10\" >0,27</td>\n      <td id=\"T_54f0b_row1_col11\" class=\"data row1 col11\" >0,00</td>\n      <td id=\"T_54f0b_row1_col12\" class=\"data row1 col12\" >0,00</td>\n    </tr>\n    <tr>\n      <th id=\"T_54f0b_level0_row2\" class=\"row_heading level0 row2\" >Mégots et filtres à cigarettes</th>\n      <td id=\"T_54f0b_row2_col0\" class=\"data row2 col0\" >0,13</td>\n      <td id=\"T_54f0b_row2_col1\" class=\"data row2 col1\" >0,06</td>\n      <td id=\"T_54f0b_row2_col2\" class=\"data row2 col2\" >0,19</td>\n      <td id=\"T_54f0b_row2_col3\" class=\"data row2 col3\" >0,43</td>\n      <td id=\"T_54f0b_row2_col4\" class=\"data row2 col4\" >1,19</td>\n      <td id=\"T_54f0b_row2_col5\" class=\"data row2 col5\" >0,00</td>\n      <td id=\"T_54f0b_row2_col6\" class=\"data row2 col6\" >0,06</td>\n      <td id=\"T_54f0b_row2_col7\" class=\"data row2 col7\" >0,36</td>\n      <td id=\"T_54f0b_row2_col8\" class=\"data row2 col8\" >0,36</td>\n      <td id=\"T_54f0b_row2_col9\" class=\"data row2 col9\" >0,11</td>\n      <td id=\"T_54f0b_row2_col10\" class=\"data row2 col10\" >0,34</td>\n      <td id=\"T_54f0b_row2_col11\" class=\"data row2 col11\" >0,12</td>\n      <td id=\"T_54f0b_row2_col12\" class=\"data row2 col12\" >0,15</td>\n    </tr>\n    <tr>\n      <th id=\"T_54f0b_level0_row3\" class=\"row_heading level0 row3\" >Emballages de bonbons</th>\n      <td id=\"T_54f0b_row3_col0\" class=\"data row3 col0\" >0,43</td>\n      <td id=\"T_54f0b_row3_col1\" class=\"data row3 col1\" >0,00</td>\n      <td id=\"T_54f0b_row3_col2\" class=\"data row3 col2\" >0,08</td>\n      <td id=\"T_54f0b_row3_col3\" class=\"data row3 col3\" >0,43</td>\n      <td id=\"T_54f0b_row3_col4\" class=\"data row3 col4\" >0,24</td>\n      <td id=\"T_54f0b_row3_col5\" class=\"data row3 col5\" >0,05</td>\n      <td id=\"T_54f0b_row3_col6\" class=\"data row3 col6\" >0,00</td>\n      <td id=\"T_54f0b_row3_col7\" class=\"data row3 col7\" >0,13</td>\n      <td id=\"T_54f0b_row3_col8\" class=\"data row3 col8\" >0,16</td>\n      <td id=\"T_54f0b_row3_col9\" class=\"data row3 col9\" >0,00</td>\n      <td id=\"T_54f0b_row3_col10\" class=\"data row3 col10\" >1,67</td>\n      <td id=\"T_54f0b_row3_col11\" class=\"data row3 col11\" >0,02</td>\n      <td id=\"T_54f0b_row3_col12\" class=\"data row3 col12\" >0,15</td>\n    </tr>\n    <tr>\n      <th id=\"T_54f0b_level0_row4\" class=\"row_heading level0 row4\" >Bâtonnets de sucette</th>\n      <td id=\"T_54f0b_row4_col0\" class=\"data row4 col0\" >0,12</td>\n      <td id=\"T_54f0b_row4_col1\" class=\"data row4 col1\" >0,01</td>\n      <td id=\"T_54f0b_row4_col2\" class=\"data row4 col2\" >0,01</td>\n      <td id=\"T_54f0b_row4_col3\" class=\"data row4 col3\" >0,15</td>\n      <td id=\"T_54f0b_row4_col4\" class=\"data row4 col4\" >0,05</td>\n      <td id=\"T_54f0b_row4_col5\" class=\"data row4 col5\" >0,00</td>\n      <td id=\"T_54f0b_row4_col6\" class=\"data row4 col6\" >0,00</td>\n      <td id=\"T_54f0b_row4_col7\" class=\"data row4 col7\" >0,06</td>\n      <td id=\"T_54f0b_row4_col8\" class=\"data row4 col8\" >0,00</td>\n      <td id=\"T_54f0b_row4_col9\" class=\"data row4 col9\" >0,00</td>\n      <td id=\"T_54f0b_row4_col10\" class=\"data row4 col10\" >0,00</td>\n      <td id=\"T_54f0b_row4_col11\" class=\"data row4 col11\" >0,00</td>\n      <td id=\"T_54f0b_row4_col12\" class=\"data row4 col12\" >0,02</td>\n    </tr>\n    <tr>\n      <th id=\"T_54f0b_level0_row5\" class=\"row_heading level0 row5\" >Mousse pour l'isolation</th>\n      <td id=\"T_54f0b_row5_col0\" class=\"data row5 col0\" >0,02</td>\n      <td id=\"T_54f0b_row5_col1\" class=\"data row5 col1\" >0,00</td>\n      <td id=\"T_54f0b_row5_col2\" class=\"data row5 col2\" >0,00</td>\n      <td id=\"T_54f0b_row5_col3\" class=\"data row5 col3\" >0,02</td>\n      <td id=\"T_54f0b_row5_col4\" class=\"data row5 col4\" >0,31</td>\n      <td id=\"T_54f0b_row5_col5\" class=\"data row5 col5\" >0,00</td>\n      <td id=\"T_54f0b_row5_col6\" class=\"data row5 col6\" >0,00</td>\n      <td id=\"T_54f0b_row5_col7\" class=\"data row5 col7\" >0,00</td>\n      <td id=\"T_54f0b_row5_col8\" class=\"data row5 col8\" >0,01</td>\n      <td id=\"T_54f0b_row5_col9\" class=\"data row5 col9\" >0,00</td>\n      <td id=\"T_54f0b_row5_col10\" class=\"data row5 col10\" >0,68</td>\n      <td id=\"T_54f0b_row5_col11\" class=\"data row5 col11\" >0,00</td>\n      <td id=\"T_54f0b_row5_col12\" class=\"data row5 col12\" >0,00</td>\n    </tr>\n    <tr>\n      <th id=\"T_54f0b_level0_row6\" class=\"row_heading level0 row6\" >Déchets de construction</th>\n      <td id=\"T_54f0b_row6_col0\" class=\"data row6 col0\" >0,00</td>\n      <td id=\"T_54f0b_row6_col1\" class=\"data row6 col1\" >0,00</td>\n      <td id=\"T_54f0b_row6_col2\" class=\"data row6 col2\" >0,00</td>\n      <td id=\"T_54f0b_row6_col3\" class=\"data row6 col3\" >0,49</td>\n      <td id=\"T_54f0b_row6_col4\" class=\"data row6 col4\" >0,02</td>\n      <td id=\"T_54f0b_row6_col5\" class=\"data row6 col5\" >0,00</td>\n      <td id=\"T_54f0b_row6_col6\" class=\"data row6 col6\" >0,00</td>\n      <td id=\"T_54f0b_row6_col7\" class=\"data row6 col7\" >0,00</td>\n      <td id=\"T_54f0b_row6_col8\" class=\"data row6 col8\" >0,01</td>\n      <td id=\"T_54f0b_row6_col9\" class=\"data row6 col9\" >0,00</td>\n      <td id=\"T_54f0b_row6_col10\" class=\"data row6 col10\" >0,24</td>\n      <td id=\"T_54f0b_row6_col11\" class=\"data row6 col11\" >0,00</td>\n      <td id=\"T_54f0b_row6_col12\" class=\"data row6 col12\" >0,00</td>\n    </tr>\n    <tr>\n      <th id=\"T_54f0b_level0_row7\" class=\"row_heading level0 row7\" >Coton-tige</th>\n      <td id=\"T_54f0b_row7_col0\" class=\"data row7 col0\" >0,70</td>\n      <td id=\"T_54f0b_row7_col1\" class=\"data row7 col1\" >0,02</td>\n      <td id=\"T_54f0b_row7_col2\" class=\"data row7 col2\" >0,00</td>\n      <td id=\"T_54f0b_row7_col3\" class=\"data row7 col3\" >0,19</td>\n      <td id=\"T_54f0b_row7_col4\" class=\"data row7 col4\" >0,27</td>\n      <td id=\"T_54f0b_row7_col5\" class=\"data row7 col5\" >0,00</td>\n      <td id=\"T_54f0b_row7_col6\" class=\"data row7 col6\" >0,00</td>\n      <td id=\"T_54f0b_row7_col7\" class=\"data row7 col7\" >0,00</td>\n      <td id=\"T_54f0b_row7_col8\" class=\"data row7 col8\" >0,01</td>\n      <td id=\"T_54f0b_row7_col9\" class=\"data row7 col9\" >0,02</td>\n      <td id=\"T_54f0b_row7_col10\" class=\"data row7 col10\" >0,55</td>\n      <td id=\"T_54f0b_row7_col11\" class=\"data row7 col11\" >0,00</td>\n      <td id=\"T_54f0b_row7_col12\" class=\"data row7 col12\" >0,03</td>\n    </tr>\n    <tr>\n      <th id=\"T_54f0b_level0_row8\" class=\"row_heading level0 row8\" >Couvercles en plastique</th>\n      <td id=\"T_54f0b_row8_col0\" class=\"data row8 col0\" >0,65</td>\n      <td id=\"T_54f0b_row8_col1\" class=\"data row8 col1\" >0,00</td>\n      <td id=\"T_54f0b_row8_col2\" class=\"data row8 col2\" >0,07</td>\n      <td id=\"T_54f0b_row8_col3\" class=\"data row8 col3\" >0,41</td>\n      <td id=\"T_54f0b_row8_col4\" class=\"data row8 col4\" >0,05</td>\n      <td id=\"T_54f0b_row8_col5\" class=\"data row8 col5\" >0,00</td>\n      <td id=\"T_54f0b_row8_col6\" class=\"data row8 col6\" >0,06</td>\n      <td id=\"T_54f0b_row8_col7\" class=\"data row8 col7\" >0,06</td>\n      <td id=\"T_54f0b_row8_col8\" class=\"data row8 col8\" >0,06</td>\n      <td id=\"T_54f0b_row8_col9\" class=\"data row8 col9\" >0,00</td>\n      <td id=\"T_54f0b_row8_col10\" class=\"data row8 col10\" >0,33</td>\n      <td id=\"T_54f0b_row8_col11\" class=\"data row8 col11\" >0,00</td>\n      <td id=\"T_54f0b_row8_col12\" class=\"data row8 col12\" >0,04</td>\n    </tr>\n    <tr>\n      <th id=\"T_54f0b_level0_row9\" class=\"row_heading level0 row9\" >Fragments de polystyrène</th>\n      <td id=\"T_54f0b_row9_col0\" class=\"data row9 col0\" >0,45</td>\n      <td id=\"T_54f0b_row9_col1\" class=\"data row9 col1\" >0,01</td>\n      <td id=\"T_54f0b_row9_col2\" class=\"data row9 col2\" >0,03</td>\n      <td id=\"T_54f0b_row9_col3\" class=\"data row9 col3\" >0,30</td>\n      <td id=\"T_54f0b_row9_col4\" class=\"data row9 col4\" >0,21</td>\n      <td id=\"T_54f0b_row9_col5\" class=\"data row9 col5\" >0,00</td>\n      <td id=\"T_54f0b_row9_col6\" class=\"data row9 col6\" >0,00</td>\n      <td id=\"T_54f0b_row9_col7\" class=\"data row9 col7\" >0,09</td>\n      <td id=\"T_54f0b_row9_col8\" class=\"data row9 col8\" >0,04</td>\n      <td id=\"T_54f0b_row9_col9\" class=\"data row9 col9\" >0,48</td>\n      <td id=\"T_54f0b_row9_col10\" class=\"data row9 col10\" >1,31</td>\n      <td id=\"T_54f0b_row9_col11\" class=\"data row9 col11\" >0,00</td>\n      <td id=\"T_54f0b_row9_col12\" class=\"data row9 col12\" >0,07</td>\n    </tr>\n    <tr>\n      <th id=\"T_54f0b_level0_row10\" class=\"row_heading level0 row10\" >Fragments de plastique > 5 mm</th>\n      <td id=\"T_54f0b_row10_col0\" class=\"data row10 col0\" >2,82</td>\n      <td id=\"T_54f0b_row10_col1\" class=\"data row10 col1\" >0,30</td>\n      <td id=\"T_54f0b_row10_col2\" class=\"data row10 col2\" >0,24</td>\n      <td id=\"T_54f0b_row10_col3\" class=\"data row10 col3\" >2,18</td>\n      <td id=\"T_54f0b_row10_col4\" class=\"data row10 col4\" >1,34</td>\n      <td id=\"T_54f0b_row10_col5\" class=\"data row10 col5\" >0,14</td>\n      <td id=\"T_54f0b_row10_col6\" class=\"data row10 col6\" >0,14</td>\n      <td id=\"T_54f0b_row10_col7\" class=\"data row10 col7\" >5,17</td>\n      <td id=\"T_54f0b_row10_col8\" class=\"data row10 col8\" >0,84</td>\n      <td id=\"T_54f0b_row10_col9\" class=\"data row10 col9\" >0,63</td>\n      <td id=\"T_54f0b_row10_col10\" class=\"data row10 col10\" >5,79</td>\n      <td id=\"T_54f0b_row10_col11\" class=\"data row10 col11\" >0,25</td>\n      <td id=\"T_54f0b_row10_col12\" class=\"data row10 col12\" >0,72</td>\n    </tr>\n  </tbody>\n</table>\n</div>",
      "application/papermill.record/text/plain": "<IPython.core.display.HTML object>"
     },
     "metadata": {
      "scrapbook": {
       "mime_prefix": "application/papermill.record/",
       "name": "figure_eighta"
      }
     },
     "output_type": "display_data"
    },
    {
     "data": {
      "application/papermill.record/text/html": "<style type=\"text/css\">\n#T_49d4a tr:nth-child(even) {\n  background-color: rgba(139, 69, 19, 0.08);\n}\n#T_49d4a tr:nth-child(odd) {\n  background: #FFF;\n}\n#T_49d4a tr {\n  font-size: 14px;\n  padding: 6px;\n}\n#T_49d4a th:nth-child(1) {\n  background-color: #FFF;\n  white-space: nowrap;\n  word-break: keep-all;\n}\n#T_49d4a caption {\n  caption-side: top;\n  font-size: 12px;\n  text-align: left;\n  margin-top: 12px;\n}\n#T_49d4a_row0_col0, #T_49d4a_row0_col1, #T_49d4a_row0_col3, #T_49d4a_row0_col6, #T_49d4a_row0_col7, #T_49d4a_row0_col9, #T_49d4a_row0_col10, #T_49d4a_row0_col12, #T_49d4a_row1_col0, #T_49d4a_row1_col1, #T_49d4a_row1_col2, #T_49d4a_row1_col4, #T_49d4a_row1_col5, #T_49d4a_row1_col6, #T_49d4a_row1_col7, #T_49d4a_row1_col8, #T_49d4a_row1_col9, #T_49d4a_row1_col10, #T_49d4a_row1_col12, #T_49d4a_row2_col1, #T_49d4a_row2_col7, #T_49d4a_row2_col9, #T_49d4a_row3_col2, #T_49d4a_row4_col2, #T_49d4a_row4_col9, #T_49d4a_row4_col10, #T_49d4a_row5_col0, #T_49d4a_row5_col1, #T_49d4a_row5_col3, #T_49d4a_row5_col4, #T_49d4a_row5_col6, #T_49d4a_row5_col7, #T_49d4a_row5_col8, #T_49d4a_row5_col10, #T_49d4a_row5_col12, #T_49d4a_row6_col1, #T_49d4a_row6_col2, #T_49d4a_row6_col4, #T_49d4a_row6_col6, #T_49d4a_row6_col7, #T_49d4a_row6_col8, #T_49d4a_row6_col9, #T_49d4a_row6_col10, #T_49d4a_row6_col11, #T_49d4a_row6_col12, #T_49d4a_row7_col1, #T_49d4a_row7_col4, #T_49d4a_row7_col7, #T_49d4a_row7_col10, #T_49d4a_row8_col2, #T_49d4a_row8_col7, #T_49d4a_row8_col8, #T_49d4a_row9_col10 {\n  background-color: rgba(255,255,255, .5);\n  color: black;\n}\n#T_49d4a_row0_col2, #T_49d4a_row8_col1 {\n  background-color: rgba(244,244,244, .5);\n  color: black;\n}\n#T_49d4a_row0_col4 {\n  background-color: rgba(253,177,113, .5);\n  color: black;\n}\n#T_49d4a_row0_col5, #T_49d4a_row0_col8, #T_49d4a_row4_col0, #T_49d4a_row5_col2, #T_49d4a_row7_col2 {\n  background-color: rgba(249,249,249, .5);\n  color: black;\n}\n#T_49d4a_row0_col11 {\n  background-color: rgba(179,179,179, .5);\n  color: black;\n}\n#T_49d4a_row1_col3 {\n  background-color: rgba(191,62,2, .5);\n  color: black;\n}\n#T_49d4a_row1_col11 {\n  background-color: rgba(199,199,199, .5);\n  color: black;\n}\n#T_49d4a_row2_col0, #T_49d4a_row5_col9 {\n  background-color: rgba(228,228,228, .5);\n  color: black;\n}\n#T_49d4a_row2_col2 {\n  background-color: rgba(230,230,230, .5);\n  color: black;\n}\n#T_49d4a_row2_col3 {\n  background-color: rgba(22,22,22, .5);\n  color: black;\n}\n#T_49d4a_row2_col4 {\n  background-color: rgba(253,147,69, .5);\n  color: black;\n}\n#T_49d4a_row2_col5 {\n  background-color: rgba(75,75,75, .5);\n  color: black;\n}\n#T_49d4a_row2_col6 {\n  background-color: rgba(173,173,173, .5);\n  color: black;\n}\n#T_49d4a_row2_col8 {\n  background-color: rgba(253,217,180, .5);\n  color: black;\n}\n#T_49d4a_row2_col10, #T_49d4a_row8_col12 {\n  background-color: rgba(245,245,245, .5);\n  color: black;\n}\n#T_49d4a_row2_col11, #T_49d4a_row10_col1, #T_49d4a_row10_col3, #T_49d4a_row10_col4, #T_49d4a_row10_col5, #T_49d4a_row10_col9, #T_49d4a_row10_col11 {\n  background-color: rgba(127,39,4, .5);\n  color: black;\n}\n#T_49d4a_row2_col12 {\n  background-color: rgba(198,198,198, .5);\n  color: black;\n}\n#T_49d4a_row3_col0 {\n  background-color: rgba(95,95,95, .5);\n  color: black;\n}\n#T_49d4a_row3_col1, #T_49d4a_row9_col8 {\n  background-color: rgba(242,242,242, .5);\n  color: black;\n}\n#T_49d4a_row3_col3 {\n  background-color: rgba(125,125,125, .5);\n  color: black;\n}\n#T_49d4a_row3_col4 {\n  background-color: rgba(157,157,157, .5);\n  color: black;\n}\n#T_49d4a_row3_col5 {\n  background-color: rgba(253,173,105, .5);\n  color: black;\n}\n#T_49d4a_row3_col6 {\n  background-color: rgba(109,109,109, .5);\n  color: black;\n}\n#T_49d4a_row3_col7 {\n  background-color: rgba(223,223,223, .5);\n  color: black;\n}\n#T_49d4a_row3_col8 {\n  background-color: rgba(221,221,221, .5);\n  color: black;\n}\n#T_49d4a_row3_col9, #T_49d4a_row9_col2 {\n  background-color: rgba(167,167,167, .5);\n  color: black;\n}\n#T_49d4a_row3_col10, #T_49d4a_row10_col10 {\n  background-color: rgba(241,241,241, .5);\n  color: black;\n}\n#T_49d4a_row3_col11 {\n  background-color: rgba(253,152,76, .5);\n  color: black;\n}\n#T_49d4a_row3_col12, #T_49d4a_row7_col6, #T_49d4a_row9_col5 {\n  background-color: rgba(200,200,200, .5);\n  color: black;\n}\n#T_49d4a_row4_col1 {\n  background-color: rgba(134,134,134, .5);\n  color: black;\n}\n#T_49d4a_row4_col3, #T_49d4a_row4_col4, #T_49d4a_row8_col4 {\n  background-color: rgba(252,252,252, .5);\n  color: black;\n}\n#T_49d4a_row4_col5, #T_49d4a_row5_col5, #T_49d4a_row8_col9 {\n  background-color: rgba(232,232,232, .5);\n  color: black;\n}\n#T_49d4a_row4_col6, #T_49d4a_row8_col0 {\n  background-color: rgba(233,233,233, .5);\n  color: black;\n}\n#T_49d4a_row4_col7, #T_49d4a_row6_col3, #T_49d4a_row8_col10, #T_49d4a_row9_col7, #T_49d4a_row9_col11 {\n  background-color: rgba(251,251,251, .5);\n  color: black;\n}\n#T_49d4a_row4_col8, #T_49d4a_row4_col12, #T_49d4a_row9_col6 {\n  background-color: rgba(250,250,250, .5);\n  color: black;\n}\n#T_49d4a_row4_col11 {\n  background-color: rgba(237,237,237, .5);\n  color: black;\n}\n#T_49d4a_row5_col11 {\n  background-color: rgba(239,239,239, .5);\n  color: black;\n}\n#T_49d4a_row6_col0, #T_49d4a_row6_col5, #T_49d4a_row7_col8, #T_49d4a_row9_col9 {\n  background-color: rgba(253,253,253, .5);\n  color: black;\n}\n#T_49d4a_row7_col0, #T_49d4a_row8_col6 {\n  background-color: rgba(205,205,205, .5);\n  color: black;\n}\n#T_49d4a_row7_col3 {\n  background-color: rgba(238,238,238, .5);\n  color: black;\n}\n#T_49d4a_row7_col5 {\n  background-color: rgba(146,146,146, .5);\n  color: black;\n}\n#T_49d4a_row7_col9 {\n  background-color: rgba(197,197,197, .5);\n  color: black;\n}\n#T_49d4a_row7_col11 {\n  background-color: rgba(106,106,106, .5);\n  color: black;\n}\n#T_49d4a_row7_col12 {\n  background-color: rgba(246,246,246, .5);\n  color: black;\n}\n#T_49d4a_row8_col3 {\n  background-color: rgba(247,247,247, .5);\n  color: black;\n}\n#T_49d4a_row8_col5 {\n  background-color: rgba(98,98,98, .5);\n  color: black;\n}\n#T_49d4a_row8_col11 {\n  background-color: rgba(192,192,192, .5);\n  color: black;\n}\n#T_49d4a_row9_col0 {\n  background-color: rgba(254,241,227, .5);\n  color: black;\n}\n#T_49d4a_row9_col1 {\n  background-color: rgba(225,225,225, .5);\n  color: black;\n}\n#T_49d4a_row9_col3 {\n  background-color: rgba(178,178,178, .5);\n  color: black;\n}\n#T_49d4a_row9_col4 {\n  background-color: rgba(191,191,191, .5);\n  color: black;\n}\n#T_49d4a_row9_col12 {\n  background-color: rgba(236,236,236, .5);\n  color: black;\n}\n#T_49d4a_row10_col0 {\n  background-color: rgba(254,233,212, .5);\n  color: black;\n}\n#T_49d4a_row10_col2 {\n  background-color: rgba(181,181,181, .5);\n  color: black;\n}\n#T_49d4a_row10_col6 {\n  background-color: rgba(219,75,2, .5);\n  color: black;\n}\n#T_49d4a_row10_col7 {\n  background-color: rgba(161,161,161, .5);\n  color: black;\n}\n#T_49d4a_row10_col8 {\n  background-color: rgba(99,99,99, .5);\n  color: black;\n}\n#T_49d4a_row10_col12 {\n  background-color: rgba(244,115,30, .5);\n  color: black;\n}\n</style>\n<div style=\"max-width: 800px; overflow: scroll;\">\n<table id=\"T_49d4a\">\n  <thead>\n    <tr>\n      <th class=\"blank level0\" >&nbsp;</th>\n      <th id=\"T_49d4a_level0_col0\" class=\"col_heading level0 col0\" >Lugrin</th>\n      <th id=\"T_49d4a_level0_col1\" class=\"col_heading level0 col1\" >Lutry</th>\n      <th id=\"T_49d4a_level0_col2\" class=\"col_heading level0 col2\" >Meillerie</th>\n      <th id=\"T_49d4a_level0_col3\" class=\"col_heading level0 col3\" >Préverenges</th>\n      <th id=\"T_49d4a_level0_col4\" class=\"col_heading level0 col4\" >Rolle</th>\n      <th id=\"T_49d4a_level0_col5\" class=\"col_heading level0 col5\" >Saint-Disdille</th>\n      <th id=\"T_49d4a_level0_col6\" class=\"col_heading level0 col6\" >Savonière</th>\n      <th id=\"T_49d4a_level0_col7\" class=\"col_heading level0 col7\" >Tolochenaz</th>\n      <th id=\"T_49d4a_level0_col8\" class=\"col_heading level0 col8\" >Tougues</th>\n      <th id=\"T_49d4a_level0_col9\" class=\"col_heading level0 col9\" >Versoix</th>\n      <th id=\"T_49d4a_level0_col10\" class=\"col_heading level0 col10\" >Vevey</th>\n      <th id=\"T_49d4a_level0_col11\" class=\"col_heading level0 col11\" >Vidy</th>\n      <th id=\"T_49d4a_level0_col12\" class=\"col_heading level0 col12\" >Léman</th>\n    </tr>\n  </thead>\n  <tbody>\n    <tr>\n      <th id=\"T_49d4a_level0_row0\" class=\"row_heading level0 row0\" >Fragments plastique < 5 mm</th>\n      <td id=\"T_49d4a_row0_col0\" class=\"data row0 col0\" >0,00</td>\n      <td id=\"T_49d4a_row0_col1\" class=\"data row0 col1\" >0,00</td>\n      <td id=\"T_49d4a_row0_col2\" class=\"data row0 col2\" >0,04</td>\n      <td id=\"T_49d4a_row0_col3\" class=\"data row0 col3\" >0,00</td>\n      <td id=\"T_49d4a_row0_col4\" class=\"data row0 col4\" >0,61</td>\n      <td id=\"T_49d4a_row0_col5\" class=\"data row0 col5\" >0,02</td>\n      <td id=\"T_49d4a_row0_col6\" class=\"data row0 col6\" >0,00</td>\n      <td id=\"T_49d4a_row0_col7\" class=\"data row0 col7\" >0,00</td>\n      <td id=\"T_49d4a_row0_col8\" class=\"data row0 col8\" >0,02</td>\n      <td id=\"T_49d4a_row0_col9\" class=\"data row0 col9\" >0,00</td>\n      <td id=\"T_49d4a_row0_col10\" class=\"data row0 col10\" >0,00</td>\n      <td id=\"T_49d4a_row0_col11\" class=\"data row0 col11\" >0,18</td>\n      <td id=\"T_49d4a_row0_col12\" class=\"data row0 col12\" >0,00</td>\n    </tr>\n    <tr>\n      <th id=\"T_49d4a_level0_row1\" class=\"row_heading level0 row1\" >Pellets industriels (gpi)</th>\n      <td id=\"T_49d4a_row1_col0\" class=\"data row1 col0\" >0,00</td>\n      <td id=\"T_49d4a_row1_col1\" class=\"data row1 col1\" >0,00</td>\n      <td id=\"T_49d4a_row1_col2\" class=\"data row1 col2\" >0,00</td>\n      <td id=\"T_49d4a_row1_col3\" class=\"data row1 col3\" >0,82</td>\n      <td id=\"T_49d4a_row1_col4\" class=\"data row1 col4\" >0,00</td>\n      <td id=\"T_49d4a_row1_col5\" class=\"data row1 col5\" >0,00</td>\n      <td id=\"T_49d4a_row1_col6\" class=\"data row1 col6\" >0,00</td>\n      <td id=\"T_49d4a_row1_col7\" class=\"data row1 col7\" >0,00</td>\n      <td id=\"T_49d4a_row1_col8\" class=\"data row1 col8\" >0,00</td>\n      <td id=\"T_49d4a_row1_col9\" class=\"data row1 col9\" >0,00</td>\n      <td id=\"T_49d4a_row1_col10\" class=\"data row1 col10\" >0,00</td>\n      <td id=\"T_49d4a_row1_col11\" class=\"data row1 col11\" >0,15</td>\n      <td id=\"T_49d4a_row1_col12\" class=\"data row1 col12\" >0,00</td>\n    </tr>\n    <tr>\n      <th id=\"T_49d4a_level0_row2\" class=\"row_heading level0 row2\" >Mégots et filtres à cigarettes</th>\n      <td id=\"T_49d4a_row2_col0\" class=\"data row2 col0\" >0,09</td>\n      <td id=\"T_49d4a_row2_col1\" class=\"data row2 col1\" >0,00</td>\n      <td id=\"T_49d4a_row2_col2\" class=\"data row2 col2\" >0,08</td>\n      <td id=\"T_49d4a_row2_col3\" class=\"data row2 col3\" >0,42</td>\n      <td id=\"T_49d4a_row2_col4\" class=\"data row2 col4\" >0,66</td>\n      <td id=\"T_49d4a_row2_col5\" class=\"data row2 col5\" >0,34</td>\n      <td id=\"T_49d4a_row2_col6\" class=\"data row2 col6\" >0,19</td>\n      <td id=\"T_49d4a_row2_col7\" class=\"data row2 col7\" >0,00</td>\n      <td id=\"T_49d4a_row2_col8\" class=\"data row2 col8\" >0,54</td>\n      <td id=\"T_49d4a_row2_col9\" class=\"data row2 col9\" >0,00</td>\n      <td id=\"T_49d4a_row2_col10\" class=\"data row2 col10\" >0,04</td>\n      <td id=\"T_49d4a_row2_col11\" class=\"data row2 col11\" >1,58</td>\n      <td id=\"T_49d4a_row2_col12\" class=\"data row2 col12\" >0,15</td>\n    </tr>\n    <tr>\n      <th id=\"T_49d4a_level0_row3\" class=\"row_heading level0 row3\" >Emballages de bonbons</th>\n      <td id=\"T_49d4a_row3_col0\" class=\"data row3 col0\" >0,31</td>\n      <td id=\"T_49d4a_row3_col1\" class=\"data row3 col1\" >0,05</td>\n      <td id=\"T_49d4a_row3_col2\" class=\"data row3 col2\" >0,00</td>\n      <td id=\"T_49d4a_row3_col3\" class=\"data row3 col3\" >0,26</td>\n      <td id=\"T_49d4a_row3_col4\" class=\"data row3 col4\" >0,21</td>\n      <td id=\"T_49d4a_row3_col5\" class=\"data row3 col5\" >0,62</td>\n      <td id=\"T_49d4a_row3_col6\" class=\"data row3 col6\" >0,29</td>\n      <td id=\"T_49d4a_row3_col7\" class=\"data row3 col7\" >0,10</td>\n      <td id=\"T_49d4a_row3_col8\" class=\"data row3 col8\" >0,10</td>\n      <td id=\"T_49d4a_row3_col9\" class=\"data row3 col9\" >0,20</td>\n      <td id=\"T_49d4a_row3_col10\" class=\"data row3 col10\" >0,05</td>\n      <td id=\"T_49d4a_row3_col11\" class=\"data row3 col11\" >0,65</td>\n      <td id=\"T_49d4a_row3_col12\" class=\"data row3 col12\" >0,15</td>\n    </tr>\n    <tr>\n      <th id=\"T_49d4a_level0_row4\" class=\"row_heading level0 row4\" >Bâtonnets de sucette</th>\n      <td id=\"T_49d4a_row4_col0\" class=\"data row4 col0\" >0,02</td>\n      <td id=\"T_49d4a_row4_col1\" class=\"data row4 col1\" >0,25</td>\n      <td id=\"T_49d4a_row4_col2\" class=\"data row4 col2\" >0,00</td>\n      <td id=\"T_49d4a_row4_col3\" class=\"data row4 col3\" >0,01</td>\n      <td id=\"T_49d4a_row4_col4\" class=\"data row4 col4\" >0,01</td>\n      <td id=\"T_49d4a_row4_col5\" class=\"data row4 col5\" >0,08</td>\n      <td id=\"T_49d4a_row4_col6\" class=\"data row4 col6\" >0,07</td>\n      <td id=\"T_49d4a_row4_col7\" class=\"data row4 col7\" >0,01</td>\n      <td id=\"T_49d4a_row4_col8\" class=\"data row4 col8\" >0,02</td>\n      <td id=\"T_49d4a_row4_col9\" class=\"data row4 col9\" >0,00</td>\n      <td id=\"T_49d4a_row4_col10\" class=\"data row4 col10\" >0,00</td>\n      <td id=\"T_49d4a_row4_col11\" class=\"data row4 col11\" >0,06</td>\n      <td id=\"T_49d4a_row4_col12\" class=\"data row4 col12\" >0,02</td>\n    </tr>\n    <tr>\n      <th id=\"T_49d4a_level0_row5\" class=\"row_heading level0 row5\" >Mousse pour l'isolation</th>\n      <td id=\"T_49d4a_row5_col0\" class=\"data row5 col0\" >0,00</td>\n      <td id=\"T_49d4a_row5_col1\" class=\"data row5 col1\" >0,00</td>\n      <td id=\"T_49d4a_row5_col2\" class=\"data row5 col2\" >0,02</td>\n      <td id=\"T_49d4a_row5_col3\" class=\"data row5 col3\" >0,00</td>\n      <td id=\"T_49d4a_row5_col4\" class=\"data row5 col4\" >0,00</td>\n      <td id=\"T_49d4a_row5_col5\" class=\"data row5 col5\" >0,07</td>\n      <td id=\"T_49d4a_row5_col6\" class=\"data row5 col6\" >0,00</td>\n      <td id=\"T_49d4a_row5_col7\" class=\"data row5 col7\" >0,00</td>\n      <td id=\"T_49d4a_row5_col8\" class=\"data row5 col8\" >0,00</td>\n      <td id=\"T_49d4a_row5_col9\" class=\"data row5 col9\" >0,08</td>\n      <td id=\"T_49d4a_row5_col10\" class=\"data row5 col10\" >0,00</td>\n      <td id=\"T_49d4a_row5_col11\" class=\"data row5 col11\" >0,06</td>\n      <td id=\"T_49d4a_row5_col12\" class=\"data row5 col12\" >0,00</td>\n    </tr>\n    <tr>\n      <th id=\"T_49d4a_level0_row6\" class=\"row_heading level0 row6\" >Déchets de construction</th>\n      <td id=\"T_49d4a_row6_col0\" class=\"data row6 col0\" >0,01</td>\n      <td id=\"T_49d4a_row6_col1\" class=\"data row6 col1\" >0,00</td>\n      <td id=\"T_49d4a_row6_col2\" class=\"data row6 col2\" >0,00</td>\n      <td id=\"T_49d4a_row6_col3\" class=\"data row6 col3\" >0,01</td>\n      <td id=\"T_49d4a_row6_col4\" class=\"data row6 col4\" >0,00</td>\n      <td id=\"T_49d4a_row6_col5\" class=\"data row6 col5\" >0,01</td>\n      <td id=\"T_49d4a_row6_col6\" class=\"data row6 col6\" >0,00</td>\n      <td id=\"T_49d4a_row6_col7\" class=\"data row6 col7\" >0,00</td>\n      <td id=\"T_49d4a_row6_col8\" class=\"data row6 col8\" >0,00</td>\n      <td id=\"T_49d4a_row6_col9\" class=\"data row6 col9\" >0,00</td>\n      <td id=\"T_49d4a_row6_col10\" class=\"data row6 col10\" >0,00</td>\n      <td id=\"T_49d4a_row6_col11\" class=\"data row6 col11\" >0,00</td>\n      <td id=\"T_49d4a_row6_col12\" class=\"data row6 col12\" >0,00</td>\n    </tr>\n    <tr>\n      <th id=\"T_49d4a_level0_row7\" class=\"row_heading level0 row7\" >Coton-tige</th>\n      <td id=\"T_49d4a_row7_col0\" class=\"data row7 col0\" >0,14</td>\n      <td id=\"T_49d4a_row7_col1\" class=\"data row7 col1\" >0,00</td>\n      <td id=\"T_49d4a_row7_col2\" class=\"data row7 col2\" >0,02</td>\n      <td id=\"T_49d4a_row7_col3\" class=\"data row7 col3\" >0,06</td>\n      <td id=\"T_49d4a_row7_col4\" class=\"data row7 col4\" >0,00</td>\n      <td id=\"T_49d4a_row7_col5\" class=\"data row7 col5\" >0,23</td>\n      <td id=\"T_49d4a_row7_col6\" class=\"data row7 col6\" >0,15</td>\n      <td id=\"T_49d4a_row7_col7\" class=\"data row7 col7\" >0,00</td>\n      <td id=\"T_49d4a_row7_col8\" class=\"data row7 col8\" >0,00</td>\n      <td id=\"T_49d4a_row7_col9\" class=\"data row7 col9\" >0,15</td>\n      <td id=\"T_49d4a_row7_col10\" class=\"data row7 col10\" >0,00</td>\n      <td id=\"T_49d4a_row7_col11\" class=\"data row7 col11\" >0,30</td>\n      <td id=\"T_49d4a_row7_col12\" class=\"data row7 col12\" >0,03</td>\n    </tr>\n    <tr>\n      <th id=\"T_49d4a_level0_row8\" class=\"row_heading level0 row8\" >Couvercles en plastique</th>\n      <td id=\"T_49d4a_row8_col0\" class=\"data row8 col0\" >0,07</td>\n      <td id=\"T_49d4a_row8_col1\" class=\"data row8 col1\" >0,04</td>\n      <td id=\"T_49d4a_row8_col2\" class=\"data row8 col2\" >0,00</td>\n      <td id=\"T_49d4a_row8_col3\" class=\"data row8 col3\" >0,03</td>\n      <td id=\"T_49d4a_row8_col4\" class=\"data row8 col4\" >0,01</td>\n      <td id=\"T_49d4a_row8_col5\" class=\"data row8 col5\" >0,31</td>\n      <td id=\"T_49d4a_row8_col6\" class=\"data row8 col6\" >0,14</td>\n      <td id=\"T_49d4a_row8_col7\" class=\"data row8 col7\" >0,00</td>\n      <td id=\"T_49d4a_row8_col8\" class=\"data row8 col8\" >0,00</td>\n      <td id=\"T_49d4a_row8_col9\" class=\"data row8 col9\" >0,07</td>\n      <td id=\"T_49d4a_row8_col10\" class=\"data row8 col10\" >0,01</td>\n      <td id=\"T_49d4a_row8_col11\" class=\"data row8 col11\" >0,16</td>\n      <td id=\"T_49d4a_row8_col12\" class=\"data row8 col12\" >0,04</td>\n    </tr>\n    <tr>\n      <th id=\"T_49d4a_level0_row9\" class=\"row_heading level0 row9\" >Fragments de polystyrène</th>\n      <td id=\"T_49d4a_row9_col0\" class=\"data row9 col0\" >0,46</td>\n      <td id=\"T_49d4a_row9_col1\" class=\"data row9 col1\" >0,09</td>\n      <td id=\"T_49d4a_row9_col2\" class=\"data row9 col2\" >0,20</td>\n      <td id=\"T_49d4a_row9_col3\" class=\"data row9 col3\" >0,18</td>\n      <td id=\"T_49d4a_row9_col4\" class=\"data row9 col4\" >0,16</td>\n      <td id=\"T_49d4a_row9_col5\" class=\"data row9 col5\" >0,15</td>\n      <td id=\"T_49d4a_row9_col6\" class=\"data row9 col6\" >0,02</td>\n      <td id=\"T_49d4a_row9_col7\" class=\"data row9 col7\" >0,01</td>\n      <td id=\"T_49d4a_row9_col8\" class=\"data row9 col8\" >0,05</td>\n      <td id=\"T_49d4a_row9_col9\" class=\"data row9 col9\" >0,01</td>\n      <td id=\"T_49d4a_row9_col10\" class=\"data row9 col10\" >0,00</td>\n      <td id=\"T_49d4a_row9_col11\" class=\"data row9 col11\" >0,01</td>\n      <td id=\"T_49d4a_row9_col12\" class=\"data row9 col12\" >0,07</td>\n    </tr>\n    <tr>\n      <th id=\"T_49d4a_level0_row10\" class=\"row_heading level0 row10\" >Fragments de plastique > 5 mm</th>\n      <td id=\"T_49d4a_row10_col0\" class=\"data row10 col0\" >0,49</td>\n      <td id=\"T_49d4a_row10_col1\" class=\"data row10 col1\" >1,72</td>\n      <td id=\"T_49d4a_row10_col2\" class=\"data row10 col2\" >0,18</td>\n      <td id=\"T_49d4a_row10_col3\" class=\"data row10 col3\" >2,40</td>\n      <td id=\"T_49d4a_row10_col4\" class=\"data row10 col4\" >1,15</td>\n      <td id=\"T_49d4a_row10_col5\" class=\"data row10 col5\" >1,95</td>\n      <td id=\"T_49d4a_row10_col6\" class=\"data row10 col6\" >0,78</td>\n      <td id=\"T_49d4a_row10_col7\" class=\"data row10 col7\" >0,21</td>\n      <td id=\"T_49d4a_row10_col8\" class=\"data row10 col8\" >0,31</td>\n      <td id=\"T_49d4a_row10_col9\" class=\"data row10 col9\" >1,05</td>\n      <td id=\"T_49d4a_row10_col10\" class=\"data row10 col10\" >0,05</td>\n      <td id=\"T_49d4a_row10_col11\" class=\"data row10 col11\" >1,63</td>\n      <td id=\"T_49d4a_row10_col12\" class=\"data row10 col12\" >0,72</td>\n    </tr>\n  </tbody>\n</table>\n</div>",
      "application/papermill.record/text/plain": "<IPython.core.display.HTML object>"
     },
     "metadata": {
      "scrapbook": {
       "mime_prefix": "application/papermill.record/",
       "name": "figure_eightb"
      }
     },
     "output_type": "display_data"
    },
    {
     "data": {
      "application/papermill.record/text/html": "<style type=\"text/css\">\n#T_40f17 tr:nth-child(even) {\n  background-color: rgba(139, 69, 19, 0.08);\n}\n#T_40f17 tr:nth-child(odd) {\n  background: #FFF;\n}\n#T_40f17 tr {\n  font-size: 14px;\n  padding: 6px;\n}\n#T_40f17 th:nth-child(1) {\n  background-color: #FFF;\n  white-space: nowrap;\n  word-break: keep-all;\n}\n#T_40f17 caption {\n  caption-side: top;\n  font-size: 12px;\n  text-align: left;\n  margin-top: 12px;\n}\n#T_40f17_row0_col3, #T_40f17_row1_col3, #T_40f17_row2_col3, #T_40f17_row3_col3, #T_40f17_row4_col3, #T_40f17_row5_col3, #T_40f17_row6_col3, #T_40f17_row7_col4, #T_40f17_row8_col0 {\n  color: rgba(255, 0, 0, 1);\n}\n</style>\n<table id=\"T_40f17\">\n  <thead>\n    <tr>\n      <th class=\"blank level0\" >&nbsp;</th>\n      <th id=\"T_40f17_level0_col0\" class=\"col_heading level0 col0\" >MCBP</th>\n      <th id=\"T_40f17_level0_col1\" class=\"col_heading level0 col1\" >SLR</th>\n      <th id=\"T_40f17_level0_col2\" class=\"col_heading level0 col2\" >IQAASL</th>\n      <th id=\"T_40f17_level0_col3\" class=\"col_heading level0 col3\" >Solid-Waste-Team</th>\n      <th id=\"T_40f17_level0_col4\" class=\"col_heading level0 col4\" >Pla'stock</th>\n    </tr>\n  </thead>\n  <tbody>\n    <tr>\n      <th id=\"T_40f17_level0_row0\" class=\"row_heading level0 row0\" >Min</th>\n      <td id=\"T_40f17_row0_col0\" class=\"data row0 col0\" >0,38</td>\n      <td id=\"T_40f17_row0_col1\" class=\"data row0 col1\" >0,05</td>\n      <td id=\"T_40f17_row0_col2\" class=\"data row0 col2\" >0,16</td>\n      <td id=\"T_40f17_row0_col3\" class=\"data row0 col3\" >1,02</td>\n      <td id=\"T_40f17_row0_col4\" class=\"data row0 col4\" >0,10</td>\n    </tr>\n    <tr>\n      <th id=\"T_40f17_level0_row1\" class=\"row_heading level0 row1\" >25%</th>\n      <td id=\"T_40f17_row1_col0\" class=\"data row1 col0\" >2,50</td>\n      <td id=\"T_40f17_row1_col1\" class=\"data row1 col1\" >1,36</td>\n      <td id=\"T_40f17_row1_col2\" class=\"data row1 col2\" >1,81</td>\n      <td id=\"T_40f17_row1_col3\" class=\"data row1 col3\" >4,76</td>\n      <td id=\"T_40f17_row1_col4\" class=\"data row1 col4\" >0,78</td>\n    </tr>\n    <tr>\n      <th id=\"T_40f17_level0_row2\" class=\"row_heading level0 row2\" >50%</th>\n      <td id=\"T_40f17_row2_col0\" class=\"data row2 col0\" >4,39</td>\n      <td id=\"T_40f17_row2_col1\" class=\"data row2 col1\" >4,40</td>\n      <td id=\"T_40f17_row2_col2\" class=\"data row2 col2\" >3,73</td>\n      <td id=\"T_40f17_row2_col3\" class=\"data row2 col3\" >7,97</td>\n      <td id=\"T_40f17_row2_col4\" class=\"data row2 col4\" >2,00</td>\n    </tr>\n    <tr>\n      <th id=\"T_40f17_level0_row3\" class=\"row_heading level0 row3\" >75%</th>\n      <td id=\"T_40f17_row3_col0\" class=\"data row3 col0\" >8,16</td>\n      <td id=\"T_40f17_row3_col1\" class=\"data row3 col1\" >8,42</td>\n      <td id=\"T_40f17_row3_col2\" class=\"data row3 col2\" >7,29</td>\n      <td id=\"T_40f17_row3_col3\" class=\"data row3 col3\" >13,28</td>\n      <td id=\"T_40f17_row3_col4\" class=\"data row3 col4\" >4,57</td>\n    </tr>\n    <tr>\n      <th id=\"T_40f17_level0_row4\" class=\"row_heading level0 row4\" >Max</th>\n      <td id=\"T_40f17_row4_col0\" class=\"data row4 col0\" >47,37</td>\n      <td id=\"T_40f17_row4_col1\" class=\"data row4 col1\" >37,59</td>\n      <td id=\"T_40f17_row4_col2\" class=\"data row4 col2\" >59,99</td>\n      <td id=\"T_40f17_row4_col3\" class=\"data row4 col3\" >66,03</td>\n      <td id=\"T_40f17_row4_col4\" class=\"data row4 col4\" >18,26</td>\n    </tr>\n    <tr>\n      <th id=\"T_40f17_level0_row5\" class=\"row_heading level0 row5\" >Moyenne</th>\n      <td id=\"T_40f17_row5_col0\" class=\"data row5 col0\" >7,51</td>\n      <td id=\"T_40f17_row5_col1\" class=\"data row5 col1\" >6,56</td>\n      <td id=\"T_40f17_row5_col2\" class=\"data row5 col2\" >7,21</td>\n      <td id=\"T_40f17_row5_col3\" class=\"data row5 col3\" >13,10</td>\n      <td id=\"T_40f17_row5_col4\" class=\"data row5 col4\" >3,42</td>\n    </tr>\n    <tr>\n      <th id=\"T_40f17_level0_row6\" class=\"row_heading level0 row6\" >Écart-type</th>\n      <td id=\"T_40f17_row6_col0\" class=\"data row6 col0\" >8,75</td>\n      <td id=\"T_40f17_row6_col1\" class=\"data row6 col1\" >7,76</td>\n      <td id=\"T_40f17_row6_col2\" class=\"data row6 col2\" >10,47</td>\n      <td id=\"T_40f17_row6_col3\" class=\"data row6 col3\" >16,02</td>\n      <td id=\"T_40f17_row6_col4\" class=\"data row6 col4\" >3,66</td>\n    </tr>\n    <tr>\n      <th id=\"T_40f17_level0_row7\" class=\"row_heading level0 row7\" >Échantillons</th>\n      <td id=\"T_40f17_row7_col0\" class=\"data row7 col0\" >91</td>\n      <td id=\"T_40f17_row7_col1\" class=\"data row7 col1\" >44</td>\n      <td id=\"T_40f17_row7_col2\" class=\"data row7 col2\" >93</td>\n      <td id=\"T_40f17_row7_col3\" class=\"data row7 col3\" >20</td>\n      <td id=\"T_40f17_row7_col4\" class=\"data row7 col4\" >98</td>\n    </tr>\n    <tr>\n      <th id=\"T_40f17_level0_row8\" class=\"row_heading level0 row8\" >Total</th>\n      <td id=\"T_40f17_row8_col0\" class=\"data row8 col0\" >28'645</td>\n      <td id=\"T_40f17_row8_col1\" class=\"data row8 col1\" >8'864</td>\n      <td id=\"T_40f17_row8_col2\" class=\"data row8 col2\" >21'839</td>\n      <td id=\"T_40f17_row8_col3\" class=\"data row8 col3\" >8'173</td>\n      <td id=\"T_40f17_row8_col4\" class=\"data row8 col4\" >27'493</td>\n    </tr>\n  </tbody>\n</table>\n",
      "application/papermill.record/text/plain": "<IPython.core.display.HTML object>"
     },
     "metadata": {
      "scrapbook": {
       "mime_prefix": "application/papermill.record/",
       "name": "table_ten"
      }
     },
     "output_type": "display_data"
    },
    {
     "data": {
      "application/papermill.record/text/html": "<style type=\"text/css\">\n#T_2698e tr:nth-child(even) {\n  background-color: rgba(139, 69, 19, 0.08);\n}\n#T_2698e tr:nth-child(odd) {\n  background: #FFF;\n}\n#T_2698e tr {\n  font-size: 14px;\n  padding: 6px;\n}\n#T_2698e th:nth-child(1) {\n  background-color: #FFF;\n  white-space: nowrap;\n  word-break: keep-all;\n}\n#T_2698e caption {\n  caption-side: top;\n  font-size: 12px;\n  text-align: left;\n  margin-top: 12px;\n}\n</style>\n<table id=\"T_2698e\">\n  <thead>\n    <tr>\n      <th class=\"blank level0\" >&nbsp;</th>\n      <th id=\"T_2698e_level0_col0\" class=\"col_heading level0 col0\" >Auteurs</th>\n      <th id=\"T_2698e_level0_col1\" class=\"col_heading level0 col1\" >Lieu</th>\n      <th id=\"T_2698e_level0_col2\" class=\"col_heading level0 col2\" >Taille échantillonnée en mm</th>\n      <th id=\"T_2698e_level0_col3\" class=\"col_heading level0 col3\" >Moyenne particule/m2</th>\n      <th id=\"T_2698e_level0_col4\" class=\"col_heading level0 col4\" >Ecart type</th>\n      <th id=\"T_2698e_level0_col5\" class=\"col_heading level0 col5\" >Médiane</th>\n      <th id=\"T_2698e_level0_col6\" class=\"col_heading level0 col6\" >Min</th>\n      <th id=\"T_2698e_level0_col7\" class=\"col_heading level0 col7\" >Max</th>\n    </tr>\n  </thead>\n  <tbody>\n    <tr>\n      <th id=\"T_2698e_level0_row0\" class=\"row_heading level0 row0\" >0</th>\n      <td id=\"T_2698e_row0_col0\" class=\"data row0 col0\" >De Alencastro et Faure 2014</td>\n      <td id=\"T_2698e_row0_col1\" class=\"data row0 col1\" >Léman</td>\n      <td id=\"T_2698e_row0_col2\" class=\"data row0 col2\" >0,3-5</td>\n      <td id=\"T_2698e_row0_col3\" class=\"data row0 col3\" >2100</td>\n      <td id=\"T_2698e_row0_col4\" class=\"data row0 col4\" >2000</td>\n      <td id=\"T_2698e_row0_col5\" class=\"data row0 col5\" >1700</td>\n      <td id=\"T_2698e_row0_col6\" class=\"data row0 col6\" >78</td>\n      <td id=\"T_2698e_row0_col7\" class=\"data row0 col7\" >5000</td>\n    </tr>\n    <tr>\n      <th id=\"T_2698e_level0_row1\" class=\"row_heading level0 row1\" >1</th>\n      <td id=\"T_2698e_row1_col0\" class=\"data row1 col0\" >De Alencastro et Faure 2014</td>\n      <td id=\"T_2698e_row1_col1\" class=\"data row1 col1\" >Lacs suisses</td>\n      <td id=\"T_2698e_row1_col2\" class=\"data row1 col2\" >0,3-5</td>\n      <td id=\"T_2698e_row1_col3\" class=\"data row1 col3\" >1300</td>\n      <td id=\"T_2698e_row1_col4\" class=\"data row1 col4\" >2000</td>\n      <td id=\"T_2698e_row1_col5\" class=\"data row1 col5\" >270</td>\n      <td id=\"T_2698e_row1_col6\" class=\"data row1 col6\" >20</td>\n      <td id=\"T_2698e_row1_col7\" class=\"data row1 col7\" >7200</td>\n    </tr>\n    <tr>\n      <th id=\"T_2698e_level0_row2\" class=\"row_heading level0 row2\" >2</th>\n      <td id=\"T_2698e_row2_col0\" class=\"data row2 col0\" >De Alencastro et Faure 2014</td>\n      <td id=\"T_2698e_row2_col1\" class=\"data row2 col1\" >Constance</td>\n      <td id=\"T_2698e_row2_col2\" class=\"data row2 col2\" >0,3-5</td>\n      <td id=\"T_2698e_row2_col3\" class=\"data row2 col3\" >320</td>\n      <td id=\"T_2698e_row2_col4\" class=\"data row2 col4\" >220</td>\n      <td id=\"T_2698e_row2_col5\" class=\"data row2 col5\" >260</td>\n      <td id=\"T_2698e_row2_col6\" class=\"data row2 col6\" >140</td>\n      <td id=\"T_2698e_row2_col7\" class=\"data row2 col7\" >620</td>\n    </tr>\n    <tr>\n      <th id=\"T_2698e_level0_row3\" class=\"row_heading level0 row3\" >3</th>\n      <td id=\"T_2698e_row3_col0\" class=\"data row3 col0\" >De Alencastro et Faure 2014</td>\n      <td id=\"T_2698e_row3_col1\" class=\"data row3 col1\" >Neuchâtel</td>\n      <td id=\"T_2698e_row3_col2\" class=\"data row3 col2\" >0,3-5</td>\n      <td id=\"T_2698e_row3_col3\" class=\"data row3 col3\" >700</td>\n      <td id=\"T_2698e_row3_col4\" class=\"data row3 col4\" >1100</td>\n      <td id=\"T_2698e_row3_col5\" class=\"data row3 col5\" >220</td>\n      <td id=\"T_2698e_row3_col6\" class=\"data row3 col6\" >67</td>\n      <td id=\"T_2698e_row3_col7\" class=\"data row3 col7\" >2300</td>\n    </tr>\n    <tr>\n      <th id=\"T_2698e_level0_row4\" class=\"row_heading level0 row4\" >4</th>\n      <td id=\"T_2698e_row4_col0\" class=\"data row4 col0\" >De Alencastro et Faure 2014</td>\n      <td id=\"T_2698e_row4_col1\" class=\"data row4 col1\" >Majeur</td>\n      <td id=\"T_2698e_row4_col2\" class=\"data row4 col2\" >0,3-5</td>\n      <td id=\"T_2698e_row4_col3\" class=\"data row4 col3\" >1100</td>\n      <td id=\"T_2698e_row4_col4\" class=\"data row4 col4\" >2300</td>\n      <td id=\"T_2698e_row4_col5\" class=\"data row4 col5\" >180</td>\n      <td id=\"T_2698e_row4_col6\" class=\"data row4 col6\" >20</td>\n      <td id=\"T_2698e_row4_col7\" class=\"data row4 col7\" >6900</td>\n    </tr>\n    <tr>\n      <th id=\"T_2698e_level0_row5\" class=\"row_heading level0 row5\" >5</th>\n      <td id=\"T_2698e_row5_col0\" class=\"data row5 col0\" >De Alencastro et Faure 2014</td>\n      <td id=\"T_2698e_row5_col1\" class=\"data row5 col1\" >Zurich</td>\n      <td id=\"T_2698e_row5_col2\" class=\"data row5 col2\" >0,3-5</td>\n      <td id=\"T_2698e_row5_col3\" class=\"data row5 col3\" >460</td>\n      <td id=\"T_2698e_row5_col4\" class=\"data row5 col4\" >350</td>\n      <td id=\"T_2698e_row5_col5\" class=\"data row5 col5\" >480</td>\n      <td id=\"T_2698e_row5_col6\" class=\"data row5 col6\" >89</td>\n      <td id=\"T_2698e_row5_col7\" class=\"data row5 col7\" >800</td>\n    </tr>\n    <tr>\n      <th id=\"T_2698e_level0_row6\" class=\"row_heading level0 row6\" >6</th>\n      <td id=\"T_2698e_row6_col0\" class=\"data row6 col0\" >De Alencastro et Faure 2014</td>\n      <td id=\"T_2698e_row6_col1\" class=\"data row6 col1\" >Brienz</td>\n      <td id=\"T_2698e_row6_col2\" class=\"data row6 col2\" >0,3-5</td>\n      <td id=\"T_2698e_row6_col3\" class=\"data row6 col3\" >2500</td>\n      <td id=\"T_2698e_row6_col4\" class=\"data row6 col4\" >3000</td>\n      <td id=\"T_2698e_row6_col5\" class=\"data row6 col5\" >1200</td>\n      <td id=\"T_2698e_row6_col6\" class=\"data row6 col6\" >89</td>\n      <td id=\"T_2698e_row6_col7\" class=\"data row6 col7\" >7200</td>\n    </tr>\n    <tr>\n      <th id=\"T_2698e_level0_row7\" class=\"row_heading level0 row7\" >7</th>\n      <td id=\"T_2698e_row7_col0\" class=\"data row7 col0\" >Frei 2021</td>\n      <td id=\"T_2698e_row7_col1\" class=\"data row7 col1\" >Lugano</td>\n      <td id=\"T_2698e_row7_col2\" class=\"data row7 col2\" >0,3-5</td>\n      <td id=\"T_2698e_row7_col3\" class=\"data row7 col3\" >9044</td>\n      <td id=\"T_2698e_row7_col4\" class=\"data row7 col4\" >14494</td>\n      <td id=\"T_2698e_row7_col5\" class=\"data row7 col5\" >-</td>\n      <td id=\"T_2698e_row7_col6\" class=\"data row7 col6\" >733</td>\n      <td id=\"T_2698e_row7_col7\" class=\"data row7 col7\" >45600</td>\n    </tr>\n    <tr>\n      <th id=\"T_2698e_level0_row8\" class=\"row_heading level0 row8\" >8</th>\n      <td id=\"T_2698e_row8_col0\" class=\"data row8 col0\" >Constant et al. 2019</td>\n      <td id=\"T_2698e_row8_col1\" class=\"data row8 col1\" >Golf du Lion 1</td>\n      <td id=\"T_2698e_row8_col2\" class=\"data row8 col2\" >0,063-5</td>\n      <td id=\"T_2698e_row8_col3\" class=\"data row8 col3\" >1100</td>\n      <td id=\"T_2698e_row8_col4\" class=\"data row8 col4\" >1629</td>\n      <td id=\"T_2698e_row8_col5\" class=\"data row8 col5\" >-</td>\n      <td id=\"T_2698e_row8_col6\" class=\"data row8 col6\" >145</td>\n      <td id=\"T_2698e_row8_col7\" class=\"data row8 col7\" >4653</td>\n    </tr>\n    <tr>\n      <th id=\"T_2698e_level0_row9\" class=\"row_heading level0 row9\" >9</th>\n      <td id=\"T_2698e_row9_col0\" class=\"data row9 col0\" >Constant et al. 2019</td>\n      <td id=\"T_2698e_row9_col1\" class=\"data row9 col1\" >Golf du Lion 2</td>\n      <td id=\"T_2698e_row9_col2\" class=\"data row9 col2\" >0,063-5</td>\n      <td id=\"T_2698e_row9_col3\" class=\"data row9 col3\" >731</td>\n      <td id=\"T_2698e_row9_col4\" class=\"data row9 col4\" >528</td>\n      <td id=\"T_2698e_row9_col5\" class=\"data row9 col5\" >-</td>\n      <td id=\"T_2698e_row9_col6\" class=\"data row9 col6\" >298</td>\n      <td id=\"T_2698e_row9_col7\" class=\"data row9 col7\" >2258</td>\n    </tr>\n    <tr>\n      <th id=\"T_2698e_level0_row10\" class=\"row_heading level0 row10\" >10</th>\n      <td id=\"T_2698e_row10_col0\" class=\"data row10 col0\" >Constant et al. 2019</td>\n      <td id=\"T_2698e_row10_col1\" class=\"data row10 col1\" >Golf du Lion 3</td>\n      <td id=\"T_2698e_row10_col2\" class=\"data row10 col2\" >0,063-5</td>\n      <td id=\"T_2698e_row10_col3\" class=\"data row10 col3\" >254</td>\n      <td id=\"T_2698e_row10_col4\" class=\"data row10 col4\" >141</td>\n      <td id=\"T_2698e_row10_col5\" class=\"data row10 col5\" >-</td>\n      <td id=\"T_2698e_row10_col6\" class=\"data row10 col6\" >92</td>\n      <td id=\"T_2698e_row10_col7\" class=\"data row10 col7\" >567</td>\n    </tr>\n    <tr>\n      <th id=\"T_2698e_level0_row11\" class=\"row_heading level0 row11\" >11</th>\n      <td id=\"T_2698e_row11_col0\" class=\"data row11 col0\" >Constant et al. 2019</td>\n      <td id=\"T_2698e_row11_col1\" class=\"data row11 col1\" >Golf du Lion 4</td>\n      <td id=\"T_2698e_row11_col2\" class=\"data row11 col2\" >0,063-5</td>\n      <td id=\"T_2698e_row11_col3\" class=\"data row11 col3\" >290</td>\n      <td id=\"T_2698e_row11_col4\" class=\"data row11 col4\" >292</td>\n      <td id=\"T_2698e_row11_col5\" class=\"data row11 col5\" >-</td>\n      <td id=\"T_2698e_row11_col6\" class=\"data row11 col6\" >117</td>\n      <td id=\"T_2698e_row11_col7\" class=\"data row11 col7\" >1152</td>\n    </tr>\n  </tbody>\n</table>\n",
      "application/papermill.record/text/plain": "<pandas.io.formats.style.Styler at 0x78bc028bdbe0>"
     },
     "metadata": {
      "scrapbook": {
       "mime_prefix": "application/papermill.record/",
       "name": "previous_studies"
      }
     },
     "output_type": "display_data"
    }
   ],
   "source": [
    "with open('resources/tables/results_table_one.html', 'r') as file:\n",
    "    glue(\"table_one\", HTML(file.read()), display=False)\n",
    "\n",
    "with open('resources/tables/results_table_two.html', 'r') as file:\n",
    "    glue(\"table_two\", HTML(file.read()), display=False)\n",
    "\n",
    "with open('resources/tables/results_table_three.html', 'r') as file:\n",
    "    glue(\"table_three\", HTML(file.read()), display=False)\n",
    "\n",
    "with open('resources/tables/results_table_eight.html', 'r') as file:\n",
    "    glue(\"table_eight\", HTML(file.read()), display=False)\n",
    "\n",
    "with open('resources/tables/results_table_nine.html', 'r') as file:\n",
    "    glue(\"table_nine\", HTML(file.read()), display=False)\n",
    "\n",
    "with open('resources/charts/results_figure_eight_a.html', 'r') as file:\n",
    "    glue(\"figure_eighta\", HTML(file.read()), display=False)\n",
    "\n",
    "with open('resources/charts/results_figure_eight_b.html', 'r') as file:\n",
    "    glue(\"figure_eightb\", HTML(file.read()), display=False)\n",
    "    \n",
    "with open('resources/tables/results_table_ten.html', 'r') as file:\n",
    "    glue(\"table_ten\", HTML(file.read()), display=False)\n",
    "\n",
    "g = pd.read_csv(\"data/inprocess/previous_micor.csv\").fillna('-')\n",
    "g.index\n",
    "\n",
    "g = g.style.set_table_styles(table_css_styles_top).format(precision=0)\n",
    "glue('previous_studies', g, display=False)"
   ]
  },
  {
   "cell_type": "markdown",
   "id": "1c61dc0f-71f0-4cdc-b70c-94518141120f",
   "metadata": {
    "pycharm": {
     "name": "#%% md\n"
    }
   },
   "source": [
    "# Résultats\n",
    "\n",
    "## Microplastiques (300 µm à 5 mm)\n",
    "\n",
    "Les échantillons microplastiques ont été prélevés sur une surface de 10 cm x 10 cm et sur 5 cm de profondeur. Cette profondeur correspond à la norme prise en compte dans les études sur la teneur en microplastiques.\n",
    "\n",
    "### Répartition des microplastiques sur les plages du Léman\n",
    "\n",
    "En prenant la totalité des 217 échantillons analysés, les plages étudiées contiennent en moyenne 189 particules plastiques avec un écart-type de 278. Parmi ces échantillons, 3 se trouvent dans le 99ème percentile. Il s’agit d’un échantillon à la plage de la Pichette (VD) contenant 3143 particules et de deux à Port Choiseul (GE) contenant respectivement 1492 et 1076 particules. Pour la suite des analyses, ils n’ont donc pas été pris en compte.\n",
    "\n",
    "::::{grid} 1 1 2 2\n",
    ":gutter: 0\n",
    "\n",
    ":::{grid-item-card}\n",
    ":columns: 12\n",
    ":shadow: none\n",
    "__Tableau 5.1 :__ Valeurs globales du nombre de pièces identifiées comme étant du plastique par échantillons (particules/100 cm²). La distinction est faite entre la prise en compte de l'ensemble des données et uniquement celles sous le 99ème percentile (3 données retirées).\n",
    ":::\n",
    "\n",
    ":::{grid-item-card} 5.1a : Ensemble des données\n",
    ":shadow: none\n",
    "\n",
    "{glue}`table_one`\n",
    "\n",
    ":::\n",
    "\n",
    ":::{grid-item-card} 5.1b : Données sous le 99ème percentile\n",
    ":shadow: none\n",
    "\n",
    "{glue}`table_two`\n",
    "\n",
    ":::\n",
    "::::\n",
    "\n",
    "L’élimination du 99ème percentile n’a que peu d’impact sur la médiane (passage de 126 à 124 pièces par échantillon). En revanche, la moyenne passe de 189 à 165 et l’écart type de 278 à 156. L’élimination de ces trois données permet donc une plus grande robustesse et stabilité des données.\n",
    "\n",
    ":::{card}\n",
    ":margin: 3\n",
    "\n",
    "```{image} resources/maps/chapter_one_map.jpeg\n",
    ":alt: chapter two map\n",
    ":align: center\n",
    ":name: chapter_two_map\n",
    "```\n",
    "+++\n",
    "<b>Figure 5.1 :</b> Carte des résultats de l'étude. Densité moyenne de microplastiques par 100 cm² et par site d'échantillonnage.\n",
    ":::\n",
    "\n",
    "\n",
    "\n",
    "### Différence entre la ligne d’eau et la plage sèche \n",
    "\n",
    "Les médianes et moyennes sont nettement plus élevées sur la plage sèche que sur la ligne d’eau. Cette différence peut s’expliquer par une accumulation possible sur la plage sèche (qui est immergée ponctuellement lors de crues du lac), alors que la ligne d’eau est en permanence soumise aux vagues qui amènent et reprennent les éléments au fil du temps.\n",
    "\n",
    "::::{grid} 1 1 2 2\n",
    ":gutter: 1\n",
    "\n",
    ":::{grid-item-card} Résultats par position\n",
    "\n",
    "```{image} resources/charts/results_figure_three.jpg\n",
    ":alt: summary litter density\n",
    ":align: center\n",
    ":name: results_figure_three\n",
    "```\n",
    "+++\n",
    "<b>Figure 5.2 :</b> Les abondances en nombre de particules par 100 cm² sont généralement plus faibles sur la ligne d'eau que sur la plage sèche. Plusieurs concentrations extrêmes ont été recensées lors de l'étude, aussi bien sur la ligne d'eau que sur la plage sèche. Les trois concentrations les plus élevées observées (99ème percentile) étaient sur la plage sèche.\n",
    ":::\n",
    "\n",
    ":::{grid-item-card}\n",
    "<b>Tableau 5.2 :</b> Récapitulatif des échantillons en distinguant leur position (particules/100 cm²). \n",
    "^^^\n",
    "{glue}`table_three`\n",
    "\n",
    ":::\n",
    "::::\n",
    "\n",
    "Pour la ligne d’eau, les abondances moyennes fluctuent entre 19 particules par échantillon à Crans et 884 particules par échantillon à Préverenges. Sur la plage sèche, les échantillons contiennent entre 37 particules à Clarens et 1'016 au Bouveret.\n",
    "\n",
    ":::{card} \n",
    ":margin: 3\n",
    "\n",
    "```{image} resources/charts/results_figure_one.jpg\n",
    ":alt: chapter two map\n",
    ":align: center\n",
    ":name: figure_two_map\n",
    "```\n",
    "+++\n",
    "<b>Figure 5.3  :</b> Abondance en microplastiques sur les 25 plages étudiées et par position sur la plage (particules/100cm²).  \n",
    ":::\n",
    "Sur la ligne d'eau, les abondances recensées sur la plage de l'Empereur aux Grangettes sortent du lot avec une médiane dépassant les 400 particules par 100 cm², contre 85 particules/100 cm² pour la totalité des sites.\n",
    "\n",
    "### Identification des particules comptabilisées\n",
    "\n",
    "Parmi les 39'000 particules comptabilisées, la majorité sont des fibres (75%). Ensuite viennent les fragments anguleux souple (10%) et durs (9%). Les mousses représentent 4% des particules et les films 2%. Seules quelques microbilles de plastiques ont été recensées.\n",
    "\n",
    "\n",
    ":::{card}  \n",
    ":margin: 3\n",
    "\n",
    "```{image} resources/images/cammebert.png\n",
    ":alt: Pie chart of the composition of microplastics\n",
    ":align: center\n",
    ":name: cammembert\n",
    "```\n",
    "+++\n",
    "<b>Fig 5.4 :</b> Répartition globale des particules comptabilisées par forme. Les fibres dominent largement en terme d'abondance.  \n",
    ":::\n",
    "\n",
    "### Caractérisation chimiques des particules\n",
    "\n",
    "En parallèle à la comptabilisation, des caractérisations chimiques ont été effectuées dans le cadre de deux travaux de master à l'Université de Genève. Une première étude s'est concentrée sur 15 échantillons pour comptabiliser et caractériser les particules plastiques entre 500 μm et 5 mm et une autres a ciblé 5 échantillons pour y detecter les particules entre 63 μm et 500 μm. L'évolution des abondances par kg de substrat analysé est flagrante. En effet, plus la taille recherchée est petite, plus le nombre de particules est élevé.\n",
    "\n",
    ":::{card}\n",
    ":margin: 3\n",
    "\n",
    "```{image} resources/charts/evolution_micro.png\n",
    ":alt: micro_evolution\n",
    ":align: center\n",
    ":name: micro_evolution\n",
    "```\n",
    "+++\n",
    "<b>Figure 5.5 :</b> Evolution des densités moyennes de plastiques par kg de substrat analysé (Uhlmann, 2023) et (Guignier, 2023).\n",
    ":::\n",
    "\n",
    "Au niveau de la caractérisation chimique, effectuée par FTIR-ATR, une grande variété de type de plastiques est observable entre les plages. Il est intéressant de voir que dans plusieurs échantillons, des particules de pneus ont été retrouvées. Le polyéthylène est le plastique qui se retrouve dans le plus grand nombre d'échantilons. Le polyester et le polystyrènes sont également présent dans un grand nombre de prélevements. Parmi les plus petites fractations, il est intéressant de constater la présence d'éthylène-acétate de vinyle (EVA) et d'alcool polyvinylique (PVA), deux types de plastiques décrits comme très soluble. \n",
    "\n",
    "::::{grid} 1 1 1 1\n",
    ":::{grid-item-card}\n",
    ":margin: 3\n",
    "\n",
    "```{image} resources/charts/carac_500.png\n",
    ":alt: pie chart\n",
    ":align: center\n",
    ":name: carac_500\n",
    "```\n",
    "\n",
    "+++\n",
    "<b>Figure 5.6 :</b> Proportion des natures de MPs par plage échantillonnées (Uhlmann, 2023)\n",
    ":::\n",
    "\n",
    ":::{grid-item-card}\n",
    ":margin: 3\n",
    "```{image} resources/charts/carac_63micro.png\n",
    ":alt: pie-chart of the ratio of mps size 63-500 um\n",
    ":align: center\n",
    ":name: carac_63\n",
    "```\n",
    "\n",
    "+++\n",
    "<b>Figure 5.7 :</b> Proportion des natures de MPs (en %) de la fraction 63-500 um pour les cinqs site d'étude dont le score de recherche est supérieur à 0.7: polyamide et nylon (PA), polyéthylène (PE), polypropylène (PP), polystyrène (PS), éthylène-acétate de vinyle (EVA), polychlorure de vinyle (PVC), alcool polyvinylique (PVA), polyacrylamide (PAM), polyester, autre. (Guignier, 2023)\n",
    ":::\n",
    "::::\n",
    "\n",
    "\n",
    "\n"
   ]
  },
  {
   "cell_type": "markdown",
   "id": "50225a14-1e3c-491d-ac74-9c1f715b7f08",
   "metadata": {
    "editable": true,
    "pycharm": {
     "name": "#%% md\n"
    },
    "slideshow": {
     "slide_type": ""
    },
    "tags": []
   },
   "source": [
    "## Macroplastiques (> 2 mm)\n",
    "\n",
    "### Répartition des macroplastiques sur les plages du Léman\n",
    "\n",
    "Au fil des quatre session d’échantillonnage sur les 25 plages sélectionnées, une moyenne de 0,77 pièce de plastique par m² a été retrouvée. Une concentration maximale de 7.6 pièces par m² a été inventoriée sur la plage du Bouveret.\n",
    "\n",
    ":::{card} \n",
    ":margin: 3\n",
    "\n",
    "```{image} resources/charts/results_figure_five.jpg\n",
    ":alt: summary litter density\n",
    ":align: center\n",
    ":name: results_figure_five\n",
    "```\n",
    "\n",
    "+++\n",
    "<b>Figure 5.8 :</b>Récapitulatif des quatre sessions d’échantillonnage. Les quatre passages se sont fait de manière répartie sur les quatre saisons. Les passages 3 et 4 ont été légèrement perturbé par les conditions météorologiques qui ont nécessité de décaler certains passages. La boîte de Tukey permet de constater la forte concentration des mesures entre 0.18 et 0.97 pièces par m² avec ponctuellement des échantillons présentant des abondances nettement plus élevées pouvant atteindre 7.6 pièces/m2. \n",
    ":::\n",
    "\n",
    "### Différence entre la ligne d’eau et la plage sèche \n",
    "\n",
    "Les résultats de la récolte de déchets sur les plages du Léman en 4 campagnes durant l’année 2022 sont exprimés en nombres de pièces par m² prospecté.\n",
    "\n",
    ":::{card} \n",
    ":margin: 3\n",
    "\n",
    "```{image} resources/charts/results_figure_six.jpg\n",
    ":alt: summary litter density\n",
    ":align: center\n",
    ":name: results_figure_six\n",
    "```\n",
    "\n",
    "+++\n",
    "<b>Figure 5.9 :</b> Concentration des déchets récoltés sur chacune des 25 plages lémaniques étudiées en 2022.   \n",
    ":::\n",
    "\n",
    "\n",
    "Sur la ligne d’eau, l’abondance moyenne varie de 0.12 pièce/m2 à Tolochenaz à 3.74 pièces/m2 au Bouveret et sur la plage sèche, de 0.12 pièce/m2 à Anthy-sur-Léman et Aubonne à 2,52 pièce/m2 aux Grangettes. Globalement, la densité de déchets tend à être plus élevée sur la ligne de rive, sauf à Port-Choiseul et à Gland où les déchets sont plus abondants sur la plage sèche. Dans ce dernier cas, il s’agit d’un très petit secteur (22 m2) régulièrement balayé par les vagues où se constitue une zone d’accumulation.\n",
    "\n",
    "A Excenevex en revanche, où la configuration du site présente une ligne d’eau très développée, l’abondance y est plus élevée que sur la plage. Dans ce cas notamment, l’intensité de l’entretien du site, très fréquenté, peut également influencer les quantités de plastiques retrouvées. Les résultats montrent bien les plastiques réellement présents sur les plages et non la totalité s’y déposant. En effet, les services communaux font déjà un grand travail de ramassage des grands macroplastiques, ce qu’indique le très faible nombre de bouteilles en PET retrouvées sur l’ensemble des passages (4).\n",
    "\n",
    "Globalement, on constate que 7 sites sur les 25 sélectionnés ne contiennent que des quantités négligeables de plastiques, que ce soit sur la ligne d’eau ou sur la plage, 4 en accumulent beaucoup, 8 un peu moins et 6 relativement peu. Bref, la moitié des sites étudiés sont clairement impactés par des accumulations de macro-déchets de plastique. Ce sont pour la plupart des lieux plutôt étendus, fortement fréquentés et plus ou moins exposés aux courants, aux vents et aux vagues.\n",
    "\n",
    "::::{grid} 1 1 2 2\n",
    ":gutter: 1\n",
    "\n",
    ":::{grid-item-card} \n",
    "\n",
    "```{image} resources/charts/results_figure_seven.jpg\n",
    ":alt: summary litter density\n",
    ":align: center\n",
    ":name: results_figure_seven\n",
    "```\n",
    "+++\n",
    "<b>Figure 5.10 :</b>Les boîtes de Tukey des positions (ligne d’eau et plage sèche) sont comparables avec toutefois une fréquence beaucoup plus élevées de valeurs extrêmes sur la ligne d'eau. Ceci s’explique par une plus grande dépendance des facteurs externes.\n",
    ":::\n",
    "\n",
    ":::{grid-item-card}\n",
    "<b>Tableau 5.3 :</b>Récapitulatif des échantillons en distinguant leur position. Les médianes sont comparables alors que la valeur maximale sur la ligne d’eau et plus de deux fois supérieure à celle de la plage sèche.\n",
    "^^^\n",
    "\n",
    "{glue}`table_eight`\n",
    "\n",
    ":::\n",
    "::::\n",
    "\n",
    "Les moyennes et médianes des relevés sur la plage sèche et sur la ligne d’eau sont comparables entre les secteurs. Pour autant, les moyennes sont près de deux fois plus élevées que les médianes ce qui montre la grande variabilité des échantillonnages avec la présence régulière d’abondance élevée. Il est toutefois intéressant de constater le nombre de valeurs extrêmes sur la ligne d’eau. La valeur maximum est d’ailleurs plus de deux fois plus élevée sur la ligne d’eau que sur la plage sèche. Ceci pourrait s’expliquer par une plus grande influence des facteurs environnementaux (vagues, courants, vents).\n",
    "\n",
    "## Types de macroplastiques sur les plages du Léman\n",
    "\n",
    "Pour la suite des analyses, les résultats seront exprimés en nombre de pièces par mètre linéaire de plage afin d’avoir des points de comparaison avec d’autres études traitant des macroplastiques.\n",
    "\n",
    "La valeur médiane du nombre de déchets par mètre (pcs/m) pour l’ensemble des 98 échantillons récoltés sur les 25 plages de l’étude à raison de 1 par saison est de 2, soit 200 déchets pour 100 mètres. Cependant, les taux attendus peuvent varier en fonction de l’urbanisation du site et de son environnement proche, de sa fréquentation et du type de substrat.\n",
    "\n",
    "### Etude des principaux déchets récoltés \n",
    "\n",
    "La nature des objets et des fragments de plastique les plus souvent recensés (au moins 1 fois sur 2) et en plus grand nombre a été déterminée et conduit à la sélection des 11 premières catégories de déchets les plus abondants. Celles-ci englobent 89% des macro-plastiques récoltés, à savoir 24'156 déchets sur les 27'493 recueillis. Les critères de sélection sont ainsi le nombre d’items de chaque catégorie et/ou une fréquence minimale de 50% de présence dans les échantillonnages. Le tableau 5.4 présente les différentes catégories de macro-plastiques retenues dans l’ordre d’abondance numérique avec mention de leur importance relative par rapport au nombre total de déchets et de leur fréquence d’échantillonage.\n",
    "\n",
    ":::{card} 11 principales catégories déchets récoltés\n",
    ":margin: 3\n",
    "<b>Tableau 5.4</b> Taux de récupération des 11 principales catégories déchets récoltés et valeur médiane de leur abondance autour du Léman. Le taux de récupération dans ce tableau correspond au pourcentage d’échantillons dans lequel l’objet a été retrouvé. \n",
    "^^^\n",
    "\n",
    "{glue}`table_nine`\n",
    ":::\n",
    "\n",
    "Les fragments de plastiques dont l’origine en tant qu’objet n’est pas identifiable constituent la large majorité des déchets récoltés et qu’ils sont retrouvés dans 97% des échantillons. Viennent ensuite divers objets d’usage courant et des matériaux plus ou moins fragmentés utilisés dans la construction, l’isolation, la confection, etc. \n",
    "\n",
    "A noter le cas particulier des pellets industriels. Avec 1526 éléments récoltés, ce déchet arrive en 5ème place des déchets les plus abondants. Pour autant, la valeur médiane sur l’ensemble des plages est de 0. Ceci s’explique par un taux de récupération très faible (0,37).\n",
    "\n",
    "Les fibres plastiques du béton projeté qui sont actuellement regroupées avec les déchets de construction (G89) pourraient à terme être recensées avec leur propre code. Elles représentent 125 des 380 éléments comptabilisés parmi les déchets de construction.\n",
    "\n",
    "En s’intéressant de manière plus précises à la répartition des éléments identifiés sur la ligne d'eau et sur la plage sèche, il est intéressant de constater deux choses. Tout d'abord la forte présence des mégots sur la plage sèche et surtout la présence des coton-tiges, déchets de construction et pellets parmi les déchets les plus retrouvés sur la plage sèche. Ceci montre qu'il y a un réel cheminement des déchets entre le lac et les rives. Les grands macroplastiques étant ramassés régulièrement sur les plages, seul les plus petits déchets restent.\n",
    "\n",
    "::::{grid} 1 1 1 1\n",
    ":::{grid-item-card} \n",
    ":margin: 0\n",
    "\n",
    "```{image} resources/images/macroidentifie_LE.png\n",
    ":alt: chapter five\n",
    ":align: center\n",
    ":width: 600 px\n",
    ":name: macroidentifie_LE\n",
    "```\n",
    ":::\n",
    "\n",
    ":::{grid-item-card}\n",
    ":margin: 0\n",
    "\n",
    "```{image} resources/images/macroidentifie_PS.png\n",
    ":alt: chapter five \n",
    ":align: center\n",
    ":width: 600 px\n",
    ":name: macroidentifie_PS\n",
    "```\n",
    "+++\n",
    "<b>Figure 5.11  :</b>  Distinction entre les éléments identifiés sur la ligne d'eau et sur la plage sèche. Cette figure ne prend pas en compte les fragments plastique non identifiés qui représentent 52% des éléments retrouvés sur la plage sèche et 55% sur la ligne d'eau.\n",
    "  \n",
    ":::\n",
    "::::\n",
    "De fortes fluctuations sont visibles entre les plages. Sans surprise, les fragments de plastiques sont dominants sur la quasi-totalité des plages. Parmi les éléments identifiables, les emballages de nourritures et les mégots sont très souvent retrouvés. Il est également intéressant de se pencher sur certains déchets particuliers. Par exemple, les coton-tiges sont présents en grande quantité à Amphion, Clarens, au Bouveret et aux Grangettes, donc plutôt sur les haut et grand lacs. En reprenant l’exemple des pellets industriels, il est intéressant de noter leur distribution particulière. Préverenges, avec une médiane de 0,82 pellets par mètre de plage fait office d’exception autour du Léman. Les trois autres plages avec le plus de pellets sont le Bouveret (0,42 pièces/m), les Grangettes et Baby plage (chacune 0,27 pièces/m).\n",
    "\n",
    "En s’intéressant aux différents sites, il est visible que les Grangettes et le Bouveret sont les sites où les déchets sont les plus abondants, et ce pour la plupart des objets. A l’inverse, la plage d’Excenevex, qui fait également partie des plages avec les plus grandes concentrations de plastiques, est principalement dominante au niveau des fragments de plastiques."
   ]
  },
  {
   "cell_type": "markdown",
   "id": "19ae370a-9051-40dd-a28e-d59b940648c9",
   "metadata": {},
   "source": [
    "::::{grid} 1\n",
    ":padding: 0\n",
    "\n",
    ":::{grid-item-card}\n",
    "```{glue} figure_eighta\n",
    "```\n",
    "+++\n",
    "<b>Figure 5.12</b> Valeur médiane des abondances recensées sur les plages du Léman en nombre de pièces par mètre linéaire. Cette figure permet de faire ressortir les cas particulier tels que les coton-tiges aux Grangettes ou les déchets de constructions au Bouveret.\n",
    ":::\n",
    "\n",
    ":::{grid-item-card}\n",
    "```{glue} figure_eightb\n",
    "```\n",
    "+++\n",
    "<b>Figure 5.13</b> Valeur médiane des abondances recensées sur les plages du Léman en nombre de pièces par mètre linéaire. Cette figure permet de faire ressortir les cas particulier tels que les pellets industriels à Préverenges ou les mégots à Vidy.\n",
    ":::\n",
    "::::"
   ]
  },
  {
   "cell_type": "markdown",
   "id": "f4922abe-d6f5-4b21-9425-3ee7053a1376",
   "metadata": {},
   "source": []
  },
  {
   "cell_type": "code",
   "execution_count": null,
   "id": "9df9a945-9f22-4ff6-b131-1ebc9478a0d4",
   "metadata": {},
   "outputs": [],
   "source": []
  }
 ],
 "metadata": {
  "kernelspec": {
   "display_name": "Python 3 (ipykernel)",
   "language": "python",
   "name": "python3"
  },
  "language_info": {
   "codemirror_mode": {
    "name": "ipython",
    "version": 3
   },
   "file_extension": ".py",
   "mimetype": "text/x-python",
   "name": "python",
   "nbconvert_exporter": "python",
   "pygments_lexer": "ipython3",
   "version": "3.9.13"
  }
 },
 "nbformat": 4,
 "nbformat_minor": 5
}
