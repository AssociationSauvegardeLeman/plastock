{
 "cells": [
  {
   "cell_type": "code",
   "execution_count": 2,
   "id": "32bcdb7d-96d5-47f5-a77a-139bafcc6a7d",
   "metadata": {
    "tags": [
     "remove-input"
    ]
   },
   "outputs": [
    {
     "name": "stdout",
     "output_type": "stream",
     "text": [
      "The watermark extension is already loaded. To reload it, use:\n",
      "  %reload_ext watermark\n"
     ]
    },
    {
     "data": {
      "application/papermill.record/text/plain": "' '"
     },
     "metadata": {
      "scrapbook": {
       "mime_prefix": "application/papermill.record/",
       "name": "blank_caption"
      }
     },
     "output_type": "display_data"
    }
   ],
   "source": [
    "%load_ext watermark\n",
    "import numpy as np\n",
    "import pandas as pd\n",
    "import matplotlib.pyplot as plt\n",
    "import seaborn as sns\n",
    "from myst_nb import glue\n",
    "from slugify import slugify\n",
    "\n",
    "from plastockconf import name_zones, name_frequentation, name_situation\n",
    "from plastockconf import name_substrate, name_distance, table_css_styles\n",
    "\n",
    "from plastock import add_table_to_page, capitalize_x_tick_labels, capitalize_x_and_y_axis_labels, capitalize_legend_components, attribute_summary\n",
    "\n",
    "def translate_describe(x, value_column):\n",
    "    described = x.to_dict()\n",
    "    described.pop(\"count\")\n",
    "    described[\"moyenne\"] = described.pop(\"mean\")\n",
    "    described[\"écart-type\"] = described.pop(\"std\")\n",
    "    df = pd.DataFrame(described.items())\n",
    "    df.set_index(0, inplace=True)\n",
    "    df.rename(columns={1:value_column}, inplace=True)\n",
    "    df.index.name = None\n",
    "    \n",
    "    \n",
    "    return df\n",
    "format_kwargs = dict(precision=2, thousands=\"'\", decimal=\",\")\n",
    "\n",
    "def select_a_set_of_values(data, column_one, threshold_data):\n",
    "    \n",
    "    return data.loc[data[column_one] > threshold_data]\n",
    "\n",
    "glue('blank_caption', \" \", display=False)\n",
    "\n",
    "new_data = pd.read_csv(\"data/end_pipe/macro_current.csv\")\n",
    "beach_data = pd.read_csv(\"data/pstock_beaches_current.csv\")"
   ]
  },
  {
   "cell_type": "code",
   "execution_count": 4,
   "id": "801382a8-e6a0-4011-9334-e1b6ab3492f0",
   "metadata": {
    "tags": [
     "remove-input"
    ]
   },
   "outputs": [],
   "source": [
    "#new_data = pd.read_csv(\"data/macro_current.csv\")\n",
    "beach_data = pd.read_csv(\"data/pstock_beaches_current.csv\")\n",
    "\n",
    "new_column_names = {\n",
    "    \"Position\":\"position\",\n",
    "    \"Substrat\":\"substrat\",\n",
    "    \"Date\":\"date\",\n",
    "    \"Code\":\"code\",\n",
    "    \"Quantité\":\"quantité\",\n",
    "    \"Aire\":\"area\"\n",
    "}\n",
    "\n",
    "length_key = beach_data[[\"Plage\",\"length\"]].drop_duplicates(\"Plage\").set_index(\"Plage\")\n",
    "work_data = new_data[[\"Plage\", *new_column_names.keys()]].copy()\n",
    "work_data.rename(columns=new_column_names, inplace=True)\n",
    "work_data[\"length\"] = work_data.Plage.apply(lambda x: length_key.loc[x, \"length\"])\n",
    "work_data[\"slug\"] = work_data.Plage.apply(lambda x: slugify(x))\n",
    "work_data[\"echantillon\"] = list(zip(work_data.slug, work_data['date']))\n",
    "work_data['date'] = pd.to_datetime(work_data[\"date\"], format=\"mixed\", dayfirst=True)\n",
    "work_data.dropna(inplace=True)\n",
    "work_data[[\"position\", \"substrat\"]] = work_data[[\"position\", \"substrat\"]].astype(\"int\")\n",
    "work_data['échantillon'] = work_data['echantillon']\n",
    "work_data.drop(['echantillon'], inplace=True, axis=1)\n",
    "event_total = work_data.groupby([\"échantillon\", \"Plage\", \"date\", \"position\", \"area\"], as_index=False)[\"quantité\"].sum()\n",
    "\n",
    "event_total[\"pcs/m²\"] = event_total[\"quantité\"]/event_total.area"
   ]
  },
  {
   "cell_type": "markdown",
   "id": "64f4b56e-a28f-451b-848e-9a16e4646c59",
   "metadata": {},
   "source": [
    "# Macro déchets plage et position\n",
    "\n",
    "__Résultats agrégés par objet, position et échantillon__"
   ]
  },
  {
   "cell_type": "code",
   "execution_count": 5,
   "id": "704ed296-9bb8-4add-afb4-54be2c91dc6f",
   "metadata": {
    "tags": [
     "remove-input"
    ]
   },
   "outputs": [
    {
     "data": {
      "text/html": [
       "<style type=\"text/css\">\n",
       "#T_a8e37 tr:nth-child(even) {\n",
       "  background-color: rgba(139, 69, 19, 0.08);\n",
       "}\n",
       "#T_a8e37 tr:nth-child(odd) {\n",
       "  background: #FFF;\n",
       "}\n",
       "#T_a8e37 tr {\n",
       "  font-size: 14px;\n",
       "  padding: 10px;\n",
       "}\n",
       "#T_a8e37 th:nth-child(1) {\n",
       "  background-color: #FFF;\n",
       "}\n",
       "#T_a8e37 caption {\n",
       "  caption-side: bottom;\n",
       "  font-size: 16px;\n",
       "  text-align: left;\n",
       "  margin-top: 15px;\n",
       "}\n",
       "</style>\n",
       "<table id=\"T_a8e37\">\n",
       "  <caption><b>Table A3-1: </b>Les données sont regroupées en deux groupes par échantillon: ligne-d'eau, plage-seche, tous objéts compris.  </caption>\n",
       "  <thead>\n",
       "    <tr>\n",
       "      <th class=\"blank level0\" >&nbsp;</th>\n",
       "      <th id=\"T_a8e37_level0_col0\" class=\"col_heading level0 col0\" >Plage</th>\n",
       "      <th id=\"T_a8e37_level0_col1\" class=\"col_heading level0 col1\" >Position</th>\n",
       "      <th id=\"T_a8e37_level0_col2\" class=\"col_heading level0 col2\" >Quantité</th>\n",
       "      <th id=\"T_a8e37_level0_col3\" class=\"col_heading level0 col3\" >Échantillon</th>\n",
       "    </tr>\n",
       "  </thead>\n",
       "  <tbody>\n",
       "    <tr>\n",
       "      <th id=\"T_a8e37_level0_row0\" class=\"row_heading level0 row0\" >G24</th>\n",
       "      <td id=\"T_a8e37_row0_col0\" class=\"data row0 col0\" >Amphion</td>\n",
       "      <td id=\"T_a8e37_row0_col1\" class=\"data row0 col1\" >1</td>\n",
       "      <td id=\"T_a8e37_row0_col2\" class=\"data row0 col2\" >2</td>\n",
       "      <td id=\"T_a8e37_row0_col3\" class=\"data row0 col3\" >('amphion', '01.02.2022')</td>\n",
       "    </tr>\n",
       "    <tr>\n",
       "      <th id=\"T_a8e37_level0_row1\" class=\"row_heading level0 row1\" >G24</th>\n",
       "      <td id=\"T_a8e37_row1_col0\" class=\"data row1 col0\" >Amphion</td>\n",
       "      <td id=\"T_a8e37_row1_col1\" class=\"data row1 col1\" >2</td>\n",
       "      <td id=\"T_a8e37_row1_col2\" class=\"data row1 col2\" >42</td>\n",
       "      <td id=\"T_a8e37_row1_col3\" class=\"data row1 col3\" >('amphion', '01.02.2022')</td>\n",
       "    </tr>\n",
       "    <tr>\n",
       "      <th id=\"T_a8e37_level0_row2\" class=\"row_heading level0 row2\" >G66</th>\n",
       "      <td id=\"T_a8e37_row2_col0\" class=\"data row2 col0\" >Amphion</td>\n",
       "      <td id=\"T_a8e37_row2_col1\" class=\"data row2 col1\" >2</td>\n",
       "      <td id=\"T_a8e37_row2_col2\" class=\"data row2 col2\" >7</td>\n",
       "      <td id=\"T_a8e37_row2_col3\" class=\"data row2 col3\" >('amphion', '01.02.2022')</td>\n",
       "    </tr>\n",
       "    <tr>\n",
       "      <th id=\"T_a8e37_level0_row3\" class=\"row_heading level0 row3\" >G131</th>\n",
       "      <td id=\"T_a8e37_row3_col0\" class=\"data row3 col0\" >Amphion</td>\n",
       "      <td id=\"T_a8e37_row3_col1\" class=\"data row3 col1\" >2</td>\n",
       "      <td id=\"T_a8e37_row3_col2\" class=\"data row3 col2\" >1</td>\n",
       "      <td id=\"T_a8e37_row3_col3\" class=\"data row3 col3\" >('amphion', '01.02.2022')</td>\n",
       "    </tr>\n",
       "    <tr>\n",
       "      <th id=\"T_a8e37_level0_row4\" class=\"row_heading level0 row4\" >G31</th>\n",
       "      <td id=\"T_a8e37_row4_col0\" class=\"data row4 col0\" >Amphion</td>\n",
       "      <td id=\"T_a8e37_row4_col1\" class=\"data row4 col1\" >1</td>\n",
       "      <td id=\"T_a8e37_row4_col2\" class=\"data row4 col2\" >2</td>\n",
       "      <td id=\"T_a8e37_row4_col3\" class=\"data row4 col3\" >('amphion', '01.02.2022')</td>\n",
       "    </tr>\n",
       "  </tbody>\n",
       "</table>\n"
      ],
      "text/plain": [
       "<pandas.io.formats.style.Styler at 0x7fa7bcd8f250>"
      ]
     },
     "metadata": {
      "scrapbook": {
       "mime_prefix": "",
       "name": "a3tablone"
      }
     },
     "output_type": "display_data"
    }
   ],
   "source": [
    "caption = \"Les données sont regroupées en deux groupes par échantillon: ligne-d'eau, plage-seche, tous objéts compris.\"\n",
    "\n",
    "columns=[\"Plage\", \"position\", \"code\", \"quantité\", \"échantillon\"]\n",
    "\n",
    "table_one = work_data[columns][work_data['échantillon'] == (\"amphion\", \"01.02.2022\")].head()\n",
    "table_one.set_index('code', drop=True, inplace=True)\n",
    "table_one.index.name = None\n",
    "t_one = table_one.style.set_table_styles(table_css_styles)\n",
    "\n",
    "table_no = 1\n",
    "section = 'A'\n",
    "page = 3\n",
    "\n",
    "table_one = add_table_to_page(t_one, table_no, caption, section, page, \" \")\n",
    "glue('a3tablone', table_one, display=True)"
   ]
  },
  {
   "cell_type": "markdown",
   "id": "b06bd88f-128a-4756-83c4-f1a445a5ffc1",
   "metadata": {},
   "source": [
    "## Nombre cumulé d'échantillons et particules par plage"
   ]
  },
  {
   "cell_type": "code",
   "execution_count": 6,
   "id": "836bd80d-dff1-4591-9d3f-d6dfdaac6d03",
   "metadata": {
    "tags": [
     "remove-input"
    ]
   },
   "outputs": [],
   "source": [
    "sample_totals = event_total.groupby([\"échantillon\", \"date\", \"Plage\"], as_index=False)[\"pcs/m²\"].sum()\n",
    "df2 = sample_totals.copy()\n",
    "value_column = \"moyenne\"\n",
    "\n",
    "sample_averages = df2.groupby(\"Plage\", as_index=False).agg({\"échantillon\": \"nunique\", \"pcs/m²\":\"mean\"})\n",
    "average_of_sample_totals = df2[\"pcs/m²\"].mean()\n",
    "sample_averages.rename(columns={\"pcs/m²\":value_column}, inplace=True)\n",
    "sample_averages.set_index(\"Plage\", inplace=True, drop=True)\n",
    "sample_averages.index.name = None"
   ]
  },
  {
   "cell_type": "code",
   "execution_count": 7,
   "id": "9a583491-cc06-49f8-9398-9c30bbd67308",
   "metadata": {
    "tags": [
     "remove-input"
    ]
   },
   "outputs": [
    {
     "data": {
      "text/html": [
       "<style type=\"text/css\">\n",
       "#T_ca4d2 tr:nth-child(even) {\n",
       "  background-color: rgba(139, 69, 19, 0.08);\n",
       "}\n",
       "#T_ca4d2 tr:nth-child(odd) {\n",
       "  background: #FFF;\n",
       "}\n",
       "#T_ca4d2 tr {\n",
       "  font-size: 14px;\n",
       "  padding: 10px;\n",
       "}\n",
       "#T_ca4d2 th:nth-child(1) {\n",
       "  background-color: #FFF;\n",
       "}\n",
       "#T_ca4d2 caption {\n",
       "  caption-side: bottom;\n",
       "  font-size: 16px;\n",
       "  text-align: left;\n",
       "  margin-top: 15px;\n",
       "}\n",
       "#T_ca4d2_row0_col2, #T_ca4d2_row0_col3, #T_ca4d2_row3_col2, #T_ca4d2_row3_col3, #T_ca4d2_row4_col2, #T_ca4d2_row4_col3, #T_ca4d2_row8_col2, #T_ca4d2_row8_col3, #T_ca4d2_row10_col2, #T_ca4d2_row10_col3, #T_ca4d2_row16_col2, #T_ca4d2_row16_col3, #T_ca4d2_row17_col2, #T_ca4d2_row17_col3, #T_ca4d2_row18_col2, #T_ca4d2_row18_col3, #T_ca4d2_row19_col2, #T_ca4d2_row19_col3, #T_ca4d2_row24_col2, #T_ca4d2_row24_col3 {\n",
       "  color: red;\n",
       "}\n",
       "#T_ca4d2_row0_col4, #T_ca4d2_row4_col4, #T_ca4d2_row5_col4, #T_ca4d2_row8_col4, #T_ca4d2_row9_col4, #T_ca4d2_row10_col4, #T_ca4d2_row12_col4, #T_ca4d2_row13_col4, #T_ca4d2_row19_col4, #T_ca4d2_row24_col4 {\n",
       "  color: dodgerblue;\n",
       "}\n",
       "</style>\n",
       "<table id=\"T_ca4d2\">\n",
       "  <caption><b>Table A3-2: </b>Nombre cumulé d'échantillons et le total par plage. Les plages où le proportion du comptage est supérieur au proportion des échantillons sont en rouge. Les plages dont la moyenne des résultats est supérieure à la moyenne du projet sont en BLEU.  </caption>\n",
       "  <thead>\n",
       "    <tr>\n",
       "      <th class=\"blank level0\" >&nbsp;</th>\n",
       "      <th id=\"T_ca4d2_level0_col0\" class=\"col_heading level0 col0\" >Échantillon</th>\n",
       "      <th id=\"T_ca4d2_level0_col1\" class=\"col_heading level0 col1\" >Quantité</th>\n",
       "      <th id=\"T_ca4d2_level0_col2\" class=\"col_heading level0 col2\" >% échantillon </th>\n",
       "      <th id=\"T_ca4d2_level0_col3\" class=\"col_heading level0 col3\" >%  quantité</th>\n",
       "      <th id=\"T_ca4d2_level0_col4\" class=\"col_heading level0 col4\" >Moyenne</th>\n",
       "    </tr>\n",
       "  </thead>\n",
       "  <tbody>\n",
       "    <tr>\n",
       "      <th id=\"T_ca4d2_level0_row0\" class=\"row_heading level0 row0\" >Amphion</th>\n",
       "      <td id=\"T_ca4d2_row0_col0\" class=\"data row0 col0\" >4</td>\n",
       "      <td id=\"T_ca4d2_row0_col1\" class=\"data row0 col1\" >2'459</td>\n",
       "      <td id=\"T_ca4d2_row0_col2\" class=\"data row0 col2\" >0,04</td>\n",
       "      <td id=\"T_ca4d2_row0_col3\" class=\"data row0 col3\" >0,09</td>\n",
       "      <td id=\"T_ca4d2_row0_col4\" class=\"data row0 col4\" >2,56</td>\n",
       "    </tr>\n",
       "    <tr>\n",
       "      <th id=\"T_ca4d2_level0_row1\" class=\"row_heading level0 row1\" >Anthy</th>\n",
       "      <td id=\"T_ca4d2_row1_col0\" class=\"data row1 col0\" >4</td>\n",
       "      <td id=\"T_ca4d2_row1_col1\" class=\"data row1 col1\" >149</td>\n",
       "      <td id=\"T_ca4d2_row1_col2\" class=\"data row1 col2\" >0,04</td>\n",
       "      <td id=\"T_ca4d2_row1_col3\" class=\"data row1 col3\" >0,01</td>\n",
       "      <td id=\"T_ca4d2_row1_col4\" class=\"data row1 col4\" >0,32</td>\n",
       "    </tr>\n",
       "    <tr>\n",
       "      <th id=\"T_ca4d2_level0_row2\" class=\"row_heading level0 row2\" >Aubonne</th>\n",
       "      <td id=\"T_ca4d2_row2_col0\" class=\"data row2 col0\" >4</td>\n",
       "      <td id=\"T_ca4d2_row2_col1\" class=\"data row2 col1\" >193</td>\n",
       "      <td id=\"T_ca4d2_row2_col2\" class=\"data row2 col2\" >0,04</td>\n",
       "      <td id=\"T_ca4d2_row2_col3\" class=\"data row2 col3\" >0,01</td>\n",
       "      <td id=\"T_ca4d2_row2_col4\" class=\"data row2 col4\" >0,34</td>\n",
       "    </tr>\n",
       "    <tr>\n",
       "      <th id=\"T_ca4d2_level0_row3\" class=\"row_heading level0 row3\" >Baby plage</th>\n",
       "      <td id=\"T_ca4d2_row3_col0\" class=\"data row3 col0\" >4</td>\n",
       "      <td id=\"T_ca4d2_row3_col1\" class=\"data row3 col1\" >1'179</td>\n",
       "      <td id=\"T_ca4d2_row3_col2\" class=\"data row3 col2\" >0,04</td>\n",
       "      <td id=\"T_ca4d2_row3_col3\" class=\"data row3 col3\" >0,04</td>\n",
       "      <td id=\"T_ca4d2_row3_col4\" class=\"data row3 col4\" >1,05</td>\n",
       "    </tr>\n",
       "    <tr>\n",
       "      <th id=\"T_ca4d2_level0_row4\" class=\"row_heading level0 row4\" >Bouveret</th>\n",
       "      <td id=\"T_ca4d2_row4_col0\" class=\"data row4 col0\" >4</td>\n",
       "      <td id=\"T_ca4d2_row4_col1\" class=\"data row4 col1\" >3'286</td>\n",
       "      <td id=\"T_ca4d2_row4_col2\" class=\"data row4 col2\" >0,04</td>\n",
       "      <td id=\"T_ca4d2_row4_col3\" class=\"data row4 col3\" >0,12</td>\n",
       "      <td id=\"T_ca4d2_row4_col4\" class=\"data row4 col4\" >4,77</td>\n",
       "    </tr>\n",
       "    <tr>\n",
       "      <th id=\"T_ca4d2_level0_row5\" class=\"row_heading level0 row5\" >Clarens</th>\n",
       "      <td id=\"T_ca4d2_row5_col0\" class=\"data row5 col0\" >4</td>\n",
       "      <td id=\"T_ca4d2_row5_col1\" class=\"data row5 col1\" >1'128</td>\n",
       "      <td id=\"T_ca4d2_row5_col2\" class=\"data row5 col2\" >0,04</td>\n",
       "      <td id=\"T_ca4d2_row5_col3\" class=\"data row5 col3\" >0,04</td>\n",
       "      <td id=\"T_ca4d2_row5_col4\" class=\"data row5 col4\" >1,85</td>\n",
       "    </tr>\n",
       "    <tr>\n",
       "      <th id=\"T_ca4d2_level0_row6\" class=\"row_heading level0 row6\" >Crans</th>\n",
       "      <td id=\"T_ca4d2_row6_col0\" class=\"data row6 col0\" >3</td>\n",
       "      <td id=\"T_ca4d2_row6_col1\" class=\"data row6 col1\" >21</td>\n",
       "      <td id=\"T_ca4d2_row6_col2\" class=\"data row6 col2\" >0,03</td>\n",
       "      <td id=\"T_ca4d2_row6_col3\" class=\"data row6 col3\" >0,00</td>\n",
       "      <td id=\"T_ca4d2_row6_col4\" class=\"data row6 col4\" >0,44</td>\n",
       "    </tr>\n",
       "    <tr>\n",
       "      <th id=\"T_ca4d2_level0_row7\" class=\"row_heading level0 row7\" >Cully</th>\n",
       "      <td id=\"T_ca4d2_row7_col0\" class=\"data row7 col0\" >4</td>\n",
       "      <td id=\"T_ca4d2_row7_col1\" class=\"data row7 col1\" >48</td>\n",
       "      <td id=\"T_ca4d2_row7_col2\" class=\"data row7 col2\" >0,04</td>\n",
       "      <td id=\"T_ca4d2_row7_col3\" class=\"data row7 col3\" >0,00</td>\n",
       "      <td id=\"T_ca4d2_row7_col4\" class=\"data row7 col4\" >0,34</td>\n",
       "    </tr>\n",
       "    <tr>\n",
       "      <th id=\"T_ca4d2_level0_row8\" class=\"row_heading level0 row8\" >Excenevex</th>\n",
       "      <td id=\"T_ca4d2_row8_col0\" class=\"data row8 col0\" >4</td>\n",
       "      <td id=\"T_ca4d2_row8_col1\" class=\"data row8 col1\" >3'931</td>\n",
       "      <td id=\"T_ca4d2_row8_col2\" class=\"data row8 col2\" >0,04</td>\n",
       "      <td id=\"T_ca4d2_row8_col3\" class=\"data row8 col3\" >0,14</td>\n",
       "      <td id=\"T_ca4d2_row8_col4\" class=\"data row8 col4\" >2,52</td>\n",
       "    </tr>\n",
       "    <tr>\n",
       "      <th id=\"T_ca4d2_level0_row9\" class=\"row_heading level0 row9\" >Gland</th>\n",
       "      <td id=\"T_ca4d2_row9_col0\" class=\"data row9 col0\" >4</td>\n",
       "      <td id=\"T_ca4d2_row9_col1\" class=\"data row9 col1\" >206</td>\n",
       "      <td id=\"T_ca4d2_row9_col2\" class=\"data row9 col2\" >0,04</td>\n",
       "      <td id=\"T_ca4d2_row9_col3\" class=\"data row9 col3\" >0,01</td>\n",
       "      <td id=\"T_ca4d2_row9_col4\" class=\"data row9 col4\" >2,32</td>\n",
       "    </tr>\n",
       "    <tr>\n",
       "      <th id=\"T_ca4d2_level0_row10\" class=\"row_heading level0 row10\" >Grangettes</th>\n",
       "      <td id=\"T_ca4d2_row10_col0\" class=\"data row10 col0\" >4</td>\n",
       "      <td id=\"T_ca4d2_row10_col1\" class=\"data row10 col1\" >3'677</td>\n",
       "      <td id=\"T_ca4d2_row10_col2\" class=\"data row10 col2\" >0,04</td>\n",
       "      <td id=\"T_ca4d2_row10_col3\" class=\"data row10 col3\" >0,13</td>\n",
       "      <td id=\"T_ca4d2_row10_col4\" class=\"data row10 col4\" >5,86</td>\n",
       "    </tr>\n",
       "    <tr>\n",
       "      <th id=\"T_ca4d2_level0_row11\" class=\"row_heading level0 row11\" >Hermance</th>\n",
       "      <td id=\"T_ca4d2_row11_col0\" class=\"data row11 col0\" >4</td>\n",
       "      <td id=\"T_ca4d2_row11_col1\" class=\"data row11 col1\" >201</td>\n",
       "      <td id=\"T_ca4d2_row11_col2\" class=\"data row11 col2\" >0,04</td>\n",
       "      <td id=\"T_ca4d2_row11_col3\" class=\"data row11 col3\" >0,01</td>\n",
       "      <td id=\"T_ca4d2_row11_col4\" class=\"data row11 col4\" >0,26</td>\n",
       "    </tr>\n",
       "    <tr>\n",
       "      <th id=\"T_ca4d2_level0_row12\" class=\"row_heading level0 row12\" >Lugrin</th>\n",
       "      <td id=\"T_ca4d2_row12_col0\" class=\"data row12 col0\" >4</td>\n",
       "      <td id=\"T_ca4d2_row12_col1\" class=\"data row12 col1\" >670</td>\n",
       "      <td id=\"T_ca4d2_row12_col2\" class=\"data row12 col2\" >0,04</td>\n",
       "      <td id=\"T_ca4d2_row12_col3\" class=\"data row12 col3\" >0,02</td>\n",
       "      <td id=\"T_ca4d2_row12_col4\" class=\"data row12 col4\" >1,46</td>\n",
       "    </tr>\n",
       "    <tr>\n",
       "      <th id=\"T_ca4d2_level0_row13\" class=\"row_heading level0 row13\" >Lutry</th>\n",
       "      <td id=\"T_ca4d2_row13_col0\" class=\"data row13 col0\" >4</td>\n",
       "      <td id=\"T_ca4d2_row13_col1\" class=\"data row13 col1\" >686</td>\n",
       "      <td id=\"T_ca4d2_row13_col2\" class=\"data row13 col2\" >0,04</td>\n",
       "      <td id=\"T_ca4d2_row13_col3\" class=\"data row13 col3\" >0,02</td>\n",
       "      <td id=\"T_ca4d2_row13_col4\" class=\"data row13 col4\" >1,57</td>\n",
       "    </tr>\n",
       "    <tr>\n",
       "      <th id=\"T_ca4d2_level0_row14\" class=\"row_heading level0 row14\" >Meillerie</th>\n",
       "      <td id=\"T_ca4d2_row14_col0\" class=\"data row14 col0\" >4</td>\n",
       "      <td id=\"T_ca4d2_row14_col1\" class=\"data row14 col1\" >91</td>\n",
       "      <td id=\"T_ca4d2_row14_col2\" class=\"data row14 col2\" >0,04</td>\n",
       "      <td id=\"T_ca4d2_row14_col3\" class=\"data row14 col3\" >0,00</td>\n",
       "      <td id=\"T_ca4d2_row14_col4\" class=\"data row14 col4\" >0,43</td>\n",
       "    </tr>\n",
       "    <tr>\n",
       "      <th id=\"T_ca4d2_level0_row15\" class=\"row_heading level0 row15\" >Pichette</th>\n",
       "      <td id=\"T_ca4d2_row15_col0\" class=\"data row15 col0\" >4</td>\n",
       "      <td id=\"T_ca4d2_row15_col1\" class=\"data row15 col1\" >49</td>\n",
       "      <td id=\"T_ca4d2_row15_col2\" class=\"data row15 col2\" >0,04</td>\n",
       "      <td id=\"T_ca4d2_row15_col3\" class=\"data row15 col3\" >0,00</td>\n",
       "      <td id=\"T_ca4d2_row15_col4\" class=\"data row15 col4\" >0,20</td>\n",
       "    </tr>\n",
       "    <tr>\n",
       "      <th id=\"T_ca4d2_level0_row16\" class=\"row_heading level0 row16\" >Port choiseul</th>\n",
       "      <td id=\"T_ca4d2_row16_col0\" class=\"data row16 col0\" >4</td>\n",
       "      <td id=\"T_ca4d2_row16_col1\" class=\"data row16 col1\" >1'372</td>\n",
       "      <td id=\"T_ca4d2_row16_col2\" class=\"data row16 col2\" >0,04</td>\n",
       "      <td id=\"T_ca4d2_row16_col3\" class=\"data row16 col3\" >0,05</td>\n",
       "      <td id=\"T_ca4d2_row16_col4\" class=\"data row16 col4\" >1,36</td>\n",
       "    </tr>\n",
       "    <tr>\n",
       "      <th id=\"T_ca4d2_level0_row17\" class=\"row_heading level0 row17\" >Préverenges</th>\n",
       "      <td id=\"T_ca4d2_row17_col0\" class=\"data row17 col0\" >4</td>\n",
       "      <td id=\"T_ca4d2_row17_col1\" class=\"data row17 col1\" >2'448</td>\n",
       "      <td id=\"T_ca4d2_row17_col2\" class=\"data row17 col2\" >0,04</td>\n",
       "      <td id=\"T_ca4d2_row17_col3\" class=\"data row17 col3\" >0,09</td>\n",
       "      <td id=\"T_ca4d2_row17_col4\" class=\"data row17 col4\" >0,97</td>\n",
       "    </tr>\n",
       "    <tr>\n",
       "      <th id=\"T_ca4d2_level0_row18\" class=\"row_heading level0 row18\" >Rolle</th>\n",
       "      <td id=\"T_ca4d2_row18_col0\" class=\"data row18 col0\" >3</td>\n",
       "      <td id=\"T_ca4d2_row18_col1\" class=\"data row18 col1\" >1'090</td>\n",
       "      <td id=\"T_ca4d2_row18_col2\" class=\"data row18 col2\" >0,03</td>\n",
       "      <td id=\"T_ca4d2_row18_col3\" class=\"data row18 col3\" >0,04</td>\n",
       "      <td id=\"T_ca4d2_row18_col4\" class=\"data row18 col4\" >0,67</td>\n",
       "    </tr>\n",
       "    <tr>\n",
       "      <th id=\"T_ca4d2_level0_row19\" class=\"row_heading level0 row19\" >Saint-disdille</th>\n",
       "      <td id=\"T_ca4d2_row19_col0\" class=\"data row19 col0\" >4</td>\n",
       "      <td id=\"T_ca4d2_row19_col1\" class=\"data row19 col1\" >1'908</td>\n",
       "      <td id=\"T_ca4d2_row19_col2\" class=\"data row19 col2\" >0,04</td>\n",
       "      <td id=\"T_ca4d2_row19_col3\" class=\"data row19 col3\" >0,07</td>\n",
       "      <td id=\"T_ca4d2_row19_col4\" class=\"data row19 col4\" >2,56</td>\n",
       "    </tr>\n",
       "    <tr>\n",
       "      <th id=\"T_ca4d2_level0_row20\" class=\"row_heading level0 row20\" >Savonnière</th>\n",
       "      <td id=\"T_ca4d2_row20_col0\" class=\"data row20 col0\" >4</td>\n",
       "      <td id=\"T_ca4d2_row20_col1\" class=\"data row20 col1\" >592</td>\n",
       "      <td id=\"T_ca4d2_row20_col2\" class=\"data row20 col2\" >0,04</td>\n",
       "      <td id=\"T_ca4d2_row20_col3\" class=\"data row20 col3\" >0,02</td>\n",
       "      <td id=\"T_ca4d2_row20_col4\" class=\"data row20 col4\" >0,70</td>\n",
       "    </tr>\n",
       "    <tr>\n",
       "      <th id=\"T_ca4d2_level0_row21\" class=\"row_heading level0 row21\" >Tolochenaz</th>\n",
       "      <td id=\"T_ca4d2_row21_col0\" class=\"data row21 col0\" >4</td>\n",
       "      <td id=\"T_ca4d2_row21_col1\" class=\"data row21 col1\" >78</td>\n",
       "      <td id=\"T_ca4d2_row21_col2\" class=\"data row21 col2\" >0,04</td>\n",
       "      <td id=\"T_ca4d2_row21_col3\" class=\"data row21 col3\" >0,00</td>\n",
       "      <td id=\"T_ca4d2_row21_col4\" class=\"data row21 col4\" >0,30</td>\n",
       "    </tr>\n",
       "    <tr>\n",
       "      <th id=\"T_ca4d2_level0_row22\" class=\"row_heading level0 row22\" >Tougues</th>\n",
       "      <td id=\"T_ca4d2_row22_col0\" class=\"data row22 col0\" >4</td>\n",
       "      <td id=\"T_ca4d2_row22_col1\" class=\"data row22 col1\" >660</td>\n",
       "      <td id=\"T_ca4d2_row22_col2\" class=\"data row22 col2\" >0,04</td>\n",
       "      <td id=\"T_ca4d2_row22_col3\" class=\"data row22 col3\" >0,02</td>\n",
       "      <td id=\"T_ca4d2_row22_col4\" class=\"data row22 col4\" >0,47</td>\n",
       "    </tr>\n",
       "    <tr>\n",
       "      <th id=\"T_ca4d2_level0_row23\" class=\"row_heading level0 row23\" >Versoix</th>\n",
       "      <td id=\"T_ca4d2_row23_col0\" class=\"data row23 col0\" >4</td>\n",
       "      <td id=\"T_ca4d2_row23_col1\" class=\"data row23 col1\" >176</td>\n",
       "      <td id=\"T_ca4d2_row23_col2\" class=\"data row23 col2\" >0,04</td>\n",
       "      <td id=\"T_ca4d2_row23_col3\" class=\"data row23 col3\" >0,01</td>\n",
       "      <td id=\"T_ca4d2_row23_col4\" class=\"data row23 col4\" >0,60</td>\n",
       "    </tr>\n",
       "    <tr>\n",
       "      <th id=\"T_ca4d2_level0_row24\" class=\"row_heading level0 row24\" >Vidy</th>\n",
       "      <td id=\"T_ca4d2_row24_col0\" class=\"data row24 col0\" >4</td>\n",
       "      <td id=\"T_ca4d2_row24_col1\" class=\"data row24 col1\" >1'571</td>\n",
       "      <td id=\"T_ca4d2_row24_col2\" class=\"data row24 col2\" >0,04</td>\n",
       "      <td id=\"T_ca4d2_row24_col3\" class=\"data row24 col3\" >0,06</td>\n",
       "      <td id=\"T_ca4d2_row24_col4\" class=\"data row24 col4\" >1,82</td>\n",
       "    </tr>\n",
       "  </tbody>\n",
       "</table>\n"
      ],
      "text/plain": [
       "<pandas.io.formats.style.Styler at 0x7fa7bcb69c10>"
      ]
     },
     "metadata": {
      "scrapbook": {
       "mime_prefix": "",
       "name": "a3tabletwo"
      }
     },
     "output_type": "display_data"
    }
   ],
   "source": [
    "location_summary = work_data.groupby(\"Plage\", as_index=False).agg({\"échantillon\": \"nunique\", \"quantité\":\"sum\"})\n",
    "location_summary[\"% échantillon \"] = location_summary['échantillon']/location_summary['échantillon'].sum()\n",
    "location_summary[\"%  quantité\"] = location_summary[\"quantité\"]/location_summary[\"quantité\"].sum()\n",
    "\n",
    "df1 = location_summary.copy()\n",
    "df1.set_index(\"Plage\", inplace=True, drop=True)\n",
    "df1.index.name = None\n",
    "a_property =  {'color' : 'red'}\n",
    "a_property2 = { 'color': 'dodgerblue'}\n",
    "\n",
    "select_values = df1[\"% échantillon \"] < df1[\"%  quantité\"]\n",
    "test_one = df1.loc[select_values].index\n",
    "\n",
    "caption1 = \"Nombre cumulé d'échantillons et le total par plage.\"\n",
    "caption2 = \"Les plages où le proportion du comptage est supérieur au proportion des échantillons sont en rouge. Les plages dont la moyenne des résultats est supérieure à la moyenne du projet sont en BLEU.\"  \n",
    "caption = f'{caption1} {caption2}'\n",
    "\n",
    "df1[\"moyenne\"] = df1.index.map(lambda x: sample_averages['moyenne'].loc[x])\n",
    "select_values2 = df1[\"moyenne\"] > 1.45\n",
    "test_two = df1[select_values2].index\n",
    "\n",
    "ttwo = df1.style.set_table_styles(table_css_styles).set_properties(subset=pd.IndexSlice[test_two, [\"moyenne\"]], **a_property2)\n",
    "ttwo = ttwo.set_properties(subset = pd.IndexSlice[test_one,[\"% échantillon \", \"%  quantité\"]], **a_property)\n",
    "\n",
    "table_no += 1\n",
    "\n",
    "table_two = add_table_to_page(ttwo, table_no, caption, section, page, \" \")\n",
    "glue('a3tabletwo', table_two, display=True)"
   ]
  },
  {
   "cell_type": "code",
   "execution_count": null,
   "id": "b0328cce-de4a-4dd5-afd1-25f5f3ba189c",
   "metadata": {
    "tags": [
     "remove-input"
    ]
   },
   "outputs": [],
   "source": [
    "bar_plots = pd.melt(location_summary, id_vars=\"Plage\", value_vars=[\"% échantillon \", \"%  quantité\"])\n",
    "fig, ax = plt.subplots()\n",
    "sns.barplot(data=bar_plots, x=\"Plage\", y=\"value\", hue=\"variable\", ax=ax)\n",
    "ax.legend(loc=\"upper left\")\n",
    "ax.tick_params(axis=\"x\", labelrotation=90, labelright=True, labelsize=12 )\n",
    "ax.set_ylabel('% du total')\n",
    "ax.set_xlabel(\" \")\n",
    "glue('fig-A31', fig, display=False)\n",
    "plt.close()"
   ]
  },
  {
   "cell_type": "markdown",
   "id": "239caa51-f5ca-4aeb-ad15-ecfb727f1a5c",
   "metadata": {},
   "source": [
    "```{glue:figure} fig-A31\n",
    "---\n",
    "name: fig-A31\n",
    "---\n",
    "{glue:text}`blank_caption` \n",
    "```"
   ]
  },
  {
   "cell_type": "code",
   "execution_count": null,
   "id": "192f3e40-4fa9-4742-a406-e6795e45173e",
   "metadata": {
    "tags": [
     "remove-input"
    ]
   },
   "outputs": [],
   "source": [
    "attribute_columns = [\"Plage\", \"position\", \"substrat\"]\n",
    "percent_of_samples = df1.loc[select_values]['échantillon'].sum()/location_summary['échantillon'].sum()\n",
    "attributes_of_samples = work_data[work_data.Plage.isin(test_one)].drop_duplicates([\"Plage\"])\n",
    "\n",
    "attribute_keys = [name_zones, name_substrate, name_frequentation, name_situation, name_distance]"
   ]
  },
  {
   "cell_type": "markdown",
   "id": "8280104c-d400-4bbe-af2b-2c962a395872",
   "metadata": {},
   "source": [
    "## Compte moyen par échantillon et plage"
   ]
  },
  {
   "cell_type": "code",
   "execution_count": null,
   "id": "da50d73e-f37a-4016-b633-91818721c6e4",
   "metadata": {
    "tags": [
     "remove-input"
    ]
   },
   "outputs": [],
   "source": [
    "bpt = event_total.groupby([\"échantillon\", \"date\", \"Plage\"], as_index=False).agg({'area': 'sum', 'quantité':'sum'})\n",
    "bpx = bpt.groupby([\"échantillon\"], as_index=False).agg({'quantité':'sum', 'area':'sum'})\n",
    "bpx['pcs/m²']= bpx[\"quantité\"]/bpx.area\n",
    "df2 = bpx.copy()\n",
    "# value_column = \"moyenne\"\n",
    "\n",
    "summary_particuless = bpx[\"pcs/m²\"].describe()\n",
    "\n",
    "t_three =  translate_describe(summary_particuless, \"pcs/m²\").T.style.set_table_styles(table_css_styles)\n",
    "\n",
    "table_no += 1\n",
    "caption = 'Le résumé des résultats du nombre de déchets trouvées par m².'\n",
    "\n",
    "table_three = add_table_to_page(t_three, table_no, caption, section, page, \" \")\n",
    "glue('a3table3', table_three, display=True)"
   ]
  },
  {
   "cell_type": "code",
   "execution_count": null,
   "id": "60ee9afb-c441-47de-8416-115a80abafa5",
   "metadata": {
    "tags": [
     "remove-input"
    ]
   },
   "outputs": [],
   "source": [
    "fig, ax = plt.subplots(2,2, figsize=(7,7))\n",
    "\n",
    "sns.scatterplot(data=sample_totals, x=\"date\", y=\"pcs/m²\", ax=ax[0,0])\n",
    "ax[0,0].tick_params(labelbottom=False, bottom=False)\n",
    "ax[0,0].set_title(\"Total par échantillon\", loc=\"left\")\n",
    "capitalize_x_and_y_axis_labels(ax[0,0])\n",
    "\n",
    "sns.boxplot(data=sample_totals, y=\"pcs/m²\", dodge=False, width=.9, ax=ax[0,1])\n",
    "ax[0,1].set_title(\"Boîte de Tukey\", loc=\"left\")\n",
    "capitalize_x_and_y_axis_labels(ax[0,1])\n",
    "\n",
    "sns.histplot(data=sample_totals, x=\"pcs/m²\", ax=ax[1,0], stat=\"probability\", kde=True)\n",
    "ax[1,0].yaxis.set_major_formatter('{x:.2f}')\n",
    "ax[1,0].set_ylabel(\"Probabilité\")\n",
    "ax[1,0].set_title(\"Histogramme\", loc=\"left\")\n",
    "capitalize_x_and_y_axis_labels(ax[1,0])\n",
    "\n",
    "sns.ecdfplot(data=sample_totals, x=\"pcs/m²\", ax=ax[1,1])\n",
    "ax[1,1].set_title(\"Fonction de répartition\", loc=\"left\")\n",
    "capitalize_x_and_y_axis_labels(ax[1,1])\n",
    "plt.tight_layout()\n",
    "\n",
    "glue('fig-A32', fig, display=False)\n",
    "plt.close()"
   ]
  },
  {
   "cell_type": "markdown",
   "id": "73923767-5956-4ad9-8666-ac2e84d5f50f",
   "metadata": {},
   "source": [
    "```{glue:figure} fig-A32\n",
    "---\n",
    "name: fig-A32\n",
    "---\n",
    "{glue:text}`blank_caption` \n",
    "```"
   ]
  },
  {
   "cell_type": "markdown",
   "id": "0dc239f8-26c7-4746-a88a-a6a11437501f",
   "metadata": {},
   "source": [
    "## Comptes moyenne par position "
   ]
  },
  {
   "cell_type": "code",
   "execution_count": null,
   "id": "10ebe5fa-8515-4278-9ae3-d02f64480d52",
   "metadata": {
    "tags": [
     "remove-input"
    ]
   },
   "outputs": [],
   "source": [
    "position_totals = event_total.groupby([\"échantillon\",\"date\", \"Plage\", \"position\"], as_index=False).agg({'area': 'sum', 'quantité':'sum'})\n",
    "position_totals[\"position\"] = position_totals.position.apply(lambda x: name_zones[x])\n",
    "position_totals['pcs/m²'] = position_totals['quantité']/position_totals.area\n",
    "position_totals[\"position\"] = position_totals[\"position\"].apply(lambda x: x.capitalize())\n",
    "\n",
    "column_display = {\n",
    "    \"count\":\"échantillons\",\n",
    "    \"mean\": \"moyenne\",\n",
    "    \"std\": \"écart type\",\n",
    "    \"échantillon\":\"échantillon\"\n",
    "}\n",
    "\n",
    "voi = \"position\"\n",
    "vals = \"pcs/m²\"\n",
    "groupbys = ['échantillon', voi]\n",
    "labels = name_zones\n",
    "position_summary = attribute_summary(event_total, vals, voi, columns=column_display, labels=name_zones, as_type='float')\n",
    "\n",
    "table_no += 1\n",
    "caption = \"Le résumé des totaux d'échantillons par position sur la plage.\"\n",
    "\n",
    "table_five = add_table_to_page(position_summary, table_no, caption, section, page, \" \")\n",
    "glue('table-five', table_five, display=True)"
   ]
  },
  {
   "cell_type": "code",
   "execution_count": null,
   "id": "c8a884fd-743f-45a2-bda5-3bb229b43048",
   "metadata": {
    "tags": [
     "remove-input"
    ]
   },
   "outputs": [],
   "source": [
    "fig, ax = plt.subplots(2,2, figsize=(7,7))\n",
    "\n",
    "sns.scatterplot(data=position_totals, x=\"date\", y=\"pcs/m²\", hue=\"position\", ax=ax[0,0])\n",
    "ax[0,0].tick_params(labelbottom=False, bottom=False)\n",
    "ax[0,0].set_title(\"Total par échantillon\", loc=\"left\")\n",
    "capitalize_x_and_y_axis_labels(ax[0,0])\n",
    "sns.move_legend(ax[0, 0], title=\" \", loc='best')\n",
    "\n",
    "sns.boxplot(data=position_totals, x=\"position\", y=\"pcs/m²\", hue=\"position\", dodge=False, width=.9, ax=ax[0,1])\n",
    "ax[0,1].set_title(\"Boîte de Tukey\", loc=\"left\")\n",
    "ax[0,1].set_xlabel(\"\")\n",
    "ax[0,1].legend().remove()\n",
    "capitalize_x_tick_labels(ax[0,1])\n",
    "capitalize_x_and_y_axis_labels(ax[0,1])\n",
    "\n",
    "sns.histplot(data=position_totals, x=\"pcs/m²\", hue=\"position\", ax=ax[1,0], multiple=\"stack\", stat=\"probability\", kde=True)\n",
    "ax[1,0].yaxis.set_major_formatter('{x:.2f}')\n",
    "ax[1,0].set_ylabel(\"Probabilité\")\n",
    "ax[1,0].set_title(\"Histogramme\", loc=\"left\")\n",
    "ax[1,0].get_legend().remove()\n",
    "capitalize_x_and_y_axis_labels(ax[1,0])\n",
    "\n",
    "sns.ecdfplot(data=position_totals, x=\"pcs/m²\", hue=\"position\", ax=ax[1,1])\n",
    "ax[1,1].set_title(\"Fonction de répartition\", loc=\"left\")\n",
    "capitalize_x_and_y_axis_labels(ax[1,1])\n",
    "sns.move_legend(ax[1, 1], title=\" \", loc='best')\n",
    "\n",
    "plt.tight_layout()\n",
    "\n",
    "glue('fig-A33', fig, display=True)\n",
    "plt.close()"
   ]
  },
  {
   "cell_type": "markdown",
   "id": "e672256d-3366-4c99-92d3-9ca192daeeb3",
   "metadata": {},
   "source": [
    "```{glue:figure} fig-A33\n",
    "---\n",
    "name: fig-A33\n",
    "---\n",
    "{glue:text}`blank_caption` \n",
    "```"
   ]
  },
  {
   "cell_type": "code",
   "execution_count": null,
   "id": "b854c5ca-0944-44b8-a0fb-5051c2d2f37f",
   "metadata": {
    "tags": [
     "remove-input"
    ]
   },
   "outputs": [],
   "source": [
    "t = position_totals.groupby(['Plage', 'position'], as_index=False)['pcs/m²'].mean()\n",
    "t = t.pivot(index=\"Plage\", columns=\"position\")\n",
    "t.index.name = None\n",
    "t.columns.name = None\n",
    "sax = t.style.set_table_styles(table_css_styles)\n",
    "\n",
    "\n",
    "position_columns = list(name_zones.values())\n",
    "\n",
    "args = [(\"pcs/m²\", \"Ligne d'eau\"), (\"pcs/m²\", \"Plage seche\")]\n",
    "\n",
    "water_line = select_a_set_of_values(t, args[0], average_of_sample_totals).index\n",
    "plage_seche = select_a_set_of_values(t, args[1], average_of_sample_totals).index\n",
    "\n",
    "caption = \"Le résultat moyen de pcs/m² par position.\"\n",
    " \n",
    "sax = sax.set_properties(subset = pd.IndexSlice[water_line,args[0]], **a_property)\n",
    "sax = sax.set_properties(subset = pd.IndexSlice[plage_seche,args[1]], **a_property)\n",
    "table_no += 1\n",
    "sax = add_table_to_page(sax,table_no, caption, section, page, rule=\" \")\n",
    "glue('table-six', sax, display=True)"
   ]
  },
  {
   "cell_type": "markdown",
   "id": "5f3a66e8-95f6-4cdf-8616-458bd5ab1a61",
   "metadata": {},
   "source": [
    "### Distributions\n",
    "\n"
   ]
  },
  {
   "cell_type": "code",
   "execution_count": null,
   "id": "309b8941-f071-4854-b61c-0fb4f7397f41",
   "metadata": {
    "tags": [
     "remove-input"
    ]
   },
   "outputs": [],
   "source": [
    "fig, ax = plt.subplots(1, figsize=(8,5))\n",
    "\n",
    "sns.boxplot(data=position_totals, x=\"Plage\", y=\"pcs/m²\", hue=\"position\", ax=ax)\n",
    "\n",
    "ax.tick_params(axis=\"x\", labelrotation=90)\n",
    "ax.set_xlabel(\"\")\n",
    "capitalize_x_and_y_axis_labels(ax)\n",
    "\n",
    "plt.show()"
   ]
  },
  {
   "cell_type": "code",
   "execution_count": null,
   "id": "6c6060f9-9319-40b1-842f-1995cf4820bc",
   "metadata": {
    "tags": [
     "remove-input"
    ]
   },
   "outputs": [],
   "source": [
    "%watermark --iversions -b -r"
   ]
  },
  {
   "cell_type": "code",
   "execution_count": null,
   "id": "895d3ded-d895-4dc8-b972-9a46e5f64d58",
   "metadata": {},
   "outputs": [],
   "source": []
  }
 ],
 "metadata": {
  "kernelspec": {
   "display_name": "Python 3 (ipykernel)",
   "language": "python",
   "name": "python3"
  },
  "language_info": {
   "codemirror_mode": {
    "name": "ipython",
    "version": 3
   },
   "file_extension": ".py",
   "mimetype": "text/x-python",
   "name": "python",
   "nbconvert_exporter": "python",
   "pygments_lexer": "ipython3",
   "version": "3.9.16"
  }
 },
 "nbformat": 4,
 "nbformat_minor": 5
}
