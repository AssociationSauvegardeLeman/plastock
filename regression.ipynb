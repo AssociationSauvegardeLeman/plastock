{
 "cells": [
  {
   "cell_type": "code",
   "execution_count": 1,
   "id": "32bcdb7d-96d5-47f5-a77a-139bafcc6a7d",
   "metadata": {
    "tags": [
     "hide-input"
    ]
   },
   "outputs": [],
   "source": [
    "%load_ext watermark\n",
    "import numpy as np\n",
    "import pandas as pd\n",
    "import datetime as dt\n",
    "import matplotlib.pyplot as plt\n",
    "import seaborn as sns\n",
    "from myst_nb import glue\n",
    "import statsmodels.api as sm\n",
    "from scipy import stats\n",
    "\n",
    "from plastockmethods import name_the_zones, name_the_particles, frequentation_name, situation_name\n",
    "from plastockmethods import particle_groups, name_the_substrate, name_the_distance, table_css_styles\n",
    "\n",
    "def translate_describe(x, value_column):\n",
    "    described = x.to_dict()\n",
    "    described.pop(\"count\")\n",
    "    described[\"moyenne\"] = described.pop(\"mean\")\n",
    "    described[\"écart-type\"] = described.pop(\"std\")\n",
    "    df = pd.DataFrame(described.items())\n",
    "    df.set_index(0, inplace=True)\n",
    "    df.rename(columns={1:value_column}, inplace=True)\n",
    "    df.index.name = None\n",
    "    \n",
    "    \n",
    "    return df\n",
    "\n",
    "work_data = pd.read_csv(\"data/end_pipe/long_form_micro.csv\")\n",
    "wide_form = pd.read_csv(\"data/end_pipe/aggregated_micro_results.csv\")\n",
    "beach_data = pd.read_csv(\"data/end_pipe/asl_beaches.csv\")\n",
    "\n",
    "wdx = work_data.copy()\n",
    "wdx[\"position\"] = wdx.position.apply(lambda x: name_the_zones[x])\n",
    "wdx[\"frequentation\"] = wdx.frequentation.apply(lambda x: frequentation_name[x])\n",
    "wdx[\"situation\"] = wdx.situation.apply(lambda x: situation_name[x])\n",
    "wdx[\"distance\"] = wdx.distance.apply(lambda x: name_the_distance[x])\n",
    "wdx[\"substrat\"] = wdx.substrat.apply(lambda x: name_the_substrate[x])"
   ]
  },
  {
   "cell_type": "markdown",
   "id": "64f4b56e-a28f-451b-848e-9a16e4646c59",
   "metadata": {},
   "source": [
    "# Regression\n",
    "\n",
    "La position des échantillons sur la plage (ligne d'eau, plage-seche) représente différentes conditions d'échantillonnage. C'est pourquoi nous les traiterons séparément.\n",
    "\n",
    "Les fragments durs et souple sont combinés pour chaque échantillon."
   ]
  },
  {
   "cell_type": "markdown",
   "id": "c41ff99a-13c4-4852-894a-b25640622c62",
   "metadata": {},
   "source": [
    "## Ligne d'eau"
   ]
  },
  {
   "cell_type": "code",
   "execution_count": 2,
   "id": "704ed296-9bb8-4add-afb4-54be2c91dc6f",
   "metadata": {
    "tags": [
     "remove-input"
    ]
   },
   "outputs": [
    {
     "data": {
      "text/html": [
       "<style type=\"text/css\">\n",
       "#T_c6f6f tr:nth-child(even) {\n",
       "  background-color: rgba(139, 69, 19, 0.08);\n",
       "}\n",
       "#T_c6f6f tr:nth-child(odd) {\n",
       "  background: #FFF;\n",
       "}\n",
       "#T_c6f6f tr {\n",
       "  font-size: 14px;\n",
       "}\n",
       "#T_c6f6f th:nth-child(1) {\n",
       "  background-color: #FFF;\n",
       "}\n",
       "#T_c6f6f caption {\n",
       "  caption-side: bottom;\n",
       "  font-size: 16px;\n",
       "  text-align: left;\n",
       "  margin-top: 15px;\n",
       "}\n",
       "</style>\n",
       "<table id=\"T_c6f6f\">\n",
       "  <caption>Les données sont regroupées en deux groupes par échantillon: 1. fibres, 2. fragment.</caption>\n",
       "  <thead>\n",
       "    <tr>\n",
       "      <th class=\"blank level0\" >&nbsp;</th>\n",
       "      <th id=\"T_c6f6f_level0_col0\" class=\"col_heading level0 col0\" >orientation</th>\n",
       "      <th id=\"T_c6f6f_level0_col1\" class=\"col_heading level0 col1\" >substrat</th>\n",
       "      <th id=\"T_c6f6f_level0_col2\" class=\"col_heading level0 col2\" >frequentation</th>\n",
       "      <th id=\"T_c6f6f_level0_col3\" class=\"col_heading level0 col3\" >situation</th>\n",
       "      <th id=\"T_c6f6f_level0_col4\" class=\"col_heading level0 col4\" >distance</th>\n",
       "      <th id=\"T_c6f6f_level0_col5\" class=\"col_heading level0 col5\" >objet</th>\n",
       "      <th id=\"T_c6f6f_level0_col6\" class=\"col_heading level0 col6\" >compte</th>\n",
       "    </tr>\n",
       "  </thead>\n",
       "  <tbody>\n",
       "    <tr>\n",
       "      <th id=\"T_c6f6f_level0_row0\" class=\"row_heading level0 row0\" >0</th>\n",
       "      <td id=\"T_c6f6f_row0_col0\" class=\"data row0 col0\" >NE</td>\n",
       "      <td id=\"T_c6f6f_row0_col1\" class=\"data row0 col1\" >galet</td>\n",
       "      <td id=\"T_c6f6f_row0_col2\" class=\"data row0 col2\" >élévée</td>\n",
       "      <td id=\"T_c6f6f_row0_col3\" class=\"data row0 col3\" >campagne</td>\n",
       "      <td id=\"T_c6f6f_row0_col4\" class=\"data row0 col4\" >< 100m</td>\n",
       "      <td id=\"T_c6f6f_row0_col5\" class=\"data row0 col5\" >fragment</td>\n",
       "      <td id=\"T_c6f6f_row0_col6\" class=\"data row0 col6\" >0.000000</td>\n",
       "    </tr>\n",
       "    <tr>\n",
       "      <th id=\"T_c6f6f_level0_row1\" class=\"row_heading level0 row1\" >1</th>\n",
       "      <td id=\"T_c6f6f_row1_col0\" class=\"data row1 col0\" >NNE</td>\n",
       "      <td id=\"T_c6f6f_row1_col1\" class=\"data row1 col1\" >galet</td>\n",
       "      <td id=\"T_c6f6f_row1_col2\" class=\"data row1 col2\" >élévée</td>\n",
       "      <td id=\"T_c6f6f_row1_col3\" class=\"data row1 col3\" >campagne</td>\n",
       "      <td id=\"T_c6f6f_row1_col4\" class=\"data row1 col4\" >< 100m</td>\n",
       "      <td id=\"T_c6f6f_row1_col5\" class=\"data row1 col5\" >fragment</td>\n",
       "      <td id=\"T_c6f6f_row1_col6\" class=\"data row1 col6\" >0.024834</td>\n",
       "    </tr>\n",
       "    <tr>\n",
       "      <th id=\"T_c6f6f_level0_row2\" class=\"row_heading level0 row2\" >2</th>\n",
       "      <td id=\"T_c6f6f_row2_col0\" class=\"data row2 col0\" >NE</td>\n",
       "      <td id=\"T_c6f6f_row2_col1\" class=\"data row2 col1\" >galet</td>\n",
       "      <td id=\"T_c6f6f_row2_col2\" class=\"data row2 col2\" >élévée</td>\n",
       "      <td id=\"T_c6f6f_row2_col3\" class=\"data row2 col3\" >campagne</td>\n",
       "      <td id=\"T_c6f6f_row2_col4\" class=\"data row2 col4\" >< 100m</td>\n",
       "      <td id=\"T_c6f6f_row2_col5\" class=\"data row2 col5\" >fragment</td>\n",
       "      <td id=\"T_c6f6f_row2_col6\" class=\"data row2 col6\" >0.000000</td>\n",
       "    </tr>\n",
       "    <tr>\n",
       "      <th id=\"T_c6f6f_level0_row3\" class=\"row_heading level0 row3\" >3</th>\n",
       "      <td id=\"T_c6f6f_row3_col0\" class=\"data row3 col0\" >NNE</td>\n",
       "      <td id=\"T_c6f6f_row3_col1\" class=\"data row3 col1\" >galet</td>\n",
       "      <td id=\"T_c6f6f_row3_col2\" class=\"data row3 col2\" >élévée</td>\n",
       "      <td id=\"T_c6f6f_row3_col3\" class=\"data row3 col3\" >campagne</td>\n",
       "      <td id=\"T_c6f6f_row3_col4\" class=\"data row3 col4\" >< 100m</td>\n",
       "      <td id=\"T_c6f6f_row3_col5\" class=\"data row3 col5\" >fragment</td>\n",
       "      <td id=\"T_c6f6f_row3_col6\" class=\"data row3 col6\" >0.004967</td>\n",
       "    </tr>\n",
       "    <tr>\n",
       "      <th id=\"T_c6f6f_level0_row4\" class=\"row_heading level0 row4\" >4</th>\n",
       "      <td id=\"T_c6f6f_row4_col0\" class=\"data row4 col0\" >NNO</td>\n",
       "      <td id=\"T_c6f6f_row4_col1\" class=\"data row4 col1\" >galet</td>\n",
       "      <td id=\"T_c6f6f_row4_col2\" class=\"data row4 col2\" >moyenne</td>\n",
       "      <td id=\"T_c6f6f_row4_col3\" class=\"data row4 col3\" >campagne</td>\n",
       "      <td id=\"T_c6f6f_row4_col4\" class=\"data row4 col4\" >< 100m</td>\n",
       "      <td id=\"T_c6f6f_row4_col5\" class=\"data row4 col5\" >fragment</td>\n",
       "      <td id=\"T_c6f6f_row4_col6\" class=\"data row4 col6\" >0.014901</td>\n",
       "    </tr>\n",
       "  </tbody>\n",
       "</table>\n"
      ],
      "text/plain": [
       "<pandas.io.formats.style.Styler at 0x7f2b042a21c0>"
      ]
     },
     "execution_count": 2,
     "metadata": {},
     "output_type": "execute_result"
    }
   ],
   "source": [
    "caption = \"Les données sont regroupées en deux groupes par échantillon: 1. fibres, 2. fragment.\"\n",
    "\n",
    "# separate the first zone\n",
    "wdi = wdx[wdx.position == \"ligne-d'eau\"].copy()\n",
    "scaled = (wdi[\"compte\"] - wdi[\"compte\"].min()) / (wdi[\"compte\"].max() - wdi[\"compte\"].min())\n",
    "wdi[\"compte\"] = scaled\n",
    "\n",
    "# wdi[\"const\"] = 1.0\n",
    "\n",
    "# columns of interest\n",
    "x_cols = [\"orientation\", \"substrat\", \"frequentation\", \"situation\", \"distance\", \"objet\"]\n",
    "y_col = [\"compte\"]\n",
    "\n",
    "# combine the fragments\n",
    "w_f = wdi[wdi.objet.isin([\"souple\", \"fdure\"])].copy()\n",
    "\n",
    "souple_d = w_f.groupby([\"echantillon\", *x_cols[:-1]], as_index=False).compte.sum()\n",
    "souple_d[\"objet\"] = \"fragment\"\n",
    "\n",
    "# isolate the fibres\n",
    "fibres = wdi[wdi.objet.isin([\"fibres\"])].copy()\n",
    "\n",
    "# combine the aggregate fragments and the fibres\n",
    "w_d = pd.concat([souple_d[[*x_cols, *y_col]], fibres[[*x_cols, *y_col]]])\n",
    "\n",
    "\n",
    "w_d.head().style.set_table_styles(table_css_styles).set_caption(caption)"
   ]
  },
  {
   "cell_type": "markdown",
   "id": "40cc3a04-20b0-4da8-86fc-48e9a4b91d31",
   "metadata": {},
   "source": [
    "### Régression des moindres carrés ordinaires (MCO)\n",
    "\n",
    "__Toutes les variables__"
   ]
  },
  {
   "cell_type": "code",
   "execution_count": 3,
   "id": "f462dd8e-195b-4369-9ae4-fcaf292353e7",
   "metadata": {
    "tags": [
     "remove-input"
    ]
   },
   "outputs": [
    {
     "data": {
      "text/html": [
       "<table class=\"simpletable\">\n",
       "<caption>OLS Regression Results</caption>\n",
       "<tr>\n",
       "  <th>Dep. Variable:</th>         <td>compte</td>      <th>  R-squared (uncentered):</th>      <td>   0.553</td>\n",
       "</tr>\n",
       "<tr>\n",
       "  <th>Model:</th>                   <td>OLS</td>       <th>  Adj. R-squared (uncentered):</th> <td>   0.496</td>\n",
       "</tr>\n",
       "<tr>\n",
       "  <th>Method:</th>             <td>Least Squares</td>  <th>  F-statistic:       </th>          <td>   9.735</td>\n",
       "</tr>\n",
       "<tr>\n",
       "  <th>Date:</th>             <td>Wed, 11 Oct 2023</td> <th>  Prob (F-statistic):</th>          <td>5.78e-23</td>\n",
       "</tr>\n",
       "<tr>\n",
       "  <th>Time:</th>                 <td>08:00:09</td>     <th>  Log-Likelihood:    </th>          <td>  178.31</td>\n",
       "</tr>\n",
       "<tr>\n",
       "  <th>No. Observations:</th>      <td>   222</td>      <th>  AIC:               </th>          <td>  -306.6</td>\n",
       "</tr>\n",
       "<tr>\n",
       "  <th>Df Residuals:</th>          <td>   197</td>      <th>  BIC:               </th>          <td>  -221.6</td>\n",
       "</tr>\n",
       "<tr>\n",
       "  <th>Df Model:</th>              <td>    25</td>      <th>                     </th>              <td> </td>   \n",
       "</tr>\n",
       "<tr>\n",
       "  <th>Covariance Type:</th>      <td>nonrobust</td>    <th>                     </th>              <td> </td>   \n",
       "</tr>\n",
       "</table>\n",
       "<table class=\"simpletable\">\n",
       "<tr>\n",
       "              <td></td>                <th>coef</th>     <th>std err</th>      <th>t</th>      <th>P>|t|</th>  <th>[0.025</th>    <th>0.975]</th>  \n",
       "</tr>\n",
       "<tr>\n",
       "  <th>orientation_ENE</th>          <td>    0.2757</td> <td>    0.082</td> <td>    3.358</td> <td> 0.001</td> <td>    0.114</td> <td>    0.438</td>\n",
       "</tr>\n",
       "<tr>\n",
       "  <th>orientation_ESE</th>          <td>    0.1694</td> <td>    0.113</td> <td>    1.502</td> <td> 0.135</td> <td>   -0.053</td> <td>    0.392</td>\n",
       "</tr>\n",
       "<tr>\n",
       "  <th>orientation_N</th>            <td>    0.1039</td> <td>    0.065</td> <td>    1.587</td> <td> 0.114</td> <td>   -0.025</td> <td>    0.233</td>\n",
       "</tr>\n",
       "<tr>\n",
       "  <th>orientation_NE</th>           <td>    0.1219</td> <td>    0.084</td> <td>    1.456</td> <td> 0.147</td> <td>   -0.043</td> <td>    0.287</td>\n",
       "</tr>\n",
       "<tr>\n",
       "  <th>orientation_NNE</th>          <td>    0.1372</td> <td>    0.074</td> <td>    1.853</td> <td> 0.065</td> <td>   -0.009</td> <td>    0.283</td>\n",
       "</tr>\n",
       "<tr>\n",
       "  <th>orientation_NNO</th>          <td>    0.0742</td> <td>    0.063</td> <td>    1.179</td> <td> 0.240</td> <td>   -0.050</td> <td>    0.198</td>\n",
       "</tr>\n",
       "<tr>\n",
       "  <th>orientation_NO</th>           <td>    0.1901</td> <td>    0.064</td> <td>    2.982</td> <td> 0.003</td> <td>    0.064</td> <td>    0.316</td>\n",
       "</tr>\n",
       "<tr>\n",
       "  <th>orientation_O</th>            <td>    0.1180</td> <td>    0.089</td> <td>    1.319</td> <td> 0.189</td> <td>   -0.058</td> <td>    0.294</td>\n",
       "</tr>\n",
       "<tr>\n",
       "  <th>orientation_ONO</th>          <td>    0.1019</td> <td>    0.093</td> <td>    1.094</td> <td> 0.275</td> <td>   -0.082</td> <td>    0.286</td>\n",
       "</tr>\n",
       "<tr>\n",
       "  <th>orientation_OSO</th>          <td>    0.1409</td> <td>    0.085</td> <td>    1.654</td> <td> 0.100</td> <td>   -0.027</td> <td>    0.309</td>\n",
       "</tr>\n",
       "<tr>\n",
       "  <th>orientation_S</th>            <td>    0.1113</td> <td>    0.078</td> <td>    1.422</td> <td> 0.157</td> <td>   -0.043</td> <td>    0.266</td>\n",
       "</tr>\n",
       "<tr>\n",
       "  <th>orientation_SE</th>           <td>    0.1689</td> <td>    0.061</td> <td>    2.750</td> <td> 0.007</td> <td>    0.048</td> <td>    0.290</td>\n",
       "</tr>\n",
       "<tr>\n",
       "  <th>orientation_SO</th>           <td>    0.1907</td> <td>    0.075</td> <td>    2.534</td> <td> 0.012</td> <td>    0.042</td> <td>    0.339</td>\n",
       "</tr>\n",
       "<tr>\n",
       "  <th>orientation_SSE</th>          <td>    0.0864</td> <td>    0.076</td> <td>    1.133</td> <td> 0.259</td> <td>   -0.064</td> <td>    0.237</td>\n",
       "</tr>\n",
       "<tr>\n",
       "  <th>orientation_SSO</th>          <td>    0.1188</td> <td>    0.076</td> <td>    1.567</td> <td> 0.119</td> <td>   -0.031</td> <td>    0.268</td>\n",
       "</tr>\n",
       "<tr>\n",
       "  <th>substrat_gravier</th>         <td>   -0.0048</td> <td>    0.046</td> <td>   -0.103</td> <td> 0.918</td> <td>   -0.096</td> <td>    0.086</td>\n",
       "</tr>\n",
       "<tr>\n",
       "  <th>substrat_sable fin</th>       <td>    0.0619</td> <td>    0.026</td> <td>    2.381</td> <td> 0.018</td> <td>    0.011</td> <td>    0.113</td>\n",
       "</tr>\n",
       "<tr>\n",
       "  <th>substrat_sable grosssier</th> <td>   -0.0312</td> <td>    0.043</td> <td>   -0.731</td> <td> 0.466</td> <td>   -0.116</td> <td>    0.053</td>\n",
       "</tr>\n",
       "<tr>\n",
       "  <th>frequentation_moyenne</th>    <td>    0.0623</td> <td>    0.051</td> <td>    1.210</td> <td> 0.228</td> <td>   -0.039</td> <td>    0.164</td>\n",
       "</tr>\n",
       "<tr>\n",
       "  <th>frequentation_élévée</th>     <td>   -0.0359</td> <td>    0.069</td> <td>   -0.522</td> <td> 0.602</td> <td>   -0.172</td> <td>    0.100</td>\n",
       "</tr>\n",
       "<tr>\n",
       "  <th>situation_urbain</th>         <td>   -0.0089</td> <td>    0.034</td> <td>   -0.262</td> <td> 0.794</td> <td>   -0.076</td> <td>    0.058</td>\n",
       "</tr>\n",
       "<tr>\n",
       "  <th>distance_500 - 1000m</th>     <td>    0.0185</td> <td>    0.108</td> <td>    0.172</td> <td> 0.864</td> <td>   -0.194</td> <td>    0.231</td>\n",
       "</tr>\n",
       "<tr>\n",
       "  <th>distance_< 100m</th>          <td>    0.0081</td> <td>    0.025</td> <td>    0.330</td> <td> 0.742</td> <td>   -0.040</td> <td>    0.057</td>\n",
       "</tr>\n",
       "<tr>\n",
       "  <th>distance_> 1000m</th>         <td>   -0.0858</td> <td>    0.063</td> <td>   -1.359</td> <td> 0.176</td> <td>   -0.210</td> <td>    0.039</td>\n",
       "</tr>\n",
       "<tr>\n",
       "  <th>objet_fragment</th>           <td>   -0.0930</td> <td>    0.015</td> <td>   -6.030</td> <td> 0.000</td> <td>   -0.123</td> <td>   -0.063</td>\n",
       "</tr>\n",
       "</table>\n",
       "<table class=\"simpletable\">\n",
       "<tr>\n",
       "  <th>Omnibus:</th>       <td>234.304</td> <th>  Durbin-Watson:     </th> <td>   1.736</td>\n",
       "</tr>\n",
       "<tr>\n",
       "  <th>Prob(Omnibus):</th> <td> 0.000</td>  <th>  Jarque-Bera (JB):  </th> <td>8583.985</td>\n",
       "</tr>\n",
       "<tr>\n",
       "  <th>Skew:</th>          <td> 4.162</td>  <th>  Prob(JB):          </th> <td>    0.00</td>\n",
       "</tr>\n",
       "<tr>\n",
       "  <th>Kurtosis:</th>      <td>32.304</td>  <th>  Cond. No.          </th> <td>    48.2</td>\n",
       "</tr>\n",
       "</table><br/><br/>Notes:<br/>[1] R² is computed without centering (uncentered) since the model does not contain a constant.<br/>[2] Standard Errors assume that the covariance matrix of the errors is correctly specified."
      ],
      "text/plain": [
       "<class 'statsmodels.iolib.summary.Summary'>\n",
       "\"\"\"\n",
       "                                 OLS Regression Results                                \n",
       "=======================================================================================\n",
       "Dep. Variable:                 compte   R-squared (uncentered):                   0.553\n",
       "Model:                            OLS   Adj. R-squared (uncentered):              0.496\n",
       "Method:                 Least Squares   F-statistic:                              9.735\n",
       "Date:                Wed, 11 Oct 2023   Prob (F-statistic):                    5.78e-23\n",
       "Time:                        08:00:09   Log-Likelihood:                          178.31\n",
       "No. Observations:                 222   AIC:                                     -306.6\n",
       "Df Residuals:                     197   BIC:                                     -221.6\n",
       "Df Model:                          25                                                  \n",
       "Covariance Type:            nonrobust                                                  \n",
       "============================================================================================\n",
       "                               coef    std err          t      P>|t|      [0.025      0.975]\n",
       "--------------------------------------------------------------------------------------------\n",
       "orientation_ENE              0.2757      0.082      3.358      0.001       0.114       0.438\n",
       "orientation_ESE              0.1694      0.113      1.502      0.135      -0.053       0.392\n",
       "orientation_N                0.1039      0.065      1.587      0.114      -0.025       0.233\n",
       "orientation_NE               0.1219      0.084      1.456      0.147      -0.043       0.287\n",
       "orientation_NNE              0.1372      0.074      1.853      0.065      -0.009       0.283\n",
       "orientation_NNO              0.0742      0.063      1.179      0.240      -0.050       0.198\n",
       "orientation_NO               0.1901      0.064      2.982      0.003       0.064       0.316\n",
       "orientation_O                0.1180      0.089      1.319      0.189      -0.058       0.294\n",
       "orientation_ONO              0.1019      0.093      1.094      0.275      -0.082       0.286\n",
       "orientation_OSO              0.1409      0.085      1.654      0.100      -0.027       0.309\n",
       "orientation_S                0.1113      0.078      1.422      0.157      -0.043       0.266\n",
       "orientation_SE               0.1689      0.061      2.750      0.007       0.048       0.290\n",
       "orientation_SO               0.1907      0.075      2.534      0.012       0.042       0.339\n",
       "orientation_SSE              0.0864      0.076      1.133      0.259      -0.064       0.237\n",
       "orientation_SSO              0.1188      0.076      1.567      0.119      -0.031       0.268\n",
       "substrat_gravier            -0.0048      0.046     -0.103      0.918      -0.096       0.086\n",
       "substrat_sable fin           0.0619      0.026      2.381      0.018       0.011       0.113\n",
       "substrat_sable grosssier    -0.0312      0.043     -0.731      0.466      -0.116       0.053\n",
       "frequentation_moyenne        0.0623      0.051      1.210      0.228      -0.039       0.164\n",
       "frequentation_élévée        -0.0359      0.069     -0.522      0.602      -0.172       0.100\n",
       "situation_urbain            -0.0089      0.034     -0.262      0.794      -0.076       0.058\n",
       "distance_500 - 1000m         0.0185      0.108      0.172      0.864      -0.194       0.231\n",
       "distance_< 100m              0.0081      0.025      0.330      0.742      -0.040       0.057\n",
       "distance_> 1000m            -0.0858      0.063     -1.359      0.176      -0.210       0.039\n",
       "objet_fragment              -0.0930      0.015     -6.030      0.000      -0.123      -0.063\n",
       "==============================================================================\n",
       "Omnibus:                      234.304   Durbin-Watson:                   1.736\n",
       "Prob(Omnibus):                  0.000   Jarque-Bera (JB):             8583.985\n",
       "Skew:                           4.162   Prob(JB):                         0.00\n",
       "Kurtosis:                      32.304   Cond. No.                         48.2\n",
       "==============================================================================\n",
       "\n",
       "Notes:\n",
       "[1] R² is computed without centering (uncentered) since the model does not contain a constant.\n",
       "[2] Standard Errors assume that the covariance matrix of the errors is correctly specified.\n",
       "\"\"\""
      ]
     },
     "execution_count": 3,
     "metadata": {},
     "output_type": "execute_result"
    }
   ],
   "source": [
    "# make dumby variables\n",
    "x_dum = pd.get_dummies(w_d[x_cols], drop_first=True)\n",
    "\n",
    "Y = w_d[\"compte\"]\n",
    "\n",
    "an_ols = sm.OLS(Y, x_dum)\n",
    "ols_fit = an_ols.fit()\n",
    "ols_fit.summary()"
   ]
  },
  {
   "cell_type": "markdown",
   "id": "281f30e6-f143-4f60-824b-b4f2e04292e6",
   "metadata": {},
   "source": [
    "__Residuals__\n",
    "\n",
    "Dans la régression linéaire, un _residual_ est la différence entre la valeur réelle et la valeur prédite par le modèle (y-ŷ) pour un point donné. Un modèle de régression des moindres carrés minimise la somme des carrés des résidus"
   ]
  },
  {
   "cell_type": "code",
   "execution_count": 4,
   "id": "e16615e3-00ce-4801-8895-3d52f1fc5f6f",
   "metadata": {
    "tags": [
     "remove-input"
    ]
   },
   "outputs": [
    {
     "data": {
      "image/png": "[encoded data removed]",
      "text/plain": [
       "<Figure size 640x480 with 1 Axes>"
      ]
     },
     "metadata": {},
     "output_type": "display_data"
    }
   ],
   "source": [
    "fig, ax = plt.subplots()\n",
    "sns.histplot(x=ols_fit.resid, ax=ax, stat=\"density\", linewidth=0, kde=True)\n",
    "plt.show()"
   ]
  },
  {
   "cell_type": "markdown",
   "id": "55dbcd07-c8d6-463f-9279-31a348bc991a",
   "metadata": {},
   "source": [
    "#### QQ plot\n",
    "\n",
    "Un graphique q-q est un graphique des quantiles du premier ensemble de données par rapport aux quantiles du second ensemble de données. Par quantile, nous entendons la fraction (ou le pourcentage) de points inférieurs à la valeur donnée. Ainsi, le quantile 0,3 (ou 30 %) est le point auquel 30 % des données sont inférieures et 70 % supérieures à cette valeur."
   ]
  },
  {
   "cell_type": "code",
   "execution_count": 5,
   "id": "6c1dc0db-b760-4bc1-802d-1813191bf8a7",
   "metadata": {
    "tags": [
     "remove-input"
    ]
   },
   "outputs": [
    {
     "data": {
      "image/png": "[encoded data removed]",
      "text/plain": [
       "<Figure size 640x480 with 1 Axes>"
      ]
     },
     "metadata": {},
     "output_type": "display_data"
    }
   ],
   "source": [
    "sm.qqplot(ols_fit.resid, line='s');"
   ]
  },
  {
   "cell_type": "markdown",
   "id": "a56cc569-0f8a-4935-ad08-6cfbee468dae",
   "metadata": {},
   "source": [
    "#### Hsitogram\n",
    "\n",
    "Histogramme des observations par rapport aux prévisions. Résultats limités à > 0"
   ]
  },
  {
   "cell_type": "code",
   "execution_count": 6,
   "id": "5ff0492e-ef1d-4e8f-9368-188f088909af",
   "metadata": {
    "tags": [
     "remove-input"
    ]
   },
   "outputs": [
    {
     "data": {
      "image/png": "[encoded data removed]",
      "text/plain": [
       "<Figure size 640x480 with 1 Axes>"
      ]
     },
     "metadata": {},
     "output_type": "display_data"
    }
   ],
   "source": [
    "Y_max = Y.max()\n",
    "Y_min = Y.min()\n",
    "\n",
    "ax = sns.histplot(ols_fit.fittedvalues, label=\"Le modèle\", stat=\"probability\")\n",
    "ax = sns.histplot(Y, label=\"Observé\", stat=\"probability\")\n",
    "\n",
    "ax.set(xlim=(0, 1))\n",
    "ax.legend()\n",
    "plt.show()"
   ]
  },
  {
   "cell_type": "markdown",
   "id": "cc4053ae-d2b5-4015-bef6-bb14d12d1302",
   "metadata": {},
   "source": [
    "#### Sans la variable d'orientation"
   ]
  },
  {
   "cell_type": "code",
   "execution_count": 7,
   "id": "be3ad50b-6eed-423e-9fde-0b9daee6b007",
   "metadata": {
    "tags": [
     "remove-input"
    ]
   },
   "outputs": [
    {
     "data": {
      "text/html": [
       "<table class=\"simpletable\">\n",
       "<caption>OLS Regression Results</caption>\n",
       "<tr>\n",
       "  <th>Dep. Variable:</th>         <td>compte</td>      <th>  R-squared (uncentered):</th>      <td>   0.483</td>\n",
       "</tr>\n",
       "<tr>\n",
       "  <th>Model:</th>                   <td>OLS</td>       <th>  Adj. R-squared (uncentered):</th> <td>   0.459</td>\n",
       "</tr>\n",
       "<tr>\n",
       "  <th>Method:</th>             <td>Least Squares</td>  <th>  F-statistic:       </th>          <td>   19.80</td>\n",
       "</tr>\n",
       "<tr>\n",
       "  <th>Date:</th>             <td>Wed, 11 Oct 2023</td> <th>  Prob (F-statistic):</th>          <td>1.40e-25</td>\n",
       "</tr>\n",
       "<tr>\n",
       "  <th>Time:</th>                 <td>08:00:09</td>     <th>  Log-Likelihood:    </th>          <td>  162.25</td>\n",
       "</tr>\n",
       "<tr>\n",
       "  <th>No. Observations:</th>      <td>   222</td>      <th>  AIC:               </th>          <td>  -304.5</td>\n",
       "</tr>\n",
       "<tr>\n",
       "  <th>Df Residuals:</th>          <td>   212</td>      <th>  BIC:               </th>          <td>  -270.5</td>\n",
       "</tr>\n",
       "<tr>\n",
       "  <th>Df Model:</th>              <td>    10</td>      <th>                     </th>              <td> </td>   \n",
       "</tr>\n",
       "<tr>\n",
       "  <th>Covariance Type:</th>      <td>nonrobust</td>    <th>                     </th>              <td> </td>   \n",
       "</tr>\n",
       "</table>\n",
       "<table class=\"simpletable\">\n",
       "<tr>\n",
       "              <td></td>                <th>coef</th>     <th>std err</th>      <th>t</th>      <th>P>|t|</th>  <th>[0.025</th>    <th>0.975]</th>  \n",
       "</tr>\n",
       "<tr>\n",
       "  <th>substrat_gravier</th>         <td>    0.0302</td> <td>    0.026</td> <td>    1.160</td> <td> 0.247</td> <td>   -0.021</td> <td>    0.081</td>\n",
       "</tr>\n",
       "<tr>\n",
       "  <th>substrat_sable fin</th>       <td>    0.0893</td> <td>    0.021</td> <td>    4.282</td> <td> 0.000</td> <td>    0.048</td> <td>    0.130</td>\n",
       "</tr>\n",
       "<tr>\n",
       "  <th>substrat_sable grosssier</th> <td>    0.0402</td> <td>    0.031</td> <td>    1.304</td> <td> 0.194</td> <td>   -0.021</td> <td>    0.101</td>\n",
       "</tr>\n",
       "<tr>\n",
       "  <th>frequentation_moyenne</th>    <td>    0.1494</td> <td>    0.023</td> <td>    6.556</td> <td> 0.000</td> <td>    0.105</td> <td>    0.194</td>\n",
       "</tr>\n",
       "<tr>\n",
       "  <th>frequentation_élévée</th>     <td>    0.0907</td> <td>    0.023</td> <td>    3.963</td> <td> 0.000</td> <td>    0.046</td> <td>    0.136</td>\n",
       "</tr>\n",
       "<tr>\n",
       "  <th>situation_urbain</th>         <td>   -0.0335</td> <td>    0.020</td> <td>   -1.708</td> <td> 0.089</td> <td>   -0.072</td> <td>    0.005</td>\n",
       "</tr>\n",
       "<tr>\n",
       "  <th>distance_500 - 1000m</th>     <td>    0.0511</td> <td>    0.069</td> <td>    0.742</td> <td> 0.459</td> <td>   -0.085</td> <td>    0.187</td>\n",
       "</tr>\n",
       "<tr>\n",
       "  <th>distance_< 100m</th>          <td>   -0.0008</td> <td>    0.017</td> <td>   -0.046</td> <td> 0.964</td> <td>   -0.035</td> <td>    0.033</td>\n",
       "</tr>\n",
       "<tr>\n",
       "  <th>distance_> 1000m</th>         <td>    0.0063</td> <td>    0.034</td> <td>    0.188</td> <td> 0.851</td> <td>   -0.060</td> <td>    0.072</td>\n",
       "</tr>\n",
       "<tr>\n",
       "  <th>objet_fragment</th>           <td>   -0.0861</td> <td>    0.016</td> <td>   -5.422</td> <td> 0.000</td> <td>   -0.117</td> <td>   -0.055</td>\n",
       "</tr>\n",
       "</table>\n",
       "<table class=\"simpletable\">\n",
       "<tr>\n",
       "  <th>Omnibus:</th>       <td>225.668</td> <th>  Durbin-Watson:     </th> <td>   1.684</td>\n",
       "</tr>\n",
       "<tr>\n",
       "  <th>Prob(Omnibus):</th> <td> 0.000</td>  <th>  Jarque-Bera (JB):  </th> <td>6792.683</td>\n",
       "</tr>\n",
       "<tr>\n",
       "  <th>Skew:</th>          <td> 4.003</td>  <th>  Prob(JB):          </th> <td>    0.00</td>\n",
       "</tr>\n",
       "<tr>\n",
       "  <th>Kurtosis:</th>      <td>28.889</td>  <th>  Cond. No.          </th> <td>    11.2</td>\n",
       "</tr>\n",
       "</table><br/><br/>Notes:<br/>[1] R² is computed without centering (uncentered) since the model does not contain a constant.<br/>[2] Standard Errors assume that the covariance matrix of the errors is correctly specified."
      ],
      "text/plain": [
       "<class 'statsmodels.iolib.summary.Summary'>\n",
       "\"\"\"\n",
       "                                 OLS Regression Results                                \n",
       "=======================================================================================\n",
       "Dep. Variable:                 compte   R-squared (uncentered):                   0.483\n",
       "Model:                            OLS   Adj. R-squared (uncentered):              0.459\n",
       "Method:                 Least Squares   F-statistic:                              19.80\n",
       "Date:                Wed, 11 Oct 2023   Prob (F-statistic):                    1.40e-25\n",
       "Time:                        08:00:09   Log-Likelihood:                          162.25\n",
       "No. Observations:                 222   AIC:                                     -304.5\n",
       "Df Residuals:                     212   BIC:                                     -270.5\n",
       "Df Model:                          10                                                  \n",
       "Covariance Type:            nonrobust                                                  \n",
       "============================================================================================\n",
       "                               coef    std err          t      P>|t|      [0.025      0.975]\n",
       "--------------------------------------------------------------------------------------------\n",
       "substrat_gravier             0.0302      0.026      1.160      0.247      -0.021       0.081\n",
       "substrat_sable fin           0.0893      0.021      4.282      0.000       0.048       0.130\n",
       "substrat_sable grosssier     0.0402      0.031      1.304      0.194      -0.021       0.101\n",
       "frequentation_moyenne        0.1494      0.023      6.556      0.000       0.105       0.194\n",
       "frequentation_élévée         0.0907      0.023      3.963      0.000       0.046       0.136\n",
       "situation_urbain            -0.0335      0.020     -1.708      0.089      -0.072       0.005\n",
       "distance_500 - 1000m         0.0511      0.069      0.742      0.459      -0.085       0.187\n",
       "distance_< 100m             -0.0008      0.017     -0.046      0.964      -0.035       0.033\n",
       "distance_> 1000m             0.0063      0.034      0.188      0.851      -0.060       0.072\n",
       "objet_fragment              -0.0861      0.016     -5.422      0.000      -0.117      -0.055\n",
       "==============================================================================\n",
       "Omnibus:                      225.668   Durbin-Watson:                   1.684\n",
       "Prob(Omnibus):                  0.000   Jarque-Bera (JB):             6792.683\n",
       "Skew:                           4.003   Prob(JB):                         0.00\n",
       "Kurtosis:                      28.889   Cond. No.                         11.2\n",
       "==============================================================================\n",
       "\n",
       "Notes:\n",
       "[1] R² is computed without centering (uncentered) since the model does not contain a constant.\n",
       "[2] Standard Errors assume that the covariance matrix of the errors is correctly specified.\n",
       "\"\"\""
      ]
     },
     "execution_count": 7,
     "metadata": {},
     "output_type": "execute_result"
    }
   ],
   "source": [
    "# make dumby variables\n",
    "x_dum = pd.get_dummies(w_d[x_cols[1:]], drop_first=True)\n",
    "Y = w_d[\"compte\"]\n",
    "\n",
    "an_ols = sm.OLS(Y, x_dum)\n",
    "ols_fit = an_ols.fit()\n",
    "ols_fit.summary()"
   ]
  },
  {
   "cell_type": "markdown",
   "id": "5c0c0869-9df3-4975-b395-850d5d0ee5b3",
   "metadata": {},
   "source": [
    "#### QQ plot\n",
    "\n",
    "Un graphique q-q est un graphique des quantiles du premier ensemble de données par rapport aux quantiles du second ensemble de données. Par quantile, nous entendons la fraction (ou le pourcentage) de points inférieurs à la valeur donnée. Ainsi, le quantile 0,3 (ou 30 %) est le point auquel 30 % des données sont inférieures et 70 % supérieures à cette valeur."
   ]
  },
  {
   "cell_type": "code",
   "execution_count": 8,
   "id": "5a86a838-1511-4f5f-90d6-c20b9c7356ad",
   "metadata": {
    "tags": [
     "remove-input"
    ]
   },
   "outputs": [
    {
     "data": {
      "image/png": "[encoded data removed]",
      "text/plain": [
       "<Figure size 640x480 with 1 Axes>"
      ]
     },
     "metadata": {},
     "output_type": "display_data"
    }
   ],
   "source": [
    "sm.qqplot(ols_fit.resid, line='s');"
   ]
  },
  {
   "cell_type": "markdown",
   "id": "f89ab914-246f-4711-808b-fe989ec99fc3",
   "metadata": {},
   "source": [
    "#### Sans la variable de distance"
   ]
  },
  {
   "cell_type": "code",
   "execution_count": 9,
   "id": "bf868e8b-c6a8-44cf-8dcb-5181ff67d6b1",
   "metadata": {
    "tags": [
     "hide-input"
    ]
   },
   "outputs": [
    {
     "data": {
      "text/html": [
       "<table class=\"simpletable\">\n",
       "<caption>OLS Regression Results</caption>\n",
       "<tr>\n",
       "  <th>Dep. Variable:</th>         <td>compte</td>      <th>  R-squared (uncentered):</th>      <td>   0.534</td>\n",
       "</tr>\n",
       "<tr>\n",
       "  <th>Model:</th>                   <td>OLS</td>       <th>  Adj. R-squared (uncentered):</th> <td>   0.488</td>\n",
       "</tr>\n",
       "<tr>\n",
       "  <th>Method:</th>             <td>Least Squares</td>  <th>  F-statistic:       </th>          <td>   11.58</td>\n",
       "</tr>\n",
       "<tr>\n",
       "  <th>Date:</th>             <td>Wed, 11 Oct 2023</td> <th>  Prob (F-statistic):</th>          <td>5.58e-24</td>\n",
       "</tr>\n",
       "<tr>\n",
       "  <th>Time:</th>                 <td>08:00:09</td>     <th>  Log-Likelihood:    </th>          <td>  173.81</td>\n",
       "</tr>\n",
       "<tr>\n",
       "  <th>No. Observations:</th>      <td>   222</td>      <th>  AIC:               </th>          <td>  -307.6</td>\n",
       "</tr>\n",
       "<tr>\n",
       "  <th>Df Residuals:</th>          <td>   202</td>      <th>  BIC:               </th>          <td>  -239.6</td>\n",
       "</tr>\n",
       "<tr>\n",
       "  <th>Df Model:</th>              <td>    20</td>      <th>                     </th>              <td> </td>   \n",
       "</tr>\n",
       "<tr>\n",
       "  <th>Covariance Type:</th>      <td>nonrobust</td>    <th>                     </th>              <td> </td>   \n",
       "</tr>\n",
       "</table>\n",
       "<table class=\"simpletable\">\n",
       "<tr>\n",
       "              <td></td>                <th>coef</th>     <th>std err</th>      <th>t</th>      <th>P>|t|</th>  <th>[0.025</th>    <th>0.975]</th>  \n",
       "</tr>\n",
       "<tr>\n",
       "  <th>orientation_ENE</th>          <td>    0.2251</td> <td>    0.067</td> <td>    3.379</td> <td> 0.001</td> <td>    0.094</td> <td>    0.356</td>\n",
       "</tr>\n",
       "<tr>\n",
       "  <th>orientation_ESE</th>          <td>    0.0943</td> <td>    0.059</td> <td>    1.600</td> <td> 0.111</td> <td>   -0.022</td> <td>    0.211</td>\n",
       "</tr>\n",
       "<tr>\n",
       "  <th>orientation_N</th>            <td>    0.1445</td> <td>    0.035</td> <td>    4.144</td> <td> 0.000</td> <td>    0.076</td> <td>    0.213</td>\n",
       "</tr>\n",
       "<tr>\n",
       "  <th>orientation_NE</th>           <td>    0.0923</td> <td>    0.030</td> <td>    3.048</td> <td> 0.003</td> <td>    0.033</td> <td>    0.152</td>\n",
       "</tr>\n",
       "<tr>\n",
       "  <th>orientation_NNE</th>          <td>    0.1400</td> <td>    0.042</td> <td>    3.306</td> <td> 0.001</td> <td>    0.056</td> <td>    0.223</td>\n",
       "</tr>\n",
       "<tr>\n",
       "  <th>orientation_NNO</th>          <td>    0.1425</td> <td>    0.032</td> <td>    4.462</td> <td> 0.000</td> <td>    0.080</td> <td>    0.206</td>\n",
       "</tr>\n",
       "<tr>\n",
       "  <th>orientation_NO</th>           <td>    0.2101</td> <td>    0.030</td> <td>    7.009</td> <td> 0.000</td> <td>    0.151</td> <td>    0.269</td>\n",
       "</tr>\n",
       "<tr>\n",
       "  <th>orientation_O</th>            <td>    0.0855</td> <td>    0.045</td> <td>    1.891</td> <td> 0.060</td> <td>   -0.004</td> <td>    0.175</td>\n",
       "</tr>\n",
       "<tr>\n",
       "  <th>orientation_ONO</th>          <td>    0.0703</td> <td>    0.050</td> <td>    1.395</td> <td> 0.165</td> <td>   -0.029</td> <td>    0.170</td>\n",
       "</tr>\n",
       "<tr>\n",
       "  <th>orientation_OSO</th>          <td>    0.1099</td> <td>    0.033</td> <td>    3.295</td> <td> 0.001</td> <td>    0.044</td> <td>    0.176</td>\n",
       "</tr>\n",
       "<tr>\n",
       "  <th>orientation_S</th>            <td>    0.1265</td> <td>    0.041</td> <td>    3.079</td> <td> 0.002</td> <td>    0.045</td> <td>    0.208</td>\n",
       "</tr>\n",
       "<tr>\n",
       "  <th>orientation_SE</th>           <td>    0.1518</td> <td>    0.042</td> <td>    3.597</td> <td> 0.000</td> <td>    0.069</td> <td>    0.235</td>\n",
       "</tr>\n",
       "<tr>\n",
       "  <th>orientation_SO</th>           <td>    0.1650</td> <td>    0.031</td> <td>    5.374</td> <td> 0.000</td> <td>    0.104</td> <td>    0.226</td>\n",
       "</tr>\n",
       "<tr>\n",
       "  <th>orientation_SSE</th>          <td>    0.1091</td> <td>    0.037</td> <td>    2.916</td> <td> 0.004</td> <td>    0.035</td> <td>    0.183</td>\n",
       "</tr>\n",
       "<tr>\n",
       "  <th>orientation_SSO</th>          <td>    0.1332</td> <td>    0.038</td> <td>    3.491</td> <td> 0.001</td> <td>    0.058</td> <td>    0.208</td>\n",
       "</tr>\n",
       "<tr>\n",
       "  <th>substrat_gravier</th>         <td>    0.0335</td> <td>    0.034</td> <td>    0.975</td> <td> 0.331</td> <td>   -0.034</td> <td>    0.101</td>\n",
       "</tr>\n",
       "<tr>\n",
       "  <th>substrat_sable fin</th>       <td>    0.0601</td> <td>    0.023</td> <td>    2.561</td> <td> 0.011</td> <td>    0.014</td> <td>    0.106</td>\n",
       "</tr>\n",
       "<tr>\n",
       "  <th>substrat_sable grosssier</th> <td>   -0.0673</td> <td>    0.032</td> <td>   -2.094</td> <td> 0.038</td> <td>   -0.131</td> <td>   -0.004</td>\n",
       "</tr>\n",
       "<tr>\n",
       "  <th>situation_urbain</th>         <td>   -0.0511</td> <td>    0.023</td> <td>   -2.179</td> <td> 0.031</td> <td>   -0.097</td> <td>   -0.005</td>\n",
       "</tr>\n",
       "<tr>\n",
       "  <th>objet_fragment</th>           <td>   -0.0911</td> <td>    0.016</td> <td>   -5.877</td> <td> 0.000</td> <td>   -0.122</td> <td>   -0.061</td>\n",
       "</tr>\n",
       "</table>\n",
       "<table class=\"simpletable\">\n",
       "<tr>\n",
       "  <th>Omnibus:</th>       <td>229.242</td> <th>  Durbin-Watson:     </th> <td>   1.671</td>\n",
       "</tr>\n",
       "<tr>\n",
       "  <th>Prob(Omnibus):</th> <td> 0.000</td>  <th>  Jarque-Bera (JB):  </th> <td>7485.724</td>\n",
       "</tr>\n",
       "<tr>\n",
       "  <th>Skew:</th>          <td> 4.068</td>  <th>  Prob(JB):          </th> <td>    0.00</td>\n",
       "</tr>\n",
       "<tr>\n",
       "  <th>Kurtosis:</th>      <td>30.259</td>  <th>  Cond. No.          </th> <td>    10.1</td>\n",
       "</tr>\n",
       "</table><br/><br/>Notes:<br/>[1] R² is computed without centering (uncentered) since the model does not contain a constant.<br/>[2] Standard Errors assume that the covariance matrix of the errors is correctly specified."
      ],
      "text/plain": [
       "<class 'statsmodels.iolib.summary.Summary'>\n",
       "\"\"\"\n",
       "                                 OLS Regression Results                                \n",
       "=======================================================================================\n",
       "Dep. Variable:                 compte   R-squared (uncentered):                   0.534\n",
       "Model:                            OLS   Adj. R-squared (uncentered):              0.488\n",
       "Method:                 Least Squares   F-statistic:                              11.58\n",
       "Date:                Wed, 11 Oct 2023   Prob (F-statistic):                    5.58e-24\n",
       "Time:                        08:00:09   Log-Likelihood:                          173.81\n",
       "No. Observations:                 222   AIC:                                     -307.6\n",
       "Df Residuals:                     202   BIC:                                     -239.6\n",
       "Df Model:                          20                                                  \n",
       "Covariance Type:            nonrobust                                                  \n",
       "============================================================================================\n",
       "                               coef    std err          t      P>|t|      [0.025      0.975]\n",
       "--------------------------------------------------------------------------------------------\n",
       "orientation_ENE              0.2251      0.067      3.379      0.001       0.094       0.356\n",
       "orientation_ESE              0.0943      0.059      1.600      0.111      -0.022       0.211\n",
       "orientation_N                0.1445      0.035      4.144      0.000       0.076       0.213\n",
       "orientation_NE               0.0923      0.030      3.048      0.003       0.033       0.152\n",
       "orientation_NNE              0.1400      0.042      3.306      0.001       0.056       0.223\n",
       "orientation_NNO              0.1425      0.032      4.462      0.000       0.080       0.206\n",
       "orientation_NO               0.2101      0.030      7.009      0.000       0.151       0.269\n",
       "orientation_O                0.0855      0.045      1.891      0.060      -0.004       0.175\n",
       "orientation_ONO              0.0703      0.050      1.395      0.165      -0.029       0.170\n",
       "orientation_OSO              0.1099      0.033      3.295      0.001       0.044       0.176\n",
       "orientation_S                0.1265      0.041      3.079      0.002       0.045       0.208\n",
       "orientation_SE               0.1518      0.042      3.597      0.000       0.069       0.235\n",
       "orientation_SO               0.1650      0.031      5.374      0.000       0.104       0.226\n",
       "orientation_SSE              0.1091      0.037      2.916      0.004       0.035       0.183\n",
       "orientation_SSO              0.1332      0.038      3.491      0.001       0.058       0.208\n",
       "substrat_gravier             0.0335      0.034      0.975      0.331      -0.034       0.101\n",
       "substrat_sable fin           0.0601      0.023      2.561      0.011       0.014       0.106\n",
       "substrat_sable grosssier    -0.0673      0.032     -2.094      0.038      -0.131      -0.004\n",
       "situation_urbain            -0.0511      0.023     -2.179      0.031      -0.097      -0.005\n",
       "objet_fragment              -0.0911      0.016     -5.877      0.000      -0.122      -0.061\n",
       "==============================================================================\n",
       "Omnibus:                      229.242   Durbin-Watson:                   1.671\n",
       "Prob(Omnibus):                  0.000   Jarque-Bera (JB):             7485.724\n",
       "Skew:                           4.068   Prob(JB):                         0.00\n",
       "Kurtosis:                      30.259   Cond. No.                         10.1\n",
       "==============================================================================\n",
       "\n",
       "Notes:\n",
       "[1] R² is computed without centering (uncentered) since the model does not contain a constant.\n",
       "[2] Standard Errors assume that the covariance matrix of the errors is correctly specified.\n",
       "\"\"\""
      ]
     },
     "execution_count": 9,
     "metadata": {},
     "output_type": "execute_result"
    }
   ],
   "source": [
    "x_cols = [\"orientation\", \"substrat\", \"situation\", \"objet\"]\n",
    "\n",
    "# make dumby variables\n",
    "x_dum = pd.get_dummies(w_d[x_cols], drop_first=True)\n",
    "Y = w_d[\"compte\"]\n",
    "\n",
    "an_ols = sm.OLS(Y, x_dum)\n",
    "ols_fit = an_ols.fit()\n",
    "ols_fit.summary()"
   ]
  },
  {
   "cell_type": "markdown",
   "id": "6514f4fe-f889-4751-8553-33441a17f0a1",
   "metadata": {},
   "source": [
    "#### QQ plot\n",
    "\n",
    "Un graphique q-q est un graphique des quantiles du premier ensemble de données par rapport aux quantiles du second ensemble de données. Par quantile, nous entendons la fraction (ou le pourcentage) de points inférieurs à la valeur donnée. Ainsi, le quantile 0,3 (ou 30 %) est le point auquel 30 % des données sont inférieures et 70 % supérieures à cette valeur."
   ]
  },
  {
   "cell_type": "code",
   "execution_count": 10,
   "id": "a6896b1c-e85d-4fc2-9f18-4040ab3fe39a",
   "metadata": {
    "tags": [
     "remove-input"
    ]
   },
   "outputs": [
    {
     "data": {
      "image/png": "[encoded data removed]",
      "text/plain": [
       "<Figure size 640x480 with 1 Axes>"
      ]
     },
     "metadata": {},
     "output_type": "display_data"
    }
   ],
   "source": [
    "sm.qqplot(ols_fit.resid, line='s');"
   ]
  },
  {
   "cell_type": "markdown",
   "id": "1f306f13-8eb6-4003-8877-2ca07f2e6c1a",
   "metadata": {},
   "source": [
    "## Plage seche"
   ]
  },
  {
   "cell_type": "code",
   "execution_count": 11,
   "id": "85da51e5-8eea-4392-9135-d2720ebb61ef",
   "metadata": {
    "tags": [
     "remove-input"
    ]
   },
   "outputs": [
    {
     "data": {
      "text/html": [
       "<style type=\"text/css\">\n",
       "#T_b7f98 tr:nth-child(even) {\n",
       "  background-color: rgba(139, 69, 19, 0.08);\n",
       "}\n",
       "#T_b7f98 tr:nth-child(odd) {\n",
       "  background: #FFF;\n",
       "}\n",
       "#T_b7f98 tr {\n",
       "  font-size: 14px;\n",
       "}\n",
       "#T_b7f98 th:nth-child(1) {\n",
       "  background-color: #FFF;\n",
       "}\n",
       "#T_b7f98 caption {\n",
       "  caption-side: bottom;\n",
       "  font-size: 16px;\n",
       "  text-align: left;\n",
       "  margin-top: 15px;\n",
       "}\n",
       "</style>\n",
       "<table id=\"T_b7f98\">\n",
       "  <caption>Les données sont regroupées en deux groupes par échantillon: 1. fibres, 2. fragment.</caption>\n",
       "  <thead>\n",
       "    <tr>\n",
       "      <th class=\"blank level0\" >&nbsp;</th>\n",
       "      <th id=\"T_b7f98_level0_col0\" class=\"col_heading level0 col0\" >orientation</th>\n",
       "      <th id=\"T_b7f98_level0_col1\" class=\"col_heading level0 col1\" >substrat</th>\n",
       "      <th id=\"T_b7f98_level0_col2\" class=\"col_heading level0 col2\" >situation</th>\n",
       "      <th id=\"T_b7f98_level0_col3\" class=\"col_heading level0 col3\" >objet</th>\n",
       "      <th id=\"T_b7f98_level0_col4\" class=\"col_heading level0 col4\" >compte</th>\n",
       "    </tr>\n",
       "  </thead>\n",
       "  <tbody>\n",
       "    <tr>\n",
       "      <th id=\"T_b7f98_level0_row0\" class=\"row_heading level0 row0\" >0</th>\n",
       "      <td id=\"T_b7f98_row0_col0\" class=\"data row0 col0\" >NNE</td>\n",
       "      <td id=\"T_b7f98_row0_col1\" class=\"data row0 col1\" >galet</td>\n",
       "      <td id=\"T_b7f98_row0_col2\" class=\"data row0 col2\" >campagne</td>\n",
       "      <td id=\"T_b7f98_row0_col3\" class=\"data row0 col3\" >fragment</td>\n",
       "      <td id=\"T_b7f98_row0_col4\" class=\"data row0 col4\" >0.023911</td>\n",
       "    </tr>\n",
       "    <tr>\n",
       "      <th id=\"T_b7f98_level0_row1\" class=\"row_heading level0 row1\" >1</th>\n",
       "      <td id=\"T_b7f98_row1_col0\" class=\"data row1 col0\" >NE</td>\n",
       "      <td id=\"T_b7f98_row1_col1\" class=\"data row1 col1\" >galet</td>\n",
       "      <td id=\"T_b7f98_row1_col2\" class=\"data row1 col2\" >campagne</td>\n",
       "      <td id=\"T_b7f98_row1_col3\" class=\"data row1 col3\" >fragment</td>\n",
       "      <td id=\"T_b7f98_row1_col4\" class=\"data row1 col4\" >0.005013</td>\n",
       "    </tr>\n",
       "    <tr>\n",
       "      <th id=\"T_b7f98_level0_row2\" class=\"row_heading level0 row2\" >2</th>\n",
       "      <td id=\"T_b7f98_row2_col0\" class=\"data row2 col0\" >NE</td>\n",
       "      <td id=\"T_b7f98_row2_col1\" class=\"data row2 col1\" >galet</td>\n",
       "      <td id=\"T_b7f98_row2_col2\" class=\"data row2 col2\" >campagne</td>\n",
       "      <td id=\"T_b7f98_row2_col3\" class=\"data row2 col3\" >fragment</td>\n",
       "      <td id=\"T_b7f98_row2_col4\" class=\"data row2 col4\" >0.008099</td>\n",
       "    </tr>\n",
       "    <tr>\n",
       "      <th id=\"T_b7f98_level0_row3\" class=\"row_heading level0 row3\" >3</th>\n",
       "      <td id=\"T_b7f98_row3_col0\" class=\"data row3 col0\" >NE</td>\n",
       "      <td id=\"T_b7f98_row3_col1\" class=\"data row3 col1\" >galet</td>\n",
       "      <td id=\"T_b7f98_row3_col2\" class=\"data row3 col2\" >campagne</td>\n",
       "      <td id=\"T_b7f98_row3_col3\" class=\"data row3 col3\" >fragment</td>\n",
       "      <td id=\"T_b7f98_row3_col4\" class=\"data row3 col4\" >0.004242</td>\n",
       "    </tr>\n",
       "    <tr>\n",
       "      <th id=\"T_b7f98_level0_row4\" class=\"row_heading level0 row4\" >4</th>\n",
       "      <td id=\"T_b7f98_row4_col0\" class=\"data row4 col0\" >NNE</td>\n",
       "      <td id=\"T_b7f98_row4_col1\" class=\"data row4 col1\" >galet</td>\n",
       "      <td id=\"T_b7f98_row4_col2\" class=\"data row4 col2\" >campagne</td>\n",
       "      <td id=\"T_b7f98_row4_col3\" class=\"data row4 col3\" >fragment</td>\n",
       "      <td id=\"T_b7f98_row4_col4\" class=\"data row4 col4\" >0.001928</td>\n",
       "    </tr>\n",
       "  </tbody>\n",
       "</table>\n"
      ],
      "text/plain": [
       "<pandas.io.formats.style.Styler at 0x7f2b097ce550>"
      ]
     },
     "execution_count": 11,
     "metadata": {},
     "output_type": "execute_result"
    }
   ],
   "source": [
    "# separate the first zone\n",
    "wdi = wdx[wdx.position == \"plage-seche\"].copy()\n",
    "# wdx[\"const\"] = 1\n",
    "scaled = (wdi[\"compte\"] - wdi[\"compte\"].min()) / (wdi[\"compte\"].max() - wdi[\"compte\"].min())\n",
    "wdi[\"compte\"] = scaled\n",
    "\n",
    "# combine the fragments\n",
    "w_f = wdi[wdi.objet.isin([\"souple\", \"fdure\"])].copy()\n",
    "souple_d = w_f.groupby([\"echantillon\", *x_cols[:-1]], as_index=False).compte.sum()\n",
    "souple_d[\"objet\"] = \"fragment\"\n",
    "\n",
    "# isolate the fibres\n",
    "fibres = wdi[wdi.objet.isin([\"fibres\"])].copy()\n",
    "\n",
    "# combine the aggregate fragments and the fibres\n",
    "w_d = pd.concat([souple_d[[*x_cols, *y_col]], fibres[[*x_cols, *y_col]]])\n",
    "\n",
    "w_d.head().style.set_table_styles(table_css_styles).set_caption(caption)"
   ]
  },
  {
   "cell_type": "markdown",
   "id": "7e82af8e-6dbf-4383-9e4b-078c11daccd0",
   "metadata": {},
   "source": [
    "### Régression des moindres carrés ordinaires (MCO)\n",
    "\n",
    "__Toutes les variables__"
   ]
  },
  {
   "cell_type": "code",
   "execution_count": 12,
   "id": "f2560d30-393a-4417-8feb-466f9d347b06",
   "metadata": {
    "tags": [
     "remove-input"
    ]
   },
   "outputs": [
    {
     "data": {
      "text/html": [
       "<table class=\"simpletable\">\n",
       "<caption>OLS Regression Results</caption>\n",
       "<tr>\n",
       "  <th>Dep. Variable:</th>         <td>compte</td>      <th>  R-squared (uncentered):</th>      <td>   0.506</td>\n",
       "</tr>\n",
       "<tr>\n",
       "  <th>Model:</th>                   <td>OLS</td>       <th>  Adj. R-squared (uncentered):</th> <td>   0.460</td>\n",
       "</tr>\n",
       "<tr>\n",
       "  <th>Method:</th>             <td>Least Squares</td>  <th>  F-statistic:       </th>          <td>   11.02</td>\n",
       "</tr>\n",
       "<tr>\n",
       "  <th>Date:</th>             <td>Wed, 11 Oct 2023</td> <th>  Prob (F-statistic):</th>          <td>2.77e-21</td>\n",
       "</tr>\n",
       "<tr>\n",
       "  <th>Time:</th>                 <td>08:00:10</td>     <th>  Log-Likelihood:    </th>          <td>  266.27</td>\n",
       "</tr>\n",
       "<tr>\n",
       "  <th>No. Observations:</th>      <td>   212</td>      <th>  AIC:               </th>          <td>  -496.5</td>\n",
       "</tr>\n",
       "<tr>\n",
       "  <th>Df Residuals:</th>          <td>   194</td>      <th>  BIC:               </th>          <td>  -436.1</td>\n",
       "</tr>\n",
       "<tr>\n",
       "  <th>Df Model:</th>              <td>    18</td>      <th>                     </th>              <td> </td>   \n",
       "</tr>\n",
       "<tr>\n",
       "  <th>Covariance Type:</th>      <td>nonrobust</td>    <th>                     </th>              <td> </td>   \n",
       "</tr>\n",
       "</table>\n",
       "<table class=\"simpletable\">\n",
       "<tr>\n",
       "              <td></td>                <th>coef</th>     <th>std err</th>      <th>t</th>      <th>P>|t|</th>  <th>[0.025</th>    <th>0.975]</th>  \n",
       "</tr>\n",
       "<tr>\n",
       "  <th>orientation_N</th>            <td>    0.1108</td> <td>    0.025</td> <td>    4.361</td> <td> 0.000</td> <td>    0.061</td> <td>    0.161</td>\n",
       "</tr>\n",
       "<tr>\n",
       "  <th>orientation_NE</th>           <td>    0.0873</td> <td>    0.020</td> <td>    4.341</td> <td> 0.000</td> <td>    0.048</td> <td>    0.127</td>\n",
       "</tr>\n",
       "<tr>\n",
       "  <th>orientation_NNE</th>          <td>    0.0725</td> <td>    0.025</td> <td>    2.933</td> <td> 0.004</td> <td>    0.024</td> <td>    0.121</td>\n",
       "</tr>\n",
       "<tr>\n",
       "  <th>orientation_NNO</th>          <td>    0.0604</td> <td>    0.030</td> <td>    2.027</td> <td> 0.044</td> <td>    0.002</td> <td>    0.119</td>\n",
       "</tr>\n",
       "<tr>\n",
       "  <th>orientation_NO</th>           <td>    0.1267</td> <td>    0.034</td> <td>    3.730</td> <td> 0.000</td> <td>    0.060</td> <td>    0.194</td>\n",
       "</tr>\n",
       "<tr>\n",
       "  <th>orientation_O</th>            <td>    0.1256</td> <td>    0.036</td> <td>    3.482</td> <td> 0.001</td> <td>    0.054</td> <td>    0.197</td>\n",
       "</tr>\n",
       "<tr>\n",
       "  <th>orientation_ONO</th>          <td>    0.0781</td> <td>    0.033</td> <td>    2.386</td> <td> 0.018</td> <td>    0.014</td> <td>    0.143</td>\n",
       "</tr>\n",
       "<tr>\n",
       "  <th>orientation_OSO</th>          <td>   -0.0066</td> <td>    0.026</td> <td>   -0.256</td> <td> 0.798</td> <td>   -0.057</td> <td>    0.044</td>\n",
       "</tr>\n",
       "<tr>\n",
       "  <th>orientation_S</th>            <td>    0.1446</td> <td>    0.026</td> <td>    5.531</td> <td> 0.000</td> <td>    0.093</td> <td>    0.196</td>\n",
       "</tr>\n",
       "<tr>\n",
       "  <th>orientation_SE</th>           <td>    0.1580</td> <td>    0.049</td> <td>    3.207</td> <td> 0.002</td> <td>    0.061</td> <td>    0.255</td>\n",
       "</tr>\n",
       "<tr>\n",
       "  <th>orientation_SO</th>           <td>    0.0877</td> <td>    0.023</td> <td>    3.876</td> <td> 0.000</td> <td>    0.043</td> <td>    0.132</td>\n",
       "</tr>\n",
       "<tr>\n",
       "  <th>orientation_SSE</th>          <td>    0.0942</td> <td>    0.032</td> <td>    2.919</td> <td> 0.004</td> <td>    0.031</td> <td>    0.158</td>\n",
       "</tr>\n",
       "<tr>\n",
       "  <th>orientation_SSO</th>          <td>    0.1211</td> <td>    0.033</td> <td>    3.704</td> <td> 0.000</td> <td>    0.057</td> <td>    0.186</td>\n",
       "</tr>\n",
       "<tr>\n",
       "  <th>substrat_gravier</th>         <td>    0.1316</td> <td>    0.024</td> <td>    5.460</td> <td> 0.000</td> <td>    0.084</td> <td>    0.179</td>\n",
       "</tr>\n",
       "<tr>\n",
       "  <th>substrat_sable fin</th>       <td>   -0.0294</td> <td>    0.020</td> <td>   -1.438</td> <td> 0.152</td> <td>   -0.070</td> <td>    0.011</td>\n",
       "</tr>\n",
       "<tr>\n",
       "  <th>substrat_sable grosssier</th> <td>   -0.0503</td> <td>    0.034</td> <td>   -1.489</td> <td> 0.138</td> <td>   -0.117</td> <td>    0.016</td>\n",
       "</tr>\n",
       "<tr>\n",
       "  <th>situation_urbain</th>         <td>   -0.0227</td> <td>    0.016</td> <td>   -1.384</td> <td> 0.168</td> <td>   -0.055</td> <td>    0.010</td>\n",
       "</tr>\n",
       "<tr>\n",
       "  <th>objet_fragment</th>           <td>   -0.0542</td> <td>    0.010</td> <td>   -5.493</td> <td> 0.000</td> <td>   -0.074</td> <td>   -0.035</td>\n",
       "</tr>\n",
       "</table>\n",
       "<table class=\"simpletable\">\n",
       "<tr>\n",
       "  <th>Omnibus:</th>       <td>281.847</td> <th>  Durbin-Watson:     </th> <td>   2.117</td> \n",
       "</tr>\n",
       "<tr>\n",
       "  <th>Prob(Omnibus):</th> <td> 0.000</td>  <th>  Jarque-Bera (JB):  </th> <td>29373.235</td>\n",
       "</tr>\n",
       "<tr>\n",
       "  <th>Skew:</th>          <td> 5.557</td>  <th>  Prob(JB):          </th> <td>    0.00</td> \n",
       "</tr>\n",
       "<tr>\n",
       "  <th>Kurtosis:</th>      <td>59.584</td>  <th>  Cond. No.          </th> <td>    16.1</td> \n",
       "</tr>\n",
       "</table><br/><br/>Notes:<br/>[1] R² is computed without centering (uncentered) since the model does not contain a constant.<br/>[2] Standard Errors assume that the covariance matrix of the errors is correctly specified."
      ],
      "text/plain": [
       "<class 'statsmodels.iolib.summary.Summary'>\n",
       "\"\"\"\n",
       "                                 OLS Regression Results                                \n",
       "=======================================================================================\n",
       "Dep. Variable:                 compte   R-squared (uncentered):                   0.506\n",
       "Model:                            OLS   Adj. R-squared (uncentered):              0.460\n",
       "Method:                 Least Squares   F-statistic:                              11.02\n",
       "Date:                Wed, 11 Oct 2023   Prob (F-statistic):                    2.77e-21\n",
       "Time:                        08:00:10   Log-Likelihood:                          266.27\n",
       "No. Observations:                 212   AIC:                                     -496.5\n",
       "Df Residuals:                     194   BIC:                                     -436.1\n",
       "Df Model:                          18                                                  \n",
       "Covariance Type:            nonrobust                                                  \n",
       "============================================================================================\n",
       "                               coef    std err          t      P>|t|      [0.025      0.975]\n",
       "--------------------------------------------------------------------------------------------\n",
       "orientation_N                0.1108      0.025      4.361      0.000       0.061       0.161\n",
       "orientation_NE               0.0873      0.020      4.341      0.000       0.048       0.127\n",
       "orientation_NNE              0.0725      0.025      2.933      0.004       0.024       0.121\n",
       "orientation_NNO              0.0604      0.030      2.027      0.044       0.002       0.119\n",
       "orientation_NO               0.1267      0.034      3.730      0.000       0.060       0.194\n",
       "orientation_O                0.1256      0.036      3.482      0.001       0.054       0.197\n",
       "orientation_ONO              0.0781      0.033      2.386      0.018       0.014       0.143\n",
       "orientation_OSO             -0.0066      0.026     -0.256      0.798      -0.057       0.044\n",
       "orientation_S                0.1446      0.026      5.531      0.000       0.093       0.196\n",
       "orientation_SE               0.1580      0.049      3.207      0.002       0.061       0.255\n",
       "orientation_SO               0.0877      0.023      3.876      0.000       0.043       0.132\n",
       "orientation_SSE              0.0942      0.032      2.919      0.004       0.031       0.158\n",
       "orientation_SSO              0.1211      0.033      3.704      0.000       0.057       0.186\n",
       "substrat_gravier             0.1316      0.024      5.460      0.000       0.084       0.179\n",
       "substrat_sable fin          -0.0294      0.020     -1.438      0.152      -0.070       0.011\n",
       "substrat_sable grosssier    -0.0503      0.034     -1.489      0.138      -0.117       0.016\n",
       "situation_urbain            -0.0227      0.016     -1.384      0.168      -0.055       0.010\n",
       "objet_fragment              -0.0542      0.010     -5.493      0.000      -0.074      -0.035\n",
       "==============================================================================\n",
       "Omnibus:                      281.847   Durbin-Watson:                   2.117\n",
       "Prob(Omnibus):                  0.000   Jarque-Bera (JB):            29373.235\n",
       "Skew:                           5.557   Prob(JB):                         0.00\n",
       "Kurtosis:                      59.584   Cond. No.                         16.1\n",
       "==============================================================================\n",
       "\n",
       "Notes:\n",
       "[1] R² is computed without centering (uncentered) since the model does not contain a constant.\n",
       "[2] Standard Errors assume that the covariance matrix of the errors is correctly specified.\n",
       "\"\"\""
      ]
     },
     "execution_count": 12,
     "metadata": {},
     "output_type": "execute_result"
    }
   ],
   "source": [
    "# make dumby variables\n",
    "x_dum = pd.get_dummies(w_d[x_cols], drop_first=True)\n",
    "Y = w_d[\"compte\"]\n",
    "\n",
    "an_ols = sm.OLS(Y, x_dum)\n",
    "ols_fit = an_ols.fit()\n",
    "ols_fit.summary()"
   ]
  },
  {
   "cell_type": "markdown",
   "id": "327aa000-79be-466b-a45a-b87cf2486b62",
   "metadata": {},
   "source": [
    "__Residuals__\n",
    "\n",
    "Dans la régression linéaire, un _residual_ est la différence entre la valeur réelle et la valeur prédite par le modèle (y-ŷ) pour un point donné. Un modèle de régression des moindres carrés minimise la somme des carrés des résidus"
   ]
  },
  {
   "cell_type": "code",
   "execution_count": 13,
   "id": "551bdcea-cdeb-4387-866d-de387b2f09cb",
   "metadata": {
    "tags": [
     "remove-input"
    ]
   },
   "outputs": [
    {
     "data": {
      "image/png": "[encoded data removed]",
      "text/plain": [
       "<Figure size 640x480 with 1 Axes>"
      ]
     },
     "metadata": {},
     "output_type": "display_data"
    }
   ],
   "source": [
    "fig, ax = plt.subplots()\n",
    "sns.histplot(x=ols_fit.resid, ax=ax, stat=\"density\", linewidth=0, kde=True)\n",
    "plt.show()"
   ]
  },
  {
   "cell_type": "markdown",
   "id": "bc8c79df-6dfc-441c-bb2e-38955ccfa22a",
   "metadata": {},
   "source": [
    "#### QQ plot\n",
    "\n",
    "Un graphique q-q est un graphique des quantiles du premier ensemble de données par rapport aux quantiles du second ensemble de données. Par quantile, nous entendons la fraction (ou le pourcentage) de points inférieurs à la valeur donnée. Ainsi, le quantile 0,3 (ou 30 %) est le point auquel 30 % des données sont inférieures et 70 % supérieures à cette valeur."
   ]
  },
  {
   "cell_type": "code",
   "execution_count": 14,
   "id": "78973ec0-854f-4222-af19-ac87179775c9",
   "metadata": {
    "tags": [
     "remove-input"
    ]
   },
   "outputs": [
    {
     "data": {
      "image/png": "[encoded data removed]",
      "text/plain": [
       "<Figure size 640x480 with 1 Axes>"
      ]
     },
     "metadata": {},
     "output_type": "display_data"
    }
   ],
   "source": [
    "sm.qqplot(ols_fit.resid, line='s');"
   ]
  },
  {
   "cell_type": "markdown",
   "id": "41220bdb-4935-4d47-b2b1-31eef64ce82d",
   "metadata": {},
   "source": [
    "#### Histogram\n",
    "\n",
    "Histogramme des observations par rapport aux prévisions. Résultats limités à > 0"
   ]
  },
  {
   "cell_type": "code",
   "execution_count": 15,
   "id": "af54fc2f-cff0-4f8f-bf7c-c9f853c11051",
   "metadata": {
    "tags": [
     "remove-input"
    ]
   },
   "outputs": [
    {
     "data": {
      "image/png": "[encoded data removed]",
      "text/plain": [
       "<Figure size 640x480 with 1 Axes>"
      ]
     },
     "metadata": {},
     "output_type": "display_data"
    }
   ],
   "source": [
    "Y_max = Y.max()\n",
    "Y_min = Y.min()\n",
    "\n",
    "ax = sns.histplot(ols_fit.fittedvalues, label=\"Le modèle\", stat=\"probability\")\n",
    "ax = sns.histplot(Y, label=\"Observé\", stat=\"probability\")\n",
    "# ax.set(ylim=(Y_min, Y_max+10))\n",
    "ax.set(xlim=(0, 1))\n",
    "ax.legend()\n",
    "plt.show()"
   ]
  },
  {
   "cell_type": "markdown",
   "id": "c770d25e-d432-472f-b8ff-e0927fa3dac3",
   "metadata": {},
   "source": [
    "#### Sans la variable d'orientation"
   ]
  },
  {
   "cell_type": "code",
   "execution_count": 16,
   "id": "035275d9-6a01-4163-a202-266af78f0cff",
   "metadata": {
    "tags": [
     "remove-input"
    ]
   },
   "outputs": [
    {
     "data": {
      "text/html": [
       "<table class=\"simpletable\">\n",
       "<caption>OLS Regression Results</caption>\n",
       "<tr>\n",
       "  <th>Dep. Variable:</th>         <td>compte</td>      <th>  R-squared (uncentered):</th>      <td>   0.370</td>\n",
       "</tr>\n",
       "<tr>\n",
       "  <th>Model:</th>                   <td>OLS</td>       <th>  Adj. R-squared (uncentered):</th> <td>   0.354</td>\n",
       "</tr>\n",
       "<tr>\n",
       "  <th>Method:</th>             <td>Least Squares</td>  <th>  F-statistic:       </th>          <td>   24.27</td>\n",
       "</tr>\n",
       "<tr>\n",
       "  <th>Date:</th>             <td>Wed, 11 Oct 2023</td> <th>  Prob (F-statistic):</th>          <td>3.41e-19</td>\n",
       "</tr>\n",
       "<tr>\n",
       "  <th>Time:</th>                 <td>08:00:11</td>     <th>  Log-Likelihood:    </th>          <td>  240.52</td>\n",
       "</tr>\n",
       "<tr>\n",
       "  <th>No. Observations:</th>      <td>   212</td>      <th>  AIC:               </th>          <td>  -471.0</td>\n",
       "</tr>\n",
       "<tr>\n",
       "  <th>Df Residuals:</th>          <td>   207</td>      <th>  BIC:               </th>          <td>  -454.3</td>\n",
       "</tr>\n",
       "<tr>\n",
       "  <th>Df Model:</th>              <td>     5</td>      <th>                     </th>              <td> </td>   \n",
       "</tr>\n",
       "<tr>\n",
       "  <th>Covariance Type:</th>      <td>nonrobust</td>    <th>                     </th>              <td> </td>   \n",
       "</tr>\n",
       "</table>\n",
       "<table class=\"simpletable\">\n",
       "<tr>\n",
       "              <td></td>                <th>coef</th>     <th>std err</th>      <th>t</th>      <th>P>|t|</th>  <th>[0.025</th>    <th>0.975]</th>  \n",
       "</tr>\n",
       "<tr>\n",
       "  <th>substrat_gravier</th>         <td>    0.1634</td> <td>    0.019</td> <td>    8.742</td> <td> 0.000</td> <td>    0.127</td> <td>    0.200</td>\n",
       "</tr>\n",
       "<tr>\n",
       "  <th>substrat_sable fin</th>       <td>    0.0590</td> <td>    0.010</td> <td>    6.104</td> <td> 0.000</td> <td>    0.040</td> <td>    0.078</td>\n",
       "</tr>\n",
       "<tr>\n",
       "  <th>substrat_sable grosssier</th> <td>    0.0665</td> <td>    0.016</td> <td>    4.217</td> <td> 0.000</td> <td>    0.035</td> <td>    0.098</td>\n",
       "</tr>\n",
       "<tr>\n",
       "  <th>situation_urbain</th>         <td>   -0.0129</td> <td>    0.012</td> <td>   -1.066</td> <td> 0.288</td> <td>   -0.037</td> <td>    0.011</td>\n",
       "</tr>\n",
       "<tr>\n",
       "  <th>objet_fragment</th>           <td>   -0.0384</td> <td>    0.010</td> <td>   -3.774</td> <td> 0.000</td> <td>   -0.058</td> <td>   -0.018</td>\n",
       "</tr>\n",
       "</table>\n",
       "<table class=\"simpletable\">\n",
       "<tr>\n",
       "  <th>Omnibus:</th>       <td>296.299</td> <th>  Durbin-Watson:     </th> <td>   1.832</td> \n",
       "</tr>\n",
       "<tr>\n",
       "  <th>Prob(Omnibus):</th> <td> 0.000</td>  <th>  Jarque-Bera (JB):  </th> <td>33925.103</td>\n",
       "</tr>\n",
       "<tr>\n",
       "  <th>Skew:</th>          <td> 6.066</td>  <th>  Prob(JB):          </th> <td>    0.00</td> \n",
       "</tr>\n",
       "<tr>\n",
       "  <th>Kurtosis:</th>      <td>63.773</td>  <th>  Cond. No.          </th> <td>    3.97</td> \n",
       "</tr>\n",
       "</table><br/><br/>Notes:<br/>[1] R² is computed without centering (uncentered) since the model does not contain a constant.<br/>[2] Standard Errors assume that the covariance matrix of the errors is correctly specified."
      ],
      "text/plain": [
       "<class 'statsmodels.iolib.summary.Summary'>\n",
       "\"\"\"\n",
       "                                 OLS Regression Results                                \n",
       "=======================================================================================\n",
       "Dep. Variable:                 compte   R-squared (uncentered):                   0.370\n",
       "Model:                            OLS   Adj. R-squared (uncentered):              0.354\n",
       "Method:                 Least Squares   F-statistic:                              24.27\n",
       "Date:                Wed, 11 Oct 2023   Prob (F-statistic):                    3.41e-19\n",
       "Time:                        08:00:11   Log-Likelihood:                          240.52\n",
       "No. Observations:                 212   AIC:                                     -471.0\n",
       "Df Residuals:                     207   BIC:                                     -454.3\n",
       "Df Model:                           5                                                  \n",
       "Covariance Type:            nonrobust                                                  \n",
       "============================================================================================\n",
       "                               coef    std err          t      P>|t|      [0.025      0.975]\n",
       "--------------------------------------------------------------------------------------------\n",
       "substrat_gravier             0.1634      0.019      8.742      0.000       0.127       0.200\n",
       "substrat_sable fin           0.0590      0.010      6.104      0.000       0.040       0.078\n",
       "substrat_sable grosssier     0.0665      0.016      4.217      0.000       0.035       0.098\n",
       "situation_urbain            -0.0129      0.012     -1.066      0.288      -0.037       0.011\n",
       "objet_fragment              -0.0384      0.010     -3.774      0.000      -0.058      -0.018\n",
       "==============================================================================\n",
       "Omnibus:                      296.299   Durbin-Watson:                   1.832\n",
       "Prob(Omnibus):                  0.000   Jarque-Bera (JB):            33925.103\n",
       "Skew:                           6.066   Prob(JB):                         0.00\n",
       "Kurtosis:                      63.773   Cond. No.                         3.97\n",
       "==============================================================================\n",
       "\n",
       "Notes:\n",
       "[1] R² is computed without centering (uncentered) since the model does not contain a constant.\n",
       "[2] Standard Errors assume that the covariance matrix of the errors is correctly specified.\n",
       "\"\"\""
      ]
     },
     "execution_count": 16,
     "metadata": {},
     "output_type": "execute_result"
    }
   ],
   "source": [
    "# make dumby variables\n",
    "x_dum = pd.get_dummies(w_d[x_cols[1:]], drop_first=True)\n",
    "Y = w_d[\"compte\"]\n",
    "\n",
    "an_ols = sm.OLS(Y, x_dum)\n",
    "ols_fit = an_ols.fit()\n",
    "ols_fit.summary()"
   ]
  },
  {
   "cell_type": "markdown",
   "id": "8a452ef7-0389-4fc7-abe9-6cc3c023d348",
   "metadata": {},
   "source": [
    "#### QQ plot\n",
    "\n",
    "Un graphique q-q est un graphique des quantiles du premier ensemble de données par rapport aux quantiles du second ensemble de données. Par quantile, nous entendons la fraction (ou le pourcentage) de points inférieurs à la valeur donnée. Ainsi, le quantile 0,3 (ou 30 %) est le point auquel 30 % des données sont inférieures et 70 % supérieures à cette valeur."
   ]
  },
  {
   "cell_type": "code",
   "execution_count": 17,
   "id": "6029955c-2480-4df8-b859-ef17100a5564",
   "metadata": {
    "tags": [
     "remove-input"
    ]
   },
   "outputs": [
    {
     "data": {
      "image/png": "[encoded data removed]",
      "text/plain": [
       "<Figure size 640x480 with 1 Axes>"
      ]
     },
     "metadata": {},
     "output_type": "display_data"
    }
   ],
   "source": [
    "sm.qqplot(ols_fit.resid, line='s');"
   ]
  },
  {
   "cell_type": "markdown",
   "id": "88d077a0-abf6-493c-8e5d-5817b1875f75",
   "metadata": {},
   "source": [
    "#### Sans la variable de distance"
   ]
  },
  {
   "cell_type": "code",
   "execution_count": 18,
   "id": "b9049c6c-facf-4ed6-aecf-0bba0aa0f5f6",
   "metadata": {
    "tags": [
     "remove-input"
    ]
   },
   "outputs": [
    {
     "data": {
      "text/html": [
       "<table class=\"simpletable\">\n",
       "<caption>OLS Regression Results</caption>\n",
       "<tr>\n",
       "  <th>Dep. Variable:</th>         <td>compte</td>      <th>  R-squared (uncentered):</th>      <td>   0.506</td>\n",
       "</tr>\n",
       "<tr>\n",
       "  <th>Model:</th>                   <td>OLS</td>       <th>  Adj. R-squared (uncentered):</th> <td>   0.460</td>\n",
       "</tr>\n",
       "<tr>\n",
       "  <th>Method:</th>             <td>Least Squares</td>  <th>  F-statistic:       </th>          <td>   11.02</td>\n",
       "</tr>\n",
       "<tr>\n",
       "  <th>Date:</th>             <td>Wed, 11 Oct 2023</td> <th>  Prob (F-statistic):</th>          <td>2.77e-21</td>\n",
       "</tr>\n",
       "<tr>\n",
       "  <th>Time:</th>                 <td>08:00:11</td>     <th>  Log-Likelihood:    </th>          <td>  266.27</td>\n",
       "</tr>\n",
       "<tr>\n",
       "  <th>No. Observations:</th>      <td>   212</td>      <th>  AIC:               </th>          <td>  -496.5</td>\n",
       "</tr>\n",
       "<tr>\n",
       "  <th>Df Residuals:</th>          <td>   194</td>      <th>  BIC:               </th>          <td>  -436.1</td>\n",
       "</tr>\n",
       "<tr>\n",
       "  <th>Df Model:</th>              <td>    18</td>      <th>                     </th>              <td> </td>   \n",
       "</tr>\n",
       "<tr>\n",
       "  <th>Covariance Type:</th>      <td>nonrobust</td>    <th>                     </th>              <td> </td>   \n",
       "</tr>\n",
       "</table>\n",
       "<table class=\"simpletable\">\n",
       "<tr>\n",
       "              <td></td>                <th>coef</th>     <th>std err</th>      <th>t</th>      <th>P>|t|</th>  <th>[0.025</th>    <th>0.975]</th>  \n",
       "</tr>\n",
       "<tr>\n",
       "  <th>orientation_N</th>            <td>    0.1108</td> <td>    0.025</td> <td>    4.361</td> <td> 0.000</td> <td>    0.061</td> <td>    0.161</td>\n",
       "</tr>\n",
       "<tr>\n",
       "  <th>orientation_NE</th>           <td>    0.0873</td> <td>    0.020</td> <td>    4.341</td> <td> 0.000</td> <td>    0.048</td> <td>    0.127</td>\n",
       "</tr>\n",
       "<tr>\n",
       "  <th>orientation_NNE</th>          <td>    0.0725</td> <td>    0.025</td> <td>    2.933</td> <td> 0.004</td> <td>    0.024</td> <td>    0.121</td>\n",
       "</tr>\n",
       "<tr>\n",
       "  <th>orientation_NNO</th>          <td>    0.0604</td> <td>    0.030</td> <td>    2.027</td> <td> 0.044</td> <td>    0.002</td> <td>    0.119</td>\n",
       "</tr>\n",
       "<tr>\n",
       "  <th>orientation_NO</th>           <td>    0.1267</td> <td>    0.034</td> <td>    3.730</td> <td> 0.000</td> <td>    0.060</td> <td>    0.194</td>\n",
       "</tr>\n",
       "<tr>\n",
       "  <th>orientation_O</th>            <td>    0.1256</td> <td>    0.036</td> <td>    3.482</td> <td> 0.001</td> <td>    0.054</td> <td>    0.197</td>\n",
       "</tr>\n",
       "<tr>\n",
       "  <th>orientation_ONO</th>          <td>    0.0781</td> <td>    0.033</td> <td>    2.386</td> <td> 0.018</td> <td>    0.014</td> <td>    0.143</td>\n",
       "</tr>\n",
       "<tr>\n",
       "  <th>orientation_OSO</th>          <td>   -0.0066</td> <td>    0.026</td> <td>   -0.256</td> <td> 0.798</td> <td>   -0.057</td> <td>    0.044</td>\n",
       "</tr>\n",
       "<tr>\n",
       "  <th>orientation_S</th>            <td>    0.1446</td> <td>    0.026</td> <td>    5.531</td> <td> 0.000</td> <td>    0.093</td> <td>    0.196</td>\n",
       "</tr>\n",
       "<tr>\n",
       "  <th>orientation_SE</th>           <td>    0.1580</td> <td>    0.049</td> <td>    3.207</td> <td> 0.002</td> <td>    0.061</td> <td>    0.255</td>\n",
       "</tr>\n",
       "<tr>\n",
       "  <th>orientation_SO</th>           <td>    0.0877</td> <td>    0.023</td> <td>    3.876</td> <td> 0.000</td> <td>    0.043</td> <td>    0.132</td>\n",
       "</tr>\n",
       "<tr>\n",
       "  <th>orientation_SSE</th>          <td>    0.0942</td> <td>    0.032</td> <td>    2.919</td> <td> 0.004</td> <td>    0.031</td> <td>    0.158</td>\n",
       "</tr>\n",
       "<tr>\n",
       "  <th>orientation_SSO</th>          <td>    0.1211</td> <td>    0.033</td> <td>    3.704</td> <td> 0.000</td> <td>    0.057</td> <td>    0.186</td>\n",
       "</tr>\n",
       "<tr>\n",
       "  <th>substrat_gravier</th>         <td>    0.1316</td> <td>    0.024</td> <td>    5.460</td> <td> 0.000</td> <td>    0.084</td> <td>    0.179</td>\n",
       "</tr>\n",
       "<tr>\n",
       "  <th>substrat_sable fin</th>       <td>   -0.0294</td> <td>    0.020</td> <td>   -1.438</td> <td> 0.152</td> <td>   -0.070</td> <td>    0.011</td>\n",
       "</tr>\n",
       "<tr>\n",
       "  <th>substrat_sable grosssier</th> <td>   -0.0503</td> <td>    0.034</td> <td>   -1.489</td> <td> 0.138</td> <td>   -0.117</td> <td>    0.016</td>\n",
       "</tr>\n",
       "<tr>\n",
       "  <th>situation_urbain</th>         <td>   -0.0227</td> <td>    0.016</td> <td>   -1.384</td> <td> 0.168</td> <td>   -0.055</td> <td>    0.010</td>\n",
       "</tr>\n",
       "<tr>\n",
       "  <th>objet_fragment</th>           <td>   -0.0542</td> <td>    0.010</td> <td>   -5.493</td> <td> 0.000</td> <td>   -0.074</td> <td>   -0.035</td>\n",
       "</tr>\n",
       "</table>\n",
       "<table class=\"simpletable\">\n",
       "<tr>\n",
       "  <th>Omnibus:</th>       <td>281.847</td> <th>  Durbin-Watson:     </th> <td>   2.117</td> \n",
       "</tr>\n",
       "<tr>\n",
       "  <th>Prob(Omnibus):</th> <td> 0.000</td>  <th>  Jarque-Bera (JB):  </th> <td>29373.235</td>\n",
       "</tr>\n",
       "<tr>\n",
       "  <th>Skew:</th>          <td> 5.557</td>  <th>  Prob(JB):          </th> <td>    0.00</td> \n",
       "</tr>\n",
       "<tr>\n",
       "  <th>Kurtosis:</th>      <td>59.584</td>  <th>  Cond. No.          </th> <td>    16.1</td> \n",
       "</tr>\n",
       "</table><br/><br/>Notes:<br/>[1] R² is computed without centering (uncentered) since the model does not contain a constant.<br/>[2] Standard Errors assume that the covariance matrix of the errors is correctly specified."
      ],
      "text/plain": [
       "<class 'statsmodels.iolib.summary.Summary'>\n",
       "\"\"\"\n",
       "                                 OLS Regression Results                                \n",
       "=======================================================================================\n",
       "Dep. Variable:                 compte   R-squared (uncentered):                   0.506\n",
       "Model:                            OLS   Adj. R-squared (uncentered):              0.460\n",
       "Method:                 Least Squares   F-statistic:                              11.02\n",
       "Date:                Wed, 11 Oct 2023   Prob (F-statistic):                    2.77e-21\n",
       "Time:                        08:00:11   Log-Likelihood:                          266.27\n",
       "No. Observations:                 212   AIC:                                     -496.5\n",
       "Df Residuals:                     194   BIC:                                     -436.1\n",
       "Df Model:                          18                                                  \n",
       "Covariance Type:            nonrobust                                                  \n",
       "============================================================================================\n",
       "                               coef    std err          t      P>|t|      [0.025      0.975]\n",
       "--------------------------------------------------------------------------------------------\n",
       "orientation_N                0.1108      0.025      4.361      0.000       0.061       0.161\n",
       "orientation_NE               0.0873      0.020      4.341      0.000       0.048       0.127\n",
       "orientation_NNE              0.0725      0.025      2.933      0.004       0.024       0.121\n",
       "orientation_NNO              0.0604      0.030      2.027      0.044       0.002       0.119\n",
       "orientation_NO               0.1267      0.034      3.730      0.000       0.060       0.194\n",
       "orientation_O                0.1256      0.036      3.482      0.001       0.054       0.197\n",
       "orientation_ONO              0.0781      0.033      2.386      0.018       0.014       0.143\n",
       "orientation_OSO             -0.0066      0.026     -0.256      0.798      -0.057       0.044\n",
       "orientation_S                0.1446      0.026      5.531      0.000       0.093       0.196\n",
       "orientation_SE               0.1580      0.049      3.207      0.002       0.061       0.255\n",
       "orientation_SO               0.0877      0.023      3.876      0.000       0.043       0.132\n",
       "orientation_SSE              0.0942      0.032      2.919      0.004       0.031       0.158\n",
       "orientation_SSO              0.1211      0.033      3.704      0.000       0.057       0.186\n",
       "substrat_gravier             0.1316      0.024      5.460      0.000       0.084       0.179\n",
       "substrat_sable fin          -0.0294      0.020     -1.438      0.152      -0.070       0.011\n",
       "substrat_sable grosssier    -0.0503      0.034     -1.489      0.138      -0.117       0.016\n",
       "situation_urbain            -0.0227      0.016     -1.384      0.168      -0.055       0.010\n",
       "objet_fragment              -0.0542      0.010     -5.493      0.000      -0.074      -0.035\n",
       "==============================================================================\n",
       "Omnibus:                      281.847   Durbin-Watson:                   2.117\n",
       "Prob(Omnibus):                  0.000   Jarque-Bera (JB):            29373.235\n",
       "Skew:                           5.557   Prob(JB):                         0.00\n",
       "Kurtosis:                      59.584   Cond. No.                         16.1\n",
       "==============================================================================\n",
       "\n",
       "Notes:\n",
       "[1] R² is computed without centering (uncentered) since the model does not contain a constant.\n",
       "[2] Standard Errors assume that the covariance matrix of the errors is correctly specified.\n",
       "\"\"\""
      ]
     },
     "execution_count": 18,
     "metadata": {},
     "output_type": "execute_result"
    }
   ],
   "source": [
    "x_cols = [\"orientation\", \"substrat\", \"situation\", \"objet\"]\n",
    "\n",
    "# make dumby variables\n",
    "x_dum = pd.get_dummies(w_d[x_cols], drop_first=True)\n",
    "Y = w_d[\"compte\"]\n",
    "\n",
    "an_ols = sm.OLS(Y, x_dum)\n",
    "ols_fit = an_ols.fit()\n",
    "ols_fit.summary()"
   ]
  },
  {
   "cell_type": "markdown",
   "id": "0ae0582a-30c0-4181-ba0f-17bcff06057a",
   "metadata": {},
   "source": [
    "#### QQ plot\n",
    "\n",
    "Un graphique q-q est un graphique des quantiles du premier ensemble de données par rapport aux quantiles du second ensemble de données. Par quantile, nous entendons la fraction (ou le pourcentage) de points inférieurs à la valeur donnée. Ainsi, le quantile 0,3 (ou 30 %) est le point auquel 30 % des données sont inférieures et 70 % supérieures à cette valeur."
   ]
  },
  {
   "cell_type": "code",
   "execution_count": 19,
   "id": "42772e21-a7fa-45e0-a4ba-72048356e0ce",
   "metadata": {
    "tags": [
     "remove-input"
    ]
   },
   "outputs": [
    {
     "data": {
      "image/png": "[encoded data removed]",
      "text/plain": [
       "<Figure size 640x480 with 1 Axes>"
      ]
     },
     "metadata": {},
     "output_type": "display_data"
    }
   ],
   "source": [
    "sm.qqplot(ols_fit.resid, line='s');"
   ]
  },
  {
   "cell_type": "code",
   "execution_count": 20,
   "id": "54320820-5212-425b-93b4-aedadf3c77c8",
   "metadata": {
    "tags": [
     "remove-input"
    ]
   },
   "outputs": [
    {
     "name": "stdout",
     "output_type": "stream",
     "text": [
      "Git repo: https://github.com/hammerdirt-analyst/plastock.git\n",
      "\n",
      "Git branch: glm_p\n",
      "\n",
      "numpy      : 1.24.2\n",
      "matplotlib : 3.7.1\n",
      "seaborn    : 0.12.2\n",
      "pandas     : 2.0.0\n",
      "statsmodels: 0.13.5\n",
      "scipy      : 1.10.1\n",
      "\n"
     ]
    }
   ],
   "source": [
    "%watermark --iversions -b -r"
   ]
  },
  {
   "cell_type": "code",
   "execution_count": 21,
   "id": "8e8feb7e-4326-4fe1-940b-ad6948f9770e",
   "metadata": {
    "tags": [
     "remove-input"
    ]
   },
   "outputs": [],
   "source": [
    "# from sklearn.compose import make_column_selector as selector\n",
    "# numerical_columns_selector = selector(dtype_exclude=object)\n",
    "# categorical_columns_selector = selector(dtype_include=object)\n",
    "\n",
    "# regressors = [\"orientation\", \"substrat\", \"frequentation\", \"situatation\", \"distance\", \"objet\"] \n",
    "\n",
    "# numerical_columns = numerical_columns_selector(data)\n",
    "# categorical_columns = categorical_columns_selector(data)"
   ]
  }
 ],
 "metadata": {
  "kernelspec": {
   "display_name": "Python 3 (ipykernel)",
   "language": "python",
   "name": "python3"
  },
  "language_info": {
   "codemirror_mode": {
    "name": "ipython",
    "version": 3
   },
   "file_extension": ".py",
   "mimetype": "text/x-python",
   "name": "python",
   "nbconvert_exporter": "python",
   "pygments_lexer": "ipython3",
   "version": "3.9.16"
  }
 },
 "nbformat": 4,
 "nbformat_minor": 5
}
