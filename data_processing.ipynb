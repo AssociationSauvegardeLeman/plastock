{
 "cells": [
  {
   "cell_type": "markdown",
   "id": "13449d70-f334-4082-a3ff-2d6ca7bd1a6a",
   "metadata": {
    "editable": true,
    "slideshow": {
     "slide_type": ""
    },
    "tags": []
   },
   "source": [
    "(data_processing)=\n",
    "# Data processing"
   ]
  },
  {
   "cell_type": "code",
   "execution_count": 1,
   "id": "0416dd59-f9b4-436d-ad6d-2b374c649c19",
   "metadata": {
    "editable": true,
    "jupyter": {
     "source_hidden": true
    },
    "slideshow": {
     "slide_type": ""
    },
    "tags": [
     "remove-input"
    ]
   },
   "outputs": [
    {
     "data": {
      "application/papermill.record/text/plain": "' '"
     },
     "metadata": {
      "scrapbook": {
       "mime_prefix": "application/papermill.record/",
       "name": "blank_caption"
      }
     },
     "output_type": "display_data"
    }
   ],
   "source": [
    "# %load_ext watermark\n",
    "%load_ext rpy2.ipython\n",
    "import numpy as np\n",
    "import pandas as pd\n",
    "import matplotlib as mpl\n",
    "import seaborn as sns\n",
    "import rpy2\n",
    "from sklearn.ensemble import RandomForestRegressor\n",
    "from scipy.stats import beta\n",
    "from scipy.stats import multinomial\n",
    "\n",
    "\n",
    "import matplotlib.pyplot as plt\n",
    "import matplotlib.dates as mdates\n",
    "\n",
    "from myst_nb import glue\n",
    "from slugify import slugify\n",
    "\n",
    "from typing import List\n",
    "\n",
    "\n",
    "\n",
    "from rpy2.robjects.packages import importr\n",
    "\n",
    "import plastockconf as psc\n",
    "import plastock as pstk\n",
    "\n",
    "from plastockconf import name_zones, name_frequentation, name_situation\n",
    "from plastockconf import name_substrate, name_distance, table_css_styles, table_css_styles_top\n",
    "\n",
    "from plastock import add_table_to_page, capitalize_x_tick_labels, capitalize_x_and_y_axis_labels, capitalize_legend_components, attribute_summary\n",
    "\n",
    "import reportclass as rc\n",
    "\n",
    "section = \"A\"\n",
    "page = \"5\"\n",
    "\n",
    "label = f'Table {section}{page}-'\n",
    "\n",
    "def make_exportable(data, file_name, cmap='YlOrBr'):\n",
    "    data.fillna(0, inplace=True)\n",
    "    fig, ax = plt.subplots(figsize=(12,8))\n",
    "    sns.heatmap(data=data, vmin=0, vmax=1, cmap=cmap, annot=True, fmt='.2', annot_kws={'size':10}, ax=ax, cbar=False)\n",
    "    plt.tight_layout()\n",
    "    ax.tick_params(which='both', axis='both', bottom=False, left=False)\n",
    "    plt.savefig(file_name, dpi=300)\n",
    "\n",
    "    plt.close()\n",
    "\n",
    "glue('blank_caption', \" \", display=False)"
   ]
  },
  {
   "cell_type": "markdown",
   "id": "93bdbc60-f1ba-4a3e-98af-87384a1b594e",
   "metadata": {
    "editable": true,
    "slideshow": {
     "slide_type": ""
    },
    "tags": []
   },
   "source": [
    "## Déchets sauvages\n",
    "\n",
    "__Cette méthode s'applique aux données sur les déchets de plage, mais pas aux données sur les microplastiques__\n",
    "\n",
    "### Position\n",
    "\n",
    "Les inventaires des déchets de plage menées précédemment sur le lac considéraient la plage comme une unité à part entière. Dans Plastock, chaque plage a été divisée en deux sections, la ligne d'eau et la plage sèche. Pour comparer les données de Plastock aux résultats précédents et à d'autres études de ce type, les résultats de Plastock doivent être transformés en une section pour une plage. En d'autres termes, nous devons combiner la surface des deux sections pour chaque échantillon. Le nombre d'objets par échantillon est ensuite divisé par la surface commune des deux sections.\n",
    "\n",
    "### Substrat\n",
    "\n",
    "Certains échantillons ont des substrats différents pour chaque section de chaque plage. Les sections doivent avoir le même substrat pour chaque section si nous voulons compter la plage comme une unité entière. Pour les douze échantillons qui répondent à ce critère, le substrat a été modifié de 4 à 2 (du gravier au sable grossier).\n",
    "\n",
    "### Objets\n",
    "\n",
    "La variété des objets trouvés lors de chaque enquête est autant le reflet des déchets sur le terrain que du temps alloué aux participants pour compter, trier et identifier chaque objet collecté. Par conséquent, les seuls codes ou objets pris en considération sont ceux qui ont été identifiés pendant Plastock. Les données historiques sont filtrées pour les mêmes codes.\n",
    "\n",
    "#### Combinaison d'objets similaires\n",
    "\n",
    "Certaines catégories d'objets sont combinées. Cela signifie que nous modifions le code de certains éléments pour refléter les tendances de l'échantillonnage et tenir compte des différentes interprétations du protocole. Le tableau suivant résume la façon dont les codes sont combinés :\n",
    "\n",
    "1. Gfrags: g80, g79, g78, g77, g76, g75\n",
    "2. Gfoams: G81, G82, G76\n",
    "3. Gcaps: G21, G22, G23, G24\n",
    "\n",
    "Gfrags comprend toutes les formes de plastiques fragmentés de plus de 5 mm, Gfoams toutes les tailles de polystyrène expansé et Gcaps tous les bouchons en plastique et les anneaux en plastique qui accompagnent chaque bouchon."
   ]
  },
  {
   "cell_type": "code",
   "execution_count": 2,
   "id": "b80c6173-3821-493a-aa58-3112f5192619",
   "metadata": {
    "jupyter": {
     "source_hidden": true
    },
    "tags": [
     "remove-input"
    ]
   },
   "outputs": [],
   "source": [
    "# ! read in data !\n",
    "# survey data\n",
    "new_data = pd.read_csv(\"data/end_pipe/macro_current.csv\")\n",
    "\n",
    "# the position, substrate, time, area, length for each sample in the data\n",
    "# ! there are samples that have different substrates on the same sample_id.!\n",
    "# that is position 1 has a different substrate than position 2. for litter \n",
    "# data and comparing to previous results this is unimportant. The value to\n",
    "# compare is the total survey divided by the length or the area. This needs\n",
    "# to be accounted for and changes made to certain samples.\n",
    "beach_data = pd.read_csv(\"data/end_pipe/pstock_beaches_current.csv\")\n",
    "\n",
    "\n",
    "# the feature columns of the survey data that are not dependent on the\n",
    "# position or substrat variables. they are indexed on the Plage column\n",
    "# one row for each sample location\n",
    "beach_datax = pd.read_csv(\"data/end_pipe/asl_beaches.csv\").set_index('Plage')\n",
    "\n",
    "# The code definitions\n",
    "codes = pd.read_csv('data/end_pipe/codes.csv').set_index('code')\n",
    "\n",
    "# the regional labels for each survey location\n",
    "regions = pd.read_csv(\"data/end_pipe/lac_leman_regions.csv\")\n",
    "regions.set_index('slug', drop=True, inplace=True)\n",
    "\n",
    "# the city name of the survey locations\n",
    "city_map = pd.read_csv('data/end_pipe/city_map.csv')\n",
    "city_map.set_index('slug', inplace=True)\n",
    "\n",
    "# translation of common terms into french, german and english\n",
    "language_maps = rc.language_maps()\n",
    "\n",
    "new_column_names = {\n",
    "    \"Position\":\"position\",\n",
    "    \"Substrat\":\"substrat\",\n",
    "    \"Date\":\"date\",\n",
    "    \"Code\":\"code\",\n",
    "    \"Quantité\":\"quantité\",\n",
    "    \"Aire\":\"area\"\n",
    "}\n",
    "\n",
    "# import data and assign new column names and sample_id\n",
    "# the sample_id is the tuple (location, date). Each row\n",
    "# is a unique combinantion of sample_id and code\n",
    "work_data = new_data[[\"Plage\", *new_column_names.keys()]].copy()\n",
    "work_data.rename(columns=new_column_names, inplace=True)\n",
    "work_data[\"slug\"] = work_data.Plage.apply(lambda x: slugify(x))\n",
    "work_data[\"échantillon\"] = list(zip(work_data.slug, work_data['date']))\n",
    "work_data['date'] = pd.to_datetime(work_data[\"date\"], format=\"mixed\", dayfirst=True)\n",
    "work_data.dropna(inplace=True)\n",
    "\n",
    "# type the columns\n",
    "work_data[[\"position\", \"substrat\"]] = work_data[[\"position\", \"substrat\"]].astype(\"int\")\n",
    "work_data['échantillon'] = work_data['échantillon'].astype(str)"
   ]
  },
  {
   "cell_type": "code",
   "execution_count": 3,
   "id": "ccf97495-c34a-42a0-be3a-70a8ab4e33d0",
   "metadata": {
    "jupyter": {
     "source_hidden": true
    },
    "tags": [
     "remove-input"
    ]
   },
   "outputs": [],
   "source": [
    "voi = \"substrat\"\n",
    "vals = \"pcs/m²\"\n",
    "code = \"G27\"\n",
    "loc_dates_t = [\"('clarens', '16.01.2022')\", \"('amphion', '01.02.2022')\"]\n",
    "\n",
    "gfrags_c = codes.loc[codes.parent_code == 'Gfrags'].index\n",
    "\n",
    "start_amph_s = new_data[(new_data.Plage == \"Amphion\")&(new_data[\"Date\"] == \"01.02.2022\")&(new_data.Code == \"G27\")]\n",
    "start_amph_c = new_data[(new_data.Plage == \"Amphion\")&(new_data[\"Date\"] == \"01.02.2022\")&(new_data.Code.isin(gfrags_c))]\n",
    "start_clarens_s = new_data[(new_data.Plage == \"Clarens\")&(new_data[\"Date\"] == '16.01.2022')&(new_data.Code == \"G27\")]\n",
    "start_clarens_c = new_data[(new_data.Plage == \"Clarens\")&(new_data[\"Date\"] == '16.01.2022')&(new_data.Code.isin(gfrags_c))]"
   ]
  },
  {
   "cell_type": "code",
   "execution_count": 4,
   "id": "b96cae44-9c27-48fa-95c5-69361bd4b0f8",
   "metadata": {
    "jupyter": {
     "source_hidden": true
    },
    "tags": [
     "remove-input"
    ]
   },
   "outputs": [
    {
     "data": {
      "application/papermill.record/text/html": "<style type=\"text/css\">\n#T_97a77 tr:nth-child(even) {\n  background-color: rgba(139, 69, 19, 0.08);\n}\n#T_97a77 tr:nth-child(odd) {\n  background: #FFF;\n}\n#T_97a77 tr {\n  font-size: 14px;\n  padding: 6px;\n}\n#T_97a77 th:nth-child(1) {\n  background-color: #FFF;\n  white-space: nowrap;\n  word-break: keep-all;\n}\n#T_97a77 td {\n  padding: 4px;\n  text-align: center;\n}\n#T_97a77 caption {\n  caption-side: bottom;\n  font-size: 14px;\n  text-align: left;\n  margin-top: 14px;\n}\n</style>\n<table id=\"T_97a77\">\n  <caption><b>Table A5-1 :</b> Les résultats de l'échantillon avant la combinaison des codes, des substrats et de la position</caption>\n  <thead>\n    <tr>\n      <th id=\"T_97a77_level0_col0\" class=\"col_heading level0 col0\" >Plage</th>\n      <th id=\"T_97a77_level0_col1\" class=\"col_heading level0 col1\" >Date</th>\n      <th id=\"T_97a77_level0_col2\" class=\"col_heading level0 col2\" >Position</th>\n      <th id=\"T_97a77_level0_col3\" class=\"col_heading level0 col3\" >Substrat</th>\n      <th id=\"T_97a77_level0_col4\" class=\"col_heading level0 col4\" >Aire</th>\n      <th id=\"T_97a77_level0_col5\" class=\"col_heading level0 col5\" >Code</th>\n      <th id=\"T_97a77_level0_col6\" class=\"col_heading level0 col6\" >Quantité</th>\n      <th id=\"T_97a77_level0_col7\" class=\"col_heading level0 col7\" >pcs/m²</th>\n    </tr>\n  </thead>\n  <tbody>\n    <tr>\n      <td id=\"T_97a77_row0_col0\" class=\"data row0 col0\" >Amphion</td>\n      <td id=\"T_97a77_row0_col1\" class=\"data row0 col1\" >01.02.2022</td>\n      <td id=\"T_97a77_row0_col2\" class=\"data row0 col2\" >2</td>\n      <td id=\"T_97a77_row0_col3\" class=\"data row0 col3\" >4,00</td>\n      <td id=\"T_97a77_row0_col4\" class=\"data row0 col4\" >342</td>\n      <td id=\"T_97a77_row0_col5\" class=\"data row0 col5\" >G27</td>\n      <td id=\"T_97a77_row0_col6\" class=\"data row0 col6\" >4</td>\n      <td id=\"T_97a77_row0_col7\" class=\"data row0 col7\" >0,01</td>\n    </tr>\n    <tr>\n      <td id=\"T_97a77_row1_col0\" class=\"data row1 col0\" >Amphion</td>\n      <td id=\"T_97a77_row1_col1\" class=\"data row1 col1\" >01.02.2022</td>\n      <td id=\"T_97a77_row1_col2\" class=\"data row1 col2\" >1</td>\n      <td id=\"T_97a77_row1_col3\" class=\"data row1 col3\" >4,00</td>\n      <td id=\"T_97a77_row1_col4\" class=\"data row1 col4\" >98</td>\n      <td id=\"T_97a77_row1_col5\" class=\"data row1 col5\" >G78</td>\n      <td id=\"T_97a77_row1_col6\" class=\"data row1 col6\" >8</td>\n      <td id=\"T_97a77_row1_col7\" class=\"data row1 col7\" >0,08</td>\n    </tr>\n    <tr>\n      <td id=\"T_97a77_row2_col0\" class=\"data row2 col0\" >Amphion</td>\n      <td id=\"T_97a77_row2_col1\" class=\"data row2 col1\" >01.02.2022</td>\n      <td id=\"T_97a77_row2_col2\" class=\"data row2 col2\" >2</td>\n      <td id=\"T_97a77_row2_col3\" class=\"data row2 col3\" >4,00</td>\n      <td id=\"T_97a77_row2_col4\" class=\"data row2 col4\" >342</td>\n      <td id=\"T_97a77_row2_col5\" class=\"data row2 col5\" >G78</td>\n      <td id=\"T_97a77_row2_col6\" class=\"data row2 col6\" >86</td>\n      <td id=\"T_97a77_row2_col7\" class=\"data row2 col7\" >0,25</td>\n    </tr>\n    <tr>\n      <td id=\"T_97a77_row3_col0\" class=\"data row3 col0\" >Amphion</td>\n      <td id=\"T_97a77_row3_col1\" class=\"data row3 col1\" >01.02.2022</td>\n      <td id=\"T_97a77_row3_col2\" class=\"data row3 col2\" >1</td>\n      <td id=\"T_97a77_row3_col3\" class=\"data row3 col3\" >4,00</td>\n      <td id=\"T_97a77_row3_col4\" class=\"data row3 col4\" >98</td>\n      <td id=\"T_97a77_row3_col5\" class=\"data row3 col5\" >G79</td>\n      <td id=\"T_97a77_row3_col6\" class=\"data row3 col6\" >12</td>\n      <td id=\"T_97a77_row3_col7\" class=\"data row3 col7\" >0,12</td>\n    </tr>\n    <tr>\n      <td id=\"T_97a77_row4_col0\" class=\"data row4 col0\" >Amphion</td>\n      <td id=\"T_97a77_row4_col1\" class=\"data row4 col1\" >01.02.2022</td>\n      <td id=\"T_97a77_row4_col2\" class=\"data row4 col2\" >2</td>\n      <td id=\"T_97a77_row4_col3\" class=\"data row4 col3\" >4,00</td>\n      <td id=\"T_97a77_row4_col4\" class=\"data row4 col4\" >342</td>\n      <td id=\"T_97a77_row4_col5\" class=\"data row4 col5\" >G79</td>\n      <td id=\"T_97a77_row4_col6\" class=\"data row4 col6\" >225</td>\n      <td id=\"T_97a77_row4_col7\" class=\"data row4 col7\" >0,66</td>\n    </tr>\n    <tr>\n      <td id=\"T_97a77_row5_col0\" class=\"data row5 col0\" >Amphion</td>\n      <td id=\"T_97a77_row5_col1\" class=\"data row5 col1\" >01.02.2022</td>\n      <td id=\"T_97a77_row5_col2\" class=\"data row5 col2\" >2</td>\n      <td id=\"T_97a77_row5_col3\" class=\"data row5 col3\" >4,00</td>\n      <td id=\"T_97a77_row5_col4\" class=\"data row5 col4\" >342</td>\n      <td id=\"T_97a77_row5_col5\" class=\"data row5 col5\" >G79</td>\n      <td id=\"T_97a77_row5_col6\" class=\"data row5 col6\" >3</td>\n      <td id=\"T_97a77_row5_col7\" class=\"data row5 col7\" >0,01</td>\n    </tr>\n    <tr>\n      <td id=\"T_97a77_row6_col0\" class=\"data row6 col0\" >Clarens</td>\n      <td id=\"T_97a77_row6_col1\" class=\"data row6 col1\" >16.01.2022</td>\n      <td id=\"T_97a77_row6_col2\" class=\"data row6 col2\" >2</td>\n      <td id=\"T_97a77_row6_col3\" class=\"data row6 col3\" >2,00</td>\n      <td id=\"T_97a77_row6_col4\" class=\"data row6 col4\" >273</td>\n      <td id=\"T_97a77_row6_col5\" class=\"data row6 col5\" >G78</td>\n      <td id=\"T_97a77_row6_col6\" class=\"data row6 col6\" >5</td>\n      <td id=\"T_97a77_row6_col7\" class=\"data row6 col7\" >0,02</td>\n    </tr>\n    <tr>\n      <td id=\"T_97a77_row7_col0\" class=\"data row7 col0\" >Clarens</td>\n      <td id=\"T_97a77_row7_col1\" class=\"data row7 col1\" >16.01.2022</td>\n      <td id=\"T_97a77_row7_col2\" class=\"data row7 col2\" >1</td>\n      <td id=\"T_97a77_row7_col3\" class=\"data row7 col3\" >4,00</td>\n      <td id=\"T_97a77_row7_col4\" class=\"data row7 col4\" >67</td>\n      <td id=\"T_97a77_row7_col5\" class=\"data row7 col5\" >G27</td>\n      <td id=\"T_97a77_row7_col6\" class=\"data row7 col6\" >3</td>\n      <td id=\"T_97a77_row7_col7\" class=\"data row7 col7\" >0,04</td>\n    </tr>\n    <tr>\n      <td id=\"T_97a77_row8_col0\" class=\"data row8 col0\" >Clarens</td>\n      <td id=\"T_97a77_row8_col1\" class=\"data row8 col1\" >16.01.2022</td>\n      <td id=\"T_97a77_row8_col2\" class=\"data row8 col2\" >2</td>\n      <td id=\"T_97a77_row8_col3\" class=\"data row8 col3\" >2,00</td>\n      <td id=\"T_97a77_row8_col4\" class=\"data row8 col4\" >273</td>\n      <td id=\"T_97a77_row8_col5\" class=\"data row8 col5\" >G27</td>\n      <td id=\"T_97a77_row8_col6\" class=\"data row8 col6\" >8</td>\n      <td id=\"T_97a77_row8_col7\" class=\"data row8 col7\" >0,03</td>\n    </tr>\n  </tbody>\n</table>\n",
      "application/papermill.record/text/plain": "<pandas.io.formats.style.Styler at 0x737dae58c3d0>"
     },
     "metadata": {
      "scrapbook": {
       "mime_prefix": "application/papermill.record/",
       "name": "start_data"
      }
     },
     "output_type": "display_data"
    }
   ],
   "source": [
    "start_data = pd.concat([start_amph_s, start_amph_c, start_clarens_c, start_clarens_s])\n",
    "start_data['pcs/m²'] = start_data[\"Quantité\"]/start_data[\"Aire\"]\n",
    "# start_data.loc[start_data.Code.isin(gfrags_c), 'Code'] = 'Gfrags'\n",
    "sd = start_data[[\"Plage\", \"Aire\", \"Position\", \"Substrat\", \"Date\", \"Code\", \"Quantité\", 'pcs/m²']].copy()\n",
    "sd.reset_index(inplace=True, drop=True)\n",
    "\n",
    "display_columns = [\"Plage\", \"Date\", \"Position\", \"Substrat\", \"Aire\",  \"Code\", \"Quantité\", \"pcs/m²\"]\n",
    "\n",
    "caption = f\"<b>{label}1 :</b> Les résultats de l'échantillon avant la combinaison des codes, des substrats et de la position\"\n",
    "sd = sd[display_columns].style.set_table_styles(table_css_styles).format(**psc.format_kwargs).set_caption(caption).hide(axis=\"index\")\n",
    "\n",
    "glue(\"start_data\", sd, display=False)"
   ]
  },
  {
   "cell_type": "code",
   "execution_count": 5,
   "id": "7f9da2c5-3282-4539-b229-c2b05dca2e3d",
   "metadata": {
    "jupyter": {
     "source_hidden": true
    },
    "tags": [
     "remove-input"
    ]
   },
   "outputs": [],
   "source": [
    "# ! locate all the duplicate values by sample id and area !\n",
    "# this gives a data frame that has the position and area for\n",
    "# each sample_id\n",
    "total_area_dup = work_data.drop_duplicates(['échantillon', 'area'])\n",
    "\n",
    "# ! combine the surface areas of the position vectors !\n",
    "# sum of the areas for each position at each sample\n",
    "# use the sample_id as index and sum the areas for each postition at each sample\n",
    "total_area = total_area_dup.groupby(['échantillon', 'Plage'], as_index=False).area.sum()\n",
    "\n",
    "# sum of the areas for each position at each sample\n",
    "# use the sample_id as index and sum the areas for each postition at each sample\n",
    "total_area = total_area[['échantillon', 'area']].set_index('échantillon', drop=True)"
   ]
  },
  {
   "cell_type": "code",
   "execution_count": 6,
   "id": "98818780-7c53-4e28-82a9-31cb72314d22",
   "metadata": {
    "jupyter": {
     "source_hidden": true
    },
    "tags": [
     "remove-input"
    ]
   },
   "outputs": [],
   "source": [
    "# apply the total area to the work_data, index on sample_id\n",
    "work_data['area_c'] = work_data['échantillon'].apply(lambda x: total_area.loc[x])\n",
    "work_data['area'] = work_data.area_c\n",
    "work_data.drop('area_c', axis=1, inplace=True)\n",
    "# the code total per sample with the combined area\n",
    "work_data = work_data.groupby(['échantillon', 'Plage', 'substrat', 'date', 'area','slug', 'quantité', 'code'], as_index=False)['quantité'].sum()\n",
    "work_data.reset_index(inplace=True, drop=True)"
   ]
  },
  {
   "cell_type": "code",
   "execution_count": 7,
   "id": "b3f3194a-2397-4d31-b819-13a86eab9776",
   "metadata": {
    "jupyter": {
     "source_hidden": true
    },
    "tags": [
     "remove-input"
    ]
   },
   "outputs": [
    {
     "data": {
      "application/papermill.record/text/html": "<style type=\"text/css\">\n#T_912fa tr:nth-child(even) {\n  background-color: rgba(139, 69, 19, 0.08);\n}\n#T_912fa tr:nth-child(odd) {\n  background: #FFF;\n}\n#T_912fa tr {\n  font-size: 14px;\n  padding: 6px;\n}\n#T_912fa th:nth-child(1) {\n  background-color: #FFF;\n  white-space: nowrap;\n  word-break: keep-all;\n}\n#T_912fa td {\n  padding: 4px;\n  text-align: center;\n}\n#T_912fa caption {\n  caption-side: bottom;\n  font-size: 14px;\n  text-align: left;\n  margin-top: 14px;\n}\n</style>\n<table id=\"T_912fa\">\n  <caption><b>Table A5-2 :</b> La variable position est supprimée et les surfaces sont combinées pour chaque position de chaque échantillon. Cependant, le substrat à Clarens n'est pas corrigé.</caption>\n  <thead>\n    <tr>\n      <th id=\"T_912fa_level0_col0\" class=\"col_heading level0 col0\" >échantillon</th>\n      <th id=\"T_912fa_level0_col1\" class=\"col_heading level0 col1\" >Plage</th>\n      <th id=\"T_912fa_level0_col2\" class=\"col_heading level0 col2\" >Substrat</th>\n      <th id=\"T_912fa_level0_col3\" class=\"col_heading level0 col3\" >Aire</th>\n      <th id=\"T_912fa_level0_col4\" class=\"col_heading level0 col4\" >Code</th>\n      <th id=\"T_912fa_level0_col5\" class=\"col_heading level0 col5\" >Quantité</th>\n    </tr>\n  </thead>\n  <tbody>\n    <tr>\n      <td id=\"T_912fa_row0_col0\" class=\"data row0 col0\" >('amphion', '01.02.2022')</td>\n      <td id=\"T_912fa_row0_col1\" class=\"data row0 col1\" >Amphion</td>\n      <td id=\"T_912fa_row0_col2\" class=\"data row0 col2\" >4</td>\n      <td id=\"T_912fa_row0_col3\" class=\"data row0 col3\" >440</td>\n      <td id=\"T_912fa_row0_col4\" class=\"data row0 col4\" >G79</td>\n      <td id=\"T_912fa_row0_col5\" class=\"data row0 col5\" >3</td>\n    </tr>\n    <tr>\n      <td id=\"T_912fa_row1_col0\" class=\"data row1 col0\" >('amphion', '01.02.2022')</td>\n      <td id=\"T_912fa_row1_col1\" class=\"data row1 col1\" >Amphion</td>\n      <td id=\"T_912fa_row1_col2\" class=\"data row1 col2\" >4</td>\n      <td id=\"T_912fa_row1_col3\" class=\"data row1 col3\" >440</td>\n      <td id=\"T_912fa_row1_col4\" class=\"data row1 col4\" >G27</td>\n      <td id=\"T_912fa_row1_col5\" class=\"data row1 col5\" >4</td>\n    </tr>\n    <tr>\n      <td id=\"T_912fa_row2_col0\" class=\"data row2 col0\" >('amphion', '01.02.2022')</td>\n      <td id=\"T_912fa_row2_col1\" class=\"data row2 col1\" >Amphion</td>\n      <td id=\"T_912fa_row2_col2\" class=\"data row2 col2\" >4</td>\n      <td id=\"T_912fa_row2_col3\" class=\"data row2 col3\" >440</td>\n      <td id=\"T_912fa_row2_col4\" class=\"data row2 col4\" >G78</td>\n      <td id=\"T_912fa_row2_col5\" class=\"data row2 col5\" >8</td>\n    </tr>\n    <tr>\n      <td id=\"T_912fa_row3_col0\" class=\"data row3 col0\" >('amphion', '01.02.2022')</td>\n      <td id=\"T_912fa_row3_col1\" class=\"data row3 col1\" >Amphion</td>\n      <td id=\"T_912fa_row3_col2\" class=\"data row3 col2\" >4</td>\n      <td id=\"T_912fa_row3_col3\" class=\"data row3 col3\" >440</td>\n      <td id=\"T_912fa_row3_col4\" class=\"data row3 col4\" >G79</td>\n      <td id=\"T_912fa_row3_col5\" class=\"data row3 col5\" >12</td>\n    </tr>\n    <tr>\n      <td id=\"T_912fa_row4_col0\" class=\"data row4 col0\" >('amphion', '01.02.2022')</td>\n      <td id=\"T_912fa_row4_col1\" class=\"data row4 col1\" >Amphion</td>\n      <td id=\"T_912fa_row4_col2\" class=\"data row4 col2\" >4</td>\n      <td id=\"T_912fa_row4_col3\" class=\"data row4 col3\" >440</td>\n      <td id=\"T_912fa_row4_col4\" class=\"data row4 col4\" >G78</td>\n      <td id=\"T_912fa_row4_col5\" class=\"data row4 col5\" >86</td>\n    </tr>\n    <tr>\n      <td id=\"T_912fa_row5_col0\" class=\"data row5 col0\" >('amphion', '01.02.2022')</td>\n      <td id=\"T_912fa_row5_col1\" class=\"data row5 col1\" >Amphion</td>\n      <td id=\"T_912fa_row5_col2\" class=\"data row5 col2\" >4</td>\n      <td id=\"T_912fa_row5_col3\" class=\"data row5 col3\" >440</td>\n      <td id=\"T_912fa_row5_col4\" class=\"data row5 col4\" >G79</td>\n      <td id=\"T_912fa_row5_col5\" class=\"data row5 col5\" >225</td>\n    </tr>\n    <tr>\n      <td id=\"T_912fa_row6_col0\" class=\"data row6 col0\" >('clarens', '16.01.2022')</td>\n      <td id=\"T_912fa_row6_col1\" class=\"data row6 col1\" >Clarens</td>\n      <td id=\"T_912fa_row6_col2\" class=\"data row6 col2\" >2</td>\n      <td id=\"T_912fa_row6_col3\" class=\"data row6 col3\" >340</td>\n      <td id=\"T_912fa_row6_col4\" class=\"data row6 col4\" >G78</td>\n      <td id=\"T_912fa_row6_col5\" class=\"data row6 col5\" >5</td>\n    </tr>\n    <tr>\n      <td id=\"T_912fa_row7_col0\" class=\"data row7 col0\" >('clarens', '16.01.2022')</td>\n      <td id=\"T_912fa_row7_col1\" class=\"data row7 col1\" >Clarens</td>\n      <td id=\"T_912fa_row7_col2\" class=\"data row7 col2\" >2</td>\n      <td id=\"T_912fa_row7_col3\" class=\"data row7 col3\" >340</td>\n      <td id=\"T_912fa_row7_col4\" class=\"data row7 col4\" >G27</td>\n      <td id=\"T_912fa_row7_col5\" class=\"data row7 col5\" >8</td>\n    </tr>\n    <tr>\n      <td id=\"T_912fa_row8_col0\" class=\"data row8 col0\" >('clarens', '16.01.2022')</td>\n      <td id=\"T_912fa_row8_col1\" class=\"data row8 col1\" >Clarens</td>\n      <td id=\"T_912fa_row8_col2\" class=\"data row8 col2\" >4</td>\n      <td id=\"T_912fa_row8_col3\" class=\"data row8 col3\" >340</td>\n      <td id=\"T_912fa_row8_col4\" class=\"data row8 col4\" >G27</td>\n      <td id=\"T_912fa_row8_col5\" class=\"data row8 col5\" >3</td>\n    </tr>\n  </tbody>\n</table>\n",
      "application/papermill.record/text/plain": "<pandas.io.formats.style.Styler at 0x737dae184160>"
     },
     "metadata": {
      "scrapbook": {
       "mime_prefix": "application/papermill.record/",
       "name": "start_data_2"
      }
     },
     "output_type": "display_data"
    }
   ],
   "source": [
    "mask = (work_data[\"échantillon\"].isin(loc_dates_t))&(work_data.code.isin([*gfrags_c, code]))\n",
    "\n",
    "display_columns = [\"échantillon\", \"Plage\", \"Substrat\", \"Aire\",  \"Code\", \"Quantité\"]\n",
    "d = \"pcs/m²\"\n",
    "\n",
    "test = work_data[mask].copy()\n",
    "test = test.rename(columns={\"substrat\":\"Substrat\", \"area\":\"Aire\", \"date\":\"Date\", \"code\":\"Code\", \"quantité\":\"Quantité\"})\n",
    "test = test[display_columns].copy()\n",
    "# test.reset_index(inplace=True, drop=True)\n",
    "caption = f\"<b>{label}2 :</b> La variable position est supprimée et les surfaces sont combinées pour chaque position de chaque échantillon. Cependant, le substrat à Clarens n'est pas corrigé.\"\n",
    "sd_2 = test.style.set_table_styles(table_css_styles).format(**psc.format_kwargs).set_caption(caption).hide(axis='index')\n",
    "glue(\"start_data_2\", sd_2, display=False)\n"
   ]
  },
  {
   "cell_type": "code",
   "execution_count": 8,
   "id": "ee52963c-eb6d-451f-87b4-9069b305456b",
   "metadata": {
    "jupyter": {
     "source_hidden": true
    },
    "tags": [
     "remove-input"
    ]
   },
   "outputs": [],
   "source": [
    "# the code total per sample with the combined area\n",
    "work_data = work_data.groupby(['échantillon', 'Plage', 'substrat', 'date', 'area','slug', 'code'], as_index=False)['quantité'].sum()\n",
    "\n",
    "# add the regional component\n",
    "work_data['region'] = work_data.slug.apply(lambda x: regions.loc[x, 'alabel'])\n",
    "\n",
    "work_data = work_data.groupby(['échantillon', 'Plage', 'substrat', 'date', 'area','slug', 'quantité', 'code'], as_index=False)['quantité'].sum()\n",
    "# get the pcs/m²  for each object at each sample\n",
    "work_data['pcs/m²'] = work_data['quantité']/work_data.area"
   ]
  },
  {
   "cell_type": "code",
   "execution_count": 9,
   "id": "db8c53a7-4cfc-4552-a00a-d196f71bd337",
   "metadata": {
    "jupyter": {
     "source_hidden": true
    },
    "tags": [
     "remove-input"
    ]
   },
   "outputs": [],
   "source": [
    "# ! there are samples that have different substrates on the same sample_id.!\n",
    "# there should be one substrate per sample_id. Identify the locations that have duplicate values\n",
    "some_data = work_data.copy()\n",
    "groupby = ['échantillon', voi]\n",
    "data = some_data.groupby(groupby, as_index=False)[vals].sum()\n",
    "\n",
    "# the samples with more than one substrate\n",
    "dd = data[data['échantillon'].duplicated()].copy()\n",
    "# select all the duplicated sample_ids from the work_data\n",
    "duplicated = work_data[work_data['échantillon'].isin(dd['échantillon'].unique())].copy()\n",
    "# select all the duplicated sample_ids from the work_data\n",
    "# change the substrat to [2]\n",
    "duplicated['substrat'] = 2 \n",
    "\n",
    "# select all the values that are not duplicated\n",
    "not_duplicated = work_data[~(work_data['échantillon'].isin(dd['échantillon'].unique()))].copy()\n",
    "\n",
    "# put it back together again\n",
    "work_data = pd.concat([duplicated, not_duplicated])"
   ]
  },
  {
   "cell_type": "code",
   "execution_count": 10,
   "id": "39363708-fbc0-4484-8c2b-e99f4ce4cce3",
   "metadata": {
    "jupyter": {
     "source_hidden": true
    },
    "tags": [
     "remove-input"
    ]
   },
   "outputs": [
    {
     "data": {
      "application/papermill.record/text/html": "<style type=\"text/css\">\n#T_7824f tr:nth-child(even) {\n  background-color: rgba(139, 69, 19, 0.08);\n}\n#T_7824f tr:nth-child(odd) {\n  background: #FFF;\n}\n#T_7824f tr {\n  font-size: 14px;\n  padding: 6px;\n}\n#T_7824f th:nth-child(1) {\n  background-color: #FFF;\n  white-space: nowrap;\n  word-break: keep-all;\n}\n#T_7824f td {\n  padding: 4px;\n  text-align: center;\n}\n#T_7824f caption {\n  caption-side: bottom;\n  font-size: 14px;\n  text-align: left;\n  margin-top: 14px;\n}\n</style>\n<table id=\"T_7824f\">\n  <caption><b>Table A5-3 :</b> Après avoir combiné les codes et supprimé la variable de la position, il reste des codes en double pour l'échantillon de Clarens.</caption>\n  <thead>\n    <tr>\n      <th id=\"T_7824f_level0_col0\" class=\"col_heading level0 col0\" >échantillon</th>\n      <th id=\"T_7824f_level0_col1\" class=\"col_heading level0 col1\" >Plage</th>\n      <th id=\"T_7824f_level0_col2\" class=\"col_heading level0 col2\" >Substrat</th>\n      <th id=\"T_7824f_level0_col3\" class=\"col_heading level0 col3\" >Aire</th>\n      <th id=\"T_7824f_level0_col4\" class=\"col_heading level0 col4\" >Code</th>\n      <th id=\"T_7824f_level0_col5\" class=\"col_heading level0 col5\" >Quantité</th>\n      <th id=\"T_7824f_level0_col6\" class=\"col_heading level0 col6\" >pcs/m²</th>\n    </tr>\n  </thead>\n  <tbody>\n    <tr>\n      <td id=\"T_7824f_row0_col0\" class=\"data row0 col0\" >('clarens', '16.01.2022')</td>\n      <td id=\"T_7824f_row0_col1\" class=\"data row0 col1\" >Clarens</td>\n      <td id=\"T_7824f_row0_col2\" class=\"data row0 col2\" >2</td>\n      <td id=\"T_7824f_row0_col3\" class=\"data row0 col3\" >340</td>\n      <td id=\"T_7824f_row0_col4\" class=\"data row0 col4\" >G78</td>\n      <td id=\"T_7824f_row0_col5\" class=\"data row0 col5\" >5</td>\n      <td id=\"T_7824f_row0_col6\" class=\"data row0 col6\" >0,01</td>\n    </tr>\n    <tr>\n      <td id=\"T_7824f_row1_col0\" class=\"data row1 col0\" >('clarens', '16.01.2022')</td>\n      <td id=\"T_7824f_row1_col1\" class=\"data row1 col1\" >Clarens</td>\n      <td id=\"T_7824f_row1_col2\" class=\"data row1 col2\" >2</td>\n      <td id=\"T_7824f_row1_col3\" class=\"data row1 col3\" >340</td>\n      <td id=\"T_7824f_row1_col4\" class=\"data row1 col4\" >G27</td>\n      <td id=\"T_7824f_row1_col5\" class=\"data row1 col5\" >8</td>\n      <td id=\"T_7824f_row1_col6\" class=\"data row1 col6\" >0,02</td>\n    </tr>\n    <tr>\n      <td id=\"T_7824f_row2_col0\" class=\"data row2 col0\" >('clarens', '16.01.2022')</td>\n      <td id=\"T_7824f_row2_col1\" class=\"data row2 col1\" >Clarens</td>\n      <td id=\"T_7824f_row2_col2\" class=\"data row2 col2\" >2</td>\n      <td id=\"T_7824f_row2_col3\" class=\"data row2 col3\" >340</td>\n      <td id=\"T_7824f_row2_col4\" class=\"data row2 col4\" >G27</td>\n      <td id=\"T_7824f_row2_col5\" class=\"data row2 col5\" >3</td>\n      <td id=\"T_7824f_row2_col6\" class=\"data row2 col6\" >0,01</td>\n    </tr>\n    <tr>\n      <td id=\"T_7824f_row3_col0\" class=\"data row3 col0\" >('amphion', '01.02.2022')</td>\n      <td id=\"T_7824f_row3_col1\" class=\"data row3 col1\" >Amphion</td>\n      <td id=\"T_7824f_row3_col2\" class=\"data row3 col2\" >4</td>\n      <td id=\"T_7824f_row3_col3\" class=\"data row3 col3\" >440</td>\n      <td id=\"T_7824f_row3_col4\" class=\"data row3 col4\" >G27</td>\n      <td id=\"T_7824f_row3_col5\" class=\"data row3 col5\" >4</td>\n      <td id=\"T_7824f_row3_col6\" class=\"data row3 col6\" >0,01</td>\n    </tr>\n    <tr>\n      <td id=\"T_7824f_row4_col0\" class=\"data row4 col0\" >('amphion', '01.02.2022')</td>\n      <td id=\"T_7824f_row4_col1\" class=\"data row4 col1\" >Amphion</td>\n      <td id=\"T_7824f_row4_col2\" class=\"data row4 col2\" >4</td>\n      <td id=\"T_7824f_row4_col3\" class=\"data row4 col3\" >440</td>\n      <td id=\"T_7824f_row4_col4\" class=\"data row4 col4\" >G78</td>\n      <td id=\"T_7824f_row4_col5\" class=\"data row4 col5\" >94</td>\n      <td id=\"T_7824f_row4_col6\" class=\"data row4 col6\" >0,21</td>\n    </tr>\n    <tr>\n      <td id=\"T_7824f_row5_col0\" class=\"data row5 col0\" >('amphion', '01.02.2022')</td>\n      <td id=\"T_7824f_row5_col1\" class=\"data row5 col1\" >Amphion</td>\n      <td id=\"T_7824f_row5_col2\" class=\"data row5 col2\" >4</td>\n      <td id=\"T_7824f_row5_col3\" class=\"data row5 col3\" >440</td>\n      <td id=\"T_7824f_row5_col4\" class=\"data row5 col4\" >G79</td>\n      <td id=\"T_7824f_row5_col5\" class=\"data row5 col5\" >240</td>\n      <td id=\"T_7824f_row5_col6\" class=\"data row5 col6\" >0,55</td>\n    </tr>\n  </tbody>\n</table>\n",
      "application/papermill.record/text/plain": "<pandas.io.formats.style.Styler at 0x737dae566280>"
     },
     "metadata": {
      "scrapbook": {
       "mime_prefix": "application/papermill.record/",
       "name": "start_data_3"
      }
     },
     "output_type": "display_data"
    }
   ],
   "source": [
    "mask = (work_data[\"échantillon\"].isin(loc_dates_t))&(work_data.code.isin([*gfrags_c, code]))\n",
    "\n",
    "display_columns = [\"échantillon\", \"Plage\", \"Substrat\", \"Aire\",  \"Code\", \"Quantité\", \"pcs/m²\"]\n",
    "\n",
    "test = work_data[mask].copy()\n",
    "test = test.rename(columns={\"substrat\":\"Substrat\", \"area\":\"Aire\", \"date\":\"Date\", \"code\":\"Code\", \"quantité\":\"Quantité\"})\n",
    "test = test[display_columns].copy()\n",
    "\n",
    "caption = f\"<b>{label}3 :</b> Après avoir combiné les codes et supprimé la variable de la position, il reste des codes en double pour l'échantillon de Clarens.\"\n",
    "sd_3 = test.style.set_table_styles(table_css_styles).format(**psc.format_kwargs).set_caption(caption).hide(axis=\"index\")\n",
    "glue(\"start_data_3\", sd_3, display=False)"
   ]
  },
  {
   "cell_type": "code",
   "execution_count": 11,
   "id": "cd0694d8-9f5f-4ad8-929a-49804d47fd8d",
   "metadata": {
    "jupyter": {
     "source_hidden": true
    },
    "tags": [
     "remove-input"
    ]
   },
   "outputs": [],
   "source": [
    "# ! valid codes and definitions !\n",
    "# plastock did not use the same inventory as iqaasl\n",
    "# here we select only the codes in the plastock inventory\n",
    "pcodes = work_data.code.unique()\n",
    "\n",
    "# identify and remove codes for which there is no defintion\n",
    "# if the code is not defined then it can not be used\n",
    "t = [x for x in pcodes if x not in codes.index]\n",
    "wd_ni = work_data[~work_data.code.isin(t)].copy()\n",
    "\n",
    "# ! aggregating to Gfrags, Gcaps and Gfoams !\n",
    "# these items are not well divided into the composite subgroups\n",
    "# for example people often know what a cap is, but whether it \n",
    "# comes from a drink bottle or other type is not well considered\n",
    "# we combine the subcategories into more comprehensive groups.\n",
    "ti = rc.use_gfrags_gfoams_gcaps(wd_ni, codes)"
   ]
  },
  {
   "cell_type": "code",
   "execution_count": 12,
   "id": "1b312536-835e-49d2-9c4c-4ffbee2c6280",
   "metadata": {
    "jupyter": {
     "source_hidden": true
    },
    "tags": [
     "remove-input"
    ]
   },
   "outputs": [],
   "source": [
    "# ! groupby the sample id and code otherwise there are duplicate codes\n",
    "# after aggregating to Gfrags etc..\n",
    "work_data = ti.groupby(['échantillon', 'Plage', 'substrat', 'date', 'area', 'slug', 'code'], as_index=False).agg({'quantité':'sum'})\n",
    "work_data['pcs/m²'] = work_data['quantité']/work_data['area']\n",
    "\n",
    "# accounting for objects not found at a sample:\n",
    "# the codes that were indentified are the unique codes\n",
    "# in the set of data, they are the 'inventory'\n",
    "codes_ip = work_data.code.unique()\n",
    "# the unique samples by id\n",
    "loc_dates = work_data['échantillon'].unique()\n",
    "\n",
    "# a copy for itterating\n",
    "wd = work_data.copy()"
   ]
  },
  {
   "cell_type": "code",
   "execution_count": 13,
   "id": "6f20caec-1c55-46df-afa6-1c2b0f1b36f6",
   "metadata": {
    "jupyter": {
     "source_hidden": true
    },
    "tags": [
     "remove-input"
    ]
   },
   "outputs": [
    {
     "data": {
      "application/papermill.record/text/html": "<style type=\"text/css\">\n#T_3f775 tr:nth-child(even) {\n  background-color: rgba(139, 69, 19, 0.08);\n}\n#T_3f775 tr:nth-child(odd) {\n  background: #FFF;\n}\n#T_3f775 tr {\n  font-size: 14px;\n  padding: 6px;\n}\n#T_3f775 th:nth-child(1) {\n  background-color: #FFF;\n  white-space: nowrap;\n  word-break: keep-all;\n}\n#T_3f775 td {\n  padding: 4px;\n  text-align: center;\n}\n#T_3f775 caption {\n  caption-side: bottom;\n  font-size: 14px;\n  text-align: left;\n  margin-top: 14px;\n}\n</style>\n<table id=\"T_3f775\">\n  <caption><b>Table A5-5 :</b> La densité de l'échantillon si les zones et les substrats ne sont pas combinés pour chaque échantillon.</caption>\n  <thead>\n    <tr>\n      <th id=\"T_3f775_level0_col0\" class=\"col_heading level0 col0\" >Plage</th>\n      <th id=\"T_3f775_level0_col1\" class=\"col_heading level0 col1\" >Date</th>\n      <th id=\"T_3f775_level0_col2\" class=\"col_heading level0 col2\" >Code</th>\n      <th id=\"T_3f775_level0_col3\" class=\"col_heading level0 col3\" >pcs/m²</th>\n    </tr>\n  </thead>\n  <tbody>\n    <tr>\n      <td id=\"T_3f775_row0_col0\" class=\"data row0 col0\" >Amphion</td>\n      <td id=\"T_3f775_row0_col1\" class=\"data row0 col1\" >01.02.2022</td>\n      <td id=\"T_3f775_row0_col2\" class=\"data row0 col2\" >G27</td>\n      <td id=\"T_3f775_row0_col3\" class=\"data row0 col3\" >0,01</td>\n    </tr>\n    <tr>\n      <td id=\"T_3f775_row1_col0\" class=\"data row1 col0\" >Amphion</td>\n      <td id=\"T_3f775_row1_col1\" class=\"data row1 col1\" >01.02.2022</td>\n      <td id=\"T_3f775_row1_col2\" class=\"data row1 col2\" >Gfrags</td>\n      <td id=\"T_3f775_row1_col3\" class=\"data row1 col3\" >0,56</td>\n    </tr>\n    <tr>\n      <td id=\"T_3f775_row2_col0\" class=\"data row2 col0\" >Clarens</td>\n      <td id=\"T_3f775_row2_col1\" class=\"data row2 col1\" >16.01.2022</td>\n      <td id=\"T_3f775_row2_col2\" class=\"data row2 col2\" >G27</td>\n      <td id=\"T_3f775_row2_col3\" class=\"data row2 col3\" >0,04</td>\n    </tr>\n    <tr>\n      <td id=\"T_3f775_row3_col0\" class=\"data row3 col0\" >Clarens</td>\n      <td id=\"T_3f775_row3_col1\" class=\"data row3 col1\" >16.01.2022</td>\n      <td id=\"T_3f775_row3_col2\" class=\"data row3 col2\" >Gfrags</td>\n      <td id=\"T_3f775_row3_col3\" class=\"data row3 col3\" >0,02</td>\n    </tr>\n  </tbody>\n</table>\n",
      "application/papermill.record/text/plain": "<pandas.io.formats.style.Styler at 0x737dae49f0d0>"
     },
     "metadata": {
      "scrapbook": {
       "mime_prefix": "application/papermill.record/",
       "name": "start_data_4"
      }
     },
     "output_type": "display_data"
    }
   ],
   "source": [
    "start_data.loc[start_data.Code.isin(gfrags_c), 'Code'] = 'Gfrags'\n",
    "\n",
    "display_columns = [\"Plage\", \"Date\", \"Position\", \"Substrat\", \"Aire\",  \"Code\", \"Quantité\", \"pcs/m²\"]\n",
    "\n",
    "start_data = start_data.groupby([\"Plage\", \"Date\", \"Aire\", \"Code\"], as_index=False)[\"Quantité\"].sum()\n",
    "\n",
    "start_data[\"pcs/m²\"] = start_data[\"Quantité\"]/start_data.Aire\n",
    "sd_x = start_data.groupby([\"Plage\", \"Date\", \"Code\"], as_index=False)[\"pcs/m²\"].mean()\n",
    "\n",
    "caption =  f\"<b>{label}5 :</b> La densité de l'échantillon si les zones et les substrats ne sont pas combinés pour chaque échantillon.\" \n",
    "sd_x = sd_x.style.set_table_styles(table_css_styles).format(**psc.format_kwargs).set_caption(caption).hide(axis=\"index\")\n",
    "glue(\"start_data_4\", sd_x, display=False)"
   ]
  },
  {
   "cell_type": "code",
   "execution_count": 14,
   "id": "1dcec826-504d-4ddd-86dc-2b664bc8ef41",
   "metadata": {
    "jupyter": {
     "source_hidden": true
    },
    "tags": [
     "remove-input"
    ]
   },
   "outputs": [],
   "source": [
    "# a copy for itterating\n",
    "wd = work_data.copy()\n",
    "\n",
    "rows = []\n",
    "for a_loc in loc_dates:\n",
    "    r = wd.loc[wd['échantillon'] == a_loc].copy()\n",
    "    r.reset_index(inplace=True, drop=True)\n",
    "    \n",
    "    t = r.loc[0][['échantillon', 'Plage', 'substrat', 'date', 'area', 'slug']].values\n",
    "    asamp = [x for x in t]\n",
    "    used_codes = r.code.unique()\n",
    "    unused = [x for x in codes_ip if x not in used_codes]\n",
    "    for element in unused:\n",
    "        arow = [*asamp, element, 0, 0]\n",
    "        rows.append(arow)\n",
    "        \n",
    "\n",
    "# now all the data has the same number of records per sample\n",
    "# for each sample we can now say what was found and what was\n",
    "# not found with respect to all the results\n",
    "work_x = pd.DataFrame(rows, columns=['échantillon', 'Plage', 'substrat', 'date', 'area', 'slug', 'code', 'quantité', 'pcs/m²'])\n",
    "work_data = pd.concat([work_x, work_data])\n",
    "\n",
    "\n",
    "# add the regional component\n",
    "work_data['region'] = work_data.slug.apply(lambda x: regions.loc[x, 'alabel'])"
   ]
  },
  {
   "cell_type": "code",
   "execution_count": 15,
   "id": "9ca1a66c-911a-496e-ae2d-277bee82d5f6",
   "metadata": {
    "editable": true,
    "jupyter": {
     "source_hidden": true
    },
    "slideshow": {
     "slide_type": ""
    },
    "tags": [
     "remove-input"
    ]
   },
   "outputs": [
    {
     "data": {
      "application/papermill.record/text/html": "<style type=\"text/css\">\n#T_6c1fb tr:nth-child(even) {\n  background-color: rgba(139, 69, 19, 0.08);\n}\n#T_6c1fb tr:nth-child(odd) {\n  background: #FFF;\n}\n#T_6c1fb tr {\n  font-size: 14px;\n  padding: 6px;\n}\n#T_6c1fb th:nth-child(1) {\n  background-color: #FFF;\n  white-space: nowrap;\n  word-break: keep-all;\n}\n#T_6c1fb td {\n  padding: 4px;\n  text-align: center;\n}\n#T_6c1fb caption {\n  caption-side: bottom;\n  font-size: 14px;\n  text-align: left;\n  margin-top: 14px;\n}\n</style>\n<table id=\"T_6c1fb\">\n  <caption><b>Table A5-4 :</b> The density of sample if the areas are combined. The result for each sample is the sum of the different results for the different positions and substrates for each sample.</caption>\n  <thead>\n    <tr>\n      <th id=\"T_6c1fb_level0_col0\" class=\"col_heading level0 col0\" >échantillon</th>\n      <th id=\"T_6c1fb_level0_col1\" class=\"col_heading level0 col1\" >Plage</th>\n      <th id=\"T_6c1fb_level0_col2\" class=\"col_heading level0 col2\" >Substrat</th>\n      <th id=\"T_6c1fb_level0_col3\" class=\"col_heading level0 col3\" >Aire</th>\n      <th id=\"T_6c1fb_level0_col4\" class=\"col_heading level0 col4\" >Code</th>\n      <th id=\"T_6c1fb_level0_col5\" class=\"col_heading level0 col5\" >Quantité</th>\n      <th id=\"T_6c1fb_level0_col6\" class=\"col_heading level0 col6\" >pcs/m²</th>\n    </tr>\n  </thead>\n  <tbody>\n    <tr>\n      <td id=\"T_6c1fb_row0_col0\" class=\"data row0 col0\" >('amphion', '01.02.2022')</td>\n      <td id=\"T_6c1fb_row0_col1\" class=\"data row0 col1\" >Amphion</td>\n      <td id=\"T_6c1fb_row0_col2\" class=\"data row0 col2\" >4</td>\n      <td id=\"T_6c1fb_row0_col3\" class=\"data row0 col3\" >440</td>\n      <td id=\"T_6c1fb_row0_col4\" class=\"data row0 col4\" >G27</td>\n      <td id=\"T_6c1fb_row0_col5\" class=\"data row0 col5\" >4</td>\n      <td id=\"T_6c1fb_row0_col6\" class=\"data row0 col6\" >0,01</td>\n    </tr>\n    <tr>\n      <td id=\"T_6c1fb_row1_col0\" class=\"data row1 col0\" >('amphion', '01.02.2022')</td>\n      <td id=\"T_6c1fb_row1_col1\" class=\"data row1 col1\" >Amphion</td>\n      <td id=\"T_6c1fb_row1_col2\" class=\"data row1 col2\" >4</td>\n      <td id=\"T_6c1fb_row1_col3\" class=\"data row1 col3\" >440</td>\n      <td id=\"T_6c1fb_row1_col4\" class=\"data row1 col4\" >Gfrags</td>\n      <td id=\"T_6c1fb_row1_col5\" class=\"data row1 col5\" >334</td>\n      <td id=\"T_6c1fb_row1_col6\" class=\"data row1 col6\" >0,76</td>\n    </tr>\n    <tr>\n      <td id=\"T_6c1fb_row2_col0\" class=\"data row2 col0\" >('clarens', '16.01.2022')</td>\n      <td id=\"T_6c1fb_row2_col1\" class=\"data row2 col1\" >Clarens</td>\n      <td id=\"T_6c1fb_row2_col2\" class=\"data row2 col2\" >2</td>\n      <td id=\"T_6c1fb_row2_col3\" class=\"data row2 col3\" >340</td>\n      <td id=\"T_6c1fb_row2_col4\" class=\"data row2 col4\" >G27</td>\n      <td id=\"T_6c1fb_row2_col5\" class=\"data row2 col5\" >11</td>\n      <td id=\"T_6c1fb_row2_col6\" class=\"data row2 col6\" >0,03</td>\n    </tr>\n    <tr>\n      <td id=\"T_6c1fb_row3_col0\" class=\"data row3 col0\" >('clarens', '16.01.2022')</td>\n      <td id=\"T_6c1fb_row3_col1\" class=\"data row3 col1\" >Clarens</td>\n      <td id=\"T_6c1fb_row3_col2\" class=\"data row3 col2\" >2</td>\n      <td id=\"T_6c1fb_row3_col3\" class=\"data row3 col3\" >340</td>\n      <td id=\"T_6c1fb_row3_col4\" class=\"data row3 col4\" >Gfrags</td>\n      <td id=\"T_6c1fb_row3_col5\" class=\"data row3 col5\" >5</td>\n      <td id=\"T_6c1fb_row3_col6\" class=\"data row3 col6\" >0,01</td>\n    </tr>\n  </tbody>\n</table>\n",
      "application/papermill.record/text/plain": "<pandas.io.formats.style.Styler at 0x737dae1806a0>"
     },
     "metadata": {
      "scrapbook": {
       "mime_prefix": "application/papermill.record/",
       "name": "start_data_5"
      }
     },
     "output_type": "display_data"
    }
   ],
   "source": [
    "mask = (work_data[\"échantillon\"].isin(loc_dates_t))&(work_data.code.isin([\"Gfrags\", \"G27\"]))\n",
    "display_columns = [\"échantillon\", \"Plage\", \"Substrat\", \"Aire\",  \"Code\", \"Quantité\", \"pcs/m²\"]\n",
    "test = work_data[mask].copy()\n",
    "test = test.rename(columns={\"substrat\":\"Substrat\", \"area\":\"Aire\", \"date\":\"Date\", \"code\":\"Code\", \"quantité\":\"Quantité\"})\n",
    "test = test[display_columns].copy()\n",
    "\n",
    "caption =  f\"<b>{label}4 :</b> The density of sample if the areas are combined. The result for each sample is the sum of the different results for the different positions and substrates for each sample.\"\n",
    "sd_5 = test.style.set_table_styles(table_css_styles).format(**psc.format_kwargs).set_caption(caption).hide(axis=\"index\")\n",
    "glue(\"start_data_5\", sd_5, display=False)"
   ]
  },
  {
   "cell_type": "code",
   "execution_count": 16,
   "id": "a6e9ced6-3c60-4de3-a8ff-3bdf7375a5f4",
   "metadata": {
    "editable": true,
    "jupyter": {
     "source_hidden": true
    },
    "slideshow": {
     "slide_type": ""
    },
    "tags": [
     "remove-input"
    ]
   },
   "outputs": [],
   "source": [
    "work_data.to_csv('data/end_pipe/macro_data_msquared.csv', index=False)\n",
    "work_data_example = work_data.copy()"
   ]
  },
  {
   "cell_type": "markdown",
   "id": "bd4ac9be-e6b2-44ad-a2be-7c6edb04f112",
   "metadata": {
    "editable": true,
    "slideshow": {
     "slide_type": ""
    },
    "tags": []
   },
   "source": [
    "### Exemple\n",
    "\n",
    "#### Mètres carrés\n",
    "\n",
    "Pour illustrer les changements apportés aux données, considérons deux échantillons et deux codes (G27, Gfrags). Le premier échantillon est Amphion le 2022-02-01 et le second est Clarens le 2022-01-16. À Amphion, il y a plusieurs valeurs pour les mêmes codes le même jour. Il en va de même pour Clarens, mais à Clarens, il y a également deux substrats pour la plage. Notez que les codes G78 et G79 font partie du code combiné Gfrags.\n",
    "\n",
    "```{glue} start_data\n",
    "```\n",
    "\n",
    "Pour combiner les données, nous devons additionner les surfaces pour chaque échantillon, appliquer la nouvelle surface à tous les comptages d'objets pour cet échantillon et ce jour, et supprimer la variable de position. Pour Amphion, la surface totale est de 342 + 98 = 440 m², pour Clarens 273 + 67 = 340 m².\n",
    "\n",
    "```{glue} start_data_2\n",
    "``` \n",
    "\n",
    "Après avoir combiné tous les totaux de codes pour chaque échantillon et remplacé le substrat 4 par le substrat 2 dans toutes les localités qui ont des valeurs de substrat distinctes pour la position, nous nous retrouvons encore avec des codes en double sur un échantillon.\n",
    "\n",
    "```{glue} start_data_3\n",
    "``` \n",
    "\n",
    "Dans la dernière étape, les codes qui doivent être combinés (G78 et G79) sont placés sous un seul code et les données sont agrégées à l'identifiant de l'échantillon (date et lieu de l'échantillon).  \n",
    "\n",
    "```{glue} start_data_5\n",
    "```\n",
    "\n",
    "#### La différence\n",
    "\n",
    "Si les surfaces des positions ne sont pas combinées, les valeurs attendues sont beaucoup plus faibles. En effet, nous sommes obligés de prendre la moyenne de la densité des deux positions et des substrats pour chaque échantillon. \n",
    "\n",
    "```{glue} start_data_4\n",
    "``` \n",
    "\n",
    "__Problème de communication :__ Cela peut être difficile à communiquer. La moyenne pour une région est la moyenne de la densité totale par échantillon. C'est-à-dire le nombre total d'objets divisé par la surface totale. Cependant, dans ce cas, la moyenne de la région est la moyenne des moyennes par échantillon.\n",
    "\n",
    "Cela signifie que la médiane d'une région serait la médiane de la moyenne des moyennes par échantillon. \n",
    "\n",
    "\n",
    "#### Mètres linéaires\n",
    "\n",
    "L'opération de transformation des données en mètres linéaires est différente. Pour convertir toutes les plages en une seule section, nous abandonnons la variable superficie et la remplaçons par les données de longueur fournies. La longueur est la même pour les deux sections de chaque plage (les surfaces sont différentes), nous avons donc divisé la somme de tous les objets par la longueur donnée pour l'échantillon. Ce processus est conforme à la norme décrite dans le guide de surveillance des déchets marins."
   ]
  },
  {
   "cell_type": "code",
   "execution_count": 17,
   "id": "ee325418-ef53-42e0-b3a7-41a0e63f362f",
   "metadata": {
    "editable": true,
    "slideshow": {
     "slide_type": ""
    },
    "tags": [
     "remove-input"
    ]
   },
   "outputs": [],
   "source": [
    "# reading in data\n",
    "new_datai = pd.read_csv(\"data/end_pipe/macro_current.csv\")\n",
    "beach_data = pd.read_csv(\"data/end_pipe/pstock_beaches_current.csv\")\n",
    "\n",
    "\n",
    "# adding the lenght of each sample to the results\n",
    "length_key = beach_data[[\"Plage\",\"length\"]].drop_duplicates(\"Plage\").set_index(\"Plage\")\n",
    "work_datai = new_datai[[\"Plage\", *new_column_names.keys()]].copy()\n",
    "work_datai.rename(columns=new_column_names, inplace=True)\n",
    "work_datai[\"length\"] = work_datai.Plage.apply(lambda x: length_key.loc[x, \"length\"])\n",
    "\n",
    "# making a sample id from the location and date\n",
    "work_datai[\"slug\"] = work_datai.Plage.apply(lambda x: slugify(x))\n",
    "work_datai[\"echantillon\"] = list(zip(work_datai.slug, work_datai['date']))\n",
    "work_datai['date'] = pd.to_datetime(work_datai[\"date\"], format=\"mixed\", dayfirst=True)\n",
    "work_datai.dropna(inplace=True)\n",
    "\n",
    "# defining the data type of columns\n",
    "work_datai[[\"position\", \"substrat\"]] = work_datai[[\"position\", \"substrat\"]].astype(\"int\")\n",
    "\n",
    "# changing the column name to human readable\n",
    "work_datai['échantillon'] = work_datai['echantillon']\n",
    "work_datai.drop(['echantillon'], inplace=True, axis=1)\n",
    "\n",
    "# removing the position variable from data and\n",
    "# grouping by sample id and code to get the total per sample per code\n",
    "work_datai = work_datai.groupby(['échantillon', 'Plage', 'substrat', 'date', 'length', 'slug', 'code'], as_index=False).agg({'quantité':'sum'})\n",
    "\n",
    "# divide that by length\n",
    "work_datai['pcs/m'] = work_datai['quantité']/work_datai['length']\n",
    "\n",
    "# add the region\n",
    "work_datai['region'] = work_datai.slug.apply(lambda x: regions.loc[x, 'alabel'])"
   ]
  },
  {
   "cell_type": "code",
   "execution_count": 18,
   "id": "3b630682-b5af-4834-aead-886e668ab981",
   "metadata": {
    "editable": true,
    "slideshow": {
     "slide_type": ""
    },
    "tags": [
     "remove-input"
    ]
   },
   "outputs": [],
   "source": [
    "# ! combining the substrates for beaches where there are two substrates !\n",
    "voi = 'substrat'\n",
    "vals = \"pcs/m\"\n",
    "some_data = work_datai.copy()\n",
    "groupby = ['échantillon', voi]\n",
    "data = some_data.groupby(groupby, as_index=False)[vals].sum()\n",
    "\n",
    "# these are the duplicate values that need to be changed\n",
    "dd = data[data['échantillon'].duplicated()].copy()\n",
    "\n",
    "duplicated = work_datai[work_datai['échantillon'].isin(dd['échantillon'].unique())].copy()\n",
    "duplicated['substrat'] = 2 \n",
    "\n",
    "# notduplicated\n",
    "not_duplicated = work_datai[~(work_datai['échantillon'].isin(dd['échantillon'].unique()))].copy()\n",
    "\n",
    "# put it back to gether again\n",
    "work_datai = pd.concat([duplicated, not_duplicated])\n",
    "\n",
    "# groupby the new substrat values and calculate pcs/m\n",
    "work_datai = work_datai.groupby(['échantillon', 'Plage', 'region', 'substrat', 'date', 'length', 'slug', 'code'], as_index=False).agg({'quantité':'sum'})\n",
    "work_datai['pcs/m'] = work_datai['quantité']/work_datai['length']"
   ]
  },
  {
   "cell_type": "code",
   "execution_count": 19,
   "id": "d02150b6-e677-4bed-9c12-22a4a1051a30",
   "metadata": {
    "editable": true,
    "slideshow": {
     "slide_type": ""
    },
    "tags": [
     "remove-input"
    ]
   },
   "outputs": [],
   "source": [
    "# ! defining the total inventory of the current data !\n",
    "# accounting for objects not found at a sample:\n",
    "# the codes that were indentified at least once = inventory\n",
    "# defining the components of the inventory\n",
    "codes_ip = work_datai.code.unique()\n",
    "\n",
    "# the unique samples\n",
    "loc_dates = work_datai['échantillon'].unique()\n",
    "\n",
    "# a copy for itterating\n",
    "wd = work_datai.copy()\n",
    "\n",
    "# for each sample (échantillon) indentify the codes that were not\n",
    "# found by indentifying all the codes that were found in all surveys\n",
    "# and removing the codes that were not identified at that sample.\n",
    "# for each unidentified code per sample, add a row with the sample\n",
    "# id and the code. give the row a quantity of zero.\n",
    "rows = []\n",
    "for a_loc in loc_dates:\n",
    "    r = wd.loc[wd['échantillon'] == a_loc].copy()\n",
    "    r.reset_index(inplace=True, drop=True)\n",
    "    \n",
    "    t = r.loc[0][['échantillon', 'Plage', 'region', 'substrat', 'date', 'length', 'slug']].values\n",
    "    asamp = [x for x in t]\n",
    "    used_codes = r.code.unique()\n",
    "    unused = [x for x in codes_ip if x not in used_codes]\n",
    "    for element in unused:\n",
    "        arow = [*asamp, element, 0, 0]\n",
    "        rows.append(arow)\n",
    "        \n",
    "\n",
    "work_x = pd.DataFrame(rows, columns=['échantillon', 'Plage', 'region', 'substrat', 'date', 'length', 'slug', 'code', 'quantité', 'pcs/m'])\n",
    "work_datai = pd.concat([work_x, work_datai])\n",
    "\n",
    "work_datai.to_csv(\"data/end_pipe/macro_data_linearm.csv\", index=False)"
   ]
  },
  {
   "cell_type": "markdown",
   "id": "a82bdb7f-e987-4f52-acdb-4dad0c12b9a1",
   "metadata": {
    "editable": true,
    "slideshow": {
     "slide_type": ""
    },
    "tags": []
   },
   "source": [
    "## Analyse et inférence\n",
    "\n",
    "We used two methods of approximation to infer the expected results: _Random Forest Regression_ and _Bayesian grid approximation_. \n",
    "\n",
    "### Random Forest Regression\n",
    "1. **Type of Model**: Random Forest is an ensemble learning method, particularly used for regression (and classification) tasks.\n",
    "2. **How it Works**: It operates by constructing multiple decision trees during training and outputting the mean prediction of the individual trees for regression tasks.\n",
    "3. **Key Features**:\n",
    "   - **Handling Non-Linearity**: It can handle non-linear relationships between features and the target variable well.\n",
    "   - **Feature Importance**: Provides insights into which features are most important in predicting the target variable.\n",
    "   - **Overfitting**: Generally, less prone to overfitting compared to individual decision trees.\n",
    "   - **Flexibility**: Can be used for both categorical and continuous input and output variables.\n",
    "\n",
    "### Bayesian Grid Approximation\n",
    "1. **Type of Model**: This approach is grounded in Bayesian statistics. It's not a specific model but a method for estimating or approximating the posterior distribution of model parameters.\n",
    "2. **How it Works**: Involves specifying a prior distribution for the parameters, a likelihood function based on the data, and then using computational techniques (like grid approximation) to estimate the posterior distribution of the parameters.\n",
    "3. **Key Features**:\n",
    "   - **Uncertainty Estimation**: Provides a probabilistic interpretation and a way to estimate uncertainty in predictions.\n",
    "   - **Prior Knowledge**: Incorporates prior knowledge or beliefs about the parameters through the prior distribution.\n",
    "   - **Computationally Intensive**: For high-dimensional parameter spaces, grid approximation can become impractical.\n",
    "   - **Flexibility**: Can be applied to a wide range of models, including linear models, hierarchical models, etc.\n",
    "\n",
    "### Key Differences\n",
    "- **Fundamental Approach**: Random Forest is a machine learning algorithm based on decision trees, while Bayesian Grid Approximation is a statistical method for estimating parameter distributions.\n",
    "- **Output**: Random Forest provides a single predictive model. Bayesian methods provide a distribution of possible models, giving a sense of uncertainty.\n",
    "- **Complexity and Computation**: Random Forest is generally straightforward and less computationally intensive compared to Bayesian methods, especially for large datasets or models with many parameters.\n",
    "- **Interpretability**: Random Forests can be less interpretable due to the ensemble nature of many trees, whereas Bayesian methods offer probabilistic interpretations that can be insightful but might require a deeper statistical understanding.\n",
    "\n",
    "Each method has its strengths and is suitable for different kinds of problems and data sets. The choice between them depends on the specific requirements of the analysis, such as the need for uncertainty quantification, computational resources, and the nature of the data."
   ]
  },
  {
   "cell_type": "code",
   "execution_count": 20,
   "id": "2dc73f86-63fa-4616-88e1-6d26d7a4d5f7",
   "metadata": {
    "editable": true,
    "slideshow": {
     "slide_type": ""
    },
    "tags": [
     "remove-input"
    ]
   },
   "outputs": [
    {
     "name": "stdout",
     "output_type": "stream",
     "text": [
      "Index(['loc_date', 'date', 'slug', 'region', 'code', 'quantity', 'city',\n",
      "       'feature_name', 'feature_type', 'parent_boundary', 'pcs_m',\n",
      "       'frequentation', 'situation', 'orientation', 'distance', 'substrat'],\n",
      "      dtype='object')\n"
     ]
    }
   ],
   "source": [
    "# reading in data\n",
    "# new_data = pd.read_csv(\"data/end_pipe/macro_current.csv\")\n",
    "work_data = pd.read_csv(\"data/end_pipe/macro_data_linearm.csv\")\n",
    "beach_data = pd.read_csv(\"data/end_pipe/pstock_beaches_current.csv\")\n",
    "\n",
    "# historical data\n",
    "hist_leman = pd.read_csv(\"data/end_pipe/hist_leman.csv\")\n",
    "# ghi = pd.read_csv('data/end_pipe/iqaasl.csv')\n",
    "hiqaasl = hist_leman.copy()\n",
    "hiqaasl.rename(columns={\"sample_id\":\"loc_date\", \"location\":\"slug\", 'pcs/m':'pcs_m'}, inplace=True)\n",
    "iq_cols = ['loc_date', 'date', 'slug', 'code', 'quantity', 'city', 'feature_name', 'feature_type', 'parent_boundary', 'pcs_m', 'project', 'region']\n",
    "\n",
    "ghi = hiqaasl[iq_cols].copy()\n",
    "\n",
    "\n",
    "\n",
    "# most recent results not plastock\n",
    "ssp=pd.read_csv('data/end_pipe/swt_all.csv')\n",
    "\n",
    "# # the independent variables are in asl_beaches file\n",
    "beach_data_f = pd.read_csv(\"data/end_pipe/asl_beaches.csv\").set_index('Plage')\n",
    "\n",
    "# # code definitions\n",
    "# codes = pd.read_csv('data/end_pipe/codes.csv').set_index('code')\n",
    "\n",
    "# add the regional component\n",
    "# the regional labels for each survey location\n",
    "regions = pd.read_csv(\"data/end_pipe/lac_leman_regions.csv\")\n",
    "regions.set_index('slug', drop=True, inplace=True)\n",
    "\n",
    "# # the city designation is used for reporting\n",
    "# # the city name of the survey locations\n",
    "# city_map = pd.read_csv('data/end_pipe/city_map.csv')\n",
    "# city_map.set_index('slug', inplace=True)\n",
    "\n",
    "codes_ip = work_data.code.unique()\n",
    "\n",
    "change_names = ['preverenges', 'tolochenaz', 'versoix', 'vidy', 'cully']\n",
    "\n",
    "plastock_cols = ['loc_date', 'date','slug','region', 'code', 'quantity', 'city', 'feature_name', 'feature_type','parent_boundary', 'pcs_m']\n",
    "features = ['frequentation', 'situation', 'orientation', 'distance']\n",
    "\n",
    "changeus = work_data[work_data.slug.isin(change_names)].copy()\n",
    "donotchange = work_data[~work_data.slug.isin(change_names)].copy()\n",
    "\n",
    "new_slug = {\n",
    "    'cully': 'cully-p',\n",
    "    'preverenges': 'preverenges-p',\n",
    "    'tolochenaz': 'tolochenaz-p',\n",
    "    'versoix':'versoix-p',\n",
    "    'vidy': 'vidy-p'}\n",
    "\n",
    "# they have the same name as locations in iqaasl\n",
    "changeus['new_slug'] = changeus.slug.apply(lambda x: new_slug[x])\n",
    "changeus['slug'] = changeus.new_slug\n",
    "changeus.drop('new_slug', inplace=True, axis=1)\n",
    "\n",
    "# the plastock data with the converted names\n",
    "wd_nn = pd.concat([changeus, donotchange])\n",
    "\n",
    "# # plastock did not use the same inventory as iqaasl\n",
    "# # here we select only the codes in the plastock inventory\n",
    "# pcodes = wd_nn.code.unique()\n",
    "\n",
    "# identify and remove codes for which there is no defintion\n",
    "# if the code is not defined then it can not be used\n",
    "t = [x for x in codes_ip if x not in codes.index]\n",
    "wd_ni = wd_nn[~wd_nn.code.isin(t)].copy()\n",
    "\n",
    "\n",
    "# ! aggregating plastic caps, fragmented plastics, fragmented foams !\n",
    "# these items are not well divided into the composite subgroups\n",
    "# for example people often know what a cap is, but whether it \n",
    "# comes from a drink bottle or other type is not well considered\n",
    "# we combine the subcategories into more comprehensive groups.\n",
    "ti = rc.use_gfrags_gfoams_gcaps(wd_ni, codes)\n",
    "\n",
    "\n",
    "# formatting data for reporting\n",
    "# aggregate along all land-use and topo variables.\n",
    "ti = ti.groupby(['échantillon', 'Plage', 'region', 'date', 'substrat', 'length', 'slug', 'code'], as_index=False).agg({'quantité':'sum'})\n",
    "\n",
    "# !combinining with previous results!\n",
    "# these are the default arguments for the report class\n",
    "# the language maps gives the code definitions in english, german and french\n",
    "# the top_label asserts the top level aggregation for the set of data defined by\n",
    "# start, end dates and feature_name. These arguments are for the plastock data\n",
    "language_maps = rc.language_maps()\n",
    "top_label= ['feature_name', 'lac-leman']\n",
    "\n",
    "# the default language is english in the report column class\n",
    "# there are column names that need to be changed\n",
    "new_names = {'échantillon': 'loc_date', 'pcs/m': 'pcs_m'}\n",
    "ti.rename(columns={**new_names,'quantité': 'quantity'}, inplace=True)\n",
    "\n",
    "# define the pcs/m column and the data to merge\n",
    "ti['pcs_m'] = ti.quantity/ti.length\n",
    "\n",
    "# adding and renaming columns according to reportclass requirements\n",
    "# these values can be indexed on the IQAASL data\n",
    "ti['city'] = ti.slug.apply(lambda x: city_map.loc[x])\n",
    "ti['feature_name'] = 'lac-leman'\n",
    "ti['feature_type'] = 'l'\n",
    "ti['parent_boundary'] = 'rhone'\n",
    "\n",
    "# ! adding feature columns to survey data !\n",
    "# they can be merged on the Plage column and the index\n",
    "# these are used for modeling\n",
    "env_plastock = ti.merge(beach_data_f[features], left_on='Plage', right_index=True)\n",
    "env_plastock = env_plastock[[*plastock_cols, *features, 'substrat']]\n",
    "print(env_plastock.columns)\n",
    "\n",
    "# ! the data for reporting !\n",
    "ti_work = ti[plastock_cols].copy()\n",
    "\n",
    "# this data is formatted to work with the reporting structure of IQAASL\n",
    "# the landuse data is not included here.\n",
    "ti_work = ti_work.groupby(plastock_cols, as_index=False).agg(psc.unit_agg)\n",
    "ti_work['project']='Plastock'\n",
    "\n",
    "# merge the data and select only the current codes from plastock\n",
    "txi = pd.concat([ghi, ti_work[[*plastock_cols, 'project']].copy()])\n",
    "txi.reset_index(inplace=True)\n",
    "txi = txi[txi.code.isin(ti_work.code.unique())]\n",
    "\n",
    "# a report that includes both sets of data\n",
    "boundaries = dict(start_date=\"2015-11-15\", end_date=\"2023-01-01\", feature_name=\"lac-leman\", language=\"fr\")\n",
    "current = rc.ReportClass(txi.copy(), boundaries=boundaries, language=\"fr\", lang_maps=language_maps, top_label=top_label)"
   ]
  },
  {
   "cell_type": "code",
   "execution_count": 21,
   "id": "29203936-b867-4791-9473-648c6ec3f756",
   "metadata": {
    "editable": true,
    "slideshow": {
     "slide_type": ""
    },
    "tags": [
     "remove-input"
    ]
   },
   "outputs": [],
   "source": [
    "mc, weight = current.most_common\n",
    "mc.index\n",
    "\n",
    "# they can be merged on the Plage column and the index\n",
    "# env_plastock = ti.merge(beach_datax[features], left_on='Plage', right_index=True)\n",
    "\n",
    "# ! creation of composite variables !\n",
    "t_and_f = env_plastock.loc[:, ['loc_date', 'slug','date','code', 'pcs_m', 'quantity', 'frequentation', 'situation', 'distance', 'substrat', 'region']].copy()\n",
    "\n",
    "# the substrat and distance features are being combined\n",
    "# the two lowest and the two highest of each group are being combined\n",
    "# substrat is a matter of combining different granularities. They are being grouped as\n",
    "# sand and gravel.\n",
    "# distance is now grouped by locations either less than or equal to 500 meters\n",
    "t_and_f.loc[t_and_f.substrat <= 2, 'substrat'] = 1\n",
    "t_and_f.loc[t_and_f.substrat > 2, 'substrat'] = 2\n",
    "t_and_f.loc[t_and_f.distance <= 2, 'distance'] = 1\n",
    "t_and_f.loc[t_and_f.distance > 2, 'distance'] = 2\n",
    "t_and_f.loc[t_and_f.frequentation <= 2, 'frequentation'] = 2\n",
    "\n",
    "# ! the data used in the models !\n",
    "f_combi = t_and_f.copy()\n",
    "\n",
    "f_combi.rename(columns={'frequentation':'fréquentation', 'loc_date': 'échantillon'}, inplace=True)\n"
   ]
  },
  {
   "cell_type": "code",
   "execution_count": 22,
   "id": "6f3c94b1-050b-43e3-b653-7f9424b1f329",
   "metadata": {
    "editable": true,
    "slideshow": {
     "slide_type": ""
    },
    "tags": [
     "remove-input"
    ]
   },
   "outputs": [
    {
     "data": {
      "image/png": "[encoded data removed]",
      "text/plain": [
       "<Figure size 1000x800 with 4 Axes>"
      ]
     },
     "metadata": {},
     "output_type": "display_data"
    }
   ],
   "source": [
    "prior_data = current.w_df.copy()\n",
    "prior_data = prior_data[~prior_data.isna()]\n",
    "\n",
    "prior_data['region'] = prior_data.slug.apply(lambda x: regions.loc[x, 'alabel'])\n",
    "prior_data = prior_data.loc[prior_data.code.isin(mc.index)]\n",
    "pd= prior_data[prior_data.project != \"Plastock\"].copy()\n",
    "ps= prior_data[prior_data.project == \"Plastock\"].copy()\n",
    "\n",
    "\n",
    "grid_val_index = np.linspace(0, 19.99, 2000)\n",
    "groupby_columns = ['sample_id', 'location', 'date', 'city', 'orchards', 'vineyards', 'buildings', 'forest',\n",
    "                   'undefined', 'public_services', 'streets']\n",
    "\n",
    "order = [\"Haut lac\", \"Grand lac\",  \"Petit lac\"]\n",
    "ordinal = {x:i+1 for i,x in enumerate(order)}\n",
    "\n",
    "def sum_a_b(zipped):\n",
    "    f = []\n",
    "    for element in zipped:\n",
    "        # print(element[0])\n",
    "        # the new beta distribution would be\n",
    "        # total success, (total tries - total success)\n",
    "        obs = element[0]\n",
    "        obs2 = element[1]\n",
    "        \n",
    "        new_element_0 = np.array([obs[0], obs[1] - obs[0]])\n",
    "        new_element_1 = np.array([obs2[0], obs2[1] - obs2[0]])\n",
    "        t3 = new_element_0 + new_element_1\n",
    "        if t3[0] < 1 or t3[1] <1:\n",
    "            # print(t3[0])\n",
    "            # print(t3[1] == 0)\n",
    "            t3 = np.array([t3[0]+1, t3[1]+1])\n",
    "        \n",
    "        f.append(t3)\n",
    "    return f\n",
    "def draw_a_beta_value(posteriors):\n",
    "    # d = next(generator)\n",
    "    # drawing a random number from the beta distribution\n",
    "    # this is the the chance p, that a binomial distribution will\n",
    "    # result in True.\n",
    "    my_beta = [beta.rvs(x[0], x[1], size=1) for x in posteriors]\n",
    "    return my_beta\n",
    "\n",
    "\n",
    "def region_and_code(df, code, regions=order):\n",
    "    # returns the survey results for a region and a code\n",
    "    ds = []\n",
    "    for region in regions:\n",
    "        mask = (df.code == code)&(df.region == region)\n",
    "        d = df[mask]\n",
    "        d = d.groupby(['loc_date', 'project', 'region'], as_index=False).pcs_m.sum()\n",
    "        d[\"region\"] = ordinal[region]\n",
    "        ds.append(d)\n",
    "    return ds\n",
    "\n",
    "beta_prior = pstk.calculate_beta_prior(grid_range=grid_val_index, bin_density_numbers=[1])\n",
    "\n",
    "u = region_and_code(pd.copy(), \"G27\")\n",
    "pk = region_and_code(ps.copy(), \"G27\")\n",
    "\n",
    "fig, ax = plt.subplots(2,2, figsize=(10,8) )\n",
    "ax[0,0].set_xlim(-.5, 5)\n",
    "ax[0,1].set_xlim(-.5, 5)\n",
    "ax[1,1].set_xlim(-.5, 5)\n",
    "for i, n in enumerate(order):\n",
    "    prior_likelihood0 = pstk.calculate_likelihood(aggregated_data=u[i].copy(), bin_density_column='region', pcs_column='pcs_m', grid_range=grid_val_index, bins=[i+1])\n",
    "    prior_likelihood0.rename(columns={f'Likelihood_{i+1}':'Bin_1'}, inplace=True)\n",
    "    # the posterior probabilities\n",
    "    prior_grid0 = pstk.define_posterior(prior_likelihood0, beta_prior, grid_val_index=grid_val_index)\n",
    "    sns.scatterplot(data=prior_grid0, x=\"X\", y=\"Bin_1\", ax=ax[0, 0], label=f'{n} 2015-2021', alpha=0.4)\n",
    "\n",
    "    prior_likelihood1 = pstk.calculate_likelihood(aggregated_data=pk[i].copy(), bin_density_column='region', pcs_column='pcs_m', grid_range=grid_val_index, bins=[i+1])\n",
    "    prior_likelihood1.rename(columns={f'Likelihood_{i+1}':'Bin_1'}, inplace=True)\n",
    "    # the posterior probabilities\n",
    "    prior_grid1 = pstk.define_posterior(prior_likelihood1, beta_prior, grid_val_index=grid_val_index)\n",
    "    sns.scatterplot(data=prior_grid1, x=\"X\", y=\"Bin_1\", ax=ax[0,1], label=f'{n} plastock', alpha=1)\n",
    "\n",
    "    a = prior_likelihood0['Bin_1']\n",
    "    b =  prior_likelihood1['Bin_1']\n",
    "    \n",
    "    ab = list(zip(a.values, b.values))\n",
    "    \n",
    "    summed = sum_a_b(ab)\n",
    "    new_beta = draw_a_beta_value(summed)\n",
    "    new_beta = [x[0] for x in new_beta]\n",
    "    sns.scatterplot(x=grid_val_index, y=new_beta, ax=ax[1,1], label=f'{n} post', alpha=1)\n",
    "\n",
    "plt.suptitle(\"Changes in the probable densitiy of cigaretted ends.\\nLac Leman regions 2015-2022\n",
    "    \n",
    "   "
   ]
  },
  {
   "cell_type": "code",
   "execution_count": 23,
   "id": "8d10eeea-373b-43d7-8d99-2067bef6c216",
   "metadata": {
    "editable": true,
    "slideshow": {
     "slide_type": ""
    },
    "tags": [
     "remove-input"
    ]
   },
   "outputs": [],
   "source": [
    "# # the prior data from surveys\n",
    "# iqaasl_prior = report_iq_pk.w_df[report_iq_pk.w_df.project == \"IQAASL\"].copy()\n",
    "# iq_p = iqaasl_prior.groupby(['loc_date', 'project'], as_index=False).pcs_m.sum()\n",
    "# iq_p['top'] = 1\n",
    "\n",
    "# iq_prior = pstk.calculate_likelihood(aggregated_data=iq_p, bin_density_column='top', pcs_column='pcs_m', grid_range=grid_val_index, bins=[1])\n",
    "# iq_prior.rename(columns={'Likelihood_1':'Bin_1'}, inplace=True)\n",
    "\n",
    "# col = 'top'\n",
    "# pcs_col = 'pcs_m'\n",
    "# grid_range = grid_val_index\n",
    "# bins = [1]\n",
    "\n",
    "# # assuming know prior knowledge\n",
    "# beta_prior = pstk.calculate_beta_prior(grid_range=grid_range, bin_density_numbers=[1])\n",
    "\n",
    "# test_x = f_combi.copy().groupby(cols, as_index=False).pcs_m.sum()\n",
    "# test_x['top'] = 1\n",
    "\n",
    "# grid_pstock = pstk.calculate_likelihood(aggregated_data=test_x, bin_density_column=col, pcs_column=pcs_col, grid_range=grid_range, bins=bins)"
   ]
  },
  {
   "cell_type": "code",
   "execution_count": 24,
   "id": "af29c184-0b26-4540-9939-20a48d29d25c",
   "metadata": {
    "editable": true,
    "slideshow": {
     "slide_type": ""
    },
    "tags": [
     "remove-input"
    ]
   },
   "outputs": [],
   "source": [
    "# # posterior uninformed\n",
    "# post_grid_pstock = pstk.define_posterior(grid_pstock, beta_prior, grid_val_index=grid_range)\n",
    "\n",
    "# # posterior informed\n",
    "# post_grid_iqp =pstk.define_posterior(grid_pstock, iq_prior, grid_val_index=grid_range)\n",
    "\n",
    "# # samples\n",
    "# sample_totals = pstk.posterior_predictions(post_grid_pstock.copy())\n",
    "# s_iqp = pstk.posterior_predictions(post_grid_iqp.copy())\n",
    "\n",
    "# caption = 'Toutes les conditions'\n",
    "\n",
    "# test_grid_quants = pstk.makeqdf(test_x.pcs_m.values, s_iqp, caption=caption)\n",
    "# glue('q-tous-b', test_grid_quants, display=False)\n",
    "# title = 'Plastock 2022, Le Léman\\nDistribution des Prédictions: toutes les conditions,  grid approximation, prior = IQAASL'\n",
    "\n",
    "# pstk.plot_histogram(s_iqp, test_x.pcs_m.values, title=title, reference='toutes-gapprox', display=False)"
   ]
  },
  {
   "cell_type": "code",
   "execution_count": 25,
   "id": "bfdeb46f-111d-456e-ad7a-f60b4e444221",
   "metadata": {
    "editable": true,
    "slideshow": {
     "slide_type": ""
    },
    "tags": [
     "remove-input"
    ]
   },
   "outputs": [],
   "source": [
    "# col = 'substrat'\n",
    "# pcs_col = 'pcs_m'\n",
    "# grid_range = grid_val_index\n",
    "# bins = [2]\n",
    "\n",
    "# test_xi = f_combi[(f_combi['substrat'] == 2)].copy()\n",
    "# test_x = test_xi.groupby(cols, as_index=False).pcs_m.sum()\n",
    "\n",
    "\n",
    "# grid_pstock = pstk.calculate_likelihood(aggregated_data=test_x, bin_density_column=col, pcs_column=pcs_col, grid_range=grid_range, bins=bins)\n",
    "\n",
    "# # posterior uninformed\n",
    "# post_grid_pstock = pstk.define_posterior(grid_pstock, beta_prior, grid_val_index=grid_range)\n",
    "\n",
    "# # posterior informed\n",
    "# post_grid_iqp =pstk.define_posterior(grid_pstock, iq_prior, grid_val_index=grid_range)\n",
    "\n",
    "# # samples\n",
    "# sample_totals = pstk.posterior_predictions(post_grid_pstock.copy())\n",
    "# s_iqp = pstk.posterior_predictions(post_grid_iqp.copy())\n",
    "\n",
    "# caption = 'Graviers'\n",
    "\n",
    "# test_grid_quants = pstk.makeqdf(test_x.pcs_m.values, sample_totals, caption=caption)\n",
    "# glue('q-gravier-b', test_grid_quants, display=False)\n",
    "# title = 'Plastock 2022, Le Léman\\nDistribution des Prédictions: Graviers, grid approximation, prior = IQAASL'\n",
    "\n",
    "# pstk.plot_histogram(sample_totals, test_x.pcs_m.values, title=title, reference='graviers-gapprox', display=False)"
   ]
  },
  {
   "cell_type": "code",
   "execution_count": 26,
   "id": "b8131d77-c4a6-4ce8-ac76-ced010d9be6e",
   "metadata": {
    "editable": true,
    "slideshow": {
     "slide_type": ""
    },
    "tags": [
     "remove-input"
    ]
   },
   "outputs": [],
   "source": [
    "# col = 'situation'\n",
    "# pcs_col = 'pcs/m²'\n",
    "# grid_range = grid_val_index\n",
    "# bins = [2]\n",
    "\n",
    "# test_xi = f_combi[(f_combi['situation'] == 2) & (f_combi['distance'] == 1)].copy()\n",
    "# test_x = test_xi.groupby(cols, as_index=False)[pcs_col].sum()\n",
    "\n",
    "\n",
    "# grid_pstock = pstk.calculate_likelihood(aggregated_data=test_x, bin_density_column=col, pcs_column=pcs_col, grid_range=grid_range, bins=bins)\n",
    "\n",
    "# # posterior uninformed\n",
    "# post_grid_pstock = pstk.define_posterior(grid_pstock, beta_prior, grid_val_index=grid_range)\n",
    "\n",
    "# # samples\n",
    "# sample_totals = pstk.posterior_predictions(post_grid_pstock.copy())\n",
    "\n",
    "# caption = 'Ville et distance <= 500 m'\n",
    "\n",
    "# test_grid_quants = pstk.makeqdf(test_x[pcs_col].values, sample_totals, caption=caption)\n",
    "# glue('q-ville-d1-sa', test_grid_quants, display=False)\n",
    "# title = 'Plastock 2022, Le Léman\\nDistribution des Prédictions: Ville et distance <= 500 m, grid approximation, '\n",
    "\n",
    "# pstk.plot_histogram(sample_totals, test_x[pcs_col].values, title=title, reference='v-d1-sa', display=False)"
   ]
  },
  {
   "cell_type": "code",
   "execution_count": 27,
   "id": "9b86cb90-8233-4809-b8c6-7a7537348025",
   "metadata": {
    "editable": true,
    "slideshow": {
     "slide_type": ""
    },
    "tags": [
     "remove-input"
    ]
   },
   "outputs": [],
   "source": [
    "# fig, ax = plt.subplots()\n",
    "# sns.scatterplot(data=post_grid_pstock1, x=\"X\", y=\"Bin_1\", c='black', alpha=0.4, label=\"all\")\n",
    "# sns.scatterplot(data=post_grid_pstock2, x=\"X\", y=\"Bin_1\", alpha=0.4, c='magenta', label='model')\n",
    "# sns.scatterplot(data=post_grid_pstock3, x=\"X\", y=\"Bin_1\", alpha=0.4, c='dodgerblue', label='model')"
   ]
  },
  {
   "cell_type": "code",
   "execution_count": 28,
   "id": "4bc1894a-2467-4b6c-8f68-6da9fa3e6f5a",
   "metadata": {},
   "outputs": [
    {
     "ename": "SyntaxError",
     "evalue": "'break' outside loop (668683560.py, line 1)",
     "output_type": "error",
     "traceback": [
      "\u001b[0;36m  Cell \u001b[0;32mIn[28], line 1\u001b[0;36m\u001b[0m\n\u001b[0;31m    break\u001b[0m\n\u001b[0m    ^\u001b[0m\n\u001b[0;31mSyntaxError\u001b[0m\u001b[0;31m:\u001b[0m 'break' outside loop\n"
     ]
    }
   ],
   "source": [
    "break"
   ]
  },
  {
   "cell_type": "markdown",
   "id": "63d3862e-f440-4768-98dd-864407e37721",
   "metadata": {
    "editable": true,
    "slideshow": {
     "slide_type": ""
    },
    "tags": []
   },
   "source": [
    "### Analyse factorielle de données mixtes\n",
    "\n",
    "L'ACP n'est pas recommandée si l'on utilise des types de données mixtes. Nous suivrons ici la méthode recommandée. Nous poursuivrons ensuite avec une ACP traditionnelle. Dans ce cas particulier, l'augmentation de la dimensionnalité causée par les variables nominales peut ne pas être un problème.\n",
    "\n",
    "_\"L’introduction simultanée de variables quantitatives et qualitatives (donnéesdites mixtes) en tant qu’éléments actifs d’une même analyse factorielle est une problématique fréquente. La méthodologie usuelle consiste à transformer les variables quantitatives en qualitatives en découpant en classes leur intervalle de variation et à soumettre le tableau homogène ainsi obtenu à une analyse des correspondances multiples (ACM)\"._ (_citation: Revue de statistique appliquée, tome 52, no 4 (2004), p. 93-111_)\n",
    "\n",
    "Cette section est rédigée en R. Les données sont les mêmes que celles utilisées dans les sections précédentes."
   ]
  },
  {
   "cell_type": "markdown",
   "id": "8893e5ac-6122-47d6-8c1a-287345701c90",
   "metadata": {
    "editable": true,
    "slideshow": {
     "slide_type": ""
    },
    "tags": []
   },
   "source": [
    "### AFDM 5 dimensions\n",
    "\n",
    "#### Valeurs Eigen et pourcentage cumulé de la variance"
   ]
  },
  {
   "cell_type": "code",
   "execution_count": null,
   "id": "3083e1be-5b2b-4a61-9a47-5012a41efcf5",
   "metadata": {
    "editable": true,
    "slideshow": {
     "slide_type": ""
    },
    "tags": [
     "hide-input"
    ]
   },
   "outputs": [],
   "source": [
    "%%R\n",
    "library(FactoMineR)\n",
    "library(factoextra)\n",
    "library(utils)\n",
    "\n",
    "data <- read.csv('data/end_pipe/long_form_combined_formes.csv')\n",
    "factored <- FAMD(data, graph=FALSE)\n",
    "eig_val <- get_eigenvalue(factored)\n",
    "print(eig_val)"
   ]
  },
  {
   "cell_type": "markdown",
   "id": "7b3fea8a-999b-492c-8d22-0461521c3923",
   "metadata": {
    "editable": true,
    "slideshow": {
     "slide_type": ""
    },
    "tags": []
   },
   "source": [
    "#### Contribution des variables à chaque dimension"
   ]
  },
  {
   "cell_type": "code",
   "execution_count": null,
   "id": "6de11b85-437f-4d9f-9110-bc5ff8ee11a2",
   "metadata": {
    "editable": true,
    "jupyter": {
     "source_hidden": true
    },
    "slideshow": {
     "slide_type": ""
    },
    "tags": [
     "hide-input"
    ]
   },
   "outputs": [],
   "source": [
    "%%R\n",
    "library(FactoMineR)\n",
    "library(factoextra)\n",
    "library(utils)\n",
    "library(ggpubr)\n",
    "\n",
    "data <- read.csv('data/end_pipe/long_form_combined_formes.csv')\n",
    "factored <- FAMD(data, graph=FALSE)\n",
    "eig_val <- get_eigenvalue(factored)\n",
    "\n",
    "var <- get_famd_var(factored)\n",
    "var$contrib"
   ]
  },
  {
   "cell_type": "markdown",
   "id": "8573e63b-fe00-4629-b784-873651c592dc",
   "metadata": {
    "editable": true,
    "slideshow": {
     "slide_type": ""
    },
    "tags": []
   },
   "source": [
    "#### Les individus ayant des profils similaires sont proches les uns des autres sur la carte des facteurs."
   ]
  },
  {
   "cell_type": "code",
   "execution_count": null,
   "id": "4805e1d3-5011-46af-9dc6-07b57bd6599a",
   "metadata": {
    "editable": true,
    "jupyter": {
     "source_hidden": true
    },
    "slideshow": {
     "slide_type": ""
    },
    "tags": [
     "hide-input"
    ]
   },
   "outputs": [],
   "source": [
    "%%R\n",
    "library(FactoMineR)\n",
    "library(factoextra)\n",
    "library(utils)\n",
    "library(ggpubr)\n",
    "\n",
    "data <- read.csv('data/end_pipe/long_form_combined_formes.csv')\n",
    "factored <- FAMD(data, ncp = 5, graph=FALSE)\n",
    "\n",
    "quali.var <- get_famd_var(factored, \"quali.var\")\n",
    "fviz_famd_var(factored, \"quali.var\", col.var = \"contrib\", \n",
    "             gradient.cols = c(\"#00AFBB\", \"#E7B800\", \"#FC4E07\", \"#1B3E07\"),\n",
    "             title=\"Contribution des variables: Dim1/Dim2\"\n",
    "             )"
   ]
  },
  {
   "cell_type": "markdown",
   "id": "17ef7c1d-a781-4159-ba53-54708ffdec70",
   "metadata": {
    "editable": true,
    "slideshow": {
     "slide_type": ""
    },
    "tags": []
   },
   "source": [
    "### AFDM 2 dimensions"
   ]
  },
  {
   "cell_type": "markdown",
   "id": "ecc6354f-d9cb-41b7-9c7d-c8fd8d33c1bd",
   "metadata": {
    "editable": true,
    "slideshow": {
     "slide_type": ""
    },
    "tags": []
   },
   "source": [
    "#### Valeurs Eigen et pourcentage cumulé de la variance"
   ]
  },
  {
   "cell_type": "code",
   "execution_count": null,
   "id": "10379662-0ad1-48bb-8e77-a01ea1e0ae64",
   "metadata": {
    "editable": true,
    "jupyter": {
     "source_hidden": true
    },
    "slideshow": {
     "slide_type": ""
    },
    "tags": [
     "hide-input"
    ]
   },
   "outputs": [],
   "source": [
    "%%R\n",
    "library(FactoMineR)\n",
    "library(factoextra)\n",
    "library(utils)\n",
    "library(ggpubr)\n",
    "\n",
    "data <- read.csv('data/end_pipe/long_form_combined_formes.csv')\n",
    "factored <- FAMD(data, ncp = 2, graph=FALSE)\n",
    "\n",
    "eig_val <- get_eigenvalue(factored)\n",
    "\n",
    "print(eig_val)"
   ]
  },
  {
   "cell_type": "markdown",
   "id": "ffb13067-1b65-4d36-b43c-5e131f69696f",
   "metadata": {
    "editable": true,
    "slideshow": {
     "slide_type": ""
    },
    "tags": []
   },
   "source": [
    "#### Contribution des variables à chaque dimension"
   ]
  },
  {
   "cell_type": "code",
   "execution_count": null,
   "id": "eaadece5-08af-40cb-9a6a-4dfc0fdb8ec7",
   "metadata": {
    "editable": true,
    "jupyter": {
     "source_hidden": true
    },
    "slideshow": {
     "slide_type": ""
    },
    "tags": [
     "hide-input"
    ]
   },
   "outputs": [],
   "source": [
    "%%R\n",
    "library(FactoMineR)\n",
    "library(factoextra)\n",
    "library(utils)\n",
    "library(ggpubr)\n",
    "\n",
    "data <- read.csv('data/end_pipe/long_form_combined_formes.csv')\n",
    "factored <- FAMD(data, ncp = 2, graph=FALSE)\n",
    "\n",
    "var <- get_famd_var(factored)\n",
    "var$contrib"
   ]
  },
  {
   "cell_type": "markdown",
   "id": "62517d56-6663-4e95-bc44-929d7ad5fba4",
   "metadata": {
    "editable": true,
    "slideshow": {
     "slide_type": ""
    },
    "tags": []
   },
   "source": [
    "#### Les individus ayant des profils similaires sont proches les uns des autres sur la carte des facteurs."
   ]
  },
  {
   "cell_type": "code",
   "execution_count": null,
   "id": "ff8bc90c-3cd1-4102-8ebc-c9bd40448374",
   "metadata": {
    "editable": true,
    "jupyter": {
     "source_hidden": true
    },
    "slideshow": {
     "slide_type": ""
    },
    "tags": [
     "hide-input"
    ]
   },
   "outputs": [],
   "source": [
    "%%R\n",
    "library(FactoMineR)\n",
    "library(factoextra)\n",
    "library(utils)\n",
    "library(ggpubr)\n",
    "\n",
    "data <- read.csv('data/end_pipe/long_form_combined_formes.csv')\n",
    "factored <- FAMD(data, ncp = 2, graph=FALSE)\n",
    "\n",
    "quali.var <- get_famd_var(factored, \"quali.var\")\n",
    "fviz_famd_var(factored, \"quali.var\", col.var = \"contrib\", \n",
    "             gradient.cols = c(\"#00AFBB\", \"#E7B800\", \"#FC4E07\", \"#1B3E07\"),\n",
    "             title=\"Contribution des variables: Dim1/Dim2\",\n",
    "             )"
   ]
  },
  {
   "cell_type": "code",
   "execution_count": null,
   "id": "949a8142-58fc-4d7e-8f50-ed6e1f3f51e4",
   "metadata": {
    "editable": true,
    "jupyter": {
     "source_hidden": true
    },
    "slideshow": {
     "slide_type": ""
    },
    "tags": [
     "hide-input"
    ]
   },
   "outputs": [],
   "source": [
    "%%R\n",
    "library(FactoMineR)\n",
    "library(factoextra)\n",
    "library(utils)\n",
    "library(ggpubr)\n",
    "\n",
    "data <- read.csv('data/end_pipe/long_form_combined_formes.csv')\n",
    "factored <- FAMD(data, ncp = 2, graph=FALSE)\n",
    "\n",
    "substrat <- fviz_mfa_ind(factored, \n",
    "             habillage = \"substrat\", # color by groups \n",
    "             palette = c(\"#00AFBB\", \"#E7B800\", \"#FC4E07\", \"#1B3E07\"),\n",
    "             addEllipses = TRUE, ellipse.type = \"confidence\", \n",
    "             repel = TRUE,\n",
    "             title = \"Substrat\"\n",
    "            \n",
    "             )\n",
    "\n",
    "substrat"
   ]
  },
  {
   "cell_type": "code",
   "execution_count": null,
   "id": "194db6f2-543c-445e-9ef3-e35058146399",
   "metadata": {
    "editable": true,
    "jupyter": {
     "source_hidden": true
    },
    "slideshow": {
     "slide_type": ""
    },
    "tags": [
     "hide-input"
    ]
   },
   "outputs": [],
   "source": [
    "%%R\n",
    "library(FactoMineR)\n",
    "library(factoextra)\n",
    "library(utils)\n",
    "library(ggpubr)\n",
    "\n",
    "data <- read.csv('data/end_pipe/long_form_combined_formes.csv')\n",
    "factored <- FAMD(data, ncp = 2, graph=FALSE)\n",
    "\n",
    "freq <- fviz_mfa_ind(factored, \n",
    "             habillage = \"frequentation\", # color by groups \n",
    "             palette = c(\"#00AFBB\", \"#E7B800\", \"#FC4E07\", \"#1B3E07\"),\n",
    "             addEllipses = TRUE, ellipse.type = \"confidence\", \n",
    "             repel = TRUE,\n",
    "             title=\"Frequentation\"\n",
    "             \n",
    "             )\n",
    "\n",
    "\n",
    "freq"
   ]
  },
  {
   "cell_type": "code",
   "execution_count": null,
   "id": "403e8544-d4b6-477c-b265-2a0e80bb3ed0",
   "metadata": {
    "editable": true,
    "jupyter": {
     "source_hidden": true
    },
    "slideshow": {
     "slide_type": ""
    },
    "tags": [
     "hide-input"
    ]
   },
   "outputs": [],
   "source": [
    "%%R\n",
    "library(FactoMineR)\n",
    "library(factoextra)\n",
    "library(utils)\n",
    "library(ggpubr)\n",
    "\n",
    "data <- read.csv('data/end_pipe/long_form_combined_formes.csv')\n",
    "factored <- FAMD(data, ncp = 2, graph=FALSE)\n",
    "\n",
    "situation <- fviz_mfa_ind(factored, \n",
    "             habillage = \"situation\", # color by groups \n",
    "             palette = c(\"#00AFBB\", \"#E7B800\", \"#FC4E07\", \"#1B3E07\"),\n",
    "             addEllipses = TRUE, ellipse.type = \"confidence\", \n",
    "             repel = TRUE,\n",
    "             title = \"Situation\"\n",
    "             \n",
    "             ) \n",
    "\n",
    "\n",
    "\n",
    "situation"
   ]
  },
  {
   "cell_type": "code",
   "execution_count": null,
   "id": "acde1816-ef0f-47af-bdef-25f9d881348d",
   "metadata": {
    "editable": true,
    "jupyter": {
     "source_hidden": true
    },
    "scrolled": true,
    "slideshow": {
     "slide_type": ""
    },
    "tags": [
     "hide-input"
    ]
   },
   "outputs": [],
   "source": [
    "%%R\n",
    "library(FactoMineR)\n",
    "library(factoextra)\n",
    "library(utils)\n",
    "library(ggpubr)\n",
    "\n",
    "data <- read.csv('data/end_pipe/long_form_combined_formes.csv')\n",
    "factored <- FAMD(data, ncp = 2, graph=FALSE)\n",
    "\n",
    "distance <- fviz_mfa_ind(factored, \n",
    "             habillage = \"distance\", # color by groups \n",
    "             palette = c(\"#00AFBB\", \"#E7B800\", \"#FC4E07\", \"#1B3E07\"),\n",
    "             addEllipses = TRUE, ellipse.type = \"confidence\", \n",
    "             repel = TRUE,\n",
    "             title = \"Distance\"\n",
    "            \n",
    "                \n",
    "             )\n",
    "\n",
    "\n",
    "distance"
   ]
  }
 ],
 "metadata": {
  "kernelspec": {
   "display_name": "Python 3 (ipykernel)",
   "language": "python",
   "name": "python3"
  },
  "language_info": {
   "codemirror_mode": {
    "name": "ipython",
    "version": 3
   },
   "file_extension": ".py",
   "mimetype": "text/x-python",
   "name": "python",
   "nbconvert_exporter": "python",
   "pygments_lexer": "ipython3",
   "version": "3.9.18"
  }
 },
 "nbformat": 4,
 "nbformat_minor": 5
}
