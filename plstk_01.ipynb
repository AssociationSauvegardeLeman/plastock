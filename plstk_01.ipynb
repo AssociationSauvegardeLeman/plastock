{
 "cells": [
  {
   "cell_type": "code",
   "execution_count": 1,
   "id": "32bcdb7d-96d5-47f5-a77a-139bafcc6a7d",
   "metadata": {
    "tags": [
     "hide-input"
    ]
   },
   "outputs": [],
   "source": [
    "import numpy as np\n",
    "import pandas as pd\n",
    "import datetime as dt\n",
    "import matplotlib.pyplot as plt\n",
    "import matplotlib as mpl\n",
    "import seaborn as sns\n",
    "from scipy.stats import tukey_hsd\n",
    "\n",
    "from statsmodels.formula.api import ols\n",
    "from statsmodels.graphics.api import interaction_plot, abline_plot\n",
    "from statsmodels.stats.anova import anova_lm\n",
    "\n",
    "import json\n",
    "\n",
    "rng = np.random.default_rng(42)\n",
    "sns.set_style(\"whitegrid\")\n",
    "\n",
    "header_row = {'selector': 'th:nth-child(1)', 'props': f'background-color: #FFF;'}\n",
    "even_rows = {\"selector\": 'tr:nth-child(even)', 'props': f'background-color: rgba(139, 69, 19, 0.08);'}\n",
    "odd_rows = {'selector': 'tr:nth-child(odd)', 'props': 'background: #FFF;'}\n",
    "table_font = {'selector': 'tr', 'props': 'font-size: 12px;'}\n",
    "table_css_styles = [even_rows, odd_rows, table_font, header_row]"
   ]
  },
  {
   "cell_type": "markdown",
   "id": "64f4b56e-a28f-451b-848e-9a16e4646c59",
   "metadata": {},
   "source": [
    "## Plastock micro\n",
    "\n",
    "_doc version: 2, doc type: proposal, doc title: plastock micro: Roger Erismann, roger@hammerdirt.ch_\n",
    "\n",
    "Ce document est destiné à tester la mise en œuvre de méthodes statistiques sur des données de comptage. Les données sont nettoyées dans une étape préalable. Le problème se résout autour des quantités relatives de 18 types de particules différentes (3 catégories de matériaux et 6 catégories de couleurs par matériau). Il y a des échantillons provenant de 25 plages différentes du Lac Léman.\n",
    "\n",
    "__Nous comptons trois catégories de particules:__\n",
    "\n",
    "1. fibres\n",
    "2. fragments durs\n",
    "3. fragments souples"
   ]
  },
  {
   "cell_type": "code",
   "execution_count": 2,
   "id": "89ba17b4-2a47-47fa-a2cd-d277b2b2f67a",
   "metadata": {},
   "outputs": [],
   "source": [
    "c = pd.read_csv(\"data/end_pipe/micro_results.csv\")\n",
    "# column groups by material type\n",
    "fibres = ['fbr', 'fbb', 'fbj', 'fbt', 'fbn', 'fba']\n",
    "fdure = ['frr', 'frb', 'frj', 'frt', 'frn', 'fra']\n",
    "souple = ['fsr', 'fsb', 'fsj', 'fst', 'fsn', 'fsa']\n",
    "fragments = [*fdure, *souple]\n",
    "\n",
    "name_the_zones = {1:\"ligne-d'eau\", 2:\"plage-seche\"}\n",
    "\n",
    "name_the_particles = {\n",
    "    \"fbr\":\"fibre rouge\",\n",
    "    \"fbb\":\"fibre bleu\",\n",
    "    \"fbj\":\"fibre jaune\",\n",
    "    \"fbt\":\"fibre transparent\",\n",
    "    \"fbn\":\"fibre noire\",\n",
    "    \"fba\":\"fibre autre\",\n",
    "    \"frr\":\"fragment rigide rouge\",\n",
    "    \"frb\":\"fragment rigide bleu\",\n",
    "    \"frj\":\"fragment rigide jaune\",\n",
    "    \"frt\":\"fragment rigide transparent\",\n",
    "    \"frn\":\"fragment rigide noire\",\n",
    "    \"fra\":\"fragment rigide autre\",\n",
    "    \"fsr\":\"fragment souple rouge\",\n",
    "    \"fsb\":\"fragment souple bleu\",\n",
    "    \"fsj\":\"fragment souple jaune\",\n",
    "    \"fst\":\"fragment souple transparent\",\n",
    "    \"fsn\":\"fragment souple noire\",\n",
    "    \"fsa\":\"fragment souple autre\",\n",
    "}\n",
    "\n",
    "frequentation_name = {\n",
    "    1:\"faible\",\n",
    "    2:\"moyenne\",\n",
    "    3:\"élévée\"\n",
    "}\n",
    "\n",
    "situation_name = {\n",
    "    1: \"campagne\",\n",
    "    2: \"urbain\"\n",
    "}\n",
    "\n",
    "particle_groups = {\n",
    "    \"fibres\":\"fibre\",\n",
    "    \"fdure\":\"fragment rigide\",\n",
    "    \"souple\":\"fragment souple\"\n",
    "}\n",
    "\n",
    "name_the_substrate = {\n",
    "    1:\"sable fin\",\n",
    "    2:\"sable grosssier\",\n",
    "    3:\"gravier\",\n",
    "    4:\"galet\"\n",
    "}\n",
    "\n",
    "substrate = {\n",
    "    1:\"wheat\",\n",
    "    2:\"burlywood\",\n",
    "    3:\"lightslategrey\",\n",
    "    4:\"darkslategrey\"\n",
    "}\n",
    "\n",
    "# the sum of all particles for one sample\n",
    "c[\"added\"] = c[[*fragments, *fibres]].sum(axis=1)\n",
    "# the sum of the different groups\n",
    "c[\"fibres\"] = c[fibres].sum(axis=1)\n",
    "c[\"fdure\"] = c[fdure].sum(axis=1)\n",
    "c[\"souple\"] = c[souple].sum(axis=1)\n",
    "c[\"fragments\"] = c[fragments].sum(axis=1)\n",
    "c.rename(columns={\"Echantillon\":\"echantillon\"}, inplace=True)\n",
    "# the emplacement on the beach\n",
    "\n",
    "cAdded = c[['Plage', 'echantillon', 'orientation', 'position', 'substrat','frequentation', 'situation', 'distance', \"fibres\", \"fdure\", \"souple\", \"fragments\"]].copy()\n",
    "\n",
    "# work columns\n",
    "id_vars = ['Plage', 'echantillon', 'orientation', 'position', 'substrat', 'frequentation', 'situation', 'distance']\n",
    "value_vars = [\"fibres\", \"fdure\", \"souple\"]\n",
    "\n",
    "\n",
    "# make workdata to long form\n",
    "work_data = pd.melt(cAdded, id_vars=id_vars, value_vars=value_vars)\n",
    "work_data.rename(columns={\"variable\":\"particle\", \"value\":\"compte\"}, inplace=True)\n",
    "work_data[\"compte\"] = work_data.compte.astype(\"int\")\n",
    "\n",
    "# colors and styles\n",
    "zone_palette = {\"plage-seche\":\"darkgoldenrod\",\"ligne-d'eau\":\"lightseagreen\"}\n",
    "region_palette = {\"GE\":\"darkgoldenrod\",\"VD\":\"lightseagreen\"}"
   ]
  },
  {
   "cell_type": "code",
   "execution_count": 3,
   "id": "8ae97601-cee3-4d2d-ba7a-e152059fdca0",
   "metadata": {},
   "outputs": [
    {
     "name": "stdout",
     "output_type": "stream",
     "text": [
      "25 217 39089\n"
     ]
    }
   ],
   "source": [
    "# les plages\n",
    "locations = c.Plage.unique()\n",
    "nlocations = len(locations)\n",
    "samples = c.echantillon.unique()\n",
    "nsamples = len(samples)\n",
    "tquantity = work_data.compte.sum()\n",
    "\n",
    "print(nlocations, nsamples, tquantity)"
   ]
  },
  {
   "cell_type": "code",
   "execution_count": 4,
   "id": "e1e949d2-c7b7-4ff4-b136-9faeccde4b69",
   "metadata": {},
   "outputs": [
    {
     "data": {
      "text/html": [
       "<div>\n",
       "<style scoped>\n",
       "    .dataframe tbody tr th:only-of-type {\n",
       "        vertical-align: middle;\n",
       "    }\n",
       "\n",
       "    .dataframe tbody tr th {\n",
       "        vertical-align: top;\n",
       "    }\n",
       "\n",
       "    .dataframe thead th {\n",
       "        text-align: right;\n",
       "    }\n",
       "</style>\n",
       "<table border=\"1\" class=\"dataframe\">\n",
       "  <thead>\n",
       "    <tr style=\"text-align: right;\">\n",
       "      <th></th>\n",
       "      <th>Plage</th>\n",
       "      <th>echantillon</th>\n",
       "      <th>orientation</th>\n",
       "      <th>position</th>\n",
       "      <th>substrat</th>\n",
       "      <th>frequentation</th>\n",
       "      <th>situation</th>\n",
       "      <th>distance</th>\n",
       "      <th>particle</th>\n",
       "      <th>compte</th>\n",
       "    </tr>\n",
       "  </thead>\n",
       "  <tbody>\n",
       "    <tr>\n",
       "      <th>0</th>\n",
       "      <td>Amphion</td>\n",
       "      <td>74_Amp_1</td>\n",
       "      <td>NE</td>\n",
       "      <td>1</td>\n",
       "      <td>4</td>\n",
       "      <td>3.0</td>\n",
       "      <td>1.0</td>\n",
       "      <td>1.0</td>\n",
       "      <td>fibres</td>\n",
       "      <td>97</td>\n",
       "    </tr>\n",
       "    <tr>\n",
       "      <th>1</th>\n",
       "      <td>Amphion</td>\n",
       "      <td>74_Amp_10</td>\n",
       "      <td>NNE</td>\n",
       "      <td>2</td>\n",
       "      <td>4</td>\n",
       "      <td>3.0</td>\n",
       "      <td>1.0</td>\n",
       "      <td>1.0</td>\n",
       "      <td>fibres</td>\n",
       "      <td>140</td>\n",
       "    </tr>\n",
       "    <tr>\n",
       "      <th>2</th>\n",
       "      <td>Amphion</td>\n",
       "      <td>74_Amp_2</td>\n",
       "      <td>NNE</td>\n",
       "      <td>1</td>\n",
       "      <td>4</td>\n",
       "      <td>3.0</td>\n",
       "      <td>1.0</td>\n",
       "      <td>1.0</td>\n",
       "      <td>fibres</td>\n",
       "      <td>121</td>\n",
       "    </tr>\n",
       "    <tr>\n",
       "      <th>3</th>\n",
       "      <td>Amphion</td>\n",
       "      <td>74_Amp_3</td>\n",
       "      <td>NE</td>\n",
       "      <td>1</td>\n",
       "      <td>4</td>\n",
       "      <td>3.0</td>\n",
       "      <td>1.0</td>\n",
       "      <td>1.0</td>\n",
       "      <td>fibres</td>\n",
       "      <td>31</td>\n",
       "    </tr>\n",
       "    <tr>\n",
       "      <th>4</th>\n",
       "      <td>Amphion</td>\n",
       "      <td>74_Amp_4</td>\n",
       "      <td>NNE</td>\n",
       "      <td>1</td>\n",
       "      <td>4</td>\n",
       "      <td>3.0</td>\n",
       "      <td>1.0</td>\n",
       "      <td>1.0</td>\n",
       "      <td>fibres</td>\n",
       "      <td>179</td>\n",
       "    </tr>\n",
       "  </tbody>\n",
       "</table>\n",
       "</div>"
      ],
      "text/plain": [
       "     Plage echantillon orientation  position  substrat  frequentation   \n",
       "0  Amphion    74_Amp_1          NE         1         4            3.0  \\\n",
       "1  Amphion   74_Amp_10         NNE         2         4            3.0   \n",
       "2  Amphion    74_Amp_2         NNE         1         4            3.0   \n",
       "3  Amphion    74_Amp_3          NE         1         4            3.0   \n",
       "4  Amphion    74_Amp_4         NNE         1         4            3.0   \n",
       "\n",
       "   situation  distance particle  compte  \n",
       "0        1.0       1.0   fibres      97  \n",
       "1        1.0       1.0   fibres     140  \n",
       "2        1.0       1.0   fibres     121  \n",
       "3        1.0       1.0   fibres      31  \n",
       "4        1.0       1.0   fibres     179  "
      ]
     },
     "execution_count": 4,
     "metadata": {},
     "output_type": "execute_result"
    }
   ],
   "source": [
    "work_data.head()"
   ]
  },
  {
   "cell_type": "code",
   "execution_count": 14,
   "id": "4f57fc90-1c9c-4e12-beac-9d970bf61681",
   "metadata": {},
   "outputs": [
    {
     "data": {
      "text/html": [
       "<style type=\"text/css\">\n",
       "#T_0a42d tr:nth-child(even) {\n",
       "  background-color: rgba(139, 69, 19, 0.08);\n",
       "}\n",
       "#T_0a42d tr:nth-child(odd) {\n",
       "  background: #FFF;\n",
       "}\n",
       "#T_0a42d tr {\n",
       "  font-size: 12px;\n",
       "}\n",
       "#T_0a42d th:nth-child(1) {\n",
       "  background-color: #FFF;\n",
       "}\n",
       "</style>\n",
       "<table id=\"T_0a42d\">\n",
       "  <thead>\n",
       "    <tr>\n",
       "      <th class=\"blank level0\" >&nbsp;</th>\n",
       "      <th id=\"T_0a42d_level0_col0\" class=\"col_heading level0 col0\" >compte</th>\n",
       "      <th id=\"T_0a42d_level0_col1\" class=\"col_heading level0 col1\" >echantillon</th>\n",
       "      <th id=\"T_0a42d_level0_col2\" class=\"col_heading level0 col2\" >poids compte</th>\n",
       "      <th id=\"T_0a42d_level0_col3\" class=\"col_heading level0 col3\" >poids echantillon</th>\n",
       "    </tr>\n",
       "  </thead>\n",
       "  <tbody>\n",
       "    <tr>\n",
       "      <th id=\"T_0a42d_level0_row0\" class=\"row_heading level0 row0\" >ligne-d'eau</th>\n",
       "      <td id=\"T_0a42d_row0_col0\" class=\"data row0 col0\" >12969</td>\n",
       "      <td id=\"T_0a42d_row0_col1\" class=\"data row0 col1\" >111</td>\n",
       "      <td id=\"T_0a42d_row0_col2\" class=\"data row0 col2\" >0.33</td>\n",
       "      <td id=\"T_0a42d_row0_col3\" class=\"data row0 col3\" >0.51</td>\n",
       "    </tr>\n",
       "    <tr>\n",
       "      <th id=\"T_0a42d_level0_row1\" class=\"row_heading level0 row1\" >plage-seche</th>\n",
       "      <td id=\"T_0a42d_row1_col0\" class=\"data row1 col0\" >26120</td>\n",
       "      <td id=\"T_0a42d_row1_col1\" class=\"data row1 col1\" >106</td>\n",
       "      <td id=\"T_0a42d_row1_col2\" class=\"data row1 col2\" >0.67</td>\n",
       "      <td id=\"T_0a42d_row1_col3\" class=\"data row1 col3\" >0.49</td>\n",
       "    </tr>\n",
       "  </tbody>\n",
       "</table>\n"
      ],
      "text/plain": [
       "<pandas.io.formats.style.Styler at 0x7f966e874130>"
      ]
     },
     "execution_count": 14,
     "metadata": {},
     "output_type": "execute_result"
    }
   ],
   "source": [
    "agg_ = {\"compte\":\"sum\", \"echantillon\":\"nunique\"}\n",
    "\n",
    "\n",
    "def add_weight_of_samples(data, samps: int=nsamples, tquantity: int=tquantity):\n",
    "    \n",
    "    data[\"poids compte\"] = data.compte/tquantity\n",
    "    data[\"poids echantillon\"] = data.echantillon/nsamples\n",
    "    \n",
    "    return data\n",
    "\n",
    "def add_labels_display(data, column_name, labels):\n",
    "    data[column_name] = data[column_name].apply(lambda x: labels[x])\n",
    "    data.set_index(column_name, drop=True, inplace=True)\n",
    "    data.index.name = None\n",
    "        \n",
    "    return data.style.format(precision=2).set_table_styles(table_css_styles)\n",
    "\n",
    "position_total = work_data.groupby(\"position\", as_index=False).agg(agg_)\n",
    "substrat_total = work_data.groupby(\"substrat\", as_index=False).agg(agg_)\n",
    "frequentation_total = work_data.groupby(\"frequentation\", as_index=False).agg(agg_)\n",
    "situation_total = work_data.groupby(\"situation\", as_index=False).agg(agg_)\n",
    "orient_total = work_data.groupby(\"orientation\", as_index=False).agg(agg_)\n",
    "particle_type_total = work_data.groupby(\"particle\", as_index=False).agg(agg_)\n",
    "pos_total = add_weight_of_samples(position_total)\n",
    "\n",
    "pos_total = add_labels_display(pos_total, \"position\", name_the_zones)\n",
    "# pos_total[\"position\"] = pos_total.position.apply(lambda x: name_the_zones[x])\n",
    "# pos_total.set_index(\"position\", drop=True, inplace=True)\n",
    "# pos_total.index.name = None\n",
    "# pos_total.style.format(precision=2).set_table_styles(table_css_styles)\n",
    "pos_total"
   ]
  },
  {
   "cell_type": "code",
   "execution_count": 15,
   "id": "8d670e42-4c19-4abf-8100-1447a2319e3b",
   "metadata": {},
   "outputs": [
    {
     "data": {
      "text/html": [
       "<style type=\"text/css\">\n",
       "#T_f226d tr:nth-child(even) {\n",
       "  background-color: rgba(139, 69, 19, 0.08);\n",
       "}\n",
       "#T_f226d tr:nth-child(odd) {\n",
       "  background: #FFF;\n",
       "}\n",
       "#T_f226d tr {\n",
       "  font-size: 12px;\n",
       "}\n",
       "#T_f226d th:nth-child(1) {\n",
       "  background-color: #FFF;\n",
       "}\n",
       "</style>\n",
       "<table id=\"T_f226d\">\n",
       "  <thead>\n",
       "    <tr>\n",
       "      <th class=\"blank level0\" >&nbsp;</th>\n",
       "      <th id=\"T_f226d_level0_col0\" class=\"col_heading level0 col0\" >compte</th>\n",
       "      <th id=\"T_f226d_level0_col1\" class=\"col_heading level0 col1\" >echantillon</th>\n",
       "      <th id=\"T_f226d_level0_col2\" class=\"col_heading level0 col2\" >poids compte</th>\n",
       "      <th id=\"T_f226d_level0_col3\" class=\"col_heading level0 col3\" >poids echantillon</th>\n",
       "    </tr>\n",
       "  </thead>\n",
       "  <tbody>\n",
       "    <tr>\n",
       "      <th id=\"T_f226d_level0_row0\" class=\"row_heading level0 row0\" >sable fin</th>\n",
       "      <td id=\"T_f226d_row0_col0\" class=\"data row0 col0\" >19345</td>\n",
       "      <td id=\"T_f226d_row0_col1\" class=\"data row0 col1\" >114</td>\n",
       "      <td id=\"T_f226d_row0_col2\" class=\"data row0 col2\" >0.49</td>\n",
       "      <td id=\"T_f226d_row0_col3\" class=\"data row0 col3\" >0.53</td>\n",
       "    </tr>\n",
       "    <tr>\n",
       "      <th id=\"T_f226d_level0_row1\" class=\"row_heading level0 row1\" >sable grosssier</th>\n",
       "      <td id=\"T_f226d_row1_col0\" class=\"data row1 col0\" >4253</td>\n",
       "      <td id=\"T_f226d_row1_col1\" class=\"data row1 col1\" >28</td>\n",
       "      <td id=\"T_f226d_row1_col2\" class=\"data row1 col2\" >0.11</td>\n",
       "      <td id=\"T_f226d_row1_col3\" class=\"data row1 col3\" >0.13</td>\n",
       "    </tr>\n",
       "    <tr>\n",
       "      <th id=\"T_f226d_level0_row2\" class=\"row_heading level0 row2\" >gravier</th>\n",
       "      <td id=\"T_f226d_row2_col0\" class=\"data row2 col0\" >9732</td>\n",
       "      <td id=\"T_f226d_row2_col1\" class=\"data row2 col1\" >29</td>\n",
       "      <td id=\"T_f226d_row2_col2\" class=\"data row2 col2\" >0.25</td>\n",
       "      <td id=\"T_f226d_row2_col3\" class=\"data row2 col3\" >0.13</td>\n",
       "    </tr>\n",
       "    <tr>\n",
       "      <th id=\"T_f226d_level0_row3\" class=\"row_heading level0 row3\" >galet</th>\n",
       "      <td id=\"T_f226d_row3_col0\" class=\"data row3 col0\" >5759</td>\n",
       "      <td id=\"T_f226d_row3_col1\" class=\"data row3 col1\" >46</td>\n",
       "      <td id=\"T_f226d_row3_col2\" class=\"data row3 col2\" >0.15</td>\n",
       "      <td id=\"T_f226d_row3_col3\" class=\"data row3 col3\" >0.21</td>\n",
       "    </tr>\n",
       "  </tbody>\n",
       "</table>\n"
      ],
      "text/plain": [
       "<pandas.io.formats.style.Styler at 0x7f966e97ebe0>"
      ]
     },
     "execution_count": 15,
     "metadata": {},
     "output_type": "execute_result"
    }
   ],
   "source": [
    "sub_total = add_weight_of_samples(substrat_total)\n",
    "\n",
    "add_labels_display(sub_total, \"substrat\", name_the_substrate)\n",
    "\n"
   ]
  },
  {
   "cell_type": "code",
   "execution_count": 16,
   "id": "598463a3-daf9-4858-8f1c-a4b42af04c38",
   "metadata": {},
   "outputs": [
    {
     "data": {
      "text/html": [
       "<style type=\"text/css\">\n",
       "#T_7e1c0 tr:nth-child(even) {\n",
       "  background-color: rgba(139, 69, 19, 0.08);\n",
       "}\n",
       "#T_7e1c0 tr:nth-child(odd) {\n",
       "  background: #FFF;\n",
       "}\n",
       "#T_7e1c0 tr {\n",
       "  font-size: 12px;\n",
       "}\n",
       "#T_7e1c0 th:nth-child(1) {\n",
       "  background-color: #FFF;\n",
       "}\n",
       "</style>\n",
       "<table id=\"T_7e1c0\">\n",
       "  <thead>\n",
       "    <tr>\n",
       "      <th class=\"blank level0\" >&nbsp;</th>\n",
       "      <th id=\"T_7e1c0_level0_col0\" class=\"col_heading level0 col0\" >compte</th>\n",
       "      <th id=\"T_7e1c0_level0_col1\" class=\"col_heading level0 col1\" >echantillon</th>\n",
       "      <th id=\"T_7e1c0_level0_col2\" class=\"col_heading level0 col2\" >poids compte</th>\n",
       "      <th id=\"T_7e1c0_level0_col3\" class=\"col_heading level0 col3\" >poids echantillon</th>\n",
       "    </tr>\n",
       "  </thead>\n",
       "  <tbody>\n",
       "    <tr>\n",
       "      <th id=\"T_7e1c0_level0_row0\" class=\"row_heading level0 row0\" >faible</th>\n",
       "      <td id=\"T_7e1c0_row0_col0\" class=\"data row0 col0\" >587</td>\n",
       "      <td id=\"T_7e1c0_row0_col1\" class=\"data row0 col1\" >8</td>\n",
       "      <td id=\"T_7e1c0_row0_col2\" class=\"data row0 col2\" >0.02</td>\n",
       "      <td id=\"T_7e1c0_row0_col3\" class=\"data row0 col3\" >0.04</td>\n",
       "    </tr>\n",
       "    <tr>\n",
       "      <th id=\"T_7e1c0_level0_row1\" class=\"row_heading level0 row1\" >moyenne</th>\n",
       "      <td id=\"T_7e1c0_row1_col0\" class=\"data row1 col0\" >9910</td>\n",
       "      <td id=\"T_7e1c0_row1_col1\" class=\"data row1 col1\" >37</td>\n",
       "      <td id=\"T_7e1c0_row1_col2\" class=\"data row1 col2\" >0.25</td>\n",
       "      <td id=\"T_7e1c0_row1_col3\" class=\"data row1 col3\" >0.17</td>\n",
       "    </tr>\n",
       "    <tr>\n",
       "      <th id=\"T_7e1c0_level0_row2\" class=\"row_heading level0 row2\" >élévée</th>\n",
       "      <td id=\"T_7e1c0_row2_col0\" class=\"data row2 col0\" >28592</td>\n",
       "      <td id=\"T_7e1c0_row2_col1\" class=\"data row2 col1\" >172</td>\n",
       "      <td id=\"T_7e1c0_row2_col2\" class=\"data row2 col2\" >0.73</td>\n",
       "      <td id=\"T_7e1c0_row2_col3\" class=\"data row2 col3\" >0.79</td>\n",
       "    </tr>\n",
       "  </tbody>\n",
       "</table>\n"
      ],
      "text/plain": [
       "<pandas.io.formats.style.Styler at 0x7f96fc04f130>"
      ]
     },
     "execution_count": 16,
     "metadata": {},
     "output_type": "execute_result"
    }
   ],
   "source": [
    "freq_total = add_weight_of_samples(frequentation_total)\n",
    "add_labels_display(freq_total, \"frequentation\", frequentation_name)"
   ]
  },
  {
   "cell_type": "code",
   "execution_count": 17,
   "id": "b80a9290-c2ab-428d-9a05-b548ba9af8fa",
   "metadata": {},
   "outputs": [
    {
     "data": {
      "text/html": [
       "<style type=\"text/css\">\n",
       "#T_29348 tr:nth-child(even) {\n",
       "  background-color: rgba(139, 69, 19, 0.08);\n",
       "}\n",
       "#T_29348 tr:nth-child(odd) {\n",
       "  background: #FFF;\n",
       "}\n",
       "#T_29348 tr {\n",
       "  font-size: 12px;\n",
       "}\n",
       "#T_29348 th:nth-child(1) {\n",
       "  background-color: #FFF;\n",
       "}\n",
       "</style>\n",
       "<table id=\"T_29348\">\n",
       "  <thead>\n",
       "    <tr>\n",
       "      <th class=\"blank level0\" >&nbsp;</th>\n",
       "      <th id=\"T_29348_level0_col0\" class=\"col_heading level0 col0\" >compte</th>\n",
       "      <th id=\"T_29348_level0_col1\" class=\"col_heading level0 col1\" >echantillon</th>\n",
       "      <th id=\"T_29348_level0_col2\" class=\"col_heading level0 col2\" >poids compte</th>\n",
       "      <th id=\"T_29348_level0_col3\" class=\"col_heading level0 col3\" >poids echantillon</th>\n",
       "    </tr>\n",
       "  </thead>\n",
       "  <tbody>\n",
       "    <tr>\n",
       "      <th id=\"T_29348_level0_row0\" class=\"row_heading level0 row0\" >campagne</th>\n",
       "      <td id=\"T_29348_row0_col0\" class=\"data row0 col0\" >26098</td>\n",
       "      <td id=\"T_29348_row0_col1\" class=\"data row0 col1\" >140</td>\n",
       "      <td id=\"T_29348_row0_col2\" class=\"data row0 col2\" >0.67</td>\n",
       "      <td id=\"T_29348_row0_col3\" class=\"data row0 col3\" >0.65</td>\n",
       "    </tr>\n",
       "    <tr>\n",
       "      <th id=\"T_29348_level0_row1\" class=\"row_heading level0 row1\" >urbain</th>\n",
       "      <td id=\"T_29348_row1_col0\" class=\"data row1 col0\" >12991</td>\n",
       "      <td id=\"T_29348_row1_col1\" class=\"data row1 col1\" >77</td>\n",
       "      <td id=\"T_29348_row1_col2\" class=\"data row1 col2\" >0.33</td>\n",
       "      <td id=\"T_29348_row1_col3\" class=\"data row1 col3\" >0.35</td>\n",
       "    </tr>\n",
       "  </tbody>\n",
       "</table>\n"
      ],
      "text/plain": [
       "<pandas.io.formats.style.Styler at 0x7f966d07bd00>"
      ]
     },
     "execution_count": 17,
     "metadata": {},
     "output_type": "execute_result"
    }
   ],
   "source": [
    "sit_total =  add_weight_of_samples(situation_total)\n",
    "add_labels_display(sit_total, \"situation\", situation_name)"
   ]
  },
  {
   "cell_type": "code",
   "execution_count": 18,
   "id": "c53c6ee7-f137-4e8b-a0de-23312fe8ce72",
   "metadata": {},
   "outputs": [
    {
     "data": {
      "text/html": [
       "<style type=\"text/css\">\n",
       "#T_4a234 tr:nth-child(even) {\n",
       "  background-color: rgba(139, 69, 19, 0.08);\n",
       "}\n",
       "#T_4a234 tr:nth-child(odd) {\n",
       "  background: #FFF;\n",
       "}\n",
       "#T_4a234 tr {\n",
       "  font-size: 12px;\n",
       "}\n",
       "#T_4a234 th:nth-child(1) {\n",
       "  background-color: #FFF;\n",
       "}\n",
       "</style>\n",
       "<table id=\"T_4a234\">\n",
       "  <thead>\n",
       "    <tr>\n",
       "      <th class=\"blank level0\" >&nbsp;</th>\n",
       "      <th id=\"T_4a234_level0_col0\" class=\"col_heading level0 col0\" >compte</th>\n",
       "      <th id=\"T_4a234_level0_col1\" class=\"col_heading level0 col1\" >echantillon</th>\n",
       "      <th id=\"T_4a234_level0_col2\" class=\"col_heading level0 col2\" >poids compte</th>\n",
       "      <th id=\"T_4a234_level0_col3\" class=\"col_heading level0 col3\" >poids echantillon</th>\n",
       "    </tr>\n",
       "  </thead>\n",
       "  <tbody>\n",
       "    <tr>\n",
       "      <th id=\"T_4a234_level0_row0\" class=\"row_heading level0 row0\" >E</th>\n",
       "      <td id=\"T_4a234_row0_col0\" class=\"data row0 col0\" >40</td>\n",
       "      <td id=\"T_4a234_row0_col1\" class=\"data row0 col1\" >1</td>\n",
       "      <td id=\"T_4a234_row0_col2\" class=\"data row0 col2\" >0.00</td>\n",
       "      <td id=\"T_4a234_row0_col3\" class=\"data row0 col3\" >0.00</td>\n",
       "    </tr>\n",
       "    <tr>\n",
       "      <th id=\"T_4a234_level0_row1\" class=\"row_heading level0 row1\" >ENE</th>\n",
       "      <td id=\"T_4a234_row1_col0\" class=\"data row1 col0\" >271</td>\n",
       "      <td id=\"T_4a234_row1_col1\" class=\"data row1 col1\" >2</td>\n",
       "      <td id=\"T_4a234_row1_col2\" class=\"data row1 col2\" >0.01</td>\n",
       "      <td id=\"T_4a234_row1_col3\" class=\"data row1 col3\" >0.01</td>\n",
       "    </tr>\n",
       "    <tr>\n",
       "      <th id=\"T_4a234_level0_row2\" class=\"row_heading level0 row2\" >ESE</th>\n",
       "      <td id=\"T_4a234_row2_col0\" class=\"data row2 col0\" >399</td>\n",
       "      <td id=\"T_4a234_row2_col1\" class=\"data row2 col1\" >4</td>\n",
       "      <td id=\"T_4a234_row2_col2\" class=\"data row2 col2\" >0.01</td>\n",
       "      <td id=\"T_4a234_row2_col3\" class=\"data row2 col3\" >0.02</td>\n",
       "    </tr>\n",
       "    <tr>\n",
       "      <th id=\"T_4a234_level0_row3\" class=\"row_heading level0 row3\" >N</th>\n",
       "      <td id=\"T_4a234_row3_col0\" class=\"data row3 col0\" >2380</td>\n",
       "      <td id=\"T_4a234_row3_col1\" class=\"data row3 col1\" >14</td>\n",
       "      <td id=\"T_4a234_row3_col2\" class=\"data row3 col2\" >0.06</td>\n",
       "      <td id=\"T_4a234_row3_col3\" class=\"data row3 col3\" >0.06</td>\n",
       "    </tr>\n",
       "    <tr>\n",
       "      <th id=\"T_4a234_level0_row4\" class=\"row_heading level0 row4\" >NE</th>\n",
       "      <td id=\"T_4a234_row4_col0\" class=\"data row4 col0\" >8158</td>\n",
       "      <td id=\"T_4a234_row4_col1\" class=\"data row4 col1\" >42</td>\n",
       "      <td id=\"T_4a234_row4_col2\" class=\"data row4 col2\" >0.21</td>\n",
       "      <td id=\"T_4a234_row4_col3\" class=\"data row4 col3\" >0.19</td>\n",
       "    </tr>\n",
       "    <tr>\n",
       "      <th id=\"T_4a234_level0_row5\" class=\"row_heading level0 row5\" >NNE</th>\n",
       "      <td id=\"T_4a234_row5_col0\" class=\"data row5 col0\" >1104</td>\n",
       "      <td id=\"T_4a234_row5_col1\" class=\"data row5 col1\" >9</td>\n",
       "      <td id=\"T_4a234_row5_col2\" class=\"data row5 col2\" >0.03</td>\n",
       "      <td id=\"T_4a234_row5_col3\" class=\"data row5 col3\" >0.04</td>\n",
       "    </tr>\n",
       "    <tr>\n",
       "      <th id=\"T_4a234_level0_row6\" class=\"row_heading level0 row6\" >NNO</th>\n",
       "      <td id=\"T_4a234_row6_col0\" class=\"data row6 col0\" >1339</td>\n",
       "      <td id=\"T_4a234_row6_col1\" class=\"data row6 col1\" >10</td>\n",
       "      <td id=\"T_4a234_row6_col2\" class=\"data row6 col2\" >0.03</td>\n",
       "      <td id=\"T_4a234_row6_col3\" class=\"data row6 col3\" >0.05</td>\n",
       "    </tr>\n",
       "    <tr>\n",
       "      <th id=\"T_4a234_level0_row7\" class=\"row_heading level0 row7\" >NO</th>\n",
       "      <td id=\"T_4a234_row7_col0\" class=\"data row7 col0\" >5675</td>\n",
       "      <td id=\"T_4a234_row7_col1\" class=\"data row7 col1\" >25</td>\n",
       "      <td id=\"T_4a234_row7_col2\" class=\"data row7 col2\" >0.15</td>\n",
       "      <td id=\"T_4a234_row7_col3\" class=\"data row7 col3\" >0.12</td>\n",
       "    </tr>\n",
       "    <tr>\n",
       "      <th id=\"T_4a234_level0_row8\" class=\"row_heading level0 row8\" >O</th>\n",
       "      <td id=\"T_4a234_row8_col0\" class=\"data row8 col0\" >1487</td>\n",
       "      <td id=\"T_4a234_row8_col1\" class=\"data row8 col1\" >7</td>\n",
       "      <td id=\"T_4a234_row8_col2\" class=\"data row8 col2\" >0.04</td>\n",
       "      <td id=\"T_4a234_row8_col3\" class=\"data row8 col3\" >0.03</td>\n",
       "    </tr>\n",
       "    <tr>\n",
       "      <th id=\"T_4a234_level0_row9\" class=\"row_heading level0 row9\" >ONO</th>\n",
       "      <td id=\"T_4a234_row9_col0\" class=\"data row9 col0\" >724</td>\n",
       "      <td id=\"T_4a234_row9_col1\" class=\"data row9 col1\" >6</td>\n",
       "      <td id=\"T_4a234_row9_col2\" class=\"data row9 col2\" >0.02</td>\n",
       "      <td id=\"T_4a234_row9_col3\" class=\"data row9 col3\" >0.03</td>\n",
       "    </tr>\n",
       "    <tr>\n",
       "      <th id=\"T_4a234_level0_row10\" class=\"row_heading level0 row10\" >OSO</th>\n",
       "      <td id=\"T_4a234_row10_col0\" class=\"data row10 col0\" >2359</td>\n",
       "      <td id=\"T_4a234_row10_col1\" class=\"data row10 col1\" >16</td>\n",
       "      <td id=\"T_4a234_row10_col2\" class=\"data row10 col2\" >0.06</td>\n",
       "      <td id=\"T_4a234_row10_col3\" class=\"data row10 col3\" >0.07</td>\n",
       "    </tr>\n",
       "    <tr>\n",
       "      <th id=\"T_4a234_level0_row11\" class=\"row_heading level0 row11\" >S</th>\n",
       "      <td id=\"T_4a234_row11_col0\" class=\"data row11 col0\" >4794</td>\n",
       "      <td id=\"T_4a234_row11_col1\" class=\"data row11 col1\" >16</td>\n",
       "      <td id=\"T_4a234_row11_col2\" class=\"data row11 col2\" >0.12</td>\n",
       "      <td id=\"T_4a234_row11_col3\" class=\"data row11 col3\" >0.07</td>\n",
       "    </tr>\n",
       "    <tr>\n",
       "      <th id=\"T_4a234_level0_row12\" class=\"row_heading level0 row12\" >SE</th>\n",
       "      <td id=\"T_4a234_row12_col0\" class=\"data row12 col0\" >895</td>\n",
       "      <td id=\"T_4a234_row12_col1\" class=\"data row12 col1\" >7</td>\n",
       "      <td id=\"T_4a234_row12_col2\" class=\"data row12 col2\" >0.02</td>\n",
       "      <td id=\"T_4a234_row12_col3\" class=\"data row12 col3\" >0.03</td>\n",
       "    </tr>\n",
       "    <tr>\n",
       "      <th id=\"T_4a234_level0_row13\" class=\"row_heading level0 row13\" >SO</th>\n",
       "      <td id=\"T_4a234_row13_col0\" class=\"data row13 col0\" >6289</td>\n",
       "      <td id=\"T_4a234_row13_col1\" class=\"data row13 col1\" >34</td>\n",
       "      <td id=\"T_4a234_row13_col2\" class=\"data row13 col2\" >0.16</td>\n",
       "      <td id=\"T_4a234_row13_col3\" class=\"data row13 col3\" >0.16</td>\n",
       "    </tr>\n",
       "    <tr>\n",
       "      <th id=\"T_4a234_level0_row14\" class=\"row_heading level0 row14\" >SSE</th>\n",
       "      <td id=\"T_4a234_row14_col0\" class=\"data row14 col0\" >1663</td>\n",
       "      <td id=\"T_4a234_row14_col1\" class=\"data row14 col1\" >11</td>\n",
       "      <td id=\"T_4a234_row14_col2\" class=\"data row14 col2\" >0.04</td>\n",
       "      <td id=\"T_4a234_row14_col3\" class=\"data row14 col3\" >0.05</td>\n",
       "    </tr>\n",
       "    <tr>\n",
       "      <th id=\"T_4a234_level0_row15\" class=\"row_heading level0 row15\" >SSO</th>\n",
       "      <td id=\"T_4a234_row15_col0\" class=\"data row15 col0\" >1512</td>\n",
       "      <td id=\"T_4a234_row15_col1\" class=\"data row15 col1\" >13</td>\n",
       "      <td id=\"T_4a234_row15_col2\" class=\"data row15 col2\" >0.04</td>\n",
       "      <td id=\"T_4a234_row15_col3\" class=\"data row15 col3\" >0.06</td>\n",
       "    </tr>\n",
       "  </tbody>\n",
       "</table>\n"
      ],
      "text/plain": [
       "<pandas.io.formats.style.Styler at 0x7f966d087d00>"
      ]
     },
     "execution_count": 18,
     "metadata": {},
     "output_type": "execute_result"
    }
   ],
   "source": [
    "ori_total =  add_weight_of_samples(orient_total)\n",
    "ori_total.set_index(\"orientation\", drop=True, inplace=True)\n",
    "ori_total.index.name = None\n",
    "ori_total.style.format(precision=2).set_table_styles(table_css_styles)"
   ]
  },
  {
   "cell_type": "code",
   "execution_count": 22,
   "id": "2aeefeed-838e-4939-b603-c6eb0d90a866",
   "metadata": {},
   "outputs": [
    {
     "data": {
      "text/html": [
       "<style type=\"text/css\">\n",
       "#T_f458e tr:nth-child(even) {\n",
       "  background-color: rgba(139, 69, 19, 0.08);\n",
       "}\n",
       "#T_f458e tr:nth-child(odd) {\n",
       "  background: #FFF;\n",
       "}\n",
       "#T_f458e tr {\n",
       "  font-size: 12px;\n",
       "}\n",
       "#T_f458e th:nth-child(1) {\n",
       "  background-color: #FFF;\n",
       "}\n",
       "</style>\n",
       "<table id=\"T_f458e\">\n",
       "  <thead>\n",
       "    <tr>\n",
       "      <th class=\"blank level0\" >&nbsp;</th>\n",
       "      <th id=\"T_f458e_level0_col0\" class=\"col_heading level0 col0\" >compte</th>\n",
       "      <th id=\"T_f458e_level0_col1\" class=\"col_heading level0 col1\" >echantillon</th>\n",
       "      <th id=\"T_f458e_level0_col2\" class=\"col_heading level0 col2\" >poids compte</th>\n",
       "      <th id=\"T_f458e_level0_col3\" class=\"col_heading level0 col3\" >poids echantillon</th>\n",
       "    </tr>\n",
       "  </thead>\n",
       "  <tbody>\n",
       "    <tr>\n",
       "      <th id=\"T_f458e_level0_row0\" class=\"row_heading level0 row0\" >fragment rigide</th>\n",
       "      <td id=\"T_f458e_row0_col0\" class=\"data row0 col0\" >5105</td>\n",
       "      <td id=\"T_f458e_row0_col1\" class=\"data row0 col1\" >217</td>\n",
       "      <td id=\"T_f458e_row0_col2\" class=\"data row0 col2\" >0.13</td>\n",
       "      <td id=\"T_f458e_row0_col3\" class=\"data row0 col3\" >1.00</td>\n",
       "    </tr>\n",
       "    <tr>\n",
       "      <th id=\"T_f458e_level0_row1\" class=\"row_heading level0 row1\" >fibre</th>\n",
       "      <td id=\"T_f458e_row1_col0\" class=\"data row1 col0\" >29909</td>\n",
       "      <td id=\"T_f458e_row1_col1\" class=\"data row1 col1\" >217</td>\n",
       "      <td id=\"T_f458e_row1_col2\" class=\"data row1 col2\" >0.77</td>\n",
       "      <td id=\"T_f458e_row1_col3\" class=\"data row1 col3\" >1.00</td>\n",
       "    </tr>\n",
       "    <tr>\n",
       "      <th id=\"T_f458e_level0_row2\" class=\"row_heading level0 row2\" >fragment souple</th>\n",
       "      <td id=\"T_f458e_row2_col0\" class=\"data row2 col0\" >4075</td>\n",
       "      <td id=\"T_f458e_row2_col1\" class=\"data row2 col1\" >217</td>\n",
       "      <td id=\"T_f458e_row2_col2\" class=\"data row2 col2\" >0.10</td>\n",
       "      <td id=\"T_f458e_row2_col3\" class=\"data row2 col3\" >1.00</td>\n",
       "    </tr>\n",
       "  </tbody>\n",
       "</table>\n"
      ],
      "text/plain": [
       "<pandas.io.formats.style.Styler at 0x7f966d081a30>"
      ]
     },
     "execution_count": 22,
     "metadata": {},
     "output_type": "execute_result"
    }
   ],
   "source": [
    "par_total =  add_weight_of_samples(particle_type_total)\n",
    "add_labels_display(par_total, \"particle\", particle_groups)"
   ]
  },
  {
   "cell_type": "code",
   "execution_count": 34,
   "id": "63634653-bc31-441a-818c-8dd8560142c2",
   "metadata": {},
   "outputs": [
    {
     "data": {
      "text/html": [
       "<style type=\"text/css\">\n",
       "#T_99594 tr:nth-child(even) {\n",
       "  background-color: rgba(139, 69, 19, 0.08);\n",
       "}\n",
       "#T_99594 tr:nth-child(odd) {\n",
       "  background: #FFF;\n",
       "}\n",
       "#T_99594 tr {\n",
       "  font-size: 12px;\n",
       "}\n",
       "#T_99594 th:nth-child(1) {\n",
       "  background-color: #FFF;\n",
       "}\n",
       "</style>\n",
       "<table id=\"T_99594\">\n",
       "  <thead>\n",
       "    <tr>\n",
       "      <th class=\"blank level0\" >&nbsp;</th>\n",
       "      <th id=\"T_99594_level0_col0\" class=\"col_heading level0 col0\" >compte</th>\n",
       "      <th id=\"T_99594_level0_col1\" class=\"col_heading level0 col1\" >poids compte</th>\n",
       "    </tr>\n",
       "  </thead>\n",
       "  <tbody>\n",
       "    <tr>\n",
       "      <th id=\"T_99594_level0_row0\" class=\"row_heading level0 row0\" >fibre rouge</th>\n",
       "      <td id=\"T_99594_row0_col0\" class=\"data row0 col0\" >2364</td>\n",
       "      <td id=\"T_99594_row0_col1\" class=\"data row0 col1\" >0.06</td>\n",
       "    </tr>\n",
       "    <tr>\n",
       "      <th id=\"T_99594_level0_row1\" class=\"row_heading level0 row1\" >fibre bleu</th>\n",
       "      <td id=\"T_99594_row1_col0\" class=\"data row1 col0\" >4060</td>\n",
       "      <td id=\"T_99594_row1_col1\" class=\"data row1 col1\" >0.10</td>\n",
       "    </tr>\n",
       "    <tr>\n",
       "      <th id=\"T_99594_level0_row2\" class=\"row_heading level0 row2\" >fibre jaune</th>\n",
       "      <td id=\"T_99594_row2_col0\" class=\"data row2 col0\" >400</td>\n",
       "      <td id=\"T_99594_row2_col1\" class=\"data row2 col1\" >0.01</td>\n",
       "    </tr>\n",
       "    <tr>\n",
       "      <th id=\"T_99594_level0_row3\" class=\"row_heading level0 row3\" >fibre transparent</th>\n",
       "      <td id=\"T_99594_row3_col0\" class=\"data row3 col0\" >16920</td>\n",
       "      <td id=\"T_99594_row3_col1\" class=\"data row3 col1\" >0.43</td>\n",
       "    </tr>\n",
       "    <tr>\n",
       "      <th id=\"T_99594_level0_row4\" class=\"row_heading level0 row4\" >fibre noire</th>\n",
       "      <td id=\"T_99594_row4_col0\" class=\"data row4 col0\" >5892</td>\n",
       "      <td id=\"T_99594_row4_col1\" class=\"data row4 col1\" >0.15</td>\n",
       "    </tr>\n",
       "    <tr>\n",
       "      <th id=\"T_99594_level0_row5\" class=\"row_heading level0 row5\" >fibre autre</th>\n",
       "      <td id=\"T_99594_row5_col0\" class=\"data row5 col0\" >273</td>\n",
       "      <td id=\"T_99594_row5_col1\" class=\"data row5 col1\" >0.01</td>\n",
       "    </tr>\n",
       "    <tr>\n",
       "      <th id=\"T_99594_level0_row6\" class=\"row_heading level0 row6\" >fragment rigide rouge</th>\n",
       "      <td id=\"T_99594_row6_col0\" class=\"data row6 col0\" >955</td>\n",
       "      <td id=\"T_99594_row6_col1\" class=\"data row6 col1\" >0.02</td>\n",
       "    </tr>\n",
       "    <tr>\n",
       "      <th id=\"T_99594_level0_row7\" class=\"row_heading level0 row7\" >fragment rigide bleu</th>\n",
       "      <td id=\"T_99594_row7_col0\" class=\"data row7 col0\" >1400</td>\n",
       "      <td id=\"T_99594_row7_col1\" class=\"data row7 col1\" >0.04</td>\n",
       "    </tr>\n",
       "    <tr>\n",
       "      <th id=\"T_99594_level0_row8\" class=\"row_heading level0 row8\" >fragment rigide jaune</th>\n",
       "      <td id=\"T_99594_row8_col0\" class=\"data row8 col0\" >508</td>\n",
       "      <td id=\"T_99594_row8_col1\" class=\"data row8 col1\" >0.01</td>\n",
       "    </tr>\n",
       "    <tr>\n",
       "      <th id=\"T_99594_level0_row9\" class=\"row_heading level0 row9\" >fragment rigide transparent</th>\n",
       "      <td id=\"T_99594_row9_col0\" class=\"data row9 col0\" >1202</td>\n",
       "      <td id=\"T_99594_row9_col1\" class=\"data row9 col1\" >0.03</td>\n",
       "    </tr>\n",
       "    <tr>\n",
       "      <th id=\"T_99594_level0_row10\" class=\"row_heading level0 row10\" >fragment rigide noire</th>\n",
       "      <td id=\"T_99594_row10_col0\" class=\"data row10 col0\" >802</td>\n",
       "      <td id=\"T_99594_row10_col1\" class=\"data row10 col1\" >0.02</td>\n",
       "    </tr>\n",
       "    <tr>\n",
       "      <th id=\"T_99594_level0_row11\" class=\"row_heading level0 row11\" >fragment rigide autre</th>\n",
       "      <td id=\"T_99594_row11_col0\" class=\"data row11 col0\" >238</td>\n",
       "      <td id=\"T_99594_row11_col1\" class=\"data row11 col1\" >0.01</td>\n",
       "    </tr>\n",
       "    <tr>\n",
       "      <th id=\"T_99594_level0_row12\" class=\"row_heading level0 row12\" >fragment souple rouge</th>\n",
       "      <td id=\"T_99594_row12_col0\" class=\"data row12 col0\" >142</td>\n",
       "      <td id=\"T_99594_row12_col1\" class=\"data row12 col1\" >0.00</td>\n",
       "    </tr>\n",
       "    <tr>\n",
       "      <th id=\"T_99594_level0_row13\" class=\"row_heading level0 row13\" >fragment souple bleu</th>\n",
       "      <td id=\"T_99594_row13_col0\" class=\"data row13 col0\" >175</td>\n",
       "      <td id=\"T_99594_row13_col1\" class=\"data row13 col1\" >0.00</td>\n",
       "    </tr>\n",
       "    <tr>\n",
       "      <th id=\"T_99594_level0_row14\" class=\"row_heading level0 row14\" >fragment souple jaune</th>\n",
       "      <td id=\"T_99594_row14_col0\" class=\"data row14 col0\" >91</td>\n",
       "      <td id=\"T_99594_row14_col1\" class=\"data row14 col1\" >0.00</td>\n",
       "    </tr>\n",
       "    <tr>\n",
       "      <th id=\"T_99594_level0_row15\" class=\"row_heading level0 row15\" >fragment souple transparent</th>\n",
       "      <td id=\"T_99594_row15_col0\" class=\"data row15 col0\" >3382</td>\n",
       "      <td id=\"T_99594_row15_col1\" class=\"data row15 col1\" >0.09</td>\n",
       "    </tr>\n",
       "    <tr>\n",
       "      <th id=\"T_99594_level0_row16\" class=\"row_heading level0 row16\" >fragment souple noire</th>\n",
       "      <td id=\"T_99594_row16_col0\" class=\"data row16 col0\" >248</td>\n",
       "      <td id=\"T_99594_row16_col1\" class=\"data row16 col1\" >0.01</td>\n",
       "    </tr>\n",
       "    <tr>\n",
       "      <th id=\"T_99594_level0_row17\" class=\"row_heading level0 row17\" >fragment souple autre</th>\n",
       "      <td id=\"T_99594_row17_col0\" class=\"data row17 col0\" >37</td>\n",
       "      <td id=\"T_99594_row17_col1\" class=\"data row17 col1\" >0.00</td>\n",
       "    </tr>\n",
       "  </tbody>\n",
       "</table>\n"
      ],
      "text/plain": [
       "<pandas.io.formats.style.Styler at 0x7f966d07ec40>"
      ]
     },
     "execution_count": 34,
     "metadata": {},
     "output_type": "execute_result"
    }
   ],
   "source": [
    "p_t_c = c[name_the_particles.keys()].sum(axis=0)\n",
    "p_t_cdf = pd.DataFrame({\"couleur et type\":p_t_c.index, \"compte\":p_t_c.values})\n",
    "p_t_cdf[\"poids compte\"] = p_t_cdf.compte/tquantity\n",
    "p_t_cdf[\"couleur et type\"] = p_t_cdf[\"couleur et type\"].apply(lambda x: name_the_particles[x])\n",
    "p_t_cdf.set_index(\"couleur et type\", drop=True, inplace=True)\n",
    "p_t_cdf.index.name = None\n",
    "p_t_cdf[\"compte\"] = p_t_cdf.compte.astype(\"int\")\n",
    "p_t_cdf.style.format(precision=2).set_table_styles(table_css_styles)"
   ]
  },
  {
   "cell_type": "code",
   "execution_count": 29,
   "id": "60e4ac86-df04-49a2-820e-bfcec071699c",
   "metadata": {},
   "outputs": [
    {
     "data": {
      "text/html": [
       "<div>\n",
       "<style scoped>\n",
       "    .dataframe tbody tr th:only-of-type {\n",
       "        vertical-align: middle;\n",
       "    }\n",
       "\n",
       "    .dataframe tbody tr th {\n",
       "        vertical-align: top;\n",
       "    }\n",
       "\n",
       "    .dataframe thead th {\n",
       "        text-align: right;\n",
       "    }\n",
       "</style>\n",
       "<table border=\"1\" class=\"dataframe\">\n",
       "  <thead>\n",
       "    <tr style=\"text-align: right;\">\n",
       "      <th></th>\n",
       "      <th>compte</th>\n",
       "      <th>poids compte</th>\n",
       "    </tr>\n",
       "    <tr>\n",
       "      <th>couleur et type</th>\n",
       "      <th></th>\n",
       "      <th></th>\n",
       "    </tr>\n",
       "  </thead>\n",
       "  <tbody>\n",
       "    <tr>\n",
       "      <th>fibre rouge</th>\n",
       "      <td>2364.0</td>\n",
       "      <td>0.060477</td>\n",
       "    </tr>\n",
       "    <tr>\n",
       "      <th>fibre bleu</th>\n",
       "      <td>4060.0</td>\n",
       "      <td>0.103866</td>\n",
       "    </tr>\n",
       "    <tr>\n",
       "      <th>fibre jaune</th>\n",
       "      <td>400.0</td>\n",
       "      <td>0.010233</td>\n",
       "    </tr>\n",
       "    <tr>\n",
       "      <th>fibre transparent</th>\n",
       "      <td>16920.0</td>\n",
       "      <td>0.432858</td>\n",
       "    </tr>\n",
       "    <tr>\n",
       "      <th>fibre noire</th>\n",
       "      <td>5892.0</td>\n",
       "      <td>0.150733</td>\n",
       "    </tr>\n",
       "    <tr>\n",
       "      <th>fibre autre</th>\n",
       "      <td>273.0</td>\n",
       "      <td>0.006984</td>\n",
       "    </tr>\n",
       "    <tr>\n",
       "      <th>fragment rigide rouge</th>\n",
       "      <td>955.0</td>\n",
       "      <td>0.024431</td>\n",
       "    </tr>\n",
       "    <tr>\n",
       "      <th>fragment rigide bleu</th>\n",
       "      <td>1400.0</td>\n",
       "      <td>0.035816</td>\n",
       "    </tr>\n",
       "    <tr>\n",
       "      <th>fragment rigide jaune</th>\n",
       "      <td>508.0</td>\n",
       "      <td>0.012996</td>\n",
       "    </tr>\n",
       "    <tr>\n",
       "      <th>fragment rigide transparent</th>\n",
       "      <td>1202.0</td>\n",
       "      <td>0.030750</td>\n",
       "    </tr>\n",
       "    <tr>\n",
       "      <th>fragment rigide noire</th>\n",
       "      <td>802.0</td>\n",
       "      <td>0.020517</td>\n",
       "    </tr>\n",
       "    <tr>\n",
       "      <th>fragment rigide autre</th>\n",
       "      <td>238.0</td>\n",
       "      <td>0.006089</td>\n",
       "    </tr>\n",
       "    <tr>\n",
       "      <th>fragment souple rouge</th>\n",
       "      <td>142.0</td>\n",
       "      <td>0.003633</td>\n",
       "    </tr>\n",
       "    <tr>\n",
       "      <th>fragment souple bleu</th>\n",
       "      <td>175.0</td>\n",
       "      <td>0.004477</td>\n",
       "    </tr>\n",
       "    <tr>\n",
       "      <th>fragment souple jaune</th>\n",
       "      <td>91.0</td>\n",
       "      <td>0.002328</td>\n",
       "    </tr>\n",
       "    <tr>\n",
       "      <th>fragment souple transparent</th>\n",
       "      <td>3382.0</td>\n",
       "      <td>0.086521</td>\n",
       "    </tr>\n",
       "    <tr>\n",
       "      <th>fragment souple noire</th>\n",
       "      <td>248.0</td>\n",
       "      <td>0.006344</td>\n",
       "    </tr>\n",
       "    <tr>\n",
       "      <th>fragment souple autre</th>\n",
       "      <td>37.0</td>\n",
       "      <td>0.000947</td>\n",
       "    </tr>\n",
       "  </tbody>\n",
       "</table>\n",
       "</div>"
      ],
      "text/plain": [
       "                              compte  poids compte\n",
       "couleur et type                                   \n",
       "fibre rouge                   2364.0      0.060477\n",
       "fibre bleu                    4060.0      0.103866\n",
       "fibre jaune                    400.0      0.010233\n",
       "fibre transparent            16920.0      0.432858\n",
       "fibre noire                   5892.0      0.150733\n",
       "fibre autre                    273.0      0.006984\n",
       "fragment rigide rouge          955.0      0.024431\n",
       "fragment rigide bleu          1400.0      0.035816\n",
       "fragment rigide jaune          508.0      0.012996\n",
       "fragment rigide transparent   1202.0      0.030750\n",
       "fragment rigide noire          802.0      0.020517\n",
       "fragment rigide autre          238.0      0.006089\n",
       "fragment souple rouge          142.0      0.003633\n",
       "fragment souple bleu           175.0      0.004477\n",
       "fragment souple jaune           91.0      0.002328\n",
       "fragment souple transparent   3382.0      0.086521\n",
       "fragment souple noire          248.0      0.006344\n",
       "fragment souple autre           37.0      0.000947"
      ]
     },
     "execution_count": 29,
     "metadata": {},
     "output_type": "execute_result"
    }
   ],
   "source": [
    "p_t_cdf"
   ]
  },
  {
   "cell_type": "code",
   "execution_count": null,
   "id": "6e19818d-a5b9-435e-82d4-cd935ad76af0",
   "metadata": {},
   "outputs": [],
   "source": [
    "c.head()"
   ]
  },
  {
   "cell_type": "code",
   "execution_count": null,
   "id": "79864e91-e590-4d24-8090-e9d4d1ee8adc",
   "metadata": {},
   "outputs": [],
   "source": [
    "work_data.head()"
   ]
  },
  {
   "cell_type": "code",
   "execution_count": null,
   "id": "de2a82e3-0db3-415a-afbe-442c9ad2d831",
   "metadata": {},
   "outputs": [],
   "source": [
    "c.head()"
   ]
  },
  {
   "cell_type": "code",
   "execution_count": null,
   "id": "dad41998-d988-49ef-8c07-b2fa1d4f7f7a",
   "metadata": {},
   "outputs": [],
   "source": [
    "freq_d_to_parking = pd.read_csv(\"data/ignorethese/asl_plages_d.csv\")\n",
    "f_d_t = freq_d_to_parking[[\"echantillon\", \"frequentation\", \"situation\", \"distance\", \"orientation\"]].set_index(\"echantillon\")\n",
    "\n",
    "col_edit = ['Plage', 'Echantillon', 'position', 'substrat', 'fbr',\n",
    "       'fbb', 'fbj', 'fbt', 'fbn', 'fba', 'frr', 'frb', 'frj', 'frt', 'frn',\n",
    "       'fra', 'fsr', 'fsb', 'fsj', 'fst', 'fsn', 'fsa', 'added', 'fibres',\n",
    "       'fdure', 'souple', 'fragments']\n",
    "\n",
    "end_this = c[col_edit].merge(f_d_t, right_index=True, left_on=\"Echantillon\", validate=\"one_to_one\")\n",
    "end_this.to_csv(\"data/end_pipe/micro_results.csv\", index=False)"
   ]
  },
  {
   "cell_type": "markdown",
   "id": "63cd7c58-5a2b-4cd9-b982-f7ca0e0926e5",
   "metadata": {},
   "source": [
    "(section-one-01)=\n",
    "### Comptage moyen par événement par plage\n",
    "\n",
    "#### Toutes variantes confondues. \n",
    "\n",
    "Le nombre moyen pour chaque événement variait de 19 à 180 fragments par échantillon de 5 X 10 X 10 cm. Les événements pour lesquels aucun compte n'a été rapporté ont été retirés de ce test.\n",
    "\n",
    "**Note** Ces chiffres sont-ils complets ? Certains semblent très bas ou toutes les particules n'ont pas encore été comptées ?"
   ]
  },
  {
   "cell_type": "code",
   "execution_count": null,
   "id": "786a4034-962b-444f-9c0b-552a28970735",
   "metadata": {
    "tags": [
     "hide-input"
    ]
   },
   "outputs": [],
   "source": [
    "a_df= work_data.groupby(['Echantillon', 'Plage'], as_index=False)[\"value\"].sum()\n",
    "\n",
    "fig, ax = plt.subplots()\n",
    "\n",
    "sns.boxplot(data=a_df, x=\"Plage\", y=\"value\", hue=\"Plage\", width=.8, ax=ax, dodge=False, showfliers=False)\n",
    "ax.tick_params(axis=\"x\", which=\"both\", labelrotation=90)\n",
    "ax.set_ylabel(\"Particules\", fontsize=12, labelpad=20)\n",
    "ax.legend().remove()\n",
    "ax.set_title(\"La distribution du nombre de fragments par événement et par plage.\\n\", fontsize=14, pad=20)\n",
    "ax.set_xlabel(\" \")\n",
    "ax.margins(x=.9, y=None)\n",
    "plt.tight_layout()\n",
    "\n",
    "plt.show()"
   ]
  },
  {
   "cell_type": "code",
   "execution_count": null,
   "id": "4743445d-1a70-4890-9700-bfa8b235cce1",
   "metadata": {
    "tags": [
     "remove-input"
    ]
   },
   "outputs": [],
   "source": [
    "f = f\"\"\"\n",
    "Le nombre moyen de particules par événement tous les sites et matériaux\n",
    "\n",
    "NOTE: mean = moyen, count=nombre d'événements, std=écart type\n",
    "\n",
    "{a_df.value.describe()} \n",
    "\n",
    "\"\"\"\n",
    "print(f)"
   ]
  },
  {
   "cell_type": "code",
   "execution_count": null,
   "id": "eb93be60-eff7-46ee-acf8-d640ae62e3e9",
   "metadata": {
    "tags": [
     "remove-input"
    ]
   },
   "outputs": [],
   "source": [
    "f = f\"\"\" \n",
    "Le nombre moyen de particules par événement et par plage\n",
    "\n",
    "{a_df.groupby(\"Plage\").value.mean()}\n",
    "\n",
    "\"\"\"\n",
    "print(f)\n"
   ]
  },
  {
   "cell_type": "markdown",
   "id": "cfb89a54-ef3e-4688-8987-b07074da83a7",
   "metadata": {},
   "source": [
    "(section-two-01)=\n",
    "### Comparaison du nombre de particules trouvées par matériau et par emplacement sur la plage.\n",
    "\n",
    "Même s'il semble qu'il y ait plus de particules sur la plage-sèche, cela peut être dû à quelques événements seulement. Le matériau souple a été identifié le moins souvent, et cela semble se généraliser à tous les événements."
   ]
  },
  {
   "cell_type": "code",
   "execution_count": null,
   "id": "52b09f15-379c-48b7-bf66-c75dd167e0ee",
   "metadata": {
    "tags": [
     "hide-input"
    ]
   },
   "outputs": [],
   "source": [
    "a_df= work_data.groupby([\"Echantillon\",\"position\", \"variable\"], as_index=False)[\"value\"].sum()\n",
    "\n",
    "fig, axs = plt.subplots(1, 2, figsize=(10,6), sharey=True)\n",
    "\n",
    "ax = sns.scatterplot(data=a_df, x=\"Echantillon\", y=\"value\", hue=\"position\", palette=zone_palette, ax=axs[0], style=\"variable\")\n",
    "ax.xaxis.set_ticklabels([])\n",
    "ax.grid(axis='x')\n",
    "ax.set_xlabel(\"Événement\")\n",
    "ax.set_ylabel(\"Fragments\", fontsize=12, labelpad=14)\n",
    "ax.legend(loc=\"upper left\")\n",
    "\n",
    "axOne = axs[1]\n",
    "sns.boxplot(data=a_df, x=\"variable\", y=\"value\", hue=\"position\", palette=zone_palette, width=.8, ax=axOne, dodge=True)\n",
    "axOne.tick_params(axis=\"x\", which=\"both\", labelrotation=90)\n",
    "axOne.set_ylabel(\" \")\n",
    "axOne.set_xlabel(\" \")\n",
    "axOne.margins(x=.9, y=None)\n",
    "\n",
    "plt.suptitle(\"Comparaison entre le type de matériel le ligne d'eau et le fond de la plage. \", fontsize=14, y=.98)\n",
    "plt.tight_layout()\n",
    "\n",
    "ax.set_ylim(-1, 1000)\n",
    "\n",
    "plt.show()"
   ]
  },
  {
   "cell_type": "code",
   "execution_count": null,
   "id": "a586b529-f17e-4943-b408-34a204272591",
   "metadata": {
    "tags": [
     "remove-input"
    ]
   },
   "outputs": [],
   "source": [
    "f = f\"\"\" \n",
    "Le nombre moyen de particules par zone et matériel\n",
    "\n",
    "{a_df.groupby([\"position\", \"variable\"], as_index=False).value.mean()}\n",
    "\n",
    "\"\"\"\n",
    "print(f)"
   ]
  },
  {
   "cell_type": "markdown",
   "id": "d16b4572-3e8e-4c15-b279-19a454912c00",
   "metadata": {},
   "source": [
    "(section-three-01)=\n",
    "### Ligne d'eau et arrière de la plage\n",
    "\n",
    "On peut voir ici que les valeurs de la plage-sèche ne proviennent que de quelques endroits. Nous allons attendre jusqu'à ce que les comptages arrivent pour ces endroits.\n",
    "\n",
    "Cependant, les méthodes d'analyse peuvent toujours être testées sur les données de la ligne d'eau. Nous allons également combiner le matériel fragmenté en un seul groupe \"fragments\"."
   ]
  },
  {
   "cell_type": "code",
   "execution_count": null,
   "id": "9283a296-503e-4250-941f-e9bc533629ef",
   "metadata": {
    "tags": [
     "hide-input"
    ]
   },
   "outputs": [],
   "source": [
    "a_df = work_data.groupby([\"Echantillon\",\"Plage\",\"position\"], as_index=False)[\"value\"].sum()\n",
    "\n",
    "fig, ax = plt.subplots(figsize=(8,6))\n",
    "\n",
    "sns.boxplot(data=a_df, x=\"Plage\", y=\"value\", hue=\"position\", palette=zone_palette, width=0.8, ax=ax, dodge=True)\n",
    "ax.tick_params(axis=\"x\", which=\"both\", labelrotation=90)\n",
    "ax.set_ylabel(\"Fibres + fragments\", fontsize=12, labelpad=20)\n",
    "ax.legend(loc=\"upper center\")\n",
    "ax.set_title(\"La distribution du nombre de fragments (fibres + fragments) de chaque plage.\\nComparaison entre la ligne d'eau et le fond de la plage. \", fontsize=14, pad=20)\n",
    "ax.set_xlabel(\" \")\n",
    "ax.margins(x=.9, y=None)\n",
    "plt.tight_layout()\n",
    "plt.show()"
   ]
  },
  {
   "cell_type": "markdown",
   "id": "6106eb57-a1c1-46e9-a193-e165035600af",
   "metadata": {},
   "source": [
    "### Ligne d'eau comparée à la plage-sèche tous types de matériaux et plages confondus."
   ]
  },
  {
   "cell_type": "code",
   "execution_count": null,
   "id": "7e957e5a-4aca-47cf-b630-07aae063a6e0",
   "metadata": {
    "tags": [
     "hide-input"
    ]
   },
   "outputs": [],
   "source": [
    "fig, ax = plt.subplots()\n",
    "\n",
    "sns.boxplot(data=a_df[[ \"position\", \"value\"]], x= \"position\", y=\"value\", hue= \"position\", palette=zone_palette, width=.6, ax=ax, dodge=False, showfliers=False)\n",
    "ax.tick_params(axis=\"x\", which=\"both\", labelrotation=90)\n",
    "ax.set_ylabel(\"Fibres + fragments\", fontsize=12, labelpad=20)\n",
    "ax.legend(loc=\"upper center\")\n",
    "ax.set_title(\"La distribution du nombre de fragments (fibres + fragments).\\nComparaison entre la ligne d'eau et le fond de la plage.\", fontsize=14, pad=20)\n",
    "ax.set_xlabel(\" \")\n",
    "ax.margins(x=.9, y=None)\n",
    "plt.tight_layout()\n",
    "plt.show()"
   ]
  },
  {
   "cell_type": "markdown",
   "id": "886b5ad7-d4a0-47f7-b557-1ad4e2d7efe6",
   "metadata": {},
   "source": [
    "(section-four-01)=\n",
    "### La fonction de répartition\n",
    "\n",
    "Même s'il y a un nombre différent d'échantillons et quelques valeurs extrêmes. Les deux zones de plage ont des distributions cumulatives très similaires."
   ]
  },
  {
   "cell_type": "code",
   "execution_count": null,
   "id": "fa88af9a-12de-4cf6-8538-0edaa2469ebe",
   "metadata": {
    "tags": [
     "hide-input"
    ]
   },
   "outputs": [],
   "source": [
    "fig, axs = plt.subplots(1,2, sharey=False)\n",
    "\n",
    "sns.ecdfplot(data=work_data, x=\"value\",  ax=axs[1], hue= \"position\", palette=zone_palette)\n",
    "sns.histplot(data=work_data, x=\"value\",  ax=axs[0], hue= \"position\", stat=\"probability\", palette=zone_palette)\n",
    "axs[0].set_ylabel(\"probabilité\", labelpad=15)\n",
    "axs[1].set_ylabel(\"probabilité\", labelpad=15)\n",
    "axs[0].set_xlabel(\"Fibres + fragments\", labelpad=15)\n",
    "axs[1].set_xlabel(\"Fibres + fragments\", labelpad=15)\n",
    "plt.tight_layout()\n",
    "plt.show()"
   ]
  },
  {
   "cell_type": "markdown",
   "id": "7f248a48-33ff-4631-bbef-242907afa26f",
   "metadata": {},
   "source": [
    "(section-five-01)=\n",
    "## Analyse de variance: position, substrat"
   ]
  },
  {
   "cell_type": "markdown",
   "id": "f93d61d9-1621-4777-9103-52d6602fb95c",
   "metadata": {},
   "source": [
    "### Total cumulé de tous les types de fragments"
   ]
  },
  {
   "cell_type": "code",
   "execution_count": null,
   "id": "cb5b159c-2388-4d78-99da-4f35dce5f23e",
   "metadata": {
    "tags": [
     "hide-input"
    ]
   },
   "outputs": [],
   "source": [
    "di_data = work_data.groupby([\"Plage\", \"Echantillon\", \"orientation\", \"position\", \"substrat\"], as_index=False).value.sum()"
   ]
  },
  {
   "cell_type": "code",
   "execution_count": null,
   "id": "8f2467b2-403f-41a9-8cb1-083126e08d30",
   "metadata": {
    "tags": [
     "hide-input"
    ]
   },
   "outputs": [],
   "source": [
    "fig, ax = plt.subplots()\n",
    "# sns.scatterplot(data=work_data, x=\"substrat\", y=\"value\",  hue=\"position\", palette=zone_palette)\n",
    "sns.boxplot(data=di_data, x=\"substrat\", y=\"value\",  hue=\"position\", palette=zone_palette)\n",
    "ax.set_ylim(-1, 2000)\n",
    "plt.show()"
   ]
  },
  {
   "cell_type": "code",
   "execution_count": null,
   "id": "6d35d8c4-94fc-4856-8523-c66f9bee7557",
   "metadata": {},
   "outputs": [],
   "source": [
    "di_data.position.unique()"
   ]
  },
  {
   "cell_type": "markdown",
   "id": "67419b06-9553-4133-8da7-b8034af0747b",
   "metadata": {},
   "source": [
    "#### Résultats moindres carrés ordinaires"
   ]
  },
  {
   "cell_type": "code",
   "execution_count": null,
   "id": "cebdf1ba-0ec8-435b-85b3-3983102a75bd",
   "metadata": {
    "tags": [
     "hide-input"
    ]
   },
   "outputs": [],
   "source": [
    "model = ols('value ~ C(position)', data=di_data).fit()\n",
    "\n",
    "model.summary()\n"
   ]
  },
  {
   "cell_type": "code",
   "execution_count": null,
   "id": "b93bdea3-c877-44ee-92c1-4f37f662c47b",
   "metadata": {},
   "outputs": [],
   "source": [
    "anova_lm(model)"
   ]
  },
  {
   "cell_type": "markdown",
   "id": "2a85da27-5e01-4132-9910-d7bd9a5c124b",
   "metadata": {},
   "source": [
    "### Total cumulé de fibres"
   ]
  },
  {
   "cell_type": "code",
   "execution_count": null,
   "id": "28e43b0d-c992-482a-a94f-1533a8bfe968",
   "metadata": {
    "tags": [
     "hide-input"
    ]
   },
   "outputs": [],
   "source": [
    "di = work_data[work_data.variable == \"fibres\"].groupby([\"Plage\", \"Echantillon\", \"orientation\", \"position\", \"substrat\"], as_index=False).value.sum()\n",
    "fig, ax = plt.subplots()\n",
    "# sns.scatterplot(data=work_data, x=\"substrat\", y=\"value\",  hue=\"position\", palette=zone_palette)\n",
    "sns.boxplot(data=di, x=\"substrat\", y=\"value\",  hue=\"position\", palette=zone_palette)\n",
    "ax.set_ylim(-1, 1000)\n",
    "plt.show()"
   ]
  },
  {
   "cell_type": "markdown",
   "id": "aa1d5025-2201-47f8-87ee-ed291a2b5813",
   "metadata": {},
   "source": [
    "#### Résultats moindres carrés ordinaires"
   ]
  },
  {
   "cell_type": "code",
   "execution_count": null,
   "id": "64cb67d1-043a-4f93-98bc-e2b9da7f43ea",
   "metadata": {
    "tags": [
     "hide-input"
    ]
   },
   "outputs": [],
   "source": [
    "model = ols('value ~ C(position) + C(substrat)', data=di).fit()\n",
    "\n",
    "model.summary()\n"
   ]
  },
  {
   "cell_type": "code",
   "execution_count": null,
   "id": "6f48c9f6-c7e4-47e0-80ee-f8fc557735b2",
   "metadata": {},
   "outputs": [],
   "source": [
    "anova_lm(model)"
   ]
  },
  {
   "cell_type": "markdown",
   "id": "9fd1982b-5864-43e6-9755-9f9a700f99e6",
   "metadata": {},
   "source": [
    "### Total cumulé de fragments dure"
   ]
  },
  {
   "cell_type": "code",
   "execution_count": null,
   "id": "d72bc639-a651-44fc-b582-a26e93af189d",
   "metadata": {
    "tags": [
     "hide-input"
    ]
   },
   "outputs": [],
   "source": [
    "di = work_data[work_data.variable == \"fdure\"].groupby([\"Plage\", \"Echantillon\", \"orientation\", \"position\", \"substrat\"], as_index=False).value.sum()\n",
    "fig, ax = plt.subplots()\n",
    "# sns.scatterplot(data=work_data, x=\"substrat\", y=\"value\",  hue=\"position\", palette=zone_palette)\n",
    "sns.boxplot(data=di, x=\"substrat\", y=\"value\",  hue=\"position\", palette=zone_palette)\n",
    "ax.set_ylim(-1, 500)\n",
    "plt.show()"
   ]
  },
  {
   "cell_type": "markdown",
   "id": "6bd4e41a-390b-4665-aecd-8fc84189b159",
   "metadata": {
    "tags": []
   },
   "source": [
    "#### Résultats moindres carrés ordinaires"
   ]
  },
  {
   "cell_type": "code",
   "execution_count": null,
   "id": "a9e6c546-fab6-499d-b585-ba6a86c08854",
   "metadata": {
    "tags": [
     "hide-input"
    ]
   },
   "outputs": [],
   "source": [
    "model = ols('value ~ C(position) + C(substrat)', data=di).fit()\n",
    "\n",
    "model.summary()"
   ]
  },
  {
   "cell_type": "code",
   "execution_count": null,
   "id": "3063f1de-00b3-41f6-ae03-8b44fa518cae",
   "metadata": {},
   "outputs": [],
   "source": [
    "anova_lm(model)"
   ]
  },
  {
   "cell_type": "markdown",
   "id": "ef8cc85e-29d1-46fd-bd18-c9c3632ad0ea",
   "metadata": {},
   "source": [
    "### Total cumulé de fragments souple"
   ]
  },
  {
   "cell_type": "code",
   "execution_count": null,
   "id": "d60a9137-d6fc-4322-82ad-9fdd0fe822be",
   "metadata": {
    "tags": [
     "hide-input"
    ]
   },
   "outputs": [],
   "source": [
    "di = work_data[work_data.variable == \"souple\"].groupby([\"Plage\", \"Echantillon\", \"orientation\", \"position\", \"substrat\"], as_index=False).value.sum()\n",
    "fig, ax = plt.subplots()\n",
    "# sns.scatterplot(data=work_data, x=\"substrat\", y=\"value\",  hue=\"position\", palette=zone_palette)\n",
    "sns.boxplot(data=di, x=\"substrat\", y=\"value\",  hue=\"position\", palette=zone_palette)\n",
    "ax.set_ylim(-1, 200)\n",
    "plt.show()"
   ]
  },
  {
   "cell_type": "markdown",
   "id": "8a5cb988-f1c4-4bfd-ac64-a03c5346c9e0",
   "metadata": {
    "tags": []
   },
   "source": [
    "#### Résultats moindres carrés ordinaires"
   ]
  },
  {
   "cell_type": "code",
   "execution_count": null,
   "id": "10ba0470-3c77-448c-829e-85289ad8fefe",
   "metadata": {
    "tags": [
     "hide-input"
    ]
   },
   "outputs": [],
   "source": [
    "model = ols('value ~ C(position) + C(substrat)', data=di).fit()\n",
    "\n",
    "model.summary()"
   ]
  },
  {
   "cell_type": "code",
   "execution_count": null,
   "id": "ff917487-ba8a-444d-ad8f-3d9422086244",
   "metadata": {},
   "outputs": [],
   "source": [
    "anova_lm(model)"
   ]
  },
  {
   "cell_type": "markdown",
   "id": "87ff877f-8290-4f2a-87b2-e5b1632eb25e",
   "metadata": {},
   "source": [
    "### Lieux avec un substrat de classe 3"
   ]
  },
  {
   "cell_type": "code",
   "execution_count": null,
   "id": "8dabf6c1-30bb-41db-a1c0-2039e002739a",
   "metadata": {},
   "outputs": [],
   "source": [
    "', '.join(work_data[work_data.substrat == 3].Plage.unique())"
   ]
  },
  {
   "cell_type": "code",
   "execution_count": null,
   "id": "e922947b-7e9c-48ab-8d5c-e2a85792fe78",
   "metadata": {},
   "outputs": [],
   "source": []
  }
 ],
 "metadata": {
  "kernelspec": {
   "display_name": "Python 3 (ipykernel)",
   "language": "python",
   "name": "python3"
  },
  "language_info": {
   "codemirror_mode": {
    "name": "ipython",
    "version": 3
   },
   "file_extension": ".py",
   "mimetype": "text/x-python",
   "name": "python",
   "nbconvert_exporter": "python",
   "pygments_lexer": "ipython3",
   "version": "3.9.16"
  }
 },
 "nbformat": 4,
 "nbformat_minor": 5
}
